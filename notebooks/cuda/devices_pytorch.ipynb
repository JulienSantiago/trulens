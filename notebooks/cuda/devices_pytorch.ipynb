{
 "cells": [
  {
   "cell_type": "markdown",
   "metadata": {},
   "source": [
    "This notebook tests whether trulens plays well with pytorch when there are multiple CUDA devices available. It has to run on a computer with at least 2 CUDA devices."
   ]
  },
  {
   "cell_type": "code",
   "execution_count": null,
   "metadata": {},
   "outputs": [],
   "source": [
    "%load_ext autoreload\n",
    "%autoreload 2"
   ]
  },
  {
   "cell_type": "code",
   "execution_count": null,
   "metadata": {},
   "outputs": [],
   "source": [
    "import sys\n",
    "\n",
    "# Use this if running this notebook from within its place in the truera repository.\n",
    "sys.path.insert(0, \"../..\")\n",
    "\n",
    "# Or otherwise install trulens.\n",
    "# !{sys.executable} -m pip install trulens torch\n",
    "\n",
    "import torch\n",
    "\n",
    "assert torch.cuda.device_count() >= 2, f\"need at least 2 cuda devices to run this test, have {torch.cuda.device_count()}\""
   ]
  },
  {
   "cell_type": "code",
   "execution_count": null,
   "metadata": {},
   "outputs": [],
   "source": [
    "class Trivial(torch.nn.Module):\n",
    "    def __init__(self):\n",
    "        super().__init__()\n",
    "\n",
    "        # make sure there is at least 1 parameter in this model\n",
    "        self.softmax = torch.nn.Linear(in_features=1, out_features=1)\n",
    "\n",
    "torch.cuda.set_device(1)\n",
    "device = torch.device(\"cuda\", 1)\n",
    "model = Trivial().to(device)"
   ]
  },
  {
   "cell_type": "code",
   "execution_count": null,
   "metadata": {},
   "outputs": [],
   "source": [
    "def check_device():\n",
    "    \"\"\"\n",
    "    Assert that the model parameters' device is the same as the one we set it to above.\n",
    "    \"\"\"\n",
    "    for p in model.parameters():\n",
    "        assert p.device.type == device.type and p.device.index == device.index, f\"Expected model to be on device {device} but got some parameters on {p.device}.\"\n",
    "    print(\"all good\")\n",
    "\n",
    "# Check model's device before importing and wrapping it using trulens.\n",
    "print(\"pre import\")\n",
    "check_device()\n",
    "\n",
    "from trulens.nn.models import get_model_wrapper\n",
    "\n",
    "# Check model's device after importing trulens.\n",
    "print(\"post import\")\n",
    "check_device()\n",
    "wrapper = get_model_wrapper(model)\n",
    "\n",
    "# Finally check after wrapping.\n",
    "print(\"post wrap\")\n",
    "check_device()"
   ]
  },
  {
   "cell_type": "code",
   "execution_count": null,
   "metadata": {},
   "outputs": [],
   "source": []
  }
 ],
 "metadata": {
  "anaconda-cloud": {},
  "kernelspec": {
   "display_name": "Python 3.8.9 64-bit",
   "language": "python",
   "name": "python3"
  },
  "language_info": {
   "codemirror_mode": {
    "name": "ipython",
    "version": 3
   },
   "file_extension": ".py",
   "mimetype": "text/x-python",
   "name": "python",
   "nbconvert_exporter": "python",
   "pygments_lexer": "ipython3",
   "version": "3.8.9"
  },
  "vscode": {
   "interpreter": {
    "hash": "31f2aee4e71d21fbe5cf8b01ff0e069b9275f58929596ceb00d14d90e3e16cd6"
   }
  }
 },
 "nbformat": 4,
 "nbformat_minor": 2
}
