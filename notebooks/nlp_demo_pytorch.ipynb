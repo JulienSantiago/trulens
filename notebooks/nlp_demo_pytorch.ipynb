{
 "cells": [
  {
   "cell_type": "code",
   "execution_count": 1,
   "metadata": {},
   "outputs": [],
   "source": [
    "%load_ext autoreload\n",
    "%autoreload 2"
   ]
  },
  {
   "cell_type": "code",
   "execution_count": 2,
   "metadata": {},
   "outputs": [
    {
     "name": "stdout",
     "output_type": "stream",
     "text": [
      "Requirement already satisfied: torch in /home/piotrm/anaconda3/envs/python37_pytorch_cuda/lib/python3.7/site-packages (1.11.0+cu113)\n",
      "Requirement already satisfied: typing-extensions in /home/piotrm/anaconda3/envs/python37_pytorch_cuda/lib/python3.7/site-packages (from torch) (4.1.1)\n",
      "Requirement already satisfied: transformers in /home/piotrm/anaconda3/envs/python37_pytorch_cuda/lib/python3.7/site-packages (4.17.0)\n",
      "Requirement already satisfied: numpy>=1.17 in /home/piotrm/anaconda3/envs/python37_pytorch_cuda/lib/python3.7/site-packages (from transformers) (1.21.5)\n",
      "Requirement already satisfied: tokenizers!=0.11.3,>=0.11.1 in /home/piotrm/anaconda3/envs/python37_pytorch_cuda/lib/python3.7/site-packages (from transformers) (0.11.6)\n",
      "Requirement already satisfied: regex!=2019.12.17 in /home/piotrm/anaconda3/envs/python37_pytorch_cuda/lib/python3.7/site-packages (from transformers) (2022.3.15)\n",
      "Requirement already satisfied: packaging>=20.0 in /home/piotrm/anaconda3/envs/python37_pytorch_cuda/lib/python3.7/site-packages (from transformers) (21.3)\n",
      "Requirement already satisfied: tqdm>=4.27 in /home/piotrm/anaconda3/envs/python37_pytorch_cuda/lib/python3.7/site-packages (from transformers) (4.64.0)\n",
      "Requirement already satisfied: importlib-metadata in /home/piotrm/anaconda3/envs/python37_pytorch_cuda/lib/python3.7/site-packages (from transformers) (4.11.3)\n",
      "Requirement already satisfied: requests in /home/piotrm/anaconda3/envs/python37_pytorch_cuda/lib/python3.7/site-packages (from transformers) (2.27.1)\n",
      "Requirement already satisfied: sacremoses in /home/piotrm/anaconda3/envs/python37_pytorch_cuda/lib/python3.7/site-packages (from transformers) (0.0.49)\n",
      "Requirement already satisfied: filelock in /home/piotrm/anaconda3/envs/python37_pytorch_cuda/lib/python3.7/site-packages (from transformers) (3.6.0)\n",
      "Requirement already satisfied: huggingface-hub<1.0,>=0.1.0 in /home/piotrm/anaconda3/envs/python37_pytorch_cuda/lib/python3.7/site-packages (from transformers) (0.4.0)\n",
      "Requirement already satisfied: pyyaml>=5.1 in /home/piotrm/anaconda3/envs/python37_pytorch_cuda/lib/python3.7/site-packages (from transformers) (6.0)\n",
      "Requirement already satisfied: typing-extensions>=3.7.4.3 in /home/piotrm/anaconda3/envs/python37_pytorch_cuda/lib/python3.7/site-packages (from huggingface-hub<1.0,>=0.1.0->transformers) (4.1.1)\n",
      "Requirement already satisfied: pyparsing!=3.0.5,>=2.0.2 in /home/piotrm/anaconda3/envs/python37_pytorch_cuda/lib/python3.7/site-packages (from packaging>=20.0->transformers) (3.0.7)\n",
      "Requirement already satisfied: zipp>=0.5 in /home/piotrm/anaconda3/envs/python37_pytorch_cuda/lib/python3.7/site-packages (from importlib-metadata->transformers) (3.7.0)\n",
      "Requirement already satisfied: charset-normalizer~=2.0.0 in /home/piotrm/anaconda3/envs/python37_pytorch_cuda/lib/python3.7/site-packages (from requests->transformers) (2.0.12)\n",
      "Requirement already satisfied: urllib3<1.27,>=1.21.1 in /home/piotrm/anaconda3/envs/python37_pytorch_cuda/lib/python3.7/site-packages (from requests->transformers) (1.26.9)\n",
      "Requirement already satisfied: idna<4,>=2.5 in /home/piotrm/anaconda3/envs/python37_pytorch_cuda/lib/python3.7/site-packages (from requests->transformers) (3.3)\n",
      "Requirement already satisfied: certifi>=2017.4.17 in /home/piotrm/anaconda3/envs/python37_pytorch_cuda/lib/python3.7/site-packages (from requests->transformers) (2021.10.8)\n",
      "Requirement already satisfied: joblib in /home/piotrm/anaconda3/envs/python37_pytorch_cuda/lib/python3.7/site-packages (from sacremoses->transformers) (1.1.0)\n",
      "Requirement already satisfied: six in /home/piotrm/anaconda3/envs/python37_pytorch_cuda/lib/python3.7/site-packages (from sacremoses->transformers) (1.16.0)\n",
      "Requirement already satisfied: click in /home/piotrm/anaconda3/envs/python37_pytorch_cuda/lib/python3.7/site-packages (from sacremoses->transformers) (8.0.4)\n",
      "Collecting git+https://github.com/truera/trulens.git\n",
      "  Cloning https://github.com/truera/trulens.git to /tmp/pip-req-build-_vpj8uxb\n",
      "  Running command git clone -q https://github.com/truera/trulens.git /tmp/pip-req-build-_vpj8uxb\n",
      "  Resolved https://github.com/truera/trulens.git to commit 5bbaee75c18d5c35c84b02ea4a31506073045333\n"
     ]
    }
   ],
   "source": [
    "import sys\n",
    "\n",
    "# Use this if running this notebook from within its place in the truera repository.\n",
    "sys.path.insert(0, \"..\")\n",
    "\n",
    "# Install transformers / huggingface.\n",
    "!{sys.executable} -m pip install torch\n",
    "!{sys.executable} -m pip install transformers\n",
    "\n",
    "# Or otherwise install trulens.\n",
    "!{sys.executable} -m pip install git+https://github.com/truera/trulens.git\n",
    "\n",
    "from IPython.display import display\n",
    "import torch"
   ]
  },
  {
   "cell_type": "markdown",
   "metadata": {},
   "source": [
    "# Twitter Sentiment Model\n",
    "\n",
    "[Huggingface](https://huggingface.co/models) offers a variety of pre-trained NLP models to explore. We exemplify in this notebook a [transformer-based twitter sentiment classification model](https://huggingface.co/cardiffnlp/twitter-roberta-base-sentiment). Before getting started, familiarize yourself with the general Truera API as demonstrated in the [intro notebook using pytorch](intro_demo_pytorch.ipynb)."
   ]
  },
  {
   "cell_type": "code",
   "execution_count": 3,
   "metadata": {},
   "outputs": [],
   "source": [
    "from transformers import AutoModelForSequenceClassification\n",
    "from transformers import AutoTokenizer\n",
    "\n",
    "# Wrap all of the necessary components.\n",
    "class TwitterSentiment:\n",
    "    MODEL = f\"cardiffnlp/twitter-roberta-base-sentiment\"\n",
    "\n",
    "    # device = 'cpu'\n",
    "    # Can also use cuda if available:\n",
    "    device = 'cuda:0'\n",
    "\n",
    "    model = AutoModelForSequenceClassification.from_pretrained(MODEL).to(device)\n",
    "    tokenizer = AutoTokenizer.from_pretrained(MODEL)\n",
    "    labels = ['negative', 'neutral', 'positive']\n",
    "\n",
    "    NEGATIVE = labels.index('negative')\n",
    "    NEUTRAL = labels.index('neutral')\n",
    "    POSITIVE = labels.index('positive')\n",
    "\n",
    "task = TwitterSentiment()"
   ]
  },
  {
   "cell_type": "markdown",
   "metadata": {},
   "source": [
    "This model quantifies tweets (or really any text you give it) according to its sentiment: positive, negative, or neutral. Lets try it out on some examples."
   ]
  },
  {
   "cell_type": "code",
   "execution_count": 4,
   "metadata": {},
   "outputs": [
    {
     "name": "stdout",
     "output_type": "stream",
     "text": [
      "{'input_ids': tensor([[   0,  100,  437,   98, 1372,  328,    2,    1,    1,    1,    1,    1,\n",
      "            1],\n",
      "        [   0,  100,  437,   98, 5074,  328,    2,    1,    1,    1,    1,    1,\n",
      "            1],\n",
      "        [   0,  100, 1395, 1137,  549,   38,  197,   28, 1372,   50, 5074,  328,\n",
      "            2],\n",
      "        [   0, 1794,  298,    2,    1,    1,    1,    1,    1,    1,    1,    1,\n",
      "            1]], device='cuda:0'), 'attention_mask': tensor([[1, 1, 1, 1, 1, 1, 1, 0, 0, 0, 0, 0, 0],\n",
      "        [1, 1, 1, 1, 1, 1, 1, 0, 0, 0, 0, 0, 0],\n",
      "        [1, 1, 1, 1, 1, 1, 1, 1, 1, 1, 1, 1, 1],\n",
      "        [1, 1, 1, 1, 0, 0, 0, 0, 0, 0, 0, 0, 0]], device='cuda:0')}\n",
      "['<s>', 'I', \"'m\", ' so', ' happy', '!', '</s>', '<pad>', '<pad>', '<pad>', '<pad>', '<pad>', '<pad>', '<s>', 'I', \"'m\", ' so', ' sad', '!', '</s>', '<pad>', '<pad>', '<pad>', '<pad>', '<pad>', '<pad>', '<s>', 'I', ' cannot', ' tell', ' whether', ' I', ' should', ' be', ' happy', ' or', ' sad', '!', '</s>', '<s>', 'me', 'h', '</s>', '<pad>', '<pad>', '<pad>', '<pad>', '<pad>', '<pad>', '<pad>', '<pad>', '<pad>']\n"
     ]
    }
   ],
   "source": [
    "sentences = [\"I'm so happy!\", \"I'm so sad!\", \"I cannot tell whether I should be happy or sad!\", \"meh\"]\n",
    "\n",
    "# Input sentences need to be tokenized first.\n",
    "\n",
    "inputs = task.tokenizer(sentences, padding=True, return_tensors=\"pt\").to(task.device) # pt refers to pytorch tensor\n",
    "\n",
    "# The tokenizer gives us vocabulary indexes for each input token (in this case,\n",
    "# words and some word parts like the \"'m\" part of \"I'm\" are tokens).\n",
    "\n",
    "print(inputs)\n",
    "\n",
    "# Decode helps inspecting the tokenization produced:\n",
    "\n",
    "print(task.tokenizer.batch_decode(torch.flatten(inputs['input_ids'])))\n",
    "# Normally decode would give us a single string for each sentence but we would\n",
    "# not be able to see some of the non-word tokens there. Flattening first gives\n",
    "# us a string for each input_id."
   ]
  },
  {
   "cell_type": "markdown",
   "metadata": {},
   "source": [
    "Evaluating huggingface models is straight-forward if we use the structure produced by the tokenizer."
   ]
  },
  {
   "cell_type": "code",
   "execution_count": 5,
   "metadata": {},
   "outputs": [
    {
     "name": "stdout",
     "output_type": "stream",
     "text": [
      "SequenceClassifierOutput(loss=None, logits=tensor([[-2.3217, -0.8768,  4.0710],\n",
      "        [ 2.5739, -0.4017, -2.1467],\n",
      "        [ 0.5975,  0.3778, -0.7691],\n",
      "        [-0.2266,  0.6009, -0.2009]], device='cuda:0',\n",
      "       grad_fn=<AddmmBackward0>), hidden_states=None, attentions=None)\n",
      "[-2.3217494 -0.8767669  4.071023 ] positive I'm so happy!\n",
      "[ 2.57388   -0.4016831 -2.1467047] negative I'm so sad!\n",
      "[ 0.5975013   0.37778223 -0.7691222 ] negative I cannot tell whether I should be happy or sad!\n",
      "[-0.2265977  0.6009302 -0.2008718] neutral meh\n"
     ]
    }
   ],
   "source": [
    "outputs = task.model(**inputs)\n",
    "\n",
    "print(outputs)\n",
    "\n",
    "# From logits we can extract the most likely class for each sentence and its readable label.\n",
    "\n",
    "predictions = [task.labels[i] for i in outputs.logits.argmax(axis=1)]\n",
    "\n",
    "for sentence, logits, prediction in zip(sentences, outputs.logits, predictions):\n",
    "    print(logits.to('cpu').detach().numpy(), prediction, sentence)"
   ]
  },
  {
   "cell_type": "markdown",
   "metadata": {},
   "source": [
    "# Model Wrapper\n",
    "\n",
    "As in the prior notebooks, we need to wrap the pytorch model with the appropriate Trulens functionality. Here we specify the maximum input size (in terms of tokens) each tweet may have."
   ]
  },
  {
   "cell_type": "code",
   "execution_count": 6,
   "metadata": {},
   "outputs": [
    {
     "name": "stderr",
     "output_type": "stream",
     "text": [
      "INFO: lib level=1\n",
      "INFO: root level=30\n",
      "INFO: Detected pytorch backend for <class 'transformers.models.roberta.modeling_roberta.RobertaForSequenceClassification'>.\n",
      "INFO: Changing backend from None to Backend.PYTORCH.\n",
      "INFO: If this seems incorrect, you can force the correct backend by passing the `backend` parameter directly into your get_model_wrapper call.\n",
      "DEBUG: Input dtype was not passed in. Defaulting to `torch.float32`.\n"
     ]
    }
   ],
   "source": [
    "from trulens.nn.models import get_model_wrapper\n",
    "from trulens.nn.quantities import ClassQoI\n",
    "from trulens.nn.attribution import IntegratedGradients\n",
    "from trulens.nn.attribution import Cut, OutputCut\n",
    "from trulens.utils.typing import ModelInputs\n",
    "\n",
    "task.wrapper = get_model_wrapper(task.model, input_shape=(None, task.tokenizer.model_max_length), device=task.device)"
   ]
  },
  {
   "cell_type": "markdown",
   "metadata": {
    "nbpresent": {
     "id": "4ed9c783-b745-4c6a-b674-d8b6935dd62d"
    }
   },
   "source": [
    "# Attributions\n",
    "\n",
    "Applying integrated gradents to the sentiment model is similar as in the prior notebooks except special considerations need to be made for the cuts used as the targets of the attribution (i.e. what do we want to assign importance to). As you may have noted above, the model takes as input integer indexes associated with tokens. As we cannot take gradient with respect to these, we use an alternative: the embedding representation of those same inputs. To instantiate trulens with this regard, we need to find inspect the layer names inside our model:"
   ]
  },
  {
   "cell_type": "code",
   "execution_count": 7,
   "metadata": {},
   "outputs": [
    {
     "name": "stdout",
     "output_type": "stream",
     "text": [
      "'roberta_embeddings_word_embeddings':\tEmbedding(50265, 768, padding_idx=1)\n",
      "'roberta_embeddings_position_embeddings':\tEmbedding(514, 768, padding_idx=1)\n",
      "'roberta_embeddings_token_type_embeddings':\tEmbedding(1, 768)\n",
      "'roberta_embeddings_LayerNorm':\tLayerNorm((768,), eps=1e-05, elementwise_affine=True)\n",
      "'roberta_embeddings_dropout':\tDropout(p=0.1, inplace=False)\n",
      "'roberta_encoder_layer_0_attention_self_query':\tLinear(in_features=768, out_features=768, bias=True)\n",
      "'roberta_encoder_layer_0_attention_self_key':\tLinear(in_features=768, out_features=768, bias=True)\n",
      "'roberta_encoder_layer_0_attention_self_value':\tLinear(in_features=768, out_features=768, bias=True)\n",
      "'roberta_encoder_layer_0_attention_self_dropout':\tDropout(p=0.1, inplace=False)\n",
      "'roberta_encoder_layer_0_attention_output_dense':\tLinear(in_features=768, out_features=768, bias=True)\n",
      "'roberta_encoder_layer_0_attention_output_LayerNorm':\tLayerNorm((768,), eps=1e-05, elementwise_affine=True)\n",
      "'roberta_encoder_layer_0_attention_output_dropout':\tDropout(p=0.1, inplace=False)\n",
      "'roberta_encoder_layer_0_intermediate_dense':\tLinear(in_features=768, out_features=3072, bias=True)\n",
      "'roberta_encoder_layer_0_intermediate_intermediate_act_fn':\tGELUActivation()\n",
      "'roberta_encoder_layer_0_output_dense':\tLinear(in_features=3072, out_features=768, bias=True)\n",
      "'roberta_encoder_layer_0_output_LayerNorm':\tLayerNorm((768,), eps=1e-05, elementwise_affine=True)\n",
      "'roberta_encoder_layer_0_output_dropout':\tDropout(p=0.1, inplace=False)\n",
      "'roberta_encoder_layer_1_attention_self_query':\tLinear(in_features=768, out_features=768, bias=True)\n",
      "'roberta_encoder_layer_1_attention_self_key':\tLinear(in_features=768, out_features=768, bias=True)\n",
      "'roberta_encoder_layer_1_attention_self_value':\tLinear(in_features=768, out_features=768, bias=True)\n",
      "'roberta_encoder_layer_1_attention_self_dropout':\tDropout(p=0.1, inplace=False)\n",
      "'roberta_encoder_layer_1_attention_output_dense':\tLinear(in_features=768, out_features=768, bias=True)\n",
      "'roberta_encoder_layer_1_attention_output_LayerNorm':\tLayerNorm((768,), eps=1e-05, elementwise_affine=True)\n",
      "'roberta_encoder_layer_1_attention_output_dropout':\tDropout(p=0.1, inplace=False)\n",
      "'roberta_encoder_layer_1_intermediate_dense':\tLinear(in_features=768, out_features=3072, bias=True)\n",
      "'roberta_encoder_layer_1_intermediate_intermediate_act_fn':\tGELUActivation()\n",
      "'roberta_encoder_layer_1_output_dense':\tLinear(in_features=3072, out_features=768, bias=True)\n",
      "'roberta_encoder_layer_1_output_LayerNorm':\tLayerNorm((768,), eps=1e-05, elementwise_affine=True)\n",
      "'roberta_encoder_layer_1_output_dropout':\tDropout(p=0.1, inplace=False)\n",
      "'roberta_encoder_layer_2_attention_self_query':\tLinear(in_features=768, out_features=768, bias=True)\n",
      "'roberta_encoder_layer_2_attention_self_key':\tLinear(in_features=768, out_features=768, bias=True)\n",
      "'roberta_encoder_layer_2_attention_self_value':\tLinear(in_features=768, out_features=768, bias=True)\n",
      "'roberta_encoder_layer_2_attention_self_dropout':\tDropout(p=0.1, inplace=False)\n",
      "'roberta_encoder_layer_2_attention_output_dense':\tLinear(in_features=768, out_features=768, bias=True)\n",
      "'roberta_encoder_layer_2_attention_output_LayerNorm':\tLayerNorm((768,), eps=1e-05, elementwise_affine=True)\n",
      "'roberta_encoder_layer_2_attention_output_dropout':\tDropout(p=0.1, inplace=False)\n",
      "'roberta_encoder_layer_2_intermediate_dense':\tLinear(in_features=768, out_features=3072, bias=True)\n",
      "'roberta_encoder_layer_2_intermediate_intermediate_act_fn':\tGELUActivation()\n",
      "'roberta_encoder_layer_2_output_dense':\tLinear(in_features=3072, out_features=768, bias=True)\n",
      "'roberta_encoder_layer_2_output_LayerNorm':\tLayerNorm((768,), eps=1e-05, elementwise_affine=True)\n",
      "'roberta_encoder_layer_2_output_dropout':\tDropout(p=0.1, inplace=False)\n",
      "'roberta_encoder_layer_3_attention_self_query':\tLinear(in_features=768, out_features=768, bias=True)\n",
      "'roberta_encoder_layer_3_attention_self_key':\tLinear(in_features=768, out_features=768, bias=True)\n",
      "'roberta_encoder_layer_3_attention_self_value':\tLinear(in_features=768, out_features=768, bias=True)\n",
      "'roberta_encoder_layer_3_attention_self_dropout':\tDropout(p=0.1, inplace=False)\n",
      "'roberta_encoder_layer_3_attention_output_dense':\tLinear(in_features=768, out_features=768, bias=True)\n",
      "'roberta_encoder_layer_3_attention_output_LayerNorm':\tLayerNorm((768,), eps=1e-05, elementwise_affine=True)\n",
      "'roberta_encoder_layer_3_attention_output_dropout':\tDropout(p=0.1, inplace=False)\n",
      "'roberta_encoder_layer_3_intermediate_dense':\tLinear(in_features=768, out_features=3072, bias=True)\n",
      "'roberta_encoder_layer_3_intermediate_intermediate_act_fn':\tGELUActivation()\n",
      "'roberta_encoder_layer_3_output_dense':\tLinear(in_features=3072, out_features=768, bias=True)\n",
      "'roberta_encoder_layer_3_output_LayerNorm':\tLayerNorm((768,), eps=1e-05, elementwise_affine=True)\n",
      "'roberta_encoder_layer_3_output_dropout':\tDropout(p=0.1, inplace=False)\n",
      "'roberta_encoder_layer_4_attention_self_query':\tLinear(in_features=768, out_features=768, bias=True)\n",
      "'roberta_encoder_layer_4_attention_self_key':\tLinear(in_features=768, out_features=768, bias=True)\n",
      "'roberta_encoder_layer_4_attention_self_value':\tLinear(in_features=768, out_features=768, bias=True)\n",
      "'roberta_encoder_layer_4_attention_self_dropout':\tDropout(p=0.1, inplace=False)\n",
      "'roberta_encoder_layer_4_attention_output_dense':\tLinear(in_features=768, out_features=768, bias=True)\n",
      "'roberta_encoder_layer_4_attention_output_LayerNorm':\tLayerNorm((768,), eps=1e-05, elementwise_affine=True)\n",
      "'roberta_encoder_layer_4_attention_output_dropout':\tDropout(p=0.1, inplace=False)\n",
      "'roberta_encoder_layer_4_intermediate_dense':\tLinear(in_features=768, out_features=3072, bias=True)\n",
      "'roberta_encoder_layer_4_intermediate_intermediate_act_fn':\tGELUActivation()\n",
      "'roberta_encoder_layer_4_output_dense':\tLinear(in_features=3072, out_features=768, bias=True)\n",
      "'roberta_encoder_layer_4_output_LayerNorm':\tLayerNorm((768,), eps=1e-05, elementwise_affine=True)\n",
      "'roberta_encoder_layer_4_output_dropout':\tDropout(p=0.1, inplace=False)\n",
      "'roberta_encoder_layer_5_attention_self_query':\tLinear(in_features=768, out_features=768, bias=True)\n",
      "'roberta_encoder_layer_5_attention_self_key':\tLinear(in_features=768, out_features=768, bias=True)\n",
      "'roberta_encoder_layer_5_attention_self_value':\tLinear(in_features=768, out_features=768, bias=True)\n",
      "'roberta_encoder_layer_5_attention_self_dropout':\tDropout(p=0.1, inplace=False)\n",
      "'roberta_encoder_layer_5_attention_output_dense':\tLinear(in_features=768, out_features=768, bias=True)\n",
      "'roberta_encoder_layer_5_attention_output_LayerNorm':\tLayerNorm((768,), eps=1e-05, elementwise_affine=True)\n",
      "'roberta_encoder_layer_5_attention_output_dropout':\tDropout(p=0.1, inplace=False)\n",
      "'roberta_encoder_layer_5_intermediate_dense':\tLinear(in_features=768, out_features=3072, bias=True)\n",
      "'roberta_encoder_layer_5_intermediate_intermediate_act_fn':\tGELUActivation()\n",
      "'roberta_encoder_layer_5_output_dense':\tLinear(in_features=3072, out_features=768, bias=True)\n",
      "'roberta_encoder_layer_5_output_LayerNorm':\tLayerNorm((768,), eps=1e-05, elementwise_affine=True)\n",
      "'roberta_encoder_layer_5_output_dropout':\tDropout(p=0.1, inplace=False)\n",
      "'roberta_encoder_layer_6_attention_self_query':\tLinear(in_features=768, out_features=768, bias=True)\n",
      "'roberta_encoder_layer_6_attention_self_key':\tLinear(in_features=768, out_features=768, bias=True)\n",
      "'roberta_encoder_layer_6_attention_self_value':\tLinear(in_features=768, out_features=768, bias=True)\n",
      "'roberta_encoder_layer_6_attention_self_dropout':\tDropout(p=0.1, inplace=False)\n",
      "'roberta_encoder_layer_6_attention_output_dense':\tLinear(in_features=768, out_features=768, bias=True)\n",
      "'roberta_encoder_layer_6_attention_output_LayerNorm':\tLayerNorm((768,), eps=1e-05, elementwise_affine=True)\n",
      "'roberta_encoder_layer_6_attention_output_dropout':\tDropout(p=0.1, inplace=False)\n",
      "'roberta_encoder_layer_6_intermediate_dense':\tLinear(in_features=768, out_features=3072, bias=True)\n",
      "'roberta_encoder_layer_6_intermediate_intermediate_act_fn':\tGELUActivation()\n",
      "'roberta_encoder_layer_6_output_dense':\tLinear(in_features=3072, out_features=768, bias=True)\n",
      "'roberta_encoder_layer_6_output_LayerNorm':\tLayerNorm((768,), eps=1e-05, elementwise_affine=True)\n",
      "'roberta_encoder_layer_6_output_dropout':\tDropout(p=0.1, inplace=False)\n",
      "'roberta_encoder_layer_7_attention_self_query':\tLinear(in_features=768, out_features=768, bias=True)\n",
      "'roberta_encoder_layer_7_attention_self_key':\tLinear(in_features=768, out_features=768, bias=True)\n",
      "'roberta_encoder_layer_7_attention_self_value':\tLinear(in_features=768, out_features=768, bias=True)\n",
      "'roberta_encoder_layer_7_attention_self_dropout':\tDropout(p=0.1, inplace=False)\n",
      "'roberta_encoder_layer_7_attention_output_dense':\tLinear(in_features=768, out_features=768, bias=True)\n",
      "'roberta_encoder_layer_7_attention_output_LayerNorm':\tLayerNorm((768,), eps=1e-05, elementwise_affine=True)\n",
      "'roberta_encoder_layer_7_attention_output_dropout':\tDropout(p=0.1, inplace=False)\n",
      "'roberta_encoder_layer_7_intermediate_dense':\tLinear(in_features=768, out_features=3072, bias=True)\n",
      "'roberta_encoder_layer_7_intermediate_intermediate_act_fn':\tGELUActivation()\n",
      "'roberta_encoder_layer_7_output_dense':\tLinear(in_features=3072, out_features=768, bias=True)\n",
      "'roberta_encoder_layer_7_output_LayerNorm':\tLayerNorm((768,), eps=1e-05, elementwise_affine=True)\n",
      "'roberta_encoder_layer_7_output_dropout':\tDropout(p=0.1, inplace=False)\n",
      "'roberta_encoder_layer_8_attention_self_query':\tLinear(in_features=768, out_features=768, bias=True)\n",
      "'roberta_encoder_layer_8_attention_self_key':\tLinear(in_features=768, out_features=768, bias=True)\n",
      "'roberta_encoder_layer_8_attention_self_value':\tLinear(in_features=768, out_features=768, bias=True)\n",
      "'roberta_encoder_layer_8_attention_self_dropout':\tDropout(p=0.1, inplace=False)\n",
      "'roberta_encoder_layer_8_attention_output_dense':\tLinear(in_features=768, out_features=768, bias=True)\n",
      "'roberta_encoder_layer_8_attention_output_LayerNorm':\tLayerNorm((768,), eps=1e-05, elementwise_affine=True)\n",
      "'roberta_encoder_layer_8_attention_output_dropout':\tDropout(p=0.1, inplace=False)\n",
      "'roberta_encoder_layer_8_intermediate_dense':\tLinear(in_features=768, out_features=3072, bias=True)\n",
      "'roberta_encoder_layer_8_intermediate_intermediate_act_fn':\tGELUActivation()\n",
      "'roberta_encoder_layer_8_output_dense':\tLinear(in_features=3072, out_features=768, bias=True)\n",
      "'roberta_encoder_layer_8_output_LayerNorm':\tLayerNorm((768,), eps=1e-05, elementwise_affine=True)\n",
      "'roberta_encoder_layer_8_output_dropout':\tDropout(p=0.1, inplace=False)\n",
      "'roberta_encoder_layer_9_attention_self_query':\tLinear(in_features=768, out_features=768, bias=True)\n",
      "'roberta_encoder_layer_9_attention_self_key':\tLinear(in_features=768, out_features=768, bias=True)\n",
      "'roberta_encoder_layer_9_attention_self_value':\tLinear(in_features=768, out_features=768, bias=True)\n",
      "'roberta_encoder_layer_9_attention_self_dropout':\tDropout(p=0.1, inplace=False)\n",
      "'roberta_encoder_layer_9_attention_output_dense':\tLinear(in_features=768, out_features=768, bias=True)\n",
      "'roberta_encoder_layer_9_attention_output_LayerNorm':\tLayerNorm((768,), eps=1e-05, elementwise_affine=True)\n",
      "'roberta_encoder_layer_9_attention_output_dropout':\tDropout(p=0.1, inplace=False)\n",
      "'roberta_encoder_layer_9_intermediate_dense':\tLinear(in_features=768, out_features=3072, bias=True)\n",
      "'roberta_encoder_layer_9_intermediate_intermediate_act_fn':\tGELUActivation()\n",
      "'roberta_encoder_layer_9_output_dense':\tLinear(in_features=3072, out_features=768, bias=True)\n",
      "'roberta_encoder_layer_9_output_LayerNorm':\tLayerNorm((768,), eps=1e-05, elementwise_affine=True)\n",
      "'roberta_encoder_layer_9_output_dropout':\tDropout(p=0.1, inplace=False)\n",
      "'roberta_encoder_layer_10_attention_self_query':\tLinear(in_features=768, out_features=768, bias=True)\n",
      "'roberta_encoder_layer_10_attention_self_key':\tLinear(in_features=768, out_features=768, bias=True)\n",
      "'roberta_encoder_layer_10_attention_self_value':\tLinear(in_features=768, out_features=768, bias=True)\n",
      "'roberta_encoder_layer_10_attention_self_dropout':\tDropout(p=0.1, inplace=False)\n",
      "'roberta_encoder_layer_10_attention_output_dense':\tLinear(in_features=768, out_features=768, bias=True)\n",
      "'roberta_encoder_layer_10_attention_output_LayerNorm':\tLayerNorm((768,), eps=1e-05, elementwise_affine=True)\n",
      "'roberta_encoder_layer_10_attention_output_dropout':\tDropout(p=0.1, inplace=False)\n",
      "'roberta_encoder_layer_10_intermediate_dense':\tLinear(in_features=768, out_features=3072, bias=True)\n",
      "'roberta_encoder_layer_10_intermediate_intermediate_act_fn':\tGELUActivation()\n",
      "'roberta_encoder_layer_10_output_dense':\tLinear(in_features=3072, out_features=768, bias=True)\n",
      "'roberta_encoder_layer_10_output_LayerNorm':\tLayerNorm((768,), eps=1e-05, elementwise_affine=True)\n",
      "'roberta_encoder_layer_10_output_dropout':\tDropout(p=0.1, inplace=False)\n",
      "'roberta_encoder_layer_11_attention_self_query':\tLinear(in_features=768, out_features=768, bias=True)\n",
      "'roberta_encoder_layer_11_attention_self_key':\tLinear(in_features=768, out_features=768, bias=True)\n",
      "'roberta_encoder_layer_11_attention_self_value':\tLinear(in_features=768, out_features=768, bias=True)\n",
      "'roberta_encoder_layer_11_attention_self_dropout':\tDropout(p=0.1, inplace=False)\n",
      "'roberta_encoder_layer_11_attention_output_dense':\tLinear(in_features=768, out_features=768, bias=True)\n",
      "'roberta_encoder_layer_11_attention_output_LayerNorm':\tLayerNorm((768,), eps=1e-05, elementwise_affine=True)\n",
      "'roberta_encoder_layer_11_attention_output_dropout':\tDropout(p=0.1, inplace=False)\n",
      "'roberta_encoder_layer_11_intermediate_dense':\tLinear(in_features=768, out_features=3072, bias=True)\n",
      "'roberta_encoder_layer_11_intermediate_intermediate_act_fn':\tGELUActivation()\n",
      "'roberta_encoder_layer_11_output_dense':\tLinear(in_features=3072, out_features=768, bias=True)\n",
      "'roberta_encoder_layer_11_output_LayerNorm':\tLayerNorm((768,), eps=1e-05, elementwise_affine=True)\n",
      "'roberta_encoder_layer_11_output_dropout':\tDropout(p=0.1, inplace=False)\n",
      "'classifier_dense':\tLinear(in_features=768, out_features=768, bias=True)\n",
      "'classifier_dropout':\tDropout(p=0.1, inplace=False)\n",
      "'classifier_out_proj':\tLinear(in_features=768, out_features=3, bias=True)\n"
     ]
    }
   ],
   "source": [
    "task.wrapper.print_layer_names()"
   ]
  },
  {
   "cell_type": "markdown",
   "metadata": {},
   "source": [
    "## Parameters\n",
    "\n",
    "Above, `roberta_embeddings_word_embeddings` is the layer that produces a continuous representation of each input token so we will use that layer as the one defining the **distribution of interest**. While most neural NLP models contain a token embedding, the layer name will differ.\n",
    "\n",
    "The second thing to note is the form of model outputs. Specifically, outputs are structures which contain a 'logits' attribute that stores the model scores.\n",
    "\n",
    "Putting these things together, we instantiate `IntegratedGradients` to attribute each embedding dimension to the maximum class (i.e. the predicted class)."
   ]
  },
  {
   "cell_type": "code",
   "execution_count": 8,
   "metadata": {},
   "outputs": [],
   "source": [
    "infl_max = IntegratedGradients(\n",
    "    model = task.wrapper,\n",
    "    doi_cut=Cut('roberta_embeddings_word_embeddings'),\n",
    "    qoi_cut=OutputCut(accessor=lambda o: o['logits'])\n",
    ")"
   ]
  },
  {
   "cell_type": "code",
   "execution_count": 9,
   "metadata": {},
   "outputs": [],
   "source": [
    "# Alternatively we can look at a particular class:\n",
    "\n",
    "infl_positive = IntegratedGradients(\n",
    "    model = task.wrapper,\n",
    "    doi_cut=Cut('roberta_embeddings_word_embeddings'),\n",
    "    qoi=ClassQoI(task.POSITIVE),\n",
    "    qoi_cut=OutputCut(accessor=lambda o: o['logits'])\n",
    ")"
   ]
  },
  {
   "cell_type": "markdown",
   "metadata": {},
   "source": [
    "Getting attributions uses the same call as model evaluation."
   ]
  },
  {
   "cell_type": "code",
   "execution_count": 10,
   "metadata": {},
   "outputs": [
    {
     "name": "stdout",
     "output_type": "stream",
     "text": [
      "<s>(0.057) I(0.202) 'm(0.221)  so(0.280)  happy(0.506) !(0.106) </s>(-0.079) <pad>(0.000) <pad>(0.000) <pad>(0.000) <pad>(0.000) <pad>(0.000) <pad>(0.000) \n",
      "<s>(0.022) I(0.038) 'm(-0.143)  so(0.170)  sad(-0.016) !(-0.146) </s>(-0.031) <pad>(0.000) <pad>(0.000) <pad>(0.000) <pad>(0.000) <pad>(0.000) <pad>(0.000) \n",
      "<s>(-0.028) I(0.002)  cannot(-0.236)  tell(-0.018)  whether(0.125)  I(-0.065)  should(0.021)  be(-0.048)  happy(-0.132)  or(-0.156)  sad(-0.452) !(-0.160) </s>(0.004) \n",
      "<s>(0.041) me(-0.258) h(-0.384) </s>(-0.090) <pad>(0.000) <pad>(0.000) <pad>(0.000) <pad>(0.000) <pad>(0.000) <pad>(0.000) <pad>(0.000) <pad>(0.000) <pad>(0.000) \n"
     ]
    }
   ],
   "source": [
    "attrs = infl_max.attributions(**inputs)\n",
    "\n",
    "for token_ids, token_attr in zip(inputs['input_ids'], attrs):\n",
    "    for token_id, token_attr in zip(token_ids, token_attr):\n",
    "        # Not that each `word_attr` has a magnitude for each of the embedding\n",
    "        # dimensions, of which there are many. We aggregate them for easier\n",
    "        # interpretation and display.\n",
    "        attr = token_attr.sum()\n",
    "\n",
    "        word = task.tokenizer.decode(token_id)\n",
    "\n",
    "        print(f\"{word}({attr:0.3f})\", end=' ')\n",
    "\n",
    "    print()"
   ]
  },
  {
   "cell_type": "markdown",
   "metadata": {},
   "source": [
    "A listing as above is not very readable so Trulens comes with some utilities to present token influences a bit more concisely. First we need to set up a few parameters to make use of it:"
   ]
  },
  {
   "cell_type": "code",
   "execution_count": 11,
   "metadata": {},
   "outputs": [
    {
     "name": "stdout",
     "output_type": "stream",
     "text": [
      "QOI = MAX PREDICTION\n"
     ]
    },
    {
     "data": {
      "text/html": [
       "<html><body><div style=\"padding: 5px; maring: 0px; background: black;\"><span style=\"color: white;\">scale:</span>&nbsp;<span title=\"-1.000\" style=\"border-top: 0px solid rgba(0, 0, 0, 0); border-bottom: 10px solid rgba(255.0, 0.0, 0.0, 255.0); margin-left 1px; margin-right: 1px; background: black; color=white;\"><span style=\"color: white;\">-1.0</span></span><span title=\"-0.900\" style=\"border-top: 0px solid rgba(0, 0, 0, 0); border-bottom: 9px solid rgba(255.0, 25.499999999999993, 25.499999999999993, 255.0); margin-left 1px; margin-right: 1px; background: black; color=white;\"><span style=\"color: white;\">-0.9</span></span><span title=\"-0.800\" style=\"border-top: 0px solid rgba(0, 0, 0, 0); border-bottom: 8px solid rgba(255.0, 50.999999999999986, 50.999999999999986, 255.0); margin-left 1px; margin-right: 1px; background: black; color=white;\"><span style=\"color: white;\">-0.8</span></span><span title=\"-0.700\" style=\"border-top: 0px solid rgba(0, 0, 0, 0); border-bottom: 7px solid rgba(255.0, 76.50000000000001, 76.50000000000001, 255.0); margin-left 1px; margin-right: 1px; background: black; color=white;\"><span style=\"color: white;\">-0.7</span></span><span title=\"-0.600\" style=\"border-top: 0px solid rgba(0, 0, 0, 0); border-bottom: 6px solid rgba(255.0, 102.0, 102.0, 255.0); margin-left 1px; margin-right: 1px; background: black; color=white;\"><span style=\"color: white;\">-0.6</span></span><span title=\"-0.500\" style=\"border-top: 0px solid rgba(0, 0, 0, 0); border-bottom: 5px solid rgba(255.0, 127.5, 127.5, 255.0); margin-left 1px; margin-right: 1px; background: black; color=white;\"><span style=\"color: white;\">-0.5</span></span><span title=\"-0.400\" style=\"border-top: 0px solid rgba(0, 0, 0, 0); border-bottom: 4px solid rgba(255.0, 153.0, 153.0, 255.0); margin-left 1px; margin-right: 1px; background: black; color=white;\"><span style=\"color: white;\">-0.4</span></span><span title=\"-0.300\" style=\"border-top: 0px solid rgba(0, 0, 0, 0); border-bottom: 3px solid rgba(255.0, 178.5, 178.5, 255.0); margin-left 1px; margin-right: 1px; background: black; color=white;\"><span style=\"color: white;\">-0.3</span></span><span title=\"-0.200\" style=\"border-top: 0px solid rgba(0, 0, 0, 0); border-bottom: 2px solid rgba(255.0, 204.0, 204.0, 255.0); margin-left 1px; margin-right: 1px; background: black; color=white;\"><span style=\"color: white;\">-0.2</span></span><span title=\"-0.100\" style=\"border-top: 0px solid rgba(0, 0, 0, 0); border-bottom: 1px solid rgba(255.0, 229.5, 229.5, 255.0); margin-left 1px; margin-right: 1px; background: black; color=white;\"><span style=\"color: white;\">-0.1</span></span><span title=\"0.000\" style=\"border-top: 0px solid rgba(0, 0, 0, 0); border-bottom: 0px solid rgba(255.0, 255.0, 255.0, 255.0); margin-left 1px; margin-right: 1px; background: black; color=white;\"><span style=\"color: white;\">0.0</span></span><span title=\"0.100\" style=\"border-top: 1px solid rgba(229.5, 255.0, 229.5, 255.0); border-bottom: 0px solid rgba(0, 0, 0, 0); margin-left 1px; margin-right: 1px; background: black; color=white;\"><span style=\"color: white;\">+0.1</span></span><span title=\"0.200\" style=\"border-top: 2px solid rgba(204.0, 255.0, 204.0, 255.0); border-bottom: 0px solid rgba(0, 0, 0, 0); margin-left 1px; margin-right: 1px; background: black; color=white;\"><span style=\"color: white;\">+0.2</span></span><span title=\"0.300\" style=\"border-top: 3px solid rgba(178.5, 255.0, 178.5, 255.0); border-bottom: 0px solid rgba(0, 0, 0, 0); margin-left 1px; margin-right: 1px; background: black; color=white;\"><span style=\"color: white;\">+0.3</span></span><span title=\"0.400\" style=\"border-top: 4px solid rgba(153.0, 255.0, 153.0, 255.0); border-bottom: 0px solid rgba(0, 0, 0, 0); margin-left 1px; margin-right: 1px; background: black; color=white;\"><span style=\"color: white;\">+0.4</span></span><span title=\"0.500\" style=\"border-top: 5px solid rgba(127.5, 255.0, 127.5, 255.0); border-bottom: 0px solid rgba(0, 0, 0, 0); margin-left 1px; margin-right: 1px; background: black; color=white;\"><span style=\"color: white;\">+0.5</span></span><span title=\"0.600\" style=\"border-top: 6px solid rgba(102.0, 255.0, 102.0, 255.0); border-bottom: 0px solid rgba(0, 0, 0, 0); margin-left 1px; margin-right: 1px; background: black; color=white;\"><span style=\"color: white;\">+0.6</span></span><span title=\"0.700\" style=\"border-top: 7px solid rgba(76.50000000000001, 255.0, 76.50000000000001, 255.0); border-bottom: 0px solid rgba(0, 0, 0, 0); margin-left 1px; margin-right: 1px; background: black; color=white;\"><span style=\"color: white;\">+0.7</span></span><span title=\"0.800\" style=\"border-top: 8px solid rgba(50.999999999999986, 255.0, 50.999999999999986, 255.0); border-bottom: 0px solid rgba(0, 0, 0, 0); margin-left 1px; margin-right: 1px; background: black; color=white;\"><span style=\"color: white;\">+0.8</span></span><span title=\"0.900\" style=\"border-top: 9px solid rgba(25.499999999999993, 255.0, 25.499999999999993, 255.0); border-bottom: 0px solid rgba(0, 0, 0, 0); margin-left 1px; margin-right: 1px; background: black; color=white;\"><span style=\"color: white;\">+0.9</span></span><span title=\"1.000\" style=\"border-top: 10px solid rgba(0.0, 255.0, 0.0, 255.0); border-bottom: 0px solid rgba(0, 0, 0, 0); margin-left 1px; margin-right: 1px; background: black; color=white;\"><span style=\"color: white;\">+1.0</span></span></div><br/><br/><div style=\"padding: 5px; maring: 0px; background: black;\"><div style=\"padding: 5px; maring: 0px; background: black;\"><span style=\"color: rgba(0, 100, 100, 1.0);\">MaxClassQoI</span>&nbsp;<span style=\"padding: 2px; border: 2px solid rgba(0, 100, 100, 1.0);\"><span title=\"0.002\" style=\"border-top: 0px solid rgba(254.57694088399876, 255.0, 254.57694088399876, 255.0); border-bottom: 0px solid rgba(0, 0, 0, 0); margin-left 1px; margin-right: 1px; background: black; color=white;\"><span style=\"color: white;\">negative</span></span></span>&nbsp;<span style=\"padding: 2px; border: 2px solid rgba(0, 100, 100, 1.0);\"><span title=\"0.007\" style=\"border-top: 0px solid rgba(253.20547718089074, 255.0, 253.20547718089074, 255.0); border-bottom: 0px solid rgba(0, 0, 0, 0); margin-left 1px; margin-right: 1px; background: black; color=white;\"><span style=\"color: white;\">neutral</span></span></span>&nbsp;<span style=\"padding: 2px; border: 2px solid white;\"><span style=\"padding: 2px; border: 2px solid rgba(0, 100, 100, 1.0);\"><span title=\"0.991\" style=\"border-top: 9px solid rgba(2.217591404914856, 255.0, 2.217591404914856, 255.0); border-bottom: 0px solid rgba(0, 0, 0, 0); margin-left 1px; margin-right: 1px; background: black; color=white;\"><span style=\"color: white;\">positive</span></span></span></span><span title=\"0.057\" style=\"border-top: 0px solid rgba(240.34187234938145, 255.0, 240.34187234938145, 255.0); border-bottom: 0px solid rgba(0, 0, 0, 0); margin-left 1px; margin-right: 1px; background: black; color=white;\"><span style=\"color: white;\">&lt;s&gt;</span></span><span title=\"0.202\" style=\"border-top: 2px solid rgba(203.50019305944443, 255.0, 203.50019305944443, 255.0); border-bottom: 0px solid rgba(0, 0, 0, 0); margin-left 1px; margin-right: 1px; background: black; color=white;\"><span style=\"color: white;\">I</span></span><span title=\"0.221\" style=\"border-top: 2px solid rgba(198.74097883701324, 255.0, 198.74097883701324, 255.0); border-bottom: 0px solid rgba(0, 0, 0, 0); margin-left 1px; margin-right: 1px; background: black; color=white;\"><span style=\"color: white;\">&#x27;m</span></span>&nbsp;<span title=\"0.280\" style=\"border-top: 2px solid rgba(183.65533992648125, 255.0, 183.65533992648125, 255.0); border-bottom: 0px solid rgba(0, 0, 0, 0); margin-left 1px; margin-right: 1px; background: black; color=white;\"><span style=\"color: white;\">so</span></span>&nbsp;<span title=\"0.506\" style=\"border-top: 5px solid rgba(125.84330409765244, 255.0, 125.84330409765244, 255.0); border-bottom: 0px solid rgba(0, 0, 0, 0); margin-left 1px; margin-right: 1px; background: black; color=white;\"><span style=\"color: white;\">happy</span></span><span title=\"0.106\" style=\"border-top: 1px solid rgba(227.89910562336445, 255.0, 227.89910562336445, 255.0); border-bottom: 0px solid rgba(0, 0, 0, 0); margin-left 1px; margin-right: 1px; background: black; color=white;\"><span style=\"color: white;\">!</span></span><span title=\"-0.079\" style=\"border-top: 0px solid rgba(0, 0, 0, 0); border-bottom: 0px solid rgba(255.0, 234.78405497968197, 234.78405497968197, 255.0); margin-left 1px; margin-right: 1px; background: black; color=white;\"><span style=\"color: white;\">&lt;/s&gt;</span></span><br/><br/></div></div><div style=\"padding: 5px; maring: 0px; background: black;\"><div style=\"padding: 5px; maring: 0px; background: black;\"><span style=\"color: rgba(0, 100, 100, 1.0);\">MaxClassQoI</span>&nbsp;<span style=\"padding: 2px; border: 2px solid white;\"><span style=\"padding: 2px; border: 2px solid rgba(0, 100, 100, 1.0);\"><span title=\"0.943\" style=\"border-top: 9px solid rgba(14.417794346809387, 255.0, 14.417794346809387, 255.0); border-bottom: 0px solid rgba(0, 0, 0, 0); margin-left 1px; margin-right: 1px; background: black; color=white;\"><span style=\"color: white;\">negative</span></span></span></span>&nbsp;<span style=\"padding: 2px; border: 2px solid rgba(0, 100, 100, 1.0);\"><span title=\"0.048\" style=\"border-top: 0px solid rgba(242.72580742835999, 255.0, 242.72580742835999, 255.0); border-bottom: 0px solid rgba(0, 0, 0, 0); margin-left 1px; margin-right: 1px; background: black; color=white;\"><span style=\"color: white;\">neutral</span></span></span>&nbsp;<span style=\"padding: 2px; border: 2px solid rgba(0, 100, 100, 1.0);\"><span title=\"0.008\" style=\"border-top: 0px solid rgba(252.85642007365823, 255.0, 252.85642007365823, 255.0); border-bottom: 0px solid rgba(0, 0, 0, 0); margin-left 1px; margin-right: 1px; background: black; color=white;\"><span style=\"color: white;\">positive</span></span></span><span title=\"0.022\" style=\"border-top: 0px solid rgba(249.3343092687428, 255.0, 249.3343092687428, 255.0); border-bottom: 0px solid rgba(0, 0, 0, 0); margin-left 1px; margin-right: 1px; background: black; color=white;\"><span style=\"color: white;\">&lt;s&gt;</span></span><span title=\"0.038\" style=\"border-top: 0px solid rgba(245.31541217118502, 255.0, 245.31541217118502, 255.0); border-bottom: 0px solid rgba(0, 0, 0, 0); margin-left 1px; margin-right: 1px; background: black; color=white;\"><span style=\"color: white;\">I</span></span><span title=\"-0.143\" style=\"border-top: 0px solid rgba(0, 0, 0, 0); border-bottom: 1px solid rgba(255.0, 218.58389407396317, 218.58389407396317, 255.0); margin-left 1px; margin-right: 1px; background: black; color=white;\"><span style=\"color: white;\">&#x27;m</span></span>&nbsp;<span title=\"0.170\" style=\"border-top: 1px solid rgba(211.55933640897274, 255.0, 211.55933640897274, 255.0); border-bottom: 0px solid rgba(0, 0, 0, 0); margin-left 1px; margin-right: 1px; background: black; color=white;\"><span style=\"color: white;\">so</span></span>&nbsp;<span title=\"-0.016\" style=\"border-top: 0px solid rgba(0, 0, 0, 0); border-bottom: 0px solid rgba(255.0, 250.93262985348701, 250.93262985348701, 255.0); margin-left 1px; margin-right: 1px; background: black; color=white;\"><span style=\"color: white;\">sad</span></span><span title=\"-0.146\" style=\"border-top: 0px solid rgba(0, 0, 0, 0); border-bottom: 1px solid rgba(255.0, 217.85265371203423, 217.85265371203423, 255.0); margin-left 1px; margin-right: 1px; background: black; color=white;\"><span style=\"color: white;\">!</span></span><span title=\"-0.031\" style=\"border-top: 0px solid rgba(0, 0, 0, 0); border-bottom: 0px solid rgba(255.0, 247.19093643128872, 247.19093643128872, 255.0); margin-left 1px; margin-right: 1px; background: black; color=white;\"><span style=\"color: white;\">&lt;/s&gt;</span></span><br/><br/></div></div><div style=\"padding: 5px; maring: 0px; background: black;\"><div style=\"padding: 5px; maring: 0px; background: black;\"><span style=\"color: rgba(0, 100, 100, 1.0);\">MaxClassQoI</span>&nbsp;<span style=\"padding: 2px; border: 2px solid white;\"><span style=\"padding: 2px; border: 2px solid rgba(0, 100, 100, 1.0);\"><span title=\"0.486\" style=\"border-top: 4px solid rgba(131.07586652040482, 255.0, 131.07586652040482, 255.0); border-bottom: 0px solid rgba(0, 0, 0, 0); margin-left 1px; margin-right: 1px; background: black; color=white;\"><span style=\"color: white;\">negative</span></span></span></span>&nbsp;<span style=\"padding: 2px; border: 2px solid rgba(0, 100, 100, 1.0);\"><span title=\"0.390\" style=\"border-top: 3px solid rgba(155.52060842514038, 255.0, 155.52060842514038, 255.0); border-bottom: 0px solid rgba(0, 0, 0, 0); margin-left 1px; margin-right: 1px; background: black; color=white;\"><span style=\"color: white;\">neutral</span></span></span>&nbsp;<span style=\"padding: 2px; border: 2px solid rgba(0, 100, 100, 1.0);\"><span title=\"0.124\" style=\"border-top: 1px solid rgba(223.40350795537233, 255.0, 223.40350795537233, 255.0); border-bottom: 0px solid rgba(0, 0, 0, 0); margin-left 1px; margin-right: 1px; background: black; color=white;\"><span style=\"color: white;\">positive</span></span></span><span title=\"-0.028\" style=\"border-top: 0px solid rgba(0, 0, 0, 0); border-bottom: 0px solid rgba(255.0, 247.83581597730517, 247.83581597730517, 255.0); margin-left 1px; margin-right: 1px; background: black; color=white;\"><span style=\"color: white;\">&lt;s&gt;</span></span><span title=\"0.002\" style=\"border-top: 0px solid rgba(254.53206460922956, 255.0, 254.53206460922956, 255.0); border-bottom: 0px solid rgba(0, 0, 0, 0); margin-left 1px; margin-right: 1px; background: black; color=white;\"><span style=\"color: white;\">I</span></span>&nbsp;<span title=\"-0.236\" style=\"border-top: 0px solid rgba(0, 0, 0, 0); border-bottom: 2px solid rgba(255.0, 194.74862426519394, 194.74862426519394, 255.0); margin-left 1px; margin-right: 1px; background: black; color=white;\"><span style=\"color: white;\">cannot</span></span>&nbsp;<span title=\"-0.018\" style=\"border-top: 0px solid rgba(0, 0, 0, 0); border-bottom: 0px solid rgba(255.0, 250.30687373131514, 250.30687373131514, 255.0); margin-left 1px; margin-right: 1px; background: black; color=white;\"><span style=\"color: white;\">tell</span></span>&nbsp;<span title=\"0.125\" style=\"border-top: 1px solid rgba(223.0751846730709, 255.0, 223.0751846730709, 255.0); border-bottom: 0px solid rgba(0, 0, 0, 0); margin-left 1px; margin-right: 1px; background: black; color=white;\"><span style=\"color: white;\">whether</span></span>&nbsp;<span title=\"-0.065\" style=\"border-top: 0px solid rgba(0, 0, 0, 0); border-bottom: 0px solid rgba(255.0, 238.46913903951645, 238.46913903951645, 255.0); margin-left 1px; margin-right: 1px; background: black; color=white;\"><span style=\"color: white;\">I</span></span>&nbsp;<span title=\"0.021\" style=\"border-top: 0px solid rgba(249.70159423537552, 255.0, 249.70159423537552, 255.0); border-bottom: 0px solid rgba(0, 0, 0, 0); margin-left 1px; margin-right: 1px; background: black; color=white;\"><span style=\"color: white;\">should</span></span>&nbsp;<span title=\"-0.048\" style=\"border-top: 0px solid rgba(0, 0, 0, 0); border-bottom: 0px solid rgba(255.0, 242.87320341914892, 242.87320341914892, 255.0); margin-left 1px; margin-right: 1px; background: black; color=white;\"><span style=\"color: white;\">be</span></span>&nbsp;<span title=\"-0.132\" style=\"border-top: 0px solid rgba(0, 0, 0, 0); border-bottom: 1px solid rgba(255.0, 221.2157392501831, 221.2157392501831, 255.0); margin-left 1px; margin-right: 1px; background: black; color=white;\"><span style=\"color: white;\">happy</span></span>&nbsp;<span title=\"-0.156\" style=\"border-top: 0px solid rgba(0, 0, 0, 0); border-bottom: 1px solid rgba(255.0, 215.33025786280632, 215.33025786280632, 255.0); margin-left 1px; margin-right: 1px; background: black; color=white;\"><span style=\"color: white;\">or</span></span>&nbsp;<span title=\"-0.452\" style=\"border-top: 0px solid rgba(0, 0, 0, 0); border-bottom: 4px solid rgba(255.0, 139.85070526599884, 139.85070526599884, 255.0); margin-left 1px; margin-right: 1px; background: black; color=white;\"><span style=\"color: white;\">sad</span></span><span title=\"-0.160\" style=\"border-top: 0px solid rgba(0, 0, 0, 0); border-bottom: 1px solid rgba(255.0, 214.07931178808212, 214.07931178808212, 255.0); margin-left 1px; margin-right: 1px; background: black; color=white;\"><span style=\"color: white;\">!</span></span><span title=\"0.004\" style=\"border-top: 0px solid rgba(253.8841487886384, 255.0, 253.8841487886384, 255.0); border-bottom: 0px solid rgba(0, 0, 0, 0); margin-left 1px; margin-right: 1px; background: black; color=white;\"><span style=\"color: white;\">&lt;/s&gt;</span></span><br/><br/></div></div><div style=\"padding: 5px; maring: 0px; background: black;\"><div style=\"padding: 5px; maring: 0px; background: black;\"><span style=\"color: rgba(0, 100, 100, 1.0);\">MaxClassQoI</span>&nbsp;<span style=\"padding: 2px; border: 2px solid rgba(0, 100, 100, 1.0);\"><span title=\"0.232\" style=\"border-top: 2px solid rgba(195.88623762130737, 255.0, 195.88623762130737, 255.0); border-bottom: 0px solid rgba(0, 0, 0, 0); margin-left 1px; margin-right: 1px; background: black; color=white;\"><span style=\"color: white;\">negative</span></span></span>&nbsp;<span style=\"padding: 2px; border: 2px solid white;\"><span style=\"padding: 2px; border: 2px solid rgba(0, 100, 100, 1.0);\"><span title=\"0.530\" style=\"border-top: 5px solid rgba(119.76802289485931, 255.0, 119.76802289485931, 255.0); border-bottom: 0px solid rgba(0, 0, 0, 0); margin-left 1px; margin-right: 1px; background: black; color=white;\"><span style=\"color: white;\">neutral</span></span></span></span>&nbsp;<span style=\"padding: 2px; border: 2px solid rgba(0, 100, 100, 1.0);\"><span title=\"0.238\" style=\"border-top: 2px solid rgba(194.34575088322163, 255.0, 194.34575088322163, 255.0); border-bottom: 0px solid rgba(0, 0, 0, 0); margin-left 1px; margin-right: 1px; background: black; color=white;\"><span style=\"color: white;\">positive</span></span></span><span title=\"0.041\" style=\"border-top: 0px solid rgba(244.535339679569, 255.0, 244.535339679569, 255.0); border-bottom: 0px solid rgba(0, 0, 0, 0); margin-left 1px; margin-right: 1px; background: black; color=white;\"><span style=\"color: white;\">&lt;s&gt;</span></span><span title=\"-0.258\" style=\"border-top: 0px solid rgba(0, 0, 0, 0); border-bottom: 2px solid rgba(255.0, 189.0895727276802, 189.0895727276802, 255.0); margin-left 1px; margin-right: 1px; background: black; color=white;\"><span style=\"color: white;\">me</span></span><span title=\"-0.384\" style=\"border-top: 0px solid rgba(0, 0, 0, 0); border-bottom: 3px solid rgba(255.0, 157.09917291998863, 157.09917291998863, 255.0); margin-left 1px; margin-right: 1px; background: black; color=white;\"><span style=\"color: white;\">h</span></span><span title=\"-0.090\" style=\"border-top: 0px solid rgba(0, 0, 0, 0); border-bottom: 0px solid rgba(255.0, 232.01737023890018, 232.01737023890018, 255.0); margin-left 1px; margin-right: 1px; background: black; color=white;\"><span style=\"color: white;\">&lt;/s&gt;</span></span><br/><br/></div></div></body></html>"
      ],
      "text/plain": [
       "<IPython.core.display.HTML object>"
      ]
     },
     "metadata": {},
     "output_type": "display_data"
    },
    {
     "name": "stdout",
     "output_type": "stream",
     "text": [
      "QOI = POSITIVE\n"
     ]
    },
    {
     "data": {
      "text/html": [
       "<html><body><div style=\"padding: 5px; maring: 0px; background: black;\"><span style=\"color: white;\">scale:</span>&nbsp;<span title=\"-1.000\" style=\"border-top: 0px solid rgba(0, 0, 0, 0); border-bottom: 10px solid rgba(255.0, 0.0, 0.0, 255.0); margin-left 1px; margin-right: 1px; background: black; color=white;\"><span style=\"color: white;\">-1.0</span></span><span title=\"-0.900\" style=\"border-top: 0px solid rgba(0, 0, 0, 0); border-bottom: 9px solid rgba(255.0, 25.499999999999993, 25.499999999999993, 255.0); margin-left 1px; margin-right: 1px; background: black; color=white;\"><span style=\"color: white;\">-0.9</span></span><span title=\"-0.800\" style=\"border-top: 0px solid rgba(0, 0, 0, 0); border-bottom: 8px solid rgba(255.0, 50.999999999999986, 50.999999999999986, 255.0); margin-left 1px; margin-right: 1px; background: black; color=white;\"><span style=\"color: white;\">-0.8</span></span><span title=\"-0.700\" style=\"border-top: 0px solid rgba(0, 0, 0, 0); border-bottom: 7px solid rgba(255.0, 76.50000000000001, 76.50000000000001, 255.0); margin-left 1px; margin-right: 1px; background: black; color=white;\"><span style=\"color: white;\">-0.7</span></span><span title=\"-0.600\" style=\"border-top: 0px solid rgba(0, 0, 0, 0); border-bottom: 6px solid rgba(255.0, 102.0, 102.0, 255.0); margin-left 1px; margin-right: 1px; background: black; color=white;\"><span style=\"color: white;\">-0.6</span></span><span title=\"-0.500\" style=\"border-top: 0px solid rgba(0, 0, 0, 0); border-bottom: 5px solid rgba(255.0, 127.5, 127.5, 255.0); margin-left 1px; margin-right: 1px; background: black; color=white;\"><span style=\"color: white;\">-0.5</span></span><span title=\"-0.400\" style=\"border-top: 0px solid rgba(0, 0, 0, 0); border-bottom: 4px solid rgba(255.0, 153.0, 153.0, 255.0); margin-left 1px; margin-right: 1px; background: black; color=white;\"><span style=\"color: white;\">-0.4</span></span><span title=\"-0.300\" style=\"border-top: 0px solid rgba(0, 0, 0, 0); border-bottom: 3px solid rgba(255.0, 178.5, 178.5, 255.0); margin-left 1px; margin-right: 1px; background: black; color=white;\"><span style=\"color: white;\">-0.3</span></span><span title=\"-0.200\" style=\"border-top: 0px solid rgba(0, 0, 0, 0); border-bottom: 2px solid rgba(255.0, 204.0, 204.0, 255.0); margin-left 1px; margin-right: 1px; background: black; color=white;\"><span style=\"color: white;\">-0.2</span></span><span title=\"-0.100\" style=\"border-top: 0px solid rgba(0, 0, 0, 0); border-bottom: 1px solid rgba(255.0, 229.5, 229.5, 255.0); margin-left 1px; margin-right: 1px; background: black; color=white;\"><span style=\"color: white;\">-0.1</span></span><span title=\"0.000\" style=\"border-top: 0px solid rgba(0, 0, 0, 0); border-bottom: 0px solid rgba(255.0, 255.0, 255.0, 255.0); margin-left 1px; margin-right: 1px; background: black; color=white;\"><span style=\"color: white;\">0.0</span></span><span title=\"0.100\" style=\"border-top: 1px solid rgba(229.5, 255.0, 229.5, 255.0); border-bottom: 0px solid rgba(0, 0, 0, 0); margin-left 1px; margin-right: 1px; background: black; color=white;\"><span style=\"color: white;\">+0.1</span></span><span title=\"0.200\" style=\"border-top: 2px solid rgba(204.0, 255.0, 204.0, 255.0); border-bottom: 0px solid rgba(0, 0, 0, 0); margin-left 1px; margin-right: 1px; background: black; color=white;\"><span style=\"color: white;\">+0.2</span></span><span title=\"0.300\" style=\"border-top: 3px solid rgba(178.5, 255.0, 178.5, 255.0); border-bottom: 0px solid rgba(0, 0, 0, 0); margin-left 1px; margin-right: 1px; background: black; color=white;\"><span style=\"color: white;\">+0.3</span></span><span title=\"0.400\" style=\"border-top: 4px solid rgba(153.0, 255.0, 153.0, 255.0); border-bottom: 0px solid rgba(0, 0, 0, 0); margin-left 1px; margin-right: 1px; background: black; color=white;\"><span style=\"color: white;\">+0.4</span></span><span title=\"0.500\" style=\"border-top: 5px solid rgba(127.5, 255.0, 127.5, 255.0); border-bottom: 0px solid rgba(0, 0, 0, 0); margin-left 1px; margin-right: 1px; background: black; color=white;\"><span style=\"color: white;\">+0.5</span></span><span title=\"0.600\" style=\"border-top: 6px solid rgba(102.0, 255.0, 102.0, 255.0); border-bottom: 0px solid rgba(0, 0, 0, 0); margin-left 1px; margin-right: 1px; background: black; color=white;\"><span style=\"color: white;\">+0.6</span></span><span title=\"0.700\" style=\"border-top: 7px solid rgba(76.50000000000001, 255.0, 76.50000000000001, 255.0); border-bottom: 0px solid rgba(0, 0, 0, 0); margin-left 1px; margin-right: 1px; background: black; color=white;\"><span style=\"color: white;\">+0.7</span></span><span title=\"0.800\" style=\"border-top: 8px solid rgba(50.999999999999986, 255.0, 50.999999999999986, 255.0); border-bottom: 0px solid rgba(0, 0, 0, 0); margin-left 1px; margin-right: 1px; background: black; color=white;\"><span style=\"color: white;\">+0.8</span></span><span title=\"0.900\" style=\"border-top: 9px solid rgba(25.499999999999993, 255.0, 25.499999999999993, 255.0); border-bottom: 0px solid rgba(0, 0, 0, 0); margin-left 1px; margin-right: 1px; background: black; color=white;\"><span style=\"color: white;\">+0.9</span></span><span title=\"1.000\" style=\"border-top: 10px solid rgba(0.0, 255.0, 0.0, 255.0); border-bottom: 0px solid rgba(0, 0, 0, 0); margin-left 1px; margin-right: 1px; background: black; color=white;\"><span style=\"color: white;\">+1.0</span></span></div><br/><br/><div style=\"padding: 5px; maring: 0px; background: black;\"><div style=\"padding: 5px; maring: 0px; background: black;\"><span style=\"color: rgba(0, 100, 100, 1.0);\">ClassQoI</span><sub style=\"color: rgba(0, 100, 100, 1.0);\">2</sub>&nbsp;<span style=\"padding: 2px; border: 2px solid False;\"><span title=\"0.002\" style=\"border-top: 0px solid rgba(254.57694088399876, 255.0, 254.57694088399876, 255.0); border-bottom: 0px solid rgba(0, 0, 0, 0); margin-left 1px; margin-right: 1px; background: black; color=white;\"><span style=\"color: white;\">negative</span></span></span>&nbsp;<span style=\"padding: 2px; border: 2px solid False;\"><span title=\"0.007\" style=\"border-top: 0px solid rgba(253.20547718089074, 255.0, 253.20547718089074, 255.0); border-bottom: 0px solid rgba(0, 0, 0, 0); margin-left 1px; margin-right: 1px; background: black; color=white;\"><span style=\"color: white;\">neutral</span></span></span>&nbsp;<span style=\"padding: 2px; border: 2px solid white;\"><span style=\"padding: 2px; border: 2px solid rgba(0, 100, 100, 1.0);\"><span title=\"0.991\" style=\"border-top: 9px solid rgba(2.217591404914856, 255.0, 2.217591404914856, 255.0); border-bottom: 0px solid rgba(0, 0, 0, 0); margin-left 1px; margin-right: 1px; background: black; color=white;\"><span style=\"color: white;\">positive</span></span></span></span><span title=\"-0.019\" style=\"border-top: 0px solid rgba(0, 0, 0, 0); border-bottom: 0px solid rgba(255.0, 250.0939255580306, 250.0939255580306, 255.0); margin-left 1px; margin-right: 1px; background: black; color=white;\"><span style=\"color: white;\">&lt;s&gt;</span></span><span title=\"0.184\" style=\"border-top: 1px solid rgba(208.00260946154594, 255.0, 208.00260946154594, 255.0); border-bottom: 0px solid rgba(0, 0, 0, 0); margin-left 1px; margin-right: 1px; background: black; color=white;\"><span style=\"color: white;\">I</span></span><span title=\"0.505\" style=\"border-top: 5px solid rgba(126.13099426031113, 255.0, 126.13099426031113, 255.0); border-bottom: 0px solid rgba(0, 0, 0, 0); margin-left 1px; margin-right: 1px; background: black; color=white;\"><span style=\"color: white;\">&#x27;m</span></span>&nbsp;<span title=\"1.306\" style=\"border-top: 10px solid rgba(0.0, 255.0, 0.0, 255.0); border-bottom: 0px solid rgba(0, 0, 0, 0); margin-left 1px; margin-right: 1px; background: black; color=white;\"><span style=\"color: white;\">so</span></span>&nbsp;<span title=\"2.129\" style=\"border-top: 10px solid rgba(0.0, 255.0, 0.0, 255.0); border-bottom: 0px solid rgba(0, 0, 0, 0); margin-left 1px; margin-right: 1px; background: black; color=white;\"><span style=\"color: white;\">happy</span></span><span title=\"0.715\" style=\"border-top: 7px solid rgba(72.6272964477539, 255.0, 72.6272964477539, 255.0); border-bottom: 0px solid rgba(0, 0, 0, 0); margin-left 1px; margin-right: 1px; background: black; color=white;\"><span style=\"color: white;\">!</span></span><span title=\"0.416\" style=\"border-top: 4px solid rgba(148.99891197681427, 255.0, 148.99891197681427, 255.0); border-bottom: 0px solid rgba(0, 0, 0, 0); margin-left 1px; margin-right: 1px; background: black; color=white;\"><span style=\"color: white;\">&lt;/s&gt;</span></span><br/><br/></div></div><div style=\"padding: 5px; maring: 0px; background: black;\"><div style=\"padding: 5px; maring: 0px; background: black;\"><span style=\"color: rgba(0, 100, 100, 1.0);\">ClassQoI</span><sub style=\"color: rgba(0, 100, 100, 1.0);\">2</sub>&nbsp;<span style=\"padding: 2px; border: 2px solid white;\"><span style=\"padding: 2px; border: 2px solid False;\"><span title=\"0.943\" style=\"border-top: 9px solid rgba(14.417794346809387, 255.0, 14.417794346809387, 255.0); border-bottom: 0px solid rgba(0, 0, 0, 0); margin-left 1px; margin-right: 1px; background: black; color=white;\"><span style=\"color: white;\">negative</span></span></span></span>&nbsp;<span style=\"padding: 2px; border: 2px solid False;\"><span title=\"0.048\" style=\"border-top: 0px solid rgba(242.72580742835999, 255.0, 242.72580742835999, 255.0); border-bottom: 0px solid rgba(0, 0, 0, 0); margin-left 1px; margin-right: 1px; background: black; color=white;\"><span style=\"color: white;\">neutral</span></span></span>&nbsp;<span style=\"padding: 2px; border: 2px solid rgba(0, 100, 100, 1.0);\"><span title=\"0.008\" style=\"border-top: 0px solid rgba(252.85642007365823, 255.0, 252.85642007365823, 255.0); border-bottom: 0px solid rgba(0, 0, 0, 0); margin-left 1px; margin-right: 1px; background: black; color=white;\"><span style=\"color: white;\">positive</span></span></span><span title=\"-0.097\" style=\"border-top: 0px solid rgba(0, 0, 0, 0); border-bottom: 0px solid rgba(255.0, 230.25154799222946, 230.25154799222946, 255.0); margin-left 1px; margin-right: 1px; background: black; color=white;\"><span style=\"color: white;\">&lt;s&gt;</span></span><span title=\"0.000\" style=\"border-top: 0px solid rgba(254.9302191194147, 255.0, 254.9302191194147, 255.0); border-bottom: 0px solid rgba(0, 0, 0, 0); margin-left 1px; margin-right: 1px; background: black; color=white;\"><span style=\"color: white;\">I</span></span><span title=\"0.179\" style=\"border-top: 1px solid rgba(209.35638181865215, 255.0, 209.35638181865215, 255.0); border-bottom: 0px solid rgba(0, 0, 0, 0); margin-left 1px; margin-right: 1px; background: black; color=white;\"><span style=\"color: white;\">&#x27;m</span></span>&nbsp;<span title=\"-0.267\" style=\"border-top: 0px solid rgba(0, 0, 0, 0); border-bottom: 2px solid rgba(255.0, 186.9013461470604, 186.9013461470604, 255.0); margin-left 1px; margin-right: 1px; background: black; color=white;\"><span style=\"color: white;\">so</span></span>&nbsp;<span title=\"-0.766\" style=\"border-top: 0px solid rgba(0, 0, 0, 0); border-bottom: 7px solid rgba(255.0, 59.55487310886383, 59.55487310886383, 255.0); margin-left 1px; margin-right: 1px; background: black; color=white;\"><span style=\"color: white;\">sad</span></span><span title=\"0.124\" style=\"border-top: 1px solid rgba(223.34308169782162, 255.0, 223.34308169782162, 255.0); border-bottom: 0px solid rgba(0, 0, 0, 0); margin-left 1px; margin-right: 1px; background: black; color=white;\"><span style=\"color: white;\">!</span></span><span title=\"0.271\" style=\"border-top: 2px solid rgba(186.00448787212372, 255.0, 186.00448787212372, 255.0); border-bottom: 0px solid rgba(0, 0, 0, 0); margin-left 1px; margin-right: 1px; background: black; color=white;\"><span style=\"color: white;\">&lt;/s&gt;</span></span><br/><br/></div></div><div style=\"padding: 5px; maring: 0px; background: black;\"><div style=\"padding: 5px; maring: 0px; background: black;\"><span style=\"color: rgba(0, 100, 100, 1.0);\">ClassQoI</span><sub style=\"color: rgba(0, 100, 100, 1.0);\">2</sub>&nbsp;<span style=\"padding: 2px; border: 2px solid white;\"><span style=\"padding: 2px; border: 2px solid False;\"><span title=\"0.486\" style=\"border-top: 4px solid rgba(131.07586652040482, 255.0, 131.07586652040482, 255.0); border-bottom: 0px solid rgba(0, 0, 0, 0); margin-left 1px; margin-right: 1px; background: black; color=white;\"><span style=\"color: white;\">negative</span></span></span></span>&nbsp;<span style=\"padding: 2px; border: 2px solid False;\"><span title=\"0.390\" style=\"border-top: 3px solid rgba(155.52060842514038, 255.0, 155.52060842514038, 255.0); border-bottom: 0px solid rgba(0, 0, 0, 0); margin-left 1px; margin-right: 1px; background: black; color=white;\"><span style=\"color: white;\">neutral</span></span></span>&nbsp;<span style=\"padding: 2px; border: 2px solid rgba(0, 100, 100, 1.0);\"><span title=\"0.124\" style=\"border-top: 1px solid rgba(223.40350795537233, 255.0, 223.40350795537233, 255.0); border-bottom: 0px solid rgba(0, 0, 0, 0); margin-left 1px; margin-right: 1px; background: black; color=white;\"><span style=\"color: white;\">positive</span></span></span><span title=\"-0.031\" style=\"border-top: 0px solid rgba(0, 0, 0, 0); border-bottom: 0px solid rgba(255.0, 247.1757956687361, 247.1757956687361, 255.0); margin-left 1px; margin-right: 1px; background: black; color=white;\"><span style=\"color: white;\">&lt;s&gt;</span></span><span title=\"-0.081\" style=\"border-top: 0px solid rgba(0, 0, 0, 0); border-bottom: 0px solid rgba(255.0, 234.36672907322645, 234.36672907322645, 255.0); margin-left 1px; margin-right: 1px; background: black; color=white;\"><span style=\"color: white;\">I</span></span>&nbsp;<span title=\"-1.158\" style=\"border-top: 0px solid rgba(0, 0, 0, 0); border-bottom: 10px solid rgba(255.0, 0.0, 0.0, 255.0); margin-left 1px; margin-right: 1px; background: black; color=white;\"><span style=\"color: white;\">cannot</span></span>&nbsp;<span title=\"-0.044\" style=\"border-top: 0px solid rgba(0, 0, 0, 0); border-bottom: 0px solid rgba(255.0, 243.79585281014442, 243.79585281014442, 255.0); margin-left 1px; margin-right: 1px; background: black; color=white;\"><span style=\"color: white;\">tell</span></span>&nbsp;<span title=\"-0.707\" style=\"border-top: 0px solid rgba(0, 0, 0, 0); border-bottom: 7px solid rgba(255.0, 74.78244960308075, 74.78244960308075, 255.0); margin-left 1px; margin-right: 1px; background: black; color=white;\"><span style=\"color: white;\">whether</span></span>&nbsp;<span title=\"0.095\" style=\"border-top: 0px solid rgba(230.811615139246, 255.0, 230.811615139246, 255.0); border-bottom: 0px solid rgba(0, 0, 0, 0); margin-left 1px; margin-right: 1px; background: black; color=white;\"><span style=\"color: white;\">I</span></span>&nbsp;<span title=\"0.278\" style=\"border-top: 2px solid rgba(184.12725180387497, 255.0, 184.12725180387497, 255.0); border-bottom: 0px solid rgba(0, 0, 0, 0); margin-left 1px; margin-right: 1px; background: black; color=white;\"><span style=\"color: white;\">should</span></span>&nbsp;<span title=\"0.389\" style=\"border-top: 3px solid rgba(155.69296717643738, 255.0, 155.69296717643738, 255.0); border-bottom: 0px solid rgba(0, 0, 0, 0); margin-left 1px; margin-right: 1px; background: black; color=white;\"><span style=\"color: white;\">be</span></span>&nbsp;<span title=\"1.557\" style=\"border-top: 10px solid rgba(0.0, 255.0, 0.0, 255.0); border-bottom: 0px solid rgba(0, 0, 0, 0); margin-left 1px; margin-right: 1px; background: black; color=white;\"><span style=\"color: white;\">happy</span></span>&nbsp;<span title=\"0.063\" style=\"border-top: 0px solid rgba(239.0617609396577, 255.0, 239.0617609396577, 255.0); border-bottom: 0px solid rgba(0, 0, 0, 0); margin-left 1px; margin-right: 1px; background: black; color=white;\"><span style=\"color: white;\">or</span></span>&nbsp;<span title=\"-0.514\" style=\"border-top: 0px solid rgba(0, 0, 0, 0); border-bottom: 5px solid rgba(255.0, 123.8407051563263, 123.8407051563263, 255.0); margin-left 1px; margin-right: 1px; background: black; color=white;\"><span style=\"color: white;\">sad</span></span><span title=\"0.306\" style=\"border-top: 3px solid rgba(177.0234189927578, 255.0, 177.0234189927578, 255.0); border-bottom: 0px solid rgba(0, 0, 0, 0); margin-left 1px; margin-right: 1px; background: black; color=white;\"><span style=\"color: white;\">!</span></span><span title=\"-0.227\" style=\"border-top: 0px solid rgba(0, 0, 0, 0); border-bottom: 2px solid rgba(255.0, 197.17594921588898, 197.17594921588898, 255.0); margin-left 1px; margin-right: 1px; background: black; color=white;\"><span style=\"color: white;\">&lt;/s&gt;</span></span><br/><br/></div></div><div style=\"padding: 5px; maring: 0px; background: black;\"><div style=\"padding: 5px; maring: 0px; background: black;\"><span style=\"color: rgba(0, 100, 100, 1.0);\">ClassQoI</span><sub style=\"color: rgba(0, 100, 100, 1.0);\">2</sub>&nbsp;<span style=\"padding: 2px; border: 2px solid False;\"><span title=\"0.232\" style=\"border-top: 2px solid rgba(195.88623762130737, 255.0, 195.88623762130737, 255.0); border-bottom: 0px solid rgba(0, 0, 0, 0); margin-left 1px; margin-right: 1px; background: black; color=white;\"><span style=\"color: white;\">negative</span></span></span>&nbsp;<span style=\"padding: 2px; border: 2px solid white;\"><span style=\"padding: 2px; border: 2px solid False;\"><span title=\"0.530\" style=\"border-top: 5px solid rgba(119.76802289485931, 255.0, 119.76802289485931, 255.0); border-bottom: 0px solid rgba(0, 0, 0, 0); margin-left 1px; margin-right: 1px; background: black; color=white;\"><span style=\"color: white;\">neutral</span></span></span></span>&nbsp;<span style=\"padding: 2px; border: 2px solid rgba(0, 100, 100, 1.0);\"><span title=\"0.238\" style=\"border-top: 2px solid rgba(194.34575088322163, 255.0, 194.34575088322163, 255.0); border-bottom: 0px solid rgba(0, 0, 0, 0); margin-left 1px; margin-right: 1px; background: black; color=white;\"><span style=\"color: white;\">positive</span></span></span><span title=\"-0.071\" style=\"border-top: 0px solid rgba(0, 0, 0, 0); border-bottom: 0px solid rgba(255.0, 236.93390361964703, 236.93390361964703, 255.0); margin-left 1px; margin-right: 1px; background: black; color=white;\"><span style=\"color: white;\">&lt;s&gt;</span></span><span title=\"0.546\" style=\"border-top: 5px solid rgba(115.88861346244812, 255.0, 115.88861346244812, 255.0); border-bottom: 0px solid rgba(0, 0, 0, 0); margin-left 1px; margin-right: 1px; background: black; color=white;\"><span style=\"color: white;\">me</span></span><span title=\"0.202\" style=\"border-top: 2px solid rgba(203.6067545413971, 255.0, 203.6067545413971, 255.0); border-bottom: 0px solid rgba(0, 0, 0, 0); margin-left 1px; margin-right: 1px; background: black; color=white;\"><span style=\"color: white;\">h</span></span><span title=\"0.087\" style=\"border-top: 0px solid rgba(232.92959868907928, 255.0, 232.92959868907928, 255.0); border-bottom: 0px solid rgba(0, 0, 0, 0); margin-left 1px; margin-right: 1px; background: black; color=white;\"><span style=\"color: white;\">&lt;/s&gt;</span></span><br/><br/></div></div></body></html>"
      ],
      "text/plain": [
       "<IPython.core.display.HTML object>"
      ]
     },
     "metadata": {},
     "output_type": "display_data"
    }
   ],
   "source": [
    "from trulens.visualizations import NLP\n",
    "\n",
    "V = NLP(\n",
    "    wrapper=task.wrapper,\n",
    "    labels=task.labels,\n",
    "    decode=lambda x: task.tokenizer.decode(x),\n",
    "    tokenize=lambda sentences: ModelInputs(kwargs=task.tokenizer(sentences, padding=True, return_tensors='pt')).map(lambda t: t.to(task.device)),\n",
    "    # huggingface models can take as input the keyword args as per produced by their tokenizers.\n",
    "\n",
    "    input_accessor=lambda x: x.kwargs['input_ids'],\n",
    "    # for huggingface models, input/token ids are under input_ids key in the input dictionary\n",
    "\n",
    "    output_accessor=lambda x: x['logits'],\n",
    "    # and logits under 'logits' key in the output dictionary\n",
    "\n",
    "    hidden_tokens=set([task.tokenizer.pad_token_id])\n",
    "    # do not display these tokens\n",
    ")\n",
    "\n",
    "print(\"QOI = MAX PREDICTION\")\n",
    "display(V.tokens(sentences, attributor=infl_max))\n",
    "\n",
    "print(\"QOI = POSITIVE\")\n",
    "display(V.tokens(sentences, attributor=infl_positive))"
   ]
  },
  {
   "cell_type": "markdown",
   "metadata": {},
   "source": [
    "# Baselines\n",
    "\n",
    "We see in the above results that special tokens such as the sentence end **&lt;/s&gt;** contributes are found to contribute a lot to the model outputs. While this may be useful in some contexts, we are more interested in the contributions of the actual words in these sentences. To focus on the words more, we need to adjust the **baseline** used in the integrated gradients computation. By default in the instantiation so far, the baseline for each token is a zero vector of the same shape as its embedding. By making the basaeline be identicaly to the explained instances on special tokens, we can rid their impact from our measurement. Trulens provides a utility for this purpose in terms of `token_baseline` which constructs for you the methods to compute the appropriate baseline. "
   ]
  },
  {
   "cell_type": "code",
   "execution_count": 12,
   "metadata": {},
   "outputs": [],
   "source": [
    "from trulens.utils.nlp import token_baseline\n",
    "\n",
    "inputs_baseline_ids, inputs_baseline_embeddings = token_baseline(\n",
    "    keep_tokens=set([task.tokenizer.cls_token_id, task.tokenizer.sep_token_id]),\n",
    "    # Which tokens to preserve.\n",
    "\n",
    "    replacement_token=task.tokenizer.pad_token_id,\n",
    "    # What to replace tokens with.\n",
    "\n",
    "    input_accessor=lambda x: x.kwargs['input_ids'],\n",
    "\n",
    "    ids_to_embeddings=task.model.get_input_embeddings()\n",
    "    # Callable to produce embeddings from token ids.\n",
    ")"
   ]
  },
  {
   "cell_type": "markdown",
   "metadata": {},
   "source": [
    "We can now inspect the baselines on some example sentences. The first method returned by `token_baseline` gives us token ids to inspect while the second gives us the embeddings of the baseline which we will pass to the attributions method."
   ]
  },
  {
   "cell_type": "code",
   "execution_count": 13,
   "metadata": {},
   "outputs": [
    {
     "name": "stdout",
     "output_type": "stream",
     "text": [
      "originals= [\"<s>I'm so happy!</s><pad><pad><pad><pad><pad><pad>\", \"<s>I'm so sad!</s><pad><pad><pad><pad><pad><pad>\", '<s>I cannot tell whether I should be happy or sad!</s>', '<s>meh</s><pad><pad><pad><pad><pad><pad><pad><pad><pad>']\n",
      "baselines= ['<s><pad><pad><pad><pad><pad></s><pad><pad><pad><pad><pad><pad>', '<s><pad><pad><pad><pad><pad></s><pad><pad><pad><pad><pad><pad>', '<s><pad><pad><pad><pad><pad><pad><pad><pad><pad><pad><pad></s>', '<s><pad><pad></s><pad><pad><pad><pad><pad><pad><pad><pad><pad>']\n"
     ]
    }
   ],
   "source": [
    "print(\"originals=\", task.tokenizer.batch_decode(inputs['input_ids']))\n",
    "\n",
    "baseline_word_ids = inputs_baseline_ids(model_inputs=ModelInputs(args=[], kwargs=inputs))\n",
    "print(\"baselines=\", task.tokenizer.batch_decode(baseline_word_ids))"
   ]
  },
  {
   "cell_type": "code",
   "execution_count": 14,
   "metadata": {},
   "outputs": [
    {
     "name": "stdout",
     "output_type": "stream",
     "text": [
      "QOI = POSITIVE WITH BASELINE\n"
     ]
    },
    {
     "data": {
      "text/html": [
       "<html><body><div style=\"padding: 5px; maring: 0px; background: black;\"><span style=\"color: white;\">scale:</span>&nbsp;<span title=\"-1.000\" style=\"border-top: 0px solid rgba(0, 0, 0, 0); border-bottom: 10px solid rgba(255.0, 0.0, 0.0, 255.0); margin-left 1px; margin-right: 1px; background: black; color=white;\"><span style=\"color: white;\">-1.0</span></span><span title=\"-0.900\" style=\"border-top: 0px solid rgba(0, 0, 0, 0); border-bottom: 9px solid rgba(255.0, 25.499999999999993, 25.499999999999993, 255.0); margin-left 1px; margin-right: 1px; background: black; color=white;\"><span style=\"color: white;\">-0.9</span></span><span title=\"-0.800\" style=\"border-top: 0px solid rgba(0, 0, 0, 0); border-bottom: 8px solid rgba(255.0, 50.999999999999986, 50.999999999999986, 255.0); margin-left 1px; margin-right: 1px; background: black; color=white;\"><span style=\"color: white;\">-0.8</span></span><span title=\"-0.700\" style=\"border-top: 0px solid rgba(0, 0, 0, 0); border-bottom: 7px solid rgba(255.0, 76.50000000000001, 76.50000000000001, 255.0); margin-left 1px; margin-right: 1px; background: black; color=white;\"><span style=\"color: white;\">-0.7</span></span><span title=\"-0.600\" style=\"border-top: 0px solid rgba(0, 0, 0, 0); border-bottom: 6px solid rgba(255.0, 102.0, 102.0, 255.0); margin-left 1px; margin-right: 1px; background: black; color=white;\"><span style=\"color: white;\">-0.6</span></span><span title=\"-0.500\" style=\"border-top: 0px solid rgba(0, 0, 0, 0); border-bottom: 5px solid rgba(255.0, 127.5, 127.5, 255.0); margin-left 1px; margin-right: 1px; background: black; color=white;\"><span style=\"color: white;\">-0.5</span></span><span title=\"-0.400\" style=\"border-top: 0px solid rgba(0, 0, 0, 0); border-bottom: 4px solid rgba(255.0, 153.0, 153.0, 255.0); margin-left 1px; margin-right: 1px; background: black; color=white;\"><span style=\"color: white;\">-0.4</span></span><span title=\"-0.300\" style=\"border-top: 0px solid rgba(0, 0, 0, 0); border-bottom: 3px solid rgba(255.0, 178.5, 178.5, 255.0); margin-left 1px; margin-right: 1px; background: black; color=white;\"><span style=\"color: white;\">-0.3</span></span><span title=\"-0.200\" style=\"border-top: 0px solid rgba(0, 0, 0, 0); border-bottom: 2px solid rgba(255.0, 204.0, 204.0, 255.0); margin-left 1px; margin-right: 1px; background: black; color=white;\"><span style=\"color: white;\">-0.2</span></span><span title=\"-0.100\" style=\"border-top: 0px solid rgba(0, 0, 0, 0); border-bottom: 1px solid rgba(255.0, 229.5, 229.5, 255.0); margin-left 1px; margin-right: 1px; background: black; color=white;\"><span style=\"color: white;\">-0.1</span></span><span title=\"0.000\" style=\"border-top: 0px solid rgba(0, 0, 0, 0); border-bottom: 0px solid rgba(255.0, 255.0, 255.0, 255.0); margin-left 1px; margin-right: 1px; background: black; color=white;\"><span style=\"color: white;\">0.0</span></span><span title=\"0.100\" style=\"border-top: 1px solid rgba(229.5, 255.0, 229.5, 255.0); border-bottom: 0px solid rgba(0, 0, 0, 0); margin-left 1px; margin-right: 1px; background: black; color=white;\"><span style=\"color: white;\">+0.1</span></span><span title=\"0.200\" style=\"border-top: 2px solid rgba(204.0, 255.0, 204.0, 255.0); border-bottom: 0px solid rgba(0, 0, 0, 0); margin-left 1px; margin-right: 1px; background: black; color=white;\"><span style=\"color: white;\">+0.2</span></span><span title=\"0.300\" style=\"border-top: 3px solid rgba(178.5, 255.0, 178.5, 255.0); border-bottom: 0px solid rgba(0, 0, 0, 0); margin-left 1px; margin-right: 1px; background: black; color=white;\"><span style=\"color: white;\">+0.3</span></span><span title=\"0.400\" style=\"border-top: 4px solid rgba(153.0, 255.0, 153.0, 255.0); border-bottom: 0px solid rgba(0, 0, 0, 0); margin-left 1px; margin-right: 1px; background: black; color=white;\"><span style=\"color: white;\">+0.4</span></span><span title=\"0.500\" style=\"border-top: 5px solid rgba(127.5, 255.0, 127.5, 255.0); border-bottom: 0px solid rgba(0, 0, 0, 0); margin-left 1px; margin-right: 1px; background: black; color=white;\"><span style=\"color: white;\">+0.5</span></span><span title=\"0.600\" style=\"border-top: 6px solid rgba(102.0, 255.0, 102.0, 255.0); border-bottom: 0px solid rgba(0, 0, 0, 0); margin-left 1px; margin-right: 1px; background: black; color=white;\"><span style=\"color: white;\">+0.6</span></span><span title=\"0.700\" style=\"border-top: 7px solid rgba(76.50000000000001, 255.0, 76.50000000000001, 255.0); border-bottom: 0px solid rgba(0, 0, 0, 0); margin-left 1px; margin-right: 1px; background: black; color=white;\"><span style=\"color: white;\">+0.7</span></span><span title=\"0.800\" style=\"border-top: 8px solid rgba(50.999999999999986, 255.0, 50.999999999999986, 255.0); border-bottom: 0px solid rgba(0, 0, 0, 0); margin-left 1px; margin-right: 1px; background: black; color=white;\"><span style=\"color: white;\">+0.8</span></span><span title=\"0.900\" style=\"border-top: 9px solid rgba(25.499999999999993, 255.0, 25.499999999999993, 255.0); border-bottom: 0px solid rgba(0, 0, 0, 0); margin-left 1px; margin-right: 1px; background: black; color=white;\"><span style=\"color: white;\">+0.9</span></span><span title=\"1.000\" style=\"border-top: 10px solid rgba(0.0, 255.0, 0.0, 255.0); border-bottom: 0px solid rgba(0, 0, 0, 0); margin-left 1px; margin-right: 1px; background: black; color=white;\"><span style=\"color: white;\">+1.0</span></span></div><br/><br/><div style=\"padding: 5px; maring: 0px; background: black;\"><div style=\"padding: 5px; maring: 0px; background: black;\"><span style=\"color: rgba(0, 100, 100, 1.0);\">ClassQoI</span><sub style=\"color: rgba(0, 100, 100, 1.0);\">2</sub>&nbsp;<span style=\"padding: 2px; border: 2px solid False;\"><span title=\"0.002\" style=\"border-top: 0px solid rgba(254.57694088399876, 255.0, 254.57694088399876, 255.0); border-bottom: 0px solid rgba(0, 0, 0, 0); margin-left 1px; margin-right: 1px; background: black; color=white;\"><span style=\"color: white;\">negative</span></span></span>&nbsp;<span style=\"padding: 2px; border: 2px solid False;\"><span title=\"0.007\" style=\"border-top: 0px solid rgba(253.20547718089074, 255.0, 253.20547718089074, 255.0); border-bottom: 0px solid rgba(0, 0, 0, 0); margin-left 1px; margin-right: 1px; background: black; color=white;\"><span style=\"color: white;\">neutral</span></span></span>&nbsp;<span style=\"padding: 2px; border: 2px solid white;\"><span style=\"padding: 2px; border: 2px solid rgba(0, 100, 100, 1.0);\"><span title=\"0.991\" style=\"border-top: 9px solid rgba(2.217591404914856, 255.0, 2.217591404914856, 255.0); border-bottom: 0px solid rgba(0, 0, 0, 0); margin-left 1px; margin-right: 1px; background: black; color=white;\"><span style=\"color: white;\">positive</span></span></span></span><span title=\"0.000\" style=\"border-top: 0px solid rgba(0, 0, 0, 0); border-bottom: 0px solid rgba(255.0, 255.0, 255.0, 255.0); margin-left 1px; margin-right: 1px; background: black; color=white;\"><span style=\"color: white;\">&lt;s&gt;</span></span><span title=\"-0.298\" style=\"border-top: 0px solid rgba(0, 0, 0, 0); border-bottom: 2px solid rgba(255.0, 179.08451959490776, 179.08451959490776, 255.0); margin-left 1px; margin-right: 1px; background: black; color=white;\"><span style=\"color: white;\">I</span></span><span title=\"0.705\" style=\"border-top: 7px solid rgba(75.15373528003693, 255.0, 75.15373528003693, 255.0); border-bottom: 0px solid rgba(0, 0, 0, 0); margin-left 1px; margin-right: 1px; background: black; color=white;\"><span style=\"color: white;\">&#x27;m</span></span>&nbsp;<span title=\"1.266\" style=\"border-top: 10px solid rgba(0.0, 255.0, 0.0, 255.0); border-bottom: 0px solid rgba(0, 0, 0, 0); margin-left 1px; margin-right: 1px; background: black; color=white;\"><span style=\"color: white;\">so</span></span>&nbsp;<span title=\"2.176\" style=\"border-top: 10px solid rgba(0.0, 255.0, 0.0, 255.0); border-bottom: 0px solid rgba(0, 0, 0, 0); margin-left 1px; margin-right: 1px; background: black; color=white;\"><span style=\"color: white;\">happy</span></span><span title=\"0.423\" style=\"border-top: 4px solid rgba(147.0148180425167, 255.0, 147.0148180425167, 255.0); border-bottom: 0px solid rgba(0, 0, 0, 0); margin-left 1px; margin-right: 1px; background: black; color=white;\"><span style=\"color: white;\">!</span></span><span title=\"0.000\" style=\"border-top: 0px solid rgba(0, 0, 0, 0); border-bottom: 0px solid rgba(255.0, 255.0, 255.0, 255.0); margin-left 1px; margin-right: 1px; background: black; color=white;\"><span style=\"color: white;\">&lt;/s&gt;</span></span><br/><br/></div></div><div style=\"padding: 5px; maring: 0px; background: black;\"><div style=\"padding: 5px; maring: 0px; background: black;\"><span style=\"color: rgba(0, 100, 100, 1.0);\">ClassQoI</span><sub style=\"color: rgba(0, 100, 100, 1.0);\">2</sub>&nbsp;<span style=\"padding: 2px; border: 2px solid white;\"><span style=\"padding: 2px; border: 2px solid False;\"><span title=\"0.943\" style=\"border-top: 9px solid rgba(14.417794346809387, 255.0, 14.417794346809387, 255.0); border-bottom: 0px solid rgba(0, 0, 0, 0); margin-left 1px; margin-right: 1px; background: black; color=white;\"><span style=\"color: white;\">negative</span></span></span></span>&nbsp;<span style=\"padding: 2px; border: 2px solid False;\"><span title=\"0.048\" style=\"border-top: 0px solid rgba(242.72580742835999, 255.0, 242.72580742835999, 255.0); border-bottom: 0px solid rgba(0, 0, 0, 0); margin-left 1px; margin-right: 1px; background: black; color=white;\"><span style=\"color: white;\">neutral</span></span></span>&nbsp;<span style=\"padding: 2px; border: 2px solid rgba(0, 100, 100, 1.0);\"><span title=\"0.008\" style=\"border-top: 0px solid rgba(252.85642007365823, 255.0, 252.85642007365823, 255.0); border-bottom: 0px solid rgba(0, 0, 0, 0); margin-left 1px; margin-right: 1px; background: black; color=white;\"><span style=\"color: white;\">positive</span></span></span><span title=\"0.000\" style=\"border-top: 0px solid rgba(0, 0, 0, 0); border-bottom: 0px solid rgba(255.0, 255.0, 255.0, 255.0); margin-left 1px; margin-right: 1px; background: black; color=white;\"><span style=\"color: white;\">&lt;s&gt;</span></span><span title=\"-0.032\" style=\"border-top: 0px solid rgba(0, 0, 0, 0); border-bottom: 0px solid rgba(255.0, 246.8901065737009, 246.8901065737009, 255.0); margin-left 1px; margin-right: 1px; background: black; color=white;\"><span style=\"color: white;\">I</span></span><span title=\"-0.147\" style=\"border-top: 0px solid rgba(0, 0, 0, 0); border-bottom: 1px solid rgba(255.0, 217.49553367495537, 217.49553367495537, 255.0); margin-left 1px; margin-right: 1px; background: black; color=white;\"><span style=\"color: white;\">&#x27;m</span></span>&nbsp;<span title=\"-0.615\" style=\"border-top: 0px solid rgba(0, 0, 0, 0); border-bottom: 6px solid rgba(255.0, 98.12730252742767, 98.12730252742767, 255.0); margin-left 1px; margin-right: 1px; background: black; color=white;\"><span style=\"color: white;\">so</span></span>&nbsp;<span title=\"-0.756\" style=\"border-top: 0px solid rgba(0, 0, 0, 0); border-bottom: 7px solid rgba(255.0, 62.31208115816116, 62.31208115816116, 255.0); margin-left 1px; margin-right: 1px; background: black; color=white;\"><span style=\"color: white;\">sad</span></span><span title=\"-0.416\" style=\"border-top: 0px solid rgba(0, 0, 0, 0); border-bottom: 4px solid rgba(255.0, 148.9142981171608, 148.9142981171608, 255.0); margin-left 1px; margin-right: 1px; background: black; color=white;\"><span style=\"color: white;\">!</span></span><span title=\"0.000\" style=\"border-top: 0px solid rgba(0, 0, 0, 0); border-bottom: 0px solid rgba(255.0, 255.0, 255.0, 255.0); margin-left 1px; margin-right: 1px; background: black; color=white;\"><span style=\"color: white;\">&lt;/s&gt;</span></span><br/><br/></div></div><div style=\"padding: 5px; maring: 0px; background: black;\"><div style=\"padding: 5px; maring: 0px; background: black;\"><span style=\"color: rgba(0, 100, 100, 1.0);\">ClassQoI</span><sub style=\"color: rgba(0, 100, 100, 1.0);\">2</sub>&nbsp;<span style=\"padding: 2px; border: 2px solid white;\"><span style=\"padding: 2px; border: 2px solid False;\"><span title=\"0.486\" style=\"border-top: 4px solid rgba(131.07586652040482, 255.0, 131.07586652040482, 255.0); border-bottom: 0px solid rgba(0, 0, 0, 0); margin-left 1px; margin-right: 1px; background: black; color=white;\"><span style=\"color: white;\">negative</span></span></span></span>&nbsp;<span style=\"padding: 2px; border: 2px solid False;\"><span title=\"0.390\" style=\"border-top: 3px solid rgba(155.52060842514038, 255.0, 155.52060842514038, 255.0); border-bottom: 0px solid rgba(0, 0, 0, 0); margin-left 1px; margin-right: 1px; background: black; color=white;\"><span style=\"color: white;\">neutral</span></span></span>&nbsp;<span style=\"padding: 2px; border: 2px solid rgba(0, 100, 100, 1.0);\"><span title=\"0.124\" style=\"border-top: 1px solid rgba(223.40350795537233, 255.0, 223.40350795537233, 255.0); border-bottom: 0px solid rgba(0, 0, 0, 0); margin-left 1px; margin-right: 1px; background: black; color=white;\"><span style=\"color: white;\">positive</span></span></span><span title=\"0.000\" style=\"border-top: 0px solid rgba(0, 0, 0, 0); border-bottom: 0px solid rgba(255.0, 255.0, 255.0, 255.0); margin-left 1px; margin-right: 1px; background: black; color=white;\"><span style=\"color: white;\">&lt;s&gt;</span></span><span title=\"-0.081\" style=\"border-top: 0px solid rgba(0, 0, 0, 0); border-bottom: 0px solid rgba(255.0, 234.3980621919036, 234.3980621919036, 255.0); margin-left 1px; margin-right: 1px; background: black; color=white;\"><span style=\"color: white;\">I</span></span>&nbsp;<span title=\"-0.567\" style=\"border-top: 0px solid rgba(0, 0, 0, 0); border-bottom: 5px solid rgba(255.0, 110.28961390256882, 110.28961390256882, 255.0); margin-left 1px; margin-right: 1px; background: black; color=white;\"><span style=\"color: white;\">cannot</span></span>&nbsp;<span title=\"-0.052\" style=\"border-top: 0px solid rgba(0, 0, 0, 0); border-bottom: 0px solid rgba(255.0, 241.74648692831397, 241.74648692831397, 255.0); margin-left 1px; margin-right: 1px; background: black; color=white;\"><span style=\"color: white;\">tell</span></span>&nbsp;<span title=\"-0.543\" style=\"border-top: 0px solid rgba(0, 0, 0, 0); border-bottom: 5px solid rgba(255.0, 116.56336605548859, 116.56336605548859, 255.0); margin-left 1px; margin-right: 1px; background: black; color=white;\"><span style=\"color: white;\">whether</span></span>&nbsp;<span title=\"0.318\" style=\"border-top: 3px solid rgba(173.9319732785225, 255.0, 173.9319732785225, 255.0); border-bottom: 0px solid rgba(0, 0, 0, 0); margin-left 1px; margin-right: 1px; background: black; color=white;\"><span style=\"color: white;\">I</span></span>&nbsp;<span title=\"0.100\" style=\"border-top: 1px solid rgba(229.46624033153057, 255.0, 229.46624033153057, 255.0); border-bottom: 0px solid rgba(0, 0, 0, 0); margin-left 1px; margin-right: 1px; background: black; color=white;\"><span style=\"color: white;\">should</span></span>&nbsp;<span title=\"0.359\" style=\"border-top: 3px solid rgba(163.56152415275574, 255.0, 163.56152415275574, 255.0); border-bottom: 0px solid rgba(0, 0, 0, 0); margin-left 1px; margin-right: 1px; background: black; color=white;\"><span style=\"color: white;\">be</span></span>&nbsp;<span title=\"0.842\" style=\"border-top: 8px solid rgba(40.19141614437103, 255.0, 40.19141614437103, 255.0); border-bottom: 0px solid rgba(0, 0, 0, 0); margin-left 1px; margin-right: 1px; background: black; color=white;\"><span style=\"color: white;\">happy</span></span>&nbsp;<span title=\"0.117\" style=\"border-top: 1px solid rgba(225.2748315408826, 255.0, 225.2748315408826, 255.0); border-bottom: 0px solid rgba(0, 0, 0, 0); margin-left 1px; margin-right: 1px; background: black; color=white;\"><span style=\"color: white;\">or</span></span>&nbsp;<span title=\"-0.523\" style=\"border-top: 0px solid rgba(0, 0, 0, 0); border-bottom: 5px solid rgba(255.0, 121.6529193520546, 121.6529193520546, 255.0); margin-left 1px; margin-right: 1px; background: black; color=white;\"><span style=\"color: white;\">sad</span></span><span title=\"-0.187\" style=\"border-top: 0px solid rgba(0, 0, 0, 0); border-bottom: 1px solid rgba(255.0, 207.36555844545364, 207.36555844545364, 255.0); margin-left 1px; margin-right: 1px; background: black; color=white;\"><span style=\"color: white;\">!</span></span><span title=\"0.000\" style=\"border-top: 0px solid rgba(0, 0, 0, 0); border-bottom: 0px solid rgba(255.0, 255.0, 255.0, 255.0); margin-left 1px; margin-right: 1px; background: black; color=white;\"><span style=\"color: white;\">&lt;/s&gt;</span></span><br/><br/></div></div><div style=\"padding: 5px; maring: 0px; background: black;\"><div style=\"padding: 5px; maring: 0px; background: black;\"><span style=\"color: rgba(0, 100, 100, 1.0);\">ClassQoI</span><sub style=\"color: rgba(0, 100, 100, 1.0);\">2</sub>&nbsp;<span style=\"padding: 2px; border: 2px solid False;\"><span title=\"0.232\" style=\"border-top: 2px solid rgba(195.88623762130737, 255.0, 195.88623762130737, 255.0); border-bottom: 0px solid rgba(0, 0, 0, 0); margin-left 1px; margin-right: 1px; background: black; color=white;\"><span style=\"color: white;\">negative</span></span></span>&nbsp;<span style=\"padding: 2px; border: 2px solid white;\"><span style=\"padding: 2px; border: 2px solid False;\"><span title=\"0.530\" style=\"border-top: 5px solid rgba(119.76802289485931, 255.0, 119.76802289485931, 255.0); border-bottom: 0px solid rgba(0, 0, 0, 0); margin-left 1px; margin-right: 1px; background: black; color=white;\"><span style=\"color: white;\">neutral</span></span></span></span>&nbsp;<span style=\"padding: 2px; border: 2px solid rgba(0, 100, 100, 1.0);\"><span title=\"0.238\" style=\"border-top: 2px solid rgba(194.34575088322163, 255.0, 194.34575088322163, 255.0); border-bottom: 0px solid rgba(0, 0, 0, 0); margin-left 1px; margin-right: 1px; background: black; color=white;\"><span style=\"color: white;\">positive</span></span></span><span title=\"0.000\" style=\"border-top: 0px solid rgba(0, 0, 0, 0); border-bottom: 0px solid rgba(255.0, 255.0, 255.0, 255.0); margin-left 1px; margin-right: 1px; background: black; color=white;\"><span style=\"color: white;\">&lt;s&gt;</span></span><span title=\"0.373\" style=\"border-top: 3px solid rgba(159.81937855482101, 255.0, 159.81937855482101, 255.0); border-bottom: 0px solid rgba(0, 0, 0, 0); margin-left 1px; margin-right: 1px; background: black; color=white;\"><span style=\"color: white;\">me</span></span><span title=\"-0.779\" style=\"border-top: 0px solid rgba(0, 0, 0, 0); border-bottom: 7px solid rgba(255.0, 56.385599970817566, 56.385599970817566, 255.0); margin-left 1px; margin-right: 1px; background: black; color=white;\"><span style=\"color: white;\">h</span></span><span title=\"0.000\" style=\"border-top: 0px solid rgba(0, 0, 0, 0); border-bottom: 0px solid rgba(255.0, 255.0, 255.0, 255.0); margin-left 1px; margin-right: 1px; background: black; color=white;\"><span style=\"color: white;\">&lt;/s&gt;</span></span><br/><br/></div></div></body></html>"
      ],
      "text/plain": [
       "<IPython.core.display.HTML object>"
      ]
     },
     "execution_count": 14,
     "metadata": {},
     "output_type": "execute_result"
    }
   ],
   "source": [
    "infl_positive_baseline = IntegratedGradients(\n",
    "    model = task.wrapper,\n",
    "    resolution=50,\n",
    "    baseline = inputs_baseline_embeddings,\n",
    "    doi_cut=Cut('roberta_embeddings_word_embeddings'),\n",
    "    qoi=ClassQoI(task.POSITIVE),\n",
    "    qoi_cut=OutputCut(accessor=lambda o: o['logits'])\n",
    ")\n",
    "\n",
    "print(\"QOI = POSITIVE WITH BASELINE\")\n",
    "V.tokens(sentences, attributor=infl_positive_baseline)"
   ]
  },
  {
   "cell_type": "markdown",
   "metadata": {},
   "source": [
    "As we see, the baseline eliminated the measurement of contribution of the special tokens."
   ]
  },
  {
   "cell_type": "code",
   "execution_count": 21,
   "metadata": {},
   "outputs": [
    {
     "name": "stdout",
     "output_type": "stream",
     "text": [
      "QOI = CUSTOM\n"
     ]
    },
    {
     "data": {
      "text/html": [
       "<html><body><div style=\"padding: 5px; maring: 0px; background: black;\"><span style=\"color: white;\">scale:</span>&nbsp;<span title=\"-1.000\" style=\"border-top: 0px solid rgba(0, 0, 0, 0); border-bottom: 10px solid rgba(255.0, 0.0, 0.0, 255.0); margin-left 1px; margin-right: 1px; background: black; color=white;\"><span style=\"color: white;\">-1.0</span></span><span title=\"-0.900\" style=\"border-top: 0px solid rgba(0, 0, 0, 0); border-bottom: 9px solid rgba(255.0, 25.499999999999993, 25.499999999999993, 255.0); margin-left 1px; margin-right: 1px; background: black; color=white;\"><span style=\"color: white;\">-0.9</span></span><span title=\"-0.800\" style=\"border-top: 0px solid rgba(0, 0, 0, 0); border-bottom: 8px solid rgba(255.0, 50.999999999999986, 50.999999999999986, 255.0); margin-left 1px; margin-right: 1px; background: black; color=white;\"><span style=\"color: white;\">-0.8</span></span><span title=\"-0.700\" style=\"border-top: 0px solid rgba(0, 0, 0, 0); border-bottom: 7px solid rgba(255.0, 76.50000000000001, 76.50000000000001, 255.0); margin-left 1px; margin-right: 1px; background: black; color=white;\"><span style=\"color: white;\">-0.7</span></span><span title=\"-0.600\" style=\"border-top: 0px solid rgba(0, 0, 0, 0); border-bottom: 6px solid rgba(255.0, 102.0, 102.0, 255.0); margin-left 1px; margin-right: 1px; background: black; color=white;\"><span style=\"color: white;\">-0.6</span></span><span title=\"-0.500\" style=\"border-top: 0px solid rgba(0, 0, 0, 0); border-bottom: 5px solid rgba(255.0, 127.5, 127.5, 255.0); margin-left 1px; margin-right: 1px; background: black; color=white;\"><span style=\"color: white;\">-0.5</span></span><span title=\"-0.400\" style=\"border-top: 0px solid rgba(0, 0, 0, 0); border-bottom: 4px solid rgba(255.0, 153.0, 153.0, 255.0); margin-left 1px; margin-right: 1px; background: black; color=white;\"><span style=\"color: white;\">-0.4</span></span><span title=\"-0.300\" style=\"border-top: 0px solid rgba(0, 0, 0, 0); border-bottom: 3px solid rgba(255.0, 178.5, 178.5, 255.0); margin-left 1px; margin-right: 1px; background: black; color=white;\"><span style=\"color: white;\">-0.3</span></span><span title=\"-0.200\" style=\"border-top: 0px solid rgba(0, 0, 0, 0); border-bottom: 2px solid rgba(255.0, 204.0, 204.0, 255.0); margin-left 1px; margin-right: 1px; background: black; color=white;\"><span style=\"color: white;\">-0.2</span></span><span title=\"-0.100\" style=\"border-top: 0px solid rgba(0, 0, 0, 0); border-bottom: 1px solid rgba(255.0, 229.5, 229.5, 255.0); margin-left 1px; margin-right: 1px; background: black; color=white;\"><span style=\"color: white;\">-0.1</span></span><span title=\"0.000\" style=\"border-top: 0px solid rgba(0, 0, 0, 0); border-bottom: 0px solid rgba(255.0, 255.0, 255.0, 255.0); margin-left 1px; margin-right: 1px; background: black; color=white;\"><span style=\"color: white;\">0.0</span></span><span title=\"0.100\" style=\"border-top: 1px solid rgba(229.5, 255.0, 229.5, 255.0); border-bottom: 0px solid rgba(0, 0, 0, 0); margin-left 1px; margin-right: 1px; background: black; color=white;\"><span style=\"color: white;\">+0.1</span></span><span title=\"0.200\" style=\"border-top: 2px solid rgba(204.0, 255.0, 204.0, 255.0); border-bottom: 0px solid rgba(0, 0, 0, 0); margin-left 1px; margin-right: 1px; background: black; color=white;\"><span style=\"color: white;\">+0.2</span></span><span title=\"0.300\" style=\"border-top: 3px solid rgba(178.5, 255.0, 178.5, 255.0); border-bottom: 0px solid rgba(0, 0, 0, 0); margin-left 1px; margin-right: 1px; background: black; color=white;\"><span style=\"color: white;\">+0.3</span></span><span title=\"0.400\" style=\"border-top: 4px solid rgba(153.0, 255.0, 153.0, 255.0); border-bottom: 0px solid rgba(0, 0, 0, 0); margin-left 1px; margin-right: 1px; background: black; color=white;\"><span style=\"color: white;\">+0.4</span></span><span title=\"0.500\" style=\"border-top: 5px solid rgba(127.5, 255.0, 127.5, 255.0); border-bottom: 0px solid rgba(0, 0, 0, 0); margin-left 1px; margin-right: 1px; background: black; color=white;\"><span style=\"color: white;\">+0.5</span></span><span title=\"0.600\" style=\"border-top: 6px solid rgba(102.0, 255.0, 102.0, 255.0); border-bottom: 0px solid rgba(0, 0, 0, 0); margin-left 1px; margin-right: 1px; background: black; color=white;\"><span style=\"color: white;\">+0.6</span></span><span title=\"0.700\" style=\"border-top: 7px solid rgba(76.50000000000001, 255.0, 76.50000000000001, 255.0); border-bottom: 0px solid rgba(0, 0, 0, 0); margin-left 1px; margin-right: 1px; background: black; color=white;\"><span style=\"color: white;\">+0.7</span></span><span title=\"0.800\" style=\"border-top: 8px solid rgba(50.999999999999986, 255.0, 50.999999999999986, 255.0); border-bottom: 0px solid rgba(0, 0, 0, 0); margin-left 1px; margin-right: 1px; background: black; color=white;\"><span style=\"color: white;\">+0.8</span></span><span title=\"0.900\" style=\"border-top: 9px solid rgba(25.499999999999993, 255.0, 25.499999999999993, 255.0); border-bottom: 0px solid rgba(0, 0, 0, 0); margin-left 1px; margin-right: 1px; background: black; color=white;\"><span style=\"color: white;\">+0.9</span></span><span title=\"1.000\" style=\"border-top: 10px solid rgba(0.0, 255.0, 0.0, 255.0); border-bottom: 0px solid rgba(0, 0, 0, 0); margin-left 1px; margin-right: 1px; background: black; color=white;\"><span style=\"color: white;\">+1.0</span></span></div><br/><br/><div style=\"padding: 5px; maring: 0px; background: black;\"><div style=\"padding: 5px; maring: 0px; background: black;\"><span style=\"padding: 2px; border: 2px solid False;\"><span title=\"0.002\" style=\"border-top: 0px solid rgba(254.57694088399876, 255.0, 254.57694088399876, 255.0); border-bottom: 0px solid rgba(0, 0, 0, 0); margin-left 1px; margin-right: 1px; background: black; color=white;\"><span style=\"color: white;\">negative</span></span></span>&nbsp;<span style=\"padding: 2px; border: 2px solid False;\"><span title=\"0.007\" style=\"border-top: 0px solid rgba(253.20547718089074, 255.0, 253.20547718089074, 255.0); border-bottom: 0px solid rgba(0, 0, 0, 0); margin-left 1px; margin-right: 1px; background: black; color=white;\"><span style=\"color: white;\">neutral</span></span></span>&nbsp;<span style=\"padding: 2px; border: 2px solid white;\"><span style=\"padding: 2px; border: 2px solid False;\"><span title=\"0.991\" style=\"border-top: 9px solid rgba(2.217591404914856, 255.0, 2.217591404914856, 255.0); border-bottom: 0px solid rgba(0, 0, 0, 0); margin-left 1px; margin-right: 1px; background: black; color=white;\"><span style=\"color: white;\">positive</span></span></span></span><span title=\"0.000\" style=\"border-top: 0px solid rgba(0, 0, 0, 0); border-bottom: 0px solid rgba(255.0, 255.0, 255.0, 255.0); margin-left 1px; margin-right: 1px; background: black; color=white;\"><span style=\"color: white;\">&lt;s&gt;</span></span><span title=\"-0.389\" style=\"border-top: 0px solid rgba(0, 0, 0, 0); border-bottom: 3px solid rgba(255.0, 155.68308010697365, 155.68308010697365, 255.0); margin-left 1px; margin-right: 1px; background: black; color=white;\"><span style=\"color: white;\">I</span></span><span title=\"0.825\" style=\"border-top: 8px solid rgba(44.62027609348297, 255.0, 44.62027609348297, 255.0); border-bottom: 0px solid rgba(0, 0, 0, 0); margin-left 1px; margin-right: 1px; background: black; color=white;\"><span style=\"color: white;\">&#x27;m</span></span>&nbsp;<span title=\"1.804\" style=\"border-top: 10px solid rgba(0.0, 255.0, 0.0, 255.0); border-bottom: 0px solid rgba(0, 0, 0, 0); margin-left 1px; margin-right: 1px; background: black; color=white;\"><span style=\"color: white;\">so</span></span>&nbsp;<span title=\"3.373\" style=\"border-top: 10px solid rgba(0.0, 255.0, 0.0, 255.0); border-bottom: 0px solid rgba(0, 0, 0, 0); margin-left 1px; margin-right: 1px; background: black; color=white;\"><span style=\"color: white;\">happy</span></span><span title=\"0.833\" style=\"border-top: 8px solid rgba(42.60893762111664, 255.0, 42.60893762111664, 255.0); border-bottom: 0px solid rgba(0, 0, 0, 0); margin-left 1px; margin-right: 1px; background: black; color=white;\"><span style=\"color: white;\">!</span></span><span title=\"0.000\" style=\"border-top: 0px solid rgba(0, 0, 0, 0); border-bottom: 0px solid rgba(255.0, 255.0, 255.0, 255.0); margin-left 1px; margin-right: 1px; background: black; color=white;\"><span style=\"color: white;\">&lt;/s&gt;</span></span><br/><br/></div></div><div style=\"padding: 5px; maring: 0px; background: black;\"><div style=\"padding: 5px; maring: 0px; background: black;\"><span style=\"padding: 2px; border: 2px solid white;\"><span style=\"padding: 2px; border: 2px solid False;\"><span title=\"0.943\" style=\"border-top: 9px solid rgba(14.417794346809387, 255.0, 14.417794346809387, 255.0); border-bottom: 0px solid rgba(0, 0, 0, 0); margin-left 1px; margin-right: 1px; background: black; color=white;\"><span style=\"color: white;\">negative</span></span></span></span>&nbsp;<span style=\"padding: 2px; border: 2px solid False;\"><span title=\"0.048\" style=\"border-top: 0px solid rgba(242.72580742835999, 255.0, 242.72580742835999, 255.0); border-bottom: 0px solid rgba(0, 0, 0, 0); margin-left 1px; margin-right: 1px; background: black; color=white;\"><span style=\"color: white;\">neutral</span></span></span>&nbsp;<span style=\"padding: 2px; border: 2px solid False;\"><span title=\"0.008\" style=\"border-top: 0px solid rgba(252.85642007365823, 255.0, 252.85642007365823, 255.0); border-bottom: 0px solid rgba(0, 0, 0, 0); margin-left 1px; margin-right: 1px; background: black; color=white;\"><span style=\"color: white;\">positive</span></span></span><span title=\"0.000\" style=\"border-top: 0px solid rgba(0, 0, 0, 0); border-bottom: 0px solid rgba(255.0, 255.0, 255.0, 255.0); margin-left 1px; margin-right: 1px; background: black; color=white;\"><span style=\"color: white;\">&lt;s&gt;</span></span><span title=\"0.044\" style=\"border-top: 0px solid rgba(243.78047978505492, 255.0, 243.78047978505492, 255.0); border-bottom: 0px solid rgba(0, 0, 0, 0); margin-left 1px; margin-right: 1px; background: black; color=white;\"><span style=\"color: white;\">I</span></span><span title=\"-0.448\" style=\"border-top: 0px solid rgba(0, 0, 0, 0); border-bottom: 4px solid rgba(255.0, 140.6846997141838, 140.6846997141838, 255.0); margin-left 1px; margin-right: 1px; background: black; color=white;\"><span style=\"color: white;\">&#x27;m</span></span>&nbsp;<span title=\"-1.643\" style=\"border-top: 0px solid rgba(0, 0, 0, 0); border-bottom: 10px solid rgba(255.0, 0.0, 0.0, 255.0); margin-left 1px; margin-right: 1px; background: black; color=white;\"><span style=\"color: white;\">so</span></span>&nbsp;<span title=\"-2.076\" style=\"border-top: 0px solid rgba(0, 0, 0, 0); border-bottom: 10px solid rgba(255.0, 0.0, 0.0, 255.0); margin-left 1px; margin-right: 1px; background: black; color=white;\"><span style=\"color: white;\">sad</span></span><span title=\"-0.508\" style=\"border-top: 0px solid rgba(0, 0, 0, 0); border-bottom: 5px solid rgba(255.0, 125.54938226938248, 125.54938226938248, 255.0); margin-left 1px; margin-right: 1px; background: black; color=white;\"><span style=\"color: white;\">!</span></span><span title=\"0.000\" style=\"border-top: 0px solid rgba(0, 0, 0, 0); border-bottom: 0px solid rgba(255.0, 255.0, 255.0, 255.0); margin-left 1px; margin-right: 1px; background: black; color=white;\"><span style=\"color: white;\">&lt;/s&gt;</span></span><br/><br/></div></div><div style=\"padding: 5px; maring: 0px; background: black;\"><div style=\"padding: 5px; maring: 0px; background: black;\"><span style=\"padding: 2px; border: 2px solid white;\"><span style=\"padding: 2px; border: 2px solid False;\"><span title=\"0.486\" style=\"border-top: 4px solid rgba(131.07586652040482, 255.0, 131.07586652040482, 255.0); border-bottom: 0px solid rgba(0, 0, 0, 0); margin-left 1px; margin-right: 1px; background: black; color=white;\"><span style=\"color: white;\">negative</span></span></span></span>&nbsp;<span style=\"padding: 2px; border: 2px solid False;\"><span title=\"0.390\" style=\"border-top: 3px solid rgba(155.52060842514038, 255.0, 155.52060842514038, 255.0); border-bottom: 0px solid rgba(0, 0, 0, 0); margin-left 1px; margin-right: 1px; background: black; color=white;\"><span style=\"color: white;\">neutral</span></span></span>&nbsp;<span style=\"padding: 2px; border: 2px solid False;\"><span title=\"0.124\" style=\"border-top: 1px solid rgba(223.40350795537233, 255.0, 223.40350795537233, 255.0); border-bottom: 0px solid rgba(0, 0, 0, 0); margin-left 1px; margin-right: 1px; background: black; color=white;\"><span style=\"color: white;\">positive</span></span></span><span title=\"0.000\" style=\"border-top: 0px solid rgba(0, 0, 0, 0); border-bottom: 0px solid rgba(255.0, 255.0, 255.0, 255.0); margin-left 1px; margin-right: 1px; background: black; color=white;\"><span style=\"color: white;\">&lt;s&gt;</span></span><span title=\"0.026\" style=\"border-top: 0px solid rgba(248.40635251253843, 255.0, 248.40635251253843, 255.0); border-bottom: 0px solid rgba(0, 0, 0, 0); margin-left 1px; margin-right: 1px; background: black; color=white;\"><span style=\"color: white;\">I</span></span>&nbsp;<span title=\"-1.378\" style=\"border-top: 0px solid rgba(0, 0, 0, 0); border-bottom: 10px solid rgba(255.0, 0.0, 0.0, 255.0); margin-left 1px; margin-right: 1px; background: black; color=white;\"><span style=\"color: white;\">cannot</span></span>&nbsp;<span title=\"-0.062\" style=\"border-top: 0px solid rgba(0, 0, 0, 0); border-bottom: 0px solid rgba(255.0, 239.28118016570807, 239.28118016570807, 255.0); margin-left 1px; margin-right: 1px; background: black; color=white;\"><span style=\"color: white;\">tell</span></span>&nbsp;<span title=\"-1.008\" style=\"border-top: 0px solid rgba(0, 0, 0, 0); border-bottom: 10px solid rgba(255.0, 0.0, 0.0, 255.0); margin-left 1px; margin-right: 1px; background: black; color=white;\"><span style=\"color: white;\">whether</span></span>&nbsp;<span title=\"0.587\" style=\"border-top: 5px solid rgba(105.25173783302307, 255.0, 105.25173783302307, 255.0); border-bottom: 0px solid rgba(0, 0, 0, 0); margin-left 1px; margin-right: 1px; background: black; color=white;\"><span style=\"color: white;\">I</span></span>&nbsp;<span title=\"0.251\" style=\"border-top: 2px solid rgba(190.99665239453316, 255.0, 190.99665239453316, 255.0); border-bottom: 0px solid rgba(0, 0, 0, 0); margin-left 1px; margin-right: 1px; background: black; color=white;\"><span style=\"color: white;\">should</span></span>&nbsp;<span title=\"0.646\" style=\"border-top: 6px solid rgba(90.35532116889954, 255.0, 90.35532116889954, 255.0); border-bottom: 0px solid rgba(0, 0, 0, 0); margin-left 1px; margin-right: 1px; background: black; color=white;\"><span style=\"color: white;\">be</span></span>&nbsp;<span title=\"1.614\" style=\"border-top: 10px solid rgba(0.0, 255.0, 0.0, 255.0); border-bottom: 0px solid rgba(0, 0, 0, 0); margin-left 1px; margin-right: 1px; background: black; color=white;\"><span style=\"color: white;\">happy</span></span>&nbsp;<span title=\"0.319\" style=\"border-top: 3px solid rgba(173.60958337783813, 255.0, 173.60958337783813, 255.0); border-bottom: 0px solid rgba(0, 0, 0, 0); margin-left 1px; margin-right: 1px; background: black; color=white;\"><span style=\"color: white;\">or</span></span>&nbsp;<span title=\"-1.534\" style=\"border-top: 0px solid rgba(0, 0, 0, 0); border-bottom: 10px solid rgba(255.0, 0.0, 0.0, 255.0); margin-left 1px; margin-right: 1px; background: black; color=white;\"><span style=\"color: white;\">sad</span></span><span title=\"-0.319\" style=\"border-top: 0px solid rgba(0, 0, 0, 0); border-bottom: 3px solid rgba(255.0, 173.61712217330933, 173.61712217330933, 255.0); margin-left 1px; margin-right: 1px; background: black; color=white;\"><span style=\"color: white;\">!</span></span><span title=\"0.000\" style=\"border-top: 0px solid rgba(0, 0, 0, 0); border-bottom: 0px solid rgba(255.0, 255.0, 255.0, 255.0); margin-left 1px; margin-right: 1px; background: black; color=white;\"><span style=\"color: white;\">&lt;/s&gt;</span></span><br/><br/></div></div><div style=\"padding: 5px; maring: 0px; background: black;\"><div style=\"padding: 5px; maring: 0px; background: black;\"><span style=\"padding: 2px; border: 2px solid False;\"><span title=\"0.232\" style=\"border-top: 2px solid rgba(195.88623762130737, 255.0, 195.88623762130737, 255.0); border-bottom: 0px solid rgba(0, 0, 0, 0); margin-left 1px; margin-right: 1px; background: black; color=white;\"><span style=\"color: white;\">negative</span></span></span>&nbsp;<span style=\"padding: 2px; border: 2px solid white;\"><span style=\"padding: 2px; border: 2px solid False;\"><span title=\"0.530\" style=\"border-top: 5px solid rgba(119.76802289485931, 255.0, 119.76802289485931, 255.0); border-bottom: 0px solid rgba(0, 0, 0, 0); margin-left 1px; margin-right: 1px; background: black; color=white;\"><span style=\"color: white;\">neutral</span></span></span></span>&nbsp;<span style=\"padding: 2px; border: 2px solid False;\"><span title=\"0.238\" style=\"border-top: 2px solid rgba(194.34575088322163, 255.0, 194.34575088322163, 255.0); border-bottom: 0px solid rgba(0, 0, 0, 0); margin-left 1px; margin-right: 1px; background: black; color=white;\"><span style=\"color: white;\">positive</span></span></span><span title=\"0.000\" style=\"border-top: 0px solid rgba(0, 0, 0, 0); border-bottom: 0px solid rgba(255.0, 255.0, 255.0, 255.0); margin-left 1px; margin-right: 1px; background: black; color=white;\"><span style=\"color: white;\">&lt;s&gt;</span></span><span title=\"0.656\" style=\"border-top: 6px solid rgba(87.78477430343628, 255.0, 87.78477430343628, 255.0); border-bottom: 0px solid rgba(0, 0, 0, 0); margin-left 1px; margin-right: 1px; background: black; color=white;\"><span style=\"color: white;\">me</span></span><span title=\"-1.042\" style=\"border-top: 0px solid rgba(0, 0, 0, 0); border-bottom: 10px solid rgba(255.0, 0.0, 0.0, 255.0); margin-left 1px; margin-right: 1px; background: black; color=white;\"><span style=\"color: white;\">h</span></span><span title=\"0.000\" style=\"border-top: 0px solid rgba(0, 0, 0, 0); border-bottom: 0px solid rgba(255.0, 255.0, 255.0, 255.0); margin-left 1px; margin-right: 1px; background: black; color=white;\"><span style=\"color: white;\">&lt;/s&gt;</span></span><br/><br/></div></div></body></html>"
      ],
      "text/plain": [
       "<IPython.core.display.HTML object>"
      ]
     },
     "execution_count": 21,
     "metadata": {},
     "output_type": "execute_result"
    }
   ],
   "source": [
    "from trulens.nn.quantities import LambdaQoI, ComparativeQoI\n",
    "\n",
    "infl_custom_qoi = IntegratedGradients(\n",
    "    model = task.wrapper,\n",
    "    resolution=50,\n",
    "    baseline = inputs_baseline_embeddings,\n",
    "    doi_cut=Cut('roberta_embeddings_word_embeddings'),\n",
    "    qoi=LambdaQoI(lambda logits: (logits[:,2]-logits[:,0]).sum()), # <-- custom quantity of interest\n",
    "    # qoi=ComparativeQoI(cl1=2, cl2=0), # <-- equivalent to the above\n",
    "    qoi_cut=OutputCut(accessor=lambda o: o['logits'])\n",
    ")\n",
    "\n",
    "print(\"QOI = CUSTOM\")\n",
    "V.tokens(sentences, infl_custom_qoi)"
   ]
  },
  {
   "cell_type": "code",
   "execution_count": 17,
   "metadata": {},
   "outputs": [],
   "source": [
    "from trulens.nn.quantities import LambdaQoI\n",
    "\n",
    "infl_custom_qoi = IntegratedGradients(\n",
    "    model = task.wrapper,\n",
    "    resolution=50,\n",
    "    baseline = inputs_baseline_embeddings,\n",
    "    doi_cut=Cut('roberta_embeddings_word_embeddings'), # <-- distribution of interest\n",
    "    qoi=ClassQoI(task.POSITIVE),\n",
    "    qoi_cut=OutputCut(accessor=lambda o: o['logits'])\n",
    ")\n"
   ]
  },
  {
   "cell_type": "code",
   "execution_count": null,
   "metadata": {},
   "outputs": [],
   "source": []
  }
 ],
 "metadata": {
  "anaconda-cloud": {},
  "interpreter": {
   "hash": "51eb71198507ab2c2a4108a27eda9d9658549732e67153fc0e371d8439827db7"
  },
  "kernelspec": {
   "display_name": "test-fresh-11-29",
   "language": "python",
   "name": "python3"
  },
  "language_info": {
   "codemirror_mode": {
    "name": "ipython",
    "version": 3
   },
   "file_extension": ".py",
   "mimetype": "text/x-python",
   "name": "python",
   "nbconvert_exporter": "python",
   "pygments_lexer": "ipython3",
   "version": "3.7.13"
  }
 },
 "nbformat": 4,
 "nbformat_minor": 2
}
