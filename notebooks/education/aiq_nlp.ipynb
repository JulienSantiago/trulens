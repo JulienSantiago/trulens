{
 "cells": [
  {
   "cell_type": "code",
   "execution_count": null,
   "metadata": {},
   "outputs": [],
   "source": [
    "%load_ext autoreload\n",
    "%autoreload 2"
   ]
  },
  {
   "cell_type": "code",
   "execution_count": null,
   "metadata": {},
   "outputs": [],
   "source": [
    "import sys\n",
    "\n",
    "# Use this if running this notebook from within its place in the truera repository.\n",
    "sys.path.insert(0, \"../..\")\n",
    "\n",
    "# Install transformers / huggingface.\n",
    "# !{sys.executable} -m pip install torch\n",
    "# !{sys.executable} -m pip install transformers\n",
    "# !{sys.executable} -m pip install mkl\n",
    "# !{sys.executable} -m pip install vision\n",
    "\n",
    "# Or otherwise install trulens.\n",
    "# !{sys.executable} -m pip install git+https://github.com/truera/trulens.git\n",
    "# ! {sys.executable} -m pip uninstall trulens -y\n",
    "\n",
    "from IPython.display import display\n",
    "import torch\n",
    "import matplotlib.pyplot as plt\n",
    "import numpy as np\n",
    "from pathlib import Path\n",
    "from types import SimpleNamespace\n",
    "import base64"
   ]
  },
  {
   "cell_type": "markdown",
   "metadata": {},
   "source": [
    "# Twitter Sentiment Model\n",
    "\n",
    "[Huggingface](https://huggingface.co/models) offers a variety of pre-trained NLP models to explore. We exemplify in this notebook a [transformer-based twitter sentiment classification model](https://huggingface.co/cardiffnlp/twitter-roberta-base-sentiment). Before getting started, familiarize yourself with the general Truera API as demonstrated in the [intro notebook using pytorch](intro_demo_pytorch.ipynb)."
   ]
  },
  {
   "cell_type": "code",
   "execution_count": null,
   "metadata": {},
   "outputs": [],
   "source": [
    "from transformers import AutoModelForSequenceClassification\n",
    "from transformers import AutoTokenizer\n",
    "\n",
    "# Wrap all of the necessary components.\n",
    "class TwitterSentiment:\n",
    "    # MODEL = f\"cardiffnlp/twitter-roberta-base-sentiment\"\n",
    "    MODEL = f\"distilbert-base-uncased-finetuned-sst-2-english\"\n",
    "\n",
    "    #device = 'cpu'\n",
    "    # Can also use cuda if available:\n",
    "    device = 'cuda:0'\n",
    "\n",
    "    model = AutoModelForSequenceClassification.from_pretrained(MODEL).to(device)\n",
    "    tokenizer = AutoTokenizer.from_pretrained(MODEL)\n",
    "    #embeddings = model.roberta.embeddings.word_embeddings.weight.detach().cpu().numpy()\n",
    "    embeddings = model.distilbert.embeddings.word_embeddings.weight.detach().cpu().numpy()\n",
    "    #embeddings_layer = 'roberta_embeddings_word_embeddings'\n",
    "    embeddings_layer = 'distilbert_embeddings_word_embeddings'\n",
    "\n",
    "    id_of_token = tokenizer.get_vocab()\n",
    "    token_of_id = {v: k for k, v in id_of_token.items()}\n",
    "\n",
    "    labels = [\n",
    "        'negative', \n",
    "        #'neutral', \n",
    "        'positive'\n",
    "    ]\n",
    "\n",
    "    NEGATIVE = labels.index('negative')\n",
    "    #NEUTRAL = labels.index('neutral')\n",
    "    POSITIVE = labels.index('positive')\n",
    "\n",
    "def create_gender_baseline(embeddings):\n",
    "    gender_vector = np.frombuffer(base64.b85decode(\n",
    "        b'w0E7n-g=omA8Z@E5|za~=n6Nz<?^#TCW>smy&qV-C2$_S(W<Dr1=8p|Kjs}g<_wTLnu3G97JfH96>*F_ubVAAMbc<J|DClw0*nnk?urb&Z^*Vh_%FUZ%Ym9Y?-)8foj0jHfrd0Z>lD'\n",
    "        b'sBixnR|m54vPX_HgE*Y6TN8skO0P5i69h@nwEAn<EE?$ZywF(9G5e@P8JD(mh$V>v)Q;m}w-f6>>wUGJ$p3@m88baPa@kA)IE>S7wbTv^XM&9=R~NoS!wrH)9v)#+Tk6dZfK8Qq6Hb'\n",
    "        b'AQ*o2O8ZxWanNyhf9e)>3KIiuwNcMP{E$O4LJn8-MT+L&AgwyU*L7T`cCq^XOz!80hU6$l74SJaU3AL+Hj>kn$9M@TIf$ZovbfCe6tF@I-(Cfx9L;7<>Uyx4_^tqmVOJpIvC(OIMQj'\n",
    "        b'opW0+R4{^RcSNs{h{pSol!?@GDx|B^l+vTV`LYqdsic7ye&;T|)QpfeY))$q$uw6Yp1#z~$1B)X$BAmFq3)F<WM5$-I<{nKw(rS-A-GtUWdX?6^a{Up#9>7ICNUCr>d%e;-KqZnq;W'\n",
    "        b'E%Xv%wU-1}YuAWLl)W42%UlH;Gg{JZfS+JO3rSh8~Z+@7aevyKxk~b}(bTse~uIfzNWgvZQ=G-S7&%U__%hkrf0z=TwM1FE$aovT`sz(mV0IC8&J8Q+%_$B9JG&wgM_WF?|fZ+I1hj'\n",
    "        b'nxa3w1Wu8?O}vu5bXYRI!h6m<bKNpMqm&0dm}X`>dkE{h4(klP)@ZvuvQ-s5toyq>Hn4ZR{4i@h$d=VS32i02V7DJV+@<`yYD|&6=QWr;AoxwZXrd`SJbx=Z1P;%;hiVGDArSYvcuy'\n",
    "        b'g`O2unDNnpIZ825?2@htMZm1CE?>%qIcB)W3E=%VmES$~AQOdZj??@7lyJUQ08-X&waL`0^$nQ#`plAE7B=MRiL`AjmsQ&>tpd(j;{TOp`Cdf$ybM@5u9$Sy%VqLq+5KUX3=7u`2KJ'\n",
    "        b'PQduY(*BmV7F7eHr&rVKq8I1^x^|OlDdeyC%(J91foMd`o)2}Qk!<XC80ySYnYb3Ifnr~Stlhua*QxNW9OhdV*E?IQb6fEV5z`7u9svz8$O9WsKW%k9t`QcD!s71)sSkuUj-07je&~'\n",
    "        b'2rO1K3Ci81NPImG<m&KR7XU74(i3L<Wx4oOZEWEY60WDrUryMywZDDsi9`71Gb>s28?jXjzPQFAvv2;kgF*)2k<fDH*kD&Uy%rA_*n~}6U*{~bEVR-305e5)F5{;ZZzj%VYjrScpr{'\n",
    "        b'^_2&F~YwQ~eP>d|R8n<DtI1WbE!dwKoDi+H=ahsINi1jhS1!Z}ot@)}4|&#1YdxZupKpJGKtJ3S0+09N&sPsHeF+bRa%FJ-YThjqB_@2ih||h-9q26GFN>@hS1Sy^%k?CN4g^_unkM'\n",
    "        b'ykn0#d%)AX9k<53dv0w!s8ZZKnpoaEW<XxOqH>PCh1NqnK=(Slv3p@WBdEl?Lk|Z%L>tOH>vCT^7;lEWPj${aIW4O^EnR**hzz_u!UP$;zgft;f>aMZCh|wU1+<F2)pR{P^fn<qt*?'\n",
    "        b'W;!vV-VhjGF>{%P8~LCqgMB*7BBeZy`%TZtvTr6v`;4cP;|EG|gBCN0oBM{VUiPFC@}L;_bljob`7ghficiOMHDdCLbqrc|uF>SYPMI=+g$blLGd)9b}Na1;7GEv03>b3tM~MFx~TO'\n",
    "        b'dbQg27fBM5%Iviv8kWDdiMJ~`w0@gLVCD8v3rKS=~y>C=tW$-3vRkRZmbqOGxw!Enj!N%MO8?>l&$+aH2T*(Z@(ctd__jQgATzv#Nsc#<}q2kSnNZ+&6JzG><T|TO)=g)c|hwsl8rg'\n",
    "        b'L@E(S|zTn}zdZ6w*%a$fRbWmA5*=QO)RA?eRDM+3>44m*h7uh$wB&e7@oIeD;R^}7EC9D2CU%xXwdBS@=#>?$I_=2;%Q=*nV3BugH3#%Qye@gK@I+oizM7q7bj|jy)g6>+ol6yQoH|'\n",
    "        b'0dUfUjRYTDQu)ymgAacMS(UTx2i2Y9zuvw+pL0<?K(rP)?&eNeN=TrE&B;G75=3x&7C?Z~IoffIw(G2pyrk1vu@zru-5;gR2(2y6#B4ouq<1G4e3IsIbMn_Lzmdrukbvy$O%I{7sWQ'\n",
    "        b'8otW9#)4bCO#_3wZ@qWCRoE=O>_1&S9)_(t7GmN&3Ev<+wPVmc1%24OfUJN#AgK~OV9_<atBn&pA_@b&MjbxAlyU7m3*T})fC$sPeEnm+a$ttMz_RK*Hkw&Il}$1|SL#|k={gNOLT7'\n",
    "        b'%w`NXa~x3^KfkOtH|2zg9BJTpbS^PN*Y0+y9Lk+I#o!V@b!7!`QCT+yApL&2*&<?fU`bR*BYVHPMoa7GinRo11vGQ+IAN(IupGtm~ktf^}}^X;WPp+Vq01>F=puO!zz^GSodXq*o{$'\n",
    "        b'154U9ank021r*tKDoNPvz2<hAv3JJtX-BoPzcXEr`#AkASot1TD1T?uJNtBC*k(I@OIj~LD1Da2Im*NPR0Scbs{Of%5&ek?qtclU`yyc<|isV=H>~#w{=>*<okEMbb}W?k6DF1K;2Z'\n",
    "        b'lI(WRh5N`Xtr6vPC4)ip=lVs|=HJyGtd#-XloS3FOjSjE8o{A~EOqLYA1EzVsmRB%6mlU8pGpU9>BJW~7s$zvatYA{Sf9Ik+LO-ZHOzU2~gCusmXzQ*#E0_$rUvF<b{S-XC-^Io~^N'\n",
    "        b'1k5!qC{fSstD|NI`Nu6%2|!EqzD5$%qL&+s`6A7cF7E2TeJ>RM*=*QSr&V2w8PKsZ!Lu*jN2L{Z6Pn9DT{W2z3^{s|nw`yYjO<;zqnYjSEM;>H$$bZwLfE5;l-Lw*CFP)x3>7v9`dx'\n",
    "        b'0~}mDDz(-;4pzgx>+>l+=xi80Z2w+8-BYEzGZ;@iQ)+;{syNd;$kJK8dWQ2nIf(u|&kuw=1!5LF>~X(6Yfh59njrN&DWo{PlNHc8P6ZA;;sMw^575RtL@^vZAZK*EJ@lQuw1M)x+I)'\n",
    "        b'pP@?qAy%i37HVieFiiwZ40=m$SN;s72zheC<GmBJsra?Gf_e%Uv@b`YmKI<MF~qY!*LRr?k^9~42n-`Ao&5x<$ds^2y}qF3WQFq=_4YN8Ok6zu@KQ7sC+o@|c1CX7Nn<~;{Hem?oU3'\n",
    "        b'+vH5nqP}OU=7SXvVnQMejpybwUH1#FqI;_F3mnX@0J-os7qWuj3-b$%vIn#hm+mB4oCDnW!nI~Ep3av?9#P7d(z`Px^N=BR*6@=iA{&RpM-fln~sM)+hLcy{EU!2>`|mVw}V1GBhEF'\n",
    "        b'w8mSLGAZ(<(l+~O(WyxebA3^p!rg5FSEIE=q3gEas(_qFt9_wR0+*px3p!s<`)Wohk$uLMfLtkw?@2lawIkhCb5Ht+E1-tG%4I)0hu`zBumr{v6d6IoSw?|LC$PqNV5-X^?>Ub_aUQ'\n",
    "        b'SXulh5G1S+`6*^bK0Q)eIB8U9A&6&8AX4o>;ZKHtz_%OxH2Iq^sGxJ2V8nnv&AI$#;Z3x07$YPEql@Gg_rRHM86~!#x+hd#aqhj!}j?!U~kUN3{q&Oy5_%o*fcBXZZEIb$UuWZ;`OP'\n",
    "        b'Yfi<y0$!xNJP{GSuB4s3wzAp0$6}tk013#vggP#~z(GDeWs4O(iDoi9cL!U&!?|`mS&Q+!HfYYgXbGviTSf!DyMxZVvWCz+$Z55_gMT1B-f<{Bwfeq1>%<DZ!qw_K-mEe`Sw*<Kd2C'\n",
    "        b'WWrcBp7IArs@R+qNBDJ~1Ws)h%=0yTp>H2O+CfcnS0&#2kEh|B^!tJ@Gg=M$7XAEe|vFt%+xea3&iN)mawdt)iR&2*(brfzw??jSw8c@L;OV&nilmzJBnT?<&ePBw_WoK+G%qjXfg>'\n",
    "        b'lFyRNg75xsP4YIU=dwC{#G@-TTw?n*N8j4t<W94FJxxDEEjUUD!i*aI2t&**R)|gLWuml<tGrmLkA)~f$gh3hQgdYn`_@ZQF;WrhH1OJB(Wg8uQsJS'\n",
    "    ), dtype='float32')\n",
    "\n",
    "    #def normalize(v):\n",
    "    #    return v / np.linalg.norm(v, ord=2)\n",
    "\n",
    "    def normalize_many(v):\n",
    "        return v / np.linalg.norm(v, axis=1, ord=2)[:, np.newaxis]\n",
    "\n",
    "    all_embs_norm = normalize_many(embeddings)\n",
    "    baseline_penalties = np.abs(np.dot(all_embs_norm, gender_vector))\n",
    "\n",
    "    def token_id_baseline(token_id):\n",
    "        return np.argmax(\n",
    "            np.abs(\n",
    "                np.dot(\n",
    "                    normalize_many(all_embs_norm[token_id] - all_embs_norm +\n",
    "                                   0.000000001), gender_vector)) -\n",
    "            0.55 * baseline_penalties)\n",
    "\n",
    "    return SimpleNamespace(**locals())\n",
    "\n",
    "task = TwitterSentiment\n"
   ]
  },
  {
   "cell_type": "code",
   "execution_count": null,
   "metadata": {},
   "outputs": [],
   "source": [
    "token_id_baseline = create_gender_baseline(task.embeddings).token_id_baseline\n",
    "\n",
    "test1 = token_id_baseline([task.id_of_token['poor']])\n",
    "task.token_of_id[test1]"
   ]
  },
  {
   "cell_type": "markdown",
   "metadata": {},
   "source": [
    "This model quantifies tweets (or really any text you give it) according to its sentiment: positive, negative, or neutral. Lets try it out on some examples."
   ]
  },
  {
   "cell_type": "code",
   "execution_count": null,
   "metadata": {},
   "outputs": [],
   "source": [
    "sentences = [\"I'm so happy!\", \"I'm so sad!\", \"I cannot tell whether I should be happy or sad!\", \"meh\"]\n",
    "\n",
    "# Input sentences need to be tokenized first.\n",
    "\n",
    "inputs = task.tokenizer(sentences, padding=True, return_tensors=\"pt\").to(task.device) # pt refers to pytorch tensor\n",
    "\n",
    "# The tokenizer gives us vocabulary indexes for each input token (in this case,\n",
    "# words and some word parts like the \"'m\" part of \"I'm\" are tokens).\n",
    "\n",
    "print(inputs)\n",
    "\n",
    "# Decode helps inspecting the tokenization produced:\n",
    "\n",
    "print(task.tokenizer.batch_decode(torch.flatten(inputs['input_ids'])))\n",
    "# Normally decode would give us a single string for each sentence but we would\n",
    "# not be able to see some of the non-word tokens there. Flattening first gives\n",
    "# us a string for each input_id."
   ]
  },
  {
   "cell_type": "markdown",
   "metadata": {},
   "source": [
    "Evaluating huggingface models is straight-forward if we use the structure produced by the tokenizer."
   ]
  },
  {
   "cell_type": "code",
   "execution_count": null,
   "metadata": {},
   "outputs": [],
   "source": [
    "outputs = task.model(**inputs)\n",
    "\n",
    "print(outputs)\n",
    "\n",
    "# From logits we can extract the most likely class for each sentence and its readable label.\n",
    "\n",
    "predictions = [task.labels[i] for i in outputs.logits.argmax(axis=1)]\n",
    "\n",
    "for sentence, logits, prediction in zip(sentences, outputs.logits, predictions):\n",
    "    print(logits.to('cpu').detach().numpy(), prediction, sentence)"
   ]
  },
  {
   "cell_type": "markdown",
   "metadata": {},
   "source": [
    "# Model Wrapper\n",
    "\n",
    "As in the prior notebooks, we need to wrap the pytorch model with the appropriate Trulens functionality. Here we specify the maximum input size (in terms of tokens) each tweet may have."
   ]
  },
  {
   "cell_type": "code",
   "execution_count": null,
   "metadata": {},
   "outputs": [],
   "source": [
    "from trulens.nn.models import get_model_wrapper\n",
    "from trulens.nn.quantities import ClassQoI\n",
    "from trulens.nn.attribution import IntegratedGradients\n",
    "from trulens.nn.attribution import Cut, OutputCut\n",
    "from trulens.utils.typing import ModelInputs\n",
    "\n",
    "task.wrapper = get_model_wrapper(task.model, device=task.device)"
   ]
  },
  {
   "cell_type": "markdown",
   "metadata": {
    "nbpresent": {
     "id": "4ed9c783-b745-4c6a-b674-d8b6935dd62d"
    }
   },
   "source": [
    "# Attributions"
   ]
  },
  {
   "cell_type": "code",
   "execution_count": null,
   "metadata": {},
   "outputs": [],
   "source": [
    "infl = IntegratedGradients(\n",
    "    model = task.wrapper,\n",
    "    # doi_cut=Cut('roberta_embeddings_word_embeddings'),\n",
    "    doi_cut=Cut(task.embeddings_layer),\n",
    "    qoi=ClassQoI(task.POSITIVE),\n",
    "    qoi_cut=OutputCut(accessor=lambda o: o['logits'])\n",
    ")"
   ]
  },
  {
   "cell_type": "markdown",
   "metadata": {},
   "source": [
    "A listing as above is not very readable so Trulens comes with some utilities to present token influences a bit more concisely. First we need to set up a few parameters to make use of it:"
   ]
  },
  {
   "cell_type": "code",
   "execution_count": null,
   "metadata": {},
   "outputs": [],
   "source": [
    "from trulens.visualizations import NLP\n",
    "\n",
    "def distilibert_token(x):\n",
    "    tok = task.tokenizer.decode(x)\n",
    "    if tok.startswith(\"##\"): # token starts with \"##\" to denote a word postfix\n",
    "        return tok[2:]\n",
    "    else:\n",
    "        return \" \" + tok # if not a postfix, add space better indicate a complete word separation\n",
    "\n",
    "V = NLP(\n",
    "    wrapper=task.wrapper,\n",
    "    labels=task.labels,\n",
    "    #decode=lambda x: task.tokenizer.decode(x),\n",
    "    decode=distilibert_token,\n",
    "    tokenize=lambda sentences: ModelInputs(kwargs=task.tokenizer(sentences, padding=True, return_tensors='pt')).map(lambda t: t.to(task.device)),\n",
    "    # huggingface models can take as input the keyword args as per produced by their tokenizers.\n",
    "\n",
    "    input_accessor=lambda x: x.kwargs['input_ids'],\n",
    "    # for huggingface models, input/token ids are under input_ids key in the input dictionary\n",
    "\n",
    "    output_accessor=lambda x: x['logits'],\n",
    "    # and logits under 'logits' key in the output dictionary\n",
    "\n",
    "    hidden_tokens=set([task.tokenizer.pad_token_id])\n",
    "    # do not display these tokens\n",
    ")\n",
    "\n",
    "print(\"QOI = POSITIVE\")\n",
    "display(V.tokens(sentences, infl))"
   ]
  },
  {
   "cell_type": "markdown",
   "metadata": {},
   "source": [
    "# Baselines\n",
    "\n",
    "We see in the above results that special tokens such as the sentence end **&lt;/s&gt;** contributes are found to contribute a lot to the model outputs. While this may be useful in some contexts, we are more interested in the contributions of the actual words in these sentences. To focus on the words more, we need to adjust the **baseline** used in the integrated gradients computation. By default in the instantiation so far, the baseline for each token is a zero vector of the same shape as its embedding. By making the basaeline be identicaly to the explained instances on special tokens, we can rid their impact from our measurement. Trulens provides a utility for this purpose in terms of `token_baseline` which constructs for you the methods to compute the appropriate baseline. "
   ]
  },
  {
   "cell_type": "code",
   "execution_count": null,
   "metadata": {},
   "outputs": [],
   "source": [
    "from trulens.utils.nlp import token_baseline\n",
    "\n",
    "inputs_baseline_ids, inputs_baseline_embeddings = token_baseline(\n",
    "    keep_tokens=set([task.tokenizer.cls_token_id, task.tokenizer.sep_token_id]),\n",
    "    # Which tokens to preserve.\n",
    "\n",
    "    replacement_token=task.tokenizer.pad_token_id,\n",
    "    # What to replace tokens with.\n",
    "\n",
    "    input_accessor=lambda x: x.kwargs['input_ids'],\n",
    "\n",
    "    ids_to_embeddings=task.model.get_input_embeddings()\n",
    "    # Callable to produce embeddings from token ids.\n",
    ")"
   ]
  },
  {
   "cell_type": "markdown",
   "metadata": {},
   "source": [
    "We can now inspect the baselines on some example sentences. The first method returned by `token_baseline` gives us token ids to inspect while the second gives us the embeddings of the baseline which we will pass to the attributions method."
   ]
  },
  {
   "cell_type": "code",
   "execution_count": null,
   "metadata": {},
   "outputs": [],
   "source": [
    "print(\"originals=\", task.tokenizer.batch_decode(inputs['input_ids']))\n",
    "\n",
    "baseline_word_ids = inputs_baseline_ids(model_inputs=ModelInputs(args=[], kwargs=inputs))\n",
    "print(\"baselines=\", task.tokenizer.batch_decode(baseline_word_ids))"
   ]
  },
  {
   "cell_type": "code",
   "execution_count": null,
   "metadata": {},
   "outputs": [],
   "source": [
    "infl_positive_baseline = IntegratedGradients(\n",
    "    model = task.wrapper,\n",
    "    resolution=50,\n",
    "    baseline = inputs_baseline_embeddings,\n",
    "    doi_cut=Cut(task.embeddings_layer),\n",
    "    qoi=ClassQoI(task.POSITIVE),\n",
    "    qoi_cut=OutputCut(accessor=lambda o: o['logits'])\n",
    ")\n",
    "\n",
    "print(\"QOI = POSITIVE WITH BASELINE\")\n",
    "display(V.tokens(sentences, infl_positive_baseline))"
   ]
  },
  {
   "cell_type": "code",
   "execution_count": null,
   "metadata": {},
   "outputs": [],
   "source": [
    "from datasets import load_dataset\n",
    "\n",
    "imdb_train = load_dataset(\"imdb\", \"plain_text\", split=\"train\")\n",
    "imdb_test = load_dataset(\"imdb\", \"plain_text\", split=\"test\")\n",
    "rotten_train = load_dataset(\"rotten_tomatoes\", split=\"train\")\n",
    "rotten_test = load_dataset(\"rotten_tomatoes\", split=\"test\")"
   ]
  },
  {
   "cell_type": "code",
   "execution_count": 58,
   "metadata": {},
   "outputs": [],
   "source": [
    "def tokenize(portion):\n",
    "    return task.tokenizer.batch_encode_plus(\n",
    "        portion,\n",
    "        add_special_tokens=True,\n",
    "        return_attention_mask=False,\n",
    "        max_length=512,\n",
    "        truncation=True\n",
    "    )['input_ids']\n",
    "\n",
    "import os\n",
    "os.environ['TOKENIZERS_PARALLELISM'] = '0'\n",
    "\n",
    "import multiprocessing as mp\n",
    "p = mp.Pool(24)\n",
    "\n",
    "def toks_of_texts(texts):\n",
    "    toks = p.map(tokenize, [texts[1000*i: 1000*(i+1)] for i in range(len(texts)//1000)])\n",
    "    all = np.array([i for tok in toks for t in tok for i in t ])\n",
    "\n",
    "    return all\n",
    "\n",
    "def dists_of_texts(texts):\n",
    "    all = toks_of_texts(texts)   \n",
    "\n",
    "    counts = np.zeros(task.tokenizer.vocab_size)\n",
    "    total = len(all)\n",
    "    for i in all:\n",
    "        counts[i] += 1\n",
    "\n",
    "    dist = counts / total\n",
    "\n",
    "    return counts, dist\n",
    "\n",
    "def tops_of_texts(texts, n = 10):\n",
    "    counts, dist = dists_of_texts(texts)\n",
    "\n",
    "    return tops_of_dists(counts, dist, n=n)\n",
    "\n",
    "def tops_of_dists(c, d, n=10):\n",
    "    sortindex = np.argsort(d)\n",
    "    top = []\n",
    "\n",
    "    for idx in sortindex[0:n]:\n",
    "        top.append((idx, c[idx], d[idx], task.tokenizer.decode(idx)))\n",
    "\n",
    "    crest_pos = 0\n",
    "    crest_neg = 0\n",
    "    drest_pos = 0\n",
    "    drest_neg = 0\n",
    "\n",
    "    for idx in sortindex[n:-n]:\n",
    "        if c[idx] >= 0:\n",
    "            crest_pos += c[idx]\n",
    "            drest_pos += d[idx]\n",
    "        else:\n",
    "            crest_neg += c[idx]\n",
    "            drest_neg += d[idx]\n",
    "\n",
    "    top.append((-1, crest_neg, drest_neg, \"*\"))\n",
    "    top.append((-1, crest_pos, drest_pos, \"*\"))\n",
    "\n",
    "    for idx in sortindex[-n:]:\n",
    "        top.append((idx, c[idx], d[idx], task.tokenizer.decode(idx)))\n",
    "\n",
    "    return top"
   ]
  },
  {
   "cell_type": "code",
   "execution_count": 59,
   "metadata": {},
   "outputs": [
    {
     "data": {
      "text/plain": [
       "-4.6058643010660205e-14"
      ]
     },
     "execution_count": 59,
     "metadata": {},
     "output_type": "execute_result"
    }
   ],
   "source": [
    "c1, d1 = dists_of_texts(imdb_train['text'])\n",
    "c2, d2 = dists_of_texts(rotten_train['text'])\n",
    "top = tops_of_dists(c1 - c2, d1 - d2, n = 20)\n",
    "sum([t[2] for t in top])"
   ]
  },
  {
   "cell_type": "code",
   "execution_count": null,
   "metadata": {},
   "outputs": [],
   "source": [
    "from matplotlib import transforms as trans\n",
    "\n",
    "def plotdist(top, l1, l2):\n",
    "    fig, ax = plt.subplots(2,1, figsize=(8,6))\n",
    "\n",
    "    # ax[0].grid()\n",
    "    ax[1].bar(x=range(len(top)), width=0.8, height=[t[2] for t in top], alpha=1.0, color=\"black\", label=f\"{l1} - {l2}\")\n",
    "    ax[0].bar(x=np.arange(len(top)) + 0.2, width=0.4, height=[d1[t[0]] if t[0]>=0 else 0 for t in top], alpha=1.0, color=\"green\", label=l1)    \n",
    "    ax[0].bar(x=np.arange(len(top)) - 0.2, width=0.4, height=[d2[t[0]] if t[0]>=0 else 0 for t in top], alpha=1.0, color=\"blue\", label=l2)\n",
    "    ax[0].set_xticks(ticks=range(len(top)), labels=[t[3] for t in top], rotation=90)\n",
    "    ax[1].set_xticks(ticks=range(len(top)), labels=[str(t[0]) if t[0]>=0 else \"*\" for t in top], rotation=90)\n",
    "\n",
    "    # ax[0].grid()\n",
    "    # ax[1].grid()\n",
    "    ax[1].plot([0,len(top)-0.6], [0,0], lw=1, color='black')\n",
    "\n",
    "    ax[0].set_ylabel(\"prob.\")\n",
    "    ax[1].set_ylabel(\"prob. diff\")\n",
    "\n",
    "    fig.legend()\n",
    "    fig.tight_layout()\n",
    "\n",
    "plotdist(top, l1='imdb', l2='rotten tomatoes')"
   ]
  },
  {
   "cell_type": "code",
   "execution_count": null,
   "metadata": {},
   "outputs": [],
   "source": [
    "c1, d1 = dists_of_texts(imdb_train['text'])\n",
    "c2, d2 = dists_of_texts(imdb_test['text'])\n",
    "top = tops_of_dists(c1 - c2, d1 - d2, n = 20)\n",
    "# top"
   ]
  },
  {
   "cell_type": "code",
   "execution_count": null,
   "metadata": {},
   "outputs": [],
   "source": [
    "\n",
    "def plotdist(d1, d2, top, l1, l2):\n",
    "    fig, ax = plt.subplots(2,1, figsize=(8,6))\n",
    "\n",
    "    # ax[0].grid()\n",
    "    ax[1].bar(x=range(len(top)), width=0.8, height=[t[2] for t in top], alpha=1.0, color=\"black\", label=f\"{l1} - {l2}\")\n",
    "    ax[0].bar(x=np.arange(len(top)) + 0.2, width=0.4, height=[d1[t[0]] if t[0]>=0 else 0 for t in top], alpha=1.0, color=\"green\", label=l1)    \n",
    "    ax[0].bar(x=np.arange(len(top)) - 0.2, width=0.4, height=[d2[t[0]] if t[0]>=0 else 0 for t in top], alpha=1.0, color=\"blue\", label=l2)\n",
    "    ax[0].set_xticks(ticks=range(len(top)), labels=[t[3] for t in top], rotation=90)\n",
    "    ax[1].set_xticks(ticks=range(len(top)), labels=[str(t[0]) if t[0]>=0 else \"*\" for t in top], rotation=90)\n",
    "\n",
    "    #ax[0].grid()\n",
    "    #ax[1].grid()\n",
    "\n",
    "    ax[1].plot([0,len(top) - 0.6], [0,0], lw=1, color='black')\n",
    "\n",
    "    ax[0].set_ylabel(\"prob.\")\n",
    "    ax[1].set_ylabel(\"prob. diff\")\n",
    "\n",
    "    fig.legend()\n",
    "    fig.tight_layout()\n",
    "\n",
    "plotdist(d1=d1, d2=d2, top=top, l1='imdb train', l2='imdb test')"
   ]
  },
  {
   "cell_type": "code",
   "execution_count": null,
   "metadata": {},
   "outputs": [],
   "source": [
    "# toks = torch.tensor(toks_of_texts(imdb_train['text'])).to(\"cpu\")\n",
    "#task.model.roberta.embeddings.word_embeddings(toks)"
   ]
  },
  {
   "cell_type": "code",
   "execution_count": null,
   "metadata": {},
   "outputs": [],
   "source": [
    "# embs = task.model.roberta.embeddings.word_embeddings.to(\"cpu\")(toks.to(\"cpu\"))"
   ]
  },
  {
   "cell_type": "code",
   "execution_count": null,
   "metadata": {},
   "outputs": [],
   "source": [
    "# embs = embs.detach().numpy()"
   ]
  },
  {
   "cell_type": "code",
   "execution_count": null,
   "metadata": {},
   "outputs": [],
   "source": [
    "# plt.hist2d(embs[:,0], embs[:,1])"
   ]
  },
  {
   "cell_type": "code",
   "execution_count": null,
   "metadata": {},
   "outputs": [],
   "source": [
    "%matplotlib agg\n",
    "#from sklearn.manifold import TSNE\n",
    "from tsnecuda import TSNE as TSNE\n",
    "# plt.ioff()\n",
    "dir = Path(\"/home/piotrm/vistest\")\n",
    "dir_images = dir / \"images\"\n",
    "dir_data = dir / \"data\"\n",
    "\n",
    "from IPython.display import clear_output, display\n",
    "# from MulticoreTSNE import MulticoreTSNE as TSNE\n",
    "# import umap "
   ]
  },
  {
   "cell_type": "code",
   "execution_count": null,
   "metadata": {},
   "outputs": [],
   "source": [
    "embedder = task.model.roberta.embeddings.word_embeddings\n",
    "all_embs = embedder.weight.detach().cpu().numpy()#[0:50000]\n",
    "len(all_embs)"
   ]
  },
  {
   "cell_type": "code",
   "execution_count": null,
   "metadata": {},
   "outputs": [],
   "source": [
    "import re\n",
    "match_iter = re.compile(r'^.*tsne([0-9]+)\\.npy')\n",
    "# man = TSNE(n_jobs=48)#(n_iter=250)\n",
    "#man = umap.UMAP(n_epochs=1)\n",
    "man = TSNE(n_iter=1)\n",
    "iters = 0\n",
    "emb = None\n",
    "# dir(man)\n",
    "# man.fit(all_embs)\n",
    "for file in dir_data.iterdir():\n",
    "    matches = match_iter.fullmatch(str(file))\n",
    "    if matches:\n",
    "        matched_iter = int(matches.group(1))\n",
    "        if matched_iter > iters:\n",
    "            iters = matched_iter\n",
    "            emb = np.load(file, allow_pickle=True)\n",
    "\n",
    "print(f\"last iter loaded: {iters}\")"
   ]
  },
  {
   "cell_type": "code",
   "execution_count": null,
   "metadata": {},
   "outputs": [],
   "source": [
    "def do_iter():\n",
    "    global iters, emb\n",
    "    emb = man.fit_transform(X=all_embs, y=emb)\n",
    "    iters += 1\n",
    "\n",
    "def do_show():\n",
    "    global emb, dir_images, dir_data, iters\n",
    "    clear_output(wait=True)\n",
    "    fig, ax = plt.subplots(1,1, figsize=(10,10))\n",
    "    ax.scatter(x=[e[0] for e in emb], y=[e[1] for e in emb], s=1)\n",
    "    display(fig)\n",
    "\n",
    "    fig.savefig(dir_images / f\"tsne{iters:05}.png\")\n",
    "    emb.dump(dir_data / f\"tsne{iters:05}.npy\")\n",
    "\n",
    "do_show()"
   ]
  },
  {
   "cell_type": "code",
   "execution_count": null,
   "metadata": {},
   "outputs": [],
   "source": [
    "for i in range(1000):\n",
    "    do_show()\n",
    "    do_iter()    "
   ]
  },
  {
   "cell_type": "code",
   "execution_count": null,
   "metadata": {},
   "outputs": [],
   "source": [
    "plt.show()"
   ]
  },
  {
   "cell_type": "code",
   "execution_count": null,
   "metadata": {},
   "outputs": [],
   "source": [
    "display(fig)"
   ]
  },
  {
   "cell_type": "code",
   "execution_count": null,
   "metadata": {},
   "outputs": [],
   "source": [
    "import tsnecuda"
   ]
  },
  {
   "cell_type": "code",
   "execution_count": null,
   "metadata": {},
   "outputs": [],
   "source": [
    "tsnecuda.test()"
   ]
  },
  {
   "cell_type": "code",
   "execution_count": null,
   "metadata": {},
   "outputs": [],
   "source": []
  },
  {
   "cell_type": "code",
   "execution_count": null,
   "metadata": {},
   "outputs": [],
   "source": []
  },
  {
   "cell_type": "code",
   "execution_count": null,
   "metadata": {},
   "outputs": [],
   "source": []
  }
 ],
 "metadata": {
  "anaconda-cloud": {},
  "kernelspec": {
   "display_name": "Python 3.7.13 ('python37_pytorch_cuda')",
   "language": "python",
   "name": "python3"
  },
  "language_info": {
   "codemirror_mode": {
    "name": "ipython",
    "version": 3
   },
   "file_extension": ".py",
   "mimetype": "text/x-python",
   "name": "python",
   "nbconvert_exporter": "python",
   "pygments_lexer": "ipython3",
   "version": "3.7.13"
  },
  "vscode": {
   "interpreter": {
    "hash": "5c887fbf053ca26987bbc53439e0f6b5aed35740853e2f251f93c3825002a8ec"
   }
  }
 },
 "nbformat": 4,
 "nbformat_minor": 2
}
