{
 "cells": [
  {
   "cell_type": "code",
   "execution_count": 1,
   "metadata": {},
   "outputs": [],
   "source": [
    "%load_ext autoreload\n",
    "%autoreload 2"
   ]
  },
  {
   "cell_type": "code",
   "execution_count": 2,
   "metadata": {},
   "outputs": [
    {
     "name": "stdout",
     "output_type": "stream",
     "text": [
      "Requirement already satisfied: torch in /home/piotrm/anaconda3/envs/python37_pytorch_cuda/lib/python3.7/site-packages (1.11.0+cu113)\n",
      "Requirement already satisfied: typing-extensions in /home/piotrm/anaconda3/envs/python37_pytorch_cuda/lib/python3.7/site-packages (from torch) (4.1.1)\n",
      "Requirement already satisfied: transformers in /home/piotrm/anaconda3/envs/python37_pytorch_cuda/lib/python3.7/site-packages (4.17.0)\n",
      "Requirement already satisfied: importlib-metadata in /home/piotrm/anaconda3/envs/python37_pytorch_cuda/lib/python3.7/site-packages (from transformers) (4.11.3)\n",
      "Requirement already satisfied: requests in /home/piotrm/anaconda3/envs/python37_pytorch_cuda/lib/python3.7/site-packages (from transformers) (2.27.1)\n",
      "Requirement already satisfied: numpy>=1.17 in /home/piotrm/anaconda3/envs/python37_pytorch_cuda/lib/python3.7/site-packages (from transformers) (1.21.5)\n",
      "Requirement already satisfied: packaging>=20.0 in /home/piotrm/anaconda3/envs/python37_pytorch_cuda/lib/python3.7/site-packages (from transformers) (21.3)\n",
      "Requirement already satisfied: regex!=2019.12.17 in /home/piotrm/anaconda3/envs/python37_pytorch_cuda/lib/python3.7/site-packages (from transformers) (2022.3.15)\n",
      "Requirement already satisfied: sacremoses in /home/piotrm/anaconda3/envs/python37_pytorch_cuda/lib/python3.7/site-packages (from transformers) (0.0.49)\n",
      "Requirement already satisfied: filelock in /home/piotrm/anaconda3/envs/python37_pytorch_cuda/lib/python3.7/site-packages (from transformers) (3.6.0)\n",
      "Requirement already satisfied: tqdm>=4.27 in /home/piotrm/anaconda3/envs/python37_pytorch_cuda/lib/python3.7/site-packages (from transformers) (4.64.0)\n",
      "Requirement already satisfied: tokenizers!=0.11.3,>=0.11.1 in /home/piotrm/anaconda3/envs/python37_pytorch_cuda/lib/python3.7/site-packages (from transformers) (0.11.6)\n",
      "Requirement already satisfied: pyyaml>=5.1 in /home/piotrm/anaconda3/envs/python37_pytorch_cuda/lib/python3.7/site-packages (from transformers) (5.4.1)\n",
      "Requirement already satisfied: huggingface-hub<1.0,>=0.1.0 in /home/piotrm/anaconda3/envs/python37_pytorch_cuda/lib/python3.7/site-packages (from transformers) (0.4.0)\n",
      "Requirement already satisfied: typing-extensions>=3.7.4.3 in /home/piotrm/anaconda3/envs/python37_pytorch_cuda/lib/python3.7/site-packages (from huggingface-hub<1.0,>=0.1.0->transformers) (4.1.1)\n",
      "Requirement already satisfied: pyparsing!=3.0.5,>=2.0.2 in /home/piotrm/anaconda3/envs/python37_pytorch_cuda/lib/python3.7/site-packages (from packaging>=20.0->transformers) (3.0.7)\n",
      "Requirement already satisfied: zipp>=0.5 in /home/piotrm/anaconda3/envs/python37_pytorch_cuda/lib/python3.7/site-packages (from importlib-metadata->transformers) (3.7.0)\n",
      "Requirement already satisfied: idna<4,>=2.5 in /home/piotrm/anaconda3/envs/python37_pytorch_cuda/lib/python3.7/site-packages (from requests->transformers) (3.3)\n",
      "Requirement already satisfied: charset-normalizer~=2.0.0 in /home/piotrm/anaconda3/envs/python37_pytorch_cuda/lib/python3.7/site-packages (from requests->transformers) (2.0.12)\n",
      "Requirement already satisfied: certifi>=2017.4.17 in /home/piotrm/anaconda3/envs/python37_pytorch_cuda/lib/python3.7/site-packages (from requests->transformers) (2021.10.8)\n",
      "Requirement already satisfied: urllib3<1.27,>=1.21.1 in /home/piotrm/anaconda3/envs/python37_pytorch_cuda/lib/python3.7/site-packages (from requests->transformers) (1.26.9)\n",
      "Requirement already satisfied: joblib in /home/piotrm/anaconda3/envs/python37_pytorch_cuda/lib/python3.7/site-packages (from sacremoses->transformers) (1.1.0)\n",
      "Requirement already satisfied: six in /home/piotrm/anaconda3/envs/python37_pytorch_cuda/lib/python3.7/site-packages (from sacremoses->transformers) (1.16.0)\n",
      "Requirement already satisfied: click in /home/piotrm/anaconda3/envs/python37_pytorch_cuda/lib/python3.7/site-packages (from sacremoses->transformers) (8.0.4)\n",
      "Collecting git+https://github.com/truera/trulens.git\n",
      "  Cloning https://github.com/truera/trulens.git to /tmp/pip-req-build-yisn8gw3\n",
      "  Running command git clone -q https://github.com/truera/trulens.git /tmp/pip-req-build-yisn8gw3\n",
      "  Resolved https://github.com/truera/trulens.git to commit 8dd448df1a9220a01eea69954347e6813bd77433\n"
     ]
    }
   ],
   "source": [
    "import sys\n",
    "\n",
    "# Use this if running this notebook from within its place in the truera repository.\n",
    "sys.path.insert(0, \"..\")\n",
    "\n",
    "# Install transformers / huggingface.\n",
    "!{sys.executable} -m pip install torch\n",
    "!{sys.executable} -m pip install transformers\n",
    "\n",
    "# Or otherwise install trulens.\n",
    "!{sys.executable} -m pip install git+https://github.com/truera/trulens.git\n",
    "\n",
    "from IPython.display import display\n",
    "import torch"
   ]
  },
  {
   "cell_type": "markdown",
   "metadata": {},
   "source": [
    "# Twitter Sentiment Model\n",
    "\n",
    "[Huggingface](https://huggingface.co/models) offers a variety of pre-trained NLP models to explore. We exemplify in this notebook a [transformer-based twitter sentiment classification model](https://huggingface.co/cardiffnlp/twitter-roberta-base-sentiment). Before getting started, familiarize yourself with the general Truera API as demonstrated in the [intro notebook using pytorch](intro_demo_pytorch.ipynb)."
   ]
  },
  {
   "cell_type": "code",
   "execution_count": 3,
   "metadata": {},
   "outputs": [],
   "source": [
    "from transformers import AutoModelForSequenceClassification\n",
    "from transformers import AutoTokenizer\n",
    "\n",
    "# Wrap all of the necessary components.\n",
    "class TwitterSentiment:\n",
    "    MODEL = f\"cardiffnlp/twitter-roberta-base-sentiment\"\n",
    "\n",
    "    #device = 'cpu'\n",
    "    # Can also use cuda if available:\n",
    "    device = 'cuda:0'\n",
    "\n",
    "    model = AutoModelForSequenceClassification.from_pretrained(MODEL).to(device)\n",
    "    tokenizer = AutoTokenizer.from_pretrained(MODEL)\n",
    "    labels = ['negative', 'neutral', 'positive']\n",
    "\n",
    "    NEGATIVE = labels.index('negative')\n",
    "    NEUTRAL = labels.index('neutral')\n",
    "    POSITIVE = labels.index('positive')\n",
    "\n",
    "task = TwitterSentiment()"
   ]
  },
  {
   "cell_type": "markdown",
   "metadata": {},
   "source": [
    "This model quantifies tweets (or really any text you give it) according to its sentiment: positive, negative, or neutral. Lets try it out on some examples."
   ]
  },
  {
   "cell_type": "code",
   "execution_count": 4,
   "metadata": {},
   "outputs": [
    {
     "name": "stdout",
     "output_type": "stream",
     "text": [
      "{'input_ids': tensor([[   0,  100,  437,   98, 1372,  328,    2,    1,    1,    1,    1,    1,\n",
      "            1],\n",
      "        [   0,  100,  437,   98, 5074,  328,    2,    1,    1,    1,    1,    1,\n",
      "            1],\n",
      "        [   0,  100, 1395, 1137,  549,   38,  197,   28, 1372,   50, 5074,  328,\n",
      "            2],\n",
      "        [   0, 1794,  298,    2,    1,    1,    1,    1,    1,    1,    1,    1,\n",
      "            1]], device='cuda:0'), 'attention_mask': tensor([[1, 1, 1, 1, 1, 1, 1, 0, 0, 0, 0, 0, 0],\n",
      "        [1, 1, 1, 1, 1, 1, 1, 0, 0, 0, 0, 0, 0],\n",
      "        [1, 1, 1, 1, 1, 1, 1, 1, 1, 1, 1, 1, 1],\n",
      "        [1, 1, 1, 1, 0, 0, 0, 0, 0, 0, 0, 0, 0]], device='cuda:0')}\n",
      "['<s>', 'I', \"'m\", ' so', ' happy', '!', '</s>', '<pad>', '<pad>', '<pad>', '<pad>', '<pad>', '<pad>', '<s>', 'I', \"'m\", ' so', ' sad', '!', '</s>', '<pad>', '<pad>', '<pad>', '<pad>', '<pad>', '<pad>', '<s>', 'I', ' cannot', ' tell', ' whether', ' I', ' should', ' be', ' happy', ' or', ' sad', '!', '</s>', '<s>', 'me', 'h', '</s>', '<pad>', '<pad>', '<pad>', '<pad>', '<pad>', '<pad>', '<pad>', '<pad>', '<pad>']\n"
     ]
    }
   ],
   "source": [
    "sentences = [\"I'm so happy!\", \"I'm so sad!\", \"I cannot tell whether I should be happy or sad!\", \"meh\"]\n",
    "\n",
    "# Input sentences need to be tokenized first.\n",
    "\n",
    "inputs = task.tokenizer(sentences, padding=True, return_tensors=\"pt\").to(task.device) # pt refers to pytorch tensor\n",
    "\n",
    "# The tokenizer gives us vocabulary indexes for each input token (in this case,\n",
    "# words and some word parts like the \"'m\" part of \"I'm\" are tokens).\n",
    "\n",
    "print(inputs)\n",
    "\n",
    "# Decode helps inspecting the tokenization produced:\n",
    "\n",
    "print(task.tokenizer.batch_decode(torch.flatten(inputs['input_ids'])))\n",
    "# Normally decode would give us a single string for each sentence but we would\n",
    "# not be able to see some of the non-word tokens there. Flattening first gives\n",
    "# us a string for each input_id."
   ]
  },
  {
   "cell_type": "markdown",
   "metadata": {},
   "source": [
    "Evaluating huggingface models is straight-forward if we use the structure produced by the tokenizer."
   ]
  },
  {
   "cell_type": "code",
   "execution_count": 5,
   "metadata": {},
   "outputs": [
    {
     "name": "stdout",
     "output_type": "stream",
     "text": [
      "SequenceClassifierOutput(loss=None, logits=tensor([[-2.3217, -0.8768,  4.0710],\n",
      "        [ 2.5739, -0.4017, -2.1467],\n",
      "        [ 0.5975,  0.3778, -0.7691],\n",
      "        [-0.2266,  0.6009, -0.2009]], device='cuda:0',\n",
      "       grad_fn=<AddmmBackward0>), hidden_states=None, attentions=None)\n",
      "[-2.3217494 -0.8767669  4.071023 ] positive I'm so happy!\n",
      "[ 2.57388   -0.4016831 -2.1467047] negative I'm so sad!\n",
      "[ 0.5975013   0.37778223 -0.7691222 ] negative I cannot tell whether I should be happy or sad!\n",
      "[-0.2265977  0.6009302 -0.2008718] neutral meh\n"
     ]
    }
   ],
   "source": [
    "outputs = task.model(**inputs)\n",
    "\n",
    "print(outputs)\n",
    "\n",
    "# From logits we can extract the most likely class for each sentence and its readable label.\n",
    "\n",
    "predictions = [task.labels[i] for i in outputs.logits.argmax(axis=1)]\n",
    "\n",
    "for sentence, logits, prediction in zip(sentences, outputs.logits, predictions):\n",
    "    print(logits.to('cpu').detach().numpy(), prediction, sentence)"
   ]
  },
  {
   "cell_type": "markdown",
   "metadata": {},
   "source": [
    "# Model Wrapper\n",
    "\n",
    "As in the prior notebooks, we need to wrap the pytorch model with the appropriate Trulens functionality. Here we specify the maximum input size (in terms of tokens) each tweet may have."
   ]
  },
  {
   "cell_type": "code",
   "execution_count": 6,
   "metadata": {},
   "outputs": [
    {
     "name": "stderr",
     "output_type": "stream",
     "text": [
      "INFO: lib level=1\n",
      "INFO: root level=30\n",
      "INFO: Detected pytorch backend for <class 'transformers.models.roberta.modeling_roberta.RobertaForSequenceClassification'>.\n",
      "INFO: Changing backend from None to Backend.PYTORCH.\n",
      "INFO: If this seems incorrect, you can force the correct backend by passing the `backend` parameter directly into your get_model_wrapper call.\n"
     ]
    }
   ],
   "source": [
    "from trulens.nn.models import get_model_wrapper\n",
    "from trulens.nn.quantities import ClassQoI\n",
    "from trulens.nn.attribution import IntegratedGradients\n",
    "from trulens.nn.attribution import Cut, OutputCut\n",
    "from trulens.utils.typing import ModelInputs\n",
    "\n",
    "task.wrapper = get_model_wrapper(task.model, device=task.device)"
   ]
  },
  {
   "cell_type": "markdown",
   "metadata": {
    "nbpresent": {
     "id": "4ed9c783-b745-4c6a-b674-d8b6935dd62d"
    }
   },
   "source": [
    "# Attributions"
   ]
  },
  {
   "cell_type": "code",
   "execution_count": 7,
   "metadata": {},
   "outputs": [],
   "source": [
    "infl = IntegratedGradients(\n",
    "    model = task.wrapper,\n",
    "    doi_cut=Cut('roberta_embeddings_word_embeddings'),\n",
    "    qoi=ClassQoI(task.POSITIVE),\n",
    "    qoi_cut=OutputCut(accessor=lambda o: o['logits'])\n",
    ")"
   ]
  },
  {
   "cell_type": "markdown",
   "metadata": {},
   "source": [
    "A listing as above is not very readable so Trulens comes with some utilities to present token influences a bit more concisely. First we need to set up a few parameters to make use of it:"
   ]
  },
  {
   "cell_type": "code",
   "execution_count": 9,
   "metadata": {},
   "outputs": [
    {
     "name": "stdout",
     "output_type": "stream",
     "text": [
      "QOI = POSITIVE\n"
     ]
    },
    {
     "data": {
      "text/html": [
       "<span style='padding: 2px; margin: 2px; background: gray; border-radius: 4px;'>positive:&nbsp;<span title='-0.019' style='margin: 1px; padding: 1px; border-radius: 4px; background: black; color: rgb(255.0, 252.5469512939453, 252.5469512939453);'>&lt;s&gt;</span><span title='0.184' style='margin: 1px; padding: 1px; border-radius: 4px; background: black; color: rgb(231.5012969970703, 255.0, 231.5012969970703);'>I</span><span title='0.505' style='margin: 1px; padding: 1px; border-radius: 4px; background: black; color: rgb(190.56549072265625, 255.0, 190.56549072265625);'>&#x27;m</span>&nbsp;<span title='1.306' style='margin: 1px; padding: 1px; border-radius: 4px; background: black; color: rgb(88.48668670654297, 255.0, 88.48668670654297);'>so</span>&nbsp;<span title='2.129' style='margin: 1px; padding: 1px; border-radius: 4px; background: black; color: rgb(-16.474456787109375, 255.0, -16.474456787109375);'>happy</span><span title='0.715' style='margin: 1px; padding: 1px; border-radius: 4px; background: black; color: rgb(163.8136444091797, 255.0, 163.8136444091797);'>!</span><span title='0.416' style='margin: 1px; padding: 1px; border-radius: 4px; background: black; color: rgb(201.99945068359375, 255.0, 201.99945068359375);'>&lt;/s&gt;</span></span><br/><br/><span style='padding: 2px; margin: 2px; background: gray; border-radius: 4px;'>negative:&nbsp;<span title='-0.097' style='margin: 1px; padding: 1px; border-radius: 4px; background: black; color: rgb(255.0, 242.62576293945312, 242.62576293945312);'>&lt;s&gt;</span><span title='0.000' style='margin: 1px; padding: 1px; border-radius: 4px; background: black; color: rgb(254.96510314941406, 255.0, 254.96510314941406);'>I</span><span title='0.179' style='margin: 1px; padding: 1px; border-radius: 4px; background: black; color: rgb(232.1781768798828, 255.0, 232.1781768798828);'>&#x27;m</span>&nbsp;<span title='-0.267' style='margin: 1px; padding: 1px; border-radius: 4px; background: black; color: rgb(255.0, 220.95066833496094, 220.95066833496094);'>so</span>&nbsp;<span title='-0.766' style='margin: 1px; padding: 1px; border-radius: 4px; background: black; color: rgb(255.0, 157.27743530273438, 157.27743530273438);'>sad</span><span title='0.124' style='margin: 1px; padding: 1px; border-radius: 4px; background: black; color: rgb(239.17153930664062, 255.0, 239.17153930664062);'>!</span><span title='0.271' style='margin: 1px; padding: 1px; border-radius: 4px; background: black; color: rgb(220.5022430419922, 255.0, 220.5022430419922);'>&lt;/s&gt;</span></span><br/><br/><span style='padding: 2px; margin: 2px; background: gray; border-radius: 4px;'>negative:&nbsp;<span title='-0.031' style='margin: 1px; padding: 1px; border-radius: 4px; background: black; color: rgb(255.0, 251.087890625, 251.087890625);'>&lt;s&gt;</span><span title='-0.081' style='margin: 1px; padding: 1px; border-radius: 4px; background: black; color: rgb(255.0, 244.68336486816406, 244.68336486816406);'>I</span>&nbsp;<span title='-1.158' style='margin: 1px; padding: 1px; border-radius: 4px; background: black; color: rgb(255.0, 107.37554931640625, 107.37554931640625);'>cannot</span>&nbsp;<span title='-0.044' style='margin: 1px; padding: 1px; border-radius: 4px; background: black; color: rgb(255.0, 249.39793395996094, 249.39793395996094);'>tell</span>&nbsp;<span title='-0.707' style='margin: 1px; padding: 1px; border-radius: 4px; background: black; color: rgb(255.0, 164.89122009277344, 164.89122009277344);'>whether</span>&nbsp;<span title='0.095' style='margin: 1px; padding: 1px; border-radius: 4px; background: black; color: rgb(242.9058074951172, 255.0, 242.9058074951172);'>I</span>&nbsp;<span title='0.278' style='margin: 1px; padding: 1px; border-radius: 4px; background: black; color: rgb(219.56361389160156, 255.0, 219.56361389160156);'>should</span>&nbsp;<span title='0.389' style='margin: 1px; padding: 1px; border-radius: 4px; background: black; color: rgb(205.3464813232422, 255.0, 205.3464813232422);'>be</span>&nbsp;<span title='1.557' style='margin: 1px; padding: 1px; border-radius: 4px; background: black; color: rgb(56.512908935546875, 255.0, 56.512908935546875);'>happy</span>&nbsp;<span title='0.063' style='margin: 1px; padding: 1px; border-radius: 4px; background: black; color: rgb(247.0308837890625, 255.0, 247.0308837890625);'>or</span>&nbsp;<span title='-0.514' style='margin: 1px; padding: 1px; border-radius: 4px; background: black; color: rgb(255.0, 189.42034912109375, 189.42034912109375);'>sad</span><span title='0.306' style='margin: 1px; padding: 1px; border-radius: 4px; background: black; color: rgb(216.01170349121094, 255.0, 216.01170349121094);'>!</span><span title='-0.227' style='margin: 1px; padding: 1px; border-radius: 4px; background: black; color: rgb(255.0, 226.08798217773438, 226.08798217773438);'>&lt;/s&gt;</span></span><br/><br/><span style='padding: 2px; margin: 2px; background: gray; border-radius: 4px;'>neutral:&nbsp;<span title='-0.071' style='margin: 1px; padding: 1px; border-radius: 4px; background: black; color: rgb(255.0, 245.9669647216797, 245.9669647216797);'>&lt;s&gt;</span><span title='0.546' style='margin: 1px; padding: 1px; border-radius: 4px; background: black; color: rgb(185.44430541992188, 255.0, 185.44430541992188);'>me</span><span title='0.202' style='margin: 1px; padding: 1px; border-radius: 4px; background: black; color: rgb(229.30337524414062, 255.0, 229.30337524414062);'>h</span><span title='0.087' style='margin: 1px; padding: 1px; border-radius: 4px; background: black; color: rgb(243.9647979736328, 255.0, 243.9647979736328);'>&lt;/s&gt;</span></span><br/><br/>"
      ],
      "text/plain": [
       "<IPython.core.display.HTML object>"
      ]
     },
     "metadata": {},
     "output_type": "display_data"
    }
   ],
   "source": [
    "from trulens.visualizations import NLP\n",
    "\n",
    "V = NLP(\n",
    "    wrapper=task.wrapper,\n",
    "    labels=task.labels,\n",
    "    decode=lambda x: task.tokenizer.decode(x),\n",
    "    tokenize=lambda sentences: ModelInputs(kwargs=task.tokenizer(sentences, padding=True, return_tensors='pt')).map(lambda t: t.to(task.device)),\n",
    "    # huggingface models can take as input the keyword args as per produced by their tokenizers.\n",
    "\n",
    "    input_accessor=lambda x: x.kwargs['input_ids'],\n",
    "    # for huggingface models, input/token ids are under input_ids key in the input dictionary\n",
    "\n",
    "    output_accessor=lambda x: x['logits'],\n",
    "    # and logits under 'logits' key in the output dictionary\n",
    "\n",
    "    hidden_tokens=set([task.tokenizer.pad_token_id])\n",
    "    # do not display these tokens\n",
    ")\n",
    "\n",
    "print(\"QOI = POSITIVE\")\n",
    "display(V.token_attribution(sentences, infl))"
   ]
  },
  {
   "cell_type": "markdown",
   "metadata": {},
   "source": [
    "# Baselines\n",
    "\n",
    "We see in the above results that special tokens such as the sentence end **&lt;/s&gt;** contributes are found to contribute a lot to the model outputs. While this may be useful in some contexts, we are more interested in the contributions of the actual words in these sentences. To focus on the words more, we need to adjust the **baseline** used in the integrated gradients computation. By default in the instantiation so far, the baseline for each token is a zero vector of the same shape as its embedding. By making the basaeline be identicaly to the explained instances on special tokens, we can rid their impact from our measurement. Trulens provides a utility for this purpose in terms of `token_baseline` which constructs for you the methods to compute the appropriate baseline. "
   ]
  },
  {
   "cell_type": "code",
   "execution_count": 26,
   "metadata": {},
   "outputs": [],
   "source": [
    "from trulens.utils.nlp import token_baseline\n",
    "\n",
    "inputs_baseline_ids, inputs_baseline_embeddings = token_baseline(\n",
    "    keep_tokens=set([task.tokenizer.cls_token_id, task.tokenizer.sep_token_id]),\n",
    "    # Which tokens to preserve.\n",
    "\n",
    "    replacement_token=task.tokenizer.pad_token_id,\n",
    "    # What to replace tokens with.\n",
    "\n",
    "    input_accessor=lambda x: x.kwargs['input_ids'],\n",
    "\n",
    "    ids_to_embeddings=task.model.get_input_embeddings()\n",
    "    # Callable to produce embeddings from token ids.\n",
    ")"
   ]
  },
  {
   "cell_type": "markdown",
   "metadata": {},
   "source": [
    "We can now inspect the baselines on some example sentences. The first method returned by `token_baseline` gives us token ids to inspect while the second gives us the embeddings of the baseline which we will pass to the attributions method."
   ]
  },
  {
   "cell_type": "code",
   "execution_count": 27,
   "metadata": {},
   "outputs": [
    {
     "name": "stdout",
     "output_type": "stream",
     "text": [
      "originals= [\"<s>I'm so happy!</s><pad><pad><pad><pad><pad><pad>\", \"<s>I'm so sad!</s><pad><pad><pad><pad><pad><pad>\", '<s>I cannot tell whether I should be happy or sad!</s>', '<s>meh</s><pad><pad><pad><pad><pad><pad><pad><pad><pad>']\n",
      "baselines= ['<s><pad><pad><pad><pad><pad></s><pad><pad><pad><pad><pad><pad>', '<s><pad><pad><pad><pad><pad></s><pad><pad><pad><pad><pad><pad>', '<s><pad><pad><pad><pad><pad><pad><pad><pad><pad><pad><pad></s>', '<s><pad><pad></s><pad><pad><pad><pad><pad><pad><pad><pad><pad>']\n"
     ]
    }
   ],
   "source": [
    "print(\"originals=\", task.tokenizer.batch_decode(inputs['input_ids']))\n",
    "\n",
    "baseline_word_ids = inputs_baseline_ids(model_inputs=ModelInputs(args=[], kwargs=inputs))\n",
    "print(\"baselines=\", task.tokenizer.batch_decode(baseline_word_ids))"
   ]
  },
  {
   "cell_type": "code",
   "execution_count": 28,
   "metadata": {},
   "outputs": [
    {
     "name": "stdout",
     "output_type": "stream",
     "text": [
      "QOI = POSITIVE WITH BASELINE\n"
     ]
    },
    {
     "data": {
      "text/html": [
       "<span style='padding: 2px; margin: 2px; background: gray; border-radius: 4px;'>positive:&nbsp;<span title='0.000' style='margin: 1px; padding: 1px; border-radius: 4px; background: black; color: rgb(255.0, 255.0, 255.0);'>&lt;s&gt;</span><span title='-0.297' style='margin: 1px; padding: 1px; border-radius: 4px; background: black; color: rgb(255.0, 217.12565392255783, 217.12565392255783);'>I</span><span title='0.708' style='margin: 1px; padding: 1px; border-radius: 4px; background: black; color: rgb(164.76285248994827, 255.0, 164.76285248994827);'>&#x27;m</span>&nbsp;<span title='1.267' style='margin: 1px; padding: 1px; border-radius: 4px; background: black; color: rgb(93.4041103720665, 255.0, 93.4041103720665);'>so</span>&nbsp;<span title='2.180' style='margin: 1px; padding: 1px; border-radius: 4px; background: black; color: rgb(-22.937393188476562, 255.0, -22.937393188476562);'>happy</span><span title='0.422' style='margin: 1px; padding: 1px; border-radius: 4px; background: black; color: rgb(201.15538828074932, 255.0, 201.15538828074932);'>!</span><span title='0.000' style='margin: 1px; padding: 1px; border-radius: 4px; background: black; color: rgb(255.0, 255.0, 255.0);'>&lt;/s&gt;</span></span><br/><br/><span style='padding: 2px; margin: 2px; background: gray; border-radius: 4px;'>negative:&nbsp;<span title='0.000' style='margin: 1px; padding: 1px; border-radius: 4px; background: black; color: rgb(255.0, 255.0, 255.0);'>&lt;s&gt;</span><span title='-0.033' style='margin: 1px; padding: 1px; border-radius: 4px; background: black; color: rgb(255.0, 250.80068288370967, 250.80068288370967);'>I</span><span title='-0.148' style='margin: 1px; padding: 1px; border-radius: 4px; background: black; color: rgb(255.0, 236.1368963867426, 236.1368963867426);'>&#x27;m</span>&nbsp;<span title='-0.616' style='margin: 1px; padding: 1px; border-radius: 4px; background: black; color: rgb(255.0, 176.46940112113953, 176.46940112113953);'>so</span>&nbsp;<span title='-0.755' style='margin: 1px; padding: 1px; border-radius: 4px; background: black; color: rgb(255.0, 158.7597218155861, 158.7597218155861);'>sad</span><span title='-0.418' style='margin: 1px; padding: 1px; border-radius: 4px; background: black; color: rgb(255.0, 201.6704848408699, 201.6704848408699);'>!</span><span title='0.000' style='margin: 1px; padding: 1px; border-radius: 4px; background: black; color: rgb(255.0, 255.0, 255.0);'>&lt;/s&gt;</span></span><br/><br/><span style='padding: 2px; margin: 2px; background: gray; border-radius: 4px;'>negative:&nbsp;<span title='0.000' style='margin: 1px; padding: 1px; border-radius: 4px; background: black; color: rgb(255.0, 255.0, 255.0);'>&lt;s&gt;</span><span title='-0.082' style='margin: 1px; padding: 1px; border-radius: 4px; background: black; color: rgb(255.0, 244.59380809217691, 244.59380809217691);'>I</span>&nbsp;<span title='-0.568' style='margin: 1px; padding: 1px; border-radius: 4px; background: black; color: rgb(255.0, 182.6339167356491, 182.6339167356491);'>cannot</span>&nbsp;<span title='-0.053' style='margin: 1px; padding: 1px; border-radius: 4px; background: black; color: rgb(255.0, 248.29621019773185, 248.29621019773185);'>tell</span>&nbsp;<span title='-0.543' style='margin: 1px; padding: 1px; border-radius: 4px; background: black; color: rgb(255.0, 185.82351118326187, 185.82351118326187);'>whether</span>&nbsp;<span title='0.318' style='margin: 1px; padding: 1px; border-radius: 4px; background: black; color: rgb(214.4155177474022, 255.0, 214.4155177474022);'>I</span>&nbsp;<span title='0.100' style='margin: 1px; padding: 1px; border-radius: 4px; background: black; color: rgb(242.24157756194472, 255.0, 242.24157756194472);'>should</span>&nbsp;<span title='0.359' style='margin: 1px; padding: 1px; border-radius: 4px; background: black; color: rgb(209.26762238144875, 255.0, 209.26762238144875);'>be</span>&nbsp;<span title='0.842' style='margin: 1px; padding: 1px; border-radius: 4px; background: black; color: rgb(147.66522154211998, 255.0, 147.66522154211998);'>happy</span>&nbsp;<span title='0.117' style='margin: 1px; padding: 1px; border-radius: 4px; background: black; color: rgb(240.13791164383292, 255.0, 240.13791164383292);'>or</span>&nbsp;<span title='-0.523' style='margin: 1px; padding: 1px; border-radius: 4px; background: black; color: rgb(255.0, 188.3174465596676, 188.3174465596676);'>sad</span><span title='-0.188' style='margin: 1px; padding: 1px; border-radius: 4px; background: black; color: rgb(255.0, 231.07558697462082, 231.07558697462082);'>!</span><span title='0.000' style='margin: 1px; padding: 1px; border-radius: 4px; background: black; color: rgb(255.0, 255.0, 255.0);'>&lt;/s&gt;</span></span><br/><br/><span style='padding: 2px; margin: 2px; background: gray; border-radius: 4px;'>neutral:&nbsp;<span title='0.000' style='margin: 1px; padding: 1px; border-radius: 4px; background: black; color: rgb(255.0, 255.0, 255.0);'>&lt;s&gt;</span><span title='0.372' style='margin: 1px; padding: 1px; border-radius: 4px; background: black; color: rgb(207.56098195910454, 255.0, 207.56098195910454);'>me</span><span title='-0.778' style='margin: 1px; padding: 1px; border-radius: 4px; background: black; color: rgb(255.0, 155.8505067229271, 155.8505067229271);'>h</span><span title='0.000' style='margin: 1px; padding: 1px; border-radius: 4px; background: black; color: rgb(255.0, 255.0, 255.0);'>&lt;/s&gt;</span></span><br/><br/>"
      ],
      "text/plain": [
       "<IPython.core.display.HTML object>"
      ]
     },
     "metadata": {},
     "output_type": "display_data"
    }
   ],
   "source": [
    "infl_positive_baseline = IntegratedGradients(\n",
    "    model = task.wrapper,\n",
    "    resolution=50,\n",
    "    baseline = inputs_baseline_embeddings,\n",
    "    doi_cut=Cut('roberta_embeddings_word_embeddings'),\n",
    "    qoi=ClassQoI(task.POSITIVE),\n",
    "    qoi_cut=OutputCut(accessor=lambda o: o['logits'])\n",
    ")\n",
    "\n",
    "print(\"QOI = POSITIVE WITH BASELINE\")\n",
    "display(V.token_attribution(sentences, infl_positive_baseline))"
   ]
  },
  {
   "cell_type": "markdown",
   "metadata": {},
   "source": [
    "As we see, the baseline eliminated the measurement of contribution of the special tokens."
   ]
  }
 ],
 "metadata": {
  "anaconda-cloud": {},
  "kernelspec": {
   "display_name": "Python 3.7.13 ('python37_pytorch_cuda')",
   "language": "python",
   "name": "python3"
  },
  "language_info": {
   "codemirror_mode": {
    "name": "ipython",
    "version": 3
   },
   "file_extension": ".py",
   "mimetype": "text/x-python",
   "name": "python",
   "nbconvert_exporter": "python",
   "pygments_lexer": "ipython3",
   "version": "3.7.13"
  },
  "vscode": {
   "interpreter": {
    "hash": "5c887fbf053ca26987bbc53439e0f6b5aed35740853e2f251f93c3825002a8ec"
   }
  }
 },
 "nbformat": 4,
 "nbformat_minor": 2
}
