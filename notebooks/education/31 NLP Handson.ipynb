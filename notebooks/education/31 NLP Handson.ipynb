{
  "cells": [
    {
      "cell_type": "markdown",
      "metadata": {
        "id": "S2--1HVkQVtC"
      },
      "source": [
        "# Overview\n",
        "\n",
        "This notebook demonstrates course concepts in the context of natural language processing (NLP). The following sections include:\n",
        "\n",
        "### Setup\n",
        "\n",
        "Installing, downloading, and importing required packages and data.\n",
        "\n",
        "### Sentiment Model\n",
        "\n",
        "Downloads and sets up a sentiment model from Huggingface.\n",
        "  \n",
        "  - Data pre-processing: how to process data for use in the model.\n",
        "  - Running the model: demonstration of how to run the model.\n",
        "  - Embedding Space: visualization of the model's token embeddings.\n",
        "  - Performance: measuring accuracy of the model on a sample rotten tomatoes dataset.\n",
        "  - Trulens: Model Wrapper: how to wrap the model for use with Trulens.\n",
        "\n",
        "### Attributions\n",
        "\n",
        "Basic demonstration of attributions using Trulens.\n",
        "  \n",
        "  - Baselines: demonstration of adjusting the baseline used for Trulens attributions.\n",
        "\n",
        "### Fairness\n",
        "\n",
        "Finding inputs which demonstrate model unfairness.\n",
        "\n",
        "  - Gender in embedding space: visualization of the embedding space's gender direction.\n",
        "\n",
        "### Drift\n",
        "\n",
        "Demonstration of different options for measuring drift.\n",
        "\n",
        "  - Model score drift: drift in model score, same as in tabular data.\n",
        "  - Token distribution drift: comparing distributions of tokens across datasets.\n",
        "  - Embedding distribution drift: comparing distributions in the embedding space.\n",
        "  - Gender distribution drift: comparing distributions in embedding space using an extracted gender dimension.\n",
        "\n",
        "## Interactive widgets\n",
        "\n",
        "There are widgets throughout this notebook where you can adjust inputs or inspect details to/on various demonstrations. These are colored in a thick <span style=\"border: 5px solid teal;\">teal</span> border.\n",
        "\n",
        "## Starting up\n",
        "\n",
        "Once you evaluate the entire notebook, you can skip any section starting with `Skip`, and focus on sections starting with `Playground`.\n",
        "\n",
        "## Optional homework\n",
        "\n",
        "If adventerous, you can replace elements of this notebook with (in order if increasing difficulty):\n",
        "\n",
        "- Sentiment classification dataset. Code portions that will have to change are marked with `DATA`.\n",
        "- Non-sentiment classification dataset. Marked with `DATA`.\n",
        "    - more useful if model updated too\n",
        "- Huggingface classification model. Marked with `HUGS`.\n",
        "- Huggingface non-classification model. Marked with `CLASS`.\n",
        "    - more useful if you have appropriate data too\n",
        "\n",
        "While Trulens supports Tensorflow, most of this notebook is tailored to pytorch so we do not recommend trying to use it with tensorflow."
      ]
    },
    {
      "cell_type": "markdown",
      "metadata": {
        "id": "Q_wpBSP5QRwm"
      },
      "source": [
        "# Skip: Setup\n",
        "\n",
        "You can safely ignore this section."
      ]
    },
    {
      "cell_type": "code",
      "execution_count": 33,
      "metadata": {
        "id": "gyqRPOXI8cmt"
      },
      "outputs": [
        {
          "name": "stdout",
          "output_type": "stream",
          "text": [
            "The autoreload extension is already loaded. To reload it, use:\n",
            "  %reload_ext autoreload\n"
          ]
        },
        {
          "name": "stderr",
          "output_type": "stream",
          "text": [
            "WARNING: Using custom data configuration default\n",
            "WARNING: Reusing dataset rotten_tomatoes (/home/piotrm/.cache/huggingface/datasets/rotten_tomatoes/default/1.0.0/40d411e45a6ce3484deed7cc15b82a53dad9a72aafd9f86f8f227134bec5ca46)\n",
            "WARNING: Using custom data configuration default\n",
            "WARNING: Reusing dataset rotten_tomatoes (/home/piotrm/.cache/huggingface/datasets/rotten_tomatoes/default/1.0.0/40d411e45a6ce3484deed7cc15b82a53dad9a72aafd9f86f8f227134bec5ca46)\n",
            "WARNING: Reusing dataset imdb (/home/piotrm/.cache/huggingface/datasets/imdb/plain_text/1.0.0/2fdd8b9bcadd6e7055e742a706876ba43f19faee861df134affd7a3f60fc38a1)\n",
            "WARNING: Reusing dataset imdb (/home/piotrm/.cache/huggingface/datasets/imdb/plain_text/1.0.0/2fdd8b9bcadd6e7055e742a706876ba43f19faee861df134affd7a3f60fc38a1)\n"
          ]
        },
        {
          "data": {
            "text/plain": [
              "Dataset({\n",
              "    features: ['text', 'label'],\n",
              "    num_rows: 25000\n",
              "})"
            ]
          },
          "execution_count": 33,
          "metadata": {},
          "output_type": "execute_result"
        }
      ],
      "source": [
        "%load_ext autoreload\n",
        "%autoreload 2\n",
        "\n",
        "import sys\n",
        "\n",
        "# Install requirements.\n",
        "while True:\n",
        "  try:\n",
        "    import trulens\n",
        "    import lzma\n",
        "    import pickle\n",
        "    import datasets\n",
        "    import domonic\n",
        "    import gdown\n",
        "    from openTSNE import TSNE\n",
        "    import torch\n",
        "    import transformers\n",
        "  except Exception:\n",
        "    ! {sys.executable} -m pip install git+https://github.com/truera/trulens.git@piotrm/aiq-nlp\n",
        "    ! {sys.executable} -m pip install transformers datasets openTSNE domonic==0.9.8 gdown torch\n",
        "  else:\n",
        "    break\n",
        "\n",
        "import base64\n",
        "import functools\n",
        "import multiprocessing as mp\n",
        "import os\n",
        "from pathlib import Path\n",
        "import re\n",
        "from typing import Callable, Dict, List, Tuple, Sequence\n",
        "\n",
        "from datasets import load_dataset\n",
        "from IPython.display import clear_output\n",
        "from IPython.display import display\n",
        "from ipywidgets import interact\n",
        "from ipywidgets import interactive\n",
        "from ipywidgets import widgets\n",
        "import numpy as np\n",
        "import numpy.typing as npt\n",
        "import pandas as pd\n",
        "import plotly.express as px\n",
        "import plotly.graph_objs as go\n",
        "import torch\n",
        "from tqdm.auto import tqdm\n",
        "from transformers import AutoModelForSequenceClassification\n",
        "from transformers import AutoTokenizer\n",
        "import transformers as hugs\n",
        "\n",
        "from trulens.nn.attribution import Cut\n",
        "from trulens.nn.attribution import IntegratedGradients\n",
        "from trulens.nn.attribution import OutputCut\n",
        "from trulens.nn.models import get_model_wrapper\n",
        "from trulens.nn.quantities import ClassQoI\n",
        "from trulens.utils.nlp import token_baseline\n",
        "from trulens.utils.typing import ModelInputs\n",
        "\n",
        "\n",
        "Figure = go.FigureWidget # use this if running in vscode\n",
        "# Figure = go.Figure # use this if running in google colab or jupyter\n",
        "\n",
        "# Download some pre-computed data.\n",
        "if not Path(\"tsne_embedding.lzma\").exists():\n",
        "  gdown.download(\n",
        "    \"https://drive.google.com/file/d/1ZA8jyv026Q7T1RCJFtxxfCUl1JHXNFVP/view?usp=sharing\",\n",
        "    fuzzy=True, resume=True\n",
        ")\n",
        "  \n",
        "# DATA: Preload datasets. More about them later.\n",
        "load_dataset(\"rotten_tomatoes\", split=\"train\")\n",
        "load_dataset(\"rotten_tomatoes\", split=\"test\")\n",
        "load_dataset(\"imdb\", \"plain_text\", split=\"train\")\n",
        "load_dataset(\"imdb\", \"plain_text\", split=\"test\")"
      ]
    },
    {
      "cell_type": "code",
      "execution_count": 92,
      "metadata": {},
      "outputs": [],
      "source": [
        "# extra dataset for playing around\n",
        "\n",
        "tweets_file = Path(\"training.1600000.processed.noemoticon.csv\")\n",
        "if not tweets_file.exists():\n",
        "    ! wget http://cs.stanford.edu/people/alecmgo/trainingandtestdata.zip\n",
        "    ! unzip trainingandtestdata.zip\n",
        "\n",
        "tweets = pd.read_csv(tweets_file, encoding='ISO-8859-1', header=None, names=[\"polarity\", \"id\", \"timestamp\", \"query\", \"user\", \"text\"])\n",
        "tweet_texts = list(tweets['text'])"
      ]
    },
    {
      "cell_type": "markdown",
      "metadata": {
        "id": "RMf8BfYp8cmu"
      },
      "source": [
        "# Sentiment Classification Model\n",
        "\n",
        "[Huggingface](https://huggingface.co/models) offers a variety of pre-trained NLP models to explore. We exemplify in this notebook a [transformer-based twitter sentiment classification model](https://huggingface.co/distilbert-base-uncased-finetuned-sst-2-english).\n",
        "\n",
        "In the below cell, we point out, with `HUGS`, elements that you would need to update to replace the given model with another hugging face model."
      ]
    },
    {
      "cell_type": "code",
      "execution_count": 34,
      "metadata": {
        "id": "g4UOObDW8cmu"
      },
      "outputs": [],
      "source": [
        "# AIQ: Talk about how this is required to update. Homework. Try out your own model.\n",
        "\n",
        "\n",
        "# Wrap all of the components needed to run a model.\n",
        "class Model:\n",
        "    # device = torch.device(\"cpu\", 0)\n",
        "    # Can also use cuda if available:\n",
        "    device = torch.device(\"cuda\", 0)\n",
        "\n",
        "    # HUGS: model name, see https://huggingface.co/models for others\n",
        "    # https://huggingface.co/distilbert-base-uncased-finetuned-sst-2-english\n",
        "    MODEL = f\"distilbert-base-uncased-finetuned-sst-2-english\"\n",
        "\n",
        "    model: hugs.PreTrainedModel = AutoModelForSequenceClassification.from_pretrained(\n",
        "        MODEL\n",
        "    ).to(device)\n",
        "\n",
        "    tokenizer: hugs.PreTrainedTokenizer = AutoTokenizer.from_pretrained(MODEL)\n",
        "\n",
        "    # HUGS: the embeddings vectors, one for each token\n",
        "    embeddings: npt.NDArray[np.float32] = \\\n",
        "        model.distilbert.embeddings.word_embeddings.weight.detach().cpu().numpy()\n",
        "\n",
        "    # HUGS: name of the layer that produces token embeddings. The trulens\n",
        "    # wrapping cell later in this notebook can be helpful in figuring out this\n",
        "    # parameter.\n",
        "    embeddings_layer: str = 'distilbert_embeddings_word_embeddings'\n",
        "\n",
        "    # number of dimensions in token embedding\n",
        "    embedding_size: int = embeddings.shape[1]\n",
        "\n",
        "    # HUGS: maximum number of tokens to send to model\n",
        "    max_length: int = 128\n",
        "\n",
        "    # HUGS: Maximum number of instances we can evaluate the model on at once. This is\n",
        "    # necessary when using a GPU with a limited amount of memory.\n",
        "    rebatch_size: int = 16\n",
        "\n",
        "    id_of_token: Dict[str, int] = tokenizer.get_vocab()\n",
        "    token_of_id: Dict[int, str] = {v: k for k, v in id_of_token.items()}\n",
        "\n",
        "    # number of tokens in vocabulary\n",
        "    vocab_size: int = len(id_of_token)\n",
        "\n",
        "    def _vocab(token_of_id, vocab_size):\n",
        "        # Python list comprehension scoping workaround\n",
        "        return np.array([token_of_id[i] for i in range(vocab_size)])\n",
        "\n",
        "    # tokens in order\n",
        "    vocab: npt.NDArray[str] = _vocab(token_of_id, vocab_size)\n",
        "\n",
        "    # CLASS\n",
        "    labels = ['negative', 'positive']\n",
        "\n",
        "    # CLASS\n",
        "    NEGATIVE: int = labels.index('negative')\n",
        "    POSITIVE: int = labels.index('positive')\n",
        "\n",
        "    def tokenize(texts: List[str]) -> Dict[str, torch.Tensor]:\n",
        "        \"\"\"\n",
        "        Tokenize a list of `texts` into a form appropriate for `TwitterSentiment.model` .\n",
        "        \"\"\"\n",
        "        return Model.tokenizer(\n",
        "            texts,\n",
        "            padding=True,\n",
        "            truncation=True,\n",
        "            max_length=Model.max_length,\n",
        "            return_tensors='pt'\n",
        "        ).to(Model.device)\n",
        "\n",
        "    # CLASS\n",
        "    def evaluate_to_logits(\n",
        "        texts: List[str], batch_size=rebatch_size\n",
        "    ) -> torch.Tensor:\n",
        "        \"\"\"\n",
        "        Evaluate a collection of `texts` into their logits scores.\n",
        "        \"\"\"\n",
        "\n",
        "        logits = []\n",
        "\n",
        "        inputs = Model.tokenize(texts)\n",
        "\n",
        "        for idx in tqdm(range(0, len(texts), batch_size),\n",
        "                        desc=\"evaluating model\"):\n",
        "\n",
        "            batch_logits = Model.model(\n",
        "                input_ids=inputs['input_ids'][idx:idx + batch_size],\n",
        "                attention_mask=inputs['attention_mask'][idx:idx + batch_size]\n",
        "            ).logits\n",
        "\n",
        "            logits.append(batch_logits.detach())\n",
        "\n",
        "        return torch.concat(logits).detach().cpu()\n",
        "\n",
        "    # CLASS\n",
        "    def evaluate_to_probits(\n",
        "        texts: List[str], batch_size=rebatch_size\n",
        "    ) -> torch.Tensor:\n",
        "        \"\"\"\n",
        "        Evaluate a collection of `texts` into their probits scores.\n",
        "        \"\"\"\n",
        "\n",
        "        logits = Model.evaluate_to_logits(\n",
        "            texts, batch_size=batch_size\n",
        "        )\n",
        "        return torch.nn.functional.softmax(logits, dim=1).detach().cpu()\n",
        "\n",
        "    # HUGS\n",
        "    def token_str(token_id: int) -> str:\n",
        "        \"\"\"\n",
        "        Given a `token_id`, produce a string of how it should be drawn.\n",
        "        \"\"\"\n",
        "        tok = Model.tokenizer.decode(token_id)\n",
        "        if tok.startswith(\"##\"):\n",
        "            # token starts with \"##\" to denote a word postfix\n",
        "            return tok[2:]\n",
        "        else:\n",
        "            # if not a postfix, add space better indicate a complete word\n",
        "            # separation\n",
        "            return \" \" + tok"
      ]
    },
    {
      "cell_type": "markdown",
      "metadata": {
        "id": "GkxHugWm8cmv"
      },
      "source": [
        "## Data pre-processing\n",
        "\n",
        "This section demonstrates the initial steps of an NLP model evaluation, the tokenization and conversion to embeddings."
      ]
    },
    {
      "cell_type": "markdown",
      "metadata": {
        "id": "wf_aQL2zyctB"
      },
      "source": [
        "### Skip: Details"
      ]
    },
    {
      "cell_type": "code",
      "execution_count": 35,
      "metadata": {
        "id": "r_bla-xfyZ4x"
      },
      "outputs": [],
      "source": [
        "# Utilities we will use for interactive parts of this notebook. Please ignore.\n",
        "aiq_layout = dict(\n",
        "    border=\"10px solid teal\", padding=\"5px\", width=\"100%\", margin=\"0px\"\n",
        ")\n",
        "\n",
        "# Interaction utilities.\n",
        "textbox = (\n",
        "    lambda t=\n",
        "    \"I'm a sentence. The last part of this sentence is not a real wordle.\", c=\n",
        "    True, d=\"input\": widgets.Text(\n",
        "        value=t,\n",
        "        continuous_update=c,\n",
        "        layout=aiq_layout,\n",
        "        description=d + (\" (enter to update)\" if not c else \"\"),\n",
        "        style={'description_width': 'initial'}\n",
        "    )\n",
        ")"
      ]
    },
    {
      "cell_type": "markdown",
      "metadata": {
        "id": "NT7iXgQ5ygHJ"
      },
      "source": [
        "### Playground: Input processing"
      ]
    },
    {
      "cell_type": "code",
      "execution_count": 36,
      "metadata": {
        "id": "QvFb7aUt8cmv"
      },
      "outputs": [
        {
          "data": {
            "application/vnd.jupyter.widget-view+json": {
              "model_id": "1d05c5bc1ec04f2ab4eed4e3a22da7d4",
              "version_major": 2,
              "version_minor": 0
            },
            "text/plain": [
              "interactive(children=(Text(value=\"I'm a sentence. The last part of this sentence is not a real wordle.\", descr…"
            ]
          },
          "metadata": {},
          "output_type": "display_data"
        }
      ],
      "source": [
        "@interact(text=textbox())\n",
        "def show_parse(text: str):\n",
        "\n",
        "    print(\"INPUT TEXT\\n\", text, \"\\n\")\n",
        "\n",
        "    # Input sentences need to be tokenized first.\n",
        "    inputs = Model.tokenize([text])\n",
        "\n",
        "    # The tokenizer gives us vocabulary indexes for each input token (in this case,\n",
        "    # words and some word parts like the \"'m\" part of \"I'm\" are tokens).\n",
        "\n",
        "    print(\"MODEL INPUTS\\n\", inputs, \"\\n\")\n",
        "\n",
        "    # HUGS: Decode helps inspecting the tokenization produced:\n",
        "    tokens = Model.tokenizer.batch_decode(torch.flatten(inputs['input_ids']))\n",
        "\n",
        "    # Normally decode would give us a single string for each sentence but we would\n",
        "    # not be able to see some of the non-word tokens there. Flattening first gives\n",
        "    # us a string for each input_id.\n",
        "\n",
        "    print(\"TOKENS\\n\", tokens, \"\\n\")\n",
        "\n",
        "    # HUGS: Each token is represented by a dense vector in the model.\n",
        "    toks = inputs['input_ids'].detach().cpu().numpy()\n",
        "    embs = np.array([Model.embeddings[token_id] for token_id in toks])[0]\n",
        "\n",
        "    print(\"EMBEDDINGS\\n\", embs, \"\\n\")\n"
      ]
    },
    {
      "cell_type": "markdown",
      "metadata": {
        "id": "eT5MgR9c8cmw"
      },
      "source": [
        "## Playground: Model evaluation\n",
        "\n",
        "Evaluating huggingface models is straight-forward if we use the structure produced by the tokenizer."
      ]
    },
    {
      "cell_type": "code",
      "execution_count": 37,
      "metadata": {
        "id": "Dk2_xQVs8cmw"
      },
      "outputs": [
        {
          "data": {
            "application/vnd.jupyter.widget-view+json": {
              "model_id": "b0f3f80ab2624336b160f5c1db62cf29",
              "version_major": 2,
              "version_minor": 0
            },
            "text/plain": [
              "interactive(children=(Text(value=\"I'm a sentence. The last part of this sentence is not a real wordle.\", descr…"
            ]
          },
          "metadata": {},
          "output_type": "display_data"
        }
      ],
      "source": [
        "model_results = []\n",
        "\n",
        "\n",
        "@interact(text=textbox())\n",
        "def show_output(text):\n",
        "    global model_results\n",
        "    results = model_results\n",
        "\n",
        "    # Get the model appropriate inputs from a single text instance:\n",
        "    inputs = Model.tokenize([text])\n",
        "\n",
        "    # Run the model on it:\n",
        "    outputs = Model.model(**inputs)\n",
        "\n",
        "    # CLASS: From logits we can extract the most likely class for each sentence and its\n",
        "    # readable label.\n",
        "    predictions = [Model.labels[i] for i in outputs.logits.argmax(axis=1)]\n",
        "\n",
        "    # CLASS\n",
        "    results.insert(\n",
        "        0, (predictions[0], outputs.logits.detach().cpu().numpy()[0], text)\n",
        "    )\n",
        "    results = results[0:10]\n",
        "\n",
        "    for result in results:\n",
        "        print(*result)"
      ]
    },
    {
      "cell_type": "markdown",
      "metadata": {
        "id": "DSzU71Py8cmw"
      },
      "source": [
        "## Embedding Space\n",
        "\n",
        "This section visualizes the model's embedding space. It is based on TSNE dimensionality reduction that takes reduces 768 dimensional embedding vectors into just 2 dimensions. Ideally tokens that are nearby in the original space should show up nearby in the visualization but this naturally not exact. "
      ]
    },
    {
      "cell_type": "markdown",
      "metadata": {
        "id": "foXbXK5hzOMK"
      },
      "source": [
        "### Skip: Details"
      ]
    },
    {
      "cell_type": "code",
      "execution_count": 38,
      "metadata": {
        "id": "uY9WCPPb8cmw"
      },
      "outputs": [
        {
          "name": "stdout",
          "output_type": "stream",
          "text": [
            "loading\n"
          ]
        }
      ],
      "source": [
        "# AIQ: The following computation takes too long on colab. The results should\n",
        "# have been downloaded for you earlier in this notebook.\n",
        "\n",
        "# HUGS: If using a different model, you might have to recompute this or just skip this step.\n",
        "tsne_filename = Path(\"tsne_embedding.lzma\")\n",
        "if tsne_filename.exists():\n",
        "    print(\"loading\")\n",
        "    with lzma.open(tsne_filename, mode='rb') as fh:\n",
        "        tsne_embedding = pickle.load(fh)\n",
        "\n",
        "else:\n",
        "    print(\n",
        "        \"computing, if you are running this in colab, be prepared to wait a long time\"\n",
        "    )\n",
        "    man = TSNE(\n",
        "        n_jobs=mp.cpu_count(),\n",
        "        verbose=True,\n",
        "        n_iter=10000,\n",
        "        learning_rate=200,\n",
        "        negative_gradient_method='bh',\n",
        "        metric=\"cosine\"\n",
        "    )\n",
        "    tsne_embedding = man.fit(Model.embeddings)\n",
        "\n",
        "    print(\"saving\")\n",
        "    with lzma.open(tsne_filename, mode='wb') as fh:\n",
        "        pickle.dump(obj=tsne_embedding, file=fh)"
      ]
    },
    {
      "cell_type": "markdown",
      "metadata": {
        "id": "LMNxiGn4zSWM"
      },
      "source": [
        "### Playground: Embedding space"
      ]
    },
    {
      "cell_type": "code",
      "execution_count": 39,
      "metadata": {
        "id": "FVmxbI-b8cmx"
      },
      "outputs": [
        {
          "data": {
            "application/vnd.jupyter.widget-view+json": {
              "model_id": "0c3233459d57499c9d96fc3c6c82455d",
              "version_major": 2,
              "version_minor": 0
            },
            "text/plain": [
              "FigureWidget({\n",
              "    'data': [{'marker': {'size': 2},\n",
              "              'mode': 'markers',\n",
              "              'text': arr…"
            ]
          },
          "metadata": {},
          "output_type": "display_data"
        }
      ],
      "source": [
        "# AIQ: This is computationally intensive picture.\n",
        "\n",
        "plotly_layout = dict(paper_bgcolor=\"teal\", margin=dict(l=10, r=10, t=10, b=10))\n",
        "\n",
        "fig = Figure(layout=dict(width=800, height=800, **plotly_layout))\n",
        "fig.update_xaxes(\n",
        "    showticklabels=False\n",
        ")\n",
        "fig.update_yaxes(\n",
        "    showticklabels=False\n",
        ")\n",
        "fig.add_scatter(\n",
        "    x=tsne_embedding[:, 0],\n",
        "    y=tsne_embedding[:, 1],\n",
        "    text=Model.vocab[:],\n",
        "    mode='markers',\n",
        "    marker_size=2\n",
        ")\n",
        "\n",
        "display(fig)"
      ]
    },
    {
      "cell_type": "markdown",
      "metadata": {
        "id": "U_gvi71u8cmx"
      },
      "source": [
        "## Performance\n",
        "\n",
        "We load a [rotten tomatoes movie review sentiment dataset](https://huggingface.co/datasets/rotten_tomatoes) as the first source of data. Later in the drift section we will load a different sentiment dataset."
      ]
    },
    {
      "cell_type": "code",
      "execution_count": 40,
      "metadata": {
        "id": "UAHkKXqH8cmx"
      },
      "outputs": [
        {
          "name": "stderr",
          "output_type": "stream",
          "text": [
            "WARNING: Using custom data configuration default\n",
            "WARNING: Reusing dataset rotten_tomatoes (/home/piotrm/.cache/huggingface/datasets/rotten_tomatoes/default/1.0.0/40d411e45a6ce3484deed7cc15b82a53dad9a72aafd9f86f8f227134bec5ca46)\n",
            "WARNING: Using custom data configuration default\n",
            "WARNING: Reusing dataset rotten_tomatoes (/home/piotrm/.cache/huggingface/datasets/rotten_tomatoes/default/1.0.0/40d411e45a6ce3484deed7cc15b82a53dad9a72aafd9f86f8f227134bec5ca46)\n"
          ]
        }
      ],
      "source": [
        "# DATA: https://huggingface.co/datasets/rotten_tomatoes\n",
        "rotten_train = load_dataset(\"rotten_tomatoes\", split=\"train\")\n",
        "rotten_test = load_dataset(\"rotten_tomatoes\", split=\"test\")\n",
        "rotten_texts = rotten_train['text'] + rotten_test['text']"
      ]
    },
    {
      "cell_type": "code",
      "execution_count": 41,
      "metadata": {
        "id": "CL-oiXGf8cmx"
      },
      "outputs": [
        {
          "data": {
            "application/vnd.jupyter.widget-view+json": {
              "model_id": "21a438f93e0a4c5aa58c711849987d10",
              "version_major": 2,
              "version_minor": 0
            },
            "text/plain": [
              "evaluating model:   0%|          | 0/534 [00:00<?, ?it/s]"
            ]
          },
          "metadata": {},
          "output_type": "display_data"
        },
        {
          "name": "stdout",
          "output_type": "stream",
          "text": [
            "rotten train accuracy = 88.90 %\n"
          ]
        },
        {
          "data": {
            "application/vnd.jupyter.widget-view+json": {
              "model_id": "0ccf9ef718c34b0882e61f9f1d967b48",
              "version_major": 2,
              "version_minor": 0
            },
            "text/plain": [
              "evaluating model:   0%|          | 0/67 [00:00<?, ?it/s]"
            ]
          },
          "metadata": {},
          "output_type": "display_data"
        },
        {
          "name": "stdout",
          "output_type": "stream",
          "text": [
            "rotten test accuracy = 89.68 %\n"
          ]
        }
      ],
      "source": [
        "def accuracy(X: npt.NDArray[float], Y_true: npt.NDArray[int]) -> float:\n",
        "    \"\"\"\n",
        "    Determine model accuracy on the given dataset `X` with ground truth labels\n",
        "    `Y_true`. If this is running slowly, you might be running without GPU. \n",
        "    \"\"\"\n",
        "    \n",
        "    # CLASS\n",
        "    Y_probits = Model.evaluate_to_probits(X).detach().cpu().numpy()\n",
        "\n",
        "    # CLASS\n",
        "    Y_pred = np.argmax(Y_probits, axis=1)\n",
        "    correct = Y_pred == Ytrue\n",
        "\n",
        "    return correct.mean()\n",
        "\n",
        "# DATA\n",
        "for dataset_name, X, Ytrue in [\n",
        "    (\"rotten train\", rotten_train['text'], rotten_train['label']),\n",
        "    (\"rotten test\", rotten_test['text'], rotten_test['label'])]:\n",
        "    print(dataset_name, f\"accuracy = {accuracy(X, Ytrue) * 100:0.2f} %\")\n"
      ]
    },
    {
      "cell_type": "markdown",
      "metadata": {
        "id": "pfPwNFdG8cmx"
      },
      "source": [
        "## Trulens: Model Wrapper\n",
        "\n",
        "As in the prior notebooks, we need to wrap the pytorch model with the appropriate Trulens functionality."
      ]
    },
    {
      "cell_type": "code",
      "execution_count": 42,
      "metadata": {
        "id": "Hw79gFcW8cmx"
      },
      "outputs": [
        {
          "name": "stderr",
          "output_type": "stream",
          "text": [
            "INFO: Detected pytorch backend for <class 'transformers.models.distilbert.modeling_distilbert.DistilBertForSequenceClassification'>.\n",
            "INFO: Using backend Backend.PYTORCH.\n",
            "INFO: If this seems incorrect, you can force the correct backend by passing the `backend` parameter directly into your get_model_wrapper call.\n"
          ]
        },
        {
          "name": "stdout",
          "output_type": "stream",
          "text": [
            "'distilbert_embeddings_word_embeddings':\tEmbedding(30522, 768, padding_idx=0)\n",
            "'distilbert_embeddings_position_embeddings':\tEmbedding(512, 768)\n",
            "'distilbert_embeddings_LayerNorm':\tLayerNorm((768,), eps=1e-12, elementwise_affine=True)\n",
            "'distilbert_embeddings_dropout':\tDropout(p=0.1, inplace=False)\n",
            "'distilbert_transformer_layer_0_attention_dropout':\tDropout(p=0.1, inplace=False)\n",
            "'distilbert_transformer_layer_0_attention_q_lin':\tLinear(in_features=768, out_features=768, bias=True)\n",
            "'distilbert_transformer_layer_0_attention_k_lin':\tLinear(in_features=768, out_features=768, bias=True)\n",
            "'distilbert_transformer_layer_0_attention_v_lin':\tLinear(in_features=768, out_features=768, bias=True)\n",
            "'distilbert_transformer_layer_0_attention_out_lin':\tLinear(in_features=768, out_features=768, bias=True)\n",
            "'distilbert_transformer_layer_0_sa_layer_norm':\tLayerNorm((768,), eps=1e-12, elementwise_affine=True)\n",
            "'distilbert_transformer_layer_0_ffn_dropout':\tDropout(p=0.1, inplace=False)\n",
            "'distilbert_transformer_layer_0_ffn_lin1':\tLinear(in_features=768, out_features=3072, bias=True)\n",
            "'distilbert_transformer_layer_0_ffn_lin2':\tLinear(in_features=3072, out_features=768, bias=True)\n",
            "'distilbert_transformer_layer_0_ffn_activation':\tGELUActivation()\n",
            "'distilbert_transformer_layer_0_output_layer_norm':\tLayerNorm((768,), eps=1e-12, elementwise_affine=True)\n",
            "'distilbert_transformer_layer_1_attention_dropout':\tDropout(p=0.1, inplace=False)\n",
            "'distilbert_transformer_layer_1_attention_q_lin':\tLinear(in_features=768, out_features=768, bias=True)\n",
            "'distilbert_transformer_layer_1_attention_k_lin':\tLinear(in_features=768, out_features=768, bias=True)\n",
            "'distilbert_transformer_layer_1_attention_v_lin':\tLinear(in_features=768, out_features=768, bias=True)\n",
            "'distilbert_transformer_layer_1_attention_out_lin':\tLinear(in_features=768, out_features=768, bias=True)\n",
            "'distilbert_transformer_layer_1_sa_layer_norm':\tLayerNorm((768,), eps=1e-12, elementwise_affine=True)\n",
            "'distilbert_transformer_layer_1_ffn_dropout':\tDropout(p=0.1, inplace=False)\n",
            "'distilbert_transformer_layer_1_ffn_lin1':\tLinear(in_features=768, out_features=3072, bias=True)\n",
            "'distilbert_transformer_layer_1_ffn_lin2':\tLinear(in_features=3072, out_features=768, bias=True)\n",
            "'distilbert_transformer_layer_1_ffn_activation':\tGELUActivation()\n",
            "'distilbert_transformer_layer_1_output_layer_norm':\tLayerNorm((768,), eps=1e-12, elementwise_affine=True)\n",
            "'distilbert_transformer_layer_2_attention_dropout':\tDropout(p=0.1, inplace=False)\n",
            "'distilbert_transformer_layer_2_attention_q_lin':\tLinear(in_features=768, out_features=768, bias=True)\n",
            "'distilbert_transformer_layer_2_attention_k_lin':\tLinear(in_features=768, out_features=768, bias=True)\n",
            "'distilbert_transformer_layer_2_attention_v_lin':\tLinear(in_features=768, out_features=768, bias=True)\n",
            "'distilbert_transformer_layer_2_attention_out_lin':\tLinear(in_features=768, out_features=768, bias=True)\n",
            "'distilbert_transformer_layer_2_sa_layer_norm':\tLayerNorm((768,), eps=1e-12, elementwise_affine=True)\n",
            "'distilbert_transformer_layer_2_ffn_dropout':\tDropout(p=0.1, inplace=False)\n",
            "'distilbert_transformer_layer_2_ffn_lin1':\tLinear(in_features=768, out_features=3072, bias=True)\n",
            "'distilbert_transformer_layer_2_ffn_lin2':\tLinear(in_features=3072, out_features=768, bias=True)\n",
            "'distilbert_transformer_layer_2_ffn_activation':\tGELUActivation()\n",
            "'distilbert_transformer_layer_2_output_layer_norm':\tLayerNorm((768,), eps=1e-12, elementwise_affine=True)\n",
            "'distilbert_transformer_layer_3_attention_dropout':\tDropout(p=0.1, inplace=False)\n",
            "'distilbert_transformer_layer_3_attention_q_lin':\tLinear(in_features=768, out_features=768, bias=True)\n",
            "'distilbert_transformer_layer_3_attention_k_lin':\tLinear(in_features=768, out_features=768, bias=True)\n",
            "'distilbert_transformer_layer_3_attention_v_lin':\tLinear(in_features=768, out_features=768, bias=True)\n",
            "'distilbert_transformer_layer_3_attention_out_lin':\tLinear(in_features=768, out_features=768, bias=True)\n",
            "'distilbert_transformer_layer_3_sa_layer_norm':\tLayerNorm((768,), eps=1e-12, elementwise_affine=True)\n",
            "'distilbert_transformer_layer_3_ffn_dropout':\tDropout(p=0.1, inplace=False)\n",
            "'distilbert_transformer_layer_3_ffn_lin1':\tLinear(in_features=768, out_features=3072, bias=True)\n",
            "'distilbert_transformer_layer_3_ffn_lin2':\tLinear(in_features=3072, out_features=768, bias=True)\n",
            "'distilbert_transformer_layer_3_ffn_activation':\tGELUActivation()\n",
            "'distilbert_transformer_layer_3_output_layer_norm':\tLayerNorm((768,), eps=1e-12, elementwise_affine=True)\n",
            "'distilbert_transformer_layer_4_attention_dropout':\tDropout(p=0.1, inplace=False)\n",
            "'distilbert_transformer_layer_4_attention_q_lin':\tLinear(in_features=768, out_features=768, bias=True)\n",
            "'distilbert_transformer_layer_4_attention_k_lin':\tLinear(in_features=768, out_features=768, bias=True)\n",
            "'distilbert_transformer_layer_4_attention_v_lin':\tLinear(in_features=768, out_features=768, bias=True)\n",
            "'distilbert_transformer_layer_4_attention_out_lin':\tLinear(in_features=768, out_features=768, bias=True)\n",
            "'distilbert_transformer_layer_4_sa_layer_norm':\tLayerNorm((768,), eps=1e-12, elementwise_affine=True)\n",
            "'distilbert_transformer_layer_4_ffn_dropout':\tDropout(p=0.1, inplace=False)\n",
            "'distilbert_transformer_layer_4_ffn_lin1':\tLinear(in_features=768, out_features=3072, bias=True)\n",
            "'distilbert_transformer_layer_4_ffn_lin2':\tLinear(in_features=3072, out_features=768, bias=True)\n",
            "'distilbert_transformer_layer_4_ffn_activation':\tGELUActivation()\n",
            "'distilbert_transformer_layer_4_output_layer_norm':\tLayerNorm((768,), eps=1e-12, elementwise_affine=True)\n",
            "'distilbert_transformer_layer_5_attention_dropout':\tDropout(p=0.1, inplace=False)\n",
            "'distilbert_transformer_layer_5_attention_q_lin':\tLinear(in_features=768, out_features=768, bias=True)\n",
            "'distilbert_transformer_layer_5_attention_k_lin':\tLinear(in_features=768, out_features=768, bias=True)\n",
            "'distilbert_transformer_layer_5_attention_v_lin':\tLinear(in_features=768, out_features=768, bias=True)\n",
            "'distilbert_transformer_layer_5_attention_out_lin':\tLinear(in_features=768, out_features=768, bias=True)\n",
            "'distilbert_transformer_layer_5_sa_layer_norm':\tLayerNorm((768,), eps=1e-12, elementwise_affine=True)\n",
            "'distilbert_transformer_layer_5_ffn_dropout':\tDropout(p=0.1, inplace=False)\n",
            "'distilbert_transformer_layer_5_ffn_lin1':\tLinear(in_features=768, out_features=3072, bias=True)\n",
            "'distilbert_transformer_layer_5_ffn_lin2':\tLinear(in_features=3072, out_features=768, bias=True)\n",
            "'distilbert_transformer_layer_5_ffn_activation':\tGELUActivation()\n",
            "'distilbert_transformer_layer_5_output_layer_norm':\tLayerNorm((768,), eps=1e-12, elementwise_affine=True)\n",
            "'pre_classifier':\tLinear(in_features=768, out_features=768, bias=True)\n",
            "'classifier':\tLinear(in_features=768, out_features=2, bias=True)\n",
            "'dropout':\tDropout(p=0.2, inplace=False)\n"
          ]
        }
      ],
      "source": [
        "# HUGS: Output might be useful for figuring out embedding layer for different models.\n",
        "Model.wrapper = get_model_wrapper(Model.model, device=Model.device)\n",
        "Model.wrapper.print_layer_names()"
      ]
    },
    {
      "cell_type": "markdown",
      "metadata": {
        "id": "NzPEjNgy8cmy"
      },
      "source": [
        "# Explainations"
      ]
    },
    {
      "cell_type": "code",
      "execution_count": 43,
      "metadata": {
        "id": "RhL_c8im8cmy"
      },
      "outputs": [],
      "source": [
        "# HUGS: Set up the attribution method, here it will be \"Integrated Gradients\"\n",
        "# CLASS: Will have to change qoi to potentially LambdaQoI.\n",
        "common_attributor_arguments = dict(\n",
        "    model=Model.wrapper,\n",
        "    resolution=128,\n",
        "    rebatch_size=32,\n",
        "    doi_cut=Cut(Model.embeddings_layer),\n",
        "    qoi=ClassQoI(Model.POSITIVE),\n",
        "    qoi_cut=OutputCut(accessor=lambda o: o['logits'])\n",
        ")\n",
        "# HUGS\n",
        "infl = IntegratedGradients(\n",
        "    **common_attributor_arguments\n",
        ")\n",
        "\n",
        "from trulens.visualizations import NLP\n",
        "\n",
        "# HUGS: Set up visualization utilities.\n",
        "V = NLP(\n",
        "    wrapper=Model.wrapper,\n",
        "    labels=Model.labels,\n",
        "    decode=Model.token_str,\n",
        "    tokenize=lambda sentences: ModelInputs(kwargs=Model.tokenize(sentences,)).map(lambda t: t.to(Model.device)),\n",
        "    # huggingface models can take as input the keyword args as per produced by\n",
        "    # their tokenizers.\n",
        "    input_accessor=lambda x: x.kwargs['input_ids'],\n",
        "    # for huggingface models, input/token ids are under input_ids key in the\n",
        "    # input dictionary\n",
        "    output_accessor=lambda x: x['logits'],\n",
        "    # and logits under 'logits' key in the output dictionary\n",
        "    hidden_tokens=set([Model.tokenizer.pad_token_id])\n",
        "    # do not display these tokens\n",
        ")"
      ]
    },
    {
      "cell_type": "markdown",
      "metadata": {
        "id": "_y3HPIzny9Nt"
      },
      "source": [
        "## Attribution playground"
      ]
    },
    {
      "cell_type": "code",
      "execution_count": 44,
      "metadata": {
        "id": "U_H074esy9j1"
      },
      "outputs": [
        {
          "data": {
            "application/vnd.jupyter.widget-view+json": {
              "model_id": "419280eaaa5f4b0fbbf6e4b8bd2d63fe",
              "version_major": 2,
              "version_minor": 0
            },
            "text/plain": [
              "interactive(children=(Text(value=\"I'm a sentence. The last part of this sentence is not a real wordle.\", descr…"
            ]
          },
          "metadata": {},
          "output_type": "display_data"
        }
      ],
      "source": [
        "results = []\n",
        "\n",
        "@interact(text=textbox())\n",
        "def show_attribution(text):\n",
        "    global results\n",
        "\n",
        "    # Token attribution visualization takes in a list of sentences and the\n",
        "    # attribution method to compute the attributions.\n",
        "    token_attribution = V.tokens([text], infl) \n",
        "\n",
        "    results.insert(0, token_attribution)\n",
        "    results = results[:10]\n",
        "\n",
        "    for result in results:\n",
        "        display(result) "
      ]
    },
    {
      "cell_type": "markdown",
      "metadata": {
        "id": "QmVXexNM8cmy"
      },
      "source": [
        "## Baselines\n",
        "\n",
        "We see in the above results that special tokens such as the sentence end **&lt;/s&gt;** contributes are found to contribute a lot to the model outputs. While this may be useful in some contexts, we are more interested in the contributions of the actual words in these sentences. To focus on the words more, we need to adjust the **baseline** used in the integrated gradients computation. By default in the instantiation so far, the baseline for each token is a zero vector of the same shape as its embedding. By making the basaeline be identicaly to the explained instances on special tokens, we can rid their impact from our measurement. Trulens provides a utility for this purpose in terms of `token_baseline` which constructs for you the methods to compute the appropriate baseline. "
      ]
    },
    {
      "cell_type": "code",
      "execution_count": 45,
      "metadata": {
        "id": "SxNN3f0T8cmy"
      },
      "outputs": [],
      "source": [
        "# HUGS\n",
        "inputs_baseline_ids, inputs_baseline_embeddings = token_baseline(\n",
        "    keep_tokens=set([Model.tokenizer.cls_token_id, Model.tokenizer.sep_token_id]),\n",
        "    # Which tokens to preserve.\n",
        "    replacement_token=Model.tokenizer.pad_token_id,\n",
        "\n",
        "    # AIQ: Try changing `replacement_token` parameter to other special or non\n",
        "    # special tokens.\n",
        "\n",
        "    # replacement_token=Model.tokenizer.mask_token_id,\n",
        "    # replacement_token=Model.tokenizer.vocab[\"happy\"],\n",
        "\n",
        "    # HUGS: What to replace tokens with.\n",
        "    input_accessor=lambda x: x.kwargs['input_ids'],\n",
        "    ids_to_embeddings=Model.model.get_input_embeddings()\n",
        "    # Callable to produce embeddings from token ids.\n",
        ")"
      ]
    },
    {
      "cell_type": "markdown",
      "metadata": {
        "id": "MlRZmU_C8cmy"
      },
      "source": [
        "We can now inspect the baselines on some example sentences. The first method returned by `token_baseline` gives us token ids to inspect while the second gives us the embeddings of the baseline which we will pass to the attributions method."
      ]
    },
    {
      "cell_type": "code",
      "execution_count": 46,
      "metadata": {
        "id": "GrOpj-hN8cmy"
      },
      "outputs": [
        {
          "data": {
            "application/vnd.jupyter.widget-view+json": {
              "model_id": "59ad75fda9b74aa8b3c1e5ba33d988f9",
              "version_major": 2,
              "version_minor": 0
            },
            "text/plain": [
              "interactive(children=(Text(value=\"I'm a sentence. The last part of this sentence is not a real wordle.\", conti…"
            ]
          },
          "metadata": {},
          "output_type": "display_data"
        }
      ],
      "source": [
        "infl_positive_baseline = IntegratedGradients(\n",
        "    baseline=inputs_baseline_embeddings, **common_attributor_arguments\n",
        ")\n",
        "\n",
        "results2 = []\n",
        "\n",
        "\n",
        "@interact(text=textbox(c=False))\n",
        "def show_attribution(text):\n",
        "    global results2\n",
        "\n",
        "    default_result = widgets.HTML(V.tokens([text], infl).data)\n",
        "    baseline_result = widgets.HTML(\n",
        "        V.tokens([text], infl_positive_baseline).data\n",
        "    )\n",
        "\n",
        "    results2.insert(0, (default_result, baseline_result))\n",
        "    results2 = results2[:3]\n",
        "\n",
        "    parts = []\n",
        "\n",
        "    for result in results2:\n",
        "        parts.append(widgets.HBox(result))\n",
        "\n",
        "    display(widgets.VBox(parts))"
      ]
    },
    {
      "cell_type": "markdown",
      "metadata": {
        "id": "R2x8vTQe8cmy"
      },
      "source": [
        "# Fairness"
      ]
    },
    {
      "cell_type": "markdown",
      "metadata": {
        "id": "xVe5xcPH0huW"
      },
      "source": [
        "## Skip: Details"
      ]
    },
    {
      "cell_type": "code",
      "execution_count": 47,
      "metadata": {
        "id": "Z6_Vql4Z8cmy"
      },
      "outputs": [],
      "source": [
        "def word_pattern(word: str) -> str:\n",
        "    \"\"\"\n",
        "    Create a pattern that matches the given `word` as long as it is not\n",
        "    immediately next to an alpha-numeric character.\n",
        "    \"\"\"\n",
        "    return \"(?<!\\w)\" + re.escape(word) + \"(?!\\w)\"\n",
        "\n",
        "\n",
        "def swap(thing1: str, thing2: str) -> Callable[[str], str]:\n",
        "    \"\"\"\n",
        "    Create a method to swap occurances of `thing1` and `thing2`.\n",
        "    \"\"\"\n",
        "\n",
        "    pat_swapper = re.compile(r\":swapper:\")\n",
        "    pat1 = re.compile(word_pattern(thing1), re.IGNORECASE)\n",
        "    pat2 = re.compile(word_pattern(thing2), re.IGNORECASE)\n",
        "\n",
        "    def f(sentence: str):\n",
        "        \"\"\"\n",
        "        Swap instances of thing1 and thing2 in sentence.\n",
        "        \"\"\"\n",
        "\n",
        "        temp1 = pat1.sub(\":swapper:\", sentence)\n",
        "        temp2 = pat2.sub(thing1, temp1)\n",
        "        temp3 = pat_swapper.sub(thing2, temp2)\n",
        "        return temp3\n",
        "\n",
        "    return f\n",
        "\n",
        "\n",
        "def contains(s: str, pat: re.Pattern) -> bool:\n",
        "    \"\"\"\n",
        "    Determine whether the given string `s` satisfies regular expression `pat`.\n",
        "    \"\"\"\n",
        "    return pat.search(s) is not None\n",
        "\n",
        "\n",
        "def get_sentence_pairs(token_pairs: List[Tuple[str, str]],\n",
        "                       texts: List[str]) -> List[Tuple[str, str]]:\n",
        "    \"\"\"\n",
        "    Create sentence pairs from examples in `texts` that swap words from the\n",
        "    pairs list `token_pairs`.\n",
        "    \"\"\"\n",
        "\n",
        "    patterns = [\n",
        "        re.compile(\n",
        "            \"|\".join([word_pattern(tok) for tok in pair]), re.IGNORECASE\n",
        "        ) for pair in token_pairs\n",
        "    ]\n",
        "    swappers = [swap(*pair) for pair in token_pairs]\n",
        "\n",
        "    sentence_pairs = [\n",
        "        (sentence, swap(sentence))\n",
        "        for pattern, swap in\n",
        "        tqdm(zip(patterns, swappers), desc=\"finding swap pairs\", unit=\"pair\")\n",
        "        for sentence in texts\n",
        "        if contains(sentence, pattern)\n",
        "    ]\n",
        "\n",
        "    print(f\"found {len(sentence_pairs)} sentence pair(s)\")\n",
        "\n",
        "    return sentence_pairs\n",
        "\n",
        "# CLASS\n",
        "def compute_pair_disparities(\n",
        "    sentence_pairs: List[Tuple[str, str]]\n",
        ") -> List[Tuple[Tuple[str, str], float]]:\n",
        "    \"\"\"\n",
        "    Given a collection of `sentence_pairs`, produce a list of tuples containing\n",
        "    the pairs as the first element and the disparity in model scores as the\n",
        "    second.\n",
        "    \"\"\"\n",
        "\n",
        "    diffs = []\n",
        "    \n",
        "    # CLASS\n",
        "    a_probits = Model.evaluate_to_probits([pair[0] for pair in sentence_pairs])\n",
        "    b_probits = Model.evaluate_to_probits([pair[1] for pair in sentence_pairs])\n",
        "\n",
        "    # CLASS\n",
        "    for a_probit, b_probit in tqdm(zip(a_probits, b_probits),\n",
        "                                   desc=\"comparing probits\"):\n",
        "\n",
        "        diffs.append(\n",
        "            torch.nn.functional.cross_entropy(\n",
        "                torch.unsqueeze(a_probit, dim=0),\n",
        "                torch.unsqueeze(b_probit, dim=0)\n",
        "            ).detach().cpu().numpy()\n",
        "        )\n",
        "\n",
        "    diffs = np.array(diffs)\n",
        "    diffs_pairs = list(\n",
        "        reversed(sorted(zip(sentence_pairs, diffs), key=lambda pair: pair[1]))\n",
        "    )\n",
        "\n",
        "    return diffs_pairs\n",
        "\n",
        "\n",
        "def show_biggest_disparities(\n",
        "    diffs: List[Tuple[Tuple[str, str], float]],\n",
        "    attributor=infl_positive_baseline,\n",
        "    n=3\n",
        ") -> None:\n",
        "    \"\"\"\n",
        "    Display the top disparate pairs along with their attributions.\n",
        "    \"\"\"\n",
        "\n",
        "    display(\n",
        "        V.tokens_stability(\n",
        "            texts1=[p[0][0] for p in diffs][0:n],\n",
        "            texts2=[p[0][1] for p in diffs][0:n],\n",
        "            attributor=attributor\n",
        "        )\n",
        "    )"
      ]
    },
    {
      "cell_type": "markdown",
      "metadata": {
        "id": "tt3veAgz0leV"
      },
      "source": [
        "## Robustness as fairness\n",
        "\n",
        "Does the model change its prediction if we replace one gendered word for its equivalent of the opposite gender?"
      ]
    },
    {
      "cell_type": "code",
      "execution_count": 48,
      "metadata": {
        "id": "KMsoRyJQ8cmy"
      },
      "outputs": [
        {
          "data": {
            "application/vnd.jupyter.widget-view+json": {
              "model_id": "785f61c0bf6a49fe87b556b3e0bc7af5",
              "version_major": 2,
              "version_minor": 0
            },
            "text/plain": [
              "finding swap pairs: 0pair [00:00, ?pair/s]"
            ]
          },
          "metadata": {},
          "output_type": "display_data"
        },
        {
          "name": "stdout",
          "output_type": "stream",
          "text": [
            "found 1004 sentence pair(s)\n"
          ]
        },
        {
          "data": {
            "application/vnd.jupyter.widget-view+json": {
              "model_id": "bf2c41547ea44e5598cc2563697098ed",
              "version_major": 2,
              "version_minor": 0
            },
            "text/plain": [
              "evaluating model:   0%|          | 0/63 [00:00<?, ?it/s]"
            ]
          },
          "metadata": {},
          "output_type": "display_data"
        },
        {
          "data": {
            "application/vnd.jupyter.widget-view+json": {
              "model_id": "6602fd4ba8864fcaa8335bb60f844b7c",
              "version_major": 2,
              "version_minor": 0
            },
            "text/plain": [
              "evaluating model:   0%|          | 0/63 [00:00<?, ?it/s]"
            ]
          },
          "metadata": {},
          "output_type": "display_data"
        },
        {
          "data": {
            "application/vnd.jupyter.widget-view+json": {
              "model_id": "b37479c7f9464ec491ca5069887c7d22",
              "version_major": 2,
              "version_minor": 0
            },
            "text/plain": [
              "comparing probits: 0it [00:00, ?it/s]"
            ]
          },
          "metadata": {},
          "output_type": "display_data"
        },
        {
          "data": {
            "text/html": [
              "<html><body><div style=\"padding: 5px; maring: 0px; background: black; overflow-wrap: break-word;\"><div style=\"padding: 5px; maring: 0px; background: black; overflow-wrap: break-word;\"><span style=\"color: rgba(0, 100, 100, 1.0);\">ClassQoI</span><sub style=\"color: rgba(0, 100, 100, 1.0);\">1</sub>&nbsp;<span style=\"padding: 2px; border: 2px solid False;\"><span title=\"0.270\" style=\"border-top: 2px solid rgba(186.275534927845, 255.0, 186.275534927845, 255.0); border-bottom: 0px solid rgba(0, 0, 0, 0); margin-left 1px; margin-right: 1px; background: black; color=white;\"><span style=\"color: white;\">negative</span></span></span>&nbsp;<span style=\"padding: 2px; border: 2px solid white;\"><span style=\"padding: 2px; border: 2px solid rgba(0, 100, 100, 1.0);\"><span title=\"0.730\" style=\"border-top: 7px solid rgba(68.724465072155, 255.0, 68.724465072155, 255.0); border-bottom: 0px solid rgba(0, 0, 0, 0); margin-left 1px; margin-right: 1px; background: black; color=white;\"><span style=\"color: white;\">positive</span></span></span></span>&nbsp;<span title=\"0.000\" style=\"border-top: 0px solid rgba(0, 0, 0, 0); border-bottom: 0px solid rgba(255.0, 255.0, 255.0, 255.0); margin-left 1px; margin-right: 1px; background: black; color=white;\"><span style=\"color: white;\">[CLS]</span></span>&nbsp;<span title=\"0.472\" style=\"border-top: 4px solid rgba(134.7006744146347, 255.0, 134.7006744146347, 255.0); border-bottom: 0px solid rgba(0, 0, 0, 0); margin-left 1px; margin-right: 1px; background: black; color=white;\"><span style=\"color: white;\">johnson</span></span>&nbsp;<span title=\"1.693\" style=\"border-top: 10px solid rgba(0.0, 255.0, 0.0, 255.0); border-bottom: 0px solid rgba(0, 0, 0, 0); margin-left 1px; margin-right: 1px; background: black; color=white;\"><span style=\"color: white;\">has</span></span>&nbsp;<span title=\"-0.309\" style=\"border-top: 0px solid rgba(0, 0, 0, 0); border-bottom: 3px solid rgba(255.0, 176.12592995166779, 176.12592995166779, 255.0); margin-left 1px; margin-right: 1px; background: black; color=white;\"><span style=\"color: white;\">,</span></span>&nbsp;<span title=\"0.391\" style=\"border-top: 3px solid rgba(155.35448133945465, 255.0, 155.35448133945465, 255.0); border-bottom: 0px solid rgba(0, 0, 0, 0); margin-left 1px; margin-right: 1px; background: black; color=white;\"><span style=\"color: white;\">in</span></span>&nbsp;<span title=\"-0.113\" style=\"border-top: 0px solid rgba(0, 0, 0, 0); border-bottom: 1px solid rgba(255.0, 226.0687704384327, 226.0687704384327, 255.0); margin-left 1px; margin-right: 1px; background: black; color=white;\"><span style=\"color: white;\">his</span></span>&nbsp;<span title=\"-0.412\" style=\"border-top: 0px solid rgba(0, 0, 0, 0); border-bottom: 4px solid rgba(255.0, 149.86518189311028, 149.86518189311028, 255.0); margin-left 1px; margin-right: 1px; background: black; color=white;\"><span style=\"color: white;\">first</span></span>&nbsp;<span title=\"0.543\" style=\"border-top: 5px solid rgba(116.4564397931099, 255.0, 116.4564397931099, 255.0); border-bottom: 0px solid rgba(0, 0, 0, 0); margin-left 1px; margin-right: 1px; background: black; color=white;\"><span style=\"color: white;\">film</span></span>&nbsp;<span title=\"0.630\" style=\"border-top: 6px solid rgba(94.27032709121704, 255.0, 94.27032709121704, 255.0); border-bottom: 0px solid rgba(0, 0, 0, 0); margin-left 1px; margin-right: 1px; background: black; color=white;\"><span style=\"color: white;\">,</span></span>&nbsp;<span title=\"-0.574\" style=\"border-top: 0px solid rgba(0, 0, 0, 0); border-bottom: 5px solid rgba(255.0, 108.72139245271683, 108.72139245271683, 255.0); margin-left 1px; margin-right: 1px; background: black; color=white;\"><span style=\"color: white;\">set</span></span>&nbsp;<span title=\"-0.086\" style=\"border-top: 0px solid rgba(0, 0, 0, 0); border-bottom: 0px solid rgba(255.0, 233.16690735518932, 233.16690735518932, 255.0); margin-left 1px; margin-right: 1px; background: black; color=white;\"><span style=\"color: white;\">himself</span></span>&nbsp;<span title=\"0.175\" style=\"border-top: 1px solid rgba(210.26773631572723, 255.0, 210.26773631572723, 255.0); border-bottom: 0px solid rgba(0, 0, 0, 0); margin-left 1px; margin-right: 1px; background: black; color=white;\"><span style=\"color: white;\">a</span></span>&nbsp;<span title=\"-0.385\" style=\"border-top: 0px solid rgba(0, 0, 0, 0); border-bottom: 3px solid rgba(255.0, 156.72104761004448, 156.72104761004448, 255.0); margin-left 1px; margin-right: 1px; background: black; color=white;\"><span style=\"color: white;\">task</span></span>&nbsp;<strong><span title=\"-1.301\" style=\"border-top: 0px solid rgba(0, 0, 0, 0); border-bottom: 10px solid rgba(255.0, 0.0, 0.0, 255.0); margin-left 1px; margin-right: 1px; background: black; color=white;\"><span style=\"color: white;\">he</span></span></strong>&nbsp;<span title=\"-0.735\" style=\"border-top: 0px solid rgba(0, 0, 0, 0); border-bottom: 7px solid rgba(255.0, 67.45869219303131, 67.45869219303131, 255.0); margin-left 1px; margin-right: 1px; background: black; color=white;\"><span style=\"color: white;\">is</span></span>&nbsp;<span title=\"1.125\" style=\"border-top: 10px solid rgba(0.0, 255.0, 0.0, 255.0); border-bottom: 0px solid rgba(0, 0, 0, 0); margin-left 1px; margin-right: 1px; background: black; color=white;\"><span style=\"color: white;\">not</span></span>&nbsp;<span title=\"0.032\" style=\"border-top: 0px solid rgba(246.90987216308713, 255.0, 246.90987216308713, 255.0); border-bottom: 0px solid rgba(0, 0, 0, 0); margin-left 1px; margin-right: 1px; background: black; color=white;\"><span style=\"color: white;\">nearly</span></span>&nbsp;<span title=\"0.529\" style=\"border-top: 5px solid rgba(120.16146898269653, 255.0, 120.16146898269653, 255.0); border-bottom: 0px solid rgba(0, 0, 0, 0); margin-left 1px; margin-right: 1px; background: black; color=white;\"><span style=\"color: white;\">up</span></span>&nbsp;<span title=\"-0.609\" style=\"border-top: 0px solid rgba(0, 0, 0, 0); border-bottom: 6px solid rgba(255.0, 99.58376437425613, 99.58376437425613, 255.0); margin-left 1px; margin-right: 1px; background: black; color=white;\"><span style=\"color: white;\">to</span></span>&nbsp;<span title=\"0.210\" style=\"border-top: 2px solid rgba(201.37890368700027, 255.0, 201.37890368700027, 255.0); border-bottom: 0px solid rgba(0, 0, 0, 0); margin-left 1px; margin-right: 1px; background: black; color=white;\"><span style=\"color: white;\">.</span></span>&nbsp;<span title=\"0.000\" style=\"border-top: 0px solid rgba(0, 0, 0, 0); border-bottom: 0px solid rgba(255.0, 255.0, 255.0, 255.0); margin-left 1px; margin-right: 1px; background: black; color=white;\"><span style=\"color: white;\">[SEP]</span></span><br/></div><div style=\"padding: 5px; maring: 0px; background: black; overflow-wrap: break-word;\"><span style=\"color: rgba(0, 100, 100, 1.0);\">ClassQoI</span><sub style=\"color: rgba(0, 100, 100, 1.0);\">1</sub>&nbsp;<span style=\"padding: 2px; border: 2px solid white;\"><span style=\"padding: 2px; border: 2px solid False;\"><span title=\"0.952\" style=\"border-top: 9px solid rgba(12.322769165039062, 255.0, 12.322769165039062, 255.0); border-bottom: 0px solid rgba(0, 0, 0, 0); margin-left 1px; margin-right: 1px; background: black; color=white;\"><span style=\"color: white;\">negative</span></span></span></span>&nbsp;<span style=\"padding: 2px; border: 2px solid rgba(0, 100, 100, 1.0);\"><span title=\"0.048\" style=\"border-top: 0px solid rgba(242.67721753567457, 255.0, 242.67721753567457, 255.0); border-bottom: 0px solid rgba(0, 0, 0, 0); margin-left 1px; margin-right: 1px; background: black; color=white;\"><span style=\"color: white;\">positive</span></span></span>&nbsp;<span title=\"0.000\" style=\"border-top: 0px solid rgba(0, 0, 0, 0); border-bottom: 0px solid rgba(255.0, 255.0, 255.0, 255.0); margin-left 1px; margin-right: 1px; background: black; color=white;\"><span style=\"color: white;\">[CLS]</span></span>&nbsp;<span title=\"0.189\" style=\"border-top: 1px solid rgba(206.73331037163734, 255.0, 206.73331037163734, 255.0); border-bottom: 0px solid rgba(0, 0, 0, 0); margin-left 1px; margin-right: 1px; background: black; color=white;\"><span style=\"color: white;\">johnson</span></span>&nbsp;<span title=\"1.158\" style=\"border-top: 10px solid rgba(0.0, 255.0, 0.0, 255.0); border-bottom: 0px solid rgba(0, 0, 0, 0); margin-left 1px; margin-right: 1px; background: black; color=white;\"><span style=\"color: white;\">has</span></span>&nbsp;<span title=\"-0.172\" style=\"border-top: 0px solid rgba(0, 0, 0, 0); border-bottom: 1px solid rgba(255.0, 211.03747621178627, 211.03747621178627, 255.0); margin-left 1px; margin-right: 1px; background: black; color=white;\"><span style=\"color: white;\">,</span></span>&nbsp;<span title=\"0.186\" style=\"border-top: 1px solid rgba(207.4812926352024, 255.0, 207.4812926352024, 255.0); border-bottom: 0px solid rgba(0, 0, 0, 0); margin-left 1px; margin-right: 1px; background: black; color=white;\"><span style=\"color: white;\">in</span></span>&nbsp;<span title=\"-0.221\" style=\"border-top: 0px solid rgba(0, 0, 0, 0); border-bottom: 2px solid rgba(255.0, 198.59609261155128, 198.59609261155128, 255.0); margin-left 1px; margin-right: 1px; background: black; color=white;\"><span style=\"color: white;\">his</span></span>&nbsp;<span title=\"-0.303\" style=\"border-top: 0px solid rgba(0, 0, 0, 0); border-bottom: 3px solid rgba(255.0, 177.8403903543949, 177.8403903543949, 255.0); margin-left 1px; margin-right: 1px; background: black; color=white;\"><span style=\"color: white;\">first</span></span>&nbsp;<span title=\"0.343\" style=\"border-top: 3px solid rgba(167.63485997915268, 255.0, 167.63485997915268, 255.0); border-bottom: 0px solid rgba(0, 0, 0, 0); margin-left 1px; margin-right: 1px; background: black; color=white;\"><span style=\"color: white;\">film</span></span>&nbsp;<span title=\"0.338\" style=\"border-top: 3px solid rgba(168.7282893061638, 255.0, 168.7282893061638, 255.0); border-bottom: 0px solid rgba(0, 0, 0, 0); margin-left 1px; margin-right: 1px; background: black; color=white;\"><span style=\"color: white;\">,</span></span>&nbsp;<span title=\"-0.505\" style=\"border-top: 0px solid rgba(0, 0, 0, 0); border-bottom: 5px solid rgba(255.0, 126.2336191534996, 126.2336191534996, 255.0); margin-left 1px; margin-right: 1px; background: black; color=white;\"><span style=\"color: white;\">set</span></span>&nbsp;<span title=\"-0.420\" style=\"border-top: 0px solid rgba(0, 0, 0, 0); border-bottom: 4px solid rgba(255.0, 147.89391607046127, 147.89391607046127, 255.0); margin-left 1px; margin-right: 1px; background: black; color=white;\"><span style=\"color: white;\">himself</span></span>&nbsp;<span title=\"0.325\" style=\"border-top: 3px solid rgba(172.14625149965286, 255.0, 172.14625149965286, 255.0); border-bottom: 0px solid rgba(0, 0, 0, 0); margin-left 1px; margin-right: 1px; background: black; color=white;\"><span style=\"color: white;\">a</span></span>&nbsp;<span title=\"-0.410\" style=\"border-top: 0px solid rgba(0, 0, 0, 0); border-bottom: 4px solid rgba(255.0, 150.55427491664886, 150.55427491664886, 255.0); margin-left 1px; margin-right: 1px; background: black; color=white;\"><span style=\"color: white;\">task</span></span>&nbsp;<strong><span title=\"-0.563\" style=\"border-top: 0px solid rgba(0, 0, 0, 0); border-bottom: 5px solid rgba(255.0, 111.49864822626114, 111.49864822626114, 255.0); margin-left 1px; margin-right: 1px; background: black; color=white;\"><span style=\"color: white;\">she</span></span></strong>&nbsp;<span title=\"-1.056\" style=\"border-top: 0px solid rgba(0, 0, 0, 0); border-bottom: 10px solid rgba(255.0, 0.0, 0.0, 255.0); margin-left 1px; margin-right: 1px; background: black; color=white;\"><span style=\"color: white;\">is</span></span>&nbsp;<span title=\"0.582\" style=\"border-top: 5px solid rgba(106.46742939949036, 255.0, 106.46742939949036, 255.0); border-bottom: 0px solid rgba(0, 0, 0, 0); margin-left 1px; margin-right: 1px; background: black; color=white;\"><span style=\"color: white;\">not</span></span>&nbsp;<span title=\"0.061\" style=\"border-top: 0px solid rgba(239.53186506405473, 255.0, 239.53186506405473, 255.0); border-bottom: 0px solid rgba(0, 0, 0, 0); margin-left 1px; margin-right: 1px; background: black; color=white;\"><span style=\"color: white;\">nearly</span></span>&nbsp;<span title=\"0.324\" style=\"border-top: 3px solid rgba(172.43190497159958, 255.0, 172.43190497159958, 255.0); border-bottom: 0px solid rgba(0, 0, 0, 0); margin-left 1px; margin-right: 1px; background: black; color=white;\"><span style=\"color: white;\">up</span></span>&nbsp;<span title=\"-0.704\" style=\"border-top: 0px solid rgba(0, 0, 0, 0); border-bottom: 7px solid rgba(255.0, 75.5972170829773, 75.5972170829773, 255.0); margin-left 1px; margin-right: 1px; background: black; color=white;\"><span style=\"color: white;\">to</span></span>&nbsp;<span title=\"0.195\" style=\"border-top: 1px solid rgba(205.36362826824188, 255.0, 205.36362826824188, 255.0); border-bottom: 0px solid rgba(0, 0, 0, 0); margin-left 1px; margin-right: 1px; background: black; color=white;\"><span style=\"color: white;\">.</span></span>&nbsp;<span title=\"0.000\" style=\"border-top: 0px solid rgba(0, 0, 0, 0); border-bottom: 0px solid rgba(255.0, 255.0, 255.0, 255.0); margin-left 1px; margin-right: 1px; background: black; color=white;\"><span style=\"color: white;\">[SEP]</span></span><br/></div></div><div style=\"padding: 5px; maring: 0px; background: black; overflow-wrap: break-word;\"><div style=\"padding: 5px; maring: 0px; background: black; overflow-wrap: break-word;\"><span style=\"color: rgba(0, 100, 100, 1.0);\">ClassQoI</span><sub style=\"color: rgba(0, 100, 100, 1.0);\">1</sub>&nbsp;<span style=\"padding: 2px; border: 2px solid False;\"><span title=\"0.270\" style=\"border-top: 2px solid rgba(186.275534927845, 255.0, 186.275534927845, 255.0); border-bottom: 0px solid rgba(0, 0, 0, 0); margin-left 1px; margin-right: 1px; background: black; color=white;\"><span style=\"color: white;\">negative</span></span></span>&nbsp;<span style=\"padding: 2px; border: 2px solid white;\"><span style=\"padding: 2px; border: 2px solid rgba(0, 100, 100, 1.0);\"><span title=\"0.730\" style=\"border-top: 7px solid rgba(68.724465072155, 255.0, 68.724465072155, 255.0); border-bottom: 0px solid rgba(0, 0, 0, 0); margin-left 1px; margin-right: 1px; background: black; color=white;\"><span style=\"color: white;\">positive</span></span></span></span>&nbsp;<span title=\"0.000\" style=\"border-top: 0px solid rgba(0, 0, 0, 0); border-bottom: 0px solid rgba(255.0, 255.0, 255.0, 255.0); margin-left 1px; margin-right: 1px; background: black; color=white;\"><span style=\"color: white;\">[CLS]</span></span>&nbsp;<span title=\"0.472\" style=\"border-top: 4px solid rgba(134.7006744146347, 255.0, 134.7006744146347, 255.0); border-bottom: 0px solid rgba(0, 0, 0, 0); margin-left 1px; margin-right: 1px; background: black; color=white;\"><span style=\"color: white;\">johnson</span></span>&nbsp;<span title=\"1.693\" style=\"border-top: 10px solid rgba(0.0, 255.0, 0.0, 255.0); border-bottom: 0px solid rgba(0, 0, 0, 0); margin-left 1px; margin-right: 1px; background: black; color=white;\"><span style=\"color: white;\">has</span></span>&nbsp;<span title=\"-0.309\" style=\"border-top: 0px solid rgba(0, 0, 0, 0); border-bottom: 3px solid rgba(255.0, 176.12592995166779, 176.12592995166779, 255.0); margin-left 1px; margin-right: 1px; background: black; color=white;\"><span style=\"color: white;\">,</span></span>&nbsp;<span title=\"0.391\" style=\"border-top: 3px solid rgba(155.35448133945465, 255.0, 155.35448133945465, 255.0); border-bottom: 0px solid rgba(0, 0, 0, 0); margin-left 1px; margin-right: 1px; background: black; color=white;\"><span style=\"color: white;\">in</span></span>&nbsp;<span title=\"-0.113\" style=\"border-top: 0px solid rgba(0, 0, 0, 0); border-bottom: 1px solid rgba(255.0, 226.0687704384327, 226.0687704384327, 255.0); margin-left 1px; margin-right: 1px; background: black; color=white;\"><span style=\"color: white;\">his</span></span>&nbsp;<span title=\"-0.412\" style=\"border-top: 0px solid rgba(0, 0, 0, 0); border-bottom: 4px solid rgba(255.0, 149.86518189311028, 149.86518189311028, 255.0); margin-left 1px; margin-right: 1px; background: black; color=white;\"><span style=\"color: white;\">first</span></span>&nbsp;<span title=\"0.543\" style=\"border-top: 5px solid rgba(116.4564397931099, 255.0, 116.4564397931099, 255.0); border-bottom: 0px solid rgba(0, 0, 0, 0); margin-left 1px; margin-right: 1px; background: black; color=white;\"><span style=\"color: white;\">film</span></span>&nbsp;<span title=\"0.630\" style=\"border-top: 6px solid rgba(94.27032709121704, 255.0, 94.27032709121704, 255.0); border-bottom: 0px solid rgba(0, 0, 0, 0); margin-left 1px; margin-right: 1px; background: black; color=white;\"><span style=\"color: white;\">,</span></span>&nbsp;<span title=\"-0.574\" style=\"border-top: 0px solid rgba(0, 0, 0, 0); border-bottom: 5px solid rgba(255.0, 108.72139245271683, 108.72139245271683, 255.0); margin-left 1px; margin-right: 1px; background: black; color=white;\"><span style=\"color: white;\">set</span></span>&nbsp;<strong><span title=\"-0.086\" style=\"border-top: 0px solid rgba(0, 0, 0, 0); border-bottom: 0px solid rgba(255.0, 233.16690735518932, 233.16690735518932, 255.0); margin-left 1px; margin-right: 1px; background: black; color=white;\"><span style=\"color: white;\">himself</span></span></strong>&nbsp;<span title=\"0.175\" style=\"border-top: 1px solid rgba(210.26773631572723, 255.0, 210.26773631572723, 255.0); border-bottom: 0px solid rgba(0, 0, 0, 0); margin-left 1px; margin-right: 1px; background: black; color=white;\"><span style=\"color: white;\">a</span></span>&nbsp;<span title=\"-0.385\" style=\"border-top: 0px solid rgba(0, 0, 0, 0); border-bottom: 3px solid rgba(255.0, 156.72104761004448, 156.72104761004448, 255.0); margin-left 1px; margin-right: 1px; background: black; color=white;\"><span style=\"color: white;\">task</span></span>&nbsp;<span title=\"-1.301\" style=\"border-top: 0px solid rgba(0, 0, 0, 0); border-bottom: 10px solid rgba(255.0, 0.0, 0.0, 255.0); margin-left 1px; margin-right: 1px; background: black; color=white;\"><span style=\"color: white;\">he</span></span>&nbsp;<span title=\"-0.735\" style=\"border-top: 0px solid rgba(0, 0, 0, 0); border-bottom: 7px solid rgba(255.0, 67.45869219303131, 67.45869219303131, 255.0); margin-left 1px; margin-right: 1px; background: black; color=white;\"><span style=\"color: white;\">is</span></span>&nbsp;<span title=\"1.125\" style=\"border-top: 10px solid rgba(0.0, 255.0, 0.0, 255.0); border-bottom: 0px solid rgba(0, 0, 0, 0); margin-left 1px; margin-right: 1px; background: black; color=white;\"><span style=\"color: white;\">not</span></span>&nbsp;<span title=\"0.032\" style=\"border-top: 0px solid rgba(246.90987216308713, 255.0, 246.90987216308713, 255.0); border-bottom: 0px solid rgba(0, 0, 0, 0); margin-left 1px; margin-right: 1px; background: black; color=white;\"><span style=\"color: white;\">nearly</span></span>&nbsp;<span title=\"0.529\" style=\"border-top: 5px solid rgba(120.16146898269653, 255.0, 120.16146898269653, 255.0); border-bottom: 0px solid rgba(0, 0, 0, 0); margin-left 1px; margin-right: 1px; background: black; color=white;\"><span style=\"color: white;\">up</span></span>&nbsp;<span title=\"-0.609\" style=\"border-top: 0px solid rgba(0, 0, 0, 0); border-bottom: 6px solid rgba(255.0, 99.58376437425613, 99.58376437425613, 255.0); margin-left 1px; margin-right: 1px; background: black; color=white;\"><span style=\"color: white;\">to</span></span>&nbsp;<span title=\"0.210\" style=\"border-top: 2px solid rgba(201.37890368700027, 255.0, 201.37890368700027, 255.0); border-bottom: 0px solid rgba(0, 0, 0, 0); margin-left 1px; margin-right: 1px; background: black; color=white;\"><span style=\"color: white;\">.</span></span>&nbsp;<span title=\"0.000\" style=\"border-top: 0px solid rgba(0, 0, 0, 0); border-bottom: 0px solid rgba(255.0, 255.0, 255.0, 255.0); margin-left 1px; margin-right: 1px; background: black; color=white;\"><span style=\"color: white;\">[SEP]</span></span><br/></div><div style=\"padding: 5px; maring: 0px; background: black; overflow-wrap: break-word;\"><span style=\"color: rgba(0, 100, 100, 1.0);\">ClassQoI</span><sub style=\"color: rgba(0, 100, 100, 1.0);\">1</sub>&nbsp;<span style=\"padding: 2px; border: 2px solid white;\"><span style=\"padding: 2px; border: 2px solid False;\"><span title=\"0.581\" style=\"border-top: 5px solid rgba(106.74528568983078, 255.0, 106.74528568983078, 255.0); border-bottom: 0px solid rgba(0, 0, 0, 0); margin-left 1px; margin-right: 1px; background: black; color=white;\"><span style=\"color: white;\">negative</span></span></span></span>&nbsp;<span style=\"padding: 2px; border: 2px solid rgba(0, 100, 100, 1.0);\"><span title=\"0.419\" style=\"border-top: 4px solid rgba(148.254706710577, 255.0, 148.254706710577, 255.0); border-bottom: 0px solid rgba(0, 0, 0, 0); margin-left 1px; margin-right: 1px; background: black; color=white;\"><span style=\"color: white;\">positive</span></span></span>&nbsp;<span title=\"0.000\" style=\"border-top: 0px solid rgba(0, 0, 0, 0); border-bottom: 0px solid rgba(255.0, 255.0, 255.0, 255.0); margin-left 1px; margin-right: 1px; background: black; color=white;\"><span style=\"color: white;\">[CLS]</span></span>&nbsp;<span title=\"0.516\" style=\"border-top: 5px solid rgba(123.31598371267319, 255.0, 123.31598371267319, 255.0); border-bottom: 0px solid rgba(0, 0, 0, 0); margin-left 1px; margin-right: 1px; background: black; color=white;\"><span style=\"color: white;\">johnson</span></span>&nbsp;<span title=\"1.529\" style=\"border-top: 10px solid rgba(0.0, 255.0, 0.0, 255.0); border-bottom: 0px solid rgba(0, 0, 0, 0); margin-left 1px; margin-right: 1px; background: black; color=white;\"><span style=\"color: white;\">has</span></span>&nbsp;<span title=\"-0.463\" style=\"border-top: 0px solid rgba(0, 0, 0, 0); border-bottom: 4px solid rgba(255.0, 136.8717411160469, 136.8717411160469, 255.0); margin-left 1px; margin-right: 1px; background: black; color=white;\"><span style=\"color: white;\">,</span></span>&nbsp;<span title=\"0.240\" style=\"border-top: 2px solid rgba(193.91266912221909, 255.0, 193.91266912221909, 255.0); border-bottom: 0px solid rgba(0, 0, 0, 0); margin-left 1px; margin-right: 1px; background: black; color=white;\"><span style=\"color: white;\">in</span></span>&nbsp;<span title=\"-0.162\" style=\"border-top: 0px solid rgba(0, 0, 0, 0); border-bottom: 1px solid rgba(255.0, 213.5802959650755, 213.5802959650755, 255.0); margin-left 1px; margin-right: 1px; background: black; color=white;\"><span style=\"color: white;\">his</span></span>&nbsp;<span title=\"-0.286\" style=\"border-top: 0px solid rgba(0, 0, 0, 0); border-bottom: 2px solid rgba(255.0, 182.1876534819603, 182.1876534819603, 255.0); margin-left 1px; margin-right: 1px; background: black; color=white;\"><span style=\"color: white;\">first</span></span>&nbsp;<span title=\"0.228\" style=\"border-top: 2px solid rgba(196.7455919086933, 255.0, 196.7455919086933, 255.0); border-bottom: 0px solid rgba(0, 0, 0, 0); margin-left 1px; margin-right: 1px; background: black; color=white;\"><span style=\"color: white;\">film</span></span>&nbsp;<span title=\"0.461\" style=\"border-top: 4px solid rgba(137.50653505325317, 255.0, 137.50653505325317, 255.0); border-bottom: 0px solid rgba(0, 0, 0, 0); margin-left 1px; margin-right: 1px; background: black; color=white;\"><span style=\"color: white;\">,</span></span>&nbsp;<span title=\"-0.909\" style=\"border-top: 0px solid rgba(0, 0, 0, 0); border-bottom: 9px solid rgba(255.0, 23.288463950157166, 23.288463950157166, 255.0); margin-left 1px; margin-right: 1px; background: black; color=white;\"><span style=\"color: white;\">set</span></span>&nbsp;<strong><span title=\"0.031\" style=\"border-top: 0px solid rgba(247.17593863606453, 255.0, 247.17593863606453, 255.0); border-bottom: 0px solid rgba(0, 0, 0, 0); margin-left 1px; margin-right: 1px; background: black; color=white;\"><span style=\"color: white;\">herself</span></span></strong>&nbsp;<span title=\"0.418\" style=\"border-top: 4px solid rgba(148.3979818224907, 255.0, 148.3979818224907, 255.0); border-bottom: 0px solid rgba(0, 0, 0, 0); margin-left 1px; margin-right: 1px; background: black; color=white;\"><span style=\"color: white;\">a</span></span>&nbsp;<span title=\"-0.367\" style=\"border-top: 0px solid rgba(0, 0, 0, 0); border-bottom: 3px solid rgba(255.0, 161.36379048228264, 161.36379048228264, 255.0); margin-left 1px; margin-right: 1px; background: black; color=white;\"><span style=\"color: white;\">task</span></span>&nbsp;<span title=\"-1.025\" style=\"border-top: 0px solid rgba(0, 0, 0, 0); border-bottom: 10px solid rgba(255.0, 0.0, 0.0, 255.0); margin-left 1px; margin-right: 1px; background: black; color=white;\"><span style=\"color: white;\">he</span></span>&nbsp;<span title=\"-0.688\" style=\"border-top: 0px solid rgba(0, 0, 0, 0); border-bottom: 6px solid rgba(255.0, 79.45054471492767, 79.45054471492767, 255.0); margin-left 1px; margin-right: 1px; background: black; color=white;\"><span style=\"color: white;\">is</span></span>&nbsp;<span title=\"0.918\" style=\"border-top: 9px solid rgba(20.996411740779877, 255.0, 20.996411740779877, 255.0); border-bottom: 0px solid rgba(0, 0, 0, 0); margin-left 1px; margin-right: 1px; background: black; color=white;\"><span style=\"color: white;\">not</span></span>&nbsp;<span title=\"0.258\" style=\"border-top: 2px solid rgba(189.19468268752098, 255.0, 189.19468268752098, 255.0); border-bottom: 0px solid rgba(0, 0, 0, 0); margin-left 1px; margin-right: 1px; background: black; color=white;\"><span style=\"color: white;\">nearly</span></span>&nbsp;<span title=\"0.466\" style=\"border-top: 4px solid rgba(136.12308248877525, 255.0, 136.12308248877525, 255.0); border-bottom: 0px solid rgba(0, 0, 0, 0); margin-left 1px; margin-right: 1px; background: black; color=white;\"><span style=\"color: white;\">up</span></span>&nbsp;<span title=\"-0.721\" style=\"border-top: 0px solid rgba(0, 0, 0, 0); border-bottom: 7px solid rgba(255.0, 71.22608363628387, 71.22608363628387, 255.0); margin-left 1px; margin-right: 1px; background: black; color=white;\"><span style=\"color: white;\">to</span></span>&nbsp;<span title=\"0.202\" style=\"border-top: 2px solid rgba(203.45752134919167, 255.0, 203.45752134919167, 255.0); border-bottom: 0px solid rgba(0, 0, 0, 0); margin-left 1px; margin-right: 1px; background: black; color=white;\"><span style=\"color: white;\">.</span></span>&nbsp;<span title=\"0.000\" style=\"border-top: 0px solid rgba(0, 0, 0, 0); border-bottom: 0px solid rgba(255.0, 255.0, 255.0, 255.0); margin-left 1px; margin-right: 1px; background: black; color=white;\"><span style=\"color: white;\">[SEP]</span></span><br/></div></div><div style=\"padding: 5px; maring: 0px; background: black; overflow-wrap: break-word;\"><div style=\"padding: 5px; maring: 0px; background: black; overflow-wrap: break-word;\"><span style=\"color: rgba(0, 100, 100, 1.0);\">ClassQoI</span><sub style=\"color: rgba(0, 100, 100, 1.0);\">1</sub>&nbsp;<span style=\"padding: 2px; border: 2px solid white;\"><span style=\"padding: 2px; border: 2px solid False;\"><span title=\"0.571\" style=\"border-top: 5px solid rgba(109.46548372507095, 255.0, 109.46548372507095, 255.0); border-bottom: 0px solid rgba(0, 0, 0, 0); margin-left 1px; margin-right: 1px; background: black; color=white;\"><span style=\"color: white;\">negative</span></span></span></span>&nbsp;<span style=\"padding: 2px; border: 2px solid rgba(0, 100, 100, 1.0);\"><span title=\"0.429\" style=\"border-top: 4px solid rgba(145.53453147411346, 255.0, 145.53453147411346, 255.0); border-bottom: 0px solid rgba(0, 0, 0, 0); margin-left 1px; margin-right: 1px; background: black; color=white;\"><span style=\"color: white;\">positive</span></span></span>&nbsp;<span title=\"0.000\" style=\"border-top: 0px solid rgba(0, 0, 0, 0); border-bottom: 0px solid rgba(255.0, 255.0, 255.0, 255.0); margin-left 1px; margin-right: 1px; background: black; color=white;\"><span style=\"color: white;\">[CLS]</span></span>&nbsp;<span title=\"1.329\" style=\"border-top: 10px solid rgba(0.0, 255.0, 0.0, 255.0); border-bottom: 0px solid rgba(0, 0, 0, 0); margin-left 1px; margin-right: 1px; background: black; color=white;\"><span style=\"color: white;\">a</span></span>&nbsp;<span title=\"2.415\" style=\"border-top: 10px solid rgba(0.0, 255.0, 0.0, 255.0); border-bottom: 0px solid rgba(0, 0, 0, 0); margin-left 1px; margin-right: 1px; background: black; color=white;\"><span style=\"color: white;\">well</span></span>&nbsp;<span title=\"0.043\" style=\"border-top: 0px solid rgba(244.05193246901035, 255.0, 244.05193246901035, 255.0); border-bottom: 0px solid rgba(0, 0, 0, 0); margin-left 1px; margin-right: 1px; background: black; color=white;\"><span style=\"color: white;\">-</span></span>&nbsp;<span title=\"1.194\" style=\"border-top: 10px solid rgba(0.0, 255.0, 0.0, 255.0); border-bottom: 0px solid rgba(0, 0, 0, 0); margin-left 1px; margin-right: 1px; background: black; color=white;\"><span style=\"color: white;\">made</span></span>&nbsp;<span title=\"-0.846\" style=\"border-top: 0px solid rgba(0, 0, 0, 0); border-bottom: 8px solid rgba(255.0, 39.27046716213226, 39.27046716213226, 255.0); margin-left 1px; margin-right: 1px; background: black; color=white;\"><span style=\"color: white;\">but</span></span>&nbsp;<span title=\"-0.618\" style=\"border-top: 0px solid rgba(0, 0, 0, 0); border-bottom: 6px solid rgba(255.0, 97.29482799768448, 97.29482799768448, 255.0); margin-left 1px; margin-right: 1px; background: black; color=white;\"><span style=\"color: white;\">emotionally</span></span>&nbsp;<span title=\"-2.371\" style=\"border-top: 0px solid rgba(0, 0, 0, 0); border-bottom: 10px solid rgba(255.0, 0.0, 0.0, 255.0); margin-left 1px; margin-right: 1px; background: black; color=white;\"><span style=\"color: white;\">scattered</span></span>&nbsp;<span title=\"-0.712\" style=\"border-top: 0px solid rgba(0, 0, 0, 0); border-bottom: 7px solid rgba(255.0, 73.32389026880264, 73.32389026880264, 255.0); margin-left 1px; margin-right: 1px; background: black; color=white;\"><span style=\"color: white;\">film</span></span>&nbsp;<span title=\"0.743\" style=\"border-top: 7px solid rgba(65.4313337802887, 255.0, 65.4313337802887, 255.0); border-bottom: 0px solid rgba(0, 0, 0, 0); margin-left 1px; margin-right: 1px; background: black; color=white;\"><span style=\"color: white;\">whose</span></span>&nbsp;<strong><span title=\"0.580\" style=\"border-top: 5px solid rgba(106.99350357055664, 255.0, 106.99350357055664, 255.0); border-bottom: 0px solid rgba(0, 0, 0, 0); margin-left 1px; margin-right: 1px; background: black; color=white;\"><span style=\"color: white;\">hero</span></span></strong>&nbsp;<span title=\"-0.482\" style=\"border-top: 0px solid rgba(0, 0, 0, 0); border-bottom: 4px solid rgba(255.0, 132.096309363842, 132.096309363842, 255.0); margin-left 1px; margin-right: 1px; background: black; color=white;\"><span style=\"color: white;\">gives</span></span>&nbsp;<span title=\"-0.309\" style=\"border-top: 0px solid rgba(0, 0, 0, 0); border-bottom: 3px solid rgba(255.0, 176.13866686820984, 176.13866686820984, 255.0); margin-left 1px; margin-right: 1px; background: black; color=white;\"><span style=\"color: white;\">his</span></span>&nbsp;<span title=\"-0.015\" style=\"border-top: 0px solid rgba(0, 0, 0, 0); border-bottom: 0px solid rgba(255.0, 251.19341460987926, 251.19341460987926, 255.0); margin-left 1px; margin-right: 1px; background: black; color=white;\"><span style=\"color: white;\">heart</span></span>&nbsp;<span title=\"-0.012\" style=\"border-top: 0px solid rgba(0, 0, 0, 0); border-bottom: 0px solid rgba(255.0, 251.86262235045433, 251.86262235045433, 255.0); margin-left 1px; margin-right: 1px; background: black; color=white;\"><span style=\"color: white;\">only</span></span>&nbsp;<span title=\"-0.066\" style=\"border-top: 0px solid rgba(0, 0, 0, 0); border-bottom: 0px solid rgba(255.0, 238.05665217339993, 238.05665217339993, 255.0); margin-left 1px; margin-right: 1px; background: black; color=white;\"><span style=\"color: white;\">to</span></span>&nbsp;<span title=\"0.080\" style=\"border-top: 0px solid rgba(234.5950835198164, 255.0, 234.5950835198164, 255.0); border-bottom: 0px solid rgba(0, 0, 0, 0); margin-left 1px; margin-right: 1px; background: black; color=white;\"><span style=\"color: white;\">the</span></span>&nbsp;<span title=\"0.026\" style=\"border-top: 0px solid rgba(248.41377921402454, 255.0, 248.41377921402454, 255.0); border-bottom: 0px solid rgba(0, 0, 0, 0); margin-left 1px; margin-right: 1px; background: black; color=white;\"><span style=\"color: white;\">dog</span></span>&nbsp;<span title=\"-0.271\" style=\"border-top: 0px solid rgba(0, 0, 0, 0); border-bottom: 2px solid rgba(255.0, 185.86611449718475, 185.86611449718475, 255.0); margin-left 1px; margin-right: 1px; background: black; color=white;\"><span style=\"color: white;\">.</span></span>&nbsp;<span title=\"0.000\" style=\"border-top: 0px solid rgba(0, 0, 0, 0); border-bottom: 0px solid rgba(255.0, 255.0, 255.0, 255.0); margin-left 1px; margin-right: 1px; background: black; color=white;\"><span style=\"color: white;\">[SEP]</span></span><br/></div><div style=\"padding: 5px; maring: 0px; background: black; overflow-wrap: break-word;\"><span style=\"color: rgba(0, 100, 100, 1.0);\">ClassQoI</span><sub style=\"color: rgba(0, 100, 100, 1.0);\">1</sub>&nbsp;<span style=\"padding: 2px; border: 2px solid False;\"><span title=\"0.097\" style=\"border-top: 0px solid rgba(230.22454664111137, 255.0, 230.22454664111137, 255.0); border-bottom: 0px solid rgba(0, 0, 0, 0); margin-left 1px; margin-right: 1px; background: black; color=white;\"><span style=\"color: white;\">negative</span></span></span>&nbsp;<span style=\"padding: 2px; border: 2px solid white;\"><span style=\"padding: 2px; border: 2px solid rgba(0, 100, 100, 1.0);\"><span title=\"0.903\" style=\"border-top: 9px solid rgba(24.775445759296417, 255.0, 24.775445759296417, 255.0); border-bottom: 0px solid rgba(0, 0, 0, 0); margin-left 1px; margin-right: 1px; background: black; color=white;\"><span style=\"color: white;\">positive</span></span></span></span>&nbsp;<span title=\"0.000\" style=\"border-top: 0px solid rgba(0, 0, 0, 0); border-bottom: 0px solid rgba(255.0, 255.0, 255.0, 255.0); margin-left 1px; margin-right: 1px; background: black; color=white;\"><span style=\"color: white;\">[CLS]</span></span>&nbsp;<span title=\"1.265\" style=\"border-top: 10px solid rgba(0.0, 255.0, 0.0, 255.0); border-bottom: 0px solid rgba(0, 0, 0, 0); margin-left 1px; margin-right: 1px; background: black; color=white;\"><span style=\"color: white;\">a</span></span>&nbsp;<span title=\"2.308\" style=\"border-top: 10px solid rgba(0.0, 255.0, 0.0, 255.0); border-bottom: 0px solid rgba(0, 0, 0, 0); margin-left 1px; margin-right: 1px; background: black; color=white;\"><span style=\"color: white;\">well</span></span>&nbsp;<span title=\"0.115\" style=\"border-top: 1px solid rgba(225.55912278592587, 255.0, 225.55912278592587, 255.0); border-bottom: 0px solid rgba(0, 0, 0, 0); margin-left 1px; margin-right: 1px; background: black; color=white;\"><span style=\"color: white;\">-</span></span>&nbsp;<span title=\"1.181\" style=\"border-top: 10px solid rgba(0.0, 255.0, 0.0, 255.0); border-bottom: 0px solid rgba(0, 0, 0, 0); margin-left 1px; margin-right: 1px; background: black; color=white;\"><span style=\"color: white;\">made</span></span>&nbsp;<span title=\"-0.765\" style=\"border-top: 0px solid rgba(0, 0, 0, 0); border-bottom: 7px solid rgba(255.0, 59.80632841587067, 59.80632841587067, 255.0); margin-left 1px; margin-right: 1px; background: black; color=white;\"><span style=\"color: white;\">but</span></span>&nbsp;<span title=\"-0.291\" style=\"border-top: 0px solid rgba(0, 0, 0, 0); border-bottom: 2px solid rgba(255.0, 180.77545166015625, 180.77545166015625, 255.0); margin-left 1px; margin-right: 1px; background: black; color=white;\"><span style=\"color: white;\">emotionally</span></span>&nbsp;<span title=\"-1.990\" style=\"border-top: 0px solid rgba(0, 0, 0, 0); border-bottom: 10px solid rgba(255.0, 0.0, 0.0, 255.0); margin-left 1px; margin-right: 1px; background: black; color=white;\"><span style=\"color: white;\">scattered</span></span>&nbsp;<span title=\"-0.493\" style=\"border-top: 0px solid rgba(0, 0, 0, 0); border-bottom: 4px solid rgba(255.0, 129.3932408094406, 129.3932408094406, 255.0); margin-left 1px; margin-right: 1px; background: black; color=white;\"><span style=\"color: white;\">film</span></span>&nbsp;<span title=\"0.692\" style=\"border-top: 6px solid rgba(78.56014609336853, 255.0, 78.56014609336853, 255.0); border-bottom: 0px solid rgba(0, 0, 0, 0); margin-left 1px; margin-right: 1px; background: black; color=white;\"><span style=\"color: white;\">whose</span></span>&nbsp;<strong><span title=\"0.695\" style=\"border-top: 6px solid rgba(77.66017198562622, 255.0, 77.66017198562622, 255.0); border-bottom: 0px solid rgba(0, 0, 0, 0); margin-left 1px; margin-right: 1px; background: black; color=white;\"><span style=\"color: white;\">heroine</span></span></strong>&nbsp;<span title=\"-0.387\" style=\"border-top: 0px solid rgba(0, 0, 0, 0); border-bottom: 3px solid rgba(255.0, 156.22107043862343, 156.22107043862343, 255.0); margin-left 1px; margin-right: 1px; background: black; color=white;\"><span style=\"color: white;\">gives</span></span>&nbsp;<span title=\"-0.207\" style=\"border-top: 0px solid rgba(0, 0, 0, 0); border-bottom: 2px solid rgba(255.0, 202.28483967483044, 202.28483967483044, 255.0); margin-left 1px; margin-right: 1px; background: black; color=white;\"><span style=\"color: white;\">his</span></span>&nbsp;<span title=\"-0.039\" style=\"border-top: 0px solid rgba(0, 0, 0, 0); border-bottom: 0px solid rgba(255.0, 245.17658852040768, 245.17658852040768, 255.0); margin-left 1px; margin-right: 1px; background: black; color=white;\"><span style=\"color: white;\">heart</span></span>&nbsp;<span title=\"-0.030\" style=\"border-top: 0px solid rgba(0, 0, 0, 0); border-bottom: 0px solid rgba(255.0, 247.47138418257236, 247.47138418257236, 255.0); margin-left 1px; margin-right: 1px; background: black; color=white;\"><span style=\"color: white;\">only</span></span>&nbsp;<span title=\"-0.093\" style=\"border-top: 0px solid rgba(0, 0, 0, 0); border-bottom: 0px solid rgba(255.0, 231.18684500455856, 231.18684500455856, 255.0); margin-left 1px; margin-right: 1px; background: black; color=white;\"><span style=\"color: white;\">to</span></span>&nbsp;<span title=\"0.174\" style=\"border-top: 1px solid rgba(210.6762181967497, 255.0, 210.6762181967497, 255.0); border-bottom: 0px solid rgba(0, 0, 0, 0); margin-left 1px; margin-right: 1px; background: black; color=white;\"><span style=\"color: white;\">the</span></span>&nbsp;<span title=\"0.056\" style=\"border-top: 0px solid rgba(240.73377572000027, 255.0, 240.73377572000027, 255.0); border-bottom: 0px solid rgba(0, 0, 0, 0); margin-left 1px; margin-right: 1px; background: black; color=white;\"><span style=\"color: white;\">dog</span></span>&nbsp;<span title=\"-0.244\" style=\"border-top: 0px solid rgba(0, 0, 0, 0); border-bottom: 2px solid rgba(255.0, 192.71323308348656, 192.71323308348656, 255.0); margin-left 1px; margin-right: 1px; background: black; color=white;\"><span style=\"color: white;\">.</span></span>&nbsp;<span title=\"0.000\" style=\"border-top: 0px solid rgba(0, 0, 0, 0); border-bottom: 0px solid rgba(255.0, 255.0, 255.0, 255.0); margin-left 1px; margin-right: 1px; background: black; color=white;\"><span style=\"color: white;\">[SEP]</span></span><br/></div></div></body></html>"
            ],
            "text/plain": [
              "<IPython.core.display.HTML object>"
            ]
          },
          "metadata": {},
          "output_type": "display_data"
        }
      ],
      "source": [
        "gender_pairs = [\n",
        "    ('he', 'she'),\n",
        "    ('guy', 'gal'),\n",
        "    ('himself', 'herself'),\n",
        "    ('boy', 'girl'),\n",
        "    ('husband', 'wife'),\n",
        "    ('man', 'woman'),\n",
        "    ('men', 'women'),\n",
        "    ('brother', 'sister'),\n",
        "    ('uncle', 'aunt'),\n",
        "    ('nephew', 'niece'),\n",
        "    ('dad', 'mom'),\n",
        "    ('father', 'mother'),\n",
        "    ('son', 'daughter'),\n",
        "    ('actor', 'actress'),\n",
        "    ('male', 'female'),\n",
        "    ('hero', 'heroine'),\n",
        "]\n",
        "\n",
        "sentence_pairs_gender = get_sentence_pairs(gender_pairs, rotten_texts)\n",
        "diffs_pairs_gender = compute_pair_disparities(sentence_pairs_gender)\n",
        "\n",
        "show_biggest_disparities(diffs_pairs_gender)"
      ]
    },
    {
      "cell_type": "markdown",
      "metadata": {
        "id": "ZRlS60X4048e"
      },
      "source": [
        "## Playground: Fairness robustness under token substitutions"
      ]
    },
    {
      "cell_type": "code",
      "execution_count": 91,
      "metadata": {
        "id": "UfTf1YeB8cmy"
      },
      "outputs": [
        {
          "data": {
            "application/vnd.jupyter.widget-view+json": {
              "model_id": "0514982a93b1406eaaa2435c468875b1",
              "version_major": 2,
              "version_minor": 0
            },
            "text/plain": [
              "interactive(children=(Text(value='hero', continuous_update=False, description='token1 (enter to update)', layo…"
            ]
          },
          "metadata": {},
          "output_type": "display_data"
        }
      ],
      "source": [
        "@interact(\n",
        "    token1=textbox(\"hero\", d=\"token1\", c=False),\n",
        "    token2=textbox(\"heroine\", d=\"token2\", c=False),\n",
        "    dataset=widgets.Dropdown(\n",
        "        options=[\n",
        "            (\"rotten\", rotten_texts),\n",
        "            (\"imdb\", imdb_texts),\n",
        "            (\"twitter\", tweet_texts)\n",
        "        ]\n",
        "    )\n",
        ")\n",
        "def show_disparities(token1, token2, dataset):\n",
        "    if token1 == \"\" or token2 == \"\":\n",
        "        return\n",
        "\n",
        "    # print(dataset)\n",
        "\n",
        "    sentence_pairs = get_sentence_pairs([(token1, token2)], dataset)\n",
        "\n",
        "    if len(sentence_pairs) == 0:\n",
        "        return\n",
        "\n",
        "    diffs_pairs = compute_pair_disparities(sentence_pairs)\n",
        "    show_biggest_disparities(diffs_pairs, n=4)"
      ]
    },
    {
      "cell_type": "markdown",
      "metadata": {
        "id": "VOMP3Ka68cmz"
      },
      "source": [
        "## Gender in embedding space"
      ]
    },
    {
      "cell_type": "markdown",
      "metadata": {
        "id": "ATzu8nJF1HUs"
      },
      "source": [
        "### Skip: Details"
      ]
    },
    {
      "cell_type": "code",
      "execution_count": 50,
      "metadata": {
        "id": "sZMW-xJJ8cmz"
      },
      "outputs": [],
      "source": [
        "# A vector approximating the difference between embeddings of pairs of words\n",
        "# of the opposite gender. This one is for the token embedding used in\n",
        "# distilbert.\n",
        "\n",
        "# HUGS: Do not expect this to work with other models.\n",
        "gender_vector: npt.NDArray['float16'] = np.frombuffer(\n",
        "    base64.b85decode(\n",
        "        b'?4-;r+n_BbxT&BWWUIlV^Qc9YM<?$ffFvBOyeVWPZ6QZ1ttD(IWT3Vs@g>z1(IHALq#<!8`6&IFovN59FQQ<rjVfRxf2awiYAAOf0xHHLzn)JeL8GLalpxcndmiqk3oS&V=c3uGKP<ea=_dCgN-Vq~^C<SDBB=f;{-m#?lBazp6`Fi20ii4{HmQFaeJNI`eJG!zN2p7nT&MsSPpc;*^d-=!XDFVgZ7N3{HKO`0uqm#msif;Ew5=Wq#ib{lJ)>zVdn~jjwWg4$E-Hm9mL8ELf+nV@>7XN}EFh#J6Du&8d89uqq^KIJJfWAH<s(?A83iFILnMlrgei)r<*S^fJgHDAWT^b8{i%wqmaLPhbS9T6Jt#99Sf6L8+bydo;3dAJS}Uz4E1CW%<)@0Q!Ypv2O(|R<c%D?4xR(l{UL)hBP^^)syPV#omZOCyB&3O+Iv%o~8KW|tw5a_oU?h^MQ!4KuK_zc2qAUp_g(MRpzbQy4vZ$V-e<o?1A1Fqg-lZKX51h559ip|Y3@9lngeeCdV4_MV1tujcN-QR*NT-IaRil6?RICoHU?Y?#zN8MQpeo*^uBGuJ$tk-V*C>ytF{UOeM4I9z{VUa<Vx*-d-l$9`fGFf76r}JNuPLCYkTBb<^`&<w5-3!r4Wiwe2&9!9nI?EFcBnfjS1ipX@gcS+XD6R2W3AF1h>!iL@|kC$dla6YHl}MM<0kVa@~U*KA0pVH3?n6;I4Dsj{2DZ*bRJnH^CRFT$f!e}dniDvR;=tH3Mn0=KqeCw)1Lk)mZ)|kEUBrWAE-g9fhH>_i>J6EXBbkVJ|R9RW2H-=R-}(7FDB6^EvphMpez}nRGA2_{iNV0kf_8hG_1QR;-b?fwIDDpnI}W4-5<av4k0q42p)f_%Ay~t-K6*-@+Mjz%$YHy51(}(H7Uv>(<l=m@*IUHzoEq}BB-CJ^(USw-Yae=oTara=C19iiYMJ3?yV>$*qY=iC!+l-R;E;>I4FCe5iVFIf2tZC5UZpoNG!mnxS~QM38iYMm?*WNN1_!Zh^a27Eu`Qoc$}IfR+ikN7@WSNXQ}EcY!wqH2PuOl#HIx#l_0O7ogf&f@u_Slmm`>_AgeQ^RwvCWk}20BY9RBYb|sFgpeAH0Dx#e#tt9TASt-Dq@1$NOs3duoK`EM`FQsOske;`wT_Z0g0w<>+xh5K%eJIJG%cHs?)}7U(Vx_Yrcpk?fF(C#ZaHY4W)TXW`zn~3}NvZsnOQu36Q6W#L)T+R%yeKOyr=sMY+ou^QsHsz@^&6EdH6?hZOqr#q&8vec0VOpo7b`0ylcE<TLM8XAv7>h-WRQC!;i)z*1gXcS@g$NXP%J#EOdu8^39HJf-!4$5t1F|X>nB1bOs2G`_@1C8;w3n$h$<i`f+X;tZX^b#;Ucys8?I0(!zlPFE1h{F1FV`R&#Ig!^d}%BvmpE}lBB68#i@S|a3H`YHy+|3qoeSwl&35tv!2JIffi^f_$lxpN~Hd%My0>0I32|%;S;zZ38EJ*&ZM^~8z+q-g_sARQK)mI6e2np%BPPeTP$EE%&YOJg(wxF_94wE;wph611IgKq9+HaTdc1oA14&4ysA2+%p*K3yQG9HBPA3nuBm+}Bc<mgCL^*Z>ztA#$1O7^A1jL_&?9yoLLzG;4W}ldVyJc}@u_hmODydxda9wBL7j9dl?n!@W-8FCn5dm7l`5;HN2rgX&7LBtm8K*teWQw>D=p^^x~S!>GaR6#Mkv3kktndAR2qe)DyAc)iKy+Q&ZhH}K&En`@+qt+lOfouwj+$EbEZh08mM%hgeI${1Sv!*_$5}TS09xr!ljccx+a^awVhe0JfIpJSSmoK&7Kw@hbW;WB_D1h{;R}`OQ|d^%d6>`KqUt#-K4;xLadW0q^d!nF(UV!=_;$CJ1X3%@2E4Yk*i)Mz>y9k<fnnC5Gh|R<|O+jB#_&s2B9h)'\n",
        "    ),\n",
        "    dtype='float16'\n",
        ")\n",
        "\n",
        "\n",
        "def normalize(v: npt.NDArray[float]) -> npt.NDArray[float]:\n",
        "    \"\"\"\n",
        "    Normalize a single vector.\n",
        "    \"\"\"\n",
        "    return v / np.linalg.norm(v, ord=2)\n",
        "\n",
        "\n",
        "def normalize_many(v: npt.NDArray[float]) -> npt.NDArray[float]:\n",
        "    \"\"\"\n",
        "    Normalize an array of vectors.\n",
        "    \"\"\"\n",
        "    return v / np.linalg.norm(v, axis=1, ord=2)[:, np.newaxis]\n",
        "\n",
        "\n",
        "embeddings_norm = normalize_many(Model.embeddings)\n",
        "baseline_penalties = np.abs(np.dot(embeddings_norm, gender_vector))\n",
        "\n",
        "\n",
        "def embedding_opposite_id(emb: np.ndarray) -> Tuple[int, float]:\n",
        "    \"\"\"\n",
        "    Get the token id of the token closest to the gender-opposite of the given\n",
        "    `emb`.\n",
        "    \"\"\"\n",
        "\n",
        "    # HUGS\n",
        "    emb = normalize(emb)\n",
        "    scores = np.abs(\n",
        "        np.dot(\n",
        "            normalize_many(emb - embeddings_norm + 0.000000001), gender_vector\n",
        "        )\n",
        "    ) - 0.55 * baseline_penalties\n",
        "\n",
        "    best = np.argmax(scores)\n",
        "\n",
        "    return best, scores[best]\n",
        "\n",
        "\n",
        "def embedding_opposite(emb: np.ndarray) -> np.ndarray:\n",
        "    \"\"\"\n",
        "    Try to find the embedding close to the opposite gender relative to the given\n",
        "    `emb`. \n",
        "    \"\"\"\n",
        "\n",
        "    best_id, best_score = embedding_opposite_id(emb)\n",
        "\n",
        "    # DATA\n",
        "    if best_score > 0.25:\n",
        "        return Model.embeddings[best_id]\n",
        "    else:\n",
        "        return emb\n",
        "\n",
        "\n",
        "def embedding_neutralize(emb: np.ndarray) -> np.ndarray:\n",
        "    \"\"\"\n",
        "    Remove the component of the given embedding that points in the gender\n",
        "    direction.\n",
        "    \"\"\"\n",
        "    return emb - np.dot(emb, gender_vector) * gender_vector\n",
        "\n",
        "\n",
        "@functools.lru_cache(maxsize=Model.vocab_size)\n",
        "def token_id_opposite(token_id: int):\n",
        "    \"\"\"\n",
        "    Try to find the opposite of `token_id` according to the direction of\n",
        "    `direction_vector`. If a good candidate is not found, returns the given\n",
        "    `token_id` instead.\n",
        "    \"\"\"\n",
        "    best_id, best_score = embedding_opposite_id(embeddings_norm[token_id])\n",
        "\n",
        "    # DATA\n",
        "    if best_score > 0.20:\n",
        "        return best_id\n",
        "    else:\n",
        "        return token_id\n",
        "\n",
        "\n",
        "def swap_token(token: str) -> str:\n",
        "    \"\"\"\n",
        "    Attempts to find a token of the opposite gender of the given `token`.\n",
        "    \"\"\"\n",
        "\n",
        "    a_id = Model.id_of_token[token]\n",
        "    b_id = token_id_opposite(a_id)\n",
        "    return Model.token_of_id[b_id]"
      ]
    },
    {
      "cell_type": "markdown",
      "metadata": {
        "id": "xvy-FEsz1L5y"
      },
      "source": [
        "### Playground: Gender in the embedding space"
      ]
    },
    {
      "cell_type": "code",
      "execution_count": 51,
      "metadata": {
        "id": "RWh4ing48cmz"
      },
      "outputs": [
        {
          "data": {
            "application/vnd.jupyter.widget-view+json": {
              "model_id": "1052ca7695cb48a9952969c0a65086d9",
              "version_major": 2,
              "version_minor": 0
            },
            "text/plain": [
              "interactive(children=(FloatRangeSlider(value=(-0.05040241777896881, 0.02253688871860504), continuous_update=Fa…"
            ]
          },
          "metadata": {},
          "output_type": "display_data"
        }
      ],
      "source": [
        "# geometry of gender in embedding space\n",
        "\n",
        "# AIQ: This is computationally intensive picture. It is only useful if you use\n",
        "# the tsne reduction.\n",
        "\n",
        "color = np.dot(normalize_many(Model.embeddings), gender_vector)\n",
        "cmin = color.min()\n",
        "cmax = color.max()\n",
        "  \n",
        "fig = Figure(layout=dict(width=800, height=800, **plotly_layout))\n",
        "fig.update_xaxes(\n",
        "    showticklabels=False\n",
        ")\n",
        "fig.update_yaxes(\n",
        "    showticklabels=False\n",
        ")\n",
        "s = fig.add_scatter(\n",
        "    x=[],\n",
        "    y=[],\n",
        "    text=Model.vocab,\n",
        "    mode='markers',\n",
        "    marker={\n",
        "        'cmin': cmin,\n",
        "        'cmax': cmax,\n",
        "        'colorscale': \"Picnic\",\n",
        "        'color': [],\n",
        "        'colorbar': dict(thickness=20)\n",
        "    },\n",
        "    marker_size=4\n",
        ")\n",
        "\n",
        "@interact(hide = widgets.FloatRangeSlider(continuous_update=False, value=[cmin/8, cmax/8], min=cmin, max=cmax, step=0.01, layout=aiq_layout))\n",
        "def show_gender_space(hide):\n",
        "\n",
        "  most_gendered = (color >= hide[1]) | (color <= hide[0])\n",
        "  s.data[0].update(\n",
        "    x=tsne_embedding[most_gendered, 0],\n",
        "    y=tsne_embedding[most_gendered, 1],\n",
        "    text=Model.vocab[most_gendered], \n",
        "    marker={\n",
        "      'color': color[most_gendered],\n",
        "    }\n",
        "  )\n",
        "\n",
        "  display(fig)\n"
      ]
    },
    {
      "cell_type": "markdown",
      "metadata": {
        "id": "A6v1tYIH1S5c"
      },
      "source": [
        "## Embedding debiasing"
      ]
    },
    {
      "cell_type": "code",
      "execution_count": 52,
      "metadata": {
        "id": "4DWx1E3u8cmz"
      },
      "outputs": [],
      "source": [
        "def baseline_neutralize(z: torch.Tensor) -> torch.Tensor:\n",
        "    \"\"\"\n",
        "    Given input tensor of embeddings, produce a baseline that removes their gender component. This can be used to debias words which you do not want to have a gender component like \"doctor\", \"nurse\", etc.\n",
        "    \"\"\"\n",
        "\n",
        "    if isinstance(z, torch.Tensor):\n",
        "        z = z.detach().cpu().numpy()\n",
        "\n",
        "    return torch.tensor(\n",
        "        np.array(\n",
        "            [[embedding_neutralize(emb) for emb in instance] for instance in z]\n",
        "        )\n",
        "    ).to(Model.device)\n",
        "\n",
        "\n",
        "infl_neutralize_gender = IntegratedGradients(\n",
        "    baseline=baseline_neutralize, **common_attributor_arguments\n",
        ")"
      ]
    },
    {
      "cell_type": "markdown",
      "metadata": {
        "id": "ICwRJ-Fk1YgK"
      },
      "source": [
        "## Playground: Attribution to gender"
      ]
    },
    {
      "cell_type": "code",
      "execution_count": 53,
      "metadata": {
        "id": "_gEpAKSy8cmz"
      },
      "outputs": [
        {
          "data": {
            "application/vnd.jupyter.widget-view+json": {
              "model_id": "a3fdf578410a4fb4ba5f58bfd5419db8",
              "version_major": 2,
              "version_minor": 0
            },
            "text/plain": [
              "interactive(children=(Text(value='Johnson has, in his first film, set himself a task he is not nearly up to.',…"
            ]
          },
          "metadata": {},
          "output_type": "display_data"
        }
      ],
      "source": [
        "# AIQ\n",
        "\n",
        "results3 = []\n",
        "\n",
        "\n",
        "@interact(\n",
        "    text=textbox(\n",
        "        t=\n",
        "        \"Johnson has, in his first film, set himself a task he is not nearly up to.\",\n",
        "        c=False\n",
        "    )\n",
        ")\n",
        "def show_attribution(text):\n",
        "    global results3\n",
        "\n",
        "    default_result = widgets.HTML(V.tokens([text], infl_positive_baseline).data)\n",
        "    baseline_result = widgets.HTML(\n",
        "        V.tokens([text], infl_neutralize_gender).data\n",
        "    )\n",
        "\n",
        "    results3.insert(0, (default_result, baseline_result))\n",
        "    results3 = results3[:3]\n",
        "\n",
        "    parts = []\n",
        "\n",
        "    for result in results3:\n",
        "        parts.append(widgets.HBox(result))\n",
        "\n",
        "    display(widgets.VBox(parts))"
      ]
    },
    {
      "cell_type": "markdown",
      "metadata": {
        "id": "U0JNeCce8cmz"
      },
      "source": [
        "# Drift"
      ]
    },
    {
      "cell_type": "code",
      "execution_count": 87,
      "metadata": {
        "id": "q_JVNrjK8cmz"
      },
      "outputs": [
        {
          "name": "stderr",
          "output_type": "stream",
          "text": [
            "WARNING: Reusing dataset imdb (/home/piotrm/.cache/huggingface/datasets/imdb/plain_text/1.0.0/2fdd8b9bcadd6e7055e742a706876ba43f19faee861df134affd7a3f60fc38a1)\n",
            "WARNING: Reusing dataset imdb (/home/piotrm/.cache/huggingface/datasets/imdb/plain_text/1.0.0/2fdd8b9bcadd6e7055e742a706876ba43f19faee861df134affd7a3f60fc38a1)\n"
          ]
        }
      ],
      "source": [
        "# Get another dataset to compare to.\n",
        "\n",
        "# IMDB dataset is large, will take only a portion for speed:\n",
        "n = 2000\n",
        "\n",
        "# DATA: https://huggingface.co/datasets/imdb\n",
        "imdb_train = load_dataset(\"imdb\", \"plain_text\", split=\"train\")\n",
        "imdb_test = load_dataset(\"imdb\", \"plain_text\", split=\"test\")\n",
        "imdb_texts = imdb_train['text'] + imdb_test['text']"
      ]
    },
    {
      "cell_type": "code",
      "execution_count": 55,
      "metadata": {
        "id": "W-mvzEHPW1BI"
      },
      "outputs": [
        {
          "data": {
            "application/vnd.jupyter.widget-view+json": {
              "model_id": "e7202e9570f94376b5d0736abe5c31f2",
              "version_major": 2,
              "version_minor": 0
            },
            "text/plain": [
              "evaluating model:   0%|          | 0/125 [00:00<?, ?it/s]"
            ]
          },
          "metadata": {},
          "output_type": "display_data"
        },
        {
          "name": "stdout",
          "output_type": "stream",
          "text": [
            "imdb train accuracy = 83.85 %\n"
          ]
        },
        {
          "data": {
            "application/vnd.jupyter.widget-view+json": {
              "model_id": "d7b6d4f4018e42efb638ac5fe41497ce",
              "version_major": 2,
              "version_minor": 0
            },
            "text/plain": [
              "evaluating model:   0%|          | 0/125 [00:00<?, ?it/s]"
            ]
          },
          "metadata": {},
          "output_type": "display_data"
        },
        {
          "name": "stdout",
          "output_type": "stream",
          "text": [
            "imdb test accuracy = 82.85 %\n"
          ]
        }
      ],
      "source": [
        "def sample(items: List[Sequence], n: int) -> Tuple[List, List]:\n",
        "  \"\"\"\n",
        "  Take a sample of the sequences in `items`. If more than one sequence is given, the same indices are sampled from each, thus appropriate for X, Y pairs.\n",
        "  \"\"\"\n",
        "  items = list(map(np.array, items))\n",
        "  indices = np.random.choice(np.arange(len(items[0])), size=n).astype(int)\n",
        "  return tuple(map(lambda array: list(array[indices]), items))\n",
        "\n",
        "# DATA\n",
        "for dataset_name, (X, Ytrue) in [\n",
        "    (\"imdb train\", sample([imdb_train['text'], imdb_train['label']], n=n)),\n",
        "    (\"imdb test\", sample([imdb_test['text'], imdb_test['label']], n=n))]:\n",
        "    print(dataset_name, f\"accuracy = {accuracy(X, Ytrue) * 100:0.2f} %\")"
      ]
    },
    {
      "cell_type": "markdown",
      "metadata": {
        "id": "uGKsM3Jj1uWL"
      },
      "source": [
        "## Skip: Details"
      ]
    },
    {
      "cell_type": "code",
      "execution_count": 56,
      "metadata": {
        "id": "nw9J1j8H1wMy"
      },
      "outputs": [],
      "source": [
        "plotly_layout2 = plotly_layout.copy()\n",
        "plotly_layout2['margin'] = plotly_layout2['margin'].copy()\n",
        "plotly_layout2['margin']['t'] = 60\n",
        "\n",
        "# CLASS\n",
        "def show_model_score_drift(\n",
        "    texts1: List[str],\n",
        "    texts2: List[str],\n",
        "    n1: str,\n",
        "    n2: str,\n",
        "    score: str = \"positive\"\n",
        ") -> None:\n",
        "    \"\"\"\n",
        "    Given two collections of texts, display model `score` histogram over those\n",
        "    two texts. The other arguments are for labeling the collections. \n",
        "    \"\"\"\n",
        "\n",
        "    # CLASS\n",
        "    scores1 = Model.evaluate_to_logits(texts1).detach().cpu().numpy()\n",
        "    scores2 = Model.evaluate_to_logits(texts2).detach().cpu().numpy()\n",
        "\n",
        "    # CLASS\n",
        "    df1 = pd.DataFrame(dict(\n",
        "        negative=scores1[:, 0],\n",
        "        positive=scores1[:, 1],\n",
        "    ))\n",
        "    df2 = pd.DataFrame(dict(\n",
        "        negative=scores2[:, 0],\n",
        "        positive=scores2[:, 1]\n",
        "    ))\n",
        "\n",
        "    s1 = df1[score]\n",
        "    s2 = df2[score]\n",
        "\n",
        "    counts1, bin_edges = np.histogram(s1, bins=20, density=True)\n",
        "    counts2, _ = np.histogram(s2, bins=bin_edges, density=True)\n",
        "\n",
        "    fig = Figure(layout=dict(title=\"model score distributions\", **plotly_layout2))\n",
        "    bar1 = fig.add_bar(x=bin_edges, y=counts1, name=n1)\n",
        "    bar2 = fig.add_bar(x=bin_edges, y=counts2, name=n2)\n",
        "\n",
        "    display(fig)"
      ]
    },
    {
      "cell_type": "markdown",
      "metadata": {
        "id": "Y2oD02St8cmz"
      },
      "source": [
        "## Playground: Model score drift\n",
        "\n",
        "\n",
        "\n"
      ]
    },
    {
      "cell_type": "code",
      "execution_count": 57,
      "metadata": {
        "id": "YW3PHg188cmz"
      },
      "outputs": [
        {
          "data": {
            "application/vnd.jupyter.widget-view+json": {
              "model_id": "5cc45a9310294632854b2dd5f676543d",
              "version_major": 2,
              "version_minor": 0
            },
            "text/plain": [
              "evaluating model:   0%|          | 0/125 [00:00<?, ?it/s]"
            ]
          },
          "metadata": {},
          "output_type": "display_data"
        },
        {
          "data": {
            "application/vnd.jupyter.widget-view+json": {
              "model_id": "1562481939af4669b6d2e11e966f3d36",
              "version_major": 2,
              "version_minor": 0
            },
            "text/plain": [
              "evaluating model:   0%|          | 0/125 [00:00<?, ?it/s]"
            ]
          },
          "metadata": {},
          "output_type": "display_data"
        },
        {
          "data": {
            "application/vnd.jupyter.widget-view+json": {
              "model_id": "03fbad1469b8477da7c0baea02707d39",
              "version_major": 2,
              "version_minor": 0
            },
            "text/plain": [
              "FigureWidget({\n",
              "    'data': [{'name': 'rotten train',\n",
              "              'type': 'bar',\n",
              "              'uid': '0f79a1…"
            ]
          },
          "metadata": {},
          "output_type": "display_data"
        }
      ],
      "source": [
        "# DATA\n",
        "show_model_score_drift(\n",
        "    sample([rotten_train['text']], n=n)[0],\n",
        "    sample([rotten_test['text']], n=n)[0],\n",
        "    'rotten train',\n",
        "    'rotten test'\n",
        ")"
      ]
    },
    {
      "cell_type": "code",
      "execution_count": 58,
      "metadata": {
        "id": "z3L3Ylrr8cmz"
      },
      "outputs": [
        {
          "data": {
            "application/vnd.jupyter.widget-view+json": {
              "model_id": "68bbad8c7fed47dbbf2c5415124394cb",
              "version_major": 2,
              "version_minor": 0
            },
            "text/plain": [
              "evaluating model:   0%|          | 0/125 [00:00<?, ?it/s]"
            ]
          },
          "metadata": {},
          "output_type": "display_data"
        },
        {
          "data": {
            "application/vnd.jupyter.widget-view+json": {
              "model_id": "128efc507e1e4ded8eb46062a01844fe",
              "version_major": 2,
              "version_minor": 0
            },
            "text/plain": [
              "evaluating model:   0%|          | 0/125 [00:00<?, ?it/s]"
            ]
          },
          "metadata": {},
          "output_type": "display_data"
        },
        {
          "data": {
            "application/vnd.jupyter.widget-view+json": {
              "model_id": "ea6128e9fb90431cbf06bc9ec1a1e011",
              "version_major": 2,
              "version_minor": 0
            },
            "text/plain": [
              "FigureWidget({\n",
              "    'data': [{'name': 'rotten train',\n",
              "              'type': 'bar',\n",
              "              'uid': 'f25165…"
            ]
          },
          "metadata": {},
          "output_type": "display_data"
        }
      ],
      "source": [
        "# DATA\n",
        "show_model_score_drift(\n",
        "    sample([rotten_train['text']], n=n)[0],\n",
        "    sample([imdb_train['text']], n=n)[0],\n",
        "    'rotten train',\n",
        "    'imdb train'\n",
        ")"
      ]
    },
    {
      "cell_type": "markdown",
      "metadata": {
        "id": "e4_RIuHAkf4r"
      },
      "source": [
        "## Token distribution drift"
      ]
    },
    {
      "cell_type": "markdown",
      "metadata": {
        "id": "WiEK1E-g2H-h"
      },
      "source": [
        "### Skip: Details"
      ]
    },
    {
      "cell_type": "code",
      "execution_count": 59,
      "metadata": {
        "id": "wYszoaB08cmz"
      },
      "outputs": [],
      "source": [
        "def tokenize(portion: List[str]) -> torch.Tensor:\n",
        "    \"\"\"\n",
        "    Tokenize into just token_ids, not any of the other model inputs.\n",
        "    \"\"\"\n",
        "    return Model.tokenizer.batch_encode_plus(\n",
        "        portion,\n",
        "        add_special_tokens=True,\n",
        "        return_attention_mask=False,\n",
        "        max_length=Model.max_length,\n",
        "        truncation=True\n",
        "    )['input_ids']\n",
        "\n",
        "\n",
        "def toks_of_texts(texts: List[str]) -> npt.NDArray[int]:    \n",
        "    toks = tokenize(texts)\n",
        "    \n",
        "    return np.array([t for tok in toks for t in tok])\n",
        "    \n",
        "\n",
        "def dists_of_texts(\n",
        "    texts: List[str]\n",
        ") -> Tuple[npt.NDArray[int], npt.NDArray[float]]:\n",
        "    all = toks_of_texts(texts)\n",
        "\n",
        "    counts = np.zeros(Model.vocab_size)\n",
        "\n",
        "    for i in all:\n",
        "        counts[i] += 1\n",
        "\n",
        "    dist = counts / len(all)\n",
        "\n",
        "    return counts, dist\n",
        "\n",
        "\n",
        "def tops_of_texts(texts: List[str], n: int = 10) -> List[int]:\n",
        "    \"\"\"\n",
        "    Get the indices of the most frequent tokens in the collection of `texts`.\n",
        "    \"\"\"\n",
        "\n",
        "    counts, dist = dists_of_texts(texts)\n",
        "\n",
        "    return tops_of_dists(counts, dist, n=n)\n",
        "\n",
        "\n",
        "def tops_of_dists(c: npt.NDArray[int],\n",
        "                  d: npt.NDArray[float],\n",
        "                  n=10) -> List[int]:\n",
        "    sortindex = np.argsort(d)\n",
        "    top = []\n",
        "\n",
        "    for idx in sortindex[0:n]:\n",
        "        top.append((idx, c[idx], d[idx], Model.tokenizer.decode(idx)))\n",
        "\n",
        "    crest_pos = 0\n",
        "    crest_neg = 0\n",
        "    drest_pos = 0\n",
        "    drest_neg = 0\n",
        "\n",
        "    for idx in sortindex[n:-n]:\n",
        "        if c[idx] >= 0:\n",
        "            crest_pos += c[idx]\n",
        "            drest_pos += d[idx]\n",
        "        else:\n",
        "            crest_neg += c[idx]\n",
        "            drest_neg += d[idx]\n",
        "\n",
        "    top.append((-1, crest_neg, drest_neg, \"*\"))\n",
        "    top.append((-1, crest_pos, drest_pos, \"*\"))\n",
        "\n",
        "    for idx in sortindex[-n:]:\n",
        "        top.append((idx, c[idx], d[idx], Model.tokenizer.decode(idx)))\n",
        "\n",
        "    return top\n",
        "\n",
        "def plotdist(\n",
        "    d1: npt.NDArray[float], d2: npt.NDArray[float], top, l1: str, l2: str\n",
        ") -> None:\n",
        "\n",
        "    n = len(top)\n",
        "\n",
        "    dprobs = pd.DataFrame(\n",
        "        {\n",
        "            \"token\": [t[3] for t in top] * 2,\n",
        "            \"dataset\": ([l1] * n) + ([l2] * n),\n",
        "            \"prob\": [d1[t[0]] for t in top] + [d2[t[0]] for t in top]\n",
        "        }\n",
        "    )\n",
        "    fig = px.bar(dprobs, x=\"token\", y=\"prob\", color=\"dataset\", barmode='group')\n",
        "    fig.update_layout(plotly_layout, height=300)\n",
        "    display(fig)\n",
        "\n",
        "    ddiff = pd.DataFrame(\n",
        "        {\n",
        "            \"token\": [t[3] for t in top],\n",
        "            \"prob\": [t[2] for t in top]\n",
        "        }\n",
        "    )\n",
        "    fig = px.bar(ddiff, x=\"token\", y=\"prob\")\n",
        "    fig.update_layout(plotly_layout, height=300)\n",
        "    display(fig)"
      ]
    },
    {
      "cell_type": "markdown",
      "metadata": {
        "id": "_WEW9YDj2OIA"
      },
      "source": [
        "## Playground: Token distribution drift"
      ]
    },
    {
      "cell_type": "code",
      "execution_count": 60,
      "metadata": {
        "id": "leejbanU8cmz"
      },
      "outputs": [
        {
          "data": {
            "application/vnd.plotly.v1+json": {
              "config": {
                "plotlyServerURL": "https://plot.ly"
              },
              "data": [
                {
                  "alignmentgroup": "True",
                  "hovertemplate": "dataset=imdb<br>token=%{x}<br>prob=%{y}<extra></extra>",
                  "legendgroup": "imdb",
                  "marker": {
                    "color": "#636efa",
                    "pattern": {
                      "shape": ""
                    }
                  },
                  "name": "imdb",
                  "offsetgroup": "imdb",
                  "orientation": "v",
                  "showlegend": true,
                  "textposition": "auto",
                  "type": "bar",
                  "x": [
                    "[CLS]",
                    "[SEP]",
                    "-",
                    "s",
                    "and",
                    "of",
                    ".",
                    "a",
                    "its",
                    ",",
                    "'",
                    "##ly",
                    "an",
                    "##s",
                    "comedy",
                    "as",
                    "]",
                    "[",
                    "performances",
                    "will",
                    "*",
                    "*",
                    "in",
                    "they",
                    "bad",
                    "have",
                    "?",
                    "t",
                    "!",
                    "to",
                    ")",
                    "(",
                    "movie",
                    "\"",
                    "the",
                    "was",
                    "this",
                    ">",
                    "br",
                    "<",
                    "/",
                    "i"
                  ],
                  "xaxis": "x",
                  "y": [
                    0.008072686468966575,
                    0.008072686468966575,
                    0.008153413333656242,
                    0.007212945360021635,
                    0.019095939842340433,
                    0.017929436647574765,
                    0.04282963806110216,
                    0.021654981453002837,
                    0.0010211948383242718,
                    0.03256118087257668,
                    0.01671046099076081,
                    0.001053485584200138,
                    0.0028294766073727845,
                    0.0032088928714142134,
                    0.0004157433531517786,
                    0.0049929565810558265,
                    0.000008072686468966576,
                    0.000008072686468966576,
                    0.0001331993267379485,
                    0.0007184690957380252,
                    0,
                    0,
                    0.011628704858546352,
                    0.002712422653572769,
                    0.002328970046296857,
                    0.004048452264186738,
                    0.002712422653572769,
                    0.004851684567848911,
                    0.0029142398152969336,
                    0.016960714271298773,
                    0.003967725399497072,
                    0.004117070099172953,
                    0.008314867063035572,
                    0.009025263472304632,
                    0.04188917008746756,
                    0.008262394600987289,
                    0.012884007604470653,
                    0.011338088145663556,
                    0.011564123366794618,
                    0.011628704858546352,
                    0.012145356792560211,
                    0.015140323472546811
                  ],
                  "yaxis": "y"
                },
                {
                  "alignmentgroup": "True",
                  "hovertemplate": "dataset=rotten<br>token=%{x}<br>prob=%{y}<extra></extra>",
                  "legendgroup": "rotten",
                  "marker": {
                    "color": "#EF553B",
                    "pattern": {
                      "shape": ""
                    }
                  },
                  "name": "rotten",
                  "offsetgroup": "rotten",
                  "orientation": "v",
                  "showlegend": true,
                  "textposition": "auto",
                  "type": "bar",
                  "x": [
                    "[CLS]",
                    "[SEP]",
                    "-",
                    "s",
                    "and",
                    "of",
                    ".",
                    "a",
                    "its",
                    ",",
                    "'",
                    "##ly",
                    "an",
                    "##s",
                    "comedy",
                    "as",
                    "]",
                    "[",
                    "performances",
                    "will",
                    "*",
                    "*",
                    "in",
                    "they",
                    "bad",
                    "have",
                    "?",
                    "t",
                    "!",
                    "to",
                    ")",
                    "(",
                    "movie",
                    "\"",
                    "the",
                    "was",
                    "this",
                    ">",
                    "br",
                    "<",
                    "/",
                    "i"
                  ],
                  "xaxis": "x",
                  "y": [
                    0.03682224063334254,
                    0.03682224063334254,
                    0.018539998158887967,
                    0.013145539906103286,
                    0.024965479149406243,
                    0.02321642271932247,
                    0.04779526834207862,
                    0.026383135413789928,
                    0.005007824726134585,
                    0.035607106692442235,
                    0.019755132099788273,
                    0.0038111019055509527,
                    0.005265580410567983,
                    0.004676424560434503,
                    0.0016201785878670718,
                    0.006186136426401547,
                    0.0010678449783669336,
                    0.0010678449783669336,
                    0.0011414894596336188,
                    0.001712234189450428,
                    0,
                    0,
                    0.009794716008469114,
                    0.0008100892939335359,
                    0.00020252232348338397,
                    0.0018227009113504556,
                    0.00046027800791678176,
                    0.0024302678818006076,
                    0.0003866335266500967,
                    0.014010862560986836,
                    0.0006259780907668231,
                    0.0006259780907668231,
                    0.004050446469667679,
                    0.0026880235662340053,
                    0.03485225075945871,
                    0.0005707447298168094,
                    0.004860535763601215,
                    0,
                    0.0001288778422166989,
                    0,
                    0.0003498112860167541,
                    0.001491300745650373
                  ],
                  "yaxis": "y"
                }
              ],
              "layout": {
                "barmode": "group",
                "height": 300,
                "legend": {
                  "title": {
                    "text": "dataset"
                  },
                  "tracegroupgap": 0
                },
                "margin": {
                  "b": 10,
                  "l": 10,
                  "r": 10,
                  "t": 10
                },
                "paper_bgcolor": "teal",
                "template": {
                  "data": {
                    "bar": [
                      {
                        "error_x": {
                          "color": "#2a3f5f"
                        },
                        "error_y": {
                          "color": "#2a3f5f"
                        },
                        "marker": {
                          "line": {
                            "color": "#E5ECF6",
                            "width": 0.5
                          },
                          "pattern": {
                            "fillmode": "overlay",
                            "size": 10,
                            "solidity": 0.2
                          }
                        },
                        "type": "bar"
                      }
                    ],
                    "barpolar": [
                      {
                        "marker": {
                          "line": {
                            "color": "#E5ECF6",
                            "width": 0.5
                          },
                          "pattern": {
                            "fillmode": "overlay",
                            "size": 10,
                            "solidity": 0.2
                          }
                        },
                        "type": "barpolar"
                      }
                    ],
                    "carpet": [
                      {
                        "aaxis": {
                          "endlinecolor": "#2a3f5f",
                          "gridcolor": "white",
                          "linecolor": "white",
                          "minorgridcolor": "white",
                          "startlinecolor": "#2a3f5f"
                        },
                        "baxis": {
                          "endlinecolor": "#2a3f5f",
                          "gridcolor": "white",
                          "linecolor": "white",
                          "minorgridcolor": "white",
                          "startlinecolor": "#2a3f5f"
                        },
                        "type": "carpet"
                      }
                    ],
                    "choropleth": [
                      {
                        "colorbar": {
                          "outlinewidth": 0,
                          "ticks": ""
                        },
                        "type": "choropleth"
                      }
                    ],
                    "contour": [
                      {
                        "colorbar": {
                          "outlinewidth": 0,
                          "ticks": ""
                        },
                        "colorscale": [
                          [
                            0,
                            "#0d0887"
                          ],
                          [
                            0.1111111111111111,
                            "#46039f"
                          ],
                          [
                            0.2222222222222222,
                            "#7201a8"
                          ],
                          [
                            0.3333333333333333,
                            "#9c179e"
                          ],
                          [
                            0.4444444444444444,
                            "#bd3786"
                          ],
                          [
                            0.5555555555555556,
                            "#d8576b"
                          ],
                          [
                            0.6666666666666666,
                            "#ed7953"
                          ],
                          [
                            0.7777777777777778,
                            "#fb9f3a"
                          ],
                          [
                            0.8888888888888888,
                            "#fdca26"
                          ],
                          [
                            1,
                            "#f0f921"
                          ]
                        ],
                        "type": "contour"
                      }
                    ],
                    "contourcarpet": [
                      {
                        "colorbar": {
                          "outlinewidth": 0,
                          "ticks": ""
                        },
                        "type": "contourcarpet"
                      }
                    ],
                    "heatmap": [
                      {
                        "colorbar": {
                          "outlinewidth": 0,
                          "ticks": ""
                        },
                        "colorscale": [
                          [
                            0,
                            "#0d0887"
                          ],
                          [
                            0.1111111111111111,
                            "#46039f"
                          ],
                          [
                            0.2222222222222222,
                            "#7201a8"
                          ],
                          [
                            0.3333333333333333,
                            "#9c179e"
                          ],
                          [
                            0.4444444444444444,
                            "#bd3786"
                          ],
                          [
                            0.5555555555555556,
                            "#d8576b"
                          ],
                          [
                            0.6666666666666666,
                            "#ed7953"
                          ],
                          [
                            0.7777777777777778,
                            "#fb9f3a"
                          ],
                          [
                            0.8888888888888888,
                            "#fdca26"
                          ],
                          [
                            1,
                            "#f0f921"
                          ]
                        ],
                        "type": "heatmap"
                      }
                    ],
                    "heatmapgl": [
                      {
                        "colorbar": {
                          "outlinewidth": 0,
                          "ticks": ""
                        },
                        "colorscale": [
                          [
                            0,
                            "#0d0887"
                          ],
                          [
                            0.1111111111111111,
                            "#46039f"
                          ],
                          [
                            0.2222222222222222,
                            "#7201a8"
                          ],
                          [
                            0.3333333333333333,
                            "#9c179e"
                          ],
                          [
                            0.4444444444444444,
                            "#bd3786"
                          ],
                          [
                            0.5555555555555556,
                            "#d8576b"
                          ],
                          [
                            0.6666666666666666,
                            "#ed7953"
                          ],
                          [
                            0.7777777777777778,
                            "#fb9f3a"
                          ],
                          [
                            0.8888888888888888,
                            "#fdca26"
                          ],
                          [
                            1,
                            "#f0f921"
                          ]
                        ],
                        "type": "heatmapgl"
                      }
                    ],
                    "histogram": [
                      {
                        "marker": {
                          "pattern": {
                            "fillmode": "overlay",
                            "size": 10,
                            "solidity": 0.2
                          }
                        },
                        "type": "histogram"
                      }
                    ],
                    "histogram2d": [
                      {
                        "colorbar": {
                          "outlinewidth": 0,
                          "ticks": ""
                        },
                        "colorscale": [
                          [
                            0,
                            "#0d0887"
                          ],
                          [
                            0.1111111111111111,
                            "#46039f"
                          ],
                          [
                            0.2222222222222222,
                            "#7201a8"
                          ],
                          [
                            0.3333333333333333,
                            "#9c179e"
                          ],
                          [
                            0.4444444444444444,
                            "#bd3786"
                          ],
                          [
                            0.5555555555555556,
                            "#d8576b"
                          ],
                          [
                            0.6666666666666666,
                            "#ed7953"
                          ],
                          [
                            0.7777777777777778,
                            "#fb9f3a"
                          ],
                          [
                            0.8888888888888888,
                            "#fdca26"
                          ],
                          [
                            1,
                            "#f0f921"
                          ]
                        ],
                        "type": "histogram2d"
                      }
                    ],
                    "histogram2dcontour": [
                      {
                        "colorbar": {
                          "outlinewidth": 0,
                          "ticks": ""
                        },
                        "colorscale": [
                          [
                            0,
                            "#0d0887"
                          ],
                          [
                            0.1111111111111111,
                            "#46039f"
                          ],
                          [
                            0.2222222222222222,
                            "#7201a8"
                          ],
                          [
                            0.3333333333333333,
                            "#9c179e"
                          ],
                          [
                            0.4444444444444444,
                            "#bd3786"
                          ],
                          [
                            0.5555555555555556,
                            "#d8576b"
                          ],
                          [
                            0.6666666666666666,
                            "#ed7953"
                          ],
                          [
                            0.7777777777777778,
                            "#fb9f3a"
                          ],
                          [
                            0.8888888888888888,
                            "#fdca26"
                          ],
                          [
                            1,
                            "#f0f921"
                          ]
                        ],
                        "type": "histogram2dcontour"
                      }
                    ],
                    "mesh3d": [
                      {
                        "colorbar": {
                          "outlinewidth": 0,
                          "ticks": ""
                        },
                        "type": "mesh3d"
                      }
                    ],
                    "parcoords": [
                      {
                        "line": {
                          "colorbar": {
                            "outlinewidth": 0,
                            "ticks": ""
                          }
                        },
                        "type": "parcoords"
                      }
                    ],
                    "pie": [
                      {
                        "automargin": true,
                        "type": "pie"
                      }
                    ],
                    "scatter": [
                      {
                        "fillpattern": {
                          "fillmode": "overlay",
                          "size": 10,
                          "solidity": 0.2
                        },
                        "type": "scatter"
                      }
                    ],
                    "scatter3d": [
                      {
                        "line": {
                          "colorbar": {
                            "outlinewidth": 0,
                            "ticks": ""
                          }
                        },
                        "marker": {
                          "colorbar": {
                            "outlinewidth": 0,
                            "ticks": ""
                          }
                        },
                        "type": "scatter3d"
                      }
                    ],
                    "scattercarpet": [
                      {
                        "marker": {
                          "colorbar": {
                            "outlinewidth": 0,
                            "ticks": ""
                          }
                        },
                        "type": "scattercarpet"
                      }
                    ],
                    "scattergeo": [
                      {
                        "marker": {
                          "colorbar": {
                            "outlinewidth": 0,
                            "ticks": ""
                          }
                        },
                        "type": "scattergeo"
                      }
                    ],
                    "scattergl": [
                      {
                        "marker": {
                          "colorbar": {
                            "outlinewidth": 0,
                            "ticks": ""
                          }
                        },
                        "type": "scattergl"
                      }
                    ],
                    "scattermapbox": [
                      {
                        "marker": {
                          "colorbar": {
                            "outlinewidth": 0,
                            "ticks": ""
                          }
                        },
                        "type": "scattermapbox"
                      }
                    ],
                    "scatterpolar": [
                      {
                        "marker": {
                          "colorbar": {
                            "outlinewidth": 0,
                            "ticks": ""
                          }
                        },
                        "type": "scatterpolar"
                      }
                    ],
                    "scatterpolargl": [
                      {
                        "marker": {
                          "colorbar": {
                            "outlinewidth": 0,
                            "ticks": ""
                          }
                        },
                        "type": "scatterpolargl"
                      }
                    ],
                    "scatterternary": [
                      {
                        "marker": {
                          "colorbar": {
                            "outlinewidth": 0,
                            "ticks": ""
                          }
                        },
                        "type": "scatterternary"
                      }
                    ],
                    "surface": [
                      {
                        "colorbar": {
                          "outlinewidth": 0,
                          "ticks": ""
                        },
                        "colorscale": [
                          [
                            0,
                            "#0d0887"
                          ],
                          [
                            0.1111111111111111,
                            "#46039f"
                          ],
                          [
                            0.2222222222222222,
                            "#7201a8"
                          ],
                          [
                            0.3333333333333333,
                            "#9c179e"
                          ],
                          [
                            0.4444444444444444,
                            "#bd3786"
                          ],
                          [
                            0.5555555555555556,
                            "#d8576b"
                          ],
                          [
                            0.6666666666666666,
                            "#ed7953"
                          ],
                          [
                            0.7777777777777778,
                            "#fb9f3a"
                          ],
                          [
                            0.8888888888888888,
                            "#fdca26"
                          ],
                          [
                            1,
                            "#f0f921"
                          ]
                        ],
                        "type": "surface"
                      }
                    ],
                    "table": [
                      {
                        "cells": {
                          "fill": {
                            "color": "#EBF0F8"
                          },
                          "line": {
                            "color": "white"
                          }
                        },
                        "header": {
                          "fill": {
                            "color": "#C8D4E3"
                          },
                          "line": {
                            "color": "white"
                          }
                        },
                        "type": "table"
                      }
                    ]
                  },
                  "layout": {
                    "annotationdefaults": {
                      "arrowcolor": "#2a3f5f",
                      "arrowhead": 0,
                      "arrowwidth": 1
                    },
                    "autotypenumbers": "strict",
                    "coloraxis": {
                      "colorbar": {
                        "outlinewidth": 0,
                        "ticks": ""
                      }
                    },
                    "colorscale": {
                      "diverging": [
                        [
                          0,
                          "#8e0152"
                        ],
                        [
                          0.1,
                          "#c51b7d"
                        ],
                        [
                          0.2,
                          "#de77ae"
                        ],
                        [
                          0.3,
                          "#f1b6da"
                        ],
                        [
                          0.4,
                          "#fde0ef"
                        ],
                        [
                          0.5,
                          "#f7f7f7"
                        ],
                        [
                          0.6,
                          "#e6f5d0"
                        ],
                        [
                          0.7,
                          "#b8e186"
                        ],
                        [
                          0.8,
                          "#7fbc41"
                        ],
                        [
                          0.9,
                          "#4d9221"
                        ],
                        [
                          1,
                          "#276419"
                        ]
                      ],
                      "sequential": [
                        [
                          0,
                          "#0d0887"
                        ],
                        [
                          0.1111111111111111,
                          "#46039f"
                        ],
                        [
                          0.2222222222222222,
                          "#7201a8"
                        ],
                        [
                          0.3333333333333333,
                          "#9c179e"
                        ],
                        [
                          0.4444444444444444,
                          "#bd3786"
                        ],
                        [
                          0.5555555555555556,
                          "#d8576b"
                        ],
                        [
                          0.6666666666666666,
                          "#ed7953"
                        ],
                        [
                          0.7777777777777778,
                          "#fb9f3a"
                        ],
                        [
                          0.8888888888888888,
                          "#fdca26"
                        ],
                        [
                          1,
                          "#f0f921"
                        ]
                      ],
                      "sequentialminus": [
                        [
                          0,
                          "#0d0887"
                        ],
                        [
                          0.1111111111111111,
                          "#46039f"
                        ],
                        [
                          0.2222222222222222,
                          "#7201a8"
                        ],
                        [
                          0.3333333333333333,
                          "#9c179e"
                        ],
                        [
                          0.4444444444444444,
                          "#bd3786"
                        ],
                        [
                          0.5555555555555556,
                          "#d8576b"
                        ],
                        [
                          0.6666666666666666,
                          "#ed7953"
                        ],
                        [
                          0.7777777777777778,
                          "#fb9f3a"
                        ],
                        [
                          0.8888888888888888,
                          "#fdca26"
                        ],
                        [
                          1,
                          "#f0f921"
                        ]
                      ]
                    },
                    "colorway": [
                      "#636efa",
                      "#EF553B",
                      "#00cc96",
                      "#ab63fa",
                      "#FFA15A",
                      "#19d3f3",
                      "#FF6692",
                      "#B6E880",
                      "#FF97FF",
                      "#FECB52"
                    ],
                    "font": {
                      "color": "#2a3f5f"
                    },
                    "geo": {
                      "bgcolor": "white",
                      "lakecolor": "white",
                      "landcolor": "#E5ECF6",
                      "showlakes": true,
                      "showland": true,
                      "subunitcolor": "white"
                    },
                    "hoverlabel": {
                      "align": "left"
                    },
                    "hovermode": "closest",
                    "mapbox": {
                      "style": "light"
                    },
                    "paper_bgcolor": "white",
                    "plot_bgcolor": "#E5ECF6",
                    "polar": {
                      "angularaxis": {
                        "gridcolor": "white",
                        "linecolor": "white",
                        "ticks": ""
                      },
                      "bgcolor": "#E5ECF6",
                      "radialaxis": {
                        "gridcolor": "white",
                        "linecolor": "white",
                        "ticks": ""
                      }
                    },
                    "scene": {
                      "xaxis": {
                        "backgroundcolor": "#E5ECF6",
                        "gridcolor": "white",
                        "gridwidth": 2,
                        "linecolor": "white",
                        "showbackground": true,
                        "ticks": "",
                        "zerolinecolor": "white"
                      },
                      "yaxis": {
                        "backgroundcolor": "#E5ECF6",
                        "gridcolor": "white",
                        "gridwidth": 2,
                        "linecolor": "white",
                        "showbackground": true,
                        "ticks": "",
                        "zerolinecolor": "white"
                      },
                      "zaxis": {
                        "backgroundcolor": "#E5ECF6",
                        "gridcolor": "white",
                        "gridwidth": 2,
                        "linecolor": "white",
                        "showbackground": true,
                        "ticks": "",
                        "zerolinecolor": "white"
                      }
                    },
                    "shapedefaults": {
                      "line": {
                        "color": "#2a3f5f"
                      }
                    },
                    "ternary": {
                      "aaxis": {
                        "gridcolor": "white",
                        "linecolor": "white",
                        "ticks": ""
                      },
                      "baxis": {
                        "gridcolor": "white",
                        "linecolor": "white",
                        "ticks": ""
                      },
                      "bgcolor": "#E5ECF6",
                      "caxis": {
                        "gridcolor": "white",
                        "linecolor": "white",
                        "ticks": ""
                      }
                    },
                    "title": {
                      "x": 0.05
                    },
                    "xaxis": {
                      "automargin": true,
                      "gridcolor": "white",
                      "linecolor": "white",
                      "ticks": "",
                      "title": {
                        "standoff": 15
                      },
                      "zerolinecolor": "white",
                      "zerolinewidth": 2
                    },
                    "yaxis": {
                      "automargin": true,
                      "gridcolor": "white",
                      "linecolor": "white",
                      "ticks": "",
                      "title": {
                        "standoff": 15
                      },
                      "zerolinecolor": "white",
                      "zerolinewidth": 2
                    }
                  }
                },
                "xaxis": {
                  "anchor": "y",
                  "domain": [
                    0,
                    1
                  ],
                  "title": {
                    "text": "token"
                  }
                },
                "yaxis": {
                  "anchor": "x",
                  "domain": [
                    0,
                    1
                  ],
                  "title": {
                    "text": "prob"
                  }
                }
              }
            },
            "text/html": [
              "<div>                            <div id=\"a1198960-a6fd-4f53-92a8-0750280d4074\" class=\"plotly-graph-div\" style=\"height:300px; width:100%;\"></div>            <script type=\"text/javascript\">                require([\"plotly\"], function(Plotly) {                    window.PLOTLYENV=window.PLOTLYENV || {};                                    if (document.getElementById(\"a1198960-a6fd-4f53-92a8-0750280d4074\")) {                    Plotly.newPlot(                        \"a1198960-a6fd-4f53-92a8-0750280d4074\",                        [{\"alignmentgroup\":\"True\",\"hovertemplate\":\"dataset=imdb<br>token=%{x}<br>prob=%{y}<extra></extra>\",\"legendgroup\":\"imdb\",\"marker\":{\"color\":\"#636efa\",\"pattern\":{\"shape\":\"\"}},\"name\":\"imdb\",\"offsetgroup\":\"imdb\",\"orientation\":\"v\",\"showlegend\":true,\"textposition\":\"auto\",\"x\":[\"[CLS]\",\"[SEP]\",\"-\",\"s\",\"and\",\"of\",\".\",\"a\",\"its\",\",\",\"'\",\"##ly\",\"an\",\"##s\",\"comedy\",\"as\",\"]\",\"[\",\"performances\",\"will\",\"*\",\"*\",\"in\",\"they\",\"bad\",\"have\",\"?\",\"t\",\"!\",\"to\",\")\",\"(\",\"movie\",\"\\\"\",\"the\",\"was\",\"this\",\">\",\"br\",\"<\",\"/\",\"i\"],\"xaxis\":\"x\",\"y\":[0.008072686468966575,0.008072686468966575,0.008153413333656242,0.007212945360021635,0.019095939842340433,0.017929436647574765,0.04282963806110216,0.021654981453002837,0.0010211948383242718,0.03256118087257668,0.01671046099076081,0.001053485584200138,0.0028294766073727845,0.0032088928714142134,0.0004157433531517786,0.0049929565810558265,8.072686468966576e-06,8.072686468966576e-06,0.0001331993267379485,0.0007184690957380252,0.0,0.0,0.011628704858546352,0.002712422653572769,0.002328970046296857,0.004048452264186738,0.002712422653572769,0.004851684567848911,0.0029142398152969336,0.016960714271298773,0.003967725399497072,0.004117070099172953,0.008314867063035572,0.009025263472304632,0.04188917008746756,0.008262394600987289,0.012884007604470653,0.011338088145663556,0.011564123366794618,0.011628704858546352,0.012145356792560211,0.015140323472546811],\"yaxis\":\"y\",\"type\":\"bar\"},{\"alignmentgroup\":\"True\",\"hovertemplate\":\"dataset=rotten<br>token=%{x}<br>prob=%{y}<extra></extra>\",\"legendgroup\":\"rotten\",\"marker\":{\"color\":\"#EF553B\",\"pattern\":{\"shape\":\"\"}},\"name\":\"rotten\",\"offsetgroup\":\"rotten\",\"orientation\":\"v\",\"showlegend\":true,\"textposition\":\"auto\",\"x\":[\"[CLS]\",\"[SEP]\",\"-\",\"s\",\"and\",\"of\",\".\",\"a\",\"its\",\",\",\"'\",\"##ly\",\"an\",\"##s\",\"comedy\",\"as\",\"]\",\"[\",\"performances\",\"will\",\"*\",\"*\",\"in\",\"they\",\"bad\",\"have\",\"?\",\"t\",\"!\",\"to\",\")\",\"(\",\"movie\",\"\\\"\",\"the\",\"was\",\"this\",\">\",\"br\",\"<\",\"/\",\"i\"],\"xaxis\":\"x\",\"y\":[0.03682224063334254,0.03682224063334254,0.018539998158887967,0.013145539906103286,0.024965479149406243,0.02321642271932247,0.04779526834207862,0.026383135413789928,0.005007824726134585,0.035607106692442235,0.019755132099788273,0.0038111019055509527,0.005265580410567983,0.004676424560434503,0.0016201785878670718,0.006186136426401547,0.0010678449783669336,0.0010678449783669336,0.0011414894596336188,0.001712234189450428,0.0,0.0,0.009794716008469114,0.0008100892939335359,0.00020252232348338397,0.0018227009113504556,0.00046027800791678176,0.0024302678818006076,0.0003866335266500967,0.014010862560986836,0.0006259780907668231,0.0006259780907668231,0.004050446469667679,0.0026880235662340053,0.03485225075945871,0.0005707447298168094,0.004860535763601215,0.0,0.0001288778422166989,0.0,0.0003498112860167541,0.001491300745650373],\"yaxis\":\"y\",\"type\":\"bar\"}],                        {\"template\":{\"data\":{\"histogram2dcontour\":[{\"type\":\"histogram2dcontour\",\"colorbar\":{\"outlinewidth\":0,\"ticks\":\"\"},\"colorscale\":[[0.0,\"#0d0887\"],[0.1111111111111111,\"#46039f\"],[0.2222222222222222,\"#7201a8\"],[0.3333333333333333,\"#9c179e\"],[0.4444444444444444,\"#bd3786\"],[0.5555555555555556,\"#d8576b\"],[0.6666666666666666,\"#ed7953\"],[0.7777777777777778,\"#fb9f3a\"],[0.8888888888888888,\"#fdca26\"],[1.0,\"#f0f921\"]]}],\"choropleth\":[{\"type\":\"choropleth\",\"colorbar\":{\"outlinewidth\":0,\"ticks\":\"\"}}],\"histogram2d\":[{\"type\":\"histogram2d\",\"colorbar\":{\"outlinewidth\":0,\"ticks\":\"\"},\"colorscale\":[[0.0,\"#0d0887\"],[0.1111111111111111,\"#46039f\"],[0.2222222222222222,\"#7201a8\"],[0.3333333333333333,\"#9c179e\"],[0.4444444444444444,\"#bd3786\"],[0.5555555555555556,\"#d8576b\"],[0.6666666666666666,\"#ed7953\"],[0.7777777777777778,\"#fb9f3a\"],[0.8888888888888888,\"#fdca26\"],[1.0,\"#f0f921\"]]}],\"heatmap\":[{\"type\":\"heatmap\",\"colorbar\":{\"outlinewidth\":0,\"ticks\":\"\"},\"colorscale\":[[0.0,\"#0d0887\"],[0.1111111111111111,\"#46039f\"],[0.2222222222222222,\"#7201a8\"],[0.3333333333333333,\"#9c179e\"],[0.4444444444444444,\"#bd3786\"],[0.5555555555555556,\"#d8576b\"],[0.6666666666666666,\"#ed7953\"],[0.7777777777777778,\"#fb9f3a\"],[0.8888888888888888,\"#fdca26\"],[1.0,\"#f0f921\"]]}],\"heatmapgl\":[{\"type\":\"heatmapgl\",\"colorbar\":{\"outlinewidth\":0,\"ticks\":\"\"},\"colorscale\":[[0.0,\"#0d0887\"],[0.1111111111111111,\"#46039f\"],[0.2222222222222222,\"#7201a8\"],[0.3333333333333333,\"#9c179e\"],[0.4444444444444444,\"#bd3786\"],[0.5555555555555556,\"#d8576b\"],[0.6666666666666666,\"#ed7953\"],[0.7777777777777778,\"#fb9f3a\"],[0.8888888888888888,\"#fdca26\"],[1.0,\"#f0f921\"]]}],\"contourcarpet\":[{\"type\":\"contourcarpet\",\"colorbar\":{\"outlinewidth\":0,\"ticks\":\"\"}}],\"contour\":[{\"type\":\"contour\",\"colorbar\":{\"outlinewidth\":0,\"ticks\":\"\"},\"colorscale\":[[0.0,\"#0d0887\"],[0.1111111111111111,\"#46039f\"],[0.2222222222222222,\"#7201a8\"],[0.3333333333333333,\"#9c179e\"],[0.4444444444444444,\"#bd3786\"],[0.5555555555555556,\"#d8576b\"],[0.6666666666666666,\"#ed7953\"],[0.7777777777777778,\"#fb9f3a\"],[0.8888888888888888,\"#fdca26\"],[1.0,\"#f0f921\"]]}],\"surface\":[{\"type\":\"surface\",\"colorbar\":{\"outlinewidth\":0,\"ticks\":\"\"},\"colorscale\":[[0.0,\"#0d0887\"],[0.1111111111111111,\"#46039f\"],[0.2222222222222222,\"#7201a8\"],[0.3333333333333333,\"#9c179e\"],[0.4444444444444444,\"#bd3786\"],[0.5555555555555556,\"#d8576b\"],[0.6666666666666666,\"#ed7953\"],[0.7777777777777778,\"#fb9f3a\"],[0.8888888888888888,\"#fdca26\"],[1.0,\"#f0f921\"]]}],\"mesh3d\":[{\"type\":\"mesh3d\",\"colorbar\":{\"outlinewidth\":0,\"ticks\":\"\"}}],\"scatter\":[{\"fillpattern\":{\"fillmode\":\"overlay\",\"size\":10,\"solidity\":0.2},\"type\":\"scatter\"}],\"parcoords\":[{\"type\":\"parcoords\",\"line\":{\"colorbar\":{\"outlinewidth\":0,\"ticks\":\"\"}}}],\"scatterpolargl\":[{\"type\":\"scatterpolargl\",\"marker\":{\"colorbar\":{\"outlinewidth\":0,\"ticks\":\"\"}}}],\"bar\":[{\"error_x\":{\"color\":\"#2a3f5f\"},\"error_y\":{\"color\":\"#2a3f5f\"},\"marker\":{\"line\":{\"color\":\"#E5ECF6\",\"width\":0.5},\"pattern\":{\"fillmode\":\"overlay\",\"size\":10,\"solidity\":0.2}},\"type\":\"bar\"}],\"scattergeo\":[{\"type\":\"scattergeo\",\"marker\":{\"colorbar\":{\"outlinewidth\":0,\"ticks\":\"\"}}}],\"scatterpolar\":[{\"type\":\"scatterpolar\",\"marker\":{\"colorbar\":{\"outlinewidth\":0,\"ticks\":\"\"}}}],\"histogram\":[{\"marker\":{\"pattern\":{\"fillmode\":\"overlay\",\"size\":10,\"solidity\":0.2}},\"type\":\"histogram\"}],\"scattergl\":[{\"type\":\"scattergl\",\"marker\":{\"colorbar\":{\"outlinewidth\":0,\"ticks\":\"\"}}}],\"scatter3d\":[{\"type\":\"scatter3d\",\"line\":{\"colorbar\":{\"outlinewidth\":0,\"ticks\":\"\"}},\"marker\":{\"colorbar\":{\"outlinewidth\":0,\"ticks\":\"\"}}}],\"scattermapbox\":[{\"type\":\"scattermapbox\",\"marker\":{\"colorbar\":{\"outlinewidth\":0,\"ticks\":\"\"}}}],\"scatterternary\":[{\"type\":\"scatterternary\",\"marker\":{\"colorbar\":{\"outlinewidth\":0,\"ticks\":\"\"}}}],\"scattercarpet\":[{\"type\":\"scattercarpet\",\"marker\":{\"colorbar\":{\"outlinewidth\":0,\"ticks\":\"\"}}}],\"carpet\":[{\"aaxis\":{\"endlinecolor\":\"#2a3f5f\",\"gridcolor\":\"white\",\"linecolor\":\"white\",\"minorgridcolor\":\"white\",\"startlinecolor\":\"#2a3f5f\"},\"baxis\":{\"endlinecolor\":\"#2a3f5f\",\"gridcolor\":\"white\",\"linecolor\":\"white\",\"minorgridcolor\":\"white\",\"startlinecolor\":\"#2a3f5f\"},\"type\":\"carpet\"}],\"table\":[{\"cells\":{\"fill\":{\"color\":\"#EBF0F8\"},\"line\":{\"color\":\"white\"}},\"header\":{\"fill\":{\"color\":\"#C8D4E3\"},\"line\":{\"color\":\"white\"}},\"type\":\"table\"}],\"barpolar\":[{\"marker\":{\"line\":{\"color\":\"#E5ECF6\",\"width\":0.5},\"pattern\":{\"fillmode\":\"overlay\",\"size\":10,\"solidity\":0.2}},\"type\":\"barpolar\"}],\"pie\":[{\"automargin\":true,\"type\":\"pie\"}]},\"layout\":{\"autotypenumbers\":\"strict\",\"colorway\":[\"#636efa\",\"#EF553B\",\"#00cc96\",\"#ab63fa\",\"#FFA15A\",\"#19d3f3\",\"#FF6692\",\"#B6E880\",\"#FF97FF\",\"#FECB52\"],\"font\":{\"color\":\"#2a3f5f\"},\"hovermode\":\"closest\",\"hoverlabel\":{\"align\":\"left\"},\"paper_bgcolor\":\"white\",\"plot_bgcolor\":\"#E5ECF6\",\"polar\":{\"bgcolor\":\"#E5ECF6\",\"angularaxis\":{\"gridcolor\":\"white\",\"linecolor\":\"white\",\"ticks\":\"\"},\"radialaxis\":{\"gridcolor\":\"white\",\"linecolor\":\"white\",\"ticks\":\"\"}},\"ternary\":{\"bgcolor\":\"#E5ECF6\",\"aaxis\":{\"gridcolor\":\"white\",\"linecolor\":\"white\",\"ticks\":\"\"},\"baxis\":{\"gridcolor\":\"white\",\"linecolor\":\"white\",\"ticks\":\"\"},\"caxis\":{\"gridcolor\":\"white\",\"linecolor\":\"white\",\"ticks\":\"\"}},\"coloraxis\":{\"colorbar\":{\"outlinewidth\":0,\"ticks\":\"\"}},\"colorscale\":{\"sequential\":[[0.0,\"#0d0887\"],[0.1111111111111111,\"#46039f\"],[0.2222222222222222,\"#7201a8\"],[0.3333333333333333,\"#9c179e\"],[0.4444444444444444,\"#bd3786\"],[0.5555555555555556,\"#d8576b\"],[0.6666666666666666,\"#ed7953\"],[0.7777777777777778,\"#fb9f3a\"],[0.8888888888888888,\"#fdca26\"],[1.0,\"#f0f921\"]],\"sequentialminus\":[[0.0,\"#0d0887\"],[0.1111111111111111,\"#46039f\"],[0.2222222222222222,\"#7201a8\"],[0.3333333333333333,\"#9c179e\"],[0.4444444444444444,\"#bd3786\"],[0.5555555555555556,\"#d8576b\"],[0.6666666666666666,\"#ed7953\"],[0.7777777777777778,\"#fb9f3a\"],[0.8888888888888888,\"#fdca26\"],[1.0,\"#f0f921\"]],\"diverging\":[[0,\"#8e0152\"],[0.1,\"#c51b7d\"],[0.2,\"#de77ae\"],[0.3,\"#f1b6da\"],[0.4,\"#fde0ef\"],[0.5,\"#f7f7f7\"],[0.6,\"#e6f5d0\"],[0.7,\"#b8e186\"],[0.8,\"#7fbc41\"],[0.9,\"#4d9221\"],[1,\"#276419\"]]},\"xaxis\":{\"gridcolor\":\"white\",\"linecolor\":\"white\",\"ticks\":\"\",\"title\":{\"standoff\":15},\"zerolinecolor\":\"white\",\"automargin\":true,\"zerolinewidth\":2},\"yaxis\":{\"gridcolor\":\"white\",\"linecolor\":\"white\",\"ticks\":\"\",\"title\":{\"standoff\":15},\"zerolinecolor\":\"white\",\"automargin\":true,\"zerolinewidth\":2},\"scene\":{\"xaxis\":{\"backgroundcolor\":\"#E5ECF6\",\"gridcolor\":\"white\",\"linecolor\":\"white\",\"showbackground\":true,\"ticks\":\"\",\"zerolinecolor\":\"white\",\"gridwidth\":2},\"yaxis\":{\"backgroundcolor\":\"#E5ECF6\",\"gridcolor\":\"white\",\"linecolor\":\"white\",\"showbackground\":true,\"ticks\":\"\",\"zerolinecolor\":\"white\",\"gridwidth\":2},\"zaxis\":{\"backgroundcolor\":\"#E5ECF6\",\"gridcolor\":\"white\",\"linecolor\":\"white\",\"showbackground\":true,\"ticks\":\"\",\"zerolinecolor\":\"white\",\"gridwidth\":2}},\"shapedefaults\":{\"line\":{\"color\":\"#2a3f5f\"}},\"annotationdefaults\":{\"arrowcolor\":\"#2a3f5f\",\"arrowhead\":0,\"arrowwidth\":1},\"geo\":{\"bgcolor\":\"white\",\"landcolor\":\"#E5ECF6\",\"subunitcolor\":\"white\",\"showland\":true,\"showlakes\":true,\"lakecolor\":\"white\"},\"title\":{\"x\":0.05},\"mapbox\":{\"style\":\"light\"}}},\"xaxis\":{\"anchor\":\"y\",\"domain\":[0.0,1.0],\"title\":{\"text\":\"token\"}},\"yaxis\":{\"anchor\":\"x\",\"domain\":[0.0,1.0],\"title\":{\"text\":\"prob\"}},\"legend\":{\"title\":{\"text\":\"dataset\"},\"tracegroupgap\":0},\"margin\":{\"t\":10,\"l\":10,\"r\":10,\"b\":10},\"barmode\":\"group\",\"paper_bgcolor\":\"teal\",\"height\":300},                        {\"responsive\": true}                    ).then(function(){\n",
              "                            \n",
              "var gd = document.getElementById('a1198960-a6fd-4f53-92a8-0750280d4074');\n",
              "var x = new MutationObserver(function (mutations, observer) {{\n",
              "        var display = window.getComputedStyle(gd).display;\n",
              "        if (!display || display === 'none') {{\n",
              "            console.log([gd, 'removed!']);\n",
              "            Plotly.purge(gd);\n",
              "            observer.disconnect();\n",
              "        }}\n",
              "}});\n",
              "\n",
              "// Listen for the removal of the full notebook cells\n",
              "var notebookContainer = gd.closest('#notebook-container');\n",
              "if (notebookContainer) {{\n",
              "    x.observe(notebookContainer, {childList: true});\n",
              "}}\n",
              "\n",
              "// Listen for the clearing of the current output cell\n",
              "var outputEl = gd.closest('.output');\n",
              "if (outputEl) {{\n",
              "    x.observe(outputEl, {childList: true});\n",
              "}}\n",
              "\n",
              "                        })                };                });            </script>        </div>"
            ]
          },
          "metadata": {},
          "output_type": "display_data"
        },
        {
          "data": {
            "application/vnd.plotly.v1+json": {
              "config": {
                "plotlyServerURL": "https://plot.ly"
              },
              "data": [
                {
                  "alignmentgroup": "True",
                  "hovertemplate": "token=%{x}<br>prob=%{y}<extra></extra>",
                  "legendgroup": "",
                  "marker": {
                    "color": "#636efa",
                    "pattern": {
                      "shape": ""
                    }
                  },
                  "name": "",
                  "offsetgroup": "",
                  "orientation": "v",
                  "showlegend": false,
                  "textposition": "auto",
                  "type": "bar",
                  "x": [
                    "[CLS]",
                    "[SEP]",
                    "-",
                    "s",
                    "and",
                    "of",
                    ".",
                    "a",
                    "its",
                    ",",
                    "'",
                    "##ly",
                    "an",
                    "##s",
                    "comedy",
                    "as",
                    "]",
                    "[",
                    "performances",
                    "will",
                    "*",
                    "*",
                    "in",
                    "they",
                    "bad",
                    "have",
                    "?",
                    "t",
                    "!",
                    "to",
                    ")",
                    "(",
                    "movie",
                    "\"",
                    "the",
                    "was",
                    "this",
                    ">",
                    "br",
                    "<",
                    "/",
                    "i"
                  ],
                  "xaxis": "x",
                  "y": [
                    -0.02874955416437596,
                    -0.02874955416437596,
                    -0.010386584825231726,
                    -0.005932594546081651,
                    -0.00586953930706581,
                    -0.0052869860717477055,
                    -0.004965630280976456,
                    -0.004728153960787091,
                    -0.003986629887810313,
                    -0.0030459258198655553,
                    -0.003044671109027463,
                    -0.002757616321350815,
                    -0.0024361038031951985,
                    -0.0014675316890202894,
                    -0.0012044352347152932,
                    -0.0011931798453457204,
                    -0.001059772291897967,
                    -0.001059772291897967,
                    -0.0010082901328956704,
                    -0.0009937650937124028,
                    -0.1155738313062117,
                    0.11522743391270115,
                    0.0018339888500772377,
                    0.0019023333596392333,
                    0.002126447722813473,
                    0.002225751352836282,
                    0.002252144645655987,
                    0.0024214166860483037,
                    0.002527606288646837,
                    0.0029498517103119376,
                    0.0033417473087302488,
                    0.0034910920084061303,
                    0.004264420593367893,
                    0.006337239906070626,
                    0.007036919328008845,
                    0.0076916498711704796,
                    0.008023471840869437,
                    0.011338088145663556,
                    0.01143524552457792,
                    0.011628704858546352,
                    0.011795545506543458,
                    0.013649022726896439
                  ],
                  "yaxis": "y"
                }
              ],
              "layout": {
                "barmode": "relative",
                "height": 300,
                "legend": {
                  "tracegroupgap": 0
                },
                "margin": {
                  "b": 10,
                  "l": 10,
                  "r": 10,
                  "t": 10
                },
                "paper_bgcolor": "teal",
                "template": {
                  "data": {
                    "bar": [
                      {
                        "error_x": {
                          "color": "#2a3f5f"
                        },
                        "error_y": {
                          "color": "#2a3f5f"
                        },
                        "marker": {
                          "line": {
                            "color": "#E5ECF6",
                            "width": 0.5
                          },
                          "pattern": {
                            "fillmode": "overlay",
                            "size": 10,
                            "solidity": 0.2
                          }
                        },
                        "type": "bar"
                      }
                    ],
                    "barpolar": [
                      {
                        "marker": {
                          "line": {
                            "color": "#E5ECF6",
                            "width": 0.5
                          },
                          "pattern": {
                            "fillmode": "overlay",
                            "size": 10,
                            "solidity": 0.2
                          }
                        },
                        "type": "barpolar"
                      }
                    ],
                    "carpet": [
                      {
                        "aaxis": {
                          "endlinecolor": "#2a3f5f",
                          "gridcolor": "white",
                          "linecolor": "white",
                          "minorgridcolor": "white",
                          "startlinecolor": "#2a3f5f"
                        },
                        "baxis": {
                          "endlinecolor": "#2a3f5f",
                          "gridcolor": "white",
                          "linecolor": "white",
                          "minorgridcolor": "white",
                          "startlinecolor": "#2a3f5f"
                        },
                        "type": "carpet"
                      }
                    ],
                    "choropleth": [
                      {
                        "colorbar": {
                          "outlinewidth": 0,
                          "ticks": ""
                        },
                        "type": "choropleth"
                      }
                    ],
                    "contour": [
                      {
                        "colorbar": {
                          "outlinewidth": 0,
                          "ticks": ""
                        },
                        "colorscale": [
                          [
                            0,
                            "#0d0887"
                          ],
                          [
                            0.1111111111111111,
                            "#46039f"
                          ],
                          [
                            0.2222222222222222,
                            "#7201a8"
                          ],
                          [
                            0.3333333333333333,
                            "#9c179e"
                          ],
                          [
                            0.4444444444444444,
                            "#bd3786"
                          ],
                          [
                            0.5555555555555556,
                            "#d8576b"
                          ],
                          [
                            0.6666666666666666,
                            "#ed7953"
                          ],
                          [
                            0.7777777777777778,
                            "#fb9f3a"
                          ],
                          [
                            0.8888888888888888,
                            "#fdca26"
                          ],
                          [
                            1,
                            "#f0f921"
                          ]
                        ],
                        "type": "contour"
                      }
                    ],
                    "contourcarpet": [
                      {
                        "colorbar": {
                          "outlinewidth": 0,
                          "ticks": ""
                        },
                        "type": "contourcarpet"
                      }
                    ],
                    "heatmap": [
                      {
                        "colorbar": {
                          "outlinewidth": 0,
                          "ticks": ""
                        },
                        "colorscale": [
                          [
                            0,
                            "#0d0887"
                          ],
                          [
                            0.1111111111111111,
                            "#46039f"
                          ],
                          [
                            0.2222222222222222,
                            "#7201a8"
                          ],
                          [
                            0.3333333333333333,
                            "#9c179e"
                          ],
                          [
                            0.4444444444444444,
                            "#bd3786"
                          ],
                          [
                            0.5555555555555556,
                            "#d8576b"
                          ],
                          [
                            0.6666666666666666,
                            "#ed7953"
                          ],
                          [
                            0.7777777777777778,
                            "#fb9f3a"
                          ],
                          [
                            0.8888888888888888,
                            "#fdca26"
                          ],
                          [
                            1,
                            "#f0f921"
                          ]
                        ],
                        "type": "heatmap"
                      }
                    ],
                    "heatmapgl": [
                      {
                        "colorbar": {
                          "outlinewidth": 0,
                          "ticks": ""
                        },
                        "colorscale": [
                          [
                            0,
                            "#0d0887"
                          ],
                          [
                            0.1111111111111111,
                            "#46039f"
                          ],
                          [
                            0.2222222222222222,
                            "#7201a8"
                          ],
                          [
                            0.3333333333333333,
                            "#9c179e"
                          ],
                          [
                            0.4444444444444444,
                            "#bd3786"
                          ],
                          [
                            0.5555555555555556,
                            "#d8576b"
                          ],
                          [
                            0.6666666666666666,
                            "#ed7953"
                          ],
                          [
                            0.7777777777777778,
                            "#fb9f3a"
                          ],
                          [
                            0.8888888888888888,
                            "#fdca26"
                          ],
                          [
                            1,
                            "#f0f921"
                          ]
                        ],
                        "type": "heatmapgl"
                      }
                    ],
                    "histogram": [
                      {
                        "marker": {
                          "pattern": {
                            "fillmode": "overlay",
                            "size": 10,
                            "solidity": 0.2
                          }
                        },
                        "type": "histogram"
                      }
                    ],
                    "histogram2d": [
                      {
                        "colorbar": {
                          "outlinewidth": 0,
                          "ticks": ""
                        },
                        "colorscale": [
                          [
                            0,
                            "#0d0887"
                          ],
                          [
                            0.1111111111111111,
                            "#46039f"
                          ],
                          [
                            0.2222222222222222,
                            "#7201a8"
                          ],
                          [
                            0.3333333333333333,
                            "#9c179e"
                          ],
                          [
                            0.4444444444444444,
                            "#bd3786"
                          ],
                          [
                            0.5555555555555556,
                            "#d8576b"
                          ],
                          [
                            0.6666666666666666,
                            "#ed7953"
                          ],
                          [
                            0.7777777777777778,
                            "#fb9f3a"
                          ],
                          [
                            0.8888888888888888,
                            "#fdca26"
                          ],
                          [
                            1,
                            "#f0f921"
                          ]
                        ],
                        "type": "histogram2d"
                      }
                    ],
                    "histogram2dcontour": [
                      {
                        "colorbar": {
                          "outlinewidth": 0,
                          "ticks": ""
                        },
                        "colorscale": [
                          [
                            0,
                            "#0d0887"
                          ],
                          [
                            0.1111111111111111,
                            "#46039f"
                          ],
                          [
                            0.2222222222222222,
                            "#7201a8"
                          ],
                          [
                            0.3333333333333333,
                            "#9c179e"
                          ],
                          [
                            0.4444444444444444,
                            "#bd3786"
                          ],
                          [
                            0.5555555555555556,
                            "#d8576b"
                          ],
                          [
                            0.6666666666666666,
                            "#ed7953"
                          ],
                          [
                            0.7777777777777778,
                            "#fb9f3a"
                          ],
                          [
                            0.8888888888888888,
                            "#fdca26"
                          ],
                          [
                            1,
                            "#f0f921"
                          ]
                        ],
                        "type": "histogram2dcontour"
                      }
                    ],
                    "mesh3d": [
                      {
                        "colorbar": {
                          "outlinewidth": 0,
                          "ticks": ""
                        },
                        "type": "mesh3d"
                      }
                    ],
                    "parcoords": [
                      {
                        "line": {
                          "colorbar": {
                            "outlinewidth": 0,
                            "ticks": ""
                          }
                        },
                        "type": "parcoords"
                      }
                    ],
                    "pie": [
                      {
                        "automargin": true,
                        "type": "pie"
                      }
                    ],
                    "scatter": [
                      {
                        "fillpattern": {
                          "fillmode": "overlay",
                          "size": 10,
                          "solidity": 0.2
                        },
                        "type": "scatter"
                      }
                    ],
                    "scatter3d": [
                      {
                        "line": {
                          "colorbar": {
                            "outlinewidth": 0,
                            "ticks": ""
                          }
                        },
                        "marker": {
                          "colorbar": {
                            "outlinewidth": 0,
                            "ticks": ""
                          }
                        },
                        "type": "scatter3d"
                      }
                    ],
                    "scattercarpet": [
                      {
                        "marker": {
                          "colorbar": {
                            "outlinewidth": 0,
                            "ticks": ""
                          }
                        },
                        "type": "scattercarpet"
                      }
                    ],
                    "scattergeo": [
                      {
                        "marker": {
                          "colorbar": {
                            "outlinewidth": 0,
                            "ticks": ""
                          }
                        },
                        "type": "scattergeo"
                      }
                    ],
                    "scattergl": [
                      {
                        "marker": {
                          "colorbar": {
                            "outlinewidth": 0,
                            "ticks": ""
                          }
                        },
                        "type": "scattergl"
                      }
                    ],
                    "scattermapbox": [
                      {
                        "marker": {
                          "colorbar": {
                            "outlinewidth": 0,
                            "ticks": ""
                          }
                        },
                        "type": "scattermapbox"
                      }
                    ],
                    "scatterpolar": [
                      {
                        "marker": {
                          "colorbar": {
                            "outlinewidth": 0,
                            "ticks": ""
                          }
                        },
                        "type": "scatterpolar"
                      }
                    ],
                    "scatterpolargl": [
                      {
                        "marker": {
                          "colorbar": {
                            "outlinewidth": 0,
                            "ticks": ""
                          }
                        },
                        "type": "scatterpolargl"
                      }
                    ],
                    "scatterternary": [
                      {
                        "marker": {
                          "colorbar": {
                            "outlinewidth": 0,
                            "ticks": ""
                          }
                        },
                        "type": "scatterternary"
                      }
                    ],
                    "surface": [
                      {
                        "colorbar": {
                          "outlinewidth": 0,
                          "ticks": ""
                        },
                        "colorscale": [
                          [
                            0,
                            "#0d0887"
                          ],
                          [
                            0.1111111111111111,
                            "#46039f"
                          ],
                          [
                            0.2222222222222222,
                            "#7201a8"
                          ],
                          [
                            0.3333333333333333,
                            "#9c179e"
                          ],
                          [
                            0.4444444444444444,
                            "#bd3786"
                          ],
                          [
                            0.5555555555555556,
                            "#d8576b"
                          ],
                          [
                            0.6666666666666666,
                            "#ed7953"
                          ],
                          [
                            0.7777777777777778,
                            "#fb9f3a"
                          ],
                          [
                            0.8888888888888888,
                            "#fdca26"
                          ],
                          [
                            1,
                            "#f0f921"
                          ]
                        ],
                        "type": "surface"
                      }
                    ],
                    "table": [
                      {
                        "cells": {
                          "fill": {
                            "color": "#EBF0F8"
                          },
                          "line": {
                            "color": "white"
                          }
                        },
                        "header": {
                          "fill": {
                            "color": "#C8D4E3"
                          },
                          "line": {
                            "color": "white"
                          }
                        },
                        "type": "table"
                      }
                    ]
                  },
                  "layout": {
                    "annotationdefaults": {
                      "arrowcolor": "#2a3f5f",
                      "arrowhead": 0,
                      "arrowwidth": 1
                    },
                    "autotypenumbers": "strict",
                    "coloraxis": {
                      "colorbar": {
                        "outlinewidth": 0,
                        "ticks": ""
                      }
                    },
                    "colorscale": {
                      "diverging": [
                        [
                          0,
                          "#8e0152"
                        ],
                        [
                          0.1,
                          "#c51b7d"
                        ],
                        [
                          0.2,
                          "#de77ae"
                        ],
                        [
                          0.3,
                          "#f1b6da"
                        ],
                        [
                          0.4,
                          "#fde0ef"
                        ],
                        [
                          0.5,
                          "#f7f7f7"
                        ],
                        [
                          0.6,
                          "#e6f5d0"
                        ],
                        [
                          0.7,
                          "#b8e186"
                        ],
                        [
                          0.8,
                          "#7fbc41"
                        ],
                        [
                          0.9,
                          "#4d9221"
                        ],
                        [
                          1,
                          "#276419"
                        ]
                      ],
                      "sequential": [
                        [
                          0,
                          "#0d0887"
                        ],
                        [
                          0.1111111111111111,
                          "#46039f"
                        ],
                        [
                          0.2222222222222222,
                          "#7201a8"
                        ],
                        [
                          0.3333333333333333,
                          "#9c179e"
                        ],
                        [
                          0.4444444444444444,
                          "#bd3786"
                        ],
                        [
                          0.5555555555555556,
                          "#d8576b"
                        ],
                        [
                          0.6666666666666666,
                          "#ed7953"
                        ],
                        [
                          0.7777777777777778,
                          "#fb9f3a"
                        ],
                        [
                          0.8888888888888888,
                          "#fdca26"
                        ],
                        [
                          1,
                          "#f0f921"
                        ]
                      ],
                      "sequentialminus": [
                        [
                          0,
                          "#0d0887"
                        ],
                        [
                          0.1111111111111111,
                          "#46039f"
                        ],
                        [
                          0.2222222222222222,
                          "#7201a8"
                        ],
                        [
                          0.3333333333333333,
                          "#9c179e"
                        ],
                        [
                          0.4444444444444444,
                          "#bd3786"
                        ],
                        [
                          0.5555555555555556,
                          "#d8576b"
                        ],
                        [
                          0.6666666666666666,
                          "#ed7953"
                        ],
                        [
                          0.7777777777777778,
                          "#fb9f3a"
                        ],
                        [
                          0.8888888888888888,
                          "#fdca26"
                        ],
                        [
                          1,
                          "#f0f921"
                        ]
                      ]
                    },
                    "colorway": [
                      "#636efa",
                      "#EF553B",
                      "#00cc96",
                      "#ab63fa",
                      "#FFA15A",
                      "#19d3f3",
                      "#FF6692",
                      "#B6E880",
                      "#FF97FF",
                      "#FECB52"
                    ],
                    "font": {
                      "color": "#2a3f5f"
                    },
                    "geo": {
                      "bgcolor": "white",
                      "lakecolor": "white",
                      "landcolor": "#E5ECF6",
                      "showlakes": true,
                      "showland": true,
                      "subunitcolor": "white"
                    },
                    "hoverlabel": {
                      "align": "left"
                    },
                    "hovermode": "closest",
                    "mapbox": {
                      "style": "light"
                    },
                    "paper_bgcolor": "white",
                    "plot_bgcolor": "#E5ECF6",
                    "polar": {
                      "angularaxis": {
                        "gridcolor": "white",
                        "linecolor": "white",
                        "ticks": ""
                      },
                      "bgcolor": "#E5ECF6",
                      "radialaxis": {
                        "gridcolor": "white",
                        "linecolor": "white",
                        "ticks": ""
                      }
                    },
                    "scene": {
                      "xaxis": {
                        "backgroundcolor": "#E5ECF6",
                        "gridcolor": "white",
                        "gridwidth": 2,
                        "linecolor": "white",
                        "showbackground": true,
                        "ticks": "",
                        "zerolinecolor": "white"
                      },
                      "yaxis": {
                        "backgroundcolor": "#E5ECF6",
                        "gridcolor": "white",
                        "gridwidth": 2,
                        "linecolor": "white",
                        "showbackground": true,
                        "ticks": "",
                        "zerolinecolor": "white"
                      },
                      "zaxis": {
                        "backgroundcolor": "#E5ECF6",
                        "gridcolor": "white",
                        "gridwidth": 2,
                        "linecolor": "white",
                        "showbackground": true,
                        "ticks": "",
                        "zerolinecolor": "white"
                      }
                    },
                    "shapedefaults": {
                      "line": {
                        "color": "#2a3f5f"
                      }
                    },
                    "ternary": {
                      "aaxis": {
                        "gridcolor": "white",
                        "linecolor": "white",
                        "ticks": ""
                      },
                      "baxis": {
                        "gridcolor": "white",
                        "linecolor": "white",
                        "ticks": ""
                      },
                      "bgcolor": "#E5ECF6",
                      "caxis": {
                        "gridcolor": "white",
                        "linecolor": "white",
                        "ticks": ""
                      }
                    },
                    "title": {
                      "x": 0.05
                    },
                    "xaxis": {
                      "automargin": true,
                      "gridcolor": "white",
                      "linecolor": "white",
                      "ticks": "",
                      "title": {
                        "standoff": 15
                      },
                      "zerolinecolor": "white",
                      "zerolinewidth": 2
                    },
                    "yaxis": {
                      "automargin": true,
                      "gridcolor": "white",
                      "linecolor": "white",
                      "ticks": "",
                      "title": {
                        "standoff": 15
                      },
                      "zerolinecolor": "white",
                      "zerolinewidth": 2
                    }
                  }
                },
                "xaxis": {
                  "anchor": "y",
                  "domain": [
                    0,
                    1
                  ],
                  "title": {
                    "text": "token"
                  }
                },
                "yaxis": {
                  "anchor": "x",
                  "domain": [
                    0,
                    1
                  ],
                  "title": {
                    "text": "prob"
                  }
                }
              }
            },
            "text/html": [
              "<div>                            <div id=\"90859ad3-09f7-4cf4-b7c6-0d1325c9c429\" class=\"plotly-graph-div\" style=\"height:300px; width:100%;\"></div>            <script type=\"text/javascript\">                require([\"plotly\"], function(Plotly) {                    window.PLOTLYENV=window.PLOTLYENV || {};                                    if (document.getElementById(\"90859ad3-09f7-4cf4-b7c6-0d1325c9c429\")) {                    Plotly.newPlot(                        \"90859ad3-09f7-4cf4-b7c6-0d1325c9c429\",                        [{\"alignmentgroup\":\"True\",\"hovertemplate\":\"token=%{x}<br>prob=%{y}<extra></extra>\",\"legendgroup\":\"\",\"marker\":{\"color\":\"#636efa\",\"pattern\":{\"shape\":\"\"}},\"name\":\"\",\"offsetgroup\":\"\",\"orientation\":\"v\",\"showlegend\":false,\"textposition\":\"auto\",\"x\":[\"[CLS]\",\"[SEP]\",\"-\",\"s\",\"and\",\"of\",\".\",\"a\",\"its\",\",\",\"'\",\"##ly\",\"an\",\"##s\",\"comedy\",\"as\",\"]\",\"[\",\"performances\",\"will\",\"*\",\"*\",\"in\",\"they\",\"bad\",\"have\",\"?\",\"t\",\"!\",\"to\",\")\",\"(\",\"movie\",\"\\\"\",\"the\",\"was\",\"this\",\">\",\"br\",\"<\",\"/\",\"i\"],\"xaxis\":\"x\",\"y\":[-0.02874955416437596,-0.02874955416437596,-0.010386584825231726,-0.005932594546081651,-0.00586953930706581,-0.0052869860717477055,-0.004965630280976456,-0.004728153960787091,-0.003986629887810313,-0.0030459258198655553,-0.003044671109027463,-0.002757616321350815,-0.0024361038031951985,-0.0014675316890202894,-0.0012044352347152932,-0.0011931798453457204,-0.001059772291897967,-0.001059772291897967,-0.0010082901328956704,-0.0009937650937124028,-0.1155738313062117,0.11522743391270115,0.0018339888500772377,0.0019023333596392333,0.002126447722813473,0.002225751352836282,0.002252144645655987,0.0024214166860483037,0.002527606288646837,0.0029498517103119376,0.0033417473087302488,0.0034910920084061303,0.004264420593367893,0.006337239906070626,0.007036919328008845,0.0076916498711704796,0.008023471840869437,0.011338088145663556,0.01143524552457792,0.011628704858546352,0.011795545506543458,0.013649022726896439],\"yaxis\":\"y\",\"type\":\"bar\"}],                        {\"template\":{\"data\":{\"histogram2dcontour\":[{\"type\":\"histogram2dcontour\",\"colorbar\":{\"outlinewidth\":0,\"ticks\":\"\"},\"colorscale\":[[0.0,\"#0d0887\"],[0.1111111111111111,\"#46039f\"],[0.2222222222222222,\"#7201a8\"],[0.3333333333333333,\"#9c179e\"],[0.4444444444444444,\"#bd3786\"],[0.5555555555555556,\"#d8576b\"],[0.6666666666666666,\"#ed7953\"],[0.7777777777777778,\"#fb9f3a\"],[0.8888888888888888,\"#fdca26\"],[1.0,\"#f0f921\"]]}],\"choropleth\":[{\"type\":\"choropleth\",\"colorbar\":{\"outlinewidth\":0,\"ticks\":\"\"}}],\"histogram2d\":[{\"type\":\"histogram2d\",\"colorbar\":{\"outlinewidth\":0,\"ticks\":\"\"},\"colorscale\":[[0.0,\"#0d0887\"],[0.1111111111111111,\"#46039f\"],[0.2222222222222222,\"#7201a8\"],[0.3333333333333333,\"#9c179e\"],[0.4444444444444444,\"#bd3786\"],[0.5555555555555556,\"#d8576b\"],[0.6666666666666666,\"#ed7953\"],[0.7777777777777778,\"#fb9f3a\"],[0.8888888888888888,\"#fdca26\"],[1.0,\"#f0f921\"]]}],\"heatmap\":[{\"type\":\"heatmap\",\"colorbar\":{\"outlinewidth\":0,\"ticks\":\"\"},\"colorscale\":[[0.0,\"#0d0887\"],[0.1111111111111111,\"#46039f\"],[0.2222222222222222,\"#7201a8\"],[0.3333333333333333,\"#9c179e\"],[0.4444444444444444,\"#bd3786\"],[0.5555555555555556,\"#d8576b\"],[0.6666666666666666,\"#ed7953\"],[0.7777777777777778,\"#fb9f3a\"],[0.8888888888888888,\"#fdca26\"],[1.0,\"#f0f921\"]]}],\"heatmapgl\":[{\"type\":\"heatmapgl\",\"colorbar\":{\"outlinewidth\":0,\"ticks\":\"\"},\"colorscale\":[[0.0,\"#0d0887\"],[0.1111111111111111,\"#46039f\"],[0.2222222222222222,\"#7201a8\"],[0.3333333333333333,\"#9c179e\"],[0.4444444444444444,\"#bd3786\"],[0.5555555555555556,\"#d8576b\"],[0.6666666666666666,\"#ed7953\"],[0.7777777777777778,\"#fb9f3a\"],[0.8888888888888888,\"#fdca26\"],[1.0,\"#f0f921\"]]}],\"contourcarpet\":[{\"type\":\"contourcarpet\",\"colorbar\":{\"outlinewidth\":0,\"ticks\":\"\"}}],\"contour\":[{\"type\":\"contour\",\"colorbar\":{\"outlinewidth\":0,\"ticks\":\"\"},\"colorscale\":[[0.0,\"#0d0887\"],[0.1111111111111111,\"#46039f\"],[0.2222222222222222,\"#7201a8\"],[0.3333333333333333,\"#9c179e\"],[0.4444444444444444,\"#bd3786\"],[0.5555555555555556,\"#d8576b\"],[0.6666666666666666,\"#ed7953\"],[0.7777777777777778,\"#fb9f3a\"],[0.8888888888888888,\"#fdca26\"],[1.0,\"#f0f921\"]]}],\"surface\":[{\"type\":\"surface\",\"colorbar\":{\"outlinewidth\":0,\"ticks\":\"\"},\"colorscale\":[[0.0,\"#0d0887\"],[0.1111111111111111,\"#46039f\"],[0.2222222222222222,\"#7201a8\"],[0.3333333333333333,\"#9c179e\"],[0.4444444444444444,\"#bd3786\"],[0.5555555555555556,\"#d8576b\"],[0.6666666666666666,\"#ed7953\"],[0.7777777777777778,\"#fb9f3a\"],[0.8888888888888888,\"#fdca26\"],[1.0,\"#f0f921\"]]}],\"mesh3d\":[{\"type\":\"mesh3d\",\"colorbar\":{\"outlinewidth\":0,\"ticks\":\"\"}}],\"scatter\":[{\"fillpattern\":{\"fillmode\":\"overlay\",\"size\":10,\"solidity\":0.2},\"type\":\"scatter\"}],\"parcoords\":[{\"type\":\"parcoords\",\"line\":{\"colorbar\":{\"outlinewidth\":0,\"ticks\":\"\"}}}],\"scatterpolargl\":[{\"type\":\"scatterpolargl\",\"marker\":{\"colorbar\":{\"outlinewidth\":0,\"ticks\":\"\"}}}],\"bar\":[{\"error_x\":{\"color\":\"#2a3f5f\"},\"error_y\":{\"color\":\"#2a3f5f\"},\"marker\":{\"line\":{\"color\":\"#E5ECF6\",\"width\":0.5},\"pattern\":{\"fillmode\":\"overlay\",\"size\":10,\"solidity\":0.2}},\"type\":\"bar\"}],\"scattergeo\":[{\"type\":\"scattergeo\",\"marker\":{\"colorbar\":{\"outlinewidth\":0,\"ticks\":\"\"}}}],\"scatterpolar\":[{\"type\":\"scatterpolar\",\"marker\":{\"colorbar\":{\"outlinewidth\":0,\"ticks\":\"\"}}}],\"histogram\":[{\"marker\":{\"pattern\":{\"fillmode\":\"overlay\",\"size\":10,\"solidity\":0.2}},\"type\":\"histogram\"}],\"scattergl\":[{\"type\":\"scattergl\",\"marker\":{\"colorbar\":{\"outlinewidth\":0,\"ticks\":\"\"}}}],\"scatter3d\":[{\"type\":\"scatter3d\",\"line\":{\"colorbar\":{\"outlinewidth\":0,\"ticks\":\"\"}},\"marker\":{\"colorbar\":{\"outlinewidth\":0,\"ticks\":\"\"}}}],\"scattermapbox\":[{\"type\":\"scattermapbox\",\"marker\":{\"colorbar\":{\"outlinewidth\":0,\"ticks\":\"\"}}}],\"scatterternary\":[{\"type\":\"scatterternary\",\"marker\":{\"colorbar\":{\"outlinewidth\":0,\"ticks\":\"\"}}}],\"scattercarpet\":[{\"type\":\"scattercarpet\",\"marker\":{\"colorbar\":{\"outlinewidth\":0,\"ticks\":\"\"}}}],\"carpet\":[{\"aaxis\":{\"endlinecolor\":\"#2a3f5f\",\"gridcolor\":\"white\",\"linecolor\":\"white\",\"minorgridcolor\":\"white\",\"startlinecolor\":\"#2a3f5f\"},\"baxis\":{\"endlinecolor\":\"#2a3f5f\",\"gridcolor\":\"white\",\"linecolor\":\"white\",\"minorgridcolor\":\"white\",\"startlinecolor\":\"#2a3f5f\"},\"type\":\"carpet\"}],\"table\":[{\"cells\":{\"fill\":{\"color\":\"#EBF0F8\"},\"line\":{\"color\":\"white\"}},\"header\":{\"fill\":{\"color\":\"#C8D4E3\"},\"line\":{\"color\":\"white\"}},\"type\":\"table\"}],\"barpolar\":[{\"marker\":{\"line\":{\"color\":\"#E5ECF6\",\"width\":0.5},\"pattern\":{\"fillmode\":\"overlay\",\"size\":10,\"solidity\":0.2}},\"type\":\"barpolar\"}],\"pie\":[{\"automargin\":true,\"type\":\"pie\"}]},\"layout\":{\"autotypenumbers\":\"strict\",\"colorway\":[\"#636efa\",\"#EF553B\",\"#00cc96\",\"#ab63fa\",\"#FFA15A\",\"#19d3f3\",\"#FF6692\",\"#B6E880\",\"#FF97FF\",\"#FECB52\"],\"font\":{\"color\":\"#2a3f5f\"},\"hovermode\":\"closest\",\"hoverlabel\":{\"align\":\"left\"},\"paper_bgcolor\":\"white\",\"plot_bgcolor\":\"#E5ECF6\",\"polar\":{\"bgcolor\":\"#E5ECF6\",\"angularaxis\":{\"gridcolor\":\"white\",\"linecolor\":\"white\",\"ticks\":\"\"},\"radialaxis\":{\"gridcolor\":\"white\",\"linecolor\":\"white\",\"ticks\":\"\"}},\"ternary\":{\"bgcolor\":\"#E5ECF6\",\"aaxis\":{\"gridcolor\":\"white\",\"linecolor\":\"white\",\"ticks\":\"\"},\"baxis\":{\"gridcolor\":\"white\",\"linecolor\":\"white\",\"ticks\":\"\"},\"caxis\":{\"gridcolor\":\"white\",\"linecolor\":\"white\",\"ticks\":\"\"}},\"coloraxis\":{\"colorbar\":{\"outlinewidth\":0,\"ticks\":\"\"}},\"colorscale\":{\"sequential\":[[0.0,\"#0d0887\"],[0.1111111111111111,\"#46039f\"],[0.2222222222222222,\"#7201a8\"],[0.3333333333333333,\"#9c179e\"],[0.4444444444444444,\"#bd3786\"],[0.5555555555555556,\"#d8576b\"],[0.6666666666666666,\"#ed7953\"],[0.7777777777777778,\"#fb9f3a\"],[0.8888888888888888,\"#fdca26\"],[1.0,\"#f0f921\"]],\"sequentialminus\":[[0.0,\"#0d0887\"],[0.1111111111111111,\"#46039f\"],[0.2222222222222222,\"#7201a8\"],[0.3333333333333333,\"#9c179e\"],[0.4444444444444444,\"#bd3786\"],[0.5555555555555556,\"#d8576b\"],[0.6666666666666666,\"#ed7953\"],[0.7777777777777778,\"#fb9f3a\"],[0.8888888888888888,\"#fdca26\"],[1.0,\"#f0f921\"]],\"diverging\":[[0,\"#8e0152\"],[0.1,\"#c51b7d\"],[0.2,\"#de77ae\"],[0.3,\"#f1b6da\"],[0.4,\"#fde0ef\"],[0.5,\"#f7f7f7\"],[0.6,\"#e6f5d0\"],[0.7,\"#b8e186\"],[0.8,\"#7fbc41\"],[0.9,\"#4d9221\"],[1,\"#276419\"]]},\"xaxis\":{\"gridcolor\":\"white\",\"linecolor\":\"white\",\"ticks\":\"\",\"title\":{\"standoff\":15},\"zerolinecolor\":\"white\",\"automargin\":true,\"zerolinewidth\":2},\"yaxis\":{\"gridcolor\":\"white\",\"linecolor\":\"white\",\"ticks\":\"\",\"title\":{\"standoff\":15},\"zerolinecolor\":\"white\",\"automargin\":true,\"zerolinewidth\":2},\"scene\":{\"xaxis\":{\"backgroundcolor\":\"#E5ECF6\",\"gridcolor\":\"white\",\"linecolor\":\"white\",\"showbackground\":true,\"ticks\":\"\",\"zerolinecolor\":\"white\",\"gridwidth\":2},\"yaxis\":{\"backgroundcolor\":\"#E5ECF6\",\"gridcolor\":\"white\",\"linecolor\":\"white\",\"showbackground\":true,\"ticks\":\"\",\"zerolinecolor\":\"white\",\"gridwidth\":2},\"zaxis\":{\"backgroundcolor\":\"#E5ECF6\",\"gridcolor\":\"white\",\"linecolor\":\"white\",\"showbackground\":true,\"ticks\":\"\",\"zerolinecolor\":\"white\",\"gridwidth\":2}},\"shapedefaults\":{\"line\":{\"color\":\"#2a3f5f\"}},\"annotationdefaults\":{\"arrowcolor\":\"#2a3f5f\",\"arrowhead\":0,\"arrowwidth\":1},\"geo\":{\"bgcolor\":\"white\",\"landcolor\":\"#E5ECF6\",\"subunitcolor\":\"white\",\"showland\":true,\"showlakes\":true,\"lakecolor\":\"white\"},\"title\":{\"x\":0.05},\"mapbox\":{\"style\":\"light\"}}},\"xaxis\":{\"anchor\":\"y\",\"domain\":[0.0,1.0],\"title\":{\"text\":\"token\"}},\"yaxis\":{\"anchor\":\"x\",\"domain\":[0.0,1.0],\"title\":{\"text\":\"prob\"}},\"legend\":{\"tracegroupgap\":0},\"margin\":{\"t\":10,\"l\":10,\"r\":10,\"b\":10},\"barmode\":\"relative\",\"paper_bgcolor\":\"teal\",\"height\":300},                        {\"responsive\": true}                    ).then(function(){\n",
              "                            \n",
              "var gd = document.getElementById('90859ad3-09f7-4cf4-b7c6-0d1325c9c429');\n",
              "var x = new MutationObserver(function (mutations, observer) {{\n",
              "        var display = window.getComputedStyle(gd).display;\n",
              "        if (!display || display === 'none') {{\n",
              "            console.log([gd, 'removed!']);\n",
              "            Plotly.purge(gd);\n",
              "            observer.disconnect();\n",
              "        }}\n",
              "}});\n",
              "\n",
              "// Listen for the removal of the full notebook cells\n",
              "var notebookContainer = gd.closest('#notebook-container');\n",
              "if (notebookContainer) {{\n",
              "    x.observe(notebookContainer, {childList: true});\n",
              "}}\n",
              "\n",
              "// Listen for the clearing of the current output cell\n",
              "var outputEl = gd.closest('.output');\n",
              "if (outputEl) {{\n",
              "    x.observe(outputEl, {childList: true});\n",
              "}}\n",
              "\n",
              "                        })                };                });            </script>        </div>"
            ]
          },
          "metadata": {},
          "output_type": "display_data"
        }
      ],
      "source": [
        "# DATA\n",
        "c1, d1 = dists_of_texts(imdb_train['text'][:n])\n",
        "c2, d2 = dists_of_texts(rotten_train['text'][:n])\n",
        "top = tops_of_dists(c1 - c2, d1 - d2, n=20)\n",
        "\n",
        "# DATA\n",
        "plotdist(d1, d2, top, l1='imdb', l2='rotten')"
      ]
    },
    {
      "cell_type": "code",
      "execution_count": 61,
      "metadata": {
        "id": "qRSHyeg_8cmz"
      },
      "outputs": [
        {
          "data": {
            "application/vnd.plotly.v1+json": {
              "config": {
                "plotlyServerURL": "https://plot.ly"
              },
              "data": [
                {
                  "alignmentgroup": "True",
                  "hovertemplate": "dataset=imdb train<br>token=%{x}<br>prob=%{y}<extra></extra>",
                  "legendgroup": "imdb train",
                  "marker": {
                    "color": "#636efa",
                    "pattern": {
                      "shape": ""
                    }
                  },
                  "name": "imdb train",
                  "offsetgroup": "imdb train",
                  "orientation": "v",
                  "showlegend": true,
                  "textposition": "auto",
                  "type": "bar",
                  "x": [
                    ",",
                    "the",
                    "i",
                    "of",
                    "on",
                    "to",
                    "they",
                    "and",
                    "even",
                    "see",
                    "show",
                    "he",
                    "my",
                    "like",
                    "series",
                    "horror",
                    "watch",
                    "all",
                    "book",
                    "g",
                    "*",
                    "*",
                    "at",
                    "##s",
                    "movie",
                    "-",
                    "by",
                    "that",
                    "good",
                    "so",
                    "some",
                    "film",
                    "who",
                    ".",
                    "<",
                    "'",
                    "br",
                    ">",
                    "s",
                    "her",
                    "is",
                    "in"
                  ],
                  "xaxis": "x",
                  "y": [
                    0.03256118087257668,
                    0.04188917008746756,
                    0.015140323472546811,
                    0.017929436647574765,
                    0.004294669201490218,
                    0.016960714271298773,
                    0.002712422653572769,
                    0.019095939842340433,
                    0.0015943555776208986,
                    0.0011907212541725698,
                    0.000758832528082858,
                    0.0028577310100141675,
                    0.0017033368449519473,
                    0.002704349967103803,
                    0.00032694380199314627,
                    0.0006902146930966421,
                    0.0009364316304001227,
                    0.0028375492938417513,
                    0.00036327089110349585,
                    0.0001331993267379485,
                    0,
                    0,
                    0.0032532926469935296,
                    0.0032088928714142134,
                    0.008314867063035572,
                    0.008153413333656242,
                    0.0028617673532486507,
                    0.00965089667364954,
                    0.002256315868076158,
                    0.0033743829440280285,
                    0.0023249337030623735,
                    0.0054288816503800215,
                    0.0026478411618210368,
                    0.04282963806110216,
                    0.011628704858546352,
                    0.01671046099076081,
                    0.011564123366794618,
                    0.011338088145663556,
                    0.007212945360021635,
                    0.0019293720660830114,
                    0.013707421624305244,
                    0.011628704858546352
                  ],
                  "yaxis": "y"
                },
                {
                  "alignmentgroup": "True",
                  "hovertemplate": "dataset=imdb test<br>token=%{x}<br>prob=%{y}<extra></extra>",
                  "legendgroup": "imdb test",
                  "marker": {
                    "color": "#EF553B",
                    "pattern": {
                      "shape": ""
                    }
                  },
                  "name": "imdb test",
                  "offsetgroup": "imdb test",
                  "orientation": "v",
                  "showlegend": true,
                  "textposition": "auto",
                  "type": "bar",
                  "x": [
                    ",",
                    "the",
                    "i",
                    "of",
                    "on",
                    "to",
                    "they",
                    "and",
                    "even",
                    "see",
                    "show",
                    "he",
                    "my",
                    "like",
                    "series",
                    "horror",
                    "watch",
                    "all",
                    "book",
                    "g",
                    "*",
                    "*",
                    "at",
                    "##s",
                    "movie",
                    "-",
                    "by",
                    "that",
                    "good",
                    "so",
                    "some",
                    "film",
                    "who",
                    ".",
                    "<",
                    "'",
                    "br",
                    ">",
                    "s",
                    "her",
                    "is",
                    "in"
                  ],
                  "xaxis": "x",
                  "y": [
                    0.034028646750817,
                    0.042569217499058475,
                    0.015696184077849184,
                    0.018417503917971645,
                    0.004766359303309724,
                    0.01734841398078068,
                    0.0030938814849011294,
                    0.01946634593968551,
                    0.0018830561393704517,
                    0.0014659490805421583,
                    0.0010002470245688206,
                    0.0030979310679965497,
                    0.001935700719610916,
                    0.002935947744179737,
                    0.0005466937178817441,
                    0.0009071066133741531,
                    0.0011500815990993728,
                    0.0030452864877560854,
                    0.000570991216454266,
                    0.0003401649800153074,
                    0,
                    0,
                    0.003000741073706462,
                    0.0029561956596568383,
                    0.00805057119369561,
                    0.007880488703687955,
                    0.0025714852655919075,
                    0.009358586533516374,
                    0.0019559486350880177,
                    0.003073633569424028,
                    0.002008593215328482,
                    0.005102474700229611,
                    0.002320411113675847,
                    0.042496325003340905,
                    0.011278088920745609,
                    0.016340067790021017,
                    0.011193047675741783,
                    0.010954122273111983,
                    0.00681544834959241,
                    0.0015104944945917818,
                    0.01327453338678783,
                    0.010905527275966938
                  ],
                  "yaxis": "y"
                }
              ],
              "layout": {
                "barmode": "group",
                "height": 300,
                "legend": {
                  "title": {
                    "text": "dataset"
                  },
                  "tracegroupgap": 0
                },
                "margin": {
                  "b": 10,
                  "l": 10,
                  "r": 10,
                  "t": 10
                },
                "paper_bgcolor": "teal",
                "template": {
                  "data": {
                    "bar": [
                      {
                        "error_x": {
                          "color": "#2a3f5f"
                        },
                        "error_y": {
                          "color": "#2a3f5f"
                        },
                        "marker": {
                          "line": {
                            "color": "#E5ECF6",
                            "width": 0.5
                          },
                          "pattern": {
                            "fillmode": "overlay",
                            "size": 10,
                            "solidity": 0.2
                          }
                        },
                        "type": "bar"
                      }
                    ],
                    "barpolar": [
                      {
                        "marker": {
                          "line": {
                            "color": "#E5ECF6",
                            "width": 0.5
                          },
                          "pattern": {
                            "fillmode": "overlay",
                            "size": 10,
                            "solidity": 0.2
                          }
                        },
                        "type": "barpolar"
                      }
                    ],
                    "carpet": [
                      {
                        "aaxis": {
                          "endlinecolor": "#2a3f5f",
                          "gridcolor": "white",
                          "linecolor": "white",
                          "minorgridcolor": "white",
                          "startlinecolor": "#2a3f5f"
                        },
                        "baxis": {
                          "endlinecolor": "#2a3f5f",
                          "gridcolor": "white",
                          "linecolor": "white",
                          "minorgridcolor": "white",
                          "startlinecolor": "#2a3f5f"
                        },
                        "type": "carpet"
                      }
                    ],
                    "choropleth": [
                      {
                        "colorbar": {
                          "outlinewidth": 0,
                          "ticks": ""
                        },
                        "type": "choropleth"
                      }
                    ],
                    "contour": [
                      {
                        "colorbar": {
                          "outlinewidth": 0,
                          "ticks": ""
                        },
                        "colorscale": [
                          [
                            0,
                            "#0d0887"
                          ],
                          [
                            0.1111111111111111,
                            "#46039f"
                          ],
                          [
                            0.2222222222222222,
                            "#7201a8"
                          ],
                          [
                            0.3333333333333333,
                            "#9c179e"
                          ],
                          [
                            0.4444444444444444,
                            "#bd3786"
                          ],
                          [
                            0.5555555555555556,
                            "#d8576b"
                          ],
                          [
                            0.6666666666666666,
                            "#ed7953"
                          ],
                          [
                            0.7777777777777778,
                            "#fb9f3a"
                          ],
                          [
                            0.8888888888888888,
                            "#fdca26"
                          ],
                          [
                            1,
                            "#f0f921"
                          ]
                        ],
                        "type": "contour"
                      }
                    ],
                    "contourcarpet": [
                      {
                        "colorbar": {
                          "outlinewidth": 0,
                          "ticks": ""
                        },
                        "type": "contourcarpet"
                      }
                    ],
                    "heatmap": [
                      {
                        "colorbar": {
                          "outlinewidth": 0,
                          "ticks": ""
                        },
                        "colorscale": [
                          [
                            0,
                            "#0d0887"
                          ],
                          [
                            0.1111111111111111,
                            "#46039f"
                          ],
                          [
                            0.2222222222222222,
                            "#7201a8"
                          ],
                          [
                            0.3333333333333333,
                            "#9c179e"
                          ],
                          [
                            0.4444444444444444,
                            "#bd3786"
                          ],
                          [
                            0.5555555555555556,
                            "#d8576b"
                          ],
                          [
                            0.6666666666666666,
                            "#ed7953"
                          ],
                          [
                            0.7777777777777778,
                            "#fb9f3a"
                          ],
                          [
                            0.8888888888888888,
                            "#fdca26"
                          ],
                          [
                            1,
                            "#f0f921"
                          ]
                        ],
                        "type": "heatmap"
                      }
                    ],
                    "heatmapgl": [
                      {
                        "colorbar": {
                          "outlinewidth": 0,
                          "ticks": ""
                        },
                        "colorscale": [
                          [
                            0,
                            "#0d0887"
                          ],
                          [
                            0.1111111111111111,
                            "#46039f"
                          ],
                          [
                            0.2222222222222222,
                            "#7201a8"
                          ],
                          [
                            0.3333333333333333,
                            "#9c179e"
                          ],
                          [
                            0.4444444444444444,
                            "#bd3786"
                          ],
                          [
                            0.5555555555555556,
                            "#d8576b"
                          ],
                          [
                            0.6666666666666666,
                            "#ed7953"
                          ],
                          [
                            0.7777777777777778,
                            "#fb9f3a"
                          ],
                          [
                            0.8888888888888888,
                            "#fdca26"
                          ],
                          [
                            1,
                            "#f0f921"
                          ]
                        ],
                        "type": "heatmapgl"
                      }
                    ],
                    "histogram": [
                      {
                        "marker": {
                          "pattern": {
                            "fillmode": "overlay",
                            "size": 10,
                            "solidity": 0.2
                          }
                        },
                        "type": "histogram"
                      }
                    ],
                    "histogram2d": [
                      {
                        "colorbar": {
                          "outlinewidth": 0,
                          "ticks": ""
                        },
                        "colorscale": [
                          [
                            0,
                            "#0d0887"
                          ],
                          [
                            0.1111111111111111,
                            "#46039f"
                          ],
                          [
                            0.2222222222222222,
                            "#7201a8"
                          ],
                          [
                            0.3333333333333333,
                            "#9c179e"
                          ],
                          [
                            0.4444444444444444,
                            "#bd3786"
                          ],
                          [
                            0.5555555555555556,
                            "#d8576b"
                          ],
                          [
                            0.6666666666666666,
                            "#ed7953"
                          ],
                          [
                            0.7777777777777778,
                            "#fb9f3a"
                          ],
                          [
                            0.8888888888888888,
                            "#fdca26"
                          ],
                          [
                            1,
                            "#f0f921"
                          ]
                        ],
                        "type": "histogram2d"
                      }
                    ],
                    "histogram2dcontour": [
                      {
                        "colorbar": {
                          "outlinewidth": 0,
                          "ticks": ""
                        },
                        "colorscale": [
                          [
                            0,
                            "#0d0887"
                          ],
                          [
                            0.1111111111111111,
                            "#46039f"
                          ],
                          [
                            0.2222222222222222,
                            "#7201a8"
                          ],
                          [
                            0.3333333333333333,
                            "#9c179e"
                          ],
                          [
                            0.4444444444444444,
                            "#bd3786"
                          ],
                          [
                            0.5555555555555556,
                            "#d8576b"
                          ],
                          [
                            0.6666666666666666,
                            "#ed7953"
                          ],
                          [
                            0.7777777777777778,
                            "#fb9f3a"
                          ],
                          [
                            0.8888888888888888,
                            "#fdca26"
                          ],
                          [
                            1,
                            "#f0f921"
                          ]
                        ],
                        "type": "histogram2dcontour"
                      }
                    ],
                    "mesh3d": [
                      {
                        "colorbar": {
                          "outlinewidth": 0,
                          "ticks": ""
                        },
                        "type": "mesh3d"
                      }
                    ],
                    "parcoords": [
                      {
                        "line": {
                          "colorbar": {
                            "outlinewidth": 0,
                            "ticks": ""
                          }
                        },
                        "type": "parcoords"
                      }
                    ],
                    "pie": [
                      {
                        "automargin": true,
                        "type": "pie"
                      }
                    ],
                    "scatter": [
                      {
                        "fillpattern": {
                          "fillmode": "overlay",
                          "size": 10,
                          "solidity": 0.2
                        },
                        "type": "scatter"
                      }
                    ],
                    "scatter3d": [
                      {
                        "line": {
                          "colorbar": {
                            "outlinewidth": 0,
                            "ticks": ""
                          }
                        },
                        "marker": {
                          "colorbar": {
                            "outlinewidth": 0,
                            "ticks": ""
                          }
                        },
                        "type": "scatter3d"
                      }
                    ],
                    "scattercarpet": [
                      {
                        "marker": {
                          "colorbar": {
                            "outlinewidth": 0,
                            "ticks": ""
                          }
                        },
                        "type": "scattercarpet"
                      }
                    ],
                    "scattergeo": [
                      {
                        "marker": {
                          "colorbar": {
                            "outlinewidth": 0,
                            "ticks": ""
                          }
                        },
                        "type": "scattergeo"
                      }
                    ],
                    "scattergl": [
                      {
                        "marker": {
                          "colorbar": {
                            "outlinewidth": 0,
                            "ticks": ""
                          }
                        },
                        "type": "scattergl"
                      }
                    ],
                    "scattermapbox": [
                      {
                        "marker": {
                          "colorbar": {
                            "outlinewidth": 0,
                            "ticks": ""
                          }
                        },
                        "type": "scattermapbox"
                      }
                    ],
                    "scatterpolar": [
                      {
                        "marker": {
                          "colorbar": {
                            "outlinewidth": 0,
                            "ticks": ""
                          }
                        },
                        "type": "scatterpolar"
                      }
                    ],
                    "scatterpolargl": [
                      {
                        "marker": {
                          "colorbar": {
                            "outlinewidth": 0,
                            "ticks": ""
                          }
                        },
                        "type": "scatterpolargl"
                      }
                    ],
                    "scatterternary": [
                      {
                        "marker": {
                          "colorbar": {
                            "outlinewidth": 0,
                            "ticks": ""
                          }
                        },
                        "type": "scatterternary"
                      }
                    ],
                    "surface": [
                      {
                        "colorbar": {
                          "outlinewidth": 0,
                          "ticks": ""
                        },
                        "colorscale": [
                          [
                            0,
                            "#0d0887"
                          ],
                          [
                            0.1111111111111111,
                            "#46039f"
                          ],
                          [
                            0.2222222222222222,
                            "#7201a8"
                          ],
                          [
                            0.3333333333333333,
                            "#9c179e"
                          ],
                          [
                            0.4444444444444444,
                            "#bd3786"
                          ],
                          [
                            0.5555555555555556,
                            "#d8576b"
                          ],
                          [
                            0.6666666666666666,
                            "#ed7953"
                          ],
                          [
                            0.7777777777777778,
                            "#fb9f3a"
                          ],
                          [
                            0.8888888888888888,
                            "#fdca26"
                          ],
                          [
                            1,
                            "#f0f921"
                          ]
                        ],
                        "type": "surface"
                      }
                    ],
                    "table": [
                      {
                        "cells": {
                          "fill": {
                            "color": "#EBF0F8"
                          },
                          "line": {
                            "color": "white"
                          }
                        },
                        "header": {
                          "fill": {
                            "color": "#C8D4E3"
                          },
                          "line": {
                            "color": "white"
                          }
                        },
                        "type": "table"
                      }
                    ]
                  },
                  "layout": {
                    "annotationdefaults": {
                      "arrowcolor": "#2a3f5f",
                      "arrowhead": 0,
                      "arrowwidth": 1
                    },
                    "autotypenumbers": "strict",
                    "coloraxis": {
                      "colorbar": {
                        "outlinewidth": 0,
                        "ticks": ""
                      }
                    },
                    "colorscale": {
                      "diverging": [
                        [
                          0,
                          "#8e0152"
                        ],
                        [
                          0.1,
                          "#c51b7d"
                        ],
                        [
                          0.2,
                          "#de77ae"
                        ],
                        [
                          0.3,
                          "#f1b6da"
                        ],
                        [
                          0.4,
                          "#fde0ef"
                        ],
                        [
                          0.5,
                          "#f7f7f7"
                        ],
                        [
                          0.6,
                          "#e6f5d0"
                        ],
                        [
                          0.7,
                          "#b8e186"
                        ],
                        [
                          0.8,
                          "#7fbc41"
                        ],
                        [
                          0.9,
                          "#4d9221"
                        ],
                        [
                          1,
                          "#276419"
                        ]
                      ],
                      "sequential": [
                        [
                          0,
                          "#0d0887"
                        ],
                        [
                          0.1111111111111111,
                          "#46039f"
                        ],
                        [
                          0.2222222222222222,
                          "#7201a8"
                        ],
                        [
                          0.3333333333333333,
                          "#9c179e"
                        ],
                        [
                          0.4444444444444444,
                          "#bd3786"
                        ],
                        [
                          0.5555555555555556,
                          "#d8576b"
                        ],
                        [
                          0.6666666666666666,
                          "#ed7953"
                        ],
                        [
                          0.7777777777777778,
                          "#fb9f3a"
                        ],
                        [
                          0.8888888888888888,
                          "#fdca26"
                        ],
                        [
                          1,
                          "#f0f921"
                        ]
                      ],
                      "sequentialminus": [
                        [
                          0,
                          "#0d0887"
                        ],
                        [
                          0.1111111111111111,
                          "#46039f"
                        ],
                        [
                          0.2222222222222222,
                          "#7201a8"
                        ],
                        [
                          0.3333333333333333,
                          "#9c179e"
                        ],
                        [
                          0.4444444444444444,
                          "#bd3786"
                        ],
                        [
                          0.5555555555555556,
                          "#d8576b"
                        ],
                        [
                          0.6666666666666666,
                          "#ed7953"
                        ],
                        [
                          0.7777777777777778,
                          "#fb9f3a"
                        ],
                        [
                          0.8888888888888888,
                          "#fdca26"
                        ],
                        [
                          1,
                          "#f0f921"
                        ]
                      ]
                    },
                    "colorway": [
                      "#636efa",
                      "#EF553B",
                      "#00cc96",
                      "#ab63fa",
                      "#FFA15A",
                      "#19d3f3",
                      "#FF6692",
                      "#B6E880",
                      "#FF97FF",
                      "#FECB52"
                    ],
                    "font": {
                      "color": "#2a3f5f"
                    },
                    "geo": {
                      "bgcolor": "white",
                      "lakecolor": "white",
                      "landcolor": "#E5ECF6",
                      "showlakes": true,
                      "showland": true,
                      "subunitcolor": "white"
                    },
                    "hoverlabel": {
                      "align": "left"
                    },
                    "hovermode": "closest",
                    "mapbox": {
                      "style": "light"
                    },
                    "paper_bgcolor": "white",
                    "plot_bgcolor": "#E5ECF6",
                    "polar": {
                      "angularaxis": {
                        "gridcolor": "white",
                        "linecolor": "white",
                        "ticks": ""
                      },
                      "bgcolor": "#E5ECF6",
                      "radialaxis": {
                        "gridcolor": "white",
                        "linecolor": "white",
                        "ticks": ""
                      }
                    },
                    "scene": {
                      "xaxis": {
                        "backgroundcolor": "#E5ECF6",
                        "gridcolor": "white",
                        "gridwidth": 2,
                        "linecolor": "white",
                        "showbackground": true,
                        "ticks": "",
                        "zerolinecolor": "white"
                      },
                      "yaxis": {
                        "backgroundcolor": "#E5ECF6",
                        "gridcolor": "white",
                        "gridwidth": 2,
                        "linecolor": "white",
                        "showbackground": true,
                        "ticks": "",
                        "zerolinecolor": "white"
                      },
                      "zaxis": {
                        "backgroundcolor": "#E5ECF6",
                        "gridcolor": "white",
                        "gridwidth": 2,
                        "linecolor": "white",
                        "showbackground": true,
                        "ticks": "",
                        "zerolinecolor": "white"
                      }
                    },
                    "shapedefaults": {
                      "line": {
                        "color": "#2a3f5f"
                      }
                    },
                    "ternary": {
                      "aaxis": {
                        "gridcolor": "white",
                        "linecolor": "white",
                        "ticks": ""
                      },
                      "baxis": {
                        "gridcolor": "white",
                        "linecolor": "white",
                        "ticks": ""
                      },
                      "bgcolor": "#E5ECF6",
                      "caxis": {
                        "gridcolor": "white",
                        "linecolor": "white",
                        "ticks": ""
                      }
                    },
                    "title": {
                      "x": 0.05
                    },
                    "xaxis": {
                      "automargin": true,
                      "gridcolor": "white",
                      "linecolor": "white",
                      "ticks": "",
                      "title": {
                        "standoff": 15
                      },
                      "zerolinecolor": "white",
                      "zerolinewidth": 2
                    },
                    "yaxis": {
                      "automargin": true,
                      "gridcolor": "white",
                      "linecolor": "white",
                      "ticks": "",
                      "title": {
                        "standoff": 15
                      },
                      "zerolinecolor": "white",
                      "zerolinewidth": 2
                    }
                  }
                },
                "xaxis": {
                  "anchor": "y",
                  "domain": [
                    0,
                    1
                  ],
                  "title": {
                    "text": "token"
                  }
                },
                "yaxis": {
                  "anchor": "x",
                  "domain": [
                    0,
                    1
                  ],
                  "title": {
                    "text": "prob"
                  }
                }
              }
            },
            "text/html": [
              "<div>                            <div id=\"2af2e1d3-ea71-41f5-9314-ae639cc4d043\" class=\"plotly-graph-div\" style=\"height:300px; width:100%;\"></div>            <script type=\"text/javascript\">                require([\"plotly\"], function(Plotly) {                    window.PLOTLYENV=window.PLOTLYENV || {};                                    if (document.getElementById(\"2af2e1d3-ea71-41f5-9314-ae639cc4d043\")) {                    Plotly.newPlot(                        \"2af2e1d3-ea71-41f5-9314-ae639cc4d043\",                        [{\"alignmentgroup\":\"True\",\"hovertemplate\":\"dataset=imdb train<br>token=%{x}<br>prob=%{y}<extra></extra>\",\"legendgroup\":\"imdb train\",\"marker\":{\"color\":\"#636efa\",\"pattern\":{\"shape\":\"\"}},\"name\":\"imdb train\",\"offsetgroup\":\"imdb train\",\"orientation\":\"v\",\"showlegend\":true,\"textposition\":\"auto\",\"x\":[\",\",\"the\",\"i\",\"of\",\"on\",\"to\",\"they\",\"and\",\"even\",\"see\",\"show\",\"he\",\"my\",\"like\",\"series\",\"horror\",\"watch\",\"all\",\"book\",\"g\",\"*\",\"*\",\"at\",\"##s\",\"movie\",\"-\",\"by\",\"that\",\"good\",\"so\",\"some\",\"film\",\"who\",\".\",\"<\",\"'\",\"br\",\">\",\"s\",\"her\",\"is\",\"in\"],\"xaxis\":\"x\",\"y\":[0.03256118087257668,0.04188917008746756,0.015140323472546811,0.017929436647574765,0.004294669201490218,0.016960714271298773,0.002712422653572769,0.019095939842340433,0.0015943555776208986,0.0011907212541725698,0.000758832528082858,0.0028577310100141675,0.0017033368449519473,0.002704349967103803,0.00032694380199314627,0.0006902146930966421,0.0009364316304001227,0.0028375492938417513,0.00036327089110349585,0.0001331993267379485,0.0,0.0,0.0032532926469935296,0.0032088928714142134,0.008314867063035572,0.008153413333656242,0.0028617673532486507,0.00965089667364954,0.002256315868076158,0.0033743829440280285,0.0023249337030623735,0.0054288816503800215,0.0026478411618210368,0.04282963806110216,0.011628704858546352,0.01671046099076081,0.011564123366794618,0.011338088145663556,0.007212945360021635,0.0019293720660830114,0.013707421624305244,0.011628704858546352],\"yaxis\":\"y\",\"type\":\"bar\"},{\"alignmentgroup\":\"True\",\"hovertemplate\":\"dataset=imdb test<br>token=%{x}<br>prob=%{y}<extra></extra>\",\"legendgroup\":\"imdb test\",\"marker\":{\"color\":\"#EF553B\",\"pattern\":{\"shape\":\"\"}},\"name\":\"imdb test\",\"offsetgroup\":\"imdb test\",\"orientation\":\"v\",\"showlegend\":true,\"textposition\":\"auto\",\"x\":[\",\",\"the\",\"i\",\"of\",\"on\",\"to\",\"they\",\"and\",\"even\",\"see\",\"show\",\"he\",\"my\",\"like\",\"series\",\"horror\",\"watch\",\"all\",\"book\",\"g\",\"*\",\"*\",\"at\",\"##s\",\"movie\",\"-\",\"by\",\"that\",\"good\",\"so\",\"some\",\"film\",\"who\",\".\",\"<\",\"'\",\"br\",\">\",\"s\",\"her\",\"is\",\"in\"],\"xaxis\":\"x\",\"y\":[0.034028646750817,0.042569217499058475,0.015696184077849184,0.018417503917971645,0.004766359303309724,0.01734841398078068,0.0030938814849011294,0.01946634593968551,0.0018830561393704517,0.0014659490805421583,0.0010002470245688206,0.0030979310679965497,0.001935700719610916,0.002935947744179737,0.0005466937178817441,0.0009071066133741531,0.0011500815990993728,0.0030452864877560854,0.000570991216454266,0.0003401649800153074,0.0,0.0,0.003000741073706462,0.0029561956596568383,0.00805057119369561,0.007880488703687955,0.0025714852655919075,0.009358586533516374,0.0019559486350880177,0.003073633569424028,0.002008593215328482,0.005102474700229611,0.002320411113675847,0.042496325003340905,0.011278088920745609,0.016340067790021017,0.011193047675741783,0.010954122273111983,0.00681544834959241,0.0015104944945917818,0.01327453338678783,0.010905527275966938],\"yaxis\":\"y\",\"type\":\"bar\"}],                        {\"template\":{\"data\":{\"histogram2dcontour\":[{\"type\":\"histogram2dcontour\",\"colorbar\":{\"outlinewidth\":0,\"ticks\":\"\"},\"colorscale\":[[0.0,\"#0d0887\"],[0.1111111111111111,\"#46039f\"],[0.2222222222222222,\"#7201a8\"],[0.3333333333333333,\"#9c179e\"],[0.4444444444444444,\"#bd3786\"],[0.5555555555555556,\"#d8576b\"],[0.6666666666666666,\"#ed7953\"],[0.7777777777777778,\"#fb9f3a\"],[0.8888888888888888,\"#fdca26\"],[1.0,\"#f0f921\"]]}],\"choropleth\":[{\"type\":\"choropleth\",\"colorbar\":{\"outlinewidth\":0,\"ticks\":\"\"}}],\"histogram2d\":[{\"type\":\"histogram2d\",\"colorbar\":{\"outlinewidth\":0,\"ticks\":\"\"},\"colorscale\":[[0.0,\"#0d0887\"],[0.1111111111111111,\"#46039f\"],[0.2222222222222222,\"#7201a8\"],[0.3333333333333333,\"#9c179e\"],[0.4444444444444444,\"#bd3786\"],[0.5555555555555556,\"#d8576b\"],[0.6666666666666666,\"#ed7953\"],[0.7777777777777778,\"#fb9f3a\"],[0.8888888888888888,\"#fdca26\"],[1.0,\"#f0f921\"]]}],\"heatmap\":[{\"type\":\"heatmap\",\"colorbar\":{\"outlinewidth\":0,\"ticks\":\"\"},\"colorscale\":[[0.0,\"#0d0887\"],[0.1111111111111111,\"#46039f\"],[0.2222222222222222,\"#7201a8\"],[0.3333333333333333,\"#9c179e\"],[0.4444444444444444,\"#bd3786\"],[0.5555555555555556,\"#d8576b\"],[0.6666666666666666,\"#ed7953\"],[0.7777777777777778,\"#fb9f3a\"],[0.8888888888888888,\"#fdca26\"],[1.0,\"#f0f921\"]]}],\"heatmapgl\":[{\"type\":\"heatmapgl\",\"colorbar\":{\"outlinewidth\":0,\"ticks\":\"\"},\"colorscale\":[[0.0,\"#0d0887\"],[0.1111111111111111,\"#46039f\"],[0.2222222222222222,\"#7201a8\"],[0.3333333333333333,\"#9c179e\"],[0.4444444444444444,\"#bd3786\"],[0.5555555555555556,\"#d8576b\"],[0.6666666666666666,\"#ed7953\"],[0.7777777777777778,\"#fb9f3a\"],[0.8888888888888888,\"#fdca26\"],[1.0,\"#f0f921\"]]}],\"contourcarpet\":[{\"type\":\"contourcarpet\",\"colorbar\":{\"outlinewidth\":0,\"ticks\":\"\"}}],\"contour\":[{\"type\":\"contour\",\"colorbar\":{\"outlinewidth\":0,\"ticks\":\"\"},\"colorscale\":[[0.0,\"#0d0887\"],[0.1111111111111111,\"#46039f\"],[0.2222222222222222,\"#7201a8\"],[0.3333333333333333,\"#9c179e\"],[0.4444444444444444,\"#bd3786\"],[0.5555555555555556,\"#d8576b\"],[0.6666666666666666,\"#ed7953\"],[0.7777777777777778,\"#fb9f3a\"],[0.8888888888888888,\"#fdca26\"],[1.0,\"#f0f921\"]]}],\"surface\":[{\"type\":\"surface\",\"colorbar\":{\"outlinewidth\":0,\"ticks\":\"\"},\"colorscale\":[[0.0,\"#0d0887\"],[0.1111111111111111,\"#46039f\"],[0.2222222222222222,\"#7201a8\"],[0.3333333333333333,\"#9c179e\"],[0.4444444444444444,\"#bd3786\"],[0.5555555555555556,\"#d8576b\"],[0.6666666666666666,\"#ed7953\"],[0.7777777777777778,\"#fb9f3a\"],[0.8888888888888888,\"#fdca26\"],[1.0,\"#f0f921\"]]}],\"mesh3d\":[{\"type\":\"mesh3d\",\"colorbar\":{\"outlinewidth\":0,\"ticks\":\"\"}}],\"scatter\":[{\"fillpattern\":{\"fillmode\":\"overlay\",\"size\":10,\"solidity\":0.2},\"type\":\"scatter\"}],\"parcoords\":[{\"type\":\"parcoords\",\"line\":{\"colorbar\":{\"outlinewidth\":0,\"ticks\":\"\"}}}],\"scatterpolargl\":[{\"type\":\"scatterpolargl\",\"marker\":{\"colorbar\":{\"outlinewidth\":0,\"ticks\":\"\"}}}],\"bar\":[{\"error_x\":{\"color\":\"#2a3f5f\"},\"error_y\":{\"color\":\"#2a3f5f\"},\"marker\":{\"line\":{\"color\":\"#E5ECF6\",\"width\":0.5},\"pattern\":{\"fillmode\":\"overlay\",\"size\":10,\"solidity\":0.2}},\"type\":\"bar\"}],\"scattergeo\":[{\"type\":\"scattergeo\",\"marker\":{\"colorbar\":{\"outlinewidth\":0,\"ticks\":\"\"}}}],\"scatterpolar\":[{\"type\":\"scatterpolar\",\"marker\":{\"colorbar\":{\"outlinewidth\":0,\"ticks\":\"\"}}}],\"histogram\":[{\"marker\":{\"pattern\":{\"fillmode\":\"overlay\",\"size\":10,\"solidity\":0.2}},\"type\":\"histogram\"}],\"scattergl\":[{\"type\":\"scattergl\",\"marker\":{\"colorbar\":{\"outlinewidth\":0,\"ticks\":\"\"}}}],\"scatter3d\":[{\"type\":\"scatter3d\",\"line\":{\"colorbar\":{\"outlinewidth\":0,\"ticks\":\"\"}},\"marker\":{\"colorbar\":{\"outlinewidth\":0,\"ticks\":\"\"}}}],\"scattermapbox\":[{\"type\":\"scattermapbox\",\"marker\":{\"colorbar\":{\"outlinewidth\":0,\"ticks\":\"\"}}}],\"scatterternary\":[{\"type\":\"scatterternary\",\"marker\":{\"colorbar\":{\"outlinewidth\":0,\"ticks\":\"\"}}}],\"scattercarpet\":[{\"type\":\"scattercarpet\",\"marker\":{\"colorbar\":{\"outlinewidth\":0,\"ticks\":\"\"}}}],\"carpet\":[{\"aaxis\":{\"endlinecolor\":\"#2a3f5f\",\"gridcolor\":\"white\",\"linecolor\":\"white\",\"minorgridcolor\":\"white\",\"startlinecolor\":\"#2a3f5f\"},\"baxis\":{\"endlinecolor\":\"#2a3f5f\",\"gridcolor\":\"white\",\"linecolor\":\"white\",\"minorgridcolor\":\"white\",\"startlinecolor\":\"#2a3f5f\"},\"type\":\"carpet\"}],\"table\":[{\"cells\":{\"fill\":{\"color\":\"#EBF0F8\"},\"line\":{\"color\":\"white\"}},\"header\":{\"fill\":{\"color\":\"#C8D4E3\"},\"line\":{\"color\":\"white\"}},\"type\":\"table\"}],\"barpolar\":[{\"marker\":{\"line\":{\"color\":\"#E5ECF6\",\"width\":0.5},\"pattern\":{\"fillmode\":\"overlay\",\"size\":10,\"solidity\":0.2}},\"type\":\"barpolar\"}],\"pie\":[{\"automargin\":true,\"type\":\"pie\"}]},\"layout\":{\"autotypenumbers\":\"strict\",\"colorway\":[\"#636efa\",\"#EF553B\",\"#00cc96\",\"#ab63fa\",\"#FFA15A\",\"#19d3f3\",\"#FF6692\",\"#B6E880\",\"#FF97FF\",\"#FECB52\"],\"font\":{\"color\":\"#2a3f5f\"},\"hovermode\":\"closest\",\"hoverlabel\":{\"align\":\"left\"},\"paper_bgcolor\":\"white\",\"plot_bgcolor\":\"#E5ECF6\",\"polar\":{\"bgcolor\":\"#E5ECF6\",\"angularaxis\":{\"gridcolor\":\"white\",\"linecolor\":\"white\",\"ticks\":\"\"},\"radialaxis\":{\"gridcolor\":\"white\",\"linecolor\":\"white\",\"ticks\":\"\"}},\"ternary\":{\"bgcolor\":\"#E5ECF6\",\"aaxis\":{\"gridcolor\":\"white\",\"linecolor\":\"white\",\"ticks\":\"\"},\"baxis\":{\"gridcolor\":\"white\",\"linecolor\":\"white\",\"ticks\":\"\"},\"caxis\":{\"gridcolor\":\"white\",\"linecolor\":\"white\",\"ticks\":\"\"}},\"coloraxis\":{\"colorbar\":{\"outlinewidth\":0,\"ticks\":\"\"}},\"colorscale\":{\"sequential\":[[0.0,\"#0d0887\"],[0.1111111111111111,\"#46039f\"],[0.2222222222222222,\"#7201a8\"],[0.3333333333333333,\"#9c179e\"],[0.4444444444444444,\"#bd3786\"],[0.5555555555555556,\"#d8576b\"],[0.6666666666666666,\"#ed7953\"],[0.7777777777777778,\"#fb9f3a\"],[0.8888888888888888,\"#fdca26\"],[1.0,\"#f0f921\"]],\"sequentialminus\":[[0.0,\"#0d0887\"],[0.1111111111111111,\"#46039f\"],[0.2222222222222222,\"#7201a8\"],[0.3333333333333333,\"#9c179e\"],[0.4444444444444444,\"#bd3786\"],[0.5555555555555556,\"#d8576b\"],[0.6666666666666666,\"#ed7953\"],[0.7777777777777778,\"#fb9f3a\"],[0.8888888888888888,\"#fdca26\"],[1.0,\"#f0f921\"]],\"diverging\":[[0,\"#8e0152\"],[0.1,\"#c51b7d\"],[0.2,\"#de77ae\"],[0.3,\"#f1b6da\"],[0.4,\"#fde0ef\"],[0.5,\"#f7f7f7\"],[0.6,\"#e6f5d0\"],[0.7,\"#b8e186\"],[0.8,\"#7fbc41\"],[0.9,\"#4d9221\"],[1,\"#276419\"]]},\"xaxis\":{\"gridcolor\":\"white\",\"linecolor\":\"white\",\"ticks\":\"\",\"title\":{\"standoff\":15},\"zerolinecolor\":\"white\",\"automargin\":true,\"zerolinewidth\":2},\"yaxis\":{\"gridcolor\":\"white\",\"linecolor\":\"white\",\"ticks\":\"\",\"title\":{\"standoff\":15},\"zerolinecolor\":\"white\",\"automargin\":true,\"zerolinewidth\":2},\"scene\":{\"xaxis\":{\"backgroundcolor\":\"#E5ECF6\",\"gridcolor\":\"white\",\"linecolor\":\"white\",\"showbackground\":true,\"ticks\":\"\",\"zerolinecolor\":\"white\",\"gridwidth\":2},\"yaxis\":{\"backgroundcolor\":\"#E5ECF6\",\"gridcolor\":\"white\",\"linecolor\":\"white\",\"showbackground\":true,\"ticks\":\"\",\"zerolinecolor\":\"white\",\"gridwidth\":2},\"zaxis\":{\"backgroundcolor\":\"#E5ECF6\",\"gridcolor\":\"white\",\"linecolor\":\"white\",\"showbackground\":true,\"ticks\":\"\",\"zerolinecolor\":\"white\",\"gridwidth\":2}},\"shapedefaults\":{\"line\":{\"color\":\"#2a3f5f\"}},\"annotationdefaults\":{\"arrowcolor\":\"#2a3f5f\",\"arrowhead\":0,\"arrowwidth\":1},\"geo\":{\"bgcolor\":\"white\",\"landcolor\":\"#E5ECF6\",\"subunitcolor\":\"white\",\"showland\":true,\"showlakes\":true,\"lakecolor\":\"white\"},\"title\":{\"x\":0.05},\"mapbox\":{\"style\":\"light\"}}},\"xaxis\":{\"anchor\":\"y\",\"domain\":[0.0,1.0],\"title\":{\"text\":\"token\"}},\"yaxis\":{\"anchor\":\"x\",\"domain\":[0.0,1.0],\"title\":{\"text\":\"prob\"}},\"legend\":{\"title\":{\"text\":\"dataset\"},\"tracegroupgap\":0},\"margin\":{\"t\":10,\"l\":10,\"r\":10,\"b\":10},\"barmode\":\"group\",\"paper_bgcolor\":\"teal\",\"height\":300},                        {\"responsive\": true}                    ).then(function(){\n",
              "                            \n",
              "var gd = document.getElementById('2af2e1d3-ea71-41f5-9314-ae639cc4d043');\n",
              "var x = new MutationObserver(function (mutations, observer) {{\n",
              "        var display = window.getComputedStyle(gd).display;\n",
              "        if (!display || display === 'none') {{\n",
              "            console.log([gd, 'removed!']);\n",
              "            Plotly.purge(gd);\n",
              "            observer.disconnect();\n",
              "        }}\n",
              "}});\n",
              "\n",
              "// Listen for the removal of the full notebook cells\n",
              "var notebookContainer = gd.closest('#notebook-container');\n",
              "if (notebookContainer) {{\n",
              "    x.observe(notebookContainer, {childList: true});\n",
              "}}\n",
              "\n",
              "// Listen for the clearing of the current output cell\n",
              "var outputEl = gd.closest('.output');\n",
              "if (outputEl) {{\n",
              "    x.observe(outputEl, {childList: true});\n",
              "}}\n",
              "\n",
              "                        })                };                });            </script>        </div>"
            ]
          },
          "metadata": {},
          "output_type": "display_data"
        },
        {
          "data": {
            "application/vnd.plotly.v1+json": {
              "config": {
                "plotlyServerURL": "https://plot.ly"
              },
              "data": [
                {
                  "alignmentgroup": "True",
                  "hovertemplate": "token=%{x}<br>prob=%{y}<extra></extra>",
                  "legendgroup": "",
                  "marker": {
                    "color": "#636efa",
                    "pattern": {
                      "shape": ""
                    }
                  },
                  "name": "",
                  "offsetgroup": "",
                  "orientation": "v",
                  "showlegend": false,
                  "textposition": "auto",
                  "type": "bar",
                  "x": [
                    ",",
                    "the",
                    "i",
                    "of",
                    "on",
                    "to",
                    "they",
                    "and",
                    "even",
                    "see",
                    "show",
                    "he",
                    "my",
                    "like",
                    "series",
                    "horror",
                    "watch",
                    "all",
                    "book",
                    "g",
                    "*",
                    "*",
                    "at",
                    "##s",
                    "movie",
                    "-",
                    "by",
                    "that",
                    "good",
                    "so",
                    "some",
                    "film",
                    "who",
                    ".",
                    "<",
                    "'",
                    "br",
                    ">",
                    "s",
                    "her",
                    "is",
                    "in"
                  ],
                  "xaxis": "x",
                  "y": [
                    -0.0014674658782403219,
                    -0.0006800474115909172,
                    -0.0005558606053023725,
                    -0.00048806727039688025,
                    -0.00047169010181950626,
                    -0.00038769970948190555,
                    -0.0003814588313283602,
                    -0.00037040609734507665,
                    -0.00028870056174955315,
                    -0.0002752278263695885,
                    -0.0002414144964859626,
                    -0.00024020005798238223,
                    -0.0002323638746589687,
                    -0.00023159777707593403,
                    -0.0002197499158885978,
                    -0.00021689192027751097,
                    -0.00021364996869925016,
                    -0.00020773719391433418,
                    -0.0002077203253507702,
                    -0.00020696565327735892,
                    -0.08671682506876893,
                    0.0873235807783101,
                    0.0002525515732870677,
                    0.00025269721175737517,
                    0.0002642958693399623,
                    0.00027292462996828665,
                    0.0002902820876567432,
                    0.000292310140133166,
                    0.00030036723298814023,
                    0.0003007493746040005,
                    0.0003163404877338915,
                    0.0003264069501504102,
                    0.00032743004814518974,
                    0.00033331305776125586,
                    0.0003506159378007436,
                    0.00037039320073979295,
                    0.00037107569105283497,
                    0.00038396587255157266,
                    0.0003974970104292253,
                    0.00041887757149122956,
                    0.00043288823751741305,
                    0.0007231775825794137
                  ],
                  "yaxis": "y"
                }
              ],
              "layout": {
                "barmode": "relative",
                "height": 300,
                "legend": {
                  "tracegroupgap": 0
                },
                "margin": {
                  "b": 10,
                  "l": 10,
                  "r": 10,
                  "t": 10
                },
                "paper_bgcolor": "teal",
                "template": {
                  "data": {
                    "bar": [
                      {
                        "error_x": {
                          "color": "#2a3f5f"
                        },
                        "error_y": {
                          "color": "#2a3f5f"
                        },
                        "marker": {
                          "line": {
                            "color": "#E5ECF6",
                            "width": 0.5
                          },
                          "pattern": {
                            "fillmode": "overlay",
                            "size": 10,
                            "solidity": 0.2
                          }
                        },
                        "type": "bar"
                      }
                    ],
                    "barpolar": [
                      {
                        "marker": {
                          "line": {
                            "color": "#E5ECF6",
                            "width": 0.5
                          },
                          "pattern": {
                            "fillmode": "overlay",
                            "size": 10,
                            "solidity": 0.2
                          }
                        },
                        "type": "barpolar"
                      }
                    ],
                    "carpet": [
                      {
                        "aaxis": {
                          "endlinecolor": "#2a3f5f",
                          "gridcolor": "white",
                          "linecolor": "white",
                          "minorgridcolor": "white",
                          "startlinecolor": "#2a3f5f"
                        },
                        "baxis": {
                          "endlinecolor": "#2a3f5f",
                          "gridcolor": "white",
                          "linecolor": "white",
                          "minorgridcolor": "white",
                          "startlinecolor": "#2a3f5f"
                        },
                        "type": "carpet"
                      }
                    ],
                    "choropleth": [
                      {
                        "colorbar": {
                          "outlinewidth": 0,
                          "ticks": ""
                        },
                        "type": "choropleth"
                      }
                    ],
                    "contour": [
                      {
                        "colorbar": {
                          "outlinewidth": 0,
                          "ticks": ""
                        },
                        "colorscale": [
                          [
                            0,
                            "#0d0887"
                          ],
                          [
                            0.1111111111111111,
                            "#46039f"
                          ],
                          [
                            0.2222222222222222,
                            "#7201a8"
                          ],
                          [
                            0.3333333333333333,
                            "#9c179e"
                          ],
                          [
                            0.4444444444444444,
                            "#bd3786"
                          ],
                          [
                            0.5555555555555556,
                            "#d8576b"
                          ],
                          [
                            0.6666666666666666,
                            "#ed7953"
                          ],
                          [
                            0.7777777777777778,
                            "#fb9f3a"
                          ],
                          [
                            0.8888888888888888,
                            "#fdca26"
                          ],
                          [
                            1,
                            "#f0f921"
                          ]
                        ],
                        "type": "contour"
                      }
                    ],
                    "contourcarpet": [
                      {
                        "colorbar": {
                          "outlinewidth": 0,
                          "ticks": ""
                        },
                        "type": "contourcarpet"
                      }
                    ],
                    "heatmap": [
                      {
                        "colorbar": {
                          "outlinewidth": 0,
                          "ticks": ""
                        },
                        "colorscale": [
                          [
                            0,
                            "#0d0887"
                          ],
                          [
                            0.1111111111111111,
                            "#46039f"
                          ],
                          [
                            0.2222222222222222,
                            "#7201a8"
                          ],
                          [
                            0.3333333333333333,
                            "#9c179e"
                          ],
                          [
                            0.4444444444444444,
                            "#bd3786"
                          ],
                          [
                            0.5555555555555556,
                            "#d8576b"
                          ],
                          [
                            0.6666666666666666,
                            "#ed7953"
                          ],
                          [
                            0.7777777777777778,
                            "#fb9f3a"
                          ],
                          [
                            0.8888888888888888,
                            "#fdca26"
                          ],
                          [
                            1,
                            "#f0f921"
                          ]
                        ],
                        "type": "heatmap"
                      }
                    ],
                    "heatmapgl": [
                      {
                        "colorbar": {
                          "outlinewidth": 0,
                          "ticks": ""
                        },
                        "colorscale": [
                          [
                            0,
                            "#0d0887"
                          ],
                          [
                            0.1111111111111111,
                            "#46039f"
                          ],
                          [
                            0.2222222222222222,
                            "#7201a8"
                          ],
                          [
                            0.3333333333333333,
                            "#9c179e"
                          ],
                          [
                            0.4444444444444444,
                            "#bd3786"
                          ],
                          [
                            0.5555555555555556,
                            "#d8576b"
                          ],
                          [
                            0.6666666666666666,
                            "#ed7953"
                          ],
                          [
                            0.7777777777777778,
                            "#fb9f3a"
                          ],
                          [
                            0.8888888888888888,
                            "#fdca26"
                          ],
                          [
                            1,
                            "#f0f921"
                          ]
                        ],
                        "type": "heatmapgl"
                      }
                    ],
                    "histogram": [
                      {
                        "marker": {
                          "pattern": {
                            "fillmode": "overlay",
                            "size": 10,
                            "solidity": 0.2
                          }
                        },
                        "type": "histogram"
                      }
                    ],
                    "histogram2d": [
                      {
                        "colorbar": {
                          "outlinewidth": 0,
                          "ticks": ""
                        },
                        "colorscale": [
                          [
                            0,
                            "#0d0887"
                          ],
                          [
                            0.1111111111111111,
                            "#46039f"
                          ],
                          [
                            0.2222222222222222,
                            "#7201a8"
                          ],
                          [
                            0.3333333333333333,
                            "#9c179e"
                          ],
                          [
                            0.4444444444444444,
                            "#bd3786"
                          ],
                          [
                            0.5555555555555556,
                            "#d8576b"
                          ],
                          [
                            0.6666666666666666,
                            "#ed7953"
                          ],
                          [
                            0.7777777777777778,
                            "#fb9f3a"
                          ],
                          [
                            0.8888888888888888,
                            "#fdca26"
                          ],
                          [
                            1,
                            "#f0f921"
                          ]
                        ],
                        "type": "histogram2d"
                      }
                    ],
                    "histogram2dcontour": [
                      {
                        "colorbar": {
                          "outlinewidth": 0,
                          "ticks": ""
                        },
                        "colorscale": [
                          [
                            0,
                            "#0d0887"
                          ],
                          [
                            0.1111111111111111,
                            "#46039f"
                          ],
                          [
                            0.2222222222222222,
                            "#7201a8"
                          ],
                          [
                            0.3333333333333333,
                            "#9c179e"
                          ],
                          [
                            0.4444444444444444,
                            "#bd3786"
                          ],
                          [
                            0.5555555555555556,
                            "#d8576b"
                          ],
                          [
                            0.6666666666666666,
                            "#ed7953"
                          ],
                          [
                            0.7777777777777778,
                            "#fb9f3a"
                          ],
                          [
                            0.8888888888888888,
                            "#fdca26"
                          ],
                          [
                            1,
                            "#f0f921"
                          ]
                        ],
                        "type": "histogram2dcontour"
                      }
                    ],
                    "mesh3d": [
                      {
                        "colorbar": {
                          "outlinewidth": 0,
                          "ticks": ""
                        },
                        "type": "mesh3d"
                      }
                    ],
                    "parcoords": [
                      {
                        "line": {
                          "colorbar": {
                            "outlinewidth": 0,
                            "ticks": ""
                          }
                        },
                        "type": "parcoords"
                      }
                    ],
                    "pie": [
                      {
                        "automargin": true,
                        "type": "pie"
                      }
                    ],
                    "scatter": [
                      {
                        "fillpattern": {
                          "fillmode": "overlay",
                          "size": 10,
                          "solidity": 0.2
                        },
                        "type": "scatter"
                      }
                    ],
                    "scatter3d": [
                      {
                        "line": {
                          "colorbar": {
                            "outlinewidth": 0,
                            "ticks": ""
                          }
                        },
                        "marker": {
                          "colorbar": {
                            "outlinewidth": 0,
                            "ticks": ""
                          }
                        },
                        "type": "scatter3d"
                      }
                    ],
                    "scattercarpet": [
                      {
                        "marker": {
                          "colorbar": {
                            "outlinewidth": 0,
                            "ticks": ""
                          }
                        },
                        "type": "scattercarpet"
                      }
                    ],
                    "scattergeo": [
                      {
                        "marker": {
                          "colorbar": {
                            "outlinewidth": 0,
                            "ticks": ""
                          }
                        },
                        "type": "scattergeo"
                      }
                    ],
                    "scattergl": [
                      {
                        "marker": {
                          "colorbar": {
                            "outlinewidth": 0,
                            "ticks": ""
                          }
                        },
                        "type": "scattergl"
                      }
                    ],
                    "scattermapbox": [
                      {
                        "marker": {
                          "colorbar": {
                            "outlinewidth": 0,
                            "ticks": ""
                          }
                        },
                        "type": "scattermapbox"
                      }
                    ],
                    "scatterpolar": [
                      {
                        "marker": {
                          "colorbar": {
                            "outlinewidth": 0,
                            "ticks": ""
                          }
                        },
                        "type": "scatterpolar"
                      }
                    ],
                    "scatterpolargl": [
                      {
                        "marker": {
                          "colorbar": {
                            "outlinewidth": 0,
                            "ticks": ""
                          }
                        },
                        "type": "scatterpolargl"
                      }
                    ],
                    "scatterternary": [
                      {
                        "marker": {
                          "colorbar": {
                            "outlinewidth": 0,
                            "ticks": ""
                          }
                        },
                        "type": "scatterternary"
                      }
                    ],
                    "surface": [
                      {
                        "colorbar": {
                          "outlinewidth": 0,
                          "ticks": ""
                        },
                        "colorscale": [
                          [
                            0,
                            "#0d0887"
                          ],
                          [
                            0.1111111111111111,
                            "#46039f"
                          ],
                          [
                            0.2222222222222222,
                            "#7201a8"
                          ],
                          [
                            0.3333333333333333,
                            "#9c179e"
                          ],
                          [
                            0.4444444444444444,
                            "#bd3786"
                          ],
                          [
                            0.5555555555555556,
                            "#d8576b"
                          ],
                          [
                            0.6666666666666666,
                            "#ed7953"
                          ],
                          [
                            0.7777777777777778,
                            "#fb9f3a"
                          ],
                          [
                            0.8888888888888888,
                            "#fdca26"
                          ],
                          [
                            1,
                            "#f0f921"
                          ]
                        ],
                        "type": "surface"
                      }
                    ],
                    "table": [
                      {
                        "cells": {
                          "fill": {
                            "color": "#EBF0F8"
                          },
                          "line": {
                            "color": "white"
                          }
                        },
                        "header": {
                          "fill": {
                            "color": "#C8D4E3"
                          },
                          "line": {
                            "color": "white"
                          }
                        },
                        "type": "table"
                      }
                    ]
                  },
                  "layout": {
                    "annotationdefaults": {
                      "arrowcolor": "#2a3f5f",
                      "arrowhead": 0,
                      "arrowwidth": 1
                    },
                    "autotypenumbers": "strict",
                    "coloraxis": {
                      "colorbar": {
                        "outlinewidth": 0,
                        "ticks": ""
                      }
                    },
                    "colorscale": {
                      "diverging": [
                        [
                          0,
                          "#8e0152"
                        ],
                        [
                          0.1,
                          "#c51b7d"
                        ],
                        [
                          0.2,
                          "#de77ae"
                        ],
                        [
                          0.3,
                          "#f1b6da"
                        ],
                        [
                          0.4,
                          "#fde0ef"
                        ],
                        [
                          0.5,
                          "#f7f7f7"
                        ],
                        [
                          0.6,
                          "#e6f5d0"
                        ],
                        [
                          0.7,
                          "#b8e186"
                        ],
                        [
                          0.8,
                          "#7fbc41"
                        ],
                        [
                          0.9,
                          "#4d9221"
                        ],
                        [
                          1,
                          "#276419"
                        ]
                      ],
                      "sequential": [
                        [
                          0,
                          "#0d0887"
                        ],
                        [
                          0.1111111111111111,
                          "#46039f"
                        ],
                        [
                          0.2222222222222222,
                          "#7201a8"
                        ],
                        [
                          0.3333333333333333,
                          "#9c179e"
                        ],
                        [
                          0.4444444444444444,
                          "#bd3786"
                        ],
                        [
                          0.5555555555555556,
                          "#d8576b"
                        ],
                        [
                          0.6666666666666666,
                          "#ed7953"
                        ],
                        [
                          0.7777777777777778,
                          "#fb9f3a"
                        ],
                        [
                          0.8888888888888888,
                          "#fdca26"
                        ],
                        [
                          1,
                          "#f0f921"
                        ]
                      ],
                      "sequentialminus": [
                        [
                          0,
                          "#0d0887"
                        ],
                        [
                          0.1111111111111111,
                          "#46039f"
                        ],
                        [
                          0.2222222222222222,
                          "#7201a8"
                        ],
                        [
                          0.3333333333333333,
                          "#9c179e"
                        ],
                        [
                          0.4444444444444444,
                          "#bd3786"
                        ],
                        [
                          0.5555555555555556,
                          "#d8576b"
                        ],
                        [
                          0.6666666666666666,
                          "#ed7953"
                        ],
                        [
                          0.7777777777777778,
                          "#fb9f3a"
                        ],
                        [
                          0.8888888888888888,
                          "#fdca26"
                        ],
                        [
                          1,
                          "#f0f921"
                        ]
                      ]
                    },
                    "colorway": [
                      "#636efa",
                      "#EF553B",
                      "#00cc96",
                      "#ab63fa",
                      "#FFA15A",
                      "#19d3f3",
                      "#FF6692",
                      "#B6E880",
                      "#FF97FF",
                      "#FECB52"
                    ],
                    "font": {
                      "color": "#2a3f5f"
                    },
                    "geo": {
                      "bgcolor": "white",
                      "lakecolor": "white",
                      "landcolor": "#E5ECF6",
                      "showlakes": true,
                      "showland": true,
                      "subunitcolor": "white"
                    },
                    "hoverlabel": {
                      "align": "left"
                    },
                    "hovermode": "closest",
                    "mapbox": {
                      "style": "light"
                    },
                    "paper_bgcolor": "white",
                    "plot_bgcolor": "#E5ECF6",
                    "polar": {
                      "angularaxis": {
                        "gridcolor": "white",
                        "linecolor": "white",
                        "ticks": ""
                      },
                      "bgcolor": "#E5ECF6",
                      "radialaxis": {
                        "gridcolor": "white",
                        "linecolor": "white",
                        "ticks": ""
                      }
                    },
                    "scene": {
                      "xaxis": {
                        "backgroundcolor": "#E5ECF6",
                        "gridcolor": "white",
                        "gridwidth": 2,
                        "linecolor": "white",
                        "showbackground": true,
                        "ticks": "",
                        "zerolinecolor": "white"
                      },
                      "yaxis": {
                        "backgroundcolor": "#E5ECF6",
                        "gridcolor": "white",
                        "gridwidth": 2,
                        "linecolor": "white",
                        "showbackground": true,
                        "ticks": "",
                        "zerolinecolor": "white"
                      },
                      "zaxis": {
                        "backgroundcolor": "#E5ECF6",
                        "gridcolor": "white",
                        "gridwidth": 2,
                        "linecolor": "white",
                        "showbackground": true,
                        "ticks": "",
                        "zerolinecolor": "white"
                      }
                    },
                    "shapedefaults": {
                      "line": {
                        "color": "#2a3f5f"
                      }
                    },
                    "ternary": {
                      "aaxis": {
                        "gridcolor": "white",
                        "linecolor": "white",
                        "ticks": ""
                      },
                      "baxis": {
                        "gridcolor": "white",
                        "linecolor": "white",
                        "ticks": ""
                      },
                      "bgcolor": "#E5ECF6",
                      "caxis": {
                        "gridcolor": "white",
                        "linecolor": "white",
                        "ticks": ""
                      }
                    },
                    "title": {
                      "x": 0.05
                    },
                    "xaxis": {
                      "automargin": true,
                      "gridcolor": "white",
                      "linecolor": "white",
                      "ticks": "",
                      "title": {
                        "standoff": 15
                      },
                      "zerolinecolor": "white",
                      "zerolinewidth": 2
                    },
                    "yaxis": {
                      "automargin": true,
                      "gridcolor": "white",
                      "linecolor": "white",
                      "ticks": "",
                      "title": {
                        "standoff": 15
                      },
                      "zerolinecolor": "white",
                      "zerolinewidth": 2
                    }
                  }
                },
                "xaxis": {
                  "anchor": "y",
                  "domain": [
                    0,
                    1
                  ],
                  "title": {
                    "text": "token"
                  }
                },
                "yaxis": {
                  "anchor": "x",
                  "domain": [
                    0,
                    1
                  ],
                  "title": {
                    "text": "prob"
                  }
                }
              }
            },
            "text/html": [
              "<div>                            <div id=\"2b3841bb-8c7e-4f48-89f9-71669a3a06a7\" class=\"plotly-graph-div\" style=\"height:300px; width:100%;\"></div>            <script type=\"text/javascript\">                require([\"plotly\"], function(Plotly) {                    window.PLOTLYENV=window.PLOTLYENV || {};                                    if (document.getElementById(\"2b3841bb-8c7e-4f48-89f9-71669a3a06a7\")) {                    Plotly.newPlot(                        \"2b3841bb-8c7e-4f48-89f9-71669a3a06a7\",                        [{\"alignmentgroup\":\"True\",\"hovertemplate\":\"token=%{x}<br>prob=%{y}<extra></extra>\",\"legendgroup\":\"\",\"marker\":{\"color\":\"#636efa\",\"pattern\":{\"shape\":\"\"}},\"name\":\"\",\"offsetgroup\":\"\",\"orientation\":\"v\",\"showlegend\":false,\"textposition\":\"auto\",\"x\":[\",\",\"the\",\"i\",\"of\",\"on\",\"to\",\"they\",\"and\",\"even\",\"see\",\"show\",\"he\",\"my\",\"like\",\"series\",\"horror\",\"watch\",\"all\",\"book\",\"g\",\"*\",\"*\",\"at\",\"##s\",\"movie\",\"-\",\"by\",\"that\",\"good\",\"so\",\"some\",\"film\",\"who\",\".\",\"<\",\"'\",\"br\",\">\",\"s\",\"her\",\"is\",\"in\"],\"xaxis\":\"x\",\"y\":[-0.0014674658782403219,-0.0006800474115909172,-0.0005558606053023725,-0.00048806727039688025,-0.00047169010181950626,-0.00038769970948190555,-0.0003814588313283602,-0.00037040609734507665,-0.00028870056174955315,-0.0002752278263695885,-0.0002414144964859626,-0.00024020005798238223,-0.0002323638746589687,-0.00023159777707593403,-0.0002197499158885978,-0.00021689192027751097,-0.00021364996869925016,-0.00020773719391433418,-0.0002077203253507702,-0.00020696565327735892,-0.08671682506876893,0.0873235807783101,0.0002525515732870677,0.00025269721175737517,0.0002642958693399623,0.00027292462996828665,0.0002902820876567432,0.000292310140133166,0.00030036723298814023,0.0003007493746040005,0.0003163404877338915,0.0003264069501504102,0.00032743004814518974,0.00033331305776125586,0.0003506159378007436,0.00037039320073979295,0.00037107569105283497,0.00038396587255157266,0.0003974970104292253,0.00041887757149122956,0.00043288823751741305,0.0007231775825794137],\"yaxis\":\"y\",\"type\":\"bar\"}],                        {\"template\":{\"data\":{\"histogram2dcontour\":[{\"type\":\"histogram2dcontour\",\"colorbar\":{\"outlinewidth\":0,\"ticks\":\"\"},\"colorscale\":[[0.0,\"#0d0887\"],[0.1111111111111111,\"#46039f\"],[0.2222222222222222,\"#7201a8\"],[0.3333333333333333,\"#9c179e\"],[0.4444444444444444,\"#bd3786\"],[0.5555555555555556,\"#d8576b\"],[0.6666666666666666,\"#ed7953\"],[0.7777777777777778,\"#fb9f3a\"],[0.8888888888888888,\"#fdca26\"],[1.0,\"#f0f921\"]]}],\"choropleth\":[{\"type\":\"choropleth\",\"colorbar\":{\"outlinewidth\":0,\"ticks\":\"\"}}],\"histogram2d\":[{\"type\":\"histogram2d\",\"colorbar\":{\"outlinewidth\":0,\"ticks\":\"\"},\"colorscale\":[[0.0,\"#0d0887\"],[0.1111111111111111,\"#46039f\"],[0.2222222222222222,\"#7201a8\"],[0.3333333333333333,\"#9c179e\"],[0.4444444444444444,\"#bd3786\"],[0.5555555555555556,\"#d8576b\"],[0.6666666666666666,\"#ed7953\"],[0.7777777777777778,\"#fb9f3a\"],[0.8888888888888888,\"#fdca26\"],[1.0,\"#f0f921\"]]}],\"heatmap\":[{\"type\":\"heatmap\",\"colorbar\":{\"outlinewidth\":0,\"ticks\":\"\"},\"colorscale\":[[0.0,\"#0d0887\"],[0.1111111111111111,\"#46039f\"],[0.2222222222222222,\"#7201a8\"],[0.3333333333333333,\"#9c179e\"],[0.4444444444444444,\"#bd3786\"],[0.5555555555555556,\"#d8576b\"],[0.6666666666666666,\"#ed7953\"],[0.7777777777777778,\"#fb9f3a\"],[0.8888888888888888,\"#fdca26\"],[1.0,\"#f0f921\"]]}],\"heatmapgl\":[{\"type\":\"heatmapgl\",\"colorbar\":{\"outlinewidth\":0,\"ticks\":\"\"},\"colorscale\":[[0.0,\"#0d0887\"],[0.1111111111111111,\"#46039f\"],[0.2222222222222222,\"#7201a8\"],[0.3333333333333333,\"#9c179e\"],[0.4444444444444444,\"#bd3786\"],[0.5555555555555556,\"#d8576b\"],[0.6666666666666666,\"#ed7953\"],[0.7777777777777778,\"#fb9f3a\"],[0.8888888888888888,\"#fdca26\"],[1.0,\"#f0f921\"]]}],\"contourcarpet\":[{\"type\":\"contourcarpet\",\"colorbar\":{\"outlinewidth\":0,\"ticks\":\"\"}}],\"contour\":[{\"type\":\"contour\",\"colorbar\":{\"outlinewidth\":0,\"ticks\":\"\"},\"colorscale\":[[0.0,\"#0d0887\"],[0.1111111111111111,\"#46039f\"],[0.2222222222222222,\"#7201a8\"],[0.3333333333333333,\"#9c179e\"],[0.4444444444444444,\"#bd3786\"],[0.5555555555555556,\"#d8576b\"],[0.6666666666666666,\"#ed7953\"],[0.7777777777777778,\"#fb9f3a\"],[0.8888888888888888,\"#fdca26\"],[1.0,\"#f0f921\"]]}],\"surface\":[{\"type\":\"surface\",\"colorbar\":{\"outlinewidth\":0,\"ticks\":\"\"},\"colorscale\":[[0.0,\"#0d0887\"],[0.1111111111111111,\"#46039f\"],[0.2222222222222222,\"#7201a8\"],[0.3333333333333333,\"#9c179e\"],[0.4444444444444444,\"#bd3786\"],[0.5555555555555556,\"#d8576b\"],[0.6666666666666666,\"#ed7953\"],[0.7777777777777778,\"#fb9f3a\"],[0.8888888888888888,\"#fdca26\"],[1.0,\"#f0f921\"]]}],\"mesh3d\":[{\"type\":\"mesh3d\",\"colorbar\":{\"outlinewidth\":0,\"ticks\":\"\"}}],\"scatter\":[{\"fillpattern\":{\"fillmode\":\"overlay\",\"size\":10,\"solidity\":0.2},\"type\":\"scatter\"}],\"parcoords\":[{\"type\":\"parcoords\",\"line\":{\"colorbar\":{\"outlinewidth\":0,\"ticks\":\"\"}}}],\"scatterpolargl\":[{\"type\":\"scatterpolargl\",\"marker\":{\"colorbar\":{\"outlinewidth\":0,\"ticks\":\"\"}}}],\"bar\":[{\"error_x\":{\"color\":\"#2a3f5f\"},\"error_y\":{\"color\":\"#2a3f5f\"},\"marker\":{\"line\":{\"color\":\"#E5ECF6\",\"width\":0.5},\"pattern\":{\"fillmode\":\"overlay\",\"size\":10,\"solidity\":0.2}},\"type\":\"bar\"}],\"scattergeo\":[{\"type\":\"scattergeo\",\"marker\":{\"colorbar\":{\"outlinewidth\":0,\"ticks\":\"\"}}}],\"scatterpolar\":[{\"type\":\"scatterpolar\",\"marker\":{\"colorbar\":{\"outlinewidth\":0,\"ticks\":\"\"}}}],\"histogram\":[{\"marker\":{\"pattern\":{\"fillmode\":\"overlay\",\"size\":10,\"solidity\":0.2}},\"type\":\"histogram\"}],\"scattergl\":[{\"type\":\"scattergl\",\"marker\":{\"colorbar\":{\"outlinewidth\":0,\"ticks\":\"\"}}}],\"scatter3d\":[{\"type\":\"scatter3d\",\"line\":{\"colorbar\":{\"outlinewidth\":0,\"ticks\":\"\"}},\"marker\":{\"colorbar\":{\"outlinewidth\":0,\"ticks\":\"\"}}}],\"scattermapbox\":[{\"type\":\"scattermapbox\",\"marker\":{\"colorbar\":{\"outlinewidth\":0,\"ticks\":\"\"}}}],\"scatterternary\":[{\"type\":\"scatterternary\",\"marker\":{\"colorbar\":{\"outlinewidth\":0,\"ticks\":\"\"}}}],\"scattercarpet\":[{\"type\":\"scattercarpet\",\"marker\":{\"colorbar\":{\"outlinewidth\":0,\"ticks\":\"\"}}}],\"carpet\":[{\"aaxis\":{\"endlinecolor\":\"#2a3f5f\",\"gridcolor\":\"white\",\"linecolor\":\"white\",\"minorgridcolor\":\"white\",\"startlinecolor\":\"#2a3f5f\"},\"baxis\":{\"endlinecolor\":\"#2a3f5f\",\"gridcolor\":\"white\",\"linecolor\":\"white\",\"minorgridcolor\":\"white\",\"startlinecolor\":\"#2a3f5f\"},\"type\":\"carpet\"}],\"table\":[{\"cells\":{\"fill\":{\"color\":\"#EBF0F8\"},\"line\":{\"color\":\"white\"}},\"header\":{\"fill\":{\"color\":\"#C8D4E3\"},\"line\":{\"color\":\"white\"}},\"type\":\"table\"}],\"barpolar\":[{\"marker\":{\"line\":{\"color\":\"#E5ECF6\",\"width\":0.5},\"pattern\":{\"fillmode\":\"overlay\",\"size\":10,\"solidity\":0.2}},\"type\":\"barpolar\"}],\"pie\":[{\"automargin\":true,\"type\":\"pie\"}]},\"layout\":{\"autotypenumbers\":\"strict\",\"colorway\":[\"#636efa\",\"#EF553B\",\"#00cc96\",\"#ab63fa\",\"#FFA15A\",\"#19d3f3\",\"#FF6692\",\"#B6E880\",\"#FF97FF\",\"#FECB52\"],\"font\":{\"color\":\"#2a3f5f\"},\"hovermode\":\"closest\",\"hoverlabel\":{\"align\":\"left\"},\"paper_bgcolor\":\"white\",\"plot_bgcolor\":\"#E5ECF6\",\"polar\":{\"bgcolor\":\"#E5ECF6\",\"angularaxis\":{\"gridcolor\":\"white\",\"linecolor\":\"white\",\"ticks\":\"\"},\"radialaxis\":{\"gridcolor\":\"white\",\"linecolor\":\"white\",\"ticks\":\"\"}},\"ternary\":{\"bgcolor\":\"#E5ECF6\",\"aaxis\":{\"gridcolor\":\"white\",\"linecolor\":\"white\",\"ticks\":\"\"},\"baxis\":{\"gridcolor\":\"white\",\"linecolor\":\"white\",\"ticks\":\"\"},\"caxis\":{\"gridcolor\":\"white\",\"linecolor\":\"white\",\"ticks\":\"\"}},\"coloraxis\":{\"colorbar\":{\"outlinewidth\":0,\"ticks\":\"\"}},\"colorscale\":{\"sequential\":[[0.0,\"#0d0887\"],[0.1111111111111111,\"#46039f\"],[0.2222222222222222,\"#7201a8\"],[0.3333333333333333,\"#9c179e\"],[0.4444444444444444,\"#bd3786\"],[0.5555555555555556,\"#d8576b\"],[0.6666666666666666,\"#ed7953\"],[0.7777777777777778,\"#fb9f3a\"],[0.8888888888888888,\"#fdca26\"],[1.0,\"#f0f921\"]],\"sequentialminus\":[[0.0,\"#0d0887\"],[0.1111111111111111,\"#46039f\"],[0.2222222222222222,\"#7201a8\"],[0.3333333333333333,\"#9c179e\"],[0.4444444444444444,\"#bd3786\"],[0.5555555555555556,\"#d8576b\"],[0.6666666666666666,\"#ed7953\"],[0.7777777777777778,\"#fb9f3a\"],[0.8888888888888888,\"#fdca26\"],[1.0,\"#f0f921\"]],\"diverging\":[[0,\"#8e0152\"],[0.1,\"#c51b7d\"],[0.2,\"#de77ae\"],[0.3,\"#f1b6da\"],[0.4,\"#fde0ef\"],[0.5,\"#f7f7f7\"],[0.6,\"#e6f5d0\"],[0.7,\"#b8e186\"],[0.8,\"#7fbc41\"],[0.9,\"#4d9221\"],[1,\"#276419\"]]},\"xaxis\":{\"gridcolor\":\"white\",\"linecolor\":\"white\",\"ticks\":\"\",\"title\":{\"standoff\":15},\"zerolinecolor\":\"white\",\"automargin\":true,\"zerolinewidth\":2},\"yaxis\":{\"gridcolor\":\"white\",\"linecolor\":\"white\",\"ticks\":\"\",\"title\":{\"standoff\":15},\"zerolinecolor\":\"white\",\"automargin\":true,\"zerolinewidth\":2},\"scene\":{\"xaxis\":{\"backgroundcolor\":\"#E5ECF6\",\"gridcolor\":\"white\",\"linecolor\":\"white\",\"showbackground\":true,\"ticks\":\"\",\"zerolinecolor\":\"white\",\"gridwidth\":2},\"yaxis\":{\"backgroundcolor\":\"#E5ECF6\",\"gridcolor\":\"white\",\"linecolor\":\"white\",\"showbackground\":true,\"ticks\":\"\",\"zerolinecolor\":\"white\",\"gridwidth\":2},\"zaxis\":{\"backgroundcolor\":\"#E5ECF6\",\"gridcolor\":\"white\",\"linecolor\":\"white\",\"showbackground\":true,\"ticks\":\"\",\"zerolinecolor\":\"white\",\"gridwidth\":2}},\"shapedefaults\":{\"line\":{\"color\":\"#2a3f5f\"}},\"annotationdefaults\":{\"arrowcolor\":\"#2a3f5f\",\"arrowhead\":0,\"arrowwidth\":1},\"geo\":{\"bgcolor\":\"white\",\"landcolor\":\"#E5ECF6\",\"subunitcolor\":\"white\",\"showland\":true,\"showlakes\":true,\"lakecolor\":\"white\"},\"title\":{\"x\":0.05},\"mapbox\":{\"style\":\"light\"}}},\"xaxis\":{\"anchor\":\"y\",\"domain\":[0.0,1.0],\"title\":{\"text\":\"token\"}},\"yaxis\":{\"anchor\":\"x\",\"domain\":[0.0,1.0],\"title\":{\"text\":\"prob\"}},\"legend\":{\"tracegroupgap\":0},\"margin\":{\"t\":10,\"l\":10,\"r\":10,\"b\":10},\"barmode\":\"relative\",\"paper_bgcolor\":\"teal\",\"height\":300},                        {\"responsive\": true}                    ).then(function(){\n",
              "                            \n",
              "var gd = document.getElementById('2b3841bb-8c7e-4f48-89f9-71669a3a06a7');\n",
              "var x = new MutationObserver(function (mutations, observer) {{\n",
              "        var display = window.getComputedStyle(gd).display;\n",
              "        if (!display || display === 'none') {{\n",
              "            console.log([gd, 'removed!']);\n",
              "            Plotly.purge(gd);\n",
              "            observer.disconnect();\n",
              "        }}\n",
              "}});\n",
              "\n",
              "// Listen for the removal of the full notebook cells\n",
              "var notebookContainer = gd.closest('#notebook-container');\n",
              "if (notebookContainer) {{\n",
              "    x.observe(notebookContainer, {childList: true});\n",
              "}}\n",
              "\n",
              "// Listen for the clearing of the current output cell\n",
              "var outputEl = gd.closest('.output');\n",
              "if (outputEl) {{\n",
              "    x.observe(outputEl, {childList: true});\n",
              "}}\n",
              "\n",
              "                        })                };                });            </script>        </div>"
            ]
          },
          "metadata": {},
          "output_type": "display_data"
        }
      ],
      "source": [
        "# DATA\n",
        "c1, d1 = dists_of_texts(imdb_train['text'][:n])\n",
        "c2, d2 = dists_of_texts(imdb_test['text'][:n])\n",
        "top = tops_of_dists(c1 - c2, d1 - d2, n=20)\n",
        "\n",
        "# DATA\n",
        "plotdist(d1=d1, d2=d2, top=top, l1='imdb train', l2='imdb test')"
      ]
    },
    {
      "cell_type": "markdown",
      "metadata": {
        "id": "u2oHZBJt8cmz"
      },
      "source": [
        "## Embedding distribution drift"
      ]
    },
    {
      "cell_type": "markdown",
      "metadata": {
        "id": "qOF2Mwyq2XUf"
      },
      "source": [
        "### Skip: Details"
      ]
    },
    {
      "cell_type": "code",
      "execution_count": 62,
      "metadata": {
        "id": "nlZIYs-d8cm0"
      },
      "outputs": [],
      "source": [
        "# DATA\n",
        "c1, d1 = dists_of_texts(rotten_train['text'][:n])\n",
        "c2, d2 = dists_of_texts(imdb_train['text'][:n])\n",
        "\n",
        "data1 = dict(prob=d1, token_id=range(Model.vocab_size))\n",
        "data1.update({f\"dim{did}\": Model.embeddings[:, did] for did in range(Model.embedding_size)})\n",
        "df1 = pd.DataFrame(data1)\n",
        "\n",
        "data2 = dict(prob=d2, token_id=range(Model.vocab_size))\n",
        "data2.update({f\"dim{did}\": Model.embeddings[:, did] for did in range(Model.embedding_size)})\n",
        "df2 = pd.DataFrame(data2)\n",
        "\n",
        "def show_hists(\n",
        "    s1: pd.Series, s2: pd.Series, df1: pd.DataFrame, df2: pd.DataFrame,\n",
        "    title: str\n",
        ") -> None:\n",
        "    counts1, bin_edges = np.histogram(s1, bins=20, weights=df1.prob.values)\n",
        "    counts2, _ = np.histogram(s2, bins=bin_edges, weights=df2.prob.values)\n",
        "\n",
        "    fig = go.Figure(layout=dict(title=title, **plotly_layout2))\n",
        "    fig.update_layout(xaxis_title=\"Dimension's value\", yaxis_title=\"Density\")\n",
        "    # DATA\n",
        "    bar1 = fig.add_bar(x=bin_edges, y=counts1, name=\"rotten\")\n",
        "    bar2 = fig.add_bar(x=bin_edges, y=counts2, name=\"imdb\")\n",
        "\n",
        "    display(fig)"
      ]
    },
    {
      "cell_type": "markdown",
      "metadata": {
        "id": "qRm7ZKIp2Y6s"
      },
      "source": [
        "### Playground: Embedding distribution shift"
      ]
    },
    {
      "cell_type": "code",
      "execution_count": 63,
      "metadata": {
        "id": "c_pKegDP8cm0"
      },
      "outputs": [
        {
          "data": {
            "application/vnd.jupyter.widget-view+json": {
              "model_id": "6073f2b77c824013b999bc2843b027f8",
              "version_major": 2,
              "version_minor": 0
            },
            "text/plain": [
              "interactive(children=(IntSlider(value=0, description='dim', layout=Layout(border='10px solid teal', margin='0p…"
            ]
          },
          "metadata": {},
          "output_type": "display_data"
        },
        {
          "data": {
            "application/vnd.plotly.v1+json": {
              "config": {
                "plotlyServerURL": "https://plot.ly"
              },
              "data": [
                {
                  "name": "rotten",
                  "type": "bar",
                  "x": [
                    -0.2061370313167572,
                    -0.18975526094436646,
                    -0.17337347567081451,
                    -0.15699170529842377,
                    -0.14060993492603302,
                    -0.12422814965248108,
                    -0.10784637928009033,
                    -0.09146460145711899,
                    -0.07508282363414764,
                    -0.0587010495364666,
                    -0.04231927543878555,
                    -0.025937499478459358,
                    -0.009555724449455738,
                    0.006826051510870457,
                    0.023207826539874077,
                    0.03958960250020027,
                    0.05597137659788132,
                    0.07235315442085266,
                    0.088734932243824,
                    0.10511670261621475,
                    0.1214984804391861
                  ],
                  "y": [
                    0.00009205560158335634,
                    0.0001657000828500414,
                    0.0003129890453834115,
                    0.0004971002485501242,
                    0.002816901408450707,
                    0.007382859246985165,
                    0.014287029365736842,
                    0.03831354137899288,
                    0.05696400625978058,
                    0.17921384516247535,
                    0.1616312252600543,
                    0.22660406885758688,
                    0.11315474546626014,
                    0.09286569087728888,
                    0.038368774739942865,
                    0.05965202982601482,
                    0.006315014268618243,
                    0.0010494338580502624,
                    0.00027616680475006904,
                    0.00003682224063334254
                  ]
                },
                {
                  "name": "imdb",
                  "type": "bar",
                  "x": [
                    -0.2061370313167572,
                    -0.18975526094436646,
                    -0.17337347567081451,
                    -0.15699170529842377,
                    -0.14060993492603302,
                    -0.12422814965248108,
                    -0.10784637928009033,
                    -0.09146460145711899,
                    -0.07508282363414764,
                    -0.0587010495364666,
                    -0.04231927543878555,
                    -0.025937499478459358,
                    -0.009555724449455738,
                    0.006826051510870457,
                    0.023207826539874077,
                    0.03958960250020027,
                    0.05597137659788132,
                    0.07235315442085266,
                    0.088734932243824,
                    0.10511670261621475,
                    0.1214984804391861
                  ],
                  "y": [
                    0.00002421805940689973,
                    0.0001170539538000153,
                    0.0002421805940689972,
                    0.000791123273958724,
                    0.0014773016238208854,
                    0.006478330891345654,
                    0.012092884330512057,
                    0.033243322879204534,
                    0.05137861303173643,
                    0.18596644184234287,
                    0.16178067318131617,
                    0.2363440417519641,
                    0.10891668583933001,
                    0.11334455436755009,
                    0.045114208331832995,
                    0.03741690178366619,
                    0.003935434653623782,
                    0.001142285135359411,
                    0.0001453083564419977,
                    0.00004843611881411025
                  ]
                }
              ],
              "layout": {
                "margin": {
                  "b": 10,
                  "l": 10,
                  "r": 10,
                  "t": 60
                },
                "paper_bgcolor": "teal",
                "template": {
                  "data": {
                    "bar": [
                      {
                        "error_x": {
                          "color": "#2a3f5f"
                        },
                        "error_y": {
                          "color": "#2a3f5f"
                        },
                        "marker": {
                          "line": {
                            "color": "#E5ECF6",
                            "width": 0.5
                          },
                          "pattern": {
                            "fillmode": "overlay",
                            "size": 10,
                            "solidity": 0.2
                          }
                        },
                        "type": "bar"
                      }
                    ],
                    "barpolar": [
                      {
                        "marker": {
                          "line": {
                            "color": "#E5ECF6",
                            "width": 0.5
                          },
                          "pattern": {
                            "fillmode": "overlay",
                            "size": 10,
                            "solidity": 0.2
                          }
                        },
                        "type": "barpolar"
                      }
                    ],
                    "carpet": [
                      {
                        "aaxis": {
                          "endlinecolor": "#2a3f5f",
                          "gridcolor": "white",
                          "linecolor": "white",
                          "minorgridcolor": "white",
                          "startlinecolor": "#2a3f5f"
                        },
                        "baxis": {
                          "endlinecolor": "#2a3f5f",
                          "gridcolor": "white",
                          "linecolor": "white",
                          "minorgridcolor": "white",
                          "startlinecolor": "#2a3f5f"
                        },
                        "type": "carpet"
                      }
                    ],
                    "choropleth": [
                      {
                        "colorbar": {
                          "outlinewidth": 0,
                          "ticks": ""
                        },
                        "type": "choropleth"
                      }
                    ],
                    "contour": [
                      {
                        "colorbar": {
                          "outlinewidth": 0,
                          "ticks": ""
                        },
                        "colorscale": [
                          [
                            0,
                            "#0d0887"
                          ],
                          [
                            0.1111111111111111,
                            "#46039f"
                          ],
                          [
                            0.2222222222222222,
                            "#7201a8"
                          ],
                          [
                            0.3333333333333333,
                            "#9c179e"
                          ],
                          [
                            0.4444444444444444,
                            "#bd3786"
                          ],
                          [
                            0.5555555555555556,
                            "#d8576b"
                          ],
                          [
                            0.6666666666666666,
                            "#ed7953"
                          ],
                          [
                            0.7777777777777778,
                            "#fb9f3a"
                          ],
                          [
                            0.8888888888888888,
                            "#fdca26"
                          ],
                          [
                            1,
                            "#f0f921"
                          ]
                        ],
                        "type": "contour"
                      }
                    ],
                    "contourcarpet": [
                      {
                        "colorbar": {
                          "outlinewidth": 0,
                          "ticks": ""
                        },
                        "type": "contourcarpet"
                      }
                    ],
                    "heatmap": [
                      {
                        "colorbar": {
                          "outlinewidth": 0,
                          "ticks": ""
                        },
                        "colorscale": [
                          [
                            0,
                            "#0d0887"
                          ],
                          [
                            0.1111111111111111,
                            "#46039f"
                          ],
                          [
                            0.2222222222222222,
                            "#7201a8"
                          ],
                          [
                            0.3333333333333333,
                            "#9c179e"
                          ],
                          [
                            0.4444444444444444,
                            "#bd3786"
                          ],
                          [
                            0.5555555555555556,
                            "#d8576b"
                          ],
                          [
                            0.6666666666666666,
                            "#ed7953"
                          ],
                          [
                            0.7777777777777778,
                            "#fb9f3a"
                          ],
                          [
                            0.8888888888888888,
                            "#fdca26"
                          ],
                          [
                            1,
                            "#f0f921"
                          ]
                        ],
                        "type": "heatmap"
                      }
                    ],
                    "heatmapgl": [
                      {
                        "colorbar": {
                          "outlinewidth": 0,
                          "ticks": ""
                        },
                        "colorscale": [
                          [
                            0,
                            "#0d0887"
                          ],
                          [
                            0.1111111111111111,
                            "#46039f"
                          ],
                          [
                            0.2222222222222222,
                            "#7201a8"
                          ],
                          [
                            0.3333333333333333,
                            "#9c179e"
                          ],
                          [
                            0.4444444444444444,
                            "#bd3786"
                          ],
                          [
                            0.5555555555555556,
                            "#d8576b"
                          ],
                          [
                            0.6666666666666666,
                            "#ed7953"
                          ],
                          [
                            0.7777777777777778,
                            "#fb9f3a"
                          ],
                          [
                            0.8888888888888888,
                            "#fdca26"
                          ],
                          [
                            1,
                            "#f0f921"
                          ]
                        ],
                        "type": "heatmapgl"
                      }
                    ],
                    "histogram": [
                      {
                        "marker": {
                          "pattern": {
                            "fillmode": "overlay",
                            "size": 10,
                            "solidity": 0.2
                          }
                        },
                        "type": "histogram"
                      }
                    ],
                    "histogram2d": [
                      {
                        "colorbar": {
                          "outlinewidth": 0,
                          "ticks": ""
                        },
                        "colorscale": [
                          [
                            0,
                            "#0d0887"
                          ],
                          [
                            0.1111111111111111,
                            "#46039f"
                          ],
                          [
                            0.2222222222222222,
                            "#7201a8"
                          ],
                          [
                            0.3333333333333333,
                            "#9c179e"
                          ],
                          [
                            0.4444444444444444,
                            "#bd3786"
                          ],
                          [
                            0.5555555555555556,
                            "#d8576b"
                          ],
                          [
                            0.6666666666666666,
                            "#ed7953"
                          ],
                          [
                            0.7777777777777778,
                            "#fb9f3a"
                          ],
                          [
                            0.8888888888888888,
                            "#fdca26"
                          ],
                          [
                            1,
                            "#f0f921"
                          ]
                        ],
                        "type": "histogram2d"
                      }
                    ],
                    "histogram2dcontour": [
                      {
                        "colorbar": {
                          "outlinewidth": 0,
                          "ticks": ""
                        },
                        "colorscale": [
                          [
                            0,
                            "#0d0887"
                          ],
                          [
                            0.1111111111111111,
                            "#46039f"
                          ],
                          [
                            0.2222222222222222,
                            "#7201a8"
                          ],
                          [
                            0.3333333333333333,
                            "#9c179e"
                          ],
                          [
                            0.4444444444444444,
                            "#bd3786"
                          ],
                          [
                            0.5555555555555556,
                            "#d8576b"
                          ],
                          [
                            0.6666666666666666,
                            "#ed7953"
                          ],
                          [
                            0.7777777777777778,
                            "#fb9f3a"
                          ],
                          [
                            0.8888888888888888,
                            "#fdca26"
                          ],
                          [
                            1,
                            "#f0f921"
                          ]
                        ],
                        "type": "histogram2dcontour"
                      }
                    ],
                    "mesh3d": [
                      {
                        "colorbar": {
                          "outlinewidth": 0,
                          "ticks": ""
                        },
                        "type": "mesh3d"
                      }
                    ],
                    "parcoords": [
                      {
                        "line": {
                          "colorbar": {
                            "outlinewidth": 0,
                            "ticks": ""
                          }
                        },
                        "type": "parcoords"
                      }
                    ],
                    "pie": [
                      {
                        "automargin": true,
                        "type": "pie"
                      }
                    ],
                    "scatter": [
                      {
                        "fillpattern": {
                          "fillmode": "overlay",
                          "size": 10,
                          "solidity": 0.2
                        },
                        "type": "scatter"
                      }
                    ],
                    "scatter3d": [
                      {
                        "line": {
                          "colorbar": {
                            "outlinewidth": 0,
                            "ticks": ""
                          }
                        },
                        "marker": {
                          "colorbar": {
                            "outlinewidth": 0,
                            "ticks": ""
                          }
                        },
                        "type": "scatter3d"
                      }
                    ],
                    "scattercarpet": [
                      {
                        "marker": {
                          "colorbar": {
                            "outlinewidth": 0,
                            "ticks": ""
                          }
                        },
                        "type": "scattercarpet"
                      }
                    ],
                    "scattergeo": [
                      {
                        "marker": {
                          "colorbar": {
                            "outlinewidth": 0,
                            "ticks": ""
                          }
                        },
                        "type": "scattergeo"
                      }
                    ],
                    "scattergl": [
                      {
                        "marker": {
                          "colorbar": {
                            "outlinewidth": 0,
                            "ticks": ""
                          }
                        },
                        "type": "scattergl"
                      }
                    ],
                    "scattermapbox": [
                      {
                        "marker": {
                          "colorbar": {
                            "outlinewidth": 0,
                            "ticks": ""
                          }
                        },
                        "type": "scattermapbox"
                      }
                    ],
                    "scatterpolar": [
                      {
                        "marker": {
                          "colorbar": {
                            "outlinewidth": 0,
                            "ticks": ""
                          }
                        },
                        "type": "scatterpolar"
                      }
                    ],
                    "scatterpolargl": [
                      {
                        "marker": {
                          "colorbar": {
                            "outlinewidth": 0,
                            "ticks": ""
                          }
                        },
                        "type": "scatterpolargl"
                      }
                    ],
                    "scatterternary": [
                      {
                        "marker": {
                          "colorbar": {
                            "outlinewidth": 0,
                            "ticks": ""
                          }
                        },
                        "type": "scatterternary"
                      }
                    ],
                    "surface": [
                      {
                        "colorbar": {
                          "outlinewidth": 0,
                          "ticks": ""
                        },
                        "colorscale": [
                          [
                            0,
                            "#0d0887"
                          ],
                          [
                            0.1111111111111111,
                            "#46039f"
                          ],
                          [
                            0.2222222222222222,
                            "#7201a8"
                          ],
                          [
                            0.3333333333333333,
                            "#9c179e"
                          ],
                          [
                            0.4444444444444444,
                            "#bd3786"
                          ],
                          [
                            0.5555555555555556,
                            "#d8576b"
                          ],
                          [
                            0.6666666666666666,
                            "#ed7953"
                          ],
                          [
                            0.7777777777777778,
                            "#fb9f3a"
                          ],
                          [
                            0.8888888888888888,
                            "#fdca26"
                          ],
                          [
                            1,
                            "#f0f921"
                          ]
                        ],
                        "type": "surface"
                      }
                    ],
                    "table": [
                      {
                        "cells": {
                          "fill": {
                            "color": "#EBF0F8"
                          },
                          "line": {
                            "color": "white"
                          }
                        },
                        "header": {
                          "fill": {
                            "color": "#C8D4E3"
                          },
                          "line": {
                            "color": "white"
                          }
                        },
                        "type": "table"
                      }
                    ]
                  },
                  "layout": {
                    "annotationdefaults": {
                      "arrowcolor": "#2a3f5f",
                      "arrowhead": 0,
                      "arrowwidth": 1
                    },
                    "autotypenumbers": "strict",
                    "coloraxis": {
                      "colorbar": {
                        "outlinewidth": 0,
                        "ticks": ""
                      }
                    },
                    "colorscale": {
                      "diverging": [
                        [
                          0,
                          "#8e0152"
                        ],
                        [
                          0.1,
                          "#c51b7d"
                        ],
                        [
                          0.2,
                          "#de77ae"
                        ],
                        [
                          0.3,
                          "#f1b6da"
                        ],
                        [
                          0.4,
                          "#fde0ef"
                        ],
                        [
                          0.5,
                          "#f7f7f7"
                        ],
                        [
                          0.6,
                          "#e6f5d0"
                        ],
                        [
                          0.7,
                          "#b8e186"
                        ],
                        [
                          0.8,
                          "#7fbc41"
                        ],
                        [
                          0.9,
                          "#4d9221"
                        ],
                        [
                          1,
                          "#276419"
                        ]
                      ],
                      "sequential": [
                        [
                          0,
                          "#0d0887"
                        ],
                        [
                          0.1111111111111111,
                          "#46039f"
                        ],
                        [
                          0.2222222222222222,
                          "#7201a8"
                        ],
                        [
                          0.3333333333333333,
                          "#9c179e"
                        ],
                        [
                          0.4444444444444444,
                          "#bd3786"
                        ],
                        [
                          0.5555555555555556,
                          "#d8576b"
                        ],
                        [
                          0.6666666666666666,
                          "#ed7953"
                        ],
                        [
                          0.7777777777777778,
                          "#fb9f3a"
                        ],
                        [
                          0.8888888888888888,
                          "#fdca26"
                        ],
                        [
                          1,
                          "#f0f921"
                        ]
                      ],
                      "sequentialminus": [
                        [
                          0,
                          "#0d0887"
                        ],
                        [
                          0.1111111111111111,
                          "#46039f"
                        ],
                        [
                          0.2222222222222222,
                          "#7201a8"
                        ],
                        [
                          0.3333333333333333,
                          "#9c179e"
                        ],
                        [
                          0.4444444444444444,
                          "#bd3786"
                        ],
                        [
                          0.5555555555555556,
                          "#d8576b"
                        ],
                        [
                          0.6666666666666666,
                          "#ed7953"
                        ],
                        [
                          0.7777777777777778,
                          "#fb9f3a"
                        ],
                        [
                          0.8888888888888888,
                          "#fdca26"
                        ],
                        [
                          1,
                          "#f0f921"
                        ]
                      ]
                    },
                    "colorway": [
                      "#636efa",
                      "#EF553B",
                      "#00cc96",
                      "#ab63fa",
                      "#FFA15A",
                      "#19d3f3",
                      "#FF6692",
                      "#B6E880",
                      "#FF97FF",
                      "#FECB52"
                    ],
                    "font": {
                      "color": "#2a3f5f"
                    },
                    "geo": {
                      "bgcolor": "white",
                      "lakecolor": "white",
                      "landcolor": "#E5ECF6",
                      "showlakes": true,
                      "showland": true,
                      "subunitcolor": "white"
                    },
                    "hoverlabel": {
                      "align": "left"
                    },
                    "hovermode": "closest",
                    "mapbox": {
                      "style": "light"
                    },
                    "paper_bgcolor": "white",
                    "plot_bgcolor": "#E5ECF6",
                    "polar": {
                      "angularaxis": {
                        "gridcolor": "white",
                        "linecolor": "white",
                        "ticks": ""
                      },
                      "bgcolor": "#E5ECF6",
                      "radialaxis": {
                        "gridcolor": "white",
                        "linecolor": "white",
                        "ticks": ""
                      }
                    },
                    "scene": {
                      "xaxis": {
                        "backgroundcolor": "#E5ECF6",
                        "gridcolor": "white",
                        "gridwidth": 2,
                        "linecolor": "white",
                        "showbackground": true,
                        "ticks": "",
                        "zerolinecolor": "white"
                      },
                      "yaxis": {
                        "backgroundcolor": "#E5ECF6",
                        "gridcolor": "white",
                        "gridwidth": 2,
                        "linecolor": "white",
                        "showbackground": true,
                        "ticks": "",
                        "zerolinecolor": "white"
                      },
                      "zaxis": {
                        "backgroundcolor": "#E5ECF6",
                        "gridcolor": "white",
                        "gridwidth": 2,
                        "linecolor": "white",
                        "showbackground": true,
                        "ticks": "",
                        "zerolinecolor": "white"
                      }
                    },
                    "shapedefaults": {
                      "line": {
                        "color": "#2a3f5f"
                      }
                    },
                    "ternary": {
                      "aaxis": {
                        "gridcolor": "white",
                        "linecolor": "white",
                        "ticks": ""
                      },
                      "baxis": {
                        "gridcolor": "white",
                        "linecolor": "white",
                        "ticks": ""
                      },
                      "bgcolor": "#E5ECF6",
                      "caxis": {
                        "gridcolor": "white",
                        "linecolor": "white",
                        "ticks": ""
                      }
                    },
                    "title": {
                      "x": 0.05
                    },
                    "xaxis": {
                      "automargin": true,
                      "gridcolor": "white",
                      "linecolor": "white",
                      "ticks": "",
                      "title": {
                        "standoff": 15
                      },
                      "zerolinecolor": "white",
                      "zerolinewidth": 2
                    },
                    "yaxis": {
                      "automargin": true,
                      "gridcolor": "white",
                      "linecolor": "white",
                      "ticks": "",
                      "title": {
                        "standoff": 15
                      },
                      "zerolinecolor": "white",
                      "zerolinewidth": 2
                    }
                  }
                },
                "title": {
                  "text": "embedding dimension 0"
                },
                "xaxis": {
                  "title": {
                    "text": "Dimension's value"
                  }
                },
                "yaxis": {
                  "title": {
                    "text": "Density"
                  }
                }
              }
            },
            "text/html": [
              "<div>                            <div id=\"5cf73491-a3b2-48e1-af44-b3bce5d03b9a\" class=\"plotly-graph-div\" style=\"height:525px; width:100%;\"></div>            <script type=\"text/javascript\">                require([\"plotly\"], function(Plotly) {                    window.PLOTLYENV=window.PLOTLYENV || {};                                    if (document.getElementById(\"5cf73491-a3b2-48e1-af44-b3bce5d03b9a\")) {                    Plotly.newPlot(                        \"5cf73491-a3b2-48e1-af44-b3bce5d03b9a\",                        [{\"name\":\"rotten\",\"x\":[-0.2061370313167572,-0.18975526094436646,-0.17337347567081451,-0.15699170529842377,-0.14060993492603302,-0.12422814965248108,-0.10784637928009033,-0.09146460145711899,-0.07508282363414764,-0.0587010495364666,-0.04231927543878555,-0.025937499478459358,-0.009555724449455738,0.006826051510870457,0.023207826539874077,0.03958960250020027,0.05597137659788132,0.07235315442085266,0.088734932243824,0.10511670261621475,0.1214984804391861],\"y\":[9.205560158335634e-05,0.0001657000828500414,0.0003129890453834115,0.0004971002485501242,0.002816901408450707,0.007382859246985165,0.014287029365736842,0.03831354137899288,0.05696400625978058,0.17921384516247535,0.1616312252600543,0.22660406885758688,0.11315474546626014,0.09286569087728888,0.038368774739942865,0.05965202982601482,0.006315014268618243,0.0010494338580502624,0.00027616680475006904,3.682224063334254e-05],\"type\":\"bar\"},{\"name\":\"imdb\",\"x\":[-0.2061370313167572,-0.18975526094436646,-0.17337347567081451,-0.15699170529842377,-0.14060993492603302,-0.12422814965248108,-0.10784637928009033,-0.09146460145711899,-0.07508282363414764,-0.0587010495364666,-0.04231927543878555,-0.025937499478459358,-0.009555724449455738,0.006826051510870457,0.023207826539874077,0.03958960250020027,0.05597137659788132,0.07235315442085266,0.088734932243824,0.10511670261621475,0.1214984804391861],\"y\":[2.421805940689973e-05,0.0001170539538000153,0.0002421805940689972,0.000791123273958724,0.0014773016238208854,0.006478330891345654,0.012092884330512057,0.033243322879204534,0.05137861303173643,0.18596644184234287,0.16178067318131617,0.2363440417519641,0.10891668583933001,0.11334455436755009,0.045114208331832995,0.03741690178366619,0.003935434653623782,0.001142285135359411,0.0001453083564419977,4.843611881411025e-05],\"type\":\"bar\"}],                        {\"margin\":{\"b\":10,\"l\":10,\"r\":10,\"t\":60},\"paper_bgcolor\":\"teal\",\"title\":{\"text\":\"embedding dimension 0\"},\"template\":{\"data\":{\"histogram2dcontour\":[{\"type\":\"histogram2dcontour\",\"colorbar\":{\"outlinewidth\":0,\"ticks\":\"\"},\"colorscale\":[[0.0,\"#0d0887\"],[0.1111111111111111,\"#46039f\"],[0.2222222222222222,\"#7201a8\"],[0.3333333333333333,\"#9c179e\"],[0.4444444444444444,\"#bd3786\"],[0.5555555555555556,\"#d8576b\"],[0.6666666666666666,\"#ed7953\"],[0.7777777777777778,\"#fb9f3a\"],[0.8888888888888888,\"#fdca26\"],[1.0,\"#f0f921\"]]}],\"choropleth\":[{\"type\":\"choropleth\",\"colorbar\":{\"outlinewidth\":0,\"ticks\":\"\"}}],\"histogram2d\":[{\"type\":\"histogram2d\",\"colorbar\":{\"outlinewidth\":0,\"ticks\":\"\"},\"colorscale\":[[0.0,\"#0d0887\"],[0.1111111111111111,\"#46039f\"],[0.2222222222222222,\"#7201a8\"],[0.3333333333333333,\"#9c179e\"],[0.4444444444444444,\"#bd3786\"],[0.5555555555555556,\"#d8576b\"],[0.6666666666666666,\"#ed7953\"],[0.7777777777777778,\"#fb9f3a\"],[0.8888888888888888,\"#fdca26\"],[1.0,\"#f0f921\"]]}],\"heatmap\":[{\"type\":\"heatmap\",\"colorbar\":{\"outlinewidth\":0,\"ticks\":\"\"},\"colorscale\":[[0.0,\"#0d0887\"],[0.1111111111111111,\"#46039f\"],[0.2222222222222222,\"#7201a8\"],[0.3333333333333333,\"#9c179e\"],[0.4444444444444444,\"#bd3786\"],[0.5555555555555556,\"#d8576b\"],[0.6666666666666666,\"#ed7953\"],[0.7777777777777778,\"#fb9f3a\"],[0.8888888888888888,\"#fdca26\"],[1.0,\"#f0f921\"]]}],\"heatmapgl\":[{\"type\":\"heatmapgl\",\"colorbar\":{\"outlinewidth\":0,\"ticks\":\"\"},\"colorscale\":[[0.0,\"#0d0887\"],[0.1111111111111111,\"#46039f\"],[0.2222222222222222,\"#7201a8\"],[0.3333333333333333,\"#9c179e\"],[0.4444444444444444,\"#bd3786\"],[0.5555555555555556,\"#d8576b\"],[0.6666666666666666,\"#ed7953\"],[0.7777777777777778,\"#fb9f3a\"],[0.8888888888888888,\"#fdca26\"],[1.0,\"#f0f921\"]]}],\"contourcarpet\":[{\"type\":\"contourcarpet\",\"colorbar\":{\"outlinewidth\":0,\"ticks\":\"\"}}],\"contour\":[{\"type\":\"contour\",\"colorbar\":{\"outlinewidth\":0,\"ticks\":\"\"},\"colorscale\":[[0.0,\"#0d0887\"],[0.1111111111111111,\"#46039f\"],[0.2222222222222222,\"#7201a8\"],[0.3333333333333333,\"#9c179e\"],[0.4444444444444444,\"#bd3786\"],[0.5555555555555556,\"#d8576b\"],[0.6666666666666666,\"#ed7953\"],[0.7777777777777778,\"#fb9f3a\"],[0.8888888888888888,\"#fdca26\"],[1.0,\"#f0f921\"]]}],\"surface\":[{\"type\":\"surface\",\"colorbar\":{\"outlinewidth\":0,\"ticks\":\"\"},\"colorscale\":[[0.0,\"#0d0887\"],[0.1111111111111111,\"#46039f\"],[0.2222222222222222,\"#7201a8\"],[0.3333333333333333,\"#9c179e\"],[0.4444444444444444,\"#bd3786\"],[0.5555555555555556,\"#d8576b\"],[0.6666666666666666,\"#ed7953\"],[0.7777777777777778,\"#fb9f3a\"],[0.8888888888888888,\"#fdca26\"],[1.0,\"#f0f921\"]]}],\"mesh3d\":[{\"type\":\"mesh3d\",\"colorbar\":{\"outlinewidth\":0,\"ticks\":\"\"}}],\"scatter\":[{\"fillpattern\":{\"fillmode\":\"overlay\",\"size\":10,\"solidity\":0.2},\"type\":\"scatter\"}],\"parcoords\":[{\"type\":\"parcoords\",\"line\":{\"colorbar\":{\"outlinewidth\":0,\"ticks\":\"\"}}}],\"scatterpolargl\":[{\"type\":\"scatterpolargl\",\"marker\":{\"colorbar\":{\"outlinewidth\":0,\"ticks\":\"\"}}}],\"bar\":[{\"error_x\":{\"color\":\"#2a3f5f\"},\"error_y\":{\"color\":\"#2a3f5f\"},\"marker\":{\"line\":{\"color\":\"#E5ECF6\",\"width\":0.5},\"pattern\":{\"fillmode\":\"overlay\",\"size\":10,\"solidity\":0.2}},\"type\":\"bar\"}],\"scattergeo\":[{\"type\":\"scattergeo\",\"marker\":{\"colorbar\":{\"outlinewidth\":0,\"ticks\":\"\"}}}],\"scatterpolar\":[{\"type\":\"scatterpolar\",\"marker\":{\"colorbar\":{\"outlinewidth\":0,\"ticks\":\"\"}}}],\"histogram\":[{\"marker\":{\"pattern\":{\"fillmode\":\"overlay\",\"size\":10,\"solidity\":0.2}},\"type\":\"histogram\"}],\"scattergl\":[{\"type\":\"scattergl\",\"marker\":{\"colorbar\":{\"outlinewidth\":0,\"ticks\":\"\"}}}],\"scatter3d\":[{\"type\":\"scatter3d\",\"line\":{\"colorbar\":{\"outlinewidth\":0,\"ticks\":\"\"}},\"marker\":{\"colorbar\":{\"outlinewidth\":0,\"ticks\":\"\"}}}],\"scattermapbox\":[{\"type\":\"scattermapbox\",\"marker\":{\"colorbar\":{\"outlinewidth\":0,\"ticks\":\"\"}}}],\"scatterternary\":[{\"type\":\"scatterternary\",\"marker\":{\"colorbar\":{\"outlinewidth\":0,\"ticks\":\"\"}}}],\"scattercarpet\":[{\"type\":\"scattercarpet\",\"marker\":{\"colorbar\":{\"outlinewidth\":0,\"ticks\":\"\"}}}],\"carpet\":[{\"aaxis\":{\"endlinecolor\":\"#2a3f5f\",\"gridcolor\":\"white\",\"linecolor\":\"white\",\"minorgridcolor\":\"white\",\"startlinecolor\":\"#2a3f5f\"},\"baxis\":{\"endlinecolor\":\"#2a3f5f\",\"gridcolor\":\"white\",\"linecolor\":\"white\",\"minorgridcolor\":\"white\",\"startlinecolor\":\"#2a3f5f\"},\"type\":\"carpet\"}],\"table\":[{\"cells\":{\"fill\":{\"color\":\"#EBF0F8\"},\"line\":{\"color\":\"white\"}},\"header\":{\"fill\":{\"color\":\"#C8D4E3\"},\"line\":{\"color\":\"white\"}},\"type\":\"table\"}],\"barpolar\":[{\"marker\":{\"line\":{\"color\":\"#E5ECF6\",\"width\":0.5},\"pattern\":{\"fillmode\":\"overlay\",\"size\":10,\"solidity\":0.2}},\"type\":\"barpolar\"}],\"pie\":[{\"automargin\":true,\"type\":\"pie\"}]},\"layout\":{\"autotypenumbers\":\"strict\",\"colorway\":[\"#636efa\",\"#EF553B\",\"#00cc96\",\"#ab63fa\",\"#FFA15A\",\"#19d3f3\",\"#FF6692\",\"#B6E880\",\"#FF97FF\",\"#FECB52\"],\"font\":{\"color\":\"#2a3f5f\"},\"hovermode\":\"closest\",\"hoverlabel\":{\"align\":\"left\"},\"paper_bgcolor\":\"white\",\"plot_bgcolor\":\"#E5ECF6\",\"polar\":{\"bgcolor\":\"#E5ECF6\",\"angularaxis\":{\"gridcolor\":\"white\",\"linecolor\":\"white\",\"ticks\":\"\"},\"radialaxis\":{\"gridcolor\":\"white\",\"linecolor\":\"white\",\"ticks\":\"\"}},\"ternary\":{\"bgcolor\":\"#E5ECF6\",\"aaxis\":{\"gridcolor\":\"white\",\"linecolor\":\"white\",\"ticks\":\"\"},\"baxis\":{\"gridcolor\":\"white\",\"linecolor\":\"white\",\"ticks\":\"\"},\"caxis\":{\"gridcolor\":\"white\",\"linecolor\":\"white\",\"ticks\":\"\"}},\"coloraxis\":{\"colorbar\":{\"outlinewidth\":0,\"ticks\":\"\"}},\"colorscale\":{\"sequential\":[[0.0,\"#0d0887\"],[0.1111111111111111,\"#46039f\"],[0.2222222222222222,\"#7201a8\"],[0.3333333333333333,\"#9c179e\"],[0.4444444444444444,\"#bd3786\"],[0.5555555555555556,\"#d8576b\"],[0.6666666666666666,\"#ed7953\"],[0.7777777777777778,\"#fb9f3a\"],[0.8888888888888888,\"#fdca26\"],[1.0,\"#f0f921\"]],\"sequentialminus\":[[0.0,\"#0d0887\"],[0.1111111111111111,\"#46039f\"],[0.2222222222222222,\"#7201a8\"],[0.3333333333333333,\"#9c179e\"],[0.4444444444444444,\"#bd3786\"],[0.5555555555555556,\"#d8576b\"],[0.6666666666666666,\"#ed7953\"],[0.7777777777777778,\"#fb9f3a\"],[0.8888888888888888,\"#fdca26\"],[1.0,\"#f0f921\"]],\"diverging\":[[0,\"#8e0152\"],[0.1,\"#c51b7d\"],[0.2,\"#de77ae\"],[0.3,\"#f1b6da\"],[0.4,\"#fde0ef\"],[0.5,\"#f7f7f7\"],[0.6,\"#e6f5d0\"],[0.7,\"#b8e186\"],[0.8,\"#7fbc41\"],[0.9,\"#4d9221\"],[1,\"#276419\"]]},\"xaxis\":{\"gridcolor\":\"white\",\"linecolor\":\"white\",\"ticks\":\"\",\"title\":{\"standoff\":15},\"zerolinecolor\":\"white\",\"automargin\":true,\"zerolinewidth\":2},\"yaxis\":{\"gridcolor\":\"white\",\"linecolor\":\"white\",\"ticks\":\"\",\"title\":{\"standoff\":15},\"zerolinecolor\":\"white\",\"automargin\":true,\"zerolinewidth\":2},\"scene\":{\"xaxis\":{\"backgroundcolor\":\"#E5ECF6\",\"gridcolor\":\"white\",\"linecolor\":\"white\",\"showbackground\":true,\"ticks\":\"\",\"zerolinecolor\":\"white\",\"gridwidth\":2},\"yaxis\":{\"backgroundcolor\":\"#E5ECF6\",\"gridcolor\":\"white\",\"linecolor\":\"white\",\"showbackground\":true,\"ticks\":\"\",\"zerolinecolor\":\"white\",\"gridwidth\":2},\"zaxis\":{\"backgroundcolor\":\"#E5ECF6\",\"gridcolor\":\"white\",\"linecolor\":\"white\",\"showbackground\":true,\"ticks\":\"\",\"zerolinecolor\":\"white\",\"gridwidth\":2}},\"shapedefaults\":{\"line\":{\"color\":\"#2a3f5f\"}},\"annotationdefaults\":{\"arrowcolor\":\"#2a3f5f\",\"arrowhead\":0,\"arrowwidth\":1},\"geo\":{\"bgcolor\":\"white\",\"landcolor\":\"#E5ECF6\",\"subunitcolor\":\"white\",\"showland\":true,\"showlakes\":true,\"lakecolor\":\"white\"},\"title\":{\"x\":0.05},\"mapbox\":{\"style\":\"light\"}}},\"xaxis\":{\"title\":{\"text\":\"Dimension's value\"}},\"yaxis\":{\"title\":{\"text\":\"Density\"}}},                        {\"responsive\": true}                    ).then(function(){\n",
              "                            \n",
              "var gd = document.getElementById('5cf73491-a3b2-48e1-af44-b3bce5d03b9a');\n",
              "var x = new MutationObserver(function (mutations, observer) {{\n",
              "        var display = window.getComputedStyle(gd).display;\n",
              "        if (!display || display === 'none') {{\n",
              "            console.log([gd, 'removed!']);\n",
              "            Plotly.purge(gd);\n",
              "            observer.disconnect();\n",
              "        }}\n",
              "}});\n",
              "\n",
              "// Listen for the removal of the full notebook cells\n",
              "var notebookContainer = gd.closest('#notebook-container');\n",
              "if (notebookContainer) {{\n",
              "    x.observe(notebookContainer, {childList: true});\n",
              "}}\n",
              "\n",
              "// Listen for the clearing of the current output cell\n",
              "var outputEl = gd.closest('.output');\n",
              "if (outputEl) {{\n",
              "    x.observe(outputEl, {childList: true});\n",
              "}}\n",
              "\n",
              "                        })                };                });            </script>        </div>"
            ]
          },
          "metadata": {},
          "output_type": "display_data"
        }
      ],
      "source": [
        "@interact(dim=widgets.IntSlider(value=0, min=0, max=Model.embedding_size-1, layout=aiq_layout))\n",
        "def show_dim_hist(dim):\n",
        "    show_hists(\n",
        "        df1[f'dim{dim}'],\n",
        "        df2[f'dim{dim}'],\n",
        "        df1,\n",
        "        df2,\n",
        "        title=f\"embedding dimension {dim}\"\n",
        "    )\n"
      ]
    },
    {
      "cell_type": "markdown",
      "metadata": {
        "id": "nhLC0ctD8cm0"
      },
      "source": [
        "## Playground: Gender distribution drift"
      ]
    },
    {
      "cell_type": "code",
      "execution_count": 64,
      "metadata": {
        "id": "mPBWRuw78cm0"
      },
      "outputs": [
        {
          "data": {
            "application/vnd.plotly.v1+json": {
              "config": {
                "plotlyServerURL": "https://plot.ly"
              },
              "data": [
                {
                  "name": "rotten",
                  "type": "bar",
                  "x": [
                    -0.6745797395706177,
                    -0.6309354305267334,
                    -0.5872911214828491,
                    -0.5436468124389648,
                    -0.5000025033950806,
                    -0.4563581645488739,
                    -0.4127138555049896,
                    -0.36906954646110535,
                    -0.32542523741722107,
                    -0.2817808985710144,
                    -0.23813658952713013,
                    -0.19449228048324585,
                    -0.15084797143936157,
                    -0.1072036549448967,
                    -0.06355933845043182,
                    -0.019915025681257248,
                    0.023729288950562477,
                    0.0673736035823822,
                    0.11101792007684708,
                    0.15466223657131195,
                    0.19830654561519623
                  ],
                  "y": [
                    0.00001841112031667127,
                    0,
                    0,
                    0.00023934456411672648,
                    0.00031298904538341156,
                    0.0004418668876001103,
                    0.002816901408450708,
                    0.008045659578385333,
                    0.018613642640154658,
                    0.0404492313357268,
                    0.04797937954524531,
                    0.10065359477123992,
                    0.07925987296326903,
                    0.08726871030102089,
                    0.0834207861548371,
                    0.1643192488262907,
                    0.31676332504832955,
                    0.04400257755684432,
                    0.0005707447298168094,
                    0.0048237135229678724
                  ]
                },
                {
                  "name": "imdb",
                  "type": "bar",
                  "x": [
                    -0.6745797395706177,
                    -0.6309354305267334,
                    -0.5872911214828491,
                    -0.5436468124389648,
                    -0.5000025033950806,
                    -0.4563581645488739,
                    -0.4127138555049896,
                    -0.36906954646110535,
                    -0.32542523741722107,
                    -0.2817808985710144,
                    -0.23813658952713013,
                    -0.19449228048324585,
                    -0.15084797143936157,
                    -0.1072036549448967,
                    -0.06355933845043182,
                    -0.019915025681257248,
                    0.023729288950562477,
                    0.0673736035823822,
                    0.11101792007684708,
                    0.15466223657131195,
                    0.19830654561519623
                  ],
                  "y": [
                    0.00010090858086208219,
                    0,
                    0.000040363432344832874,
                    0.00041574335315177854,
                    0.00026236231024141354,
                    0.0005933424554690459,
                    0.0027366407129796673,
                    0.004569140541435021,
                    0.011761904185284496,
                    0.025380526258431475,
                    0.037130321414009924,
                    0.08408913860398522,
                    0.07040997138232105,
                    0.10676531489531152,
                    0.10141716010962376,
                    0.16697141058087045,
                    0.3360820830760166,
                    0.043192908952206066,
                    0.0008637774521794706,
                    0.007216981703256131
                  ]
                }
              ],
              "layout": {
                "margin": {
                  "b": 10,
                  "l": 10,
                  "r": 10,
                  "t": 60
                },
                "paper_bgcolor": "teal",
                "template": {
                  "data": {
                    "bar": [
                      {
                        "error_x": {
                          "color": "#2a3f5f"
                        },
                        "error_y": {
                          "color": "#2a3f5f"
                        },
                        "marker": {
                          "line": {
                            "color": "#E5ECF6",
                            "width": 0.5
                          },
                          "pattern": {
                            "fillmode": "overlay",
                            "size": 10,
                            "solidity": 0.2
                          }
                        },
                        "type": "bar"
                      }
                    ],
                    "barpolar": [
                      {
                        "marker": {
                          "line": {
                            "color": "#E5ECF6",
                            "width": 0.5
                          },
                          "pattern": {
                            "fillmode": "overlay",
                            "size": 10,
                            "solidity": 0.2
                          }
                        },
                        "type": "barpolar"
                      }
                    ],
                    "carpet": [
                      {
                        "aaxis": {
                          "endlinecolor": "#2a3f5f",
                          "gridcolor": "white",
                          "linecolor": "white",
                          "minorgridcolor": "white",
                          "startlinecolor": "#2a3f5f"
                        },
                        "baxis": {
                          "endlinecolor": "#2a3f5f",
                          "gridcolor": "white",
                          "linecolor": "white",
                          "minorgridcolor": "white",
                          "startlinecolor": "#2a3f5f"
                        },
                        "type": "carpet"
                      }
                    ],
                    "choropleth": [
                      {
                        "colorbar": {
                          "outlinewidth": 0,
                          "ticks": ""
                        },
                        "type": "choropleth"
                      }
                    ],
                    "contour": [
                      {
                        "colorbar": {
                          "outlinewidth": 0,
                          "ticks": ""
                        },
                        "colorscale": [
                          [
                            0,
                            "#0d0887"
                          ],
                          [
                            0.1111111111111111,
                            "#46039f"
                          ],
                          [
                            0.2222222222222222,
                            "#7201a8"
                          ],
                          [
                            0.3333333333333333,
                            "#9c179e"
                          ],
                          [
                            0.4444444444444444,
                            "#bd3786"
                          ],
                          [
                            0.5555555555555556,
                            "#d8576b"
                          ],
                          [
                            0.6666666666666666,
                            "#ed7953"
                          ],
                          [
                            0.7777777777777778,
                            "#fb9f3a"
                          ],
                          [
                            0.8888888888888888,
                            "#fdca26"
                          ],
                          [
                            1,
                            "#f0f921"
                          ]
                        ],
                        "type": "contour"
                      }
                    ],
                    "contourcarpet": [
                      {
                        "colorbar": {
                          "outlinewidth": 0,
                          "ticks": ""
                        },
                        "type": "contourcarpet"
                      }
                    ],
                    "heatmap": [
                      {
                        "colorbar": {
                          "outlinewidth": 0,
                          "ticks": ""
                        },
                        "colorscale": [
                          [
                            0,
                            "#0d0887"
                          ],
                          [
                            0.1111111111111111,
                            "#46039f"
                          ],
                          [
                            0.2222222222222222,
                            "#7201a8"
                          ],
                          [
                            0.3333333333333333,
                            "#9c179e"
                          ],
                          [
                            0.4444444444444444,
                            "#bd3786"
                          ],
                          [
                            0.5555555555555556,
                            "#d8576b"
                          ],
                          [
                            0.6666666666666666,
                            "#ed7953"
                          ],
                          [
                            0.7777777777777778,
                            "#fb9f3a"
                          ],
                          [
                            0.8888888888888888,
                            "#fdca26"
                          ],
                          [
                            1,
                            "#f0f921"
                          ]
                        ],
                        "type": "heatmap"
                      }
                    ],
                    "heatmapgl": [
                      {
                        "colorbar": {
                          "outlinewidth": 0,
                          "ticks": ""
                        },
                        "colorscale": [
                          [
                            0,
                            "#0d0887"
                          ],
                          [
                            0.1111111111111111,
                            "#46039f"
                          ],
                          [
                            0.2222222222222222,
                            "#7201a8"
                          ],
                          [
                            0.3333333333333333,
                            "#9c179e"
                          ],
                          [
                            0.4444444444444444,
                            "#bd3786"
                          ],
                          [
                            0.5555555555555556,
                            "#d8576b"
                          ],
                          [
                            0.6666666666666666,
                            "#ed7953"
                          ],
                          [
                            0.7777777777777778,
                            "#fb9f3a"
                          ],
                          [
                            0.8888888888888888,
                            "#fdca26"
                          ],
                          [
                            1,
                            "#f0f921"
                          ]
                        ],
                        "type": "heatmapgl"
                      }
                    ],
                    "histogram": [
                      {
                        "marker": {
                          "pattern": {
                            "fillmode": "overlay",
                            "size": 10,
                            "solidity": 0.2
                          }
                        },
                        "type": "histogram"
                      }
                    ],
                    "histogram2d": [
                      {
                        "colorbar": {
                          "outlinewidth": 0,
                          "ticks": ""
                        },
                        "colorscale": [
                          [
                            0,
                            "#0d0887"
                          ],
                          [
                            0.1111111111111111,
                            "#46039f"
                          ],
                          [
                            0.2222222222222222,
                            "#7201a8"
                          ],
                          [
                            0.3333333333333333,
                            "#9c179e"
                          ],
                          [
                            0.4444444444444444,
                            "#bd3786"
                          ],
                          [
                            0.5555555555555556,
                            "#d8576b"
                          ],
                          [
                            0.6666666666666666,
                            "#ed7953"
                          ],
                          [
                            0.7777777777777778,
                            "#fb9f3a"
                          ],
                          [
                            0.8888888888888888,
                            "#fdca26"
                          ],
                          [
                            1,
                            "#f0f921"
                          ]
                        ],
                        "type": "histogram2d"
                      }
                    ],
                    "histogram2dcontour": [
                      {
                        "colorbar": {
                          "outlinewidth": 0,
                          "ticks": ""
                        },
                        "colorscale": [
                          [
                            0,
                            "#0d0887"
                          ],
                          [
                            0.1111111111111111,
                            "#46039f"
                          ],
                          [
                            0.2222222222222222,
                            "#7201a8"
                          ],
                          [
                            0.3333333333333333,
                            "#9c179e"
                          ],
                          [
                            0.4444444444444444,
                            "#bd3786"
                          ],
                          [
                            0.5555555555555556,
                            "#d8576b"
                          ],
                          [
                            0.6666666666666666,
                            "#ed7953"
                          ],
                          [
                            0.7777777777777778,
                            "#fb9f3a"
                          ],
                          [
                            0.8888888888888888,
                            "#fdca26"
                          ],
                          [
                            1,
                            "#f0f921"
                          ]
                        ],
                        "type": "histogram2dcontour"
                      }
                    ],
                    "mesh3d": [
                      {
                        "colorbar": {
                          "outlinewidth": 0,
                          "ticks": ""
                        },
                        "type": "mesh3d"
                      }
                    ],
                    "parcoords": [
                      {
                        "line": {
                          "colorbar": {
                            "outlinewidth": 0,
                            "ticks": ""
                          }
                        },
                        "type": "parcoords"
                      }
                    ],
                    "pie": [
                      {
                        "automargin": true,
                        "type": "pie"
                      }
                    ],
                    "scatter": [
                      {
                        "fillpattern": {
                          "fillmode": "overlay",
                          "size": 10,
                          "solidity": 0.2
                        },
                        "type": "scatter"
                      }
                    ],
                    "scatter3d": [
                      {
                        "line": {
                          "colorbar": {
                            "outlinewidth": 0,
                            "ticks": ""
                          }
                        },
                        "marker": {
                          "colorbar": {
                            "outlinewidth": 0,
                            "ticks": ""
                          }
                        },
                        "type": "scatter3d"
                      }
                    ],
                    "scattercarpet": [
                      {
                        "marker": {
                          "colorbar": {
                            "outlinewidth": 0,
                            "ticks": ""
                          }
                        },
                        "type": "scattercarpet"
                      }
                    ],
                    "scattergeo": [
                      {
                        "marker": {
                          "colorbar": {
                            "outlinewidth": 0,
                            "ticks": ""
                          }
                        },
                        "type": "scattergeo"
                      }
                    ],
                    "scattergl": [
                      {
                        "marker": {
                          "colorbar": {
                            "outlinewidth": 0,
                            "ticks": ""
                          }
                        },
                        "type": "scattergl"
                      }
                    ],
                    "scattermapbox": [
                      {
                        "marker": {
                          "colorbar": {
                            "outlinewidth": 0,
                            "ticks": ""
                          }
                        },
                        "type": "scattermapbox"
                      }
                    ],
                    "scatterpolar": [
                      {
                        "marker": {
                          "colorbar": {
                            "outlinewidth": 0,
                            "ticks": ""
                          }
                        },
                        "type": "scatterpolar"
                      }
                    ],
                    "scatterpolargl": [
                      {
                        "marker": {
                          "colorbar": {
                            "outlinewidth": 0,
                            "ticks": ""
                          }
                        },
                        "type": "scatterpolargl"
                      }
                    ],
                    "scatterternary": [
                      {
                        "marker": {
                          "colorbar": {
                            "outlinewidth": 0,
                            "ticks": ""
                          }
                        },
                        "type": "scatterternary"
                      }
                    ],
                    "surface": [
                      {
                        "colorbar": {
                          "outlinewidth": 0,
                          "ticks": ""
                        },
                        "colorscale": [
                          [
                            0,
                            "#0d0887"
                          ],
                          [
                            0.1111111111111111,
                            "#46039f"
                          ],
                          [
                            0.2222222222222222,
                            "#7201a8"
                          ],
                          [
                            0.3333333333333333,
                            "#9c179e"
                          ],
                          [
                            0.4444444444444444,
                            "#bd3786"
                          ],
                          [
                            0.5555555555555556,
                            "#d8576b"
                          ],
                          [
                            0.6666666666666666,
                            "#ed7953"
                          ],
                          [
                            0.7777777777777778,
                            "#fb9f3a"
                          ],
                          [
                            0.8888888888888888,
                            "#fdca26"
                          ],
                          [
                            1,
                            "#f0f921"
                          ]
                        ],
                        "type": "surface"
                      }
                    ],
                    "table": [
                      {
                        "cells": {
                          "fill": {
                            "color": "#EBF0F8"
                          },
                          "line": {
                            "color": "white"
                          }
                        },
                        "header": {
                          "fill": {
                            "color": "#C8D4E3"
                          },
                          "line": {
                            "color": "white"
                          }
                        },
                        "type": "table"
                      }
                    ]
                  },
                  "layout": {
                    "annotationdefaults": {
                      "arrowcolor": "#2a3f5f",
                      "arrowhead": 0,
                      "arrowwidth": 1
                    },
                    "autotypenumbers": "strict",
                    "coloraxis": {
                      "colorbar": {
                        "outlinewidth": 0,
                        "ticks": ""
                      }
                    },
                    "colorscale": {
                      "diverging": [
                        [
                          0,
                          "#8e0152"
                        ],
                        [
                          0.1,
                          "#c51b7d"
                        ],
                        [
                          0.2,
                          "#de77ae"
                        ],
                        [
                          0.3,
                          "#f1b6da"
                        ],
                        [
                          0.4,
                          "#fde0ef"
                        ],
                        [
                          0.5,
                          "#f7f7f7"
                        ],
                        [
                          0.6,
                          "#e6f5d0"
                        ],
                        [
                          0.7,
                          "#b8e186"
                        ],
                        [
                          0.8,
                          "#7fbc41"
                        ],
                        [
                          0.9,
                          "#4d9221"
                        ],
                        [
                          1,
                          "#276419"
                        ]
                      ],
                      "sequential": [
                        [
                          0,
                          "#0d0887"
                        ],
                        [
                          0.1111111111111111,
                          "#46039f"
                        ],
                        [
                          0.2222222222222222,
                          "#7201a8"
                        ],
                        [
                          0.3333333333333333,
                          "#9c179e"
                        ],
                        [
                          0.4444444444444444,
                          "#bd3786"
                        ],
                        [
                          0.5555555555555556,
                          "#d8576b"
                        ],
                        [
                          0.6666666666666666,
                          "#ed7953"
                        ],
                        [
                          0.7777777777777778,
                          "#fb9f3a"
                        ],
                        [
                          0.8888888888888888,
                          "#fdca26"
                        ],
                        [
                          1,
                          "#f0f921"
                        ]
                      ],
                      "sequentialminus": [
                        [
                          0,
                          "#0d0887"
                        ],
                        [
                          0.1111111111111111,
                          "#46039f"
                        ],
                        [
                          0.2222222222222222,
                          "#7201a8"
                        ],
                        [
                          0.3333333333333333,
                          "#9c179e"
                        ],
                        [
                          0.4444444444444444,
                          "#bd3786"
                        ],
                        [
                          0.5555555555555556,
                          "#d8576b"
                        ],
                        [
                          0.6666666666666666,
                          "#ed7953"
                        ],
                        [
                          0.7777777777777778,
                          "#fb9f3a"
                        ],
                        [
                          0.8888888888888888,
                          "#fdca26"
                        ],
                        [
                          1,
                          "#f0f921"
                        ]
                      ]
                    },
                    "colorway": [
                      "#636efa",
                      "#EF553B",
                      "#00cc96",
                      "#ab63fa",
                      "#FFA15A",
                      "#19d3f3",
                      "#FF6692",
                      "#B6E880",
                      "#FF97FF",
                      "#FECB52"
                    ],
                    "font": {
                      "color": "#2a3f5f"
                    },
                    "geo": {
                      "bgcolor": "white",
                      "lakecolor": "white",
                      "landcolor": "#E5ECF6",
                      "showlakes": true,
                      "showland": true,
                      "subunitcolor": "white"
                    },
                    "hoverlabel": {
                      "align": "left"
                    },
                    "hovermode": "closest",
                    "mapbox": {
                      "style": "light"
                    },
                    "paper_bgcolor": "white",
                    "plot_bgcolor": "#E5ECF6",
                    "polar": {
                      "angularaxis": {
                        "gridcolor": "white",
                        "linecolor": "white",
                        "ticks": ""
                      },
                      "bgcolor": "#E5ECF6",
                      "radialaxis": {
                        "gridcolor": "white",
                        "linecolor": "white",
                        "ticks": ""
                      }
                    },
                    "scene": {
                      "xaxis": {
                        "backgroundcolor": "#E5ECF6",
                        "gridcolor": "white",
                        "gridwidth": 2,
                        "linecolor": "white",
                        "showbackground": true,
                        "ticks": "",
                        "zerolinecolor": "white"
                      },
                      "yaxis": {
                        "backgroundcolor": "#E5ECF6",
                        "gridcolor": "white",
                        "gridwidth": 2,
                        "linecolor": "white",
                        "showbackground": true,
                        "ticks": "",
                        "zerolinecolor": "white"
                      },
                      "zaxis": {
                        "backgroundcolor": "#E5ECF6",
                        "gridcolor": "white",
                        "gridwidth": 2,
                        "linecolor": "white",
                        "showbackground": true,
                        "ticks": "",
                        "zerolinecolor": "white"
                      }
                    },
                    "shapedefaults": {
                      "line": {
                        "color": "#2a3f5f"
                      }
                    },
                    "ternary": {
                      "aaxis": {
                        "gridcolor": "white",
                        "linecolor": "white",
                        "ticks": ""
                      },
                      "baxis": {
                        "gridcolor": "white",
                        "linecolor": "white",
                        "ticks": ""
                      },
                      "bgcolor": "#E5ECF6",
                      "caxis": {
                        "gridcolor": "white",
                        "linecolor": "white",
                        "ticks": ""
                      }
                    },
                    "title": {
                      "x": 0.05
                    },
                    "xaxis": {
                      "automargin": true,
                      "gridcolor": "white",
                      "linecolor": "white",
                      "ticks": "",
                      "title": {
                        "standoff": 15
                      },
                      "zerolinecolor": "white",
                      "zerolinewidth": 2
                    },
                    "yaxis": {
                      "automargin": true,
                      "gridcolor": "white",
                      "linecolor": "white",
                      "ticks": "",
                      "title": {
                        "standoff": 15
                      },
                      "zerolinecolor": "white",
                      "zerolinewidth": 2
                    }
                  }
                },
                "title": {
                  "text": "gender dimension histogram"
                },
                "xaxis": {
                  "title": {
                    "text": "Dimension's value"
                  }
                },
                "yaxis": {
                  "title": {
                    "text": "Density"
                  }
                }
              }
            },
            "text/html": [
              "<div>                            <div id=\"a08a1ac3-16a5-42c1-a04a-1ccc99dff38c\" class=\"plotly-graph-div\" style=\"height:525px; width:100%;\"></div>            <script type=\"text/javascript\">                require([\"plotly\"], function(Plotly) {                    window.PLOTLYENV=window.PLOTLYENV || {};                                    if (document.getElementById(\"a08a1ac3-16a5-42c1-a04a-1ccc99dff38c\")) {                    Plotly.newPlot(                        \"a08a1ac3-16a5-42c1-a04a-1ccc99dff38c\",                        [{\"name\":\"rotten\",\"x\":[-0.6745797395706177,-0.6309354305267334,-0.5872911214828491,-0.5436468124389648,-0.5000025033950806,-0.4563581645488739,-0.4127138555049896,-0.36906954646110535,-0.32542523741722107,-0.2817808985710144,-0.23813658952713013,-0.19449228048324585,-0.15084797143936157,-0.1072036549448967,-0.06355933845043182,-0.019915025681257248,0.023729288950562477,0.0673736035823822,0.11101792007684708,0.15466223657131195,0.19830654561519623],\"y\":[1.841112031667127e-05,0.0,0.0,0.00023934456411672648,0.00031298904538341156,0.0004418668876001103,0.002816901408450708,0.008045659578385333,0.018613642640154658,0.0404492313357268,0.04797937954524531,0.10065359477123992,0.07925987296326903,0.08726871030102089,0.0834207861548371,0.1643192488262907,0.31676332504832955,0.04400257755684432,0.0005707447298168094,0.0048237135229678724],\"type\":\"bar\"},{\"name\":\"imdb\",\"x\":[-0.6745797395706177,-0.6309354305267334,-0.5872911214828491,-0.5436468124389648,-0.5000025033950806,-0.4563581645488739,-0.4127138555049896,-0.36906954646110535,-0.32542523741722107,-0.2817808985710144,-0.23813658952713013,-0.19449228048324585,-0.15084797143936157,-0.1072036549448967,-0.06355933845043182,-0.019915025681257248,0.023729288950562477,0.0673736035823822,0.11101792007684708,0.15466223657131195,0.19830654561519623],\"y\":[0.00010090858086208219,0.0,4.0363432344832874e-05,0.00041574335315177854,0.00026236231024141354,0.0005933424554690459,0.0027366407129796673,0.004569140541435021,0.011761904185284496,0.025380526258431475,0.037130321414009924,0.08408913860398522,0.07040997138232105,0.10676531489531152,0.10141716010962376,0.16697141058087045,0.3360820830760166,0.043192908952206066,0.0008637774521794706,0.007216981703256131],\"type\":\"bar\"}],                        {\"margin\":{\"b\":10,\"l\":10,\"r\":10,\"t\":60},\"paper_bgcolor\":\"teal\",\"title\":{\"text\":\"gender dimension histogram\"},\"template\":{\"data\":{\"histogram2dcontour\":[{\"type\":\"histogram2dcontour\",\"colorbar\":{\"outlinewidth\":0,\"ticks\":\"\"},\"colorscale\":[[0.0,\"#0d0887\"],[0.1111111111111111,\"#46039f\"],[0.2222222222222222,\"#7201a8\"],[0.3333333333333333,\"#9c179e\"],[0.4444444444444444,\"#bd3786\"],[0.5555555555555556,\"#d8576b\"],[0.6666666666666666,\"#ed7953\"],[0.7777777777777778,\"#fb9f3a\"],[0.8888888888888888,\"#fdca26\"],[1.0,\"#f0f921\"]]}],\"choropleth\":[{\"type\":\"choropleth\",\"colorbar\":{\"outlinewidth\":0,\"ticks\":\"\"}}],\"histogram2d\":[{\"type\":\"histogram2d\",\"colorbar\":{\"outlinewidth\":0,\"ticks\":\"\"},\"colorscale\":[[0.0,\"#0d0887\"],[0.1111111111111111,\"#46039f\"],[0.2222222222222222,\"#7201a8\"],[0.3333333333333333,\"#9c179e\"],[0.4444444444444444,\"#bd3786\"],[0.5555555555555556,\"#d8576b\"],[0.6666666666666666,\"#ed7953\"],[0.7777777777777778,\"#fb9f3a\"],[0.8888888888888888,\"#fdca26\"],[1.0,\"#f0f921\"]]}],\"heatmap\":[{\"type\":\"heatmap\",\"colorbar\":{\"outlinewidth\":0,\"ticks\":\"\"},\"colorscale\":[[0.0,\"#0d0887\"],[0.1111111111111111,\"#46039f\"],[0.2222222222222222,\"#7201a8\"],[0.3333333333333333,\"#9c179e\"],[0.4444444444444444,\"#bd3786\"],[0.5555555555555556,\"#d8576b\"],[0.6666666666666666,\"#ed7953\"],[0.7777777777777778,\"#fb9f3a\"],[0.8888888888888888,\"#fdca26\"],[1.0,\"#f0f921\"]]}],\"heatmapgl\":[{\"type\":\"heatmapgl\",\"colorbar\":{\"outlinewidth\":0,\"ticks\":\"\"},\"colorscale\":[[0.0,\"#0d0887\"],[0.1111111111111111,\"#46039f\"],[0.2222222222222222,\"#7201a8\"],[0.3333333333333333,\"#9c179e\"],[0.4444444444444444,\"#bd3786\"],[0.5555555555555556,\"#d8576b\"],[0.6666666666666666,\"#ed7953\"],[0.7777777777777778,\"#fb9f3a\"],[0.8888888888888888,\"#fdca26\"],[1.0,\"#f0f921\"]]}],\"contourcarpet\":[{\"type\":\"contourcarpet\",\"colorbar\":{\"outlinewidth\":0,\"ticks\":\"\"}}],\"contour\":[{\"type\":\"contour\",\"colorbar\":{\"outlinewidth\":0,\"ticks\":\"\"},\"colorscale\":[[0.0,\"#0d0887\"],[0.1111111111111111,\"#46039f\"],[0.2222222222222222,\"#7201a8\"],[0.3333333333333333,\"#9c179e\"],[0.4444444444444444,\"#bd3786\"],[0.5555555555555556,\"#d8576b\"],[0.6666666666666666,\"#ed7953\"],[0.7777777777777778,\"#fb9f3a\"],[0.8888888888888888,\"#fdca26\"],[1.0,\"#f0f921\"]]}],\"surface\":[{\"type\":\"surface\",\"colorbar\":{\"outlinewidth\":0,\"ticks\":\"\"},\"colorscale\":[[0.0,\"#0d0887\"],[0.1111111111111111,\"#46039f\"],[0.2222222222222222,\"#7201a8\"],[0.3333333333333333,\"#9c179e\"],[0.4444444444444444,\"#bd3786\"],[0.5555555555555556,\"#d8576b\"],[0.6666666666666666,\"#ed7953\"],[0.7777777777777778,\"#fb9f3a\"],[0.8888888888888888,\"#fdca26\"],[1.0,\"#f0f921\"]]}],\"mesh3d\":[{\"type\":\"mesh3d\",\"colorbar\":{\"outlinewidth\":0,\"ticks\":\"\"}}],\"scatter\":[{\"fillpattern\":{\"fillmode\":\"overlay\",\"size\":10,\"solidity\":0.2},\"type\":\"scatter\"}],\"parcoords\":[{\"type\":\"parcoords\",\"line\":{\"colorbar\":{\"outlinewidth\":0,\"ticks\":\"\"}}}],\"scatterpolargl\":[{\"type\":\"scatterpolargl\",\"marker\":{\"colorbar\":{\"outlinewidth\":0,\"ticks\":\"\"}}}],\"bar\":[{\"error_x\":{\"color\":\"#2a3f5f\"},\"error_y\":{\"color\":\"#2a3f5f\"},\"marker\":{\"line\":{\"color\":\"#E5ECF6\",\"width\":0.5},\"pattern\":{\"fillmode\":\"overlay\",\"size\":10,\"solidity\":0.2}},\"type\":\"bar\"}],\"scattergeo\":[{\"type\":\"scattergeo\",\"marker\":{\"colorbar\":{\"outlinewidth\":0,\"ticks\":\"\"}}}],\"scatterpolar\":[{\"type\":\"scatterpolar\",\"marker\":{\"colorbar\":{\"outlinewidth\":0,\"ticks\":\"\"}}}],\"histogram\":[{\"marker\":{\"pattern\":{\"fillmode\":\"overlay\",\"size\":10,\"solidity\":0.2}},\"type\":\"histogram\"}],\"scattergl\":[{\"type\":\"scattergl\",\"marker\":{\"colorbar\":{\"outlinewidth\":0,\"ticks\":\"\"}}}],\"scatter3d\":[{\"type\":\"scatter3d\",\"line\":{\"colorbar\":{\"outlinewidth\":0,\"ticks\":\"\"}},\"marker\":{\"colorbar\":{\"outlinewidth\":0,\"ticks\":\"\"}}}],\"scattermapbox\":[{\"type\":\"scattermapbox\",\"marker\":{\"colorbar\":{\"outlinewidth\":0,\"ticks\":\"\"}}}],\"scatterternary\":[{\"type\":\"scatterternary\",\"marker\":{\"colorbar\":{\"outlinewidth\":0,\"ticks\":\"\"}}}],\"scattercarpet\":[{\"type\":\"scattercarpet\",\"marker\":{\"colorbar\":{\"outlinewidth\":0,\"ticks\":\"\"}}}],\"carpet\":[{\"aaxis\":{\"endlinecolor\":\"#2a3f5f\",\"gridcolor\":\"white\",\"linecolor\":\"white\",\"minorgridcolor\":\"white\",\"startlinecolor\":\"#2a3f5f\"},\"baxis\":{\"endlinecolor\":\"#2a3f5f\",\"gridcolor\":\"white\",\"linecolor\":\"white\",\"minorgridcolor\":\"white\",\"startlinecolor\":\"#2a3f5f\"},\"type\":\"carpet\"}],\"table\":[{\"cells\":{\"fill\":{\"color\":\"#EBF0F8\"},\"line\":{\"color\":\"white\"}},\"header\":{\"fill\":{\"color\":\"#C8D4E3\"},\"line\":{\"color\":\"white\"}},\"type\":\"table\"}],\"barpolar\":[{\"marker\":{\"line\":{\"color\":\"#E5ECF6\",\"width\":0.5},\"pattern\":{\"fillmode\":\"overlay\",\"size\":10,\"solidity\":0.2}},\"type\":\"barpolar\"}],\"pie\":[{\"automargin\":true,\"type\":\"pie\"}]},\"layout\":{\"autotypenumbers\":\"strict\",\"colorway\":[\"#636efa\",\"#EF553B\",\"#00cc96\",\"#ab63fa\",\"#FFA15A\",\"#19d3f3\",\"#FF6692\",\"#B6E880\",\"#FF97FF\",\"#FECB52\"],\"font\":{\"color\":\"#2a3f5f\"},\"hovermode\":\"closest\",\"hoverlabel\":{\"align\":\"left\"},\"paper_bgcolor\":\"white\",\"plot_bgcolor\":\"#E5ECF6\",\"polar\":{\"bgcolor\":\"#E5ECF6\",\"angularaxis\":{\"gridcolor\":\"white\",\"linecolor\":\"white\",\"ticks\":\"\"},\"radialaxis\":{\"gridcolor\":\"white\",\"linecolor\":\"white\",\"ticks\":\"\"}},\"ternary\":{\"bgcolor\":\"#E5ECF6\",\"aaxis\":{\"gridcolor\":\"white\",\"linecolor\":\"white\",\"ticks\":\"\"},\"baxis\":{\"gridcolor\":\"white\",\"linecolor\":\"white\",\"ticks\":\"\"},\"caxis\":{\"gridcolor\":\"white\",\"linecolor\":\"white\",\"ticks\":\"\"}},\"coloraxis\":{\"colorbar\":{\"outlinewidth\":0,\"ticks\":\"\"}},\"colorscale\":{\"sequential\":[[0.0,\"#0d0887\"],[0.1111111111111111,\"#46039f\"],[0.2222222222222222,\"#7201a8\"],[0.3333333333333333,\"#9c179e\"],[0.4444444444444444,\"#bd3786\"],[0.5555555555555556,\"#d8576b\"],[0.6666666666666666,\"#ed7953\"],[0.7777777777777778,\"#fb9f3a\"],[0.8888888888888888,\"#fdca26\"],[1.0,\"#f0f921\"]],\"sequentialminus\":[[0.0,\"#0d0887\"],[0.1111111111111111,\"#46039f\"],[0.2222222222222222,\"#7201a8\"],[0.3333333333333333,\"#9c179e\"],[0.4444444444444444,\"#bd3786\"],[0.5555555555555556,\"#d8576b\"],[0.6666666666666666,\"#ed7953\"],[0.7777777777777778,\"#fb9f3a\"],[0.8888888888888888,\"#fdca26\"],[1.0,\"#f0f921\"]],\"diverging\":[[0,\"#8e0152\"],[0.1,\"#c51b7d\"],[0.2,\"#de77ae\"],[0.3,\"#f1b6da\"],[0.4,\"#fde0ef\"],[0.5,\"#f7f7f7\"],[0.6,\"#e6f5d0\"],[0.7,\"#b8e186\"],[0.8,\"#7fbc41\"],[0.9,\"#4d9221\"],[1,\"#276419\"]]},\"xaxis\":{\"gridcolor\":\"white\",\"linecolor\":\"white\",\"ticks\":\"\",\"title\":{\"standoff\":15},\"zerolinecolor\":\"white\",\"automargin\":true,\"zerolinewidth\":2},\"yaxis\":{\"gridcolor\":\"white\",\"linecolor\":\"white\",\"ticks\":\"\",\"title\":{\"standoff\":15},\"zerolinecolor\":\"white\",\"automargin\":true,\"zerolinewidth\":2},\"scene\":{\"xaxis\":{\"backgroundcolor\":\"#E5ECF6\",\"gridcolor\":\"white\",\"linecolor\":\"white\",\"showbackground\":true,\"ticks\":\"\",\"zerolinecolor\":\"white\",\"gridwidth\":2},\"yaxis\":{\"backgroundcolor\":\"#E5ECF6\",\"gridcolor\":\"white\",\"linecolor\":\"white\",\"showbackground\":true,\"ticks\":\"\",\"zerolinecolor\":\"white\",\"gridwidth\":2},\"zaxis\":{\"backgroundcolor\":\"#E5ECF6\",\"gridcolor\":\"white\",\"linecolor\":\"white\",\"showbackground\":true,\"ticks\":\"\",\"zerolinecolor\":\"white\",\"gridwidth\":2}},\"shapedefaults\":{\"line\":{\"color\":\"#2a3f5f\"}},\"annotationdefaults\":{\"arrowcolor\":\"#2a3f5f\",\"arrowhead\":0,\"arrowwidth\":1},\"geo\":{\"bgcolor\":\"white\",\"landcolor\":\"#E5ECF6\",\"subunitcolor\":\"white\",\"showland\":true,\"showlakes\":true,\"lakecolor\":\"white\"},\"title\":{\"x\":0.05},\"mapbox\":{\"style\":\"light\"}}},\"xaxis\":{\"title\":{\"text\":\"Dimension's value\"}},\"yaxis\":{\"title\":{\"text\":\"Density\"}}},                        {\"responsive\": true}                    ).then(function(){\n",
              "                            \n",
              "var gd = document.getElementById('a08a1ac3-16a5-42c1-a04a-1ccc99dff38c');\n",
              "var x = new MutationObserver(function (mutations, observer) {{\n",
              "        var display = window.getComputedStyle(gd).display;\n",
              "        if (!display || display === 'none') {{\n",
              "            console.log([gd, 'removed!']);\n",
              "            Plotly.purge(gd);\n",
              "            observer.disconnect();\n",
              "        }}\n",
              "}});\n",
              "\n",
              "// Listen for the removal of the full notebook cells\n",
              "var notebookContainer = gd.closest('#notebook-container');\n",
              "if (notebookContainer) {{\n",
              "    x.observe(notebookContainer, {childList: true});\n",
              "}}\n",
              "\n",
              "// Listen for the clearing of the current output cell\n",
              "var outputEl = gd.closest('.output');\n",
              "if (outputEl) {{\n",
              "    x.observe(outputEl, {childList: true});\n",
              "}}\n",
              "\n",
              "                        })                };                });            </script>        </div>"
            ]
          },
          "metadata": {},
          "output_type": "display_data"
        }
      ],
      "source": [
        "embeddings_gender = np.dot(Model.embeddings, gender_vector)\n",
        "\n",
        "df1g = pd.DataFrame(dict(\n",
        "    gender=embeddings_gender,\n",
        "    prob=d1,\n",
        "    token_id=range(Model.vocab_size)\n",
        "))\n",
        "\n",
        "df2g = pd.DataFrame(dict(\n",
        "    gender=embeddings_gender,\n",
        "    prob=d2,\n",
        "    token_id=range(Model.vocab_size)\n",
        "))\n",
        "\n",
        "show_hists(\n",
        "    df1g.gender, df2g.gender, df1g, df2g, title=\"gender dimension histogram\"\n",
        ")"
      ]
    },
    {
      "cell_type": "code",
      "execution_count": null,
      "metadata": {
        "id": "WNlm1uQ5vjt3"
      },
      "outputs": [],
      "source": []
    }
  ],
  "metadata": {
    "accelerator": "GPU",
    "anaconda-cloud": {},
    "colab": {
      "collapsed_sections": [
        "S2--1HVkQVtC",
        "Q_wpBSP5QRwm",
        "RMf8BfYp8cmu",
        "GkxHugWm8cmv",
        "wf_aQL2zyctB",
        "NT7iXgQ5ygHJ",
        "eT5MgR9c8cmw",
        "DSzU71Py8cmw",
        "foXbXK5hzOMK",
        "LMNxiGn4zSWM",
        "U_gvi71u8cmx",
        "pfPwNFdG8cmx",
        "NzPEjNgy8cmy",
        "_y3HPIzny9Nt",
        "QmVXexNM8cmy",
        "R2x8vTQe8cmy",
        "xVe5xcPH0huW",
        "tt3veAgz0leV",
        "ZRlS60X4048e",
        "VOMP3Ka68cmz",
        "ATzu8nJF1HUs",
        "xvy-FEsz1L5y",
        "A6v1tYIH1S5c",
        "ICwRJ-Fk1YgK",
        "U0JNeCce8cmz",
        "uGKsM3Jj1uWL",
        "Y2oD02St8cmz",
        "e4_RIuHAkf4r",
        "WiEK1E-g2H-h",
        "_WEW9YDj2OIA",
        "u2oHZBJt8cmz",
        "qOF2Mwyq2XUf",
        "qRm7ZKIp2Y6s",
        "nhLC0ctD8cm0"
      ],
      "private_outputs": true,
      "provenance": []
    },
    "gpuClass": "standard",
    "kernelspec": {
      "display_name": "Python 3.7.13 ('python37_pytorch_cuda')",
      "language": "python",
      "name": "python3"
    },
    "language_info": {
      "codemirror_mode": {
        "name": "ipython",
        "version": 3
      },
      "file_extension": ".py",
      "mimetype": "text/x-python",
      "name": "python",
      "nbconvert_exporter": "python",
      "pygments_lexer": "ipython3",
      "version": "3.7.13"
    },
    "vscode": {
      "interpreter": {
        "hash": "5c887fbf053ca26987bbc53439e0f6b5aed35740853e2f251f93c3825002a8ec"
      }
    }
  },
  "nbformat": 4,
  "nbformat_minor": 0
}
