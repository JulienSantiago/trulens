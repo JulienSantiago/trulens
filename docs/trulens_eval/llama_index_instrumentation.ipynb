{
 "cells": [
  {
   "cell_type": "markdown",
   "metadata": {},
   "source": [
    "# Llama-Index\n",
    "\n",
    "TruLens provides TruLlama, a deep integration with Llama-Index to allow you to inspect and evaluate the internals of your application built using Llama-Index.\n",
    "\n",
    "TruLlama captures all of the metrics and metadata listed in the [instrumentation overview](../basic_instrumentation). In addition, TruLlama provides the `select_source_nodes` method to capture the source nodes of your query.\n",
    "\n",
    "TruLlama supports both sync and async modes using the following Llama-Index query engine methods:\n",
    "* `query`\n",
    "* `aquery`\n",
    "* `chat`\n",
    "* `achat`\n",
    "* `stream_chat`\n",
    "* `astream_chat`\n",
    "\n",
    "You can find the quickstart available here: [Llama-Index Quickstart](../llama_index_quickstart)\n",
    "\n",
    "For more usage examples, check out the [Llama-Index examples directory](https://github.com/truera/trulens/tree/main/trulens_eval/examples/frameworks/llama_index)."
   ]
  }
 ],
 "metadata": {
  "kernelspec": {
   "display_name": "Python 3.11.3 64-bit ('saas_ga')",
   "language": "python",
   "name": "python3"
  },
  "language_info": {
   "name": "python",
   "version": "3.11.3"
  },
  "orig_nbformat": 4,
  "vscode": {
   "interpreter": {
    "hash": "9c18147cca92ce3cf104f5cbe1f8090c1871fa0fa706f72173a849fae969970c"
   }
  }
 },
 "nbformat": 4,
 "nbformat_minor": 2
}
