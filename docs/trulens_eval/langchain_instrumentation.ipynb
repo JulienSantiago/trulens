{
 "cells": [
  {
   "cell_type": "markdown",
   "metadata": {},
   "source": [
    "# LangChain\n",
    "\n",
    "TruLens provides TruChain, a deep integration with LangChain to allow you to inspect and evaluate the internals of your application built using LangChain.\n",
    "\n",
    "TruChain captures all of the metrics and metadata listed in the [instrumentation overview](./basic_instrumentation). In addition, TruChain instruments the following LangChain classes:\n",
    "\n",
    "* langchain.chains.base.Chain\n",
    "* langchain.vectorstores.base.BaseRetriever\n",
    "* langchain.schema.BaseRetriever\n",
    "* langchain.llms.base.BaseLLM\n",
    "* langchain.prompts.base.BasePromptTemplate\n",
    "* langchain.schema.BaseMemory\n",
    "* langchain.schema.BaseChatMessageHistory\n",
    "\n",
    "TruChain also provides async support for Langchain through the `acall` method.\n",
    "\n",
    "You can find the quickstart available here: [LangChain Quickstart])(../langchain_quickstart)\n",
    "\n",
    "For more usage examples, check out the [LangChain examples directory](https://github.com/truera/trulens/tree/main/trulens_eval/examples/frameworks/langchain)."
   ]
  }
 ],
 "metadata": {
  "kernelspec": {
   "display_name": "Python 3.11.3 64-bit ('saas_ga')",
   "language": "python",
   "name": "python3"
  },
  "language_info": {
   "name": "python",
   "version": "3.11.3"
  },
  "orig_nbformat": 4,
  "vscode": {
   "interpreter": {
    "hash": "9c18147cca92ce3cf104f5cbe1f8090c1871fa0fa706f72173a849fae969970c"
   }
  }
 },
 "nbformat": 4,
 "nbformat_minor": 2
}
