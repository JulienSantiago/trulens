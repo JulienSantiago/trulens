{
 "cells": [
  {
   "cell_type": "markdown",
   "metadata": {},
   "source": [
    "# Instrumentation Overview\n",
    "\n",
    "TruLens provides a number of different instrumentation frameworks to allow you to inspect and evaluate the internals of your application and its associated records.\n",
    "\n",
    "## What can you track?\n",
    "\n",
    "### **Usage Metrics**\n",
    "* Number of requests (n_requests)\n",
    "* Number of successful ones (n_successful_requests)\n",
    "* Number of class scores retrieved (n_classes)\n",
    "* Total tokens processed (n_tokens)\n",
    "* In streaming mode, number of chunks produced (n_stream_chunks)\n",
    "* Number of prompt tokens supplied (n_prompt_tokens)\n",
    "* Number of completion tokens generated (n_completion_tokens)\n",
    "* Cost in USD (cost)\n",
    "\n",
    "**App Metadata**\n",
    "* App ID (app_id) - user supplied string or automatically generated hash\n",
    "* Tags (tags) - user supplied string\n",
    "* Model metadata - user supplied json\n",
    "\n",
    "**Session Metadata**\n",
    "* Session ID (session_id) - automatically generated, to track sequences of records\n",
    "\n",
    "**Record Metadata**\n",
    "* Record ID (record_id) - automatically generated, track individual application calls\n",
    "* Timestamp (ts) - automatcially tracked, the timestamp of the application call\n",
    "* Latency (latency) - the difference between the application call start and end time."
   ]
  },
  {
   "cell_type": "markdown",
   "metadata": {},
   "source": [
    "Outside of integrations, TruLens supports the instrumentation of any text-to-text application, including custom ones.\n",
    "\n",
    "The way to track this type of application is through TruBasicApp."
   ]
  }
 ],
 "metadata": {
  "kernelspec": {
   "display_name": "Python 3.11.3 64-bit ('saas_ga')",
   "language": "python",
   "name": "python3"
  },
  "language_info": {
   "name": "python",
   "version": "3.11.3"
  },
  "orig_nbformat": 4,
  "vscode": {
   "interpreter": {
    "hash": "9c18147cca92ce3cf104f5cbe1f8090c1871fa0fa706f72173a849fae969970c"
   }
  }
 },
 "nbformat": 4,
 "nbformat_minor": 2
}
