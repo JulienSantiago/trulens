{
 "cells": [
  {
   "cell_type": "code",
   "execution_count": 21,
   "metadata": {},
   "outputs": [],
   "source": [
    "# Import relevance feedback function\n",
    "from trulens_eval.feedback import GroundTruthAgreement, BenchmarkAggregator\n",
    "from trulens_eval import Tru\n",
    "import numpy as np\n",
    "tru = Tru()\n",
    "golden_set = [\n",
    "    \n",
    "    {'query': \"who are the Apple's competitors?\", 'response': 'Apple competitors include Samsung, Google, and Microsoft.', 'expected_score': 1.0},\n",
    "    {'query': \"what is the capital of France?\", 'response': 'Paris is the capital of France.', 'expected_score': 1.0},\n",
    "    {'query': \"what is the capital of Spain?\", 'response': 'I love going to Spain.', 'expected_score': 0},\n",
    "    \n",
    "    \n",
    "]\n",
    "# Create a Feedback object using the numeric_difference method of the ground_truth object\n",
    "ground_truth = GroundTruthAgreement(golden_set)\n",
    "\n"
   ]
  },
  {
   "cell_type": "code",
   "execution_count": 31,
   "metadata": {},
   "outputs": [],
   "source": [
    "tru.reset_database()"
   ]
  },
  {
   "cell_type": "code",
   "execution_count": 24,
   "metadata": {},
   "outputs": [],
   "source": [
    "from trulens_eval.feedback import Cortex\n",
    "\n",
    "provider = Cortex(model_engine=\"snowflake-arctic\")\n",
    "\n"
   ]
  },
  {
   "cell_type": "code",
   "execution_count": 25,
   "metadata": {},
   "outputs": [],
   "source": [
    "\n",
    "from typing import Tuple\n",
    "\n",
    "\n",
    "def context_relevance_ff_to_score(input, output, temperature):\n",
    "    return provider.context_relevance(question=input, context=output, temperature=temperature)\n",
    "\n",
    "\n",
    "def context_relevance_ff_to_score_with_confidence(input, output, temperature) -> Tuple[float, float]:\n",
    "    return provider.context_relevance_verb_confidence(question=input, context=output, temperature=temperature)"
   ]
  },
  {
   "cell_type": "markdown",
   "metadata": {},
   "source": [
    "### Collect all prompt and expected responses from the golden set and pass to BenchmarkAggregator as ground truth labels"
   ]
  },
  {
   "cell_type": "code",
   "execution_count": 27,
   "metadata": {},
   "outputs": [],
   "source": [
    "prompts = []\n",
    "responses = []\n",
    "for i in range(len(golden_set)):\n",
    "    prompt = golden_set[i][\"query\"]\n",
    "    response = golden_set[i][\"response\"]\n",
    "    \n",
    "    prompts.append(prompt)\n",
    "    responses.append(response)\n",
    "    \n",
    "true_labels = [entry[\"expected_score\"] for entry in golden_set]\n",
    "\n",
    "mae_agg_func = BenchmarkAggregator(true_labels=true_labels).mae\n",
    "\n",
    "  "
   ]
  },
  {
   "cell_type": "code",
   "execution_count": 28,
   "metadata": {},
   "outputs": [
    {
     "name": "stdout",
     "output_type": "stream",
     "text": [
      "✅ In metric_mae, input x will be set to __record__.app.run_feedback_on_single_row.rets .\n"
     ]
    }
   ],
   "source": [
    "\n",
    "from trulens_eval.feedback.benchmark_frameworks.tru_benchmark_experiment import BenchmarkParams\n",
    "\n",
    "tru_benchmark_arctic =  tru.BenchmarkExperiment(app_id=\"benchmark_arctic\", ground_truth=golden_set, feedback_to_score_fn=context_relevance_ff_to_score, agg_funcs=[mae_agg_func], benchmark_params=BenchmarkParams(temperature=0))"
   ]
  },
  {
   "cell_type": "code",
   "execution_count": 32,
   "metadata": {},
   "outputs": [
    {
     "name": "stderr",
     "output_type": "stream",
     "text": [
      "/opt/anaconda3/envs/trulens/lib/python3.11/site-packages/pydantic/main.py:347: UserWarning: Pydantic serializer warnings:\n",
      "  Expected `str` but got `tuple` - serialized value may not be as expected\n",
      "  return self.__pydantic_serializer__.to_python(\n"
     ]
    }
   ],
   "source": [
    "with tru_benchmark_arctic as recording:\n",
    "    feedback_res = tru_benchmark_arctic.app.collect_feedback_scores()\n"
   ]
  },
  {
   "cell_type": "code",
   "execution_count": 35,
   "metadata": {},
   "outputs": [
    {
     "data": {
      "text/plain": [
       "[1.0, 1.0, 0.3333333333333333]"
      ]
     },
     "execution_count": 35,
     "metadata": {},
     "output_type": "execute_result"
    }
   ],
   "source": [
    "feedback_res # generate feedback scores from our context relevance feedback function "
   ]
  },
  {
   "cell_type": "code",
   "execution_count": 34,
   "metadata": {},
   "outputs": [
    {
     "data": {
      "text/html": [
       "<div>\n",
       "<style scoped>\n",
       "    .dataframe tbody tr th:only-of-type {\n",
       "        vertical-align: middle;\n",
       "    }\n",
       "\n",
       "    .dataframe tbody tr th {\n",
       "        vertical-align: top;\n",
       "    }\n",
       "\n",
       "    .dataframe thead th {\n",
       "        text-align: right;\n",
       "    }\n",
       "</style>\n",
       "<table border=\"1\" class=\"dataframe\">\n",
       "  <thead>\n",
       "    <tr style=\"text-align: right;\">\n",
       "      <th></th>\n",
       "      <th>metric_mae</th>\n",
       "      <th>latency</th>\n",
       "      <th>total_cost</th>\n",
       "    </tr>\n",
       "    <tr>\n",
       "      <th>app_id</th>\n",
       "      <th></th>\n",
       "      <th></th>\n",
       "      <th></th>\n",
       "    </tr>\n",
       "  </thead>\n",
       "  <tbody>\n",
       "    <tr>\n",
       "      <th>benchmark_arctic</th>\n",
       "      <td>0.111111</td>\n",
       "      <td>2.0</td>\n",
       "      <td>0.0</td>\n",
       "    </tr>\n",
       "  </tbody>\n",
       "</table>\n",
       "</div>"
      ],
      "text/plain": [
       "                  metric_mae  latency  total_cost\n",
       "app_id                                           \n",
       "benchmark_arctic    0.111111      2.0         0.0"
      ]
     },
     "execution_count": 34,
     "metadata": {},
     "output_type": "execute_result"
    }
   ],
   "source": [
    "\n",
    "tru.get_leaderboard(app_ids=[])"
   ]
  },
  {
   "cell_type": "code",
   "execution_count": 36,
   "metadata": {},
   "outputs": [
    {
     "name": "stdout",
     "output_type": "stream",
     "text": [
      "✅ In metric_ece, input x will be set to __record__.app.run_feedback_on_single_row.rets .\n"
     ]
    }
   ],
   "source": [
    "\n",
    "ece_agg_func = BenchmarkAggregator(true_labels=true_labels).ece\n",
    "tru_benchmark_arctic_calibration =  tru.BenchmarkExperiment(app_id=\"benchmark_arctic with calibration\", ground_truth=golden_set, feedback_to_score_fn=context_relevance_ff_to_score_with_confidence, agg_funcs=[ece_agg_func], benchmark_params=BenchmarkParams(temperature=0))"
   ]
  },
  {
   "cell_type": "code",
   "execution_count": 18,
   "metadata": {},
   "outputs": [
    {
     "name": "stderr",
     "output_type": "stream",
     "text": [
      "/opt/anaconda3/envs/trulens/lib/python3.11/site-packages/pydantic/main.py:347: UserWarning: Pydantic serializer warnings:\n",
      "  Expected `str` but got `tuple` - serialized value may not be as expected\n",
      "  return self.__pydantic_serializer__.to_python(\n"
     ]
    }
   ],
   "source": [
    "with tru_benchmark_arctic_calibration as recording:\n",
    "    feedback_results = tru_benchmark_arctic_calibration.app.collect_feedback_scores()\n"
   ]
  },
  {
   "cell_type": "code",
   "execution_count": 20,
   "metadata": {},
   "outputs": [
    {
     "data": {
      "text/plain": [
       "([0.0, 1.0, 1.0], [0.9, 1.0, 1.0])"
      ]
     },
     "execution_count": 20,
     "metadata": {},
     "output_type": "execute_result"
    }
   ],
   "source": [
    "feedback_results"
   ]
  },
  {
   "cell_type": "code",
   "execution_count": 19,
   "metadata": {},
   "outputs": [
    {
     "data": {
      "text/html": [
       "<div>\n",
       "<style scoped>\n",
       "    .dataframe tbody tr th:only-of-type {\n",
       "        vertical-align: middle;\n",
       "    }\n",
       "\n",
       "    .dataframe tbody tr th {\n",
       "        vertical-align: top;\n",
       "    }\n",
       "\n",
       "    .dataframe thead th {\n",
       "        text-align: right;\n",
       "    }\n",
       "</style>\n",
       "<table border=\"1\" class=\"dataframe\">\n",
       "  <thead>\n",
       "    <tr style=\"text-align: right;\">\n",
       "      <th></th>\n",
       "      <th>metric_ece</th>\n",
       "      <th>latency</th>\n",
       "      <th>total_cost</th>\n",
       "    </tr>\n",
       "    <tr>\n",
       "      <th>app_id</th>\n",
       "      <th></th>\n",
       "      <th></th>\n",
       "      <th></th>\n",
       "    </tr>\n",
       "  </thead>\n",
       "  <tbody>\n",
       "    <tr>\n",
       "      <th>benchmark_arctic with calibration</th>\n",
       "      <td>0.6333</td>\n",
       "      <td>0.0</td>\n",
       "      <td>0.0</td>\n",
       "    </tr>\n",
       "  </tbody>\n",
       "</table>\n",
       "</div>"
      ],
      "text/plain": [
       "                                   metric_ece  latency  total_cost\n",
       "app_id                                                            \n",
       "benchmark_arctic with calibration      0.6333      0.0         0.0"
      ]
     },
     "execution_count": 19,
     "metadata": {},
     "output_type": "execute_result"
    }
   ],
   "source": [
    "tru.get_leaderboard(app_ids=[])"
   ]
  },
  {
   "cell_type": "code",
   "execution_count": null,
   "metadata": {},
   "outputs": [],
   "source": []
  }
 ],
 "metadata": {
  "kernelspec": {
   "display_name": "Python 3",
   "language": "python",
   "name": "python3"
  },
  "language_info": {
   "codemirror_mode": {
    "name": "ipython",
    "version": 3
   },
   "file_extension": ".py",
   "mimetype": "text/x-python",
   "name": "python",
   "nbconvert_exporter": "python",
   "pygments_lexer": "ipython3",
   "version": "3.11.9"
  }
 },
 "nbformat": 4,
 "nbformat_minor": 2
}
