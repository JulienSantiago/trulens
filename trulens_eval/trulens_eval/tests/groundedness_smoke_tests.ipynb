{
 "cells": [
  {
   "cell_type": "markdown",
   "metadata": {},
   "source": [
    "## Groundedness Evaluations\n",
    "\n",
    "In many ways, feedbacks can be thought of as LLM apps themselves. Given text, they return some result. Thinking in this way, we can use TruLens to evaluate and track our feedback quality. We can even do this for different models (e.g. gpt-3.5 and gpt-4) or prompting schemes (such as chain-of-thought reasoning).\n",
    "\n",
    "This notebook follows an evaluation of a set of test cases generated from human annotated datasets. In particular, we generate test cases from [SummEval](https://arxiv.org/abs/2007.12626).\n",
    "\n",
    "SummEval is one of the datasets dedicated to automated evaluations on summarization tasks, which are closely related to the groundedness evaluation in RAG with the retrieved context (i.e. the source) and response (i.e. the summary). It contains human annotation of numerical score (**1** to **5**) comprised of scoring from 3 human expert annotators and 5 croweded-sourced annotators. There are 16 models being used for generation in total for 100 paragraphs in the test set, so there are a total of 16,000 machine-generated summaries. Each paragraph also has several human-written summaries for comparative analysis. \n",
    "\n",
    "\n",
    "For evaluating groundedness feedback functions, we calculate the annotated \"relevance\" and \"consistency (aka factuality)\" scores with equal weights and normalized to **0** to **1** score to mathc the output of feedback functions."
   ]
  },
  {
   "cell_type": "code",
   "execution_count": 1,
   "metadata": {},
   "outputs": [
    {
     "name": "stdout",
     "output_type": "stream",
     "text": [
      "🦑 Tru initialized with db url sqlite:///default.sqlite .\n",
      "🛑 Secret keys may be written to the database. See the `database_redact_keys` option of `Tru` to prevent this.\n",
      "Deleted 0 rows.\n"
     ]
    }
   ],
   "source": [
    "# Import groundedness feedback function\n",
    "from trulens_eval.feedback import GroundTruthAgreement, Groundedness\n",
    "from trulens_eval import TruBasicApp, Feedback, Tru, Select, feedback, TruCustomApp\n",
    "from test_cases import generate_summeval_groundedness_golden_set\n",
    "\n",
    "\n",
    "Tru().reset_database()\n",
    "\n",
    "# generator for groundedness golden set\n",
    "test_cases_gen = generate_summeval_groundedness_golden_set(\"./datasets/summeval_test_100.json\")\n",
    "\n",
    "# generate x number of test cases\n",
    "groundedness_golden_set = []\n",
    "for i in range(50):\n",
    "    groundedness_golden_set.append(next(test_cases_gen))"
   ]
  },
  {
   "cell_type": "code",
   "execution_count": 2,
   "metadata": {},
   "outputs": [
    {
     "data": {
      "text/plain": [
       "[{'query': '(CNN)Donald Sterling\\'s racist remarks cost him an NBA team last year. But now it\\'s his former female companion who has lost big. A Los Angeles judge has ordered V. Stiviano to pay back more than $2.6 million in gifts after Sterling\\'s wife sued her. In the lawsuit, Rochelle \"Shelly\" Sterling accused Stiviano of targeting extremely wealthy older men. She claimed Donald Sterling used the couple\\'s money to buy Stiviano a Ferrari, two Bentleys and a Range Rover, and that he helped her get a $1.8 million duplex. Who is V. Stiviano? Stiviano countered that there was nothing wrong with Donald Sterling giving her gifts and that she never took advantage of the former Los Angeles Clippers owner, who made much of his fortune in real estate. Shelly Sterling was thrilled with the court decision Tuesday, her lawyer told CNN affiliate KABC. \"This is a victory for the Sterling family in recovering the $2,630,000 that Donald lavished on a conniving mistress,\" attorney Pierce O\\'Donnell said in a statement. \"It also sets a precedent that the injured spouse can recover damages from the recipient of these ill-begotten gifts.\" Stiviano\\'s gifts from Donald Sterling didn\\'t just include uber-expensive items like luxury cars. According to the Los Angeles Times, the list also includes a $391 Easter bunny costume, a $299 two-speed blender and a $12 lace thong. Donald Sterling\\'s downfall came after an audio recording surfaced of the octogenarian arguing with Stiviano. In the tape, Sterling chastises Stiviano for posting pictures on social media of her posing with African-Americans, including basketball legend Magic Johnson. \"In your lousy f**ing Instagrams, you don\\'t have to have yourself with -- walking with black people,\" Sterling said in the audio first posted by TMZ. He also tells Stiviano not to bring Johnson to Clippers games and not to post photos with the Hall of Famer so Sterling\\'s friends can see. \"Admire him, bring him here, feed him, f**k him, but don\\'t put (Magic) on an Instagram for the world to have to see so they have to call me,\" Sterling said. NBA Commissioner Adam Silver banned Sterling from the league, fined him $2.5 million and pushed through a charge to terminate all of his ownership rights in the franchise. Fact check: Donald Sterling\\'s claims vs. reality CNN\\'s Dottie Evans contributed to this report.',\n",
       "  'response': \"donald sterling , nba team last year . sterling 's wife sued for $ 2.6 million in gifts . sterling says he is the former female companion who has lost the . sterling has ordered v. stiviano to pay back $ 2.6 m in gifts after his wife sued . sterling also includes a $ 391 easter bunny costume , $ 299 and a $ 299 .\",\n",
       "  'expected_score': 0.27},\n",
       " {'query': '(CNN)Donald Sterling\\'s racist remarks cost him an NBA team last year. But now it\\'s his former female companion who has lost big. A Los Angeles judge has ordered V. Stiviano to pay back more than $2.6 million in gifts after Sterling\\'s wife sued her. In the lawsuit, Rochelle \"Shelly\" Sterling accused Stiviano of targeting extremely wealthy older men. She claimed Donald Sterling used the couple\\'s money to buy Stiviano a Ferrari, two Bentleys and a Range Rover, and that he helped her get a $1.8 million duplex. Who is V. Stiviano? Stiviano countered that there was nothing wrong with Donald Sterling giving her gifts and that she never took advantage of the former Los Angeles Clippers owner, who made much of his fortune in real estate. Shelly Sterling was thrilled with the court decision Tuesday, her lawyer told CNN affiliate KABC. \"This is a victory for the Sterling family in recovering the $2,630,000 that Donald lavished on a conniving mistress,\" attorney Pierce O\\'Donnell said in a statement. \"It also sets a precedent that the injured spouse can recover damages from the recipient of these ill-begotten gifts.\" Stiviano\\'s gifts from Donald Sterling didn\\'t just include uber-expensive items like luxury cars. According to the Los Angeles Times, the list also includes a $391 Easter bunny costume, a $299 two-speed blender and a $12 lace thong. Donald Sterling\\'s downfall came after an audio recording surfaced of the octogenarian arguing with Stiviano. In the tape, Sterling chastises Stiviano for posting pictures on social media of her posing with African-Americans, including basketball legend Magic Johnson. \"In your lousy f**ing Instagrams, you don\\'t have to have yourself with -- walking with black people,\" Sterling said in the audio first posted by TMZ. He also tells Stiviano not to bring Johnson to Clippers games and not to post photos with the Hall of Famer so Sterling\\'s friends can see. \"Admire him, bring him here, feed him, f**k him, but don\\'t put (Magic) on an Instagram for the world to have to see so they have to call me,\" Sterling said. NBA Commissioner Adam Silver banned Sterling from the league, fined him $2.5 million and pushed through a charge to terminate all of his ownership rights in the franchise. Fact check: Donald Sterling\\'s claims vs. reality CNN\\'s Dottie Evans contributed to this report.',\n",
       "  'response': \"donald sterling accused stiviano of targeting extremely wealthy older men . she claimed donald sterling used the couple 's money to buy stiviano a ferrari , two bentleys and a range rover . stiviano countered that there was nothing wrong with donald sterling giving her gifts .\",\n",
       "  'expected_score': 0.4},\n",
       " {'query': '(CNN)Donald Sterling\\'s racist remarks cost him an NBA team last year. But now it\\'s his former female companion who has lost big. A Los Angeles judge has ordered V. Stiviano to pay back more than $2.6 million in gifts after Sterling\\'s wife sued her. In the lawsuit, Rochelle \"Shelly\" Sterling accused Stiviano of targeting extremely wealthy older men. She claimed Donald Sterling used the couple\\'s money to buy Stiviano a Ferrari, two Bentleys and a Range Rover, and that he helped her get a $1.8 million duplex. Who is V. Stiviano? Stiviano countered that there was nothing wrong with Donald Sterling giving her gifts and that she never took advantage of the former Los Angeles Clippers owner, who made much of his fortune in real estate. Shelly Sterling was thrilled with the court decision Tuesday, her lawyer told CNN affiliate KABC. \"This is a victory for the Sterling family in recovering the $2,630,000 that Donald lavished on a conniving mistress,\" attorney Pierce O\\'Donnell said in a statement. \"It also sets a precedent that the injured spouse can recover damages from the recipient of these ill-begotten gifts.\" Stiviano\\'s gifts from Donald Sterling didn\\'t just include uber-expensive items like luxury cars. According to the Los Angeles Times, the list also includes a $391 Easter bunny costume, a $299 two-speed blender and a $12 lace thong. Donald Sterling\\'s downfall came after an audio recording surfaced of the octogenarian arguing with Stiviano. In the tape, Sterling chastises Stiviano for posting pictures on social media of her posing with African-Americans, including basketball legend Magic Johnson. \"In your lousy f**ing Instagrams, you don\\'t have to have yourself with -- walking with black people,\" Sterling said in the audio first posted by TMZ. He also tells Stiviano not to bring Johnson to Clippers games and not to post photos with the Hall of Famer so Sterling\\'s friends can see. \"Admire him, bring him here, feed him, f**k him, but don\\'t put (Magic) on an Instagram for the world to have to see so they have to call me,\" Sterling said. NBA Commissioner Adam Silver banned Sterling from the league, fined him $2.5 million and pushed through a charge to terminate all of his ownership rights in the franchise. Fact check: Donald Sterling\\'s claims vs. reality CNN\\'s Dottie Evans contributed to this report.',\n",
       "  'response': \"a los angeles judge has ordered v. stiviano to pay back more than $ 2.6 million in gifts after sterling 's wife sued her . -lrb- cnn -rrb- donald sterling 's racist remarks cost him an nba team last year . but now it 's his former female companion who has lost big . who is v. stiviano ? .\",\n",
       "  'expected_score': 0.7}]"
      ]
     },
     "execution_count": 2,
     "metadata": {},
     "output_type": "execute_result"
    }
   ],
   "source": [
    "groundedness_golden_set[:3]"
   ]
  },
  {
   "cell_type": "code",
   "execution_count": 3,
   "metadata": {},
   "outputs": [],
   "source": [
    "import os\n",
    "os.environ[\"OPENAI_API_KEY\"] = \"...\"\n",
    "os.environ[\"HUGGINGFACE_API_KEY\"] = \"...\""
   ]
  },
  {
   "cell_type": "markdown",
   "metadata": {},
   "source": [
    "### Benchmarking various Groundedness feedback function providers (OpenAI GPT-3.5-turbo vs GPT-4 vs Huggingface)"
   ]
  },
  {
   "cell_type": "code",
   "execution_count": 4,
   "metadata": {},
   "outputs": [
    {
     "name": "stdout",
     "output_type": "stream",
     "text": [
      "✅ In Groundedness Huggingface, input source will be set to __record__.main_input or `Select.RecordInput` .\n",
      "✅ In Groundedness Huggingface, input statement will be set to __record__.main_output or `Select.RecordOutput` .\n",
      "✅ In Groundedness OpenAI GPT-3.5, input source will be set to __record__.main_input or `Select.RecordInput` .\n",
      "✅ In Groundedness OpenAI GPT-3.5, input statement will be set to __record__.main_output or `Select.RecordOutput` .\n",
      "✅ In Groundedness OpenAI GPT-4, input source will be set to __record__.main_input or `Select.RecordInput` .\n",
      "✅ In Groundedness OpenAI GPT-4, input statement will be set to __record__.main_output or `Select.RecordOutput` .\n"
     ]
    }
   ],
   "source": [
    "from trulens_eval.feedback.provider.hugs import Huggingface\n",
    "from trulens_eval.feedback.provider import OpenAI\n",
    "import numpy as np\n",
    "\n",
    "huggingface_provider = Huggingface()\n",
    "groundedness_hug = Groundedness(groundedness_provider=huggingface_provider)\n",
    "f_groundedness_hug = Feedback(groundedness_hug.groundedness_measure, name = \"Groundedness Huggingface\").on_input().on_output().aggregate(groundedness_hug.grounded_statements_aggregator)\n",
    "def wrapped_groundedness_hug(input, output):\n",
    "    return np.mean(list(f_groundedness_hug(input, output)[0].values()))\n",
    "     \n",
    "    \n",
    "    \n",
    "groundedness_openai = Groundedness(groundedness_provider=OpenAI(model_engine=\"gpt-3.5-turbo\"))  # GPT-3.5-turbot being the default model if not specified\n",
    "f_groundedness_openai = Feedback(groundedness_openai.groundedness_measure, name = \"Groundedness OpenAI GPT-3.5\").on_input().on_output().aggregate(groundedness_openai.grounded_statements_aggregator)\n",
    "def wrapped_groundedness_openai(input, output):\n",
    "    return f_groundedness_openai(input, output)[0]['full_doc_score']\n",
    "\n",
    "groundedness_openai_gpt4 = Groundedness(groundedness_provider=OpenAI(model_engine=\"gpt-4\"))\n",
    "f_groundedness_openai_gpt4 = Feedback(groundedness_openai_gpt4.groundedness_measure, name = \"Groundedness OpenAI GPT-4\").on_input().on_output().aggregate(groundedness_openai_gpt4.grounded_statements_aggregator)\n",
    "def wrapped_groundedness_openai_gpt4(input, output):\n",
    "    return f_groundedness_openai_gpt4(input, output)[0]['full_doc_score']"
   ]
  },
  {
   "cell_type": "code",
   "execution_count": 5,
   "metadata": {},
   "outputs": [
    {
     "name": "stdout",
     "output_type": "stream",
     "text": [
      "✅ In Mean Absolute Error, input prompt will be set to __record__.calls[0].args.args[0] .\n",
      "✅ In Mean Absolute Error, input response will be set to __record__.calls[0].args.args[1] .\n",
      "✅ In Mean Absolute Error, input score will be set to __record__.main_output or `Select.RecordOutput` .\n"
     ]
    }
   ],
   "source": [
    "# Create a Feedback object using the numeric_difference method of the ground_truth object\n",
    "ground_truth = GroundTruthAgreement(groundedness_golden_set)\n",
    "# Call the numeric_difference method with app and record and aggregate to get the mean absolute error\n",
    "f_mae = Feedback(ground_truth.mae, name = \"Mean Absolute Error\").on(Select.Record.calls[0].args.args[0]).on(Select.Record.calls[0].args.args[1]).on_output()"
   ]
  },
  {
   "cell_type": "code",
   "execution_count": 6,
   "metadata": {},
   "outputs": [
    {
     "name": "stdout",
     "output_type": "stream",
     "text": [
      "✅ added app groundedness huggingface\n",
      "✅ added feedback definition feedback_definition_hash_ca9bbb2338965a9d34e17ae53f641d9c\n",
      "✅ added app groundedness openai\n",
      "✅ added feedback definition feedback_definition_hash_ca9bbb2338965a9d34e17ae53f641d9c\n",
      "✅ added app groundedness openai gpt4\n",
      "✅ added feedback definition feedback_definition_hash_ca9bbb2338965a9d34e17ae53f641d9c\n"
     ]
    }
   ],
   "source": [
    "tru_wrapped_groundedness_hug = TruBasicApp(wrapped_groundedness_hug, app_id = \"groundedness huggingface\", feedbacks=[f_mae])\n",
    "tru_wrapped_groundedness_openai = TruBasicApp(wrapped_groundedness_openai, app_id = \"groundedness openai\", feedbacks=[f_mae])\n",
    "tru_wrapped_groundedness_openai_gpt4 = TruBasicApp(wrapped_groundedness_openai_gpt4, app_id = \"groundedness openai gpt4\", feedbacks=[f_mae])"
   ]
  },
  {
   "cell_type": "code",
   "execution_count": 7,
   "metadata": {
    "scrolled": false
   },
   "outputs": [
    {
     "name": "stderr",
     "output_type": "stream",
     "text": [
      "A new object of type <class 'trulens_eval.tru_basic_app.TruWrapperApp'> at 0x1a1e13890 is calling an instrumented method <function TruWrapperApp._call at 0x1a1e54720>. The path of this call may be incorrect.\n",
      "Guessing path of new object is app based on other object (0x1a1e8ab50) using this function.\n",
      "Feedback function `groundedness_measure` was renamed to `groundedness_measure_with_cot_reasons`. The new functionality of `groundedness_measure` function will no longer emit reasons as a lower cost option. It may have reduced accuracy due to not using Chain of Thought reasoning in the scoring.\n"
     ]
    },
    {
     "data": {
      "application/vnd.jupyter.widget-view+json": {
       "model_id": "66144fbc288844e5a5103a5fbe2f91a6",
       "version_major": 2,
       "version_minor": 0
      },
      "text/plain": [
       "Groundendess per statement in source:   0%|          | 0/9 [00:00<?, ?it/s]"
      ]
     },
     "metadata": {},
     "output_type": "display_data"
    },
    {
     "name": "stderr",
     "output_type": "stream",
     "text": [
      "Unsure what the main input string is for the call to _call with args ['(CNN)Donald Sterling\\'s racist remarks cost him an NBA team last year. But now it\\'s his former female companion who has lost big. A Los Angeles judge has ordered V. Stiviano to pay back more than $2.6 million in gifts after Sterling\\'s wife sued her. In the lawsuit, Rochelle \"Shelly\" Sterling accused Stiviano of targeting extremely wealthy older men. She claimed Donald Sterling used the couple\\'s money to buy Stiviano a Ferrari, two Bentleys and a Range Rover, and that he helped her get a $1.8 million duplex. Who is V. Stiviano? Stiviano countered that there was nothing wrong with Donald Sterling giving her gifts and that she never took advantage of the former Los Angeles Clippers owner, who made much of his fortune in real estate. Shelly Sterling was thrilled with the court decision Tuesday, her lawyer told CNN affiliate KABC. \"This is a victory for the Sterling family in recovering the $2,630,000 that Donald lavished on a conniving mistress,\" attorney Pierce O\\'Donnell said in a statement. \"It also sets a precedent that the injured spouse can recover damages from the recipient of these ill-begotten gifts.\" Stiviano\\'s gifts from Donald Sterling didn\\'t just include uber-expensive items like luxury cars. According to the Los Angeles Times, the list also includes a $391 Easter bunny costume, a $299 two-speed blender and a $12 lace thong. Donald Sterling\\'s downfall came after an audio recording surfaced of the octogenarian arguing with Stiviano. In the tape, Sterling chastises Stiviano for posting pictures on social media of her posing with African-Americans, including basketball legend Magic Johnson. \"In your lousy f**ing Instagrams, you don\\'t have to have yourself with -- walking with black people,\" Sterling said in the audio first posted by TMZ. He also tells Stiviano not to bring Johnson to Clippers games and not to post photos with the Hall of Famer so Sterling\\'s friends can see. \"Admire him, bring him here, feed him, f**k him, but don\\'t put (Magic) on an Instagram for the world to have to see so they have to call me,\" Sterling said. NBA Commissioner Adam Silver banned Sterling from the league, fined him $2.5 million and pushed through a charge to terminate all of his ownership rights in the franchise. Fact check: Donald Sterling\\'s claims vs. reality CNN\\'s Dottie Evans contributed to this report.', \"donald sterling , nba team last year . sterling 's wife sued for $ 2.6 million in gifts . sterling says he is the former female companion who has lost the . sterling has ordered v. stiviano to pay back $ 2.6 m in gifts after his wife sued . sterling also includes a $ 391 easter bunny costume , $ 299 and a $ 299 .\"].\n",
      "Feedback function `groundedness_measure` was renamed to `groundedness_measure_with_cot_reasons`. The new functionality of `groundedness_measure` function will no longer emit reasons as a lower cost option. It may have reduced accuracy due to not using Chain of Thought reasoning in the scoring.\n"
     ]
    },
    {
     "name": "stdout",
     "output_type": "stream",
     "text": [
      "✅ added record record_hash_70aebc2241448dcdb0f818da428ae671\n",
      "✅ feedback result Mean Absolute Error DONE feedback_result_hash_90ff1a33d4029bb1f22b8711dbb6e575\n"
     ]
    },
    {
     "name": "stderr",
     "output_type": "stream",
     "text": [
      "Unsure what the main input string is for the call to _call with args ['(CNN)Donald Sterling\\'s racist remarks cost him an NBA team last year. But now it\\'s his former female companion who has lost big. A Los Angeles judge has ordered V. Stiviano to pay back more than $2.6 million in gifts after Sterling\\'s wife sued her. In the lawsuit, Rochelle \"Shelly\" Sterling accused Stiviano of targeting extremely wealthy older men. She claimed Donald Sterling used the couple\\'s money to buy Stiviano a Ferrari, two Bentleys and a Range Rover, and that he helped her get a $1.8 million duplex. Who is V. Stiviano? Stiviano countered that there was nothing wrong with Donald Sterling giving her gifts and that she never took advantage of the former Los Angeles Clippers owner, who made much of his fortune in real estate. Shelly Sterling was thrilled with the court decision Tuesday, her lawyer told CNN affiliate KABC. \"This is a victory for the Sterling family in recovering the $2,630,000 that Donald lavished on a conniving mistress,\" attorney Pierce O\\'Donnell said in a statement. \"It also sets a precedent that the injured spouse can recover damages from the recipient of these ill-begotten gifts.\" Stiviano\\'s gifts from Donald Sterling didn\\'t just include uber-expensive items like luxury cars. According to the Los Angeles Times, the list also includes a $391 Easter bunny costume, a $299 two-speed blender and a $12 lace thong. Donald Sterling\\'s downfall came after an audio recording surfaced of the octogenarian arguing with Stiviano. In the tape, Sterling chastises Stiviano for posting pictures on social media of her posing with African-Americans, including basketball legend Magic Johnson. \"In your lousy f**ing Instagrams, you don\\'t have to have yourself with -- walking with black people,\" Sterling said in the audio first posted by TMZ. He also tells Stiviano not to bring Johnson to Clippers games and not to post photos with the Hall of Famer so Sterling\\'s friends can see. \"Admire him, bring him here, feed him, f**k him, but don\\'t put (Magic) on an Instagram for the world to have to see so they have to call me,\" Sterling said. NBA Commissioner Adam Silver banned Sterling from the league, fined him $2.5 million and pushed through a charge to terminate all of his ownership rights in the franchise. Fact check: Donald Sterling\\'s claims vs. reality CNN\\'s Dottie Evans contributed to this report.', \"donald sterling , nba team last year . sterling 's wife sued for $ 2.6 million in gifts . sterling says he is the former female companion who has lost the . sterling has ordered v. stiviano to pay back $ 2.6 m in gifts after his wife sued . sterling also includes a $ 391 easter bunny costume , $ 299 and a $ 299 .\"].\n",
      "A new object of type <class 'trulens_eval.tru_basic_app.TruWrapperApp'> at 0x1a2138950 is calling an instrumented method <function TruWrapperApp._call at 0x1a1e54720>. The path of this call may be incorrect.\n",
      "Guessing path of new object is app based on other object (0x1a1e8ab50) using this function.\n",
      "Feedback function `groundedness_measure` was renamed to `groundedness_measure_with_cot_reasons`. The new functionality of `groundedness_measure` function will no longer emit reasons as a lower cost option. It may have reduced accuracy due to not using Chain of Thought reasoning in the scoring.\n"
     ]
    },
    {
     "name": "stdout",
     "output_type": "stream",
     "text": [
      "✅ added record record_hash_cecc11fa8a78bccfb435ff9d60ee5331\n",
      "✅ feedback result Mean Absolute Error DONE feedback_result_hash_b336bca8a53f7d072325ac873065ca2d\n"
     ]
    },
    {
     "name": "stderr",
     "output_type": "stream",
     "text": [
      "Unsure what the main input string is for the call to _call with args ['(CNN)Donald Sterling\\'s racist remarks cost him an NBA team last year. But now it\\'s his former female companion who has lost big. A Los Angeles judge has ordered V. Stiviano to pay back more than $2.6 million in gifts after Sterling\\'s wife sued her. In the lawsuit, Rochelle \"Shelly\" Sterling accused Stiviano of targeting extremely wealthy older men. She claimed Donald Sterling used the couple\\'s money to buy Stiviano a Ferrari, two Bentleys and a Range Rover, and that he helped her get a $1.8 million duplex. Who is V. Stiviano? Stiviano countered that there was nothing wrong with Donald Sterling giving her gifts and that she never took advantage of the former Los Angeles Clippers owner, who made much of his fortune in real estate. Shelly Sterling was thrilled with the court decision Tuesday, her lawyer told CNN affiliate KABC. \"This is a victory for the Sterling family in recovering the $2,630,000 that Donald lavished on a conniving mistress,\" attorney Pierce O\\'Donnell said in a statement. \"It also sets a precedent that the injured spouse can recover damages from the recipient of these ill-begotten gifts.\" Stiviano\\'s gifts from Donald Sterling didn\\'t just include uber-expensive items like luxury cars. According to the Los Angeles Times, the list also includes a $391 Easter bunny costume, a $299 two-speed blender and a $12 lace thong. Donald Sterling\\'s downfall came after an audio recording surfaced of the octogenarian arguing with Stiviano. In the tape, Sterling chastises Stiviano for posting pictures on social media of her posing with African-Americans, including basketball legend Magic Johnson. \"In your lousy f**ing Instagrams, you don\\'t have to have yourself with -- walking with black people,\" Sterling said in the audio first posted by TMZ. He also tells Stiviano not to bring Johnson to Clippers games and not to post photos with the Hall of Famer so Sterling\\'s friends can see. \"Admire him, bring him here, feed him, f**k him, but don\\'t put (Magic) on an Instagram for the world to have to see so they have to call me,\" Sterling said. NBA Commissioner Adam Silver banned Sterling from the league, fined him $2.5 million and pushed through a charge to terminate all of his ownership rights in the franchise. Fact check: Donald Sterling\\'s claims vs. reality CNN\\'s Dottie Evans contributed to this report.', \"donald sterling , nba team last year . sterling 's wife sued for $ 2.6 million in gifts . sterling says he is the former female companion who has lost the . sterling has ordered v. stiviano to pay back $ 2.6 m in gifts after his wife sued . sterling also includes a $ 391 easter bunny costume , $ 299 and a $ 299 .\"].\n",
      "Feedback function `groundedness_measure` was renamed to `groundedness_measure_with_cot_reasons`. The new functionality of `groundedness_measure` function will no longer emit reasons as a lower cost option. It may have reduced accuracy due to not using Chain of Thought reasoning in the scoring.\n"
     ]
    },
    {
     "name": "stdout",
     "output_type": "stream",
     "text": [
      "✅ added record record_hash_ad54f8325fb85ad0f6264b22ff27d3c5\n",
      "✅ feedback result Mean Absolute Error DONE feedback_result_hash_949ce0984421c4dbfde02d5b4cdf0c48\n"
     ]
    },
    {
     "data": {
      "application/vnd.jupyter.widget-view+json": {
       "model_id": "4b26ea2e86f545af97c43074b0d51971",
       "version_major": 2,
       "version_minor": 0
      },
      "text/plain": [
       "Groundendess per statement in source:   0%|          | 0/4 [00:00<?, ?it/s]"
      ]
     },
     "metadata": {},
     "output_type": "display_data"
    },
    {
     "name": "stderr",
     "output_type": "stream",
     "text": [
      "Unsure what the main input string is for the call to _call with args ['(CNN)Donald Sterling\\'s racist remarks cost him an NBA team last year. But now it\\'s his former female companion who has lost big. A Los Angeles judge has ordered V. Stiviano to pay back more than $2.6 million in gifts after Sterling\\'s wife sued her. In the lawsuit, Rochelle \"Shelly\" Sterling accused Stiviano of targeting extremely wealthy older men. She claimed Donald Sterling used the couple\\'s money to buy Stiviano a Ferrari, two Bentleys and a Range Rover, and that he helped her get a $1.8 million duplex. Who is V. Stiviano? Stiviano countered that there was nothing wrong with Donald Sterling giving her gifts and that she never took advantage of the former Los Angeles Clippers owner, who made much of his fortune in real estate. Shelly Sterling was thrilled with the court decision Tuesday, her lawyer told CNN affiliate KABC. \"This is a victory for the Sterling family in recovering the $2,630,000 that Donald lavished on a conniving mistress,\" attorney Pierce O\\'Donnell said in a statement. \"It also sets a precedent that the injured spouse can recover damages from the recipient of these ill-begotten gifts.\" Stiviano\\'s gifts from Donald Sterling didn\\'t just include uber-expensive items like luxury cars. According to the Los Angeles Times, the list also includes a $391 Easter bunny costume, a $299 two-speed blender and a $12 lace thong. Donald Sterling\\'s downfall came after an audio recording surfaced of the octogenarian arguing with Stiviano. In the tape, Sterling chastises Stiviano for posting pictures on social media of her posing with African-Americans, including basketball legend Magic Johnson. \"In your lousy f**ing Instagrams, you don\\'t have to have yourself with -- walking with black people,\" Sterling said in the audio first posted by TMZ. He also tells Stiviano not to bring Johnson to Clippers games and not to post photos with the Hall of Famer so Sterling\\'s friends can see. \"Admire him, bring him here, feed him, f**k him, but don\\'t put (Magic) on an Instagram for the world to have to see so they have to call me,\" Sterling said. NBA Commissioner Adam Silver banned Sterling from the league, fined him $2.5 million and pushed through a charge to terminate all of his ownership rights in the franchise. Fact check: Donald Sterling\\'s claims vs. reality CNN\\'s Dottie Evans contributed to this report.', \"donald sterling accused stiviano of targeting extremely wealthy older men . she claimed donald sterling used the couple 's money to buy stiviano a ferrari , two bentleys and a range rover . stiviano countered that there was nothing wrong with donald sterling giving her gifts .\"].\n",
      "Feedback function `groundedness_measure` was renamed to `groundedness_measure_with_cot_reasons`. The new functionality of `groundedness_measure` function will no longer emit reasons as a lower cost option. It may have reduced accuracy due to not using Chain of Thought reasoning in the scoring.\n"
     ]
    },
    {
     "name": "stdout",
     "output_type": "stream",
     "text": [
      "✅ added record record_hash_e0fcdf730b4779951b774a8219174c89\n",
      "✅ feedback result Mean Absolute Error DONE feedback_result_hash_ef2462f25b392accbf7e4f1d543fd3a3\n"
     ]
    },
    {
     "name": "stderr",
     "output_type": "stream",
     "text": [
      "Unsure what the main input string is for the call to _call with args ['(CNN)Donald Sterling\\'s racist remarks cost him an NBA team last year. But now it\\'s his former female companion who has lost big. A Los Angeles judge has ordered V. Stiviano to pay back more than $2.6 million in gifts after Sterling\\'s wife sued her. In the lawsuit, Rochelle \"Shelly\" Sterling accused Stiviano of targeting extremely wealthy older men. She claimed Donald Sterling used the couple\\'s money to buy Stiviano a Ferrari, two Bentleys and a Range Rover, and that he helped her get a $1.8 million duplex. Who is V. Stiviano? Stiviano countered that there was nothing wrong with Donald Sterling giving her gifts and that she never took advantage of the former Los Angeles Clippers owner, who made much of his fortune in real estate. Shelly Sterling was thrilled with the court decision Tuesday, her lawyer told CNN affiliate KABC. \"This is a victory for the Sterling family in recovering the $2,630,000 that Donald lavished on a conniving mistress,\" attorney Pierce O\\'Donnell said in a statement. \"It also sets a precedent that the injured spouse can recover damages from the recipient of these ill-begotten gifts.\" Stiviano\\'s gifts from Donald Sterling didn\\'t just include uber-expensive items like luxury cars. According to the Los Angeles Times, the list also includes a $391 Easter bunny costume, a $299 two-speed blender and a $12 lace thong. Donald Sterling\\'s downfall came after an audio recording surfaced of the octogenarian arguing with Stiviano. In the tape, Sterling chastises Stiviano for posting pictures on social media of her posing with African-Americans, including basketball legend Magic Johnson. \"In your lousy f**ing Instagrams, you don\\'t have to have yourself with -- walking with black people,\" Sterling said in the audio first posted by TMZ. He also tells Stiviano not to bring Johnson to Clippers games and not to post photos with the Hall of Famer so Sterling\\'s friends can see. \"Admire him, bring him here, feed him, f**k him, but don\\'t put (Magic) on an Instagram for the world to have to see so they have to call me,\" Sterling said. NBA Commissioner Adam Silver banned Sterling from the league, fined him $2.5 million and pushed through a charge to terminate all of his ownership rights in the franchise. Fact check: Donald Sterling\\'s claims vs. reality CNN\\'s Dottie Evans contributed to this report.', \"donald sterling accused stiviano of targeting extremely wealthy older men . she claimed donald sterling used the couple 's money to buy stiviano a ferrari , two bentleys and a range rover . stiviano countered that there was nothing wrong with donald sterling giving her gifts .\"].\n",
      "Feedback function `groundedness_measure` was renamed to `groundedness_measure_with_cot_reasons`. The new functionality of `groundedness_measure` function will no longer emit reasons as a lower cost option. It may have reduced accuracy due to not using Chain of Thought reasoning in the scoring.\n"
     ]
    },
    {
     "name": "stdout",
     "output_type": "stream",
     "text": [
      "✅ added record record_hash_e9a6d7a66f354bda49518b1d0b023f98\n",
      "✅ feedback result Mean Absolute Error DONE feedback_result_hash_f614869c9c3a9278adc4cef7e2f93a11\n"
     ]
    },
    {
     "name": "stderr",
     "output_type": "stream",
     "text": [
      "Unsure what the main input string is for the call to _call with args ['(CNN)Donald Sterling\\'s racist remarks cost him an NBA team last year. But now it\\'s his former female companion who has lost big. A Los Angeles judge has ordered V. Stiviano to pay back more than $2.6 million in gifts after Sterling\\'s wife sued her. In the lawsuit, Rochelle \"Shelly\" Sterling accused Stiviano of targeting extremely wealthy older men. She claimed Donald Sterling used the couple\\'s money to buy Stiviano a Ferrari, two Bentleys and a Range Rover, and that he helped her get a $1.8 million duplex. Who is V. Stiviano? Stiviano countered that there was nothing wrong with Donald Sterling giving her gifts and that she never took advantage of the former Los Angeles Clippers owner, who made much of his fortune in real estate. Shelly Sterling was thrilled with the court decision Tuesday, her lawyer told CNN affiliate KABC. \"This is a victory for the Sterling family in recovering the $2,630,000 that Donald lavished on a conniving mistress,\" attorney Pierce O\\'Donnell said in a statement. \"It also sets a precedent that the injured spouse can recover damages from the recipient of these ill-begotten gifts.\" Stiviano\\'s gifts from Donald Sterling didn\\'t just include uber-expensive items like luxury cars. According to the Los Angeles Times, the list also includes a $391 Easter bunny costume, a $299 two-speed blender and a $12 lace thong. Donald Sterling\\'s downfall came after an audio recording surfaced of the octogenarian arguing with Stiviano. In the tape, Sterling chastises Stiviano for posting pictures on social media of her posing with African-Americans, including basketball legend Magic Johnson. \"In your lousy f**ing Instagrams, you don\\'t have to have yourself with -- walking with black people,\" Sterling said in the audio first posted by TMZ. He also tells Stiviano not to bring Johnson to Clippers games and not to post photos with the Hall of Famer so Sterling\\'s friends can see. \"Admire him, bring him here, feed him, f**k him, but don\\'t put (Magic) on an Instagram for the world to have to see so they have to call me,\" Sterling said. NBA Commissioner Adam Silver banned Sterling from the league, fined him $2.5 million and pushed through a charge to terminate all of his ownership rights in the franchise. Fact check: Donald Sterling\\'s claims vs. reality CNN\\'s Dottie Evans contributed to this report.', \"donald sterling accused stiviano of targeting extremely wealthy older men . she claimed donald sterling used the couple 's money to buy stiviano a ferrari , two bentleys and a range rover . stiviano countered that there was nothing wrong with donald sterling giving her gifts .\"].\n",
      "Feedback function `groundedness_measure` was renamed to `groundedness_measure_with_cot_reasons`. The new functionality of `groundedness_measure` function will no longer emit reasons as a lower cost option. It may have reduced accuracy due to not using Chain of Thought reasoning in the scoring.\n"
     ]
    },
    {
     "name": "stdout",
     "output_type": "stream",
     "text": [
      "✅ added record record_hash_9a73ed89d4e83e87c7ccb4e480a31a0c\n",
      "✅ feedback result Mean Absolute Error DONE feedback_result_hash_cebc00c6fb74d0a2edc0f055be10455a\n"
     ]
    },
    {
     "data": {
      "application/vnd.jupyter.widget-view+json": {
       "model_id": "168c4d53e91843b48a0467fd1c0ec952",
       "version_major": 2,
       "version_minor": 0
      },
      "text/plain": [
       "Groundendess per statement in source:   0%|          | 0/8 [00:00<?, ?it/s]"
      ]
     },
     "metadata": {},
     "output_type": "display_data"
    },
    {
     "name": "stderr",
     "output_type": "stream",
     "text": [
      "Unsure what the main input string is for the call to _call with args ['(CNN)Donald Sterling\\'s racist remarks cost him an NBA team last year. But now it\\'s his former female companion who has lost big. A Los Angeles judge has ordered V. Stiviano to pay back more than $2.6 million in gifts after Sterling\\'s wife sued her. In the lawsuit, Rochelle \"Shelly\" Sterling accused Stiviano of targeting extremely wealthy older men. She claimed Donald Sterling used the couple\\'s money to buy Stiviano a Ferrari, two Bentleys and a Range Rover, and that he helped her get a $1.8 million duplex. Who is V. Stiviano? Stiviano countered that there was nothing wrong with Donald Sterling giving her gifts and that she never took advantage of the former Los Angeles Clippers owner, who made much of his fortune in real estate. Shelly Sterling was thrilled with the court decision Tuesday, her lawyer told CNN affiliate KABC. \"This is a victory for the Sterling family in recovering the $2,630,000 that Donald lavished on a conniving mistress,\" attorney Pierce O\\'Donnell said in a statement. \"It also sets a precedent that the injured spouse can recover damages from the recipient of these ill-begotten gifts.\" Stiviano\\'s gifts from Donald Sterling didn\\'t just include uber-expensive items like luxury cars. According to the Los Angeles Times, the list also includes a $391 Easter bunny costume, a $299 two-speed blender and a $12 lace thong. Donald Sterling\\'s downfall came after an audio recording surfaced of the octogenarian arguing with Stiviano. In the tape, Sterling chastises Stiviano for posting pictures on social media of her posing with African-Americans, including basketball legend Magic Johnson. \"In your lousy f**ing Instagrams, you don\\'t have to have yourself with -- walking with black people,\" Sterling said in the audio first posted by TMZ. He also tells Stiviano not to bring Johnson to Clippers games and not to post photos with the Hall of Famer so Sterling\\'s friends can see. \"Admire him, bring him here, feed him, f**k him, but don\\'t put (Magic) on an Instagram for the world to have to see so they have to call me,\" Sterling said. NBA Commissioner Adam Silver banned Sterling from the league, fined him $2.5 million and pushed through a charge to terminate all of his ownership rights in the franchise. Fact check: Donald Sterling\\'s claims vs. reality CNN\\'s Dottie Evans contributed to this report.', \"a los angeles judge has ordered v. stiviano to pay back more than $ 2.6 million in gifts after sterling 's wife sued her . -lrb- cnn -rrb- donald sterling 's racist remarks cost him an nba team last year . but now it 's his former female companion who has lost big . who is v. stiviano ? .\"].\n",
      "Feedback function `groundedness_measure` was renamed to `groundedness_measure_with_cot_reasons`. The new functionality of `groundedness_measure` function will no longer emit reasons as a lower cost option. It may have reduced accuracy due to not using Chain of Thought reasoning in the scoring.\n"
     ]
    },
    {
     "name": "stdout",
     "output_type": "stream",
     "text": [
      "✅ added record record_hash_2df0f3039e0c14912f312dc616c48afa\n",
      "✅ feedback result Mean Absolute Error DONE feedback_result_hash_0bf5db1ad38e6bc6054dc6f6001bb040\n"
     ]
    },
    {
     "name": "stderr",
     "output_type": "stream",
     "text": [
      "Unsure what the main input string is for the call to _call with args ['(CNN)Donald Sterling\\'s racist remarks cost him an NBA team last year. But now it\\'s his former female companion who has lost big. A Los Angeles judge has ordered V. Stiviano to pay back more than $2.6 million in gifts after Sterling\\'s wife sued her. In the lawsuit, Rochelle \"Shelly\" Sterling accused Stiviano of targeting extremely wealthy older men. She claimed Donald Sterling used the couple\\'s money to buy Stiviano a Ferrari, two Bentleys and a Range Rover, and that he helped her get a $1.8 million duplex. Who is V. Stiviano? Stiviano countered that there was nothing wrong with Donald Sterling giving her gifts and that she never took advantage of the former Los Angeles Clippers owner, who made much of his fortune in real estate. Shelly Sterling was thrilled with the court decision Tuesday, her lawyer told CNN affiliate KABC. \"This is a victory for the Sterling family in recovering the $2,630,000 that Donald lavished on a conniving mistress,\" attorney Pierce O\\'Donnell said in a statement. \"It also sets a precedent that the injured spouse can recover damages from the recipient of these ill-begotten gifts.\" Stiviano\\'s gifts from Donald Sterling didn\\'t just include uber-expensive items like luxury cars. According to the Los Angeles Times, the list also includes a $391 Easter bunny costume, a $299 two-speed blender and a $12 lace thong. Donald Sterling\\'s downfall came after an audio recording surfaced of the octogenarian arguing with Stiviano. In the tape, Sterling chastises Stiviano for posting pictures on social media of her posing with African-Americans, including basketball legend Magic Johnson. \"In your lousy f**ing Instagrams, you don\\'t have to have yourself with -- walking with black people,\" Sterling said in the audio first posted by TMZ. He also tells Stiviano not to bring Johnson to Clippers games and not to post photos with the Hall of Famer so Sterling\\'s friends can see. \"Admire him, bring him here, feed him, f**k him, but don\\'t put (Magic) on an Instagram for the world to have to see so they have to call me,\" Sterling said. NBA Commissioner Adam Silver banned Sterling from the league, fined him $2.5 million and pushed through a charge to terminate all of his ownership rights in the franchise. Fact check: Donald Sterling\\'s claims vs. reality CNN\\'s Dottie Evans contributed to this report.', \"a los angeles judge has ordered v. stiviano to pay back more than $ 2.6 million in gifts after sterling 's wife sued her . -lrb- cnn -rrb- donald sterling 's racist remarks cost him an nba team last year . but now it 's his former female companion who has lost big . who is v. stiviano ? .\"].\n",
      "Feedback function `groundedness_measure` was renamed to `groundedness_measure_with_cot_reasons`. The new functionality of `groundedness_measure` function will no longer emit reasons as a lower cost option. It may have reduced accuracy due to not using Chain of Thought reasoning in the scoring.\n"
     ]
    },
    {
     "name": "stdout",
     "output_type": "stream",
     "text": [
      "✅ added record record_hash_fa426a461c882ee0c8950da50252fdaf\n",
      "✅ feedback result Mean Absolute Error DONE feedback_result_hash_cfcb48910dccc5660c899db1252efb71\n"
     ]
    },
    {
     "name": "stderr",
     "output_type": "stream",
     "text": [
      "Unsure what the main input string is for the call to _call with args ['(CNN)Donald Sterling\\'s racist remarks cost him an NBA team last year. But now it\\'s his former female companion who has lost big. A Los Angeles judge has ordered V. Stiviano to pay back more than $2.6 million in gifts after Sterling\\'s wife sued her. In the lawsuit, Rochelle \"Shelly\" Sterling accused Stiviano of targeting extremely wealthy older men. She claimed Donald Sterling used the couple\\'s money to buy Stiviano a Ferrari, two Bentleys and a Range Rover, and that he helped her get a $1.8 million duplex. Who is V. Stiviano? Stiviano countered that there was nothing wrong with Donald Sterling giving her gifts and that she never took advantage of the former Los Angeles Clippers owner, who made much of his fortune in real estate. Shelly Sterling was thrilled with the court decision Tuesday, her lawyer told CNN affiliate KABC. \"This is a victory for the Sterling family in recovering the $2,630,000 that Donald lavished on a conniving mistress,\" attorney Pierce O\\'Donnell said in a statement. \"It also sets a precedent that the injured spouse can recover damages from the recipient of these ill-begotten gifts.\" Stiviano\\'s gifts from Donald Sterling didn\\'t just include uber-expensive items like luxury cars. According to the Los Angeles Times, the list also includes a $391 Easter bunny costume, a $299 two-speed blender and a $12 lace thong. Donald Sterling\\'s downfall came after an audio recording surfaced of the octogenarian arguing with Stiviano. In the tape, Sterling chastises Stiviano for posting pictures on social media of her posing with African-Americans, including basketball legend Magic Johnson. \"In your lousy f**ing Instagrams, you don\\'t have to have yourself with -- walking with black people,\" Sterling said in the audio first posted by TMZ. He also tells Stiviano not to bring Johnson to Clippers games and not to post photos with the Hall of Famer so Sterling\\'s friends can see. \"Admire him, bring him here, feed him, f**k him, but don\\'t put (Magic) on an Instagram for the world to have to see so they have to call me,\" Sterling said. NBA Commissioner Adam Silver banned Sterling from the league, fined him $2.5 million and pushed through a charge to terminate all of his ownership rights in the franchise. Fact check: Donald Sterling\\'s claims vs. reality CNN\\'s Dottie Evans contributed to this report.', \"a los angeles judge has ordered v. stiviano to pay back more than $ 2.6 million in gifts after sterling 's wife sued her . -lrb- cnn -rrb- donald sterling 's racist remarks cost him an nba team last year . but now it 's his former female companion who has lost big . who is v. stiviano ? .\"].\n",
      "Feedback function `groundedness_measure` was renamed to `groundedness_measure_with_cot_reasons`. The new functionality of `groundedness_measure` function will no longer emit reasons as a lower cost option. It may have reduced accuracy due to not using Chain of Thought reasoning in the scoring.\n"
     ]
    },
    {
     "name": "stdout",
     "output_type": "stream",
     "text": [
      "✅ added record record_hash_21f7b15e70a339d14f11117e94b60302\n",
      "✅ feedback result Mean Absolute Error DONE feedback_result_hash_3f95284ec78ec9e2e1ab44fca22d0633\n"
     ]
    },
    {
     "data": {
      "application/vnd.jupyter.widget-view+json": {
       "model_id": "1b6ad267ed3047ca9dc13d84b469728f",
       "version_major": 2,
       "version_minor": 0
      },
      "text/plain": [
       "Groundendess per statement in source:   0%|          | 0/4 [00:00<?, ?it/s]"
      ]
     },
     "metadata": {},
     "output_type": "display_data"
    },
    {
     "name": "stderr",
     "output_type": "stream",
     "text": [
      "Unsure what the main input string is for the call to _call with args ['(CNN)Donald Sterling\\'s racist remarks cost him an NBA team last year. But now it\\'s his former female companion who has lost big. A Los Angeles judge has ordered V. Stiviano to pay back more than $2.6 million in gifts after Sterling\\'s wife sued her. In the lawsuit, Rochelle \"Shelly\" Sterling accused Stiviano of targeting extremely wealthy older men. She claimed Donald Sterling used the couple\\'s money to buy Stiviano a Ferrari, two Bentleys and a Range Rover, and that he helped her get a $1.8 million duplex. Who is V. Stiviano? Stiviano countered that there was nothing wrong with Donald Sterling giving her gifts and that she never took advantage of the former Los Angeles Clippers owner, who made much of his fortune in real estate. Shelly Sterling was thrilled with the court decision Tuesday, her lawyer told CNN affiliate KABC. \"This is a victory for the Sterling family in recovering the $2,630,000 that Donald lavished on a conniving mistress,\" attorney Pierce O\\'Donnell said in a statement. \"It also sets a precedent that the injured spouse can recover damages from the recipient of these ill-begotten gifts.\" Stiviano\\'s gifts from Donald Sterling didn\\'t just include uber-expensive items like luxury cars. According to the Los Angeles Times, the list also includes a $391 Easter bunny costume, a $299 two-speed blender and a $12 lace thong. Donald Sterling\\'s downfall came after an audio recording surfaced of the octogenarian arguing with Stiviano. In the tape, Sterling chastises Stiviano for posting pictures on social media of her posing with African-Americans, including basketball legend Magic Johnson. \"In your lousy f**ing Instagrams, you don\\'t have to have yourself with -- walking with black people,\" Sterling said in the audio first posted by TMZ. He also tells Stiviano not to bring Johnson to Clippers games and not to post photos with the Hall of Famer so Sterling\\'s friends can see. \"Admire him, bring him here, feed him, f**k him, but don\\'t put (Magic) on an Instagram for the world to have to see so they have to call me,\" Sterling said. NBA Commissioner Adam Silver banned Sterling from the league, fined him $2.5 million and pushed through a charge to terminate all of his ownership rights in the franchise. Fact check: Donald Sterling\\'s claims vs. reality CNN\\'s Dottie Evans contributed to this report.', \"donald sterling 's wife sued stiviano of targeting extremely wealthy older men . she claimed donald sterling used the couple 's money to buy stiviano a ferrari , bentleys and a range rover . stiviano 's gifts from donald sterling did n't just include uber-expensive items like luxury cars .\"].\n",
      "Feedback function `groundedness_measure` was renamed to `groundedness_measure_with_cot_reasons`. The new functionality of `groundedness_measure` function will no longer emit reasons as a lower cost option. It may have reduced accuracy due to not using Chain of Thought reasoning in the scoring.\n"
     ]
    },
    {
     "name": "stdout",
     "output_type": "stream",
     "text": [
      "✅ added record record_hash_1ab8df7a05be466adb2e30b15ece73e9\n",
      "✅ feedback result Mean Absolute Error DONE feedback_result_hash_d7eabeab55dccd21684005ed7f682826\n"
     ]
    },
    {
     "name": "stderr",
     "output_type": "stream",
     "text": [
      "Unsure what the main input string is for the call to _call with args ['(CNN)Donald Sterling\\'s racist remarks cost him an NBA team last year. But now it\\'s his former female companion who has lost big. A Los Angeles judge has ordered V. Stiviano to pay back more than $2.6 million in gifts after Sterling\\'s wife sued her. In the lawsuit, Rochelle \"Shelly\" Sterling accused Stiviano of targeting extremely wealthy older men. She claimed Donald Sterling used the couple\\'s money to buy Stiviano a Ferrari, two Bentleys and a Range Rover, and that he helped her get a $1.8 million duplex. Who is V. Stiviano? Stiviano countered that there was nothing wrong with Donald Sterling giving her gifts and that she never took advantage of the former Los Angeles Clippers owner, who made much of his fortune in real estate. Shelly Sterling was thrilled with the court decision Tuesday, her lawyer told CNN affiliate KABC. \"This is a victory for the Sterling family in recovering the $2,630,000 that Donald lavished on a conniving mistress,\" attorney Pierce O\\'Donnell said in a statement. \"It also sets a precedent that the injured spouse can recover damages from the recipient of these ill-begotten gifts.\" Stiviano\\'s gifts from Donald Sterling didn\\'t just include uber-expensive items like luxury cars. According to the Los Angeles Times, the list also includes a $391 Easter bunny costume, a $299 two-speed blender and a $12 lace thong. Donald Sterling\\'s downfall came after an audio recording surfaced of the octogenarian arguing with Stiviano. In the tape, Sterling chastises Stiviano for posting pictures on social media of her posing with African-Americans, including basketball legend Magic Johnson. \"In your lousy f**ing Instagrams, you don\\'t have to have yourself with -- walking with black people,\" Sterling said in the audio first posted by TMZ. He also tells Stiviano not to bring Johnson to Clippers games and not to post photos with the Hall of Famer so Sterling\\'s friends can see. \"Admire him, bring him here, feed him, f**k him, but don\\'t put (Magic) on an Instagram for the world to have to see so they have to call me,\" Sterling said. NBA Commissioner Adam Silver banned Sterling from the league, fined him $2.5 million and pushed through a charge to terminate all of his ownership rights in the franchise. Fact check: Donald Sterling\\'s claims vs. reality CNN\\'s Dottie Evans contributed to this report.', \"donald sterling 's wife sued stiviano of targeting extremely wealthy older men . she claimed donald sterling used the couple 's money to buy stiviano a ferrari , bentleys and a range rover . stiviano 's gifts from donald sterling did n't just include uber-expensive items like luxury cars .\"].\n",
      "Feedback function `groundedness_measure` was renamed to `groundedness_measure_with_cot_reasons`. The new functionality of `groundedness_measure` function will no longer emit reasons as a lower cost option. It may have reduced accuracy due to not using Chain of Thought reasoning in the scoring.\n"
     ]
    },
    {
     "name": "stdout",
     "output_type": "stream",
     "text": [
      "✅ added record record_hash_9a939d7882e91933b2112d8d98828b32\n",
      "✅ feedback result Mean Absolute Error DONE feedback_result_hash_1bd8cdf8b4094177ea7c6d2dd74ebab4\n"
     ]
    },
    {
     "name": "stderr",
     "output_type": "stream",
     "text": [
      "Unsure what the main input string is for the call to _call with args ['(CNN)Donald Sterling\\'s racist remarks cost him an NBA team last year. But now it\\'s his former female companion who has lost big. A Los Angeles judge has ordered V. Stiviano to pay back more than $2.6 million in gifts after Sterling\\'s wife sued her. In the lawsuit, Rochelle \"Shelly\" Sterling accused Stiviano of targeting extremely wealthy older men. She claimed Donald Sterling used the couple\\'s money to buy Stiviano a Ferrari, two Bentleys and a Range Rover, and that he helped her get a $1.8 million duplex. Who is V. Stiviano? Stiviano countered that there was nothing wrong with Donald Sterling giving her gifts and that she never took advantage of the former Los Angeles Clippers owner, who made much of his fortune in real estate. Shelly Sterling was thrilled with the court decision Tuesday, her lawyer told CNN affiliate KABC. \"This is a victory for the Sterling family in recovering the $2,630,000 that Donald lavished on a conniving mistress,\" attorney Pierce O\\'Donnell said in a statement. \"It also sets a precedent that the injured spouse can recover damages from the recipient of these ill-begotten gifts.\" Stiviano\\'s gifts from Donald Sterling didn\\'t just include uber-expensive items like luxury cars. According to the Los Angeles Times, the list also includes a $391 Easter bunny costume, a $299 two-speed blender and a $12 lace thong. Donald Sterling\\'s downfall came after an audio recording surfaced of the octogenarian arguing with Stiviano. In the tape, Sterling chastises Stiviano for posting pictures on social media of her posing with African-Americans, including basketball legend Magic Johnson. \"In your lousy f**ing Instagrams, you don\\'t have to have yourself with -- walking with black people,\" Sterling said in the audio first posted by TMZ. He also tells Stiviano not to bring Johnson to Clippers games and not to post photos with the Hall of Famer so Sterling\\'s friends can see. \"Admire him, bring him here, feed him, f**k him, but don\\'t put (Magic) on an Instagram for the world to have to see so they have to call me,\" Sterling said. NBA Commissioner Adam Silver banned Sterling from the league, fined him $2.5 million and pushed through a charge to terminate all of his ownership rights in the franchise. Fact check: Donald Sterling\\'s claims vs. reality CNN\\'s Dottie Evans contributed to this report.', \"donald sterling 's wife sued stiviano of targeting extremely wealthy older men . she claimed donald sterling used the couple 's money to buy stiviano a ferrari , bentleys and a range rover . stiviano 's gifts from donald sterling did n't just include uber-expensive items like luxury cars .\"].\n",
      "Feedback function `groundedness_measure` was renamed to `groundedness_measure_with_cot_reasons`. The new functionality of `groundedness_measure` function will no longer emit reasons as a lower cost option. It may have reduced accuracy due to not using Chain of Thought reasoning in the scoring.\n"
     ]
    },
    {
     "name": "stdout",
     "output_type": "stream",
     "text": [
      "✅ added record record_hash_5d07005eaf5e10cca047a84663918d05\n",
      "✅ feedback result Mean Absolute Error DONE feedback_result_hash_b4cb481b7e11dab6b1cf4d8accb0726a\n"
     ]
    },
    {
     "data": {
      "application/vnd.jupyter.widget-view+json": {
       "model_id": "59cbb1d29e9347ba974f30b3062d9f27",
       "version_major": 2,
       "version_minor": 0
      },
      "text/plain": [
       "Groundendess per statement in source:   0%|          | 0/6 [00:00<?, ?it/s]"
      ]
     },
     "metadata": {},
     "output_type": "display_data"
    },
    {
     "name": "stderr",
     "output_type": "stream",
     "text": [
      "Unsure what the main input string is for the call to _call with args ['(CNN)Donald Sterling\\'s racist remarks cost him an NBA team last year. But now it\\'s his former female companion who has lost big. A Los Angeles judge has ordered V. Stiviano to pay back more than $2.6 million in gifts after Sterling\\'s wife sued her. In the lawsuit, Rochelle \"Shelly\" Sterling accused Stiviano of targeting extremely wealthy older men. She claimed Donald Sterling used the couple\\'s money to buy Stiviano a Ferrari, two Bentleys and a Range Rover, and that he helped her get a $1.8 million duplex. Who is V. Stiviano? Stiviano countered that there was nothing wrong with Donald Sterling giving her gifts and that she never took advantage of the former Los Angeles Clippers owner, who made much of his fortune in real estate. Shelly Sterling was thrilled with the court decision Tuesday, her lawyer told CNN affiliate KABC. \"This is a victory for the Sterling family in recovering the $2,630,000 that Donald lavished on a conniving mistress,\" attorney Pierce O\\'Donnell said in a statement. \"It also sets a precedent that the injured spouse can recover damages from the recipient of these ill-begotten gifts.\" Stiviano\\'s gifts from Donald Sterling didn\\'t just include uber-expensive items like luxury cars. According to the Los Angeles Times, the list also includes a $391 Easter bunny costume, a $299 two-speed blender and a $12 lace thong. Donald Sterling\\'s downfall came after an audio recording surfaced of the octogenarian arguing with Stiviano. In the tape, Sterling chastises Stiviano for posting pictures on social media of her posing with African-Americans, including basketball legend Magic Johnson. \"In your lousy f**ing Instagrams, you don\\'t have to have yourself with -- walking with black people,\" Sterling said in the audio first posted by TMZ. He also tells Stiviano not to bring Johnson to Clippers games and not to post photos with the Hall of Famer so Sterling\\'s friends can see. \"Admire him, bring him here, feed him, f**k him, but don\\'t put (Magic) on an Instagram for the world to have to see so they have to call me,\" Sterling said. NBA Commissioner Adam Silver banned Sterling from the league, fined him $2.5 million and pushed through a charge to terminate all of his ownership rights in the franchise. Fact check: Donald Sterling\\'s claims vs. reality CNN\\'s Dottie Evans contributed to this report.', \"donald sterling 's racist remarks cost him an nba team last year . but now it 's his former female companion who has lost big . a judge has ordered v. stiviano to pay back more than $ 2.6 million in gifts .\"].\n",
      "Feedback function `groundedness_measure` was renamed to `groundedness_measure_with_cot_reasons`. The new functionality of `groundedness_measure` function will no longer emit reasons as a lower cost option. It may have reduced accuracy due to not using Chain of Thought reasoning in the scoring.\n"
     ]
    },
    {
     "name": "stdout",
     "output_type": "stream",
     "text": [
      "✅ added record record_hash_7c8fb0e6e6e72c4b13f03544bf155945\n",
      "✅ feedback result Mean Absolute Error DONE feedback_result_hash_07c5c86fae673daaf80aca9fb0acdff2\n"
     ]
    },
    {
     "name": "stderr",
     "output_type": "stream",
     "text": [
      "Unsure what the main input string is for the call to _call with args ['(CNN)Donald Sterling\\'s racist remarks cost him an NBA team last year. But now it\\'s his former female companion who has lost big. A Los Angeles judge has ordered V. Stiviano to pay back more than $2.6 million in gifts after Sterling\\'s wife sued her. In the lawsuit, Rochelle \"Shelly\" Sterling accused Stiviano of targeting extremely wealthy older men. She claimed Donald Sterling used the couple\\'s money to buy Stiviano a Ferrari, two Bentleys and a Range Rover, and that he helped her get a $1.8 million duplex. Who is V. Stiviano? Stiviano countered that there was nothing wrong with Donald Sterling giving her gifts and that she never took advantage of the former Los Angeles Clippers owner, who made much of his fortune in real estate. Shelly Sterling was thrilled with the court decision Tuesday, her lawyer told CNN affiliate KABC. \"This is a victory for the Sterling family in recovering the $2,630,000 that Donald lavished on a conniving mistress,\" attorney Pierce O\\'Donnell said in a statement. \"It also sets a precedent that the injured spouse can recover damages from the recipient of these ill-begotten gifts.\" Stiviano\\'s gifts from Donald Sterling didn\\'t just include uber-expensive items like luxury cars. According to the Los Angeles Times, the list also includes a $391 Easter bunny costume, a $299 two-speed blender and a $12 lace thong. Donald Sterling\\'s downfall came after an audio recording surfaced of the octogenarian arguing with Stiviano. In the tape, Sterling chastises Stiviano for posting pictures on social media of her posing with African-Americans, including basketball legend Magic Johnson. \"In your lousy f**ing Instagrams, you don\\'t have to have yourself with -- walking with black people,\" Sterling said in the audio first posted by TMZ. He also tells Stiviano not to bring Johnson to Clippers games and not to post photos with the Hall of Famer so Sterling\\'s friends can see. \"Admire him, bring him here, feed him, f**k him, but don\\'t put (Magic) on an Instagram for the world to have to see so they have to call me,\" Sterling said. NBA Commissioner Adam Silver banned Sterling from the league, fined him $2.5 million and pushed through a charge to terminate all of his ownership rights in the franchise. Fact check: Donald Sterling\\'s claims vs. reality CNN\\'s Dottie Evans contributed to this report.', \"donald sterling 's racist remarks cost him an nba team last year . but now it 's his former female companion who has lost big . a judge has ordered v. stiviano to pay back more than $ 2.6 million in gifts .\"].\n",
      "Feedback function `groundedness_measure` was renamed to `groundedness_measure_with_cot_reasons`. The new functionality of `groundedness_measure` function will no longer emit reasons as a lower cost option. It may have reduced accuracy due to not using Chain of Thought reasoning in the scoring.\n"
     ]
    },
    {
     "name": "stdout",
     "output_type": "stream",
     "text": [
      "✅ added record record_hash_6e91c2ba38e84847691e2b70016248ea\n",
      "✅ feedback result Mean Absolute Error DONE feedback_result_hash_68561e0ca3aa79cad706184a7f6746c9\n"
     ]
    },
    {
     "name": "stderr",
     "output_type": "stream",
     "text": [
      "Unsure what the main input string is for the call to _call with args ['(CNN)Donald Sterling\\'s racist remarks cost him an NBA team last year. But now it\\'s his former female companion who has lost big. A Los Angeles judge has ordered V. Stiviano to pay back more than $2.6 million in gifts after Sterling\\'s wife sued her. In the lawsuit, Rochelle \"Shelly\" Sterling accused Stiviano of targeting extremely wealthy older men. She claimed Donald Sterling used the couple\\'s money to buy Stiviano a Ferrari, two Bentleys and a Range Rover, and that he helped her get a $1.8 million duplex. Who is V. Stiviano? Stiviano countered that there was nothing wrong with Donald Sterling giving her gifts and that she never took advantage of the former Los Angeles Clippers owner, who made much of his fortune in real estate. Shelly Sterling was thrilled with the court decision Tuesday, her lawyer told CNN affiliate KABC. \"This is a victory for the Sterling family in recovering the $2,630,000 that Donald lavished on a conniving mistress,\" attorney Pierce O\\'Donnell said in a statement. \"It also sets a precedent that the injured spouse can recover damages from the recipient of these ill-begotten gifts.\" Stiviano\\'s gifts from Donald Sterling didn\\'t just include uber-expensive items like luxury cars. According to the Los Angeles Times, the list also includes a $391 Easter bunny costume, a $299 two-speed blender and a $12 lace thong. Donald Sterling\\'s downfall came after an audio recording surfaced of the octogenarian arguing with Stiviano. In the tape, Sterling chastises Stiviano for posting pictures on social media of her posing with African-Americans, including basketball legend Magic Johnson. \"In your lousy f**ing Instagrams, you don\\'t have to have yourself with -- walking with black people,\" Sterling said in the audio first posted by TMZ. He also tells Stiviano not to bring Johnson to Clippers games and not to post photos with the Hall of Famer so Sterling\\'s friends can see. \"Admire him, bring him here, feed him, f**k him, but don\\'t put (Magic) on an Instagram for the world to have to see so they have to call me,\" Sterling said. NBA Commissioner Adam Silver banned Sterling from the league, fined him $2.5 million and pushed through a charge to terminate all of his ownership rights in the franchise. Fact check: Donald Sterling\\'s claims vs. reality CNN\\'s Dottie Evans contributed to this report.', \"donald sterling 's racist remarks cost him an nba team last year . but now it 's his former female companion who has lost big . a judge has ordered v. stiviano to pay back more than $ 2.6 million in gifts .\"].\n",
      "Feedback function `groundedness_measure` was renamed to `groundedness_measure_with_cot_reasons`. The new functionality of `groundedness_measure` function will no longer emit reasons as a lower cost option. It may have reduced accuracy due to not using Chain of Thought reasoning in the scoring.\n"
     ]
    },
    {
     "name": "stdout",
     "output_type": "stream",
     "text": [
      "✅ added record record_hash_2b6a7f6abce9ebec887eb8d77c537da5\n",
      "✅ feedback result Mean Absolute Error DONE feedback_result_hash_8fbbfaf3a625522c67b0ee3e568f94f6\n"
     ]
    },
    {
     "data": {
      "application/vnd.jupyter.widget-view+json": {
       "model_id": "65622b119b674ac3bbef4c1af1d88db0",
       "version_major": 2,
       "version_minor": 0
      },
      "text/plain": [
       "Groundendess per statement in source:   0%|          | 0/4 [00:00<?, ?it/s]"
      ]
     },
     "metadata": {},
     "output_type": "display_data"
    },
    {
     "name": "stderr",
     "output_type": "stream",
     "text": [
      "Unsure what the main input string is for the call to _call with args ['(CNN)Donald Sterling\\'s racist remarks cost him an NBA team last year. But now it\\'s his former female companion who has lost big. A Los Angeles judge has ordered V. Stiviano to pay back more than $2.6 million in gifts after Sterling\\'s wife sued her. In the lawsuit, Rochelle \"Shelly\" Sterling accused Stiviano of targeting extremely wealthy older men. She claimed Donald Sterling used the couple\\'s money to buy Stiviano a Ferrari, two Bentleys and a Range Rover, and that he helped her get a $1.8 million duplex. Who is V. Stiviano? Stiviano countered that there was nothing wrong with Donald Sterling giving her gifts and that she never took advantage of the former Los Angeles Clippers owner, who made much of his fortune in real estate. Shelly Sterling was thrilled with the court decision Tuesday, her lawyer told CNN affiliate KABC. \"This is a victory for the Sterling family in recovering the $2,630,000 that Donald lavished on a conniving mistress,\" attorney Pierce O\\'Donnell said in a statement. \"It also sets a precedent that the injured spouse can recover damages from the recipient of these ill-begotten gifts.\" Stiviano\\'s gifts from Donald Sterling didn\\'t just include uber-expensive items like luxury cars. According to the Los Angeles Times, the list also includes a $391 Easter bunny costume, a $299 two-speed blender and a $12 lace thong. Donald Sterling\\'s downfall came after an audio recording surfaced of the octogenarian arguing with Stiviano. In the tape, Sterling chastises Stiviano for posting pictures on social media of her posing with African-Americans, including basketball legend Magic Johnson. \"In your lousy f**ing Instagrams, you don\\'t have to have yourself with -- walking with black people,\" Sterling said in the audio first posted by TMZ. He also tells Stiviano not to bring Johnson to Clippers games and not to post photos with the Hall of Famer so Sterling\\'s friends can see. \"Admire him, bring him here, feed him, f**k him, but don\\'t put (Magic) on an Instagram for the world to have to see so they have to call me,\" Sterling said. NBA Commissioner Adam Silver banned Sterling from the league, fined him $2.5 million and pushed through a charge to terminate all of his ownership rights in the franchise. Fact check: Donald Sterling\\'s claims vs. reality CNN\\'s Dottie Evans contributed to this report.', \"rochelle `` shelly '' sterling accused stiviano of targeting extremely wealthy older men . she claimed donald sterling used the couple 's money to buy stiviano a ferrari . stiviano countered that there was nothing wrong with donald sterling giving her gifts .\"].\n",
      "Feedback function `groundedness_measure` was renamed to `groundedness_measure_with_cot_reasons`. The new functionality of `groundedness_measure` function will no longer emit reasons as a lower cost option. It may have reduced accuracy due to not using Chain of Thought reasoning in the scoring.\n"
     ]
    },
    {
     "name": "stdout",
     "output_type": "stream",
     "text": [
      "✅ added record record_hash_2f16a6dfd7ae14c8b7853da8a21e5f1d\n",
      "✅ feedback result Mean Absolute Error DONE feedback_result_hash_8729cb48fa2ea09f5661a55f9673f70f\n"
     ]
    },
    {
     "name": "stderr",
     "output_type": "stream",
     "text": [
      "Unsure what the main input string is for the call to _call with args ['(CNN)Donald Sterling\\'s racist remarks cost him an NBA team last year. But now it\\'s his former female companion who has lost big. A Los Angeles judge has ordered V. Stiviano to pay back more than $2.6 million in gifts after Sterling\\'s wife sued her. In the lawsuit, Rochelle \"Shelly\" Sterling accused Stiviano of targeting extremely wealthy older men. She claimed Donald Sterling used the couple\\'s money to buy Stiviano a Ferrari, two Bentleys and a Range Rover, and that he helped her get a $1.8 million duplex. Who is V. Stiviano? Stiviano countered that there was nothing wrong with Donald Sterling giving her gifts and that she never took advantage of the former Los Angeles Clippers owner, who made much of his fortune in real estate. Shelly Sterling was thrilled with the court decision Tuesday, her lawyer told CNN affiliate KABC. \"This is a victory for the Sterling family in recovering the $2,630,000 that Donald lavished on a conniving mistress,\" attorney Pierce O\\'Donnell said in a statement. \"It also sets a precedent that the injured spouse can recover damages from the recipient of these ill-begotten gifts.\" Stiviano\\'s gifts from Donald Sterling didn\\'t just include uber-expensive items like luxury cars. According to the Los Angeles Times, the list also includes a $391 Easter bunny costume, a $299 two-speed blender and a $12 lace thong. Donald Sterling\\'s downfall came after an audio recording surfaced of the octogenarian arguing with Stiviano. In the tape, Sterling chastises Stiviano for posting pictures on social media of her posing with African-Americans, including basketball legend Magic Johnson. \"In your lousy f**ing Instagrams, you don\\'t have to have yourself with -- walking with black people,\" Sterling said in the audio first posted by TMZ. He also tells Stiviano not to bring Johnson to Clippers games and not to post photos with the Hall of Famer so Sterling\\'s friends can see. \"Admire him, bring him here, feed him, f**k him, but don\\'t put (Magic) on an Instagram for the world to have to see so they have to call me,\" Sterling said. NBA Commissioner Adam Silver banned Sterling from the league, fined him $2.5 million and pushed through a charge to terminate all of his ownership rights in the franchise. Fact check: Donald Sterling\\'s claims vs. reality CNN\\'s Dottie Evans contributed to this report.', \"rochelle `` shelly '' sterling accused stiviano of targeting extremely wealthy older men . she claimed donald sterling used the couple 's money to buy stiviano a ferrari . stiviano countered that there was nothing wrong with donald sterling giving her gifts .\"].\n",
      "Feedback function `groundedness_measure` was renamed to `groundedness_measure_with_cot_reasons`. The new functionality of `groundedness_measure` function will no longer emit reasons as a lower cost option. It may have reduced accuracy due to not using Chain of Thought reasoning in the scoring.\n"
     ]
    },
    {
     "name": "stdout",
     "output_type": "stream",
     "text": [
      "✅ added record record_hash_271ff29a740ea8327f366cf52e6a6947\n",
      "✅ feedback result Mean Absolute Error DONE feedback_result_hash_8812c6bf58b4e1fc81c182468b3f460a\n"
     ]
    },
    {
     "name": "stderr",
     "output_type": "stream",
     "text": [
      "Unsure what the main input string is for the call to _call with args ['(CNN)Donald Sterling\\'s racist remarks cost him an NBA team last year. But now it\\'s his former female companion who has lost big. A Los Angeles judge has ordered V. Stiviano to pay back more than $2.6 million in gifts after Sterling\\'s wife sued her. In the lawsuit, Rochelle \"Shelly\" Sterling accused Stiviano of targeting extremely wealthy older men. She claimed Donald Sterling used the couple\\'s money to buy Stiviano a Ferrari, two Bentleys and a Range Rover, and that he helped her get a $1.8 million duplex. Who is V. Stiviano? Stiviano countered that there was nothing wrong with Donald Sterling giving her gifts and that she never took advantage of the former Los Angeles Clippers owner, who made much of his fortune in real estate. Shelly Sterling was thrilled with the court decision Tuesday, her lawyer told CNN affiliate KABC. \"This is a victory for the Sterling family in recovering the $2,630,000 that Donald lavished on a conniving mistress,\" attorney Pierce O\\'Donnell said in a statement. \"It also sets a precedent that the injured spouse can recover damages from the recipient of these ill-begotten gifts.\" Stiviano\\'s gifts from Donald Sterling didn\\'t just include uber-expensive items like luxury cars. According to the Los Angeles Times, the list also includes a $391 Easter bunny costume, a $299 two-speed blender and a $12 lace thong. Donald Sterling\\'s downfall came after an audio recording surfaced of the octogenarian arguing with Stiviano. In the tape, Sterling chastises Stiviano for posting pictures on social media of her posing with African-Americans, including basketball legend Magic Johnson. \"In your lousy f**ing Instagrams, you don\\'t have to have yourself with -- walking with black people,\" Sterling said in the audio first posted by TMZ. He also tells Stiviano not to bring Johnson to Clippers games and not to post photos with the Hall of Famer so Sterling\\'s friends can see. \"Admire him, bring him here, feed him, f**k him, but don\\'t put (Magic) on an Instagram for the world to have to see so they have to call me,\" Sterling said. NBA Commissioner Adam Silver banned Sterling from the league, fined him $2.5 million and pushed through a charge to terminate all of his ownership rights in the franchise. Fact check: Donald Sterling\\'s claims vs. reality CNN\\'s Dottie Evans contributed to this report.', \"rochelle `` shelly '' sterling accused stiviano of targeting extremely wealthy older men . she claimed donald sterling used the couple 's money to buy stiviano a ferrari . stiviano countered that there was nothing wrong with donald sterling giving her gifts .\"].\n",
      "Feedback function `groundedness_measure` was renamed to `groundedness_measure_with_cot_reasons`. The new functionality of `groundedness_measure` function will no longer emit reasons as a lower cost option. It may have reduced accuracy due to not using Chain of Thought reasoning in the scoring.\n"
     ]
    },
    {
     "name": "stdout",
     "output_type": "stream",
     "text": [
      "✅ added record record_hash_4c38a34d780c3b9bfb921b3a7bba15b7\n",
      "✅ feedback result Mean Absolute Error DONE feedback_result_hash_3f9a5cb4347f3f74bc9688d6018a26b2\n"
     ]
    },
    {
     "data": {
      "application/vnd.jupyter.widget-view+json": {
       "model_id": "d730f441bc514403a8416fa91bbc65a8",
       "version_major": 2,
       "version_minor": 0
      },
      "text/plain": [
       "Groundendess per statement in source:   0%|          | 0/7 [00:00<?, ?it/s]"
      ]
     },
     "metadata": {},
     "output_type": "display_data"
    },
    {
     "name": "stderr",
     "output_type": "stream",
     "text": [
      "Unsure what the main input string is for the call to _call with args ['(CNN)Donald Sterling\\'s racist remarks cost him an NBA team last year. But now it\\'s his former female companion who has lost big. A Los Angeles judge has ordered V. Stiviano to pay back more than $2.6 million in gifts after Sterling\\'s wife sued her. In the lawsuit, Rochelle \"Shelly\" Sterling accused Stiviano of targeting extremely wealthy older men. She claimed Donald Sterling used the couple\\'s money to buy Stiviano a Ferrari, two Bentleys and a Range Rover, and that he helped her get a $1.8 million duplex. Who is V. Stiviano? Stiviano countered that there was nothing wrong with Donald Sterling giving her gifts and that she never took advantage of the former Los Angeles Clippers owner, who made much of his fortune in real estate. Shelly Sterling was thrilled with the court decision Tuesday, her lawyer told CNN affiliate KABC. \"This is a victory for the Sterling family in recovering the $2,630,000 that Donald lavished on a conniving mistress,\" attorney Pierce O\\'Donnell said in a statement. \"It also sets a precedent that the injured spouse can recover damages from the recipient of these ill-begotten gifts.\" Stiviano\\'s gifts from Donald Sterling didn\\'t just include uber-expensive items like luxury cars. According to the Los Angeles Times, the list also includes a $391 Easter bunny costume, a $299 two-speed blender and a $12 lace thong. Donald Sterling\\'s downfall came after an audio recording surfaced of the octogenarian arguing with Stiviano. In the tape, Sterling chastises Stiviano for posting pictures on social media of her posing with African-Americans, including basketball legend Magic Johnson. \"In your lousy f**ing Instagrams, you don\\'t have to have yourself with -- walking with black people,\" Sterling said in the audio first posted by TMZ. He also tells Stiviano not to bring Johnson to Clippers games and not to post photos with the Hall of Famer so Sterling\\'s friends can see. \"Admire him, bring him here, feed him, f**k him, but don\\'t put (Magic) on an Instagram for the world to have to see so they have to call me,\" Sterling said. NBA Commissioner Adam Silver banned Sterling from the league, fined him $2.5 million and pushed through a charge to terminate all of his ownership rights in the franchise. Fact check: Donald Sterling\\'s claims vs. reality CNN\\'s Dottie Evans contributed to this report.', '( cnn ) donald sterling \\'s racist remarks cost him an nba team last year . but now it \\'s his former female companion who has lost big . a los angeles judge has ordered v. stiviano to pay back more than $ 2.6 million in gifts after sterling \\'s wife sued her . in the lawsuit , rochelle \" shelly \" sterling accused stiviano of targeting extremely wealthy older men .'].\n",
      "Feedback function `groundedness_measure` was renamed to `groundedness_measure_with_cot_reasons`. The new functionality of `groundedness_measure` function will no longer emit reasons as a lower cost option. It may have reduced accuracy due to not using Chain of Thought reasoning in the scoring.\n"
     ]
    },
    {
     "name": "stdout",
     "output_type": "stream",
     "text": [
      "✅ added record record_hash_8cc42f27d59c15946ff0636bac42c9df\n",
      "✅ feedback result Mean Absolute Error DONE feedback_result_hash_8025b7c1d3214681557de8caf622679d\n"
     ]
    },
    {
     "name": "stderr",
     "output_type": "stream",
     "text": [
      "Unsure what the main input string is for the call to _call with args ['(CNN)Donald Sterling\\'s racist remarks cost him an NBA team last year. But now it\\'s his former female companion who has lost big. A Los Angeles judge has ordered V. Stiviano to pay back more than $2.6 million in gifts after Sterling\\'s wife sued her. In the lawsuit, Rochelle \"Shelly\" Sterling accused Stiviano of targeting extremely wealthy older men. She claimed Donald Sterling used the couple\\'s money to buy Stiviano a Ferrari, two Bentleys and a Range Rover, and that he helped her get a $1.8 million duplex. Who is V. Stiviano? Stiviano countered that there was nothing wrong with Donald Sterling giving her gifts and that she never took advantage of the former Los Angeles Clippers owner, who made much of his fortune in real estate. Shelly Sterling was thrilled with the court decision Tuesday, her lawyer told CNN affiliate KABC. \"This is a victory for the Sterling family in recovering the $2,630,000 that Donald lavished on a conniving mistress,\" attorney Pierce O\\'Donnell said in a statement. \"It also sets a precedent that the injured spouse can recover damages from the recipient of these ill-begotten gifts.\" Stiviano\\'s gifts from Donald Sterling didn\\'t just include uber-expensive items like luxury cars. According to the Los Angeles Times, the list also includes a $391 Easter bunny costume, a $299 two-speed blender and a $12 lace thong. Donald Sterling\\'s downfall came after an audio recording surfaced of the octogenarian arguing with Stiviano. In the tape, Sterling chastises Stiviano for posting pictures on social media of her posing with African-Americans, including basketball legend Magic Johnson. \"In your lousy f**ing Instagrams, you don\\'t have to have yourself with -- walking with black people,\" Sterling said in the audio first posted by TMZ. He also tells Stiviano not to bring Johnson to Clippers games and not to post photos with the Hall of Famer so Sterling\\'s friends can see. \"Admire him, bring him here, feed him, f**k him, but don\\'t put (Magic) on an Instagram for the world to have to see so they have to call me,\" Sterling said. NBA Commissioner Adam Silver banned Sterling from the league, fined him $2.5 million and pushed through a charge to terminate all of his ownership rights in the franchise. Fact check: Donald Sterling\\'s claims vs. reality CNN\\'s Dottie Evans contributed to this report.', '( cnn ) donald sterling \\'s racist remarks cost him an nba team last year . but now it \\'s his former female companion who has lost big . a los angeles judge has ordered v. stiviano to pay back more than $ 2.6 million in gifts after sterling \\'s wife sued her . in the lawsuit , rochelle \" shelly \" sterling accused stiviano of targeting extremely wealthy older men .'].\n",
      "Feedback function `groundedness_measure` was renamed to `groundedness_measure_with_cot_reasons`. The new functionality of `groundedness_measure` function will no longer emit reasons as a lower cost option. It may have reduced accuracy due to not using Chain of Thought reasoning in the scoring.\n"
     ]
    },
    {
     "name": "stdout",
     "output_type": "stream",
     "text": [
      "✅ added record record_hash_a0f72d0d982a1fb4429b414033e5715c\n",
      "✅ feedback result Mean Absolute Error DONE feedback_result_hash_af7317e856c9d4a951a6b119ad37f83b\n"
     ]
    },
    {
     "name": "stderr",
     "output_type": "stream",
     "text": [
      "Unsure what the main input string is for the call to _call with args ['(CNN)Donald Sterling\\'s racist remarks cost him an NBA team last year. But now it\\'s his former female companion who has lost big. A Los Angeles judge has ordered V. Stiviano to pay back more than $2.6 million in gifts after Sterling\\'s wife sued her. In the lawsuit, Rochelle \"Shelly\" Sterling accused Stiviano of targeting extremely wealthy older men. She claimed Donald Sterling used the couple\\'s money to buy Stiviano a Ferrari, two Bentleys and a Range Rover, and that he helped her get a $1.8 million duplex. Who is V. Stiviano? Stiviano countered that there was nothing wrong with Donald Sterling giving her gifts and that she never took advantage of the former Los Angeles Clippers owner, who made much of his fortune in real estate. Shelly Sterling was thrilled with the court decision Tuesday, her lawyer told CNN affiliate KABC. \"This is a victory for the Sterling family in recovering the $2,630,000 that Donald lavished on a conniving mistress,\" attorney Pierce O\\'Donnell said in a statement. \"It also sets a precedent that the injured spouse can recover damages from the recipient of these ill-begotten gifts.\" Stiviano\\'s gifts from Donald Sterling didn\\'t just include uber-expensive items like luxury cars. According to the Los Angeles Times, the list also includes a $391 Easter bunny costume, a $299 two-speed blender and a $12 lace thong. Donald Sterling\\'s downfall came after an audio recording surfaced of the octogenarian arguing with Stiviano. In the tape, Sterling chastises Stiviano for posting pictures on social media of her posing with African-Americans, including basketball legend Magic Johnson. \"In your lousy f**ing Instagrams, you don\\'t have to have yourself with -- walking with black people,\" Sterling said in the audio first posted by TMZ. He also tells Stiviano not to bring Johnson to Clippers games and not to post photos with the Hall of Famer so Sterling\\'s friends can see. \"Admire him, bring him here, feed him, f**k him, but don\\'t put (Magic) on an Instagram for the world to have to see so they have to call me,\" Sterling said. NBA Commissioner Adam Silver banned Sterling from the league, fined him $2.5 million and pushed through a charge to terminate all of his ownership rights in the franchise. Fact check: Donald Sterling\\'s claims vs. reality CNN\\'s Dottie Evans contributed to this report.', '( cnn ) donald sterling \\'s racist remarks cost him an nba team last year . but now it \\'s his former female companion who has lost big . a los angeles judge has ordered v. stiviano to pay back more than $ 2.6 million in gifts after sterling \\'s wife sued her . in the lawsuit , rochelle \" shelly \" sterling accused stiviano of targeting extremely wealthy older men .'].\n",
      "Feedback function `groundedness_measure` was renamed to `groundedness_measure_with_cot_reasons`. The new functionality of `groundedness_measure` function will no longer emit reasons as a lower cost option. It may have reduced accuracy due to not using Chain of Thought reasoning in the scoring.\n"
     ]
    },
    {
     "name": "stdout",
     "output_type": "stream",
     "text": [
      "✅ added record record_hash_cbf3988cfd88bf726da0707a84735518\n",
      "✅ feedback result Mean Absolute Error DONE feedback_result_hash_a272fad7dc03a5419fb506e1c0c4bab5\n"
     ]
    },
    {
     "data": {
      "application/vnd.jupyter.widget-view+json": {
       "model_id": "c8ce6f59ff1e433da9dac44868240ffd",
       "version_major": 2,
       "version_minor": 0
      },
      "text/plain": [
       "Groundendess per statement in source:   0%|          | 0/7 [00:00<?, ?it/s]"
      ]
     },
     "metadata": {},
     "output_type": "display_data"
    },
    {
     "name": "stderr",
     "output_type": "stream",
     "text": [
      "Unsure what the main input string is for the call to _call with args ['(CNN)Donald Sterling\\'s racist remarks cost him an NBA team last year. But now it\\'s his former female companion who has lost big. A Los Angeles judge has ordered V. Stiviano to pay back more than $2.6 million in gifts after Sterling\\'s wife sued her. In the lawsuit, Rochelle \"Shelly\" Sterling accused Stiviano of targeting extremely wealthy older men. She claimed Donald Sterling used the couple\\'s money to buy Stiviano a Ferrari, two Bentleys and a Range Rover, and that he helped her get a $1.8 million duplex. Who is V. Stiviano? Stiviano countered that there was nothing wrong with Donald Sterling giving her gifts and that she never took advantage of the former Los Angeles Clippers owner, who made much of his fortune in real estate. Shelly Sterling was thrilled with the court decision Tuesday, her lawyer told CNN affiliate KABC. \"This is a victory for the Sterling family in recovering the $2,630,000 that Donald lavished on a conniving mistress,\" attorney Pierce O\\'Donnell said in a statement. \"It also sets a precedent that the injured spouse can recover damages from the recipient of these ill-begotten gifts.\" Stiviano\\'s gifts from Donald Sterling didn\\'t just include uber-expensive items like luxury cars. According to the Los Angeles Times, the list also includes a $391 Easter bunny costume, a $299 two-speed blender and a $12 lace thong. Donald Sterling\\'s downfall came after an audio recording surfaced of the octogenarian arguing with Stiviano. In the tape, Sterling chastises Stiviano for posting pictures on social media of her posing with African-Americans, including basketball legend Magic Johnson. \"In your lousy f**ing Instagrams, you don\\'t have to have yourself with -- walking with black people,\" Sterling said in the audio first posted by TMZ. He also tells Stiviano not to bring Johnson to Clippers games and not to post photos with the Hall of Famer so Sterling\\'s friends can see. \"Admire him, bring him here, feed him, f**k him, but don\\'t put (Magic) on an Instagram for the world to have to see so they have to call me,\" Sterling said. NBA Commissioner Adam Silver banned Sterling from the league, fined him $2.5 million and pushed through a charge to terminate all of his ownership rights in the franchise. Fact check: Donald Sterling\\'s claims vs. reality CNN\\'s Dottie Evans contributed to this report.', 'a judge orders v. stiviano to pay back more than $2.6 million in gifts . she was sued by donald sterling\\'s wife, rochelle \"shelly\" sterling . she accused stiviano of targeting extremely wealthy older men . stiviano countered that there was nothing wrong with sterling giving her gifts .'].\n",
      "Feedback function `groundedness_measure` was renamed to `groundedness_measure_with_cot_reasons`. The new functionality of `groundedness_measure` function will no longer emit reasons as a lower cost option. It may have reduced accuracy due to not using Chain of Thought reasoning in the scoring.\n"
     ]
    },
    {
     "name": "stdout",
     "output_type": "stream",
     "text": [
      "✅ added record record_hash_f21d813644e1bfee8139afdaa47b8a1d\n",
      "✅ feedback result Mean Absolute Error DONE feedback_result_hash_aae6f3c191112fb845c58df0349916d8\n"
     ]
    },
    {
     "name": "stderr",
     "output_type": "stream",
     "text": [
      "Unsure what the main input string is for the call to _call with args ['(CNN)Donald Sterling\\'s racist remarks cost him an NBA team last year. But now it\\'s his former female companion who has lost big. A Los Angeles judge has ordered V. Stiviano to pay back more than $2.6 million in gifts after Sterling\\'s wife sued her. In the lawsuit, Rochelle \"Shelly\" Sterling accused Stiviano of targeting extremely wealthy older men. She claimed Donald Sterling used the couple\\'s money to buy Stiviano a Ferrari, two Bentleys and a Range Rover, and that he helped her get a $1.8 million duplex. Who is V. Stiviano? Stiviano countered that there was nothing wrong with Donald Sterling giving her gifts and that she never took advantage of the former Los Angeles Clippers owner, who made much of his fortune in real estate. Shelly Sterling was thrilled with the court decision Tuesday, her lawyer told CNN affiliate KABC. \"This is a victory for the Sterling family in recovering the $2,630,000 that Donald lavished on a conniving mistress,\" attorney Pierce O\\'Donnell said in a statement. \"It also sets a precedent that the injured spouse can recover damages from the recipient of these ill-begotten gifts.\" Stiviano\\'s gifts from Donald Sterling didn\\'t just include uber-expensive items like luxury cars. According to the Los Angeles Times, the list also includes a $391 Easter bunny costume, a $299 two-speed blender and a $12 lace thong. Donald Sterling\\'s downfall came after an audio recording surfaced of the octogenarian arguing with Stiviano. In the tape, Sterling chastises Stiviano for posting pictures on social media of her posing with African-Americans, including basketball legend Magic Johnson. \"In your lousy f**ing Instagrams, you don\\'t have to have yourself with -- walking with black people,\" Sterling said in the audio first posted by TMZ. He also tells Stiviano not to bring Johnson to Clippers games and not to post photos with the Hall of Famer so Sterling\\'s friends can see. \"Admire him, bring him here, feed him, f**k him, but don\\'t put (Magic) on an Instagram for the world to have to see so they have to call me,\" Sterling said. NBA Commissioner Adam Silver banned Sterling from the league, fined him $2.5 million and pushed through a charge to terminate all of his ownership rights in the franchise. Fact check: Donald Sterling\\'s claims vs. reality CNN\\'s Dottie Evans contributed to this report.', 'a judge orders v. stiviano to pay back more than $2.6 million in gifts . she was sued by donald sterling\\'s wife, rochelle \"shelly\" sterling . she accused stiviano of targeting extremely wealthy older men . stiviano countered that there was nothing wrong with sterling giving her gifts .'].\n",
      "Feedback function `groundedness_measure` was renamed to `groundedness_measure_with_cot_reasons`. The new functionality of `groundedness_measure` function will no longer emit reasons as a lower cost option. It may have reduced accuracy due to not using Chain of Thought reasoning in the scoring.\n"
     ]
    },
    {
     "name": "stdout",
     "output_type": "stream",
     "text": [
      "✅ added record record_hash_098f565bd790a7ff5c3070118198d80e\n",
      "✅ feedback result Mean Absolute Error DONE feedback_result_hash_1f818b35082fb2e01836e7309c4ce924\n"
     ]
    },
    {
     "name": "stderr",
     "output_type": "stream",
     "text": [
      "Unsure what the main input string is for the call to _call with args ['(CNN)Donald Sterling\\'s racist remarks cost him an NBA team last year. But now it\\'s his former female companion who has lost big. A Los Angeles judge has ordered V. Stiviano to pay back more than $2.6 million in gifts after Sterling\\'s wife sued her. In the lawsuit, Rochelle \"Shelly\" Sterling accused Stiviano of targeting extremely wealthy older men. She claimed Donald Sterling used the couple\\'s money to buy Stiviano a Ferrari, two Bentleys and a Range Rover, and that he helped her get a $1.8 million duplex. Who is V. Stiviano? Stiviano countered that there was nothing wrong with Donald Sterling giving her gifts and that she never took advantage of the former Los Angeles Clippers owner, who made much of his fortune in real estate. Shelly Sterling was thrilled with the court decision Tuesday, her lawyer told CNN affiliate KABC. \"This is a victory for the Sterling family in recovering the $2,630,000 that Donald lavished on a conniving mistress,\" attorney Pierce O\\'Donnell said in a statement. \"It also sets a precedent that the injured spouse can recover damages from the recipient of these ill-begotten gifts.\" Stiviano\\'s gifts from Donald Sterling didn\\'t just include uber-expensive items like luxury cars. According to the Los Angeles Times, the list also includes a $391 Easter bunny costume, a $299 two-speed blender and a $12 lace thong. Donald Sterling\\'s downfall came after an audio recording surfaced of the octogenarian arguing with Stiviano. In the tape, Sterling chastises Stiviano for posting pictures on social media of her posing with African-Americans, including basketball legend Magic Johnson. \"In your lousy f**ing Instagrams, you don\\'t have to have yourself with -- walking with black people,\" Sterling said in the audio first posted by TMZ. He also tells Stiviano not to bring Johnson to Clippers games and not to post photos with the Hall of Famer so Sterling\\'s friends can see. \"Admire him, bring him here, feed him, f**k him, but don\\'t put (Magic) on an Instagram for the world to have to see so they have to call me,\" Sterling said. NBA Commissioner Adam Silver banned Sterling from the league, fined him $2.5 million and pushed through a charge to terminate all of his ownership rights in the franchise. Fact check: Donald Sterling\\'s claims vs. reality CNN\\'s Dottie Evans contributed to this report.', 'a judge orders v. stiviano to pay back more than $2.6 million in gifts . she was sued by donald sterling\\'s wife, rochelle \"shelly\" sterling . she accused stiviano of targeting extremely wealthy older men . stiviano countered that there was nothing wrong with sterling giving her gifts .'].\n",
      "Feedback function `groundedness_measure` was renamed to `groundedness_measure_with_cot_reasons`. The new functionality of `groundedness_measure` function will no longer emit reasons as a lower cost option. It may have reduced accuracy due to not using Chain of Thought reasoning in the scoring.\n"
     ]
    },
    {
     "name": "stdout",
     "output_type": "stream",
     "text": [
      "✅ added record record_hash_beb816b2d81ecfb5cccacbcf5250d2e4\n",
      "✅ feedback result Mean Absolute Error DONE feedback_result_hash_a6c67d462afcec879cff677127571801\n"
     ]
    },
    {
     "data": {
      "application/vnd.jupyter.widget-view+json": {
       "model_id": "faf55a9b2e024cd5b5a4d44c1c3493e5",
       "version_major": 2,
       "version_minor": 0
      },
      "text/plain": [
       "Groundendess per statement in source:   0%|          | 0/3 [00:00<?, ?it/s]"
      ]
     },
     "metadata": {},
     "output_type": "display_data"
    },
    {
     "name": "stderr",
     "output_type": "stream",
     "text": [
      "Unsure what the main input string is for the call to _call with args ['(CNN)Donald Sterling\\'s racist remarks cost him an NBA team last year. But now it\\'s his former female companion who has lost big. A Los Angeles judge has ordered V. Stiviano to pay back more than $2.6 million in gifts after Sterling\\'s wife sued her. In the lawsuit, Rochelle \"Shelly\" Sterling accused Stiviano of targeting extremely wealthy older men. She claimed Donald Sterling used the couple\\'s money to buy Stiviano a Ferrari, two Bentleys and a Range Rover, and that he helped her get a $1.8 million duplex. Who is V. Stiviano? Stiviano countered that there was nothing wrong with Donald Sterling giving her gifts and that she never took advantage of the former Los Angeles Clippers owner, who made much of his fortune in real estate. Shelly Sterling was thrilled with the court decision Tuesday, her lawyer told CNN affiliate KABC. \"This is a victory for the Sterling family in recovering the $2,630,000 that Donald lavished on a conniving mistress,\" attorney Pierce O\\'Donnell said in a statement. \"It also sets a precedent that the injured spouse can recover damages from the recipient of these ill-begotten gifts.\" Stiviano\\'s gifts from Donald Sterling didn\\'t just include uber-expensive items like luxury cars. According to the Los Angeles Times, the list also includes a $391 Easter bunny costume, a $299 two-speed blender and a $12 lace thong. Donald Sterling\\'s downfall came after an audio recording surfaced of the octogenarian arguing with Stiviano. In the tape, Sterling chastises Stiviano for posting pictures on social media of her posing with African-Americans, including basketball legend Magic Johnson. \"In your lousy f**ing Instagrams, you don\\'t have to have yourself with -- walking with black people,\" Sterling said in the audio first posted by TMZ. He also tells Stiviano not to bring Johnson to Clippers games and not to post photos with the Hall of Famer so Sterling\\'s friends can see. \"Admire him, bring him here, feed him, f**k him, but don\\'t put (Magic) on an Instagram for the world to have to see so they have to call me,\" Sterling said. NBA Commissioner Adam Silver banned Sterling from the league, fined him $2.5 million and pushed through a charge to terminate all of his ownership rights in the franchise. Fact check: Donald Sterling\\'s claims vs. reality CNN\\'s Dottie Evans contributed to this report.', \"Donald Sterling's racist remarks cost him an NBA team last year. But now it's his former female companion who has lost big.\"].\n",
      "Feedback function `groundedness_measure` was renamed to `groundedness_measure_with_cot_reasons`. The new functionality of `groundedness_measure` function will no longer emit reasons as a lower cost option. It may have reduced accuracy due to not using Chain of Thought reasoning in the scoring.\n"
     ]
    },
    {
     "name": "stdout",
     "output_type": "stream",
     "text": [
      "✅ added record record_hash_15c228178e1d5f38d57794d35f772227\n",
      "✅ feedback result Mean Absolute Error DONE feedback_result_hash_4a982dec3f25d309901f5a61bba54345\n"
     ]
    },
    {
     "name": "stderr",
     "output_type": "stream",
     "text": [
      "Unsure what the main input string is for the call to _call with args ['(CNN)Donald Sterling\\'s racist remarks cost him an NBA team last year. But now it\\'s his former female companion who has lost big. A Los Angeles judge has ordered V. Stiviano to pay back more than $2.6 million in gifts after Sterling\\'s wife sued her. In the lawsuit, Rochelle \"Shelly\" Sterling accused Stiviano of targeting extremely wealthy older men. She claimed Donald Sterling used the couple\\'s money to buy Stiviano a Ferrari, two Bentleys and a Range Rover, and that he helped her get a $1.8 million duplex. Who is V. Stiviano? Stiviano countered that there was nothing wrong with Donald Sterling giving her gifts and that she never took advantage of the former Los Angeles Clippers owner, who made much of his fortune in real estate. Shelly Sterling was thrilled with the court decision Tuesday, her lawyer told CNN affiliate KABC. \"This is a victory for the Sterling family in recovering the $2,630,000 that Donald lavished on a conniving mistress,\" attorney Pierce O\\'Donnell said in a statement. \"It also sets a precedent that the injured spouse can recover damages from the recipient of these ill-begotten gifts.\" Stiviano\\'s gifts from Donald Sterling didn\\'t just include uber-expensive items like luxury cars. According to the Los Angeles Times, the list also includes a $391 Easter bunny costume, a $299 two-speed blender and a $12 lace thong. Donald Sterling\\'s downfall came after an audio recording surfaced of the octogenarian arguing with Stiviano. In the tape, Sterling chastises Stiviano for posting pictures on social media of her posing with African-Americans, including basketball legend Magic Johnson. \"In your lousy f**ing Instagrams, you don\\'t have to have yourself with -- walking with black people,\" Sterling said in the audio first posted by TMZ. He also tells Stiviano not to bring Johnson to Clippers games and not to post photos with the Hall of Famer so Sterling\\'s friends can see. \"Admire him, bring him here, feed him, f**k him, but don\\'t put (Magic) on an Instagram for the world to have to see so they have to call me,\" Sterling said. NBA Commissioner Adam Silver banned Sterling from the league, fined him $2.5 million and pushed through a charge to terminate all of his ownership rights in the franchise. Fact check: Donald Sterling\\'s claims vs. reality CNN\\'s Dottie Evans contributed to this report.', \"Donald Sterling's racist remarks cost him an NBA team last year. But now it's his former female companion who has lost big.\"].\n",
      "Feedback function `groundedness_measure` was renamed to `groundedness_measure_with_cot_reasons`. The new functionality of `groundedness_measure` function will no longer emit reasons as a lower cost option. It may have reduced accuracy due to not using Chain of Thought reasoning in the scoring.\n"
     ]
    },
    {
     "name": "stdout",
     "output_type": "stream",
     "text": [
      "✅ added record record_hash_60953c14b9483e83c0fa8892082a6e0b\n",
      "✅ feedback result Mean Absolute Error DONE feedback_result_hash_5263155d5af8786c9d0ea14791febf17\n"
     ]
    },
    {
     "name": "stderr",
     "output_type": "stream",
     "text": [
      "Unsure what the main input string is for the call to _call with args ['(CNN)Donald Sterling\\'s racist remarks cost him an NBA team last year. But now it\\'s his former female companion who has lost big. A Los Angeles judge has ordered V. Stiviano to pay back more than $2.6 million in gifts after Sterling\\'s wife sued her. In the lawsuit, Rochelle \"Shelly\" Sterling accused Stiviano of targeting extremely wealthy older men. She claimed Donald Sterling used the couple\\'s money to buy Stiviano a Ferrari, two Bentleys and a Range Rover, and that he helped her get a $1.8 million duplex. Who is V. Stiviano? Stiviano countered that there was nothing wrong with Donald Sterling giving her gifts and that she never took advantage of the former Los Angeles Clippers owner, who made much of his fortune in real estate. Shelly Sterling was thrilled with the court decision Tuesday, her lawyer told CNN affiliate KABC. \"This is a victory for the Sterling family in recovering the $2,630,000 that Donald lavished on a conniving mistress,\" attorney Pierce O\\'Donnell said in a statement. \"It also sets a precedent that the injured spouse can recover damages from the recipient of these ill-begotten gifts.\" Stiviano\\'s gifts from Donald Sterling didn\\'t just include uber-expensive items like luxury cars. According to the Los Angeles Times, the list also includes a $391 Easter bunny costume, a $299 two-speed blender and a $12 lace thong. Donald Sterling\\'s downfall came after an audio recording surfaced of the octogenarian arguing with Stiviano. In the tape, Sterling chastises Stiviano for posting pictures on social media of her posing with African-Americans, including basketball legend Magic Johnson. \"In your lousy f**ing Instagrams, you don\\'t have to have yourself with -- walking with black people,\" Sterling said in the audio first posted by TMZ. He also tells Stiviano not to bring Johnson to Clippers games and not to post photos with the Hall of Famer so Sterling\\'s friends can see. \"Admire him, bring him here, feed him, f**k him, but don\\'t put (Magic) on an Instagram for the world to have to see so they have to call me,\" Sterling said. NBA Commissioner Adam Silver banned Sterling from the league, fined him $2.5 million and pushed through a charge to terminate all of his ownership rights in the franchise. Fact check: Donald Sterling\\'s claims vs. reality CNN\\'s Dottie Evans contributed to this report.', \"Donald Sterling's racist remarks cost him an NBA team last year. But now it's his former female companion who has lost big.\"].\n",
      "Feedback function `groundedness_measure` was renamed to `groundedness_measure_with_cot_reasons`. The new functionality of `groundedness_measure` function will no longer emit reasons as a lower cost option. It may have reduced accuracy due to not using Chain of Thought reasoning in the scoring.\n"
     ]
    },
    {
     "name": "stdout",
     "output_type": "stream",
     "text": [
      "✅ added record record_hash_f51c2ec0e708262a25e7968349d58b66\n",
      "✅ feedback result Mean Absolute Error DONE feedback_result_hash_d81071b9ac0133b7268b17d46a3a8df5\n"
     ]
    },
    {
     "data": {
      "application/vnd.jupyter.widget-view+json": {
       "model_id": "b9f644833fdb4eb0af0f1846840fb225",
       "version_major": 2,
       "version_minor": 0
      },
      "text/plain": [
       "Groundendess per statement in source:   0%|          | 0/6 [00:00<?, ?it/s]"
      ]
     },
     "metadata": {},
     "output_type": "display_data"
    },
    {
     "name": "stderr",
     "output_type": "stream",
     "text": [
      "Unsure what the main input string is for the call to _call with args ['(CNN)Donald Sterling\\'s racist remarks cost him an NBA team last year. But now it\\'s his former female companion who has lost big. A Los Angeles judge has ordered V. Stiviano to pay back more than $2.6 million in gifts after Sterling\\'s wife sued her. In the lawsuit, Rochelle \"Shelly\" Sterling accused Stiviano of targeting extremely wealthy older men. She claimed Donald Sterling used the couple\\'s money to buy Stiviano a Ferrari, two Bentleys and a Range Rover, and that he helped her get a $1.8 million duplex. Who is V. Stiviano? Stiviano countered that there was nothing wrong with Donald Sterling giving her gifts and that she never took advantage of the former Los Angeles Clippers owner, who made much of his fortune in real estate. Shelly Sterling was thrilled with the court decision Tuesday, her lawyer told CNN affiliate KABC. \"This is a victory for the Sterling family in recovering the $2,630,000 that Donald lavished on a conniving mistress,\" attorney Pierce O\\'Donnell said in a statement. \"It also sets a precedent that the injured spouse can recover damages from the recipient of these ill-begotten gifts.\" Stiviano\\'s gifts from Donald Sterling didn\\'t just include uber-expensive items like luxury cars. According to the Los Angeles Times, the list also includes a $391 Easter bunny costume, a $299 two-speed blender and a $12 lace thong. Donald Sterling\\'s downfall came after an audio recording surfaced of the octogenarian arguing with Stiviano. In the tape, Sterling chastises Stiviano for posting pictures on social media of her posing with African-Americans, including basketball legend Magic Johnson. \"In your lousy f**ing Instagrams, you don\\'t have to have yourself with -- walking with black people,\" Sterling said in the audio first posted by TMZ. He also tells Stiviano not to bring Johnson to Clippers games and not to post photos with the Hall of Famer so Sterling\\'s friends can see. \"Admire him, bring him here, feed him, f**k him, but don\\'t put (Magic) on an Instagram for the world to have to see so they have to call me,\" Sterling said. NBA Commissioner Adam Silver banned Sterling from the league, fined him $2.5 million and pushed through a charge to terminate all of his ownership rights in the franchise. Fact check: Donald Sterling\\'s claims vs. reality CNN\\'s Dottie Evans contributed to this report.', 'a los angeles judge orders v. stiviano to pay back more than $2.6 million in gifts . rochelle \"shelly\" sterling accused stiviano of targeting extremely wealthy older men . she claimed donald sterling used the couple\\'s money to buy stiviano a ferrari, two bentleys and a range rover .'].\n",
      "Feedback function `groundedness_measure` was renamed to `groundedness_measure_with_cot_reasons`. The new functionality of `groundedness_measure` function will no longer emit reasons as a lower cost option. It may have reduced accuracy due to not using Chain of Thought reasoning in the scoring.\n"
     ]
    },
    {
     "name": "stdout",
     "output_type": "stream",
     "text": [
      "✅ added record record_hash_cd7909b2b9f448993cdb2a39d2215998\n",
      "✅ feedback result Mean Absolute Error DONE feedback_result_hash_36372b35ca0262ec6e5eed32fec26757\n"
     ]
    },
    {
     "name": "stderr",
     "output_type": "stream",
     "text": [
      "Unsure what the main input string is for the call to _call with args ['(CNN)Donald Sterling\\'s racist remarks cost him an NBA team last year. But now it\\'s his former female companion who has lost big. A Los Angeles judge has ordered V. Stiviano to pay back more than $2.6 million in gifts after Sterling\\'s wife sued her. In the lawsuit, Rochelle \"Shelly\" Sterling accused Stiviano of targeting extremely wealthy older men. She claimed Donald Sterling used the couple\\'s money to buy Stiviano a Ferrari, two Bentleys and a Range Rover, and that he helped her get a $1.8 million duplex. Who is V. Stiviano? Stiviano countered that there was nothing wrong with Donald Sterling giving her gifts and that she never took advantage of the former Los Angeles Clippers owner, who made much of his fortune in real estate. Shelly Sterling was thrilled with the court decision Tuesday, her lawyer told CNN affiliate KABC. \"This is a victory for the Sterling family in recovering the $2,630,000 that Donald lavished on a conniving mistress,\" attorney Pierce O\\'Donnell said in a statement. \"It also sets a precedent that the injured spouse can recover damages from the recipient of these ill-begotten gifts.\" Stiviano\\'s gifts from Donald Sterling didn\\'t just include uber-expensive items like luxury cars. According to the Los Angeles Times, the list also includes a $391 Easter bunny costume, a $299 two-speed blender and a $12 lace thong. Donald Sterling\\'s downfall came after an audio recording surfaced of the octogenarian arguing with Stiviano. In the tape, Sterling chastises Stiviano for posting pictures on social media of her posing with African-Americans, including basketball legend Magic Johnson. \"In your lousy f**ing Instagrams, you don\\'t have to have yourself with -- walking with black people,\" Sterling said in the audio first posted by TMZ. He also tells Stiviano not to bring Johnson to Clippers games and not to post photos with the Hall of Famer so Sterling\\'s friends can see. \"Admire him, bring him here, feed him, f**k him, but don\\'t put (Magic) on an Instagram for the world to have to see so they have to call me,\" Sterling said. NBA Commissioner Adam Silver banned Sterling from the league, fined him $2.5 million and pushed through a charge to terminate all of his ownership rights in the franchise. Fact check: Donald Sterling\\'s claims vs. reality CNN\\'s Dottie Evans contributed to this report.', 'a los angeles judge orders v. stiviano to pay back more than $2.6 million in gifts . rochelle \"shelly\" sterling accused stiviano of targeting extremely wealthy older men . she claimed donald sterling used the couple\\'s money to buy stiviano a ferrari, two bentleys and a range rover .'].\n",
      "Feedback function `groundedness_measure` was renamed to `groundedness_measure_with_cot_reasons`. The new functionality of `groundedness_measure` function will no longer emit reasons as a lower cost option. It may have reduced accuracy due to not using Chain of Thought reasoning in the scoring.\n"
     ]
    },
    {
     "name": "stdout",
     "output_type": "stream",
     "text": [
      "✅ added record record_hash_bde8fe30ac9bf1d27922a789c017c15f\n",
      "✅ feedback result Mean Absolute Error DONE feedback_result_hash_372ea4b14103082732d51f08212e570c\n"
     ]
    },
    {
     "name": "stderr",
     "output_type": "stream",
     "text": [
      "Unsure what the main input string is for the call to _call with args ['(CNN)Donald Sterling\\'s racist remarks cost him an NBA team last year. But now it\\'s his former female companion who has lost big. A Los Angeles judge has ordered V. Stiviano to pay back more than $2.6 million in gifts after Sterling\\'s wife sued her. In the lawsuit, Rochelle \"Shelly\" Sterling accused Stiviano of targeting extremely wealthy older men. She claimed Donald Sterling used the couple\\'s money to buy Stiviano a Ferrari, two Bentleys and a Range Rover, and that he helped her get a $1.8 million duplex. Who is V. Stiviano? Stiviano countered that there was nothing wrong with Donald Sterling giving her gifts and that she never took advantage of the former Los Angeles Clippers owner, who made much of his fortune in real estate. Shelly Sterling was thrilled with the court decision Tuesday, her lawyer told CNN affiliate KABC. \"This is a victory for the Sterling family in recovering the $2,630,000 that Donald lavished on a conniving mistress,\" attorney Pierce O\\'Donnell said in a statement. \"It also sets a precedent that the injured spouse can recover damages from the recipient of these ill-begotten gifts.\" Stiviano\\'s gifts from Donald Sterling didn\\'t just include uber-expensive items like luxury cars. According to the Los Angeles Times, the list also includes a $391 Easter bunny costume, a $299 two-speed blender and a $12 lace thong. Donald Sterling\\'s downfall came after an audio recording surfaced of the octogenarian arguing with Stiviano. In the tape, Sterling chastises Stiviano for posting pictures on social media of her posing with African-Americans, including basketball legend Magic Johnson. \"In your lousy f**ing Instagrams, you don\\'t have to have yourself with -- walking with black people,\" Sterling said in the audio first posted by TMZ. He also tells Stiviano not to bring Johnson to Clippers games and not to post photos with the Hall of Famer so Sterling\\'s friends can see. \"Admire him, bring him here, feed him, f**k him, but don\\'t put (Magic) on an Instagram for the world to have to see so they have to call me,\" Sterling said. NBA Commissioner Adam Silver banned Sterling from the league, fined him $2.5 million and pushed through a charge to terminate all of his ownership rights in the franchise. Fact check: Donald Sterling\\'s claims vs. reality CNN\\'s Dottie Evans contributed to this report.', 'a los angeles judge orders v. stiviano to pay back more than $2.6 million in gifts . rochelle \"shelly\" sterling accused stiviano of targeting extremely wealthy older men . she claimed donald sterling used the couple\\'s money to buy stiviano a ferrari, two bentleys and a range rover .'].\n",
      "Feedback function `groundedness_measure` was renamed to `groundedness_measure_with_cot_reasons`. The new functionality of `groundedness_measure` function will no longer emit reasons as a lower cost option. It may have reduced accuracy due to not using Chain of Thought reasoning in the scoring.\n"
     ]
    },
    {
     "name": "stdout",
     "output_type": "stream",
     "text": [
      "✅ added record record_hash_afb0ba78e52a7e50246327b7f185e853\n",
      "✅ feedback result Mean Absolute Error DONE feedback_result_hash_df0bdacdcd347c0d78022d9e9e78c4dd\n"
     ]
    },
    {
     "data": {
      "application/vnd.jupyter.widget-view+json": {
       "model_id": "2b60fc45dd1341d9bb04928f75c7c547",
       "version_major": 2,
       "version_minor": 0
      },
      "text/plain": [
       "Groundendess per statement in source:   0%|          | 0/7 [00:00<?, ?it/s]"
      ]
     },
     "metadata": {},
     "output_type": "display_data"
    },
    {
     "name": "stderr",
     "output_type": "stream",
     "text": [
      "Unsure what the main input string is for the call to _call with args ['(CNN)Donald Sterling\\'s racist remarks cost him an NBA team last year. But now it\\'s his former female companion who has lost big. A Los Angeles judge has ordered V. Stiviano to pay back more than $2.6 million in gifts after Sterling\\'s wife sued her. In the lawsuit, Rochelle \"Shelly\" Sterling accused Stiviano of targeting extremely wealthy older men. She claimed Donald Sterling used the couple\\'s money to buy Stiviano a Ferrari, two Bentleys and a Range Rover, and that he helped her get a $1.8 million duplex. Who is V. Stiviano? Stiviano countered that there was nothing wrong with Donald Sterling giving her gifts and that she never took advantage of the former Los Angeles Clippers owner, who made much of his fortune in real estate. Shelly Sterling was thrilled with the court decision Tuesday, her lawyer told CNN affiliate KABC. \"This is a victory for the Sterling family in recovering the $2,630,000 that Donald lavished on a conniving mistress,\" attorney Pierce O\\'Donnell said in a statement. \"It also sets a precedent that the injured spouse can recover damages from the recipient of these ill-begotten gifts.\" Stiviano\\'s gifts from Donald Sterling didn\\'t just include uber-expensive items like luxury cars. According to the Los Angeles Times, the list also includes a $391 Easter bunny costume, a $299 two-speed blender and a $12 lace thong. Donald Sterling\\'s downfall came after an audio recording surfaced of the octogenarian arguing with Stiviano. In the tape, Sterling chastises Stiviano for posting pictures on social media of her posing with African-Americans, including basketball legend Magic Johnson. \"In your lousy f**ing Instagrams, you don\\'t have to have yourself with -- walking with black people,\" Sterling said in the audio first posted by TMZ. He also tells Stiviano not to bring Johnson to Clippers games and not to post photos with the Hall of Famer so Sterling\\'s friends can see. \"Admire him, bring him here, feed him, f**k him, but don\\'t put (Magic) on an Instagram for the world to have to see so they have to call me,\" Sterling said. NBA Commissioner Adam Silver banned Sterling from the league, fined him $2.5 million and pushed through a charge to terminate all of his ownership rights in the franchise. Fact check: Donald Sterling\\'s claims vs. reality CNN\\'s Dottie Evans contributed to this report.', \"a los angeles judge has ordered v. stiviano to pay back more than $ 2.6 million in gifts after sterling 's wife sued her . in the lawsuit , rochelle `` shelly '' sterling accused stiviano of targeting extremely wealthy older men . she claimed donald sterling used the couple 's money to buy stiviano a ferrari , two bentleys and a range rover , and that he helped her get a $ 1.8 million duplex .\"].\n",
      "Feedback function `groundedness_measure` was renamed to `groundedness_measure_with_cot_reasons`. The new functionality of `groundedness_measure` function will no longer emit reasons as a lower cost option. It may have reduced accuracy due to not using Chain of Thought reasoning in the scoring.\n"
     ]
    },
    {
     "name": "stdout",
     "output_type": "stream",
     "text": [
      "✅ added record record_hash_5ef79b342f45ac90756e60dd457cfe21\n",
      "✅ feedback result Mean Absolute Error DONE feedback_result_hash_22b138b10e16d0d8969f434be2a994f3\n"
     ]
    },
    {
     "name": "stderr",
     "output_type": "stream",
     "text": [
      "Unsure what the main input string is for the call to _call with args ['(CNN)Donald Sterling\\'s racist remarks cost him an NBA team last year. But now it\\'s his former female companion who has lost big. A Los Angeles judge has ordered V. Stiviano to pay back more than $2.6 million in gifts after Sterling\\'s wife sued her. In the lawsuit, Rochelle \"Shelly\" Sterling accused Stiviano of targeting extremely wealthy older men. She claimed Donald Sterling used the couple\\'s money to buy Stiviano a Ferrari, two Bentleys and a Range Rover, and that he helped her get a $1.8 million duplex. Who is V. Stiviano? Stiviano countered that there was nothing wrong with Donald Sterling giving her gifts and that she never took advantage of the former Los Angeles Clippers owner, who made much of his fortune in real estate. Shelly Sterling was thrilled with the court decision Tuesday, her lawyer told CNN affiliate KABC. \"This is a victory for the Sterling family in recovering the $2,630,000 that Donald lavished on a conniving mistress,\" attorney Pierce O\\'Donnell said in a statement. \"It also sets a precedent that the injured spouse can recover damages from the recipient of these ill-begotten gifts.\" Stiviano\\'s gifts from Donald Sterling didn\\'t just include uber-expensive items like luxury cars. According to the Los Angeles Times, the list also includes a $391 Easter bunny costume, a $299 two-speed blender and a $12 lace thong. Donald Sterling\\'s downfall came after an audio recording surfaced of the octogenarian arguing with Stiviano. In the tape, Sterling chastises Stiviano for posting pictures on social media of her posing with African-Americans, including basketball legend Magic Johnson. \"In your lousy f**ing Instagrams, you don\\'t have to have yourself with -- walking with black people,\" Sterling said in the audio first posted by TMZ. He also tells Stiviano not to bring Johnson to Clippers games and not to post photos with the Hall of Famer so Sterling\\'s friends can see. \"Admire him, bring him here, feed him, f**k him, but don\\'t put (Magic) on an Instagram for the world to have to see so they have to call me,\" Sterling said. NBA Commissioner Adam Silver banned Sterling from the league, fined him $2.5 million and pushed through a charge to terminate all of his ownership rights in the franchise. Fact check: Donald Sterling\\'s claims vs. reality CNN\\'s Dottie Evans contributed to this report.', \"a los angeles judge has ordered v. stiviano to pay back more than $ 2.6 million in gifts after sterling 's wife sued her . in the lawsuit , rochelle `` shelly '' sterling accused stiviano of targeting extremely wealthy older men . she claimed donald sterling used the couple 's money to buy stiviano a ferrari , two bentleys and a range rover , and that he helped her get a $ 1.8 million duplex .\"].\n",
      "Feedback function `groundedness_measure` was renamed to `groundedness_measure_with_cot_reasons`. The new functionality of `groundedness_measure` function will no longer emit reasons as a lower cost option. It may have reduced accuracy due to not using Chain of Thought reasoning in the scoring.\n"
     ]
    },
    {
     "name": "stdout",
     "output_type": "stream",
     "text": [
      "✅ added record record_hash_9f1b99a25f055b302ec08b336f65ac2a\n",
      "✅ feedback result Mean Absolute Error DONE feedback_result_hash_52613886c14bb35cb9fa294813e5f2f5\n"
     ]
    },
    {
     "name": "stderr",
     "output_type": "stream",
     "text": [
      "Unsure what the main input string is for the call to _call with args ['(CNN)Donald Sterling\\'s racist remarks cost him an NBA team last year. But now it\\'s his former female companion who has lost big. A Los Angeles judge has ordered V. Stiviano to pay back more than $2.6 million in gifts after Sterling\\'s wife sued her. In the lawsuit, Rochelle \"Shelly\" Sterling accused Stiviano of targeting extremely wealthy older men. She claimed Donald Sterling used the couple\\'s money to buy Stiviano a Ferrari, two Bentleys and a Range Rover, and that he helped her get a $1.8 million duplex. Who is V. Stiviano? Stiviano countered that there was nothing wrong with Donald Sterling giving her gifts and that she never took advantage of the former Los Angeles Clippers owner, who made much of his fortune in real estate. Shelly Sterling was thrilled with the court decision Tuesday, her lawyer told CNN affiliate KABC. \"This is a victory for the Sterling family in recovering the $2,630,000 that Donald lavished on a conniving mistress,\" attorney Pierce O\\'Donnell said in a statement. \"It also sets a precedent that the injured spouse can recover damages from the recipient of these ill-begotten gifts.\" Stiviano\\'s gifts from Donald Sterling didn\\'t just include uber-expensive items like luxury cars. According to the Los Angeles Times, the list also includes a $391 Easter bunny costume, a $299 two-speed blender and a $12 lace thong. Donald Sterling\\'s downfall came after an audio recording surfaced of the octogenarian arguing with Stiviano. In the tape, Sterling chastises Stiviano for posting pictures on social media of her posing with African-Americans, including basketball legend Magic Johnson. \"In your lousy f**ing Instagrams, you don\\'t have to have yourself with -- walking with black people,\" Sterling said in the audio first posted by TMZ. He also tells Stiviano not to bring Johnson to Clippers games and not to post photos with the Hall of Famer so Sterling\\'s friends can see. \"Admire him, bring him here, feed him, f**k him, but don\\'t put (Magic) on an Instagram for the world to have to see so they have to call me,\" Sterling said. NBA Commissioner Adam Silver banned Sterling from the league, fined him $2.5 million and pushed through a charge to terminate all of his ownership rights in the franchise. Fact check: Donald Sterling\\'s claims vs. reality CNN\\'s Dottie Evans contributed to this report.', \"a los angeles judge has ordered v. stiviano to pay back more than $ 2.6 million in gifts after sterling 's wife sued her . in the lawsuit , rochelle `` shelly '' sterling accused stiviano of targeting extremely wealthy older men . she claimed donald sterling used the couple 's money to buy stiviano a ferrari , two bentleys and a range rover , and that he helped her get a $ 1.8 million duplex .\"].\n",
      "Feedback function `groundedness_measure` was renamed to `groundedness_measure_with_cot_reasons`. The new functionality of `groundedness_measure` function will no longer emit reasons as a lower cost option. It may have reduced accuracy due to not using Chain of Thought reasoning in the scoring.\n"
     ]
    },
    {
     "name": "stdout",
     "output_type": "stream",
     "text": [
      "✅ added record record_hash_473f9291d2c62e40ec1228fd577e0c42\n",
      "✅ feedback result Mean Absolute Error DONE feedback_result_hash_ad93bd6e4b71f6dcf4de53f6e3b55726\n"
     ]
    },
    {
     "data": {
      "application/vnd.jupyter.widget-view+json": {
       "model_id": "b33ed16564bf46c48c23dba32151848f",
       "version_major": 2,
       "version_minor": 0
      },
      "text/plain": [
       "Groundendess per statement in source:   0%|          | 0/6 [00:00<?, ?it/s]"
      ]
     },
     "metadata": {},
     "output_type": "display_data"
    },
    {
     "name": "stderr",
     "output_type": "stream",
     "text": [
      "Unsure what the main input string is for the call to _call with args ['(CNN)Donald Sterling\\'s racist remarks cost him an NBA team last year. But now it\\'s his former female companion who has lost big. A Los Angeles judge has ordered V. Stiviano to pay back more than $2.6 million in gifts after Sterling\\'s wife sued her. In the lawsuit, Rochelle \"Shelly\" Sterling accused Stiviano of targeting extremely wealthy older men. She claimed Donald Sterling used the couple\\'s money to buy Stiviano a Ferrari, two Bentleys and a Range Rover, and that he helped her get a $1.8 million duplex. Who is V. Stiviano? Stiviano countered that there was nothing wrong with Donald Sterling giving her gifts and that she never took advantage of the former Los Angeles Clippers owner, who made much of his fortune in real estate. Shelly Sterling was thrilled with the court decision Tuesday, her lawyer told CNN affiliate KABC. \"This is a victory for the Sterling family in recovering the $2,630,000 that Donald lavished on a conniving mistress,\" attorney Pierce O\\'Donnell said in a statement. \"It also sets a precedent that the injured spouse can recover damages from the recipient of these ill-begotten gifts.\" Stiviano\\'s gifts from Donald Sterling didn\\'t just include uber-expensive items like luxury cars. According to the Los Angeles Times, the list also includes a $391 Easter bunny costume, a $299 two-speed blender and a $12 lace thong. Donald Sterling\\'s downfall came after an audio recording surfaced of the octogenarian arguing with Stiviano. In the tape, Sterling chastises Stiviano for posting pictures on social media of her posing with African-Americans, including basketball legend Magic Johnson. \"In your lousy f**ing Instagrams, you don\\'t have to have yourself with -- walking with black people,\" Sterling said in the audio first posted by TMZ. He also tells Stiviano not to bring Johnson to Clippers games and not to post photos with the Hall of Famer so Sterling\\'s friends can see. \"Admire him, bring him here, feed him, f**k him, but don\\'t put (Magic) on an Instagram for the world to have to see so they have to call me,\" Sterling said. NBA Commissioner Adam Silver banned Sterling from the league, fined him $2.5 million and pushed through a charge to terminate all of his ownership rights in the franchise. Fact check: Donald Sterling\\'s claims vs. reality CNN\\'s Dottie Evans contributed to this report.', \"-lrb- cnn -rrb- donald sterling 's racist remarks cost him an nba team last year . but now it 's his former female companion who has lost big . a los angeles judge has ordered v. stiviano to pay back more than $ 2.6 million in gifts after sterling 's wife sued her .\"].\n",
      "Feedback function `groundedness_measure` was renamed to `groundedness_measure_with_cot_reasons`. The new functionality of `groundedness_measure` function will no longer emit reasons as a lower cost option. It may have reduced accuracy due to not using Chain of Thought reasoning in the scoring.\n"
     ]
    },
    {
     "name": "stdout",
     "output_type": "stream",
     "text": [
      "✅ added record record_hash_f715023665678033d8f5adc575f9872e\n",
      "✅ feedback result Mean Absolute Error DONE feedback_result_hash_6fdb1edde16a353113a2e361051649ae\n"
     ]
    },
    {
     "name": "stderr",
     "output_type": "stream",
     "text": [
      "Unsure what the main input string is for the call to _call with args ['(CNN)Donald Sterling\\'s racist remarks cost him an NBA team last year. But now it\\'s his former female companion who has lost big. A Los Angeles judge has ordered V. Stiviano to pay back more than $2.6 million in gifts after Sterling\\'s wife sued her. In the lawsuit, Rochelle \"Shelly\" Sterling accused Stiviano of targeting extremely wealthy older men. She claimed Donald Sterling used the couple\\'s money to buy Stiviano a Ferrari, two Bentleys and a Range Rover, and that he helped her get a $1.8 million duplex. Who is V. Stiviano? Stiviano countered that there was nothing wrong with Donald Sterling giving her gifts and that she never took advantage of the former Los Angeles Clippers owner, who made much of his fortune in real estate. Shelly Sterling was thrilled with the court decision Tuesday, her lawyer told CNN affiliate KABC. \"This is a victory for the Sterling family in recovering the $2,630,000 that Donald lavished on a conniving mistress,\" attorney Pierce O\\'Donnell said in a statement. \"It also sets a precedent that the injured spouse can recover damages from the recipient of these ill-begotten gifts.\" Stiviano\\'s gifts from Donald Sterling didn\\'t just include uber-expensive items like luxury cars. According to the Los Angeles Times, the list also includes a $391 Easter bunny costume, a $299 two-speed blender and a $12 lace thong. Donald Sterling\\'s downfall came after an audio recording surfaced of the octogenarian arguing with Stiviano. In the tape, Sterling chastises Stiviano for posting pictures on social media of her posing with African-Americans, including basketball legend Magic Johnson. \"In your lousy f**ing Instagrams, you don\\'t have to have yourself with -- walking with black people,\" Sterling said in the audio first posted by TMZ. He also tells Stiviano not to bring Johnson to Clippers games and not to post photos with the Hall of Famer so Sterling\\'s friends can see. \"Admire him, bring him here, feed him, f**k him, but don\\'t put (Magic) on an Instagram for the world to have to see so they have to call me,\" Sterling said. NBA Commissioner Adam Silver banned Sterling from the league, fined him $2.5 million and pushed through a charge to terminate all of his ownership rights in the franchise. Fact check: Donald Sterling\\'s claims vs. reality CNN\\'s Dottie Evans contributed to this report.', \"-lrb- cnn -rrb- donald sterling 's racist remarks cost him an nba team last year . but now it 's his former female companion who has lost big . a los angeles judge has ordered v. stiviano to pay back more than $ 2.6 million in gifts after sterling 's wife sued her .\"].\n",
      "Feedback function `groundedness_measure` was renamed to `groundedness_measure_with_cot_reasons`. The new functionality of `groundedness_measure` function will no longer emit reasons as a lower cost option. It may have reduced accuracy due to not using Chain of Thought reasoning in the scoring.\n"
     ]
    },
    {
     "name": "stdout",
     "output_type": "stream",
     "text": [
      "✅ added record record_hash_955184a15a1fc21133c32c8bb46953b6\n",
      "✅ feedback result Mean Absolute Error DONE feedback_result_hash_3ccb8132dfd51bf3e50b5a5f715babc3\n"
     ]
    },
    {
     "name": "stderr",
     "output_type": "stream",
     "text": [
      "Unsure what the main input string is for the call to _call with args ['(CNN)Donald Sterling\\'s racist remarks cost him an NBA team last year. But now it\\'s his former female companion who has lost big. A Los Angeles judge has ordered V. Stiviano to pay back more than $2.6 million in gifts after Sterling\\'s wife sued her. In the lawsuit, Rochelle \"Shelly\" Sterling accused Stiviano of targeting extremely wealthy older men. She claimed Donald Sterling used the couple\\'s money to buy Stiviano a Ferrari, two Bentleys and a Range Rover, and that he helped her get a $1.8 million duplex. Who is V. Stiviano? Stiviano countered that there was nothing wrong with Donald Sterling giving her gifts and that she never took advantage of the former Los Angeles Clippers owner, who made much of his fortune in real estate. Shelly Sterling was thrilled with the court decision Tuesday, her lawyer told CNN affiliate KABC. \"This is a victory for the Sterling family in recovering the $2,630,000 that Donald lavished on a conniving mistress,\" attorney Pierce O\\'Donnell said in a statement. \"It also sets a precedent that the injured spouse can recover damages from the recipient of these ill-begotten gifts.\" Stiviano\\'s gifts from Donald Sterling didn\\'t just include uber-expensive items like luxury cars. According to the Los Angeles Times, the list also includes a $391 Easter bunny costume, a $299 two-speed blender and a $12 lace thong. Donald Sterling\\'s downfall came after an audio recording surfaced of the octogenarian arguing with Stiviano. In the tape, Sterling chastises Stiviano for posting pictures on social media of her posing with African-Americans, including basketball legend Magic Johnson. \"In your lousy f**ing Instagrams, you don\\'t have to have yourself with -- walking with black people,\" Sterling said in the audio first posted by TMZ. He also tells Stiviano not to bring Johnson to Clippers games and not to post photos with the Hall of Famer so Sterling\\'s friends can see. \"Admire him, bring him here, feed him, f**k him, but don\\'t put (Magic) on an Instagram for the world to have to see so they have to call me,\" Sterling said. NBA Commissioner Adam Silver banned Sterling from the league, fined him $2.5 million and pushed through a charge to terminate all of his ownership rights in the franchise. Fact check: Donald Sterling\\'s claims vs. reality CNN\\'s Dottie Evans contributed to this report.', \"-lrb- cnn -rrb- donald sterling 's racist remarks cost him an nba team last year . but now it 's his former female companion who has lost big . a los angeles judge has ordered v. stiviano to pay back more than $ 2.6 million in gifts after sterling 's wife sued her .\"].\n"
     ]
    },
    {
     "name": "stdout",
     "output_type": "stream",
     "text": [
      "✅ added record record_hash_9a0f25215c7a05655862e961d782d63c\n"
     ]
    },
    {
     "name": "stderr",
     "output_type": "stream",
     "text": [
      "Feedback function `groundedness_measure` was renamed to `groundedness_measure_with_cot_reasons`. The new functionality of `groundedness_measure` function will no longer emit reasons as a lower cost option. It may have reduced accuracy due to not using Chain of Thought reasoning in the scoring.\n"
     ]
    },
    {
     "name": "stdout",
     "output_type": "stream",
     "text": [
      "✅ feedback result Mean Absolute Error DONE feedback_result_hash_e474c2ca77c65cebbb26dcc33256f35c\n"
     ]
    },
    {
     "data": {
      "application/vnd.jupyter.widget-view+json": {
       "model_id": "e56da182f09b4e54813dc96427ba1cc9",
       "version_major": 2,
       "version_minor": 0
      },
      "text/plain": [
       "Groundendess per statement in source:   0%|          | 0/7 [00:00<?, ?it/s]"
      ]
     },
     "metadata": {},
     "output_type": "display_data"
    },
    {
     "name": "stderr",
     "output_type": "stream",
     "text": [
      "Unsure what the main input string is for the call to _call with args ['(CNN)Donald Sterling\\'s racist remarks cost him an NBA team last year. But now it\\'s his former female companion who has lost big. A Los Angeles judge has ordered V. Stiviano to pay back more than $2.6 million in gifts after Sterling\\'s wife sued her. In the lawsuit, Rochelle \"Shelly\" Sterling accused Stiviano of targeting extremely wealthy older men. She claimed Donald Sterling used the couple\\'s money to buy Stiviano a Ferrari, two Bentleys and a Range Rover, and that he helped her get a $1.8 million duplex. Who is V. Stiviano? Stiviano countered that there was nothing wrong with Donald Sterling giving her gifts and that she never took advantage of the former Los Angeles Clippers owner, who made much of his fortune in real estate. Shelly Sterling was thrilled with the court decision Tuesday, her lawyer told CNN affiliate KABC. \"This is a victory for the Sterling family in recovering the $2,630,000 that Donald lavished on a conniving mistress,\" attorney Pierce O\\'Donnell said in a statement. \"It also sets a precedent that the injured spouse can recover damages from the recipient of these ill-begotten gifts.\" Stiviano\\'s gifts from Donald Sterling didn\\'t just include uber-expensive items like luxury cars. According to the Los Angeles Times, the list also includes a $391 Easter bunny costume, a $299 two-speed blender and a $12 lace thong. Donald Sterling\\'s downfall came after an audio recording surfaced of the octogenarian arguing with Stiviano. In the tape, Sterling chastises Stiviano for posting pictures on social media of her posing with African-Americans, including basketball legend Magic Johnson. \"In your lousy f**ing Instagrams, you don\\'t have to have yourself with -- walking with black people,\" Sterling said in the audio first posted by TMZ. He also tells Stiviano not to bring Johnson to Clippers games and not to post photos with the Hall of Famer so Sterling\\'s friends can see. \"Admire him, bring him here, feed him, f**k him, but don\\'t put (Magic) on an Instagram for the world to have to see so they have to call me,\" Sterling said. NBA Commissioner Adam Silver banned Sterling from the league, fined him $2.5 million and pushed through a charge to terminate all of his ownership rights in the franchise. Fact check: Donald Sterling\\'s claims vs. reality CNN\\'s Dottie Evans contributed to this report.', \"A judge orders V. Stiviano to pay back more than $ 2.6 million in gifts from Donald Sterling . Sterling 's wife sued her , saying she targeted wealthy older men . Shelly Sterling was thrilled with the court decision , her lawyer says . The gifts included a Ferrari , two Bentleys and a Range Rover .\"].\n",
      "Feedback function `groundedness_measure` was renamed to `groundedness_measure_with_cot_reasons`. The new functionality of `groundedness_measure` function will no longer emit reasons as a lower cost option. It may have reduced accuracy due to not using Chain of Thought reasoning in the scoring.\n"
     ]
    },
    {
     "name": "stdout",
     "output_type": "stream",
     "text": [
      "✅ added record record_hash_8da5fd5840d079dc79acdda441ad7410\n",
      "✅ feedback result Mean Absolute Error DONE feedback_result_hash_d30660532c98be5195c38a2635f3dbbf\n"
     ]
    },
    {
     "name": "stderr",
     "output_type": "stream",
     "text": [
      "Unsure what the main input string is for the call to _call with args ['(CNN)Donald Sterling\\'s racist remarks cost him an NBA team last year. But now it\\'s his former female companion who has lost big. A Los Angeles judge has ordered V. Stiviano to pay back more than $2.6 million in gifts after Sterling\\'s wife sued her. In the lawsuit, Rochelle \"Shelly\" Sterling accused Stiviano of targeting extremely wealthy older men. She claimed Donald Sterling used the couple\\'s money to buy Stiviano a Ferrari, two Bentleys and a Range Rover, and that he helped her get a $1.8 million duplex. Who is V. Stiviano? Stiviano countered that there was nothing wrong with Donald Sterling giving her gifts and that she never took advantage of the former Los Angeles Clippers owner, who made much of his fortune in real estate. Shelly Sterling was thrilled with the court decision Tuesday, her lawyer told CNN affiliate KABC. \"This is a victory for the Sterling family in recovering the $2,630,000 that Donald lavished on a conniving mistress,\" attorney Pierce O\\'Donnell said in a statement. \"It also sets a precedent that the injured spouse can recover damages from the recipient of these ill-begotten gifts.\" Stiviano\\'s gifts from Donald Sterling didn\\'t just include uber-expensive items like luxury cars. According to the Los Angeles Times, the list also includes a $391 Easter bunny costume, a $299 two-speed blender and a $12 lace thong. Donald Sterling\\'s downfall came after an audio recording surfaced of the octogenarian arguing with Stiviano. In the tape, Sterling chastises Stiviano for posting pictures on social media of her posing with African-Americans, including basketball legend Magic Johnson. \"In your lousy f**ing Instagrams, you don\\'t have to have yourself with -- walking with black people,\" Sterling said in the audio first posted by TMZ. He also tells Stiviano not to bring Johnson to Clippers games and not to post photos with the Hall of Famer so Sterling\\'s friends can see. \"Admire him, bring him here, feed him, f**k him, but don\\'t put (Magic) on an Instagram for the world to have to see so they have to call me,\" Sterling said. NBA Commissioner Adam Silver banned Sterling from the league, fined him $2.5 million and pushed through a charge to terminate all of his ownership rights in the franchise. Fact check: Donald Sterling\\'s claims vs. reality CNN\\'s Dottie Evans contributed to this report.', \"A judge orders V. Stiviano to pay back more than $ 2.6 million in gifts from Donald Sterling . Sterling 's wife sued her , saying she targeted wealthy older men . Shelly Sterling was thrilled with the court decision , her lawyer says . The gifts included a Ferrari , two Bentleys and a Range Rover .\"].\n",
      "Feedback function `groundedness_measure` was renamed to `groundedness_measure_with_cot_reasons`. The new functionality of `groundedness_measure` function will no longer emit reasons as a lower cost option. It may have reduced accuracy due to not using Chain of Thought reasoning in the scoring.\n"
     ]
    },
    {
     "name": "stdout",
     "output_type": "stream",
     "text": [
      "✅ added record record_hash_b6a77462865fb9a37448be9ecc37d84c\n",
      "✅ feedback result Mean Absolute Error DONE feedback_result_hash_e8ee47c1f7d3ddc12534d4184bc1d6b4\n"
     ]
    },
    {
     "name": "stderr",
     "output_type": "stream",
     "text": [
      "Unsure what the main input string is for the call to _call with args ['(CNN)Donald Sterling\\'s racist remarks cost him an NBA team last year. But now it\\'s his former female companion who has lost big. A Los Angeles judge has ordered V. Stiviano to pay back more than $2.6 million in gifts after Sterling\\'s wife sued her. In the lawsuit, Rochelle \"Shelly\" Sterling accused Stiviano of targeting extremely wealthy older men. She claimed Donald Sterling used the couple\\'s money to buy Stiviano a Ferrari, two Bentleys and a Range Rover, and that he helped her get a $1.8 million duplex. Who is V. Stiviano? Stiviano countered that there was nothing wrong with Donald Sterling giving her gifts and that she never took advantage of the former Los Angeles Clippers owner, who made much of his fortune in real estate. Shelly Sterling was thrilled with the court decision Tuesday, her lawyer told CNN affiliate KABC. \"This is a victory for the Sterling family in recovering the $2,630,000 that Donald lavished on a conniving mistress,\" attorney Pierce O\\'Donnell said in a statement. \"It also sets a precedent that the injured spouse can recover damages from the recipient of these ill-begotten gifts.\" Stiviano\\'s gifts from Donald Sterling didn\\'t just include uber-expensive items like luxury cars. According to the Los Angeles Times, the list also includes a $391 Easter bunny costume, a $299 two-speed blender and a $12 lace thong. Donald Sterling\\'s downfall came after an audio recording surfaced of the octogenarian arguing with Stiviano. In the tape, Sterling chastises Stiviano for posting pictures on social media of her posing with African-Americans, including basketball legend Magic Johnson. \"In your lousy f**ing Instagrams, you don\\'t have to have yourself with -- walking with black people,\" Sterling said in the audio first posted by TMZ. He also tells Stiviano not to bring Johnson to Clippers games and not to post photos with the Hall of Famer so Sterling\\'s friends can see. \"Admire him, bring him here, feed him, f**k him, but don\\'t put (Magic) on an Instagram for the world to have to see so they have to call me,\" Sterling said. NBA Commissioner Adam Silver banned Sterling from the league, fined him $2.5 million and pushed through a charge to terminate all of his ownership rights in the franchise. Fact check: Donald Sterling\\'s claims vs. reality CNN\\'s Dottie Evans contributed to this report.', \"A judge orders V. Stiviano to pay back more than $ 2.6 million in gifts from Donald Sterling . Sterling 's wife sued her , saying she targeted wealthy older men . Shelly Sterling was thrilled with the court decision , her lawyer says . The gifts included a Ferrari , two Bentleys and a Range Rover .\"].\n",
      "Feedback function `groundedness_measure` was renamed to `groundedness_measure_with_cot_reasons`. The new functionality of `groundedness_measure` function will no longer emit reasons as a lower cost option. It may have reduced accuracy due to not using Chain of Thought reasoning in the scoring.\n"
     ]
    },
    {
     "name": "stdout",
     "output_type": "stream",
     "text": [
      "✅ added record record_hash_1d2984a117998ac6806f2ef240199c1d\n",
      "✅ feedback result Mean Absolute Error DONE feedback_result_hash_34a36b0f3c45c463567e7e386969a7f4\n"
     ]
    },
    {
     "data": {
      "application/vnd.jupyter.widget-view+json": {
       "model_id": "e17b2ee5863f4940bcae69171be1ba54",
       "version_major": 2,
       "version_minor": 0
      },
      "text/plain": [
       "Groundendess per statement in source:   0%|          | 0/4 [00:00<?, ?it/s]"
      ]
     },
     "metadata": {},
     "output_type": "display_data"
    },
    {
     "name": "stderr",
     "output_type": "stream",
     "text": [
      "Unsure what the main input string is for the call to _call with args ['(CNN)Donald Sterling\\'s racist remarks cost him an NBA team last year. But now it\\'s his former female companion who has lost big. A Los Angeles judge has ordered V. Stiviano to pay back more than $2.6 million in gifts after Sterling\\'s wife sued her. In the lawsuit, Rochelle \"Shelly\" Sterling accused Stiviano of targeting extremely wealthy older men. She claimed Donald Sterling used the couple\\'s money to buy Stiviano a Ferrari, two Bentleys and a Range Rover, and that he helped her get a $1.8 million duplex. Who is V. Stiviano? Stiviano countered that there was nothing wrong with Donald Sterling giving her gifts and that she never took advantage of the former Los Angeles Clippers owner, who made much of his fortune in real estate. Shelly Sterling was thrilled with the court decision Tuesday, her lawyer told CNN affiliate KABC. \"This is a victory for the Sterling family in recovering the $2,630,000 that Donald lavished on a conniving mistress,\" attorney Pierce O\\'Donnell said in a statement. \"It also sets a precedent that the injured spouse can recover damages from the recipient of these ill-begotten gifts.\" Stiviano\\'s gifts from Donald Sterling didn\\'t just include uber-expensive items like luxury cars. According to the Los Angeles Times, the list also includes a $391 Easter bunny costume, a $299 two-speed blender and a $12 lace thong. Donald Sterling\\'s downfall came after an audio recording surfaced of the octogenarian arguing with Stiviano. In the tape, Sterling chastises Stiviano for posting pictures on social media of her posing with African-Americans, including basketball legend Magic Johnson. \"In your lousy f**ing Instagrams, you don\\'t have to have yourself with -- walking with black people,\" Sterling said in the audio first posted by TMZ. He also tells Stiviano not to bring Johnson to Clippers games and not to post photos with the Hall of Famer so Sterling\\'s friends can see. \"Admire him, bring him here, feed him, f**k him, but don\\'t put (Magic) on an Instagram for the world to have to see so they have to call me,\" Sterling said. NBA Commissioner Adam Silver banned Sterling from the league, fined him $2.5 million and pushed through a charge to terminate all of his ownership rights in the franchise. Fact check: Donald Sterling\\'s claims vs. reality CNN\\'s Dottie Evans contributed to this report.', \"rochelle `` shelly '' sterling accused stiviano of targeting extremely wealthy older men . she claimed donald sterling used the couple 's money to buy stiviano a ferrari , two bentleys and a range rover . stiviano 's gifts from donald sterling did n't just include uber-expensive items like luxury cars .\"].\n",
      "Feedback function `groundedness_measure` was renamed to `groundedness_measure_with_cot_reasons`. The new functionality of `groundedness_measure` function will no longer emit reasons as a lower cost option. It may have reduced accuracy due to not using Chain of Thought reasoning in the scoring.\n"
     ]
    },
    {
     "name": "stdout",
     "output_type": "stream",
     "text": [
      "✅ added record record_hash_a4501976041f62d5aca081f293400e83\n",
      "✅ feedback result Mean Absolute Error DONE feedback_result_hash_9842ea1a420d09581bc41d1544e6fd62\n"
     ]
    },
    {
     "name": "stderr",
     "output_type": "stream",
     "text": [
      "Unsure what the main input string is for the call to _call with args ['(CNN)Donald Sterling\\'s racist remarks cost him an NBA team last year. But now it\\'s his former female companion who has lost big. A Los Angeles judge has ordered V. Stiviano to pay back more than $2.6 million in gifts after Sterling\\'s wife sued her. In the lawsuit, Rochelle \"Shelly\" Sterling accused Stiviano of targeting extremely wealthy older men. She claimed Donald Sterling used the couple\\'s money to buy Stiviano a Ferrari, two Bentleys and a Range Rover, and that he helped her get a $1.8 million duplex. Who is V. Stiviano? Stiviano countered that there was nothing wrong with Donald Sterling giving her gifts and that she never took advantage of the former Los Angeles Clippers owner, who made much of his fortune in real estate. Shelly Sterling was thrilled with the court decision Tuesday, her lawyer told CNN affiliate KABC. \"This is a victory for the Sterling family in recovering the $2,630,000 that Donald lavished on a conniving mistress,\" attorney Pierce O\\'Donnell said in a statement. \"It also sets a precedent that the injured spouse can recover damages from the recipient of these ill-begotten gifts.\" Stiviano\\'s gifts from Donald Sterling didn\\'t just include uber-expensive items like luxury cars. According to the Los Angeles Times, the list also includes a $391 Easter bunny costume, a $299 two-speed blender and a $12 lace thong. Donald Sterling\\'s downfall came after an audio recording surfaced of the octogenarian arguing with Stiviano. In the tape, Sterling chastises Stiviano for posting pictures on social media of her posing with African-Americans, including basketball legend Magic Johnson. \"In your lousy f**ing Instagrams, you don\\'t have to have yourself with -- walking with black people,\" Sterling said in the audio first posted by TMZ. He also tells Stiviano not to bring Johnson to Clippers games and not to post photos with the Hall of Famer so Sterling\\'s friends can see. \"Admire him, bring him here, feed him, f**k him, but don\\'t put (Magic) on an Instagram for the world to have to see so they have to call me,\" Sterling said. NBA Commissioner Adam Silver banned Sterling from the league, fined him $2.5 million and pushed through a charge to terminate all of his ownership rights in the franchise. Fact check: Donald Sterling\\'s claims vs. reality CNN\\'s Dottie Evans contributed to this report.', \"rochelle `` shelly '' sterling accused stiviano of targeting extremely wealthy older men . she claimed donald sterling used the couple 's money to buy stiviano a ferrari , two bentleys and a range rover . stiviano 's gifts from donald sterling did n't just include uber-expensive items like luxury cars .\"].\n",
      "Feedback function `groundedness_measure` was renamed to `groundedness_measure_with_cot_reasons`. The new functionality of `groundedness_measure` function will no longer emit reasons as a lower cost option. It may have reduced accuracy due to not using Chain of Thought reasoning in the scoring.\n"
     ]
    },
    {
     "name": "stdout",
     "output_type": "stream",
     "text": [
      "✅ added record record_hash_742ef37444296e46912d762caaee614f\n",
      "✅ feedback result Mean Absolute Error DONE feedback_result_hash_ddd7247076587ba7fa5144771c386ab4\n"
     ]
    },
    {
     "name": "stderr",
     "output_type": "stream",
     "text": [
      "Unsure what the main input string is for the call to _call with args ['(CNN)Donald Sterling\\'s racist remarks cost him an NBA team last year. But now it\\'s his former female companion who has lost big. A Los Angeles judge has ordered V. Stiviano to pay back more than $2.6 million in gifts after Sterling\\'s wife sued her. In the lawsuit, Rochelle \"Shelly\" Sterling accused Stiviano of targeting extremely wealthy older men. She claimed Donald Sterling used the couple\\'s money to buy Stiviano a Ferrari, two Bentleys and a Range Rover, and that he helped her get a $1.8 million duplex. Who is V. Stiviano? Stiviano countered that there was nothing wrong with Donald Sterling giving her gifts and that she never took advantage of the former Los Angeles Clippers owner, who made much of his fortune in real estate. Shelly Sterling was thrilled with the court decision Tuesday, her lawyer told CNN affiliate KABC. \"This is a victory for the Sterling family in recovering the $2,630,000 that Donald lavished on a conniving mistress,\" attorney Pierce O\\'Donnell said in a statement. \"It also sets a precedent that the injured spouse can recover damages from the recipient of these ill-begotten gifts.\" Stiviano\\'s gifts from Donald Sterling didn\\'t just include uber-expensive items like luxury cars. According to the Los Angeles Times, the list also includes a $391 Easter bunny costume, a $299 two-speed blender and a $12 lace thong. Donald Sterling\\'s downfall came after an audio recording surfaced of the octogenarian arguing with Stiviano. In the tape, Sterling chastises Stiviano for posting pictures on social media of her posing with African-Americans, including basketball legend Magic Johnson. \"In your lousy f**ing Instagrams, you don\\'t have to have yourself with -- walking with black people,\" Sterling said in the audio first posted by TMZ. He also tells Stiviano not to bring Johnson to Clippers games and not to post photos with the Hall of Famer so Sterling\\'s friends can see. \"Admire him, bring him here, feed him, f**k him, but don\\'t put (Magic) on an Instagram for the world to have to see so they have to call me,\" Sterling said. NBA Commissioner Adam Silver banned Sterling from the league, fined him $2.5 million and pushed through a charge to terminate all of his ownership rights in the franchise. Fact check: Donald Sterling\\'s claims vs. reality CNN\\'s Dottie Evans contributed to this report.', \"rochelle `` shelly '' sterling accused stiviano of targeting extremely wealthy older men . she claimed donald sterling used the couple 's money to buy stiviano a ferrari , two bentleys and a range rover . stiviano 's gifts from donald sterling did n't just include uber-expensive items like luxury cars .\"].\n",
      "Feedback function `groundedness_measure` was renamed to `groundedness_measure_with_cot_reasons`. The new functionality of `groundedness_measure` function will no longer emit reasons as a lower cost option. It may have reduced accuracy due to not using Chain of Thought reasoning in the scoring.\n"
     ]
    },
    {
     "name": "stdout",
     "output_type": "stream",
     "text": [
      "✅ added record record_hash_dd160fd6a0c7e5d4f5007f83e8753232\n",
      "✅ feedback result Mean Absolute Error DONE feedback_result_hash_ada070ac45afe86e77289990688b2c56\n"
     ]
    },
    {
     "data": {
      "application/vnd.jupyter.widget-view+json": {
       "model_id": "840249a879c04c309331d341b85abb74",
       "version_major": 2,
       "version_minor": 0
      },
      "text/plain": [
       "Groundendess per statement in source:   0%|          | 0/5 [00:00<?, ?it/s]"
      ]
     },
     "metadata": {},
     "output_type": "display_data"
    },
    {
     "name": "stderr",
     "output_type": "stream",
     "text": [
      "Unsure what the main input string is for the call to _call with args ['(CNN)Donald Sterling\\'s racist remarks cost him an NBA team last year. But now it\\'s his former female companion who has lost big. A Los Angeles judge has ordered V. Stiviano to pay back more than $2.6 million in gifts after Sterling\\'s wife sued her. In the lawsuit, Rochelle \"Shelly\" Sterling accused Stiviano of targeting extremely wealthy older men. She claimed Donald Sterling used the couple\\'s money to buy Stiviano a Ferrari, two Bentleys and a Range Rover, and that he helped her get a $1.8 million duplex. Who is V. Stiviano? Stiviano countered that there was nothing wrong with Donald Sterling giving her gifts and that she never took advantage of the former Los Angeles Clippers owner, who made much of his fortune in real estate. Shelly Sterling was thrilled with the court decision Tuesday, her lawyer told CNN affiliate KABC. \"This is a victory for the Sterling family in recovering the $2,630,000 that Donald lavished on a conniving mistress,\" attorney Pierce O\\'Donnell said in a statement. \"It also sets a precedent that the injured spouse can recover damages from the recipient of these ill-begotten gifts.\" Stiviano\\'s gifts from Donald Sterling didn\\'t just include uber-expensive items like luxury cars. According to the Los Angeles Times, the list also includes a $391 Easter bunny costume, a $299 two-speed blender and a $12 lace thong. Donald Sterling\\'s downfall came after an audio recording surfaced of the octogenarian arguing with Stiviano. In the tape, Sterling chastises Stiviano for posting pictures on social media of her posing with African-Americans, including basketball legend Magic Johnson. \"In your lousy f**ing Instagrams, you don\\'t have to have yourself with -- walking with black people,\" Sterling said in the audio first posted by TMZ. He also tells Stiviano not to bring Johnson to Clippers games and not to post photos with the Hall of Famer so Sterling\\'s friends can see. \"Admire him, bring him here, feed him, f**k him, but don\\'t put (Magic) on an Instagram for the world to have to see so they have to call me,\" Sterling said. NBA Commissioner Adam Silver banned Sterling from the league, fined him $2.5 million and pushed through a charge to terminate all of his ownership rights in the franchise. Fact check: Donald Sterling\\'s claims vs. reality CNN\\'s Dottie Evans contributed to this report.', \"donald sterling 's racist remarks cost him an nba team last year . in the lawsuit , rochelle `` shelly '' sterling used the couple 's money to buy stiviano a ferrari , wealthy older men . shelly sterling 's gifts from donald sterling was $ 2.6 million in gifts .\"].\n",
      "Feedback function `groundedness_measure` was renamed to `groundedness_measure_with_cot_reasons`. The new functionality of `groundedness_measure` function will no longer emit reasons as a lower cost option. It may have reduced accuracy due to not using Chain of Thought reasoning in the scoring.\n"
     ]
    },
    {
     "name": "stdout",
     "output_type": "stream",
     "text": [
      "✅ added record record_hash_f4f439fbd18b830c3af340081aa23a2b\n",
      "✅ feedback result Mean Absolute Error DONE feedback_result_hash_d79bb0336bd52a36799280fcb45328b2\n"
     ]
    },
    {
     "name": "stderr",
     "output_type": "stream",
     "text": [
      "Unsure what the main input string is for the call to _call with args ['(CNN)Donald Sterling\\'s racist remarks cost him an NBA team last year. But now it\\'s his former female companion who has lost big. A Los Angeles judge has ordered V. Stiviano to pay back more than $2.6 million in gifts after Sterling\\'s wife sued her. In the lawsuit, Rochelle \"Shelly\" Sterling accused Stiviano of targeting extremely wealthy older men. She claimed Donald Sterling used the couple\\'s money to buy Stiviano a Ferrari, two Bentleys and a Range Rover, and that he helped her get a $1.8 million duplex. Who is V. Stiviano? Stiviano countered that there was nothing wrong with Donald Sterling giving her gifts and that she never took advantage of the former Los Angeles Clippers owner, who made much of his fortune in real estate. Shelly Sterling was thrilled with the court decision Tuesday, her lawyer told CNN affiliate KABC. \"This is a victory for the Sterling family in recovering the $2,630,000 that Donald lavished on a conniving mistress,\" attorney Pierce O\\'Donnell said in a statement. \"It also sets a precedent that the injured spouse can recover damages from the recipient of these ill-begotten gifts.\" Stiviano\\'s gifts from Donald Sterling didn\\'t just include uber-expensive items like luxury cars. According to the Los Angeles Times, the list also includes a $391 Easter bunny costume, a $299 two-speed blender and a $12 lace thong. Donald Sterling\\'s downfall came after an audio recording surfaced of the octogenarian arguing with Stiviano. In the tape, Sterling chastises Stiviano for posting pictures on social media of her posing with African-Americans, including basketball legend Magic Johnson. \"In your lousy f**ing Instagrams, you don\\'t have to have yourself with -- walking with black people,\" Sterling said in the audio first posted by TMZ. He also tells Stiviano not to bring Johnson to Clippers games and not to post photos with the Hall of Famer so Sterling\\'s friends can see. \"Admire him, bring him here, feed him, f**k him, but don\\'t put (Magic) on an Instagram for the world to have to see so they have to call me,\" Sterling said. NBA Commissioner Adam Silver banned Sterling from the league, fined him $2.5 million and pushed through a charge to terminate all of his ownership rights in the franchise. Fact check: Donald Sterling\\'s claims vs. reality CNN\\'s Dottie Evans contributed to this report.', \"donald sterling 's racist remarks cost him an nba team last year . in the lawsuit , rochelle `` shelly '' sterling used the couple 's money to buy stiviano a ferrari , wealthy older men . shelly sterling 's gifts from donald sterling was $ 2.6 million in gifts .\"].\n",
      "Feedback function `groundedness_measure` was renamed to `groundedness_measure_with_cot_reasons`. The new functionality of `groundedness_measure` function will no longer emit reasons as a lower cost option. It may have reduced accuracy due to not using Chain of Thought reasoning in the scoring.\n"
     ]
    },
    {
     "name": "stdout",
     "output_type": "stream",
     "text": [
      "✅ added record record_hash_0fd10536fba40479c4c9c2029214e75a\n",
      "✅ feedback result Mean Absolute Error DONE feedback_result_hash_202c5c87da2fb5727c0673bff281f01c\n"
     ]
    },
    {
     "name": "stderr",
     "output_type": "stream",
     "text": [
      "Unsure what the main input string is for the call to _call with args ['(CNN)Donald Sterling\\'s racist remarks cost him an NBA team last year. But now it\\'s his former female companion who has lost big. A Los Angeles judge has ordered V. Stiviano to pay back more than $2.6 million in gifts after Sterling\\'s wife sued her. In the lawsuit, Rochelle \"Shelly\" Sterling accused Stiviano of targeting extremely wealthy older men. She claimed Donald Sterling used the couple\\'s money to buy Stiviano a Ferrari, two Bentleys and a Range Rover, and that he helped her get a $1.8 million duplex. Who is V. Stiviano? Stiviano countered that there was nothing wrong with Donald Sterling giving her gifts and that she never took advantage of the former Los Angeles Clippers owner, who made much of his fortune in real estate. Shelly Sterling was thrilled with the court decision Tuesday, her lawyer told CNN affiliate KABC. \"This is a victory for the Sterling family in recovering the $2,630,000 that Donald lavished on a conniving mistress,\" attorney Pierce O\\'Donnell said in a statement. \"It also sets a precedent that the injured spouse can recover damages from the recipient of these ill-begotten gifts.\" Stiviano\\'s gifts from Donald Sterling didn\\'t just include uber-expensive items like luxury cars. According to the Los Angeles Times, the list also includes a $391 Easter bunny costume, a $299 two-speed blender and a $12 lace thong. Donald Sterling\\'s downfall came after an audio recording surfaced of the octogenarian arguing with Stiviano. In the tape, Sterling chastises Stiviano for posting pictures on social media of her posing with African-Americans, including basketball legend Magic Johnson. \"In your lousy f**ing Instagrams, you don\\'t have to have yourself with -- walking with black people,\" Sterling said in the audio first posted by TMZ. He also tells Stiviano not to bring Johnson to Clippers games and not to post photos with the Hall of Famer so Sterling\\'s friends can see. \"Admire him, bring him here, feed him, f**k him, but don\\'t put (Magic) on an Instagram for the world to have to see so they have to call me,\" Sterling said. NBA Commissioner Adam Silver banned Sterling from the league, fined him $2.5 million and pushed through a charge to terminate all of his ownership rights in the franchise. Fact check: Donald Sterling\\'s claims vs. reality CNN\\'s Dottie Evans contributed to this report.', \"donald sterling 's racist remarks cost him an nba team last year . in the lawsuit , rochelle `` shelly '' sterling used the couple 's money to buy stiviano a ferrari , wealthy older men . shelly sterling 's gifts from donald sterling was $ 2.6 million in gifts .\"].\n",
      "Feedback function `groundedness_measure` was renamed to `groundedness_measure_with_cot_reasons`. The new functionality of `groundedness_measure` function will no longer emit reasons as a lower cost option. It may have reduced accuracy due to not using Chain of Thought reasoning in the scoring.\n"
     ]
    },
    {
     "name": "stdout",
     "output_type": "stream",
     "text": [
      "✅ added record record_hash_e437860ec18eaec31659c17fad81ae4c\n",
      "✅ feedback result Mean Absolute Error DONE feedback_result_hash_f5dcec9b7c0488cb6748107a6aafa30d\n"
     ]
    },
    {
     "data": {
      "application/vnd.jupyter.widget-view+json": {
       "model_id": "140ac2803cc849f79dd4367bde45f050",
       "version_major": 2,
       "version_minor": 0
      },
      "text/plain": [
       "Groundendess per statement in source:   0%|          | 0/7 [00:00<?, ?it/s]"
      ]
     },
     "metadata": {},
     "output_type": "display_data"
    },
    {
     "name": "stderr",
     "output_type": "stream",
     "text": [
      "Unsure what the main input string is for the call to _call with args ['(CNN)Donald Sterling\\'s racist remarks cost him an NBA team last year. But now it\\'s his former female companion who has lost big. A Los Angeles judge has ordered V. Stiviano to pay back more than $2.6 million in gifts after Sterling\\'s wife sued her. In the lawsuit, Rochelle \"Shelly\" Sterling accused Stiviano of targeting extremely wealthy older men. She claimed Donald Sterling used the couple\\'s money to buy Stiviano a Ferrari, two Bentleys and a Range Rover, and that he helped her get a $1.8 million duplex. Who is V. Stiviano? Stiviano countered that there was nothing wrong with Donald Sterling giving her gifts and that she never took advantage of the former Los Angeles Clippers owner, who made much of his fortune in real estate. Shelly Sterling was thrilled with the court decision Tuesday, her lawyer told CNN affiliate KABC. \"This is a victory for the Sterling family in recovering the $2,630,000 that Donald lavished on a conniving mistress,\" attorney Pierce O\\'Donnell said in a statement. \"It also sets a precedent that the injured spouse can recover damages from the recipient of these ill-begotten gifts.\" Stiviano\\'s gifts from Donald Sterling didn\\'t just include uber-expensive items like luxury cars. According to the Los Angeles Times, the list also includes a $391 Easter bunny costume, a $299 two-speed blender and a $12 lace thong. Donald Sterling\\'s downfall came after an audio recording surfaced of the octogenarian arguing with Stiviano. In the tape, Sterling chastises Stiviano for posting pictures on social media of her posing with African-Americans, including basketball legend Magic Johnson. \"In your lousy f**ing Instagrams, you don\\'t have to have yourself with -- walking with black people,\" Sterling said in the audio first posted by TMZ. He also tells Stiviano not to bring Johnson to Clippers games and not to post photos with the Hall of Famer so Sterling\\'s friends can see. \"Admire him, bring him here, feed him, f**k him, but don\\'t put (Magic) on an Instagram for the world to have to see so they have to call me,\" Sterling said. NBA Commissioner Adam Silver banned Sterling from the league, fined him $2.5 million and pushed through a charge to terminate all of his ownership rights in the franchise. Fact check: Donald Sterling\\'s claims vs. reality CNN\\'s Dottie Evans contributed to this report.', \"donald sterling 's remarks cost him an nba team last year . a los angeles judge has ordered v. stiviano to pay back more than $ 2.6 million . rochelle `` shelly '' sterling accused stiviano of targeting wealthy older men . stiviano says there was nothing wrong with donald sterling giving her gifts .\"].\n",
      "Feedback function `groundedness_measure` was renamed to `groundedness_measure_with_cot_reasons`. The new functionality of `groundedness_measure` function will no longer emit reasons as a lower cost option. It may have reduced accuracy due to not using Chain of Thought reasoning in the scoring.\n"
     ]
    },
    {
     "name": "stdout",
     "output_type": "stream",
     "text": [
      "✅ added record record_hash_dd5b70334502b2a6c321a43bd1ad004c\n",
      "✅ feedback result Mean Absolute Error DONE feedback_result_hash_3f0fc22569af86e3f25ff8b2734d9e34\n"
     ]
    },
    {
     "name": "stderr",
     "output_type": "stream",
     "text": [
      "Unsure what the main input string is for the call to _call with args ['(CNN)Donald Sterling\\'s racist remarks cost him an NBA team last year. But now it\\'s his former female companion who has lost big. A Los Angeles judge has ordered V. Stiviano to pay back more than $2.6 million in gifts after Sterling\\'s wife sued her. In the lawsuit, Rochelle \"Shelly\" Sterling accused Stiviano of targeting extremely wealthy older men. She claimed Donald Sterling used the couple\\'s money to buy Stiviano a Ferrari, two Bentleys and a Range Rover, and that he helped her get a $1.8 million duplex. Who is V. Stiviano? Stiviano countered that there was nothing wrong with Donald Sterling giving her gifts and that she never took advantage of the former Los Angeles Clippers owner, who made much of his fortune in real estate. Shelly Sterling was thrilled with the court decision Tuesday, her lawyer told CNN affiliate KABC. \"This is a victory for the Sterling family in recovering the $2,630,000 that Donald lavished on a conniving mistress,\" attorney Pierce O\\'Donnell said in a statement. \"It also sets a precedent that the injured spouse can recover damages from the recipient of these ill-begotten gifts.\" Stiviano\\'s gifts from Donald Sterling didn\\'t just include uber-expensive items like luxury cars. According to the Los Angeles Times, the list also includes a $391 Easter bunny costume, a $299 two-speed blender and a $12 lace thong. Donald Sterling\\'s downfall came after an audio recording surfaced of the octogenarian arguing with Stiviano. In the tape, Sterling chastises Stiviano for posting pictures on social media of her posing with African-Americans, including basketball legend Magic Johnson. \"In your lousy f**ing Instagrams, you don\\'t have to have yourself with -- walking with black people,\" Sterling said in the audio first posted by TMZ. He also tells Stiviano not to bring Johnson to Clippers games and not to post photos with the Hall of Famer so Sterling\\'s friends can see. \"Admire him, bring him here, feed him, f**k him, but don\\'t put (Magic) on an Instagram for the world to have to see so they have to call me,\" Sterling said. NBA Commissioner Adam Silver banned Sterling from the league, fined him $2.5 million and pushed through a charge to terminate all of his ownership rights in the franchise. Fact check: Donald Sterling\\'s claims vs. reality CNN\\'s Dottie Evans contributed to this report.', \"donald sterling 's remarks cost him an nba team last year . a los angeles judge has ordered v. stiviano to pay back more than $ 2.6 million . rochelle `` shelly '' sterling accused stiviano of targeting wealthy older men . stiviano says there was nothing wrong with donald sterling giving her gifts .\"].\n",
      "Feedback function `groundedness_measure` was renamed to `groundedness_measure_with_cot_reasons`. The new functionality of `groundedness_measure` function will no longer emit reasons as a lower cost option. It may have reduced accuracy due to not using Chain of Thought reasoning in the scoring.\n"
     ]
    },
    {
     "name": "stdout",
     "output_type": "stream",
     "text": [
      "✅ added record record_hash_1ceee4655bacc6b5111bcb89d1630940\n",
      "✅ feedback result Mean Absolute Error DONE feedback_result_hash_02f767961d5870f572e0f0ad6d6f5bda\n"
     ]
    },
    {
     "name": "stderr",
     "output_type": "stream",
     "text": [
      "Unsure what the main input string is for the call to _call with args ['(CNN)Donald Sterling\\'s racist remarks cost him an NBA team last year. But now it\\'s his former female companion who has lost big. A Los Angeles judge has ordered V. Stiviano to pay back more than $2.6 million in gifts after Sterling\\'s wife sued her. In the lawsuit, Rochelle \"Shelly\" Sterling accused Stiviano of targeting extremely wealthy older men. She claimed Donald Sterling used the couple\\'s money to buy Stiviano a Ferrari, two Bentleys and a Range Rover, and that he helped her get a $1.8 million duplex. Who is V. Stiviano? Stiviano countered that there was nothing wrong with Donald Sterling giving her gifts and that she never took advantage of the former Los Angeles Clippers owner, who made much of his fortune in real estate. Shelly Sterling was thrilled with the court decision Tuesday, her lawyer told CNN affiliate KABC. \"This is a victory for the Sterling family in recovering the $2,630,000 that Donald lavished on a conniving mistress,\" attorney Pierce O\\'Donnell said in a statement. \"It also sets a precedent that the injured spouse can recover damages from the recipient of these ill-begotten gifts.\" Stiviano\\'s gifts from Donald Sterling didn\\'t just include uber-expensive items like luxury cars. According to the Los Angeles Times, the list also includes a $391 Easter bunny costume, a $299 two-speed blender and a $12 lace thong. Donald Sterling\\'s downfall came after an audio recording surfaced of the octogenarian arguing with Stiviano. In the tape, Sterling chastises Stiviano for posting pictures on social media of her posing with African-Americans, including basketball legend Magic Johnson. \"In your lousy f**ing Instagrams, you don\\'t have to have yourself with -- walking with black people,\" Sterling said in the audio first posted by TMZ. He also tells Stiviano not to bring Johnson to Clippers games and not to post photos with the Hall of Famer so Sterling\\'s friends can see. \"Admire him, bring him here, feed him, f**k him, but don\\'t put (Magic) on an Instagram for the world to have to see so they have to call me,\" Sterling said. NBA Commissioner Adam Silver banned Sterling from the league, fined him $2.5 million and pushed through a charge to terminate all of his ownership rights in the franchise. Fact check: Donald Sterling\\'s claims vs. reality CNN\\'s Dottie Evans contributed to this report.', \"donald sterling 's remarks cost him an nba team last year . a los angeles judge has ordered v. stiviano to pay back more than $ 2.6 million . rochelle `` shelly '' sterling accused stiviano of targeting wealthy older men . stiviano says there was nothing wrong with donald sterling giving her gifts .\"].\n",
      "Feedback function `groundedness_measure` was renamed to `groundedness_measure_with_cot_reasons`. The new functionality of `groundedness_measure` function will no longer emit reasons as a lower cost option. It may have reduced accuracy due to not using Chain of Thought reasoning in the scoring.\n"
     ]
    },
    {
     "name": "stdout",
     "output_type": "stream",
     "text": [
      "✅ added record record_hash_17a442962d4c283111d3178bd246a823\n",
      "✅ feedback result Mean Absolute Error DONE feedback_result_hash_70db339e59f283c006bf32e844b8fe64\n"
     ]
    },
    {
     "data": {
      "application/vnd.jupyter.widget-view+json": {
       "model_id": "d2bfe5fd5ceb4ad284c61bee4c88c554",
       "version_major": 2,
       "version_minor": 0
      },
      "text/plain": [
       "Groundendess per statement in source:   0%|          | 0/5 [00:00<?, ?it/s]"
      ]
     },
     "metadata": {},
     "output_type": "display_data"
    },
    {
     "name": "stderr",
     "output_type": "stream",
     "text": [
      "Unsure what the main input string is for the call to _call with args ['(CNN)A North Pacific gray whale has earned a spot in the record books after completing the longest migration of a mammal ever recorded. The whale, named Varvara, swam nearly 14,000 miles (22,500 kilometers), according to a release from Oregon State University, whose scientists helped conduct the whale-tracking study. Varvara, which is Russian for \"Barbara,\" left her primary feeding ground off Russia\\'s Sakhalin Island to cross the  Pacific Ocean and down the West Coast of the United States to Baja, Mexico. Varvara\\'s journey surpassed a record listed on the Guinness Worlds Records website. It said the previous record was set by a humpback whale that swam a mere 10,190-mile round trip between the \"warm breeding waters near the equator and the colder food-rich waters of the Arctic and Antarctic regions.\" Records are nice, but Bruce Mate, the lead author of the study, thinks the long trip might say more about the whale than just its ability to swim. During her 14,000-mile journey, Varvara visited \"three major breeding areas for eastern gray whales,\" which was a surprise to Mate, who is also the director of the Marine Mammal Institute at Oregon State University. \"For her to go to Mexico,\" Mate said, \"It\\'s pretty strong evidence that it\\'s where she\\'s from.\" Varvara was thought to be an endangered western whale, but her ability to \"navigate across open water over tremendously long distances is impressive,\" he said in the release, which could mean that some western gray whales are actually eastern grays. With only 150 western gray whales believed to be in existence, that number might be even lower. \"Past studies have indicated genetic differentiation between the species, but this suggests we may need to take a closer look,\" Mate said. Fourth baby orca born this season', \"north pacific gray whale has earned a spot in the record for the longest migration of a mammal ever recorded . the whale , named varvara , swam nearly 14,000 miles from the guinness worlds records . the record was set by a whale whale whale that swam a mere 10,190-mile round trip . the north coast of mexico is russian for `` barbara '' '' .\"].\n",
      "Feedback function `groundedness_measure` was renamed to `groundedness_measure_with_cot_reasons`. The new functionality of `groundedness_measure` function will no longer emit reasons as a lower cost option. It may have reduced accuracy due to not using Chain of Thought reasoning in the scoring.\n"
     ]
    },
    {
     "name": "stdout",
     "output_type": "stream",
     "text": [
      "✅ added record record_hash_6f47e50da5cab38592c5f8bf544f842c\n",
      "✅ feedback result Mean Absolute Error DONE feedback_result_hash_80973b28d9b238855ff80f8ded2b7b8a\n"
     ]
    },
    {
     "name": "stderr",
     "output_type": "stream",
     "text": [
      "Unsure what the main input string is for the call to _call with args ['(CNN)A North Pacific gray whale has earned a spot in the record books after completing the longest migration of a mammal ever recorded. The whale, named Varvara, swam nearly 14,000 miles (22,500 kilometers), according to a release from Oregon State University, whose scientists helped conduct the whale-tracking study. Varvara, which is Russian for \"Barbara,\" left her primary feeding ground off Russia\\'s Sakhalin Island to cross the  Pacific Ocean and down the West Coast of the United States to Baja, Mexico. Varvara\\'s journey surpassed a record listed on the Guinness Worlds Records website. It said the previous record was set by a humpback whale that swam a mere 10,190-mile round trip between the \"warm breeding waters near the equator and the colder food-rich waters of the Arctic and Antarctic regions.\" Records are nice, but Bruce Mate, the lead author of the study, thinks the long trip might say more about the whale than just its ability to swim. During her 14,000-mile journey, Varvara visited \"three major breeding areas for eastern gray whales,\" which was a surprise to Mate, who is also the director of the Marine Mammal Institute at Oregon State University. \"For her to go to Mexico,\" Mate said, \"It\\'s pretty strong evidence that it\\'s where she\\'s from.\" Varvara was thought to be an endangered western whale, but her ability to \"navigate across open water over tremendously long distances is impressive,\" he said in the release, which could mean that some western gray whales are actually eastern grays. With only 150 western gray whales believed to be in existence, that number might be even lower. \"Past studies have indicated genetic differentiation between the species, but this suggests we may need to take a closer look,\" Mate said. Fourth baby orca born this season', \"north pacific gray whale has earned a spot in the record for the longest migration of a mammal ever recorded . the whale , named varvara , swam nearly 14,000 miles from the guinness worlds records . the record was set by a whale whale whale that swam a mere 10,190-mile round trip . the north coast of mexico is russian for `` barbara '' '' .\"].\n",
      "Feedback function `groundedness_measure` was renamed to `groundedness_measure_with_cot_reasons`. The new functionality of `groundedness_measure` function will no longer emit reasons as a lower cost option. It may have reduced accuracy due to not using Chain of Thought reasoning in the scoring.\n"
     ]
    },
    {
     "name": "stdout",
     "output_type": "stream",
     "text": [
      "✅ added record record_hash_2aab85f92e9581c64b007b5c619d387e\n",
      "✅ feedback result Mean Absolute Error DONE feedback_result_hash_20206c74a13c03200877e1756ab2cdaf\n"
     ]
    },
    {
     "name": "stderr",
     "output_type": "stream",
     "text": [
      "Unsure what the main input string is for the call to _call with args ['(CNN)A North Pacific gray whale has earned a spot in the record books after completing the longest migration of a mammal ever recorded. The whale, named Varvara, swam nearly 14,000 miles (22,500 kilometers), according to a release from Oregon State University, whose scientists helped conduct the whale-tracking study. Varvara, which is Russian for \"Barbara,\" left her primary feeding ground off Russia\\'s Sakhalin Island to cross the  Pacific Ocean and down the West Coast of the United States to Baja, Mexico. Varvara\\'s journey surpassed a record listed on the Guinness Worlds Records website. It said the previous record was set by a humpback whale that swam a mere 10,190-mile round trip between the \"warm breeding waters near the equator and the colder food-rich waters of the Arctic and Antarctic regions.\" Records are nice, but Bruce Mate, the lead author of the study, thinks the long trip might say more about the whale than just its ability to swim. During her 14,000-mile journey, Varvara visited \"three major breeding areas for eastern gray whales,\" which was a surprise to Mate, who is also the director of the Marine Mammal Institute at Oregon State University. \"For her to go to Mexico,\" Mate said, \"It\\'s pretty strong evidence that it\\'s where she\\'s from.\" Varvara was thought to be an endangered western whale, but her ability to \"navigate across open water over tremendously long distances is impressive,\" he said in the release, which could mean that some western gray whales are actually eastern grays. With only 150 western gray whales believed to be in existence, that number might be even lower. \"Past studies have indicated genetic differentiation between the species, but this suggests we may need to take a closer look,\" Mate said. Fourth baby orca born this season', \"north pacific gray whale has earned a spot in the record for the longest migration of a mammal ever recorded . the whale , named varvara , swam nearly 14,000 miles from the guinness worlds records . the record was set by a whale whale whale that swam a mere 10,190-mile round trip . the north coast of mexico is russian for `` barbara '' '' .\"].\n",
      "Feedback function `groundedness_measure` was renamed to `groundedness_measure_with_cot_reasons`. The new functionality of `groundedness_measure` function will no longer emit reasons as a lower cost option. It may have reduced accuracy due to not using Chain of Thought reasoning in the scoring.\n"
     ]
    },
    {
     "name": "stdout",
     "output_type": "stream",
     "text": [
      "✅ added record record_hash_3cbbcc396a930b1f68078c7523d68f7e\n",
      "✅ feedback result Mean Absolute Error DONE feedback_result_hash_75741713c5a4822a1018faa573140f70\n"
     ]
    },
    {
     "data": {
      "application/vnd.jupyter.widget-view+json": {
       "model_id": "6b0fca89a6ec419aaf19b06a8ae85eec",
       "version_major": 2,
       "version_minor": 0
      },
      "text/plain": [
       "Groundendess per statement in source:   0%|          | 0/4 [00:00<?, ?it/s]"
      ]
     },
     "metadata": {},
     "output_type": "display_data"
    },
    {
     "name": "stderr",
     "output_type": "stream",
     "text": [
      "Unsure what the main input string is for the call to _call with args ['(CNN)A North Pacific gray whale has earned a spot in the record books after completing the longest migration of a mammal ever recorded. The whale, named Varvara, swam nearly 14,000 miles (22,500 kilometers), according to a release from Oregon State University, whose scientists helped conduct the whale-tracking study. Varvara, which is Russian for \"Barbara,\" left her primary feeding ground off Russia\\'s Sakhalin Island to cross the  Pacific Ocean and down the West Coast of the United States to Baja, Mexico. Varvara\\'s journey surpassed a record listed on the Guinness Worlds Records website. It said the previous record was set by a humpback whale that swam a mere 10,190-mile round trip between the \"warm breeding waters near the equator and the colder food-rich waters of the Arctic and Antarctic regions.\" Records are nice, but Bruce Mate, the lead author of the study, thinks the long trip might say more about the whale than just its ability to swim. During her 14,000-mile journey, Varvara visited \"three major breeding areas for eastern gray whales,\" which was a surprise to Mate, who is also the director of the Marine Mammal Institute at Oregon State University. \"For her to go to Mexico,\" Mate said, \"It\\'s pretty strong evidence that it\\'s where she\\'s from.\" Varvara was thought to be an endangered western whale, but her ability to \"navigate across open water over tremendously long distances is impressive,\" he said in the release, which could mean that some western gray whales are actually eastern grays. With only 150 western gray whales believed to be in existence, that number might be even lower. \"Past studies have indicated genetic differentiation between the species, but this suggests we may need to take a closer look,\" Mate said. Fourth baby orca born this season', \"a north pacific gray whale has earned a spot in the record books after completing the longest migration of a mammal ever recorded . the whale , named varvara , swam nearly 14,000 miles -lrb- 22,500 kilometers -rrb- , according to a release from oregon state university . varvara 's journey surpassed a record listed on the guinness worlds records website .\"].\n",
      "Feedback function `groundedness_measure` was renamed to `groundedness_measure_with_cot_reasons`. The new functionality of `groundedness_measure` function will no longer emit reasons as a lower cost option. It may have reduced accuracy due to not using Chain of Thought reasoning in the scoring.\n"
     ]
    },
    {
     "name": "stdout",
     "output_type": "stream",
     "text": [
      "✅ added record record_hash_25d890e05c1347de98a04a3902801b70\n",
      "✅ feedback result Mean Absolute Error DONE feedback_result_hash_37f666cce7f35980aced16eeeacaf00e\n"
     ]
    },
    {
     "name": "stderr",
     "output_type": "stream",
     "text": [
      "Unsure what the main input string is for the call to _call with args ['(CNN)A North Pacific gray whale has earned a spot in the record books after completing the longest migration of a mammal ever recorded. The whale, named Varvara, swam nearly 14,000 miles (22,500 kilometers), according to a release from Oregon State University, whose scientists helped conduct the whale-tracking study. Varvara, which is Russian for \"Barbara,\" left her primary feeding ground off Russia\\'s Sakhalin Island to cross the  Pacific Ocean and down the West Coast of the United States to Baja, Mexico. Varvara\\'s journey surpassed a record listed on the Guinness Worlds Records website. It said the previous record was set by a humpback whale that swam a mere 10,190-mile round trip between the \"warm breeding waters near the equator and the colder food-rich waters of the Arctic and Antarctic regions.\" Records are nice, but Bruce Mate, the lead author of the study, thinks the long trip might say more about the whale than just its ability to swim. During her 14,000-mile journey, Varvara visited \"three major breeding areas for eastern gray whales,\" which was a surprise to Mate, who is also the director of the Marine Mammal Institute at Oregon State University. \"For her to go to Mexico,\" Mate said, \"It\\'s pretty strong evidence that it\\'s where she\\'s from.\" Varvara was thought to be an endangered western whale, but her ability to \"navigate across open water over tremendously long distances is impressive,\" he said in the release, which could mean that some western gray whales are actually eastern grays. With only 150 western gray whales believed to be in existence, that number might be even lower. \"Past studies have indicated genetic differentiation between the species, but this suggests we may need to take a closer look,\" Mate said. Fourth baby orca born this season', \"a north pacific gray whale has earned a spot in the record books after completing the longest migration of a mammal ever recorded . the whale , named varvara , swam nearly 14,000 miles -lrb- 22,500 kilometers -rrb- , according to a release from oregon state university . varvara 's journey surpassed a record listed on the guinness worlds records website .\"].\n",
      "Feedback function `groundedness_measure` was renamed to `groundedness_measure_with_cot_reasons`. The new functionality of `groundedness_measure` function will no longer emit reasons as a lower cost option. It may have reduced accuracy due to not using Chain of Thought reasoning in the scoring.\n"
     ]
    },
    {
     "name": "stdout",
     "output_type": "stream",
     "text": [
      "✅ added record record_hash_d5c6adb99f43fe74089bc2c4d5d7f747\n",
      "✅ feedback result Mean Absolute Error DONE feedback_result_hash_f4e84130f01a70bcf85e6bb4dee523a2\n"
     ]
    },
    {
     "name": "stderr",
     "output_type": "stream",
     "text": [
      "Unsure what the main input string is for the call to _call with args ['(CNN)A North Pacific gray whale has earned a spot in the record books after completing the longest migration of a mammal ever recorded. The whale, named Varvara, swam nearly 14,000 miles (22,500 kilometers), according to a release from Oregon State University, whose scientists helped conduct the whale-tracking study. Varvara, which is Russian for \"Barbara,\" left her primary feeding ground off Russia\\'s Sakhalin Island to cross the  Pacific Ocean and down the West Coast of the United States to Baja, Mexico. Varvara\\'s journey surpassed a record listed on the Guinness Worlds Records website. It said the previous record was set by a humpback whale that swam a mere 10,190-mile round trip between the \"warm breeding waters near the equator and the colder food-rich waters of the Arctic and Antarctic regions.\" Records are nice, but Bruce Mate, the lead author of the study, thinks the long trip might say more about the whale than just its ability to swim. During her 14,000-mile journey, Varvara visited \"three major breeding areas for eastern gray whales,\" which was a surprise to Mate, who is also the director of the Marine Mammal Institute at Oregon State University. \"For her to go to Mexico,\" Mate said, \"It\\'s pretty strong evidence that it\\'s where she\\'s from.\" Varvara was thought to be an endangered western whale, but her ability to \"navigate across open water over tremendously long distances is impressive,\" he said in the release, which could mean that some western gray whales are actually eastern grays. With only 150 western gray whales believed to be in existence, that number might be even lower. \"Past studies have indicated genetic differentiation between the species, but this suggests we may need to take a closer look,\" Mate said. Fourth baby orca born this season', \"a north pacific gray whale has earned a spot in the record books after completing the longest migration of a mammal ever recorded . the whale , named varvara , swam nearly 14,000 miles -lrb- 22,500 kilometers -rrb- , according to a release from oregon state university . varvara 's journey surpassed a record listed on the guinness worlds records website .\"].\n",
      "Feedback function `groundedness_measure` was renamed to `groundedness_measure_with_cot_reasons`. The new functionality of `groundedness_measure` function will no longer emit reasons as a lower cost option. It may have reduced accuracy due to not using Chain of Thought reasoning in the scoring.\n"
     ]
    },
    {
     "name": "stdout",
     "output_type": "stream",
     "text": [
      "✅ added record record_hash_ca768cb3a7388e8c35c303978776556f\n",
      "✅ feedback result Mean Absolute Error DONE feedback_result_hash_f59d8e5e2d13ab83215ebcd7484d9e56\n"
     ]
    },
    {
     "data": {
      "application/vnd.jupyter.widget-view+json": {
       "model_id": "a43347c51b6040beba26a8c1069fbf5e",
       "version_major": 2,
       "version_minor": 0
      },
      "text/plain": [
       "Groundendess per statement in source:   0%|          | 0/5 [00:00<?, ?it/s]"
      ]
     },
     "metadata": {},
     "output_type": "display_data"
    },
    {
     "name": "stderr",
     "output_type": "stream",
     "text": [
      "Unsure what the main input string is for the call to _call with args ['(CNN)A North Pacific gray whale has earned a spot in the record books after completing the longest migration of a mammal ever recorded. The whale, named Varvara, swam nearly 14,000 miles (22,500 kilometers), according to a release from Oregon State University, whose scientists helped conduct the whale-tracking study. Varvara, which is Russian for \"Barbara,\" left her primary feeding ground off Russia\\'s Sakhalin Island to cross the  Pacific Ocean and down the West Coast of the United States to Baja, Mexico. Varvara\\'s journey surpassed a record listed on the Guinness Worlds Records website. It said the previous record was set by a humpback whale that swam a mere 10,190-mile round trip between the \"warm breeding waters near the equator and the colder food-rich waters of the Arctic and Antarctic regions.\" Records are nice, but Bruce Mate, the lead author of the study, thinks the long trip might say more about the whale than just its ability to swim. During her 14,000-mile journey, Varvara visited \"three major breeding areas for eastern gray whales,\" which was a surprise to Mate, who is also the director of the Marine Mammal Institute at Oregon State University. \"For her to go to Mexico,\" Mate said, \"It\\'s pretty strong evidence that it\\'s where she\\'s from.\" Varvara was thought to be an endangered western whale, but her ability to \"navigate across open water over tremendously long distances is impressive,\" he said in the release, which could mean that some western gray whales are actually eastern grays. With only 150 western gray whales believed to be in existence, that number might be even lower. \"Past studies have indicated genetic differentiation between the species, but this suggests we may need to take a closer look,\" Mate said. Fourth baby orca born this season', \"-lrb- cnn -rrb- a north pacific gray whale has earned a spot in the record books after completing the longest migration of a mammal ever recorded . the whale , named varvara , swam nearly 14,000 miles -lrb- 22,500 kilometers -rrb- , according to a release from oregon state university , whose scientists helped conduct the whale-tracking study . varvara , which is russian for `` barbara , '' left her primary feeding ground off russia 's sakhalin island to cross the pacific ocean and down the west coast of the united states to baja , mexico . fourth baby orca born this season .\"].\n",
      "Feedback function `groundedness_measure` was renamed to `groundedness_measure_with_cot_reasons`. The new functionality of `groundedness_measure` function will no longer emit reasons as a lower cost option. It may have reduced accuracy due to not using Chain of Thought reasoning in the scoring.\n"
     ]
    },
    {
     "name": "stdout",
     "output_type": "stream",
     "text": [
      "✅ added record record_hash_e1e676f77993a5814ad24199e946953f\n",
      "✅ feedback result Mean Absolute Error DONE feedback_result_hash_ba7a421673869db2c7d3f4d06e0eb8db\n"
     ]
    },
    {
     "name": "stderr",
     "output_type": "stream",
     "text": [
      "Unsure what the main input string is for the call to _call with args ['(CNN)A North Pacific gray whale has earned a spot in the record books after completing the longest migration of a mammal ever recorded. The whale, named Varvara, swam nearly 14,000 miles (22,500 kilometers), according to a release from Oregon State University, whose scientists helped conduct the whale-tracking study. Varvara, which is Russian for \"Barbara,\" left her primary feeding ground off Russia\\'s Sakhalin Island to cross the  Pacific Ocean and down the West Coast of the United States to Baja, Mexico. Varvara\\'s journey surpassed a record listed on the Guinness Worlds Records website. It said the previous record was set by a humpback whale that swam a mere 10,190-mile round trip between the \"warm breeding waters near the equator and the colder food-rich waters of the Arctic and Antarctic regions.\" Records are nice, but Bruce Mate, the lead author of the study, thinks the long trip might say more about the whale than just its ability to swim. During her 14,000-mile journey, Varvara visited \"three major breeding areas for eastern gray whales,\" which was a surprise to Mate, who is also the director of the Marine Mammal Institute at Oregon State University. \"For her to go to Mexico,\" Mate said, \"It\\'s pretty strong evidence that it\\'s where she\\'s from.\" Varvara was thought to be an endangered western whale, but her ability to \"navigate across open water over tremendously long distances is impressive,\" he said in the release, which could mean that some western gray whales are actually eastern grays. With only 150 western gray whales believed to be in existence, that number might be even lower. \"Past studies have indicated genetic differentiation between the species, but this suggests we may need to take a closer look,\" Mate said. Fourth baby orca born this season', \"-lrb- cnn -rrb- a north pacific gray whale has earned a spot in the record books after completing the longest migration of a mammal ever recorded . the whale , named varvara , swam nearly 14,000 miles -lrb- 22,500 kilometers -rrb- , according to a release from oregon state university , whose scientists helped conduct the whale-tracking study . varvara , which is russian for `` barbara , '' left her primary feeding ground off russia 's sakhalin island to cross the pacific ocean and down the west coast of the united states to baja , mexico . fourth baby orca born this season .\"].\n",
      "Feedback function `groundedness_measure` was renamed to `groundedness_measure_with_cot_reasons`. The new functionality of `groundedness_measure` function will no longer emit reasons as a lower cost option. It may have reduced accuracy due to not using Chain of Thought reasoning in the scoring.\n"
     ]
    },
    {
     "name": "stdout",
     "output_type": "stream",
     "text": [
      "✅ added record record_hash_4246101f042a21765c7a2595511df82c\n",
      "✅ feedback result Mean Absolute Error DONE feedback_result_hash_cd2778cb3f333465e23c9467880f8e37\n"
     ]
    },
    {
     "name": "stderr",
     "output_type": "stream",
     "text": [
      "Unsure what the main input string is for the call to _call with args ['(CNN)A North Pacific gray whale has earned a spot in the record books after completing the longest migration of a mammal ever recorded. The whale, named Varvara, swam nearly 14,000 miles (22,500 kilometers), according to a release from Oregon State University, whose scientists helped conduct the whale-tracking study. Varvara, which is Russian for \"Barbara,\" left her primary feeding ground off Russia\\'s Sakhalin Island to cross the  Pacific Ocean and down the West Coast of the United States to Baja, Mexico. Varvara\\'s journey surpassed a record listed on the Guinness Worlds Records website. It said the previous record was set by a humpback whale that swam a mere 10,190-mile round trip between the \"warm breeding waters near the equator and the colder food-rich waters of the Arctic and Antarctic regions.\" Records are nice, but Bruce Mate, the lead author of the study, thinks the long trip might say more about the whale than just its ability to swim. During her 14,000-mile journey, Varvara visited \"three major breeding areas for eastern gray whales,\" which was a surprise to Mate, who is also the director of the Marine Mammal Institute at Oregon State University. \"For her to go to Mexico,\" Mate said, \"It\\'s pretty strong evidence that it\\'s where she\\'s from.\" Varvara was thought to be an endangered western whale, but her ability to \"navigate across open water over tremendously long distances is impressive,\" he said in the release, which could mean that some western gray whales are actually eastern grays. With only 150 western gray whales believed to be in existence, that number might be even lower. \"Past studies have indicated genetic differentiation between the species, but this suggests we may need to take a closer look,\" Mate said. Fourth baby orca born this season', \"-lrb- cnn -rrb- a north pacific gray whale has earned a spot in the record books after completing the longest migration of a mammal ever recorded . the whale , named varvara , swam nearly 14,000 miles -lrb- 22,500 kilometers -rrb- , according to a release from oregon state university , whose scientists helped conduct the whale-tracking study . varvara , which is russian for `` barbara , '' left her primary feeding ground off russia 's sakhalin island to cross the pacific ocean and down the west coast of the united states to baja , mexico . fourth baby orca born this season .\"].\n",
      "Feedback function `groundedness_measure` was renamed to `groundedness_measure_with_cot_reasons`. The new functionality of `groundedness_measure` function will no longer emit reasons as a lower cost option. It may have reduced accuracy due to not using Chain of Thought reasoning in the scoring.\n"
     ]
    },
    {
     "name": "stdout",
     "output_type": "stream",
     "text": [
      "✅ added record record_hash_8ab46adaf46e31c639e2199db4d1ffd0\n",
      "✅ feedback result Mean Absolute Error DONE feedback_result_hash_085b499effce7ce01f257566186b3f0e\n"
     ]
    },
    {
     "data": {
      "application/vnd.jupyter.widget-view+json": {
       "model_id": "3ac189973bdc441a96854930a71ecc36",
       "version_major": 2,
       "version_minor": 0
      },
      "text/plain": [
       "Groundendess per statement in source:   0%|          | 0/4 [00:00<?, ?it/s]"
      ]
     },
     "metadata": {},
     "output_type": "display_data"
    },
    {
     "name": "stderr",
     "output_type": "stream",
     "text": [
      "Unsure what the main input string is for the call to _call with args ['(CNN)A North Pacific gray whale has earned a spot in the record books after completing the longest migration of a mammal ever recorded. The whale, named Varvara, swam nearly 14,000 miles (22,500 kilometers), according to a release from Oregon State University, whose scientists helped conduct the whale-tracking study. Varvara, which is Russian for \"Barbara,\" left her primary feeding ground off Russia\\'s Sakhalin Island to cross the  Pacific Ocean and down the West Coast of the United States to Baja, Mexico. Varvara\\'s journey surpassed a record listed on the Guinness Worlds Records website. It said the previous record was set by a humpback whale that swam a mere 10,190-mile round trip between the \"warm breeding waters near the equator and the colder food-rich waters of the Arctic and Antarctic regions.\" Records are nice, but Bruce Mate, the lead author of the study, thinks the long trip might say more about the whale than just its ability to swim. During her 14,000-mile journey, Varvara visited \"three major breeding areas for eastern gray whales,\" which was a surprise to Mate, who is also the director of the Marine Mammal Institute at Oregon State University. \"For her to go to Mexico,\" Mate said, \"It\\'s pretty strong evidence that it\\'s where she\\'s from.\" Varvara was thought to be an endangered western whale, but her ability to \"navigate across open water over tremendously long distances is impressive,\" he said in the release, which could mean that some western gray whales are actually eastern grays. With only 150 western gray whales believed to be in existence, that number might be even lower. \"Past studies have indicated genetic differentiation between the species, but this suggests we may need to take a closer look,\" Mate said. Fourth baby orca born this season', \"the whale , named varvara , swam nearly 14,000 miles -lrb- 22,500 kilometers -rrb- . varvara 's journey surpassed a record listed on the guinness worlds records website . it said the previous record was set by a humpback whale that swam a mere 10,190-mile round trip between the `` warm breeding waters near the equator '' .\"].\n",
      "Feedback function `groundedness_measure` was renamed to `groundedness_measure_with_cot_reasons`. The new functionality of `groundedness_measure` function will no longer emit reasons as a lower cost option. It may have reduced accuracy due to not using Chain of Thought reasoning in the scoring.\n"
     ]
    },
    {
     "name": "stdout",
     "output_type": "stream",
     "text": [
      "✅ added record record_hash_1593ce667dcf37db721a68bf916a4980\n",
      "✅ feedback result Mean Absolute Error DONE feedback_result_hash_4b063cdf3fbd5c9a4b7ca044e1dd8d02\n"
     ]
    },
    {
     "name": "stderr",
     "output_type": "stream",
     "text": [
      "Unsure what the main input string is for the call to _call with args ['(CNN)A North Pacific gray whale has earned a spot in the record books after completing the longest migration of a mammal ever recorded. The whale, named Varvara, swam nearly 14,000 miles (22,500 kilometers), according to a release from Oregon State University, whose scientists helped conduct the whale-tracking study. Varvara, which is Russian for \"Barbara,\" left her primary feeding ground off Russia\\'s Sakhalin Island to cross the  Pacific Ocean and down the West Coast of the United States to Baja, Mexico. Varvara\\'s journey surpassed a record listed on the Guinness Worlds Records website. It said the previous record was set by a humpback whale that swam a mere 10,190-mile round trip between the \"warm breeding waters near the equator and the colder food-rich waters of the Arctic and Antarctic regions.\" Records are nice, but Bruce Mate, the lead author of the study, thinks the long trip might say more about the whale than just its ability to swim. During her 14,000-mile journey, Varvara visited \"three major breeding areas for eastern gray whales,\" which was a surprise to Mate, who is also the director of the Marine Mammal Institute at Oregon State University. \"For her to go to Mexico,\" Mate said, \"It\\'s pretty strong evidence that it\\'s where she\\'s from.\" Varvara was thought to be an endangered western whale, but her ability to \"navigate across open water over tremendously long distances is impressive,\" he said in the release, which could mean that some western gray whales are actually eastern grays. With only 150 western gray whales believed to be in existence, that number might be even lower. \"Past studies have indicated genetic differentiation between the species, but this suggests we may need to take a closer look,\" Mate said. Fourth baby orca born this season', \"the whale , named varvara , swam nearly 14,000 miles -lrb- 22,500 kilometers -rrb- . varvara 's journey surpassed a record listed on the guinness worlds records website . it said the previous record was set by a humpback whale that swam a mere 10,190-mile round trip between the `` warm breeding waters near the equator '' .\"].\n",
      "Feedback function `groundedness_measure` was renamed to `groundedness_measure_with_cot_reasons`. The new functionality of `groundedness_measure` function will no longer emit reasons as a lower cost option. It may have reduced accuracy due to not using Chain of Thought reasoning in the scoring.\n"
     ]
    },
    {
     "name": "stdout",
     "output_type": "stream",
     "text": [
      "✅ added record record_hash_d1830a9c42fc4ecdef4ab2dc6f1007e9\n",
      "✅ feedback result Mean Absolute Error DONE feedback_result_hash_441dfdb2efea92b832bed37ce1985a4a\n"
     ]
    },
    {
     "name": "stderr",
     "output_type": "stream",
     "text": [
      "Unsure what the main input string is for the call to _call with args ['(CNN)A North Pacific gray whale has earned a spot in the record books after completing the longest migration of a mammal ever recorded. The whale, named Varvara, swam nearly 14,000 miles (22,500 kilometers), according to a release from Oregon State University, whose scientists helped conduct the whale-tracking study. Varvara, which is Russian for \"Barbara,\" left her primary feeding ground off Russia\\'s Sakhalin Island to cross the  Pacific Ocean and down the West Coast of the United States to Baja, Mexico. Varvara\\'s journey surpassed a record listed on the Guinness Worlds Records website. It said the previous record was set by a humpback whale that swam a mere 10,190-mile round trip between the \"warm breeding waters near the equator and the colder food-rich waters of the Arctic and Antarctic regions.\" Records are nice, but Bruce Mate, the lead author of the study, thinks the long trip might say more about the whale than just its ability to swim. During her 14,000-mile journey, Varvara visited \"three major breeding areas for eastern gray whales,\" which was a surprise to Mate, who is also the director of the Marine Mammal Institute at Oregon State University. \"For her to go to Mexico,\" Mate said, \"It\\'s pretty strong evidence that it\\'s where she\\'s from.\" Varvara was thought to be an endangered western whale, but her ability to \"navigate across open water over tremendously long distances is impressive,\" he said in the release, which could mean that some western gray whales are actually eastern grays. With only 150 western gray whales believed to be in existence, that number might be even lower. \"Past studies have indicated genetic differentiation between the species, but this suggests we may need to take a closer look,\" Mate said. Fourth baby orca born this season', \"the whale , named varvara , swam nearly 14,000 miles -lrb- 22,500 kilometers -rrb- . varvara 's journey surpassed a record listed on the guinness worlds records website . it said the previous record was set by a humpback whale that swam a mere 10,190-mile round trip between the `` warm breeding waters near the equator '' .\"].\n",
      "Feedback function `groundedness_measure` was renamed to `groundedness_measure_with_cot_reasons`. The new functionality of `groundedness_measure` function will no longer emit reasons as a lower cost option. It may have reduced accuracy due to not using Chain of Thought reasoning in the scoring.\n"
     ]
    },
    {
     "name": "stdout",
     "output_type": "stream",
     "text": [
      "✅ added record record_hash_fa463eea59e088e81bb621e4be8e446b\n",
      "✅ feedback result Mean Absolute Error DONE feedback_result_hash_ac8f2faf1c3260769b4138870e305947\n"
     ]
    },
    {
     "data": {
      "application/vnd.jupyter.widget-view+json": {
       "model_id": "03854f01a9ea415a90978968bbca5d6a",
       "version_major": 2,
       "version_minor": 0
      },
      "text/plain": [
       "Groundendess per statement in source:   0%|          | 0/4 [00:00<?, ?it/s]"
      ]
     },
     "metadata": {},
     "output_type": "display_data"
    },
    {
     "name": "stderr",
     "output_type": "stream",
     "text": [
      "Unsure what the main input string is for the call to _call with args ['(CNN)A North Pacific gray whale has earned a spot in the record books after completing the longest migration of a mammal ever recorded. The whale, named Varvara, swam nearly 14,000 miles (22,500 kilometers), according to a release from Oregon State University, whose scientists helped conduct the whale-tracking study. Varvara, which is Russian for \"Barbara,\" left her primary feeding ground off Russia\\'s Sakhalin Island to cross the  Pacific Ocean and down the West Coast of the United States to Baja, Mexico. Varvara\\'s journey surpassed a record listed on the Guinness Worlds Records website. It said the previous record was set by a humpback whale that swam a mere 10,190-mile round trip between the \"warm breeding waters near the equator and the colder food-rich waters of the Arctic and Antarctic regions.\" Records are nice, but Bruce Mate, the lead author of the study, thinks the long trip might say more about the whale than just its ability to swim. During her 14,000-mile journey, Varvara visited \"three major breeding areas for eastern gray whales,\" which was a surprise to Mate, who is also the director of the Marine Mammal Institute at Oregon State University. \"For her to go to Mexico,\" Mate said, \"It\\'s pretty strong evidence that it\\'s where she\\'s from.\" Varvara was thought to be an endangered western whale, but her ability to \"navigate across open water over tremendously long distances is impressive,\" he said in the release, which could mean that some western gray whales are actually eastern grays. With only 150 western gray whales believed to be in existence, that number might be even lower. \"Past studies have indicated genetic differentiation between the species, but this suggests we may need to take a closer look,\" Mate said. Fourth baby orca born this season', \"north pacific gray whale swam nearly 14,000 miles -lrb- 22,500 kilometers -rrb- . varvara , which is russian for `` barbara , '' left her primary feeding ground off russia 's sakhalin island . varvara 's journey surpassed a record listed on the guinness worlds records website .\"].\n",
      "Feedback function `groundedness_measure` was renamed to `groundedness_measure_with_cot_reasons`. The new functionality of `groundedness_measure` function will no longer emit reasons as a lower cost option. It may have reduced accuracy due to not using Chain of Thought reasoning in the scoring.\n"
     ]
    },
    {
     "name": "stdout",
     "output_type": "stream",
     "text": [
      "✅ added record record_hash_e3f17327110b6b3f3203e6d21a8430f8\n",
      "✅ feedback result Mean Absolute Error DONE feedback_result_hash_8a63ad0dd9312d9ba56f4a0d29b55cbe\n"
     ]
    },
    {
     "name": "stderr",
     "output_type": "stream",
     "text": [
      "Unsure what the main input string is for the call to _call with args ['(CNN)A North Pacific gray whale has earned a spot in the record books after completing the longest migration of a mammal ever recorded. The whale, named Varvara, swam nearly 14,000 miles (22,500 kilometers), according to a release from Oregon State University, whose scientists helped conduct the whale-tracking study. Varvara, which is Russian for \"Barbara,\" left her primary feeding ground off Russia\\'s Sakhalin Island to cross the  Pacific Ocean and down the West Coast of the United States to Baja, Mexico. Varvara\\'s journey surpassed a record listed on the Guinness Worlds Records website. It said the previous record was set by a humpback whale that swam a mere 10,190-mile round trip between the \"warm breeding waters near the equator and the colder food-rich waters of the Arctic and Antarctic regions.\" Records are nice, but Bruce Mate, the lead author of the study, thinks the long trip might say more about the whale than just its ability to swim. During her 14,000-mile journey, Varvara visited \"three major breeding areas for eastern gray whales,\" which was a surprise to Mate, who is also the director of the Marine Mammal Institute at Oregon State University. \"For her to go to Mexico,\" Mate said, \"It\\'s pretty strong evidence that it\\'s where she\\'s from.\" Varvara was thought to be an endangered western whale, but her ability to \"navigate across open water over tremendously long distances is impressive,\" he said in the release, which could mean that some western gray whales are actually eastern grays. With only 150 western gray whales believed to be in existence, that number might be even lower. \"Past studies have indicated genetic differentiation between the species, but this suggests we may need to take a closer look,\" Mate said. Fourth baby orca born this season', \"north pacific gray whale swam nearly 14,000 miles -lrb- 22,500 kilometers -rrb- . varvara , which is russian for `` barbara , '' left her primary feeding ground off russia 's sakhalin island . varvara 's journey surpassed a record listed on the guinness worlds records website .\"].\n",
      "Feedback function `groundedness_measure` was renamed to `groundedness_measure_with_cot_reasons`. The new functionality of `groundedness_measure` function will no longer emit reasons as a lower cost option. It may have reduced accuracy due to not using Chain of Thought reasoning in the scoring.\n"
     ]
    },
    {
     "name": "stdout",
     "output_type": "stream",
     "text": [
      "✅ added record record_hash_ab156bf3f1bc3afada408416e37c0dd6\n",
      "✅ feedback result Mean Absolute Error DONE feedback_result_hash_744402d47a13b5e977c604832f052f33\n"
     ]
    },
    {
     "name": "stderr",
     "output_type": "stream",
     "text": [
      "Unsure what the main input string is for the call to _call with args ['(CNN)A North Pacific gray whale has earned a spot in the record books after completing the longest migration of a mammal ever recorded. The whale, named Varvara, swam nearly 14,000 miles (22,500 kilometers), according to a release from Oregon State University, whose scientists helped conduct the whale-tracking study. Varvara, which is Russian for \"Barbara,\" left her primary feeding ground off Russia\\'s Sakhalin Island to cross the  Pacific Ocean and down the West Coast of the United States to Baja, Mexico. Varvara\\'s journey surpassed a record listed on the Guinness Worlds Records website. It said the previous record was set by a humpback whale that swam a mere 10,190-mile round trip between the \"warm breeding waters near the equator and the colder food-rich waters of the Arctic and Antarctic regions.\" Records are nice, but Bruce Mate, the lead author of the study, thinks the long trip might say more about the whale than just its ability to swim. During her 14,000-mile journey, Varvara visited \"three major breeding areas for eastern gray whales,\" which was a surprise to Mate, who is also the director of the Marine Mammal Institute at Oregon State University. \"For her to go to Mexico,\" Mate said, \"It\\'s pretty strong evidence that it\\'s where she\\'s from.\" Varvara was thought to be an endangered western whale, but her ability to \"navigate across open water over tremendously long distances is impressive,\" he said in the release, which could mean that some western gray whales are actually eastern grays. With only 150 western gray whales believed to be in existence, that number might be even lower. \"Past studies have indicated genetic differentiation between the species, but this suggests we may need to take a closer look,\" Mate said. Fourth baby orca born this season', \"north pacific gray whale swam nearly 14,000 miles -lrb- 22,500 kilometers -rrb- . varvara , which is russian for `` barbara , '' left her primary feeding ground off russia 's sakhalin island . varvara 's journey surpassed a record listed on the guinness worlds records website .\"].\n",
      "Feedback function `groundedness_measure` was renamed to `groundedness_measure_with_cot_reasons`. The new functionality of `groundedness_measure` function will no longer emit reasons as a lower cost option. It may have reduced accuracy due to not using Chain of Thought reasoning in the scoring.\n"
     ]
    },
    {
     "name": "stdout",
     "output_type": "stream",
     "text": [
      "✅ added record record_hash_e7e1f93b8ee5003b257db314c49ce45d\n",
      "✅ feedback result Mean Absolute Error DONE feedback_result_hash_f97e139773cdf61422f4132ba4887f32\n"
     ]
    },
    {
     "data": {
      "application/vnd.jupyter.widget-view+json": {
       "model_id": "cc6d4732a8a84618a198ca2e7142b9ea",
       "version_major": 2,
       "version_minor": 0
      },
      "text/plain": [
       "Groundendess per statement in source:   0%|          | 0/4 [00:00<?, ?it/s]"
      ]
     },
     "metadata": {},
     "output_type": "display_data"
    },
    {
     "name": "stderr",
     "output_type": "stream",
     "text": [
      "Unsure what the main input string is for the call to _call with args ['(CNN)A North Pacific gray whale has earned a spot in the record books after completing the longest migration of a mammal ever recorded. The whale, named Varvara, swam nearly 14,000 miles (22,500 kilometers), according to a release from Oregon State University, whose scientists helped conduct the whale-tracking study. Varvara, which is Russian for \"Barbara,\" left her primary feeding ground off Russia\\'s Sakhalin Island to cross the  Pacific Ocean and down the West Coast of the United States to Baja, Mexico. Varvara\\'s journey surpassed a record listed on the Guinness Worlds Records website. It said the previous record was set by a humpback whale that swam a mere 10,190-mile round trip between the \"warm breeding waters near the equator and the colder food-rich waters of the Arctic and Antarctic regions.\" Records are nice, but Bruce Mate, the lead author of the study, thinks the long trip might say more about the whale than just its ability to swim. During her 14,000-mile journey, Varvara visited \"three major breeding areas for eastern gray whales,\" which was a surprise to Mate, who is also the director of the Marine Mammal Institute at Oregon State University. \"For her to go to Mexico,\" Mate said, \"It\\'s pretty strong evidence that it\\'s where she\\'s from.\" Varvara was thought to be an endangered western whale, but her ability to \"navigate across open water over tremendously long distances is impressive,\" he said in the release, which could mean that some western gray whales are actually eastern grays. With only 150 western gray whales believed to be in existence, that number might be even lower. \"Past studies have indicated genetic differentiation between the species, but this suggests we may need to take a closer look,\" Mate said. Fourth baby orca born this season', \"north pacific gray whale has earned a spot in the record books . the whale , named varvara , swam nearly 14,000 miles -lrb- 22,500 kilometers -rrb- . varvara , which is russian for `` barbara , '' left her primary feeding ground off russia .\"].\n",
      "Feedback function `groundedness_measure` was renamed to `groundedness_measure_with_cot_reasons`. The new functionality of `groundedness_measure` function will no longer emit reasons as a lower cost option. It may have reduced accuracy due to not using Chain of Thought reasoning in the scoring.\n"
     ]
    },
    {
     "name": "stdout",
     "output_type": "stream",
     "text": [
      "✅ added record record_hash_8442e2465fab2d0700dbc61350883175\n",
      "✅ feedback result Mean Absolute Error DONE feedback_result_hash_10bdb8636e35d4ecea83f297e68be125\n"
     ]
    },
    {
     "name": "stderr",
     "output_type": "stream",
     "text": [
      "openai request failed <class 'openai.error.Timeout'>=Request timed out: HTTPSConnectionPool(host='api.openai.com', port=443): Read timed out. (read timeout=600). Retries remaining=3.\n",
      "Unsure what the main input string is for the call to _call with args ['(CNN)A North Pacific gray whale has earned a spot in the record books after completing the longest migration of a mammal ever recorded. The whale, named Varvara, swam nearly 14,000 miles (22,500 kilometers), according to a release from Oregon State University, whose scientists helped conduct the whale-tracking study. Varvara, which is Russian for \"Barbara,\" left her primary feeding ground off Russia\\'s Sakhalin Island to cross the  Pacific Ocean and down the West Coast of the United States to Baja, Mexico. Varvara\\'s journey surpassed a record listed on the Guinness Worlds Records website. It said the previous record was set by a humpback whale that swam a mere 10,190-mile round trip between the \"warm breeding waters near the equator and the colder food-rich waters of the Arctic and Antarctic regions.\" Records are nice, but Bruce Mate, the lead author of the study, thinks the long trip might say more about the whale than just its ability to swim. During her 14,000-mile journey, Varvara visited \"three major breeding areas for eastern gray whales,\" which was a surprise to Mate, who is also the director of the Marine Mammal Institute at Oregon State University. \"For her to go to Mexico,\" Mate said, \"It\\'s pretty strong evidence that it\\'s where she\\'s from.\" Varvara was thought to be an endangered western whale, but her ability to \"navigate across open water over tremendously long distances is impressive,\" he said in the release, which could mean that some western gray whales are actually eastern grays. With only 150 western gray whales believed to be in existence, that number might be even lower. \"Past studies have indicated genetic differentiation between the species, but this suggests we may need to take a closer look,\" Mate said. Fourth baby orca born this season', \"north pacific gray whale has earned a spot in the record books . the whale , named varvara , swam nearly 14,000 miles -lrb- 22,500 kilometers -rrb- . varvara , which is russian for `` barbara , '' left her primary feeding ground off russia .\"].\n",
      "Feedback function `groundedness_measure` was renamed to `groundedness_measure_with_cot_reasons`. The new functionality of `groundedness_measure` function will no longer emit reasons as a lower cost option. It may have reduced accuracy due to not using Chain of Thought reasoning in the scoring.\n"
     ]
    },
    {
     "name": "stdout",
     "output_type": "stream",
     "text": [
      "✅ added record record_hash_9d6ff3514c266ee0ce46244967a6e01c\n",
      "✅ feedback result Mean Absolute Error DONE feedback_result_hash_1c2f25f87f0e269ddb420a48b4d9c51f\n"
     ]
    },
    {
     "name": "stderr",
     "output_type": "stream",
     "text": [
      "Unsure what the main input string is for the call to _call with args ['(CNN)A North Pacific gray whale has earned a spot in the record books after completing the longest migration of a mammal ever recorded. The whale, named Varvara, swam nearly 14,000 miles (22,500 kilometers), according to a release from Oregon State University, whose scientists helped conduct the whale-tracking study. Varvara, which is Russian for \"Barbara,\" left her primary feeding ground off Russia\\'s Sakhalin Island to cross the  Pacific Ocean and down the West Coast of the United States to Baja, Mexico. Varvara\\'s journey surpassed a record listed on the Guinness Worlds Records website. It said the previous record was set by a humpback whale that swam a mere 10,190-mile round trip between the \"warm breeding waters near the equator and the colder food-rich waters of the Arctic and Antarctic regions.\" Records are nice, but Bruce Mate, the lead author of the study, thinks the long trip might say more about the whale than just its ability to swim. During her 14,000-mile journey, Varvara visited \"three major breeding areas for eastern gray whales,\" which was a surprise to Mate, who is also the director of the Marine Mammal Institute at Oregon State University. \"For her to go to Mexico,\" Mate said, \"It\\'s pretty strong evidence that it\\'s where she\\'s from.\" Varvara was thought to be an endangered western whale, but her ability to \"navigate across open water over tremendously long distances is impressive,\" he said in the release, which could mean that some western gray whales are actually eastern grays. With only 150 western gray whales believed to be in existence, that number might be even lower. \"Past studies have indicated genetic differentiation between the species, but this suggests we may need to take a closer look,\" Mate said. Fourth baby orca born this season', \"north pacific gray whale has earned a spot in the record books . the whale , named varvara , swam nearly 14,000 miles -lrb- 22,500 kilometers -rrb- . varvara , which is russian for `` barbara , '' left her primary feeding ground off russia .\"].\n",
      "Feedback function `groundedness_measure` was renamed to `groundedness_measure_with_cot_reasons`. The new functionality of `groundedness_measure` function will no longer emit reasons as a lower cost option. It may have reduced accuracy due to not using Chain of Thought reasoning in the scoring.\n"
     ]
    },
    {
     "name": "stdout",
     "output_type": "stream",
     "text": [
      "✅ added record record_hash_6b7e8a93861c7fb57346555d76356583\n",
      "✅ feedback result Mean Absolute Error DONE feedback_result_hash_88293e901de8591545e043bdb3cabefb\n"
     ]
    },
    {
     "data": {
      "application/vnd.jupyter.widget-view+json": {
       "model_id": "485cc74134964bac93365afbf0d154a4",
       "version_major": 2,
       "version_minor": 0
      },
      "text/plain": [
       "Groundendess per statement in source:   0%|          | 0/4 [00:00<?, ?it/s]"
      ]
     },
     "metadata": {},
     "output_type": "display_data"
    },
    {
     "name": "stderr",
     "output_type": "stream",
     "text": [
      "Waiting for {'error': 'Model MoritzLaurer/DeBERTa-v3-base-mnli-fever-docnli-ling-2c is currently loading', 'estimated_time': 20.0} (20.0) second(s).\n",
      "Unsure what the main input string is for the call to _call with args ['(CNN)A North Pacific gray whale has earned a spot in the record books after completing the longest migration of a mammal ever recorded. The whale, named Varvara, swam nearly 14,000 miles (22,500 kilometers), according to a release from Oregon State University, whose scientists helped conduct the whale-tracking study. Varvara, which is Russian for \"Barbara,\" left her primary feeding ground off Russia\\'s Sakhalin Island to cross the  Pacific Ocean and down the West Coast of the United States to Baja, Mexico. Varvara\\'s journey surpassed a record listed on the Guinness Worlds Records website. It said the previous record was set by a humpback whale that swam a mere 10,190-mile round trip between the \"warm breeding waters near the equator and the colder food-rich waters of the Arctic and Antarctic regions.\" Records are nice, but Bruce Mate, the lead author of the study, thinks the long trip might say more about the whale than just its ability to swim. During her 14,000-mile journey, Varvara visited \"three major breeding areas for eastern gray whales,\" which was a surprise to Mate, who is also the director of the Marine Mammal Institute at Oregon State University. \"For her to go to Mexico,\" Mate said, \"It\\'s pretty strong evidence that it\\'s where she\\'s from.\" Varvara was thought to be an endangered western whale, but her ability to \"navigate across open water over tremendously long distances is impressive,\" he said in the release, which could mean that some western gray whales are actually eastern grays. With only 150 western gray whales believed to be in existence, that number might be even lower. \"Past studies have indicated genetic differentiation between the species, but this suggests we may need to take a closer look,\" Mate said. Fourth baby orca born this season', \"( cnn ) a north pacific gray whale has earned a spot in the record books after completing the longest migration of a mammal ever recorded . the whale , named varvara , swam nearly 14,000 miles ( 22,500 kilometers ) , according to a release from oregon state university , whose scientists helped conduct the whale - tracking study . varvara 's journey surpassed a record listed on the guinness worlds records website .\"].\n",
      "Feedback function `groundedness_measure` was renamed to `groundedness_measure_with_cot_reasons`. The new functionality of `groundedness_measure` function will no longer emit reasons as a lower cost option. It may have reduced accuracy due to not using Chain of Thought reasoning in the scoring.\n"
     ]
    },
    {
     "name": "stdout",
     "output_type": "stream",
     "text": [
      "✅ added record record_hash_4d6108cb4828aae9e041ecdfa4315858\n",
      "✅ feedback result Mean Absolute Error DONE feedback_result_hash_4871d5eb9afba281de374d45b5c642b6\n"
     ]
    },
    {
     "name": "stderr",
     "output_type": "stream",
     "text": [
      "Unsure what the main input string is for the call to _call with args ['(CNN)A North Pacific gray whale has earned a spot in the record books after completing the longest migration of a mammal ever recorded. The whale, named Varvara, swam nearly 14,000 miles (22,500 kilometers), according to a release from Oregon State University, whose scientists helped conduct the whale-tracking study. Varvara, which is Russian for \"Barbara,\" left her primary feeding ground off Russia\\'s Sakhalin Island to cross the  Pacific Ocean and down the West Coast of the United States to Baja, Mexico. Varvara\\'s journey surpassed a record listed on the Guinness Worlds Records website. It said the previous record was set by a humpback whale that swam a mere 10,190-mile round trip between the \"warm breeding waters near the equator and the colder food-rich waters of the Arctic and Antarctic regions.\" Records are nice, but Bruce Mate, the lead author of the study, thinks the long trip might say more about the whale than just its ability to swim. During her 14,000-mile journey, Varvara visited \"three major breeding areas for eastern gray whales,\" which was a surprise to Mate, who is also the director of the Marine Mammal Institute at Oregon State University. \"For her to go to Mexico,\" Mate said, \"It\\'s pretty strong evidence that it\\'s where she\\'s from.\" Varvara was thought to be an endangered western whale, but her ability to \"navigate across open water over tremendously long distances is impressive,\" he said in the release, which could mean that some western gray whales are actually eastern grays. With only 150 western gray whales believed to be in existence, that number might be even lower. \"Past studies have indicated genetic differentiation between the species, but this suggests we may need to take a closer look,\" Mate said. Fourth baby orca born this season', \"( cnn ) a north pacific gray whale has earned a spot in the record books after completing the longest migration of a mammal ever recorded . the whale , named varvara , swam nearly 14,000 miles ( 22,500 kilometers ) , according to a release from oregon state university , whose scientists helped conduct the whale - tracking study . varvara 's journey surpassed a record listed on the guinness worlds records website .\"].\n",
      "Feedback function `groundedness_measure` was renamed to `groundedness_measure_with_cot_reasons`. The new functionality of `groundedness_measure` function will no longer emit reasons as a lower cost option. It may have reduced accuracy due to not using Chain of Thought reasoning in the scoring.\n"
     ]
    },
    {
     "name": "stdout",
     "output_type": "stream",
     "text": [
      "✅ added record record_hash_bbe6561ad2232d3fa5035a37496253f3\n",
      "✅ feedback result Mean Absolute Error DONE feedback_result_hash_d29cf9bba3c305a39d3b6510002d70ca\n"
     ]
    },
    {
     "name": "stderr",
     "output_type": "stream",
     "text": [
      "Unsure what the main input string is for the call to _call with args ['(CNN)A North Pacific gray whale has earned a spot in the record books after completing the longest migration of a mammal ever recorded. The whale, named Varvara, swam nearly 14,000 miles (22,500 kilometers), according to a release from Oregon State University, whose scientists helped conduct the whale-tracking study. Varvara, which is Russian for \"Barbara,\" left her primary feeding ground off Russia\\'s Sakhalin Island to cross the  Pacific Ocean and down the West Coast of the United States to Baja, Mexico. Varvara\\'s journey surpassed a record listed on the Guinness Worlds Records website. It said the previous record was set by a humpback whale that swam a mere 10,190-mile round trip between the \"warm breeding waters near the equator and the colder food-rich waters of the Arctic and Antarctic regions.\" Records are nice, but Bruce Mate, the lead author of the study, thinks the long trip might say more about the whale than just its ability to swim. During her 14,000-mile journey, Varvara visited \"three major breeding areas for eastern gray whales,\" which was a surprise to Mate, who is also the director of the Marine Mammal Institute at Oregon State University. \"For her to go to Mexico,\" Mate said, \"It\\'s pretty strong evidence that it\\'s where she\\'s from.\" Varvara was thought to be an endangered western whale, but her ability to \"navigate across open water over tremendously long distances is impressive,\" he said in the release, which could mean that some western gray whales are actually eastern grays. With only 150 western gray whales believed to be in existence, that number might be even lower. \"Past studies have indicated genetic differentiation between the species, but this suggests we may need to take a closer look,\" Mate said. Fourth baby orca born this season', \"( cnn ) a north pacific gray whale has earned a spot in the record books after completing the longest migration of a mammal ever recorded . the whale , named varvara , swam nearly 14,000 miles ( 22,500 kilometers ) , according to a release from oregon state university , whose scientists helped conduct the whale - tracking study . varvara 's journey surpassed a record listed on the guinness worlds records website .\"].\n",
      "Feedback function `groundedness_measure` was renamed to `groundedness_measure_with_cot_reasons`. The new functionality of `groundedness_measure` function will no longer emit reasons as a lower cost option. It may have reduced accuracy due to not using Chain of Thought reasoning in the scoring.\n"
     ]
    },
    {
     "name": "stdout",
     "output_type": "stream",
     "text": [
      "✅ added record record_hash_854467236b1df83db75173fa67747866\n",
      "✅ feedback result Mean Absolute Error DONE feedback_result_hash_76d0ca2d3833ecb39e230fa636e05421\n"
     ]
    },
    {
     "data": {
      "application/vnd.jupyter.widget-view+json": {
       "model_id": "087bfa913dbd4cff835d3589964c1ba2",
       "version_major": 2,
       "version_minor": 0
      },
      "text/plain": [
       "Groundendess per statement in source:   0%|          | 0/3 [00:00<?, ?it/s]"
      ]
     },
     "metadata": {},
     "output_type": "display_data"
    },
    {
     "name": "stderr",
     "output_type": "stream",
     "text": [
      "Unsure what the main input string is for the call to _call with args ['(CNN)A North Pacific gray whale has earned a spot in the record books after completing the longest migration of a mammal ever recorded. The whale, named Varvara, swam nearly 14,000 miles (22,500 kilometers), according to a release from Oregon State University, whose scientists helped conduct the whale-tracking study. Varvara, which is Russian for \"Barbara,\" left her primary feeding ground off Russia\\'s Sakhalin Island to cross the  Pacific Ocean and down the West Coast of the United States to Baja, Mexico. Varvara\\'s journey surpassed a record listed on the Guinness Worlds Records website. It said the previous record was set by a humpback whale that swam a mere 10,190-mile round trip between the \"warm breeding waters near the equator and the colder food-rich waters of the Arctic and Antarctic regions.\" Records are nice, but Bruce Mate, the lead author of the study, thinks the long trip might say more about the whale than just its ability to swim. During her 14,000-mile journey, Varvara visited \"three major breeding areas for eastern gray whales,\" which was a surprise to Mate, who is also the director of the Marine Mammal Institute at Oregon State University. \"For her to go to Mexico,\" Mate said, \"It\\'s pretty strong evidence that it\\'s where she\\'s from.\" Varvara was thought to be an endangered western whale, but her ability to \"navigate across open water over tremendously long distances is impressive,\" he said in the release, which could mean that some western gray whales are actually eastern grays. With only 150 western gray whales believed to be in existence, that number might be even lower. \"Past studies have indicated genetic differentiation between the species, but this suggests we may need to take a closer look,\" Mate said. Fourth baby orca born this season', \"varvara, a north pacific gray whale, swam nearly 14,000 miles . she left her primary feeding ground off russia's sakhalin island .\"].\n",
      "Feedback function `groundedness_measure` was renamed to `groundedness_measure_with_cot_reasons`. The new functionality of `groundedness_measure` function will no longer emit reasons as a lower cost option. It may have reduced accuracy due to not using Chain of Thought reasoning in the scoring.\n"
     ]
    },
    {
     "name": "stdout",
     "output_type": "stream",
     "text": [
      "✅ added record record_hash_a041e6fac501ae18cf462aae6bd67b98\n",
      "✅ feedback result Mean Absolute Error DONE feedback_result_hash_c2fd12f8a4064853d9ff21cb84dd32da\n"
     ]
    },
    {
     "name": "stderr",
     "output_type": "stream",
     "text": [
      "Unsure what the main input string is for the call to _call with args ['(CNN)A North Pacific gray whale has earned a spot in the record books after completing the longest migration of a mammal ever recorded. The whale, named Varvara, swam nearly 14,000 miles (22,500 kilometers), according to a release from Oregon State University, whose scientists helped conduct the whale-tracking study. Varvara, which is Russian for \"Barbara,\" left her primary feeding ground off Russia\\'s Sakhalin Island to cross the  Pacific Ocean and down the West Coast of the United States to Baja, Mexico. Varvara\\'s journey surpassed a record listed on the Guinness Worlds Records website. It said the previous record was set by a humpback whale that swam a mere 10,190-mile round trip between the \"warm breeding waters near the equator and the colder food-rich waters of the Arctic and Antarctic regions.\" Records are nice, but Bruce Mate, the lead author of the study, thinks the long trip might say more about the whale than just its ability to swim. During her 14,000-mile journey, Varvara visited \"three major breeding areas for eastern gray whales,\" which was a surprise to Mate, who is also the director of the Marine Mammal Institute at Oregon State University. \"For her to go to Mexico,\" Mate said, \"It\\'s pretty strong evidence that it\\'s where she\\'s from.\" Varvara was thought to be an endangered western whale, but her ability to \"navigate across open water over tremendously long distances is impressive,\" he said in the release, which could mean that some western gray whales are actually eastern grays. With only 150 western gray whales believed to be in existence, that number might be even lower. \"Past studies have indicated genetic differentiation between the species, but this suggests we may need to take a closer look,\" Mate said. Fourth baby orca born this season', \"varvara, a north pacific gray whale, swam nearly 14,000 miles . she left her primary feeding ground off russia's sakhalin island .\"].\n",
      "Feedback function `groundedness_measure` was renamed to `groundedness_measure_with_cot_reasons`. The new functionality of `groundedness_measure` function will no longer emit reasons as a lower cost option. It may have reduced accuracy due to not using Chain of Thought reasoning in the scoring.\n"
     ]
    },
    {
     "name": "stdout",
     "output_type": "stream",
     "text": [
      "✅ added record record_hash_d05d9870b8864c015063eafc39df8d42\n",
      "✅ feedback result Mean Absolute Error DONE feedback_result_hash_ed04fa4f10c8c6e32032cd7c133d6f46\n"
     ]
    },
    {
     "name": "stderr",
     "output_type": "stream",
     "text": [
      "Unsure what the main input string is for the call to _call with args ['(CNN)A North Pacific gray whale has earned a spot in the record books after completing the longest migration of a mammal ever recorded. The whale, named Varvara, swam nearly 14,000 miles (22,500 kilometers), according to a release from Oregon State University, whose scientists helped conduct the whale-tracking study. Varvara, which is Russian for \"Barbara,\" left her primary feeding ground off Russia\\'s Sakhalin Island to cross the  Pacific Ocean and down the West Coast of the United States to Baja, Mexico. Varvara\\'s journey surpassed a record listed on the Guinness Worlds Records website. It said the previous record was set by a humpback whale that swam a mere 10,190-mile round trip between the \"warm breeding waters near the equator and the colder food-rich waters of the Arctic and Antarctic regions.\" Records are nice, but Bruce Mate, the lead author of the study, thinks the long trip might say more about the whale than just its ability to swim. During her 14,000-mile journey, Varvara visited \"three major breeding areas for eastern gray whales,\" which was a surprise to Mate, who is also the director of the Marine Mammal Institute at Oregon State University. \"For her to go to Mexico,\" Mate said, \"It\\'s pretty strong evidence that it\\'s where she\\'s from.\" Varvara was thought to be an endangered western whale, but her ability to \"navigate across open water over tremendously long distances is impressive,\" he said in the release, which could mean that some western gray whales are actually eastern grays. With only 150 western gray whales believed to be in existence, that number might be even lower. \"Past studies have indicated genetic differentiation between the species, but this suggests we may need to take a closer look,\" Mate said. Fourth baby orca born this season', \"varvara, a north pacific gray whale, swam nearly 14,000 miles . she left her primary feeding ground off russia's sakhalin island .\"].\n",
      "Feedback function `groundedness_measure` was renamed to `groundedness_measure_with_cot_reasons`. The new functionality of `groundedness_measure` function will no longer emit reasons as a lower cost option. It may have reduced accuracy due to not using Chain of Thought reasoning in the scoring.\n"
     ]
    },
    {
     "name": "stdout",
     "output_type": "stream",
     "text": [
      "✅ added record record_hash_60b5bf654d5dd143d11845f21638b13c\n",
      "✅ feedback result Mean Absolute Error DONE feedback_result_hash_a3dfdbcffd37b41d49be3fa73d1dfa27\n"
     ]
    },
    {
     "data": {
      "application/vnd.jupyter.widget-view+json": {
       "model_id": "0c37c1157d2a40a5ba44760766c3c4fb",
       "version_major": 2,
       "version_minor": 0
      },
      "text/plain": [
       "Groundendess per statement in source:   0%|          | 0/2 [00:00<?, ?it/s]"
      ]
     },
     "metadata": {},
     "output_type": "display_data"
    },
    {
     "name": "stderr",
     "output_type": "stream",
     "text": [
      "Unsure what the main input string is for the call to _call with args ['(CNN)A North Pacific gray whale has earned a spot in the record books after completing the longest migration of a mammal ever recorded. The whale, named Varvara, swam nearly 14,000 miles (22,500 kilometers), according to a release from Oregon State University, whose scientists helped conduct the whale-tracking study. Varvara, which is Russian for \"Barbara,\" left her primary feeding ground off Russia\\'s Sakhalin Island to cross the  Pacific Ocean and down the West Coast of the United States to Baja, Mexico. Varvara\\'s journey surpassed a record listed on the Guinness Worlds Records website. It said the previous record was set by a humpback whale that swam a mere 10,190-mile round trip between the \"warm breeding waters near the equator and the colder food-rich waters of the Arctic and Antarctic regions.\" Records are nice, but Bruce Mate, the lead author of the study, thinks the long trip might say more about the whale than just its ability to swim. During her 14,000-mile journey, Varvara visited \"three major breeding areas for eastern gray whales,\" which was a surprise to Mate, who is also the director of the Marine Mammal Institute at Oregon State University. \"For her to go to Mexico,\" Mate said, \"It\\'s pretty strong evidence that it\\'s where she\\'s from.\" Varvara was thought to be an endangered western whale, but her ability to \"navigate across open water over tremendously long distances is impressive,\" he said in the release, which could mean that some western gray whales are actually eastern grays. With only 150 western gray whales believed to be in existence, that number might be even lower. \"Past studies have indicated genetic differentiation between the species, but this suggests we may need to take a closer look,\" Mate said. Fourth baby orca born this season', 'Varvara traveled 14,000 miles across the Pacific Ocean. (Hat tip: The Daily Beast)'].\n",
      "Feedback function `groundedness_measure` was renamed to `groundedness_measure_with_cot_reasons`. The new functionality of `groundedness_measure` function will no longer emit reasons as a lower cost option. It may have reduced accuracy due to not using Chain of Thought reasoning in the scoring.\n"
     ]
    },
    {
     "name": "stdout",
     "output_type": "stream",
     "text": [
      "✅ added record record_hash_8fda72cb65067957c4812b2d6c30446e\n",
      "✅ feedback result Mean Absolute Error DONE feedback_result_hash_90340ec9c136aabfed12c2ea29ddbabd\n"
     ]
    },
    {
     "name": "stderr",
     "output_type": "stream",
     "text": [
      "Unsure what the main input string is for the call to _call with args ['(CNN)A North Pacific gray whale has earned a spot in the record books after completing the longest migration of a mammal ever recorded. The whale, named Varvara, swam nearly 14,000 miles (22,500 kilometers), according to a release from Oregon State University, whose scientists helped conduct the whale-tracking study. Varvara, which is Russian for \"Barbara,\" left her primary feeding ground off Russia\\'s Sakhalin Island to cross the  Pacific Ocean and down the West Coast of the United States to Baja, Mexico. Varvara\\'s journey surpassed a record listed on the Guinness Worlds Records website. It said the previous record was set by a humpback whale that swam a mere 10,190-mile round trip between the \"warm breeding waters near the equator and the colder food-rich waters of the Arctic and Antarctic regions.\" Records are nice, but Bruce Mate, the lead author of the study, thinks the long trip might say more about the whale than just its ability to swim. During her 14,000-mile journey, Varvara visited \"three major breeding areas for eastern gray whales,\" which was a surprise to Mate, who is also the director of the Marine Mammal Institute at Oregon State University. \"For her to go to Mexico,\" Mate said, \"It\\'s pretty strong evidence that it\\'s where she\\'s from.\" Varvara was thought to be an endangered western whale, but her ability to \"navigate across open water over tremendously long distances is impressive,\" he said in the release, which could mean that some western gray whales are actually eastern grays. With only 150 western gray whales believed to be in existence, that number might be even lower. \"Past studies have indicated genetic differentiation between the species, but this suggests we may need to take a closer look,\" Mate said. Fourth baby orca born this season', 'Varvara traveled 14,000 miles across the Pacific Ocean. (Hat tip: The Daily Beast)'].\n",
      "Feedback function `groundedness_measure` was renamed to `groundedness_measure_with_cot_reasons`. The new functionality of `groundedness_measure` function will no longer emit reasons as a lower cost option. It may have reduced accuracy due to not using Chain of Thought reasoning in the scoring.\n"
     ]
    },
    {
     "name": "stdout",
     "output_type": "stream",
     "text": [
      "✅ added record record_hash_2a7ef526718784cb02f7d5e290d6afec\n",
      "✅ feedback result Mean Absolute Error DONE feedback_result_hash_aa757830d1f86a5d1819cb352d2729cb\n"
     ]
    },
    {
     "name": "stderr",
     "output_type": "stream",
     "text": [
      "Unsure what the main input string is for the call to _call with args ['(CNN)A North Pacific gray whale has earned a spot in the record books after completing the longest migration of a mammal ever recorded. The whale, named Varvara, swam nearly 14,000 miles (22,500 kilometers), according to a release from Oregon State University, whose scientists helped conduct the whale-tracking study. Varvara, which is Russian for \"Barbara,\" left her primary feeding ground off Russia\\'s Sakhalin Island to cross the  Pacific Ocean and down the West Coast of the United States to Baja, Mexico. Varvara\\'s journey surpassed a record listed on the Guinness Worlds Records website. It said the previous record was set by a humpback whale that swam a mere 10,190-mile round trip between the \"warm breeding waters near the equator and the colder food-rich waters of the Arctic and Antarctic regions.\" Records are nice, but Bruce Mate, the lead author of the study, thinks the long trip might say more about the whale than just its ability to swim. During her 14,000-mile journey, Varvara visited \"three major breeding areas for eastern gray whales,\" which was a surprise to Mate, who is also the director of the Marine Mammal Institute at Oregon State University. \"For her to go to Mexico,\" Mate said, \"It\\'s pretty strong evidence that it\\'s where she\\'s from.\" Varvara was thought to be an endangered western whale, but her ability to \"navigate across open water over tremendously long distances is impressive,\" he said in the release, which could mean that some western gray whales are actually eastern grays. With only 150 western gray whales believed to be in existence, that number might be even lower. \"Past studies have indicated genetic differentiation between the species, but this suggests we may need to take a closer look,\" Mate said. Fourth baby orca born this season', 'Varvara traveled 14,000 miles across the Pacific Ocean. (Hat tip: The Daily Beast)'].\n",
      "Feedback function `groundedness_measure` was renamed to `groundedness_measure_with_cot_reasons`. The new functionality of `groundedness_measure` function will no longer emit reasons as a lower cost option. It may have reduced accuracy due to not using Chain of Thought reasoning in the scoring.\n"
     ]
    },
    {
     "name": "stdout",
     "output_type": "stream",
     "text": [
      "✅ added record record_hash_e542c2baf6e96a63721e934ba903ed3e\n",
      "✅ feedback result Mean Absolute Error DONE feedback_result_hash_804fcceaf9f24daeb47f52f3399e4144\n"
     ]
    },
    {
     "data": {
      "application/vnd.jupyter.widget-view+json": {
       "model_id": "8f2dfd3c11584a659ae1756ff91748db",
       "version_major": 2,
       "version_minor": 0
      },
      "text/plain": [
       "Groundendess per statement in source:   0%|          | 0/3 [00:00<?, ?it/s]"
      ]
     },
     "metadata": {},
     "output_type": "display_data"
    },
    {
     "name": "stderr",
     "output_type": "stream",
     "text": [
      "Unsure what the main input string is for the call to _call with args ['(CNN)A North Pacific gray whale has earned a spot in the record books after completing the longest migration of a mammal ever recorded. The whale, named Varvara, swam nearly 14,000 miles (22,500 kilometers), according to a release from Oregon State University, whose scientists helped conduct the whale-tracking study. Varvara, which is Russian for \"Barbara,\" left her primary feeding ground off Russia\\'s Sakhalin Island to cross the  Pacific Ocean and down the West Coast of the United States to Baja, Mexico. Varvara\\'s journey surpassed a record listed on the Guinness Worlds Records website. It said the previous record was set by a humpback whale that swam a mere 10,190-mile round trip between the \"warm breeding waters near the equator and the colder food-rich waters of the Arctic and Antarctic regions.\" Records are nice, but Bruce Mate, the lead author of the study, thinks the long trip might say more about the whale than just its ability to swim. During her 14,000-mile journey, Varvara visited \"three major breeding areas for eastern gray whales,\" which was a surprise to Mate, who is also the director of the Marine Mammal Institute at Oregon State University. \"For her to go to Mexico,\" Mate said, \"It\\'s pretty strong evidence that it\\'s where she\\'s from.\" Varvara was thought to be an endangered western whale, but her ability to \"navigate across open water over tremendously long distances is impressive,\" he said in the release, which could mean that some western gray whales are actually eastern grays. With only 150 western gray whales believed to be in existence, that number might be even lower. \"Past studies have indicated genetic differentiation between the species, but this suggests we may need to take a closer look,\" Mate said. Fourth baby orca born this season', 'the north pacific gray whale swam nearly 14,000 miles . varvara\\'s journey surpassed a record listed on the guinness worlds records website . during her 14,000-mile journey, varvara visited \"three major breeding areas for eastern gray whales\"'].\n",
      "Feedback function `groundedness_measure` was renamed to `groundedness_measure_with_cot_reasons`. The new functionality of `groundedness_measure` function will no longer emit reasons as a lower cost option. It may have reduced accuracy due to not using Chain of Thought reasoning in the scoring.\n"
     ]
    },
    {
     "name": "stdout",
     "output_type": "stream",
     "text": [
      "✅ added record record_hash_a0d4abe91050016029a7f980688dfbf1\n",
      "✅ feedback result Mean Absolute Error DONE feedback_result_hash_2684a88892884f40ad4a1926186c54ab\n"
     ]
    },
    {
     "name": "stderr",
     "output_type": "stream",
     "text": [
      "Unsure what the main input string is for the call to _call with args ['(CNN)A North Pacific gray whale has earned a spot in the record books after completing the longest migration of a mammal ever recorded. The whale, named Varvara, swam nearly 14,000 miles (22,500 kilometers), according to a release from Oregon State University, whose scientists helped conduct the whale-tracking study. Varvara, which is Russian for \"Barbara,\" left her primary feeding ground off Russia\\'s Sakhalin Island to cross the  Pacific Ocean and down the West Coast of the United States to Baja, Mexico. Varvara\\'s journey surpassed a record listed on the Guinness Worlds Records website. It said the previous record was set by a humpback whale that swam a mere 10,190-mile round trip between the \"warm breeding waters near the equator and the colder food-rich waters of the Arctic and Antarctic regions.\" Records are nice, but Bruce Mate, the lead author of the study, thinks the long trip might say more about the whale than just its ability to swim. During her 14,000-mile journey, Varvara visited \"three major breeding areas for eastern gray whales,\" which was a surprise to Mate, who is also the director of the Marine Mammal Institute at Oregon State University. \"For her to go to Mexico,\" Mate said, \"It\\'s pretty strong evidence that it\\'s where she\\'s from.\" Varvara was thought to be an endangered western whale, but her ability to \"navigate across open water over tremendously long distances is impressive,\" he said in the release, which could mean that some western gray whales are actually eastern grays. With only 150 western gray whales believed to be in existence, that number might be even lower. \"Past studies have indicated genetic differentiation between the species, but this suggests we may need to take a closer look,\" Mate said. Fourth baby orca born this season', 'the north pacific gray whale swam nearly 14,000 miles . varvara\\'s journey surpassed a record listed on the guinness worlds records website . during her 14,000-mile journey, varvara visited \"three major breeding areas for eastern gray whales\"'].\n",
      "Feedback function `groundedness_measure` was renamed to `groundedness_measure_with_cot_reasons`. The new functionality of `groundedness_measure` function will no longer emit reasons as a lower cost option. It may have reduced accuracy due to not using Chain of Thought reasoning in the scoring.\n"
     ]
    },
    {
     "name": "stdout",
     "output_type": "stream",
     "text": [
      "✅ added record record_hash_fa0e4cff61bbec6734c1936c65051b6d\n",
      "✅ feedback result Mean Absolute Error DONE feedback_result_hash_e7531af6a3d134a4f56854c035dbec73\n"
     ]
    },
    {
     "name": "stderr",
     "output_type": "stream",
     "text": [
      "Unsure what the main input string is for the call to _call with args ['(CNN)A North Pacific gray whale has earned a spot in the record books after completing the longest migration of a mammal ever recorded. The whale, named Varvara, swam nearly 14,000 miles (22,500 kilometers), according to a release from Oregon State University, whose scientists helped conduct the whale-tracking study. Varvara, which is Russian for \"Barbara,\" left her primary feeding ground off Russia\\'s Sakhalin Island to cross the  Pacific Ocean and down the West Coast of the United States to Baja, Mexico. Varvara\\'s journey surpassed a record listed on the Guinness Worlds Records website. It said the previous record was set by a humpback whale that swam a mere 10,190-mile round trip between the \"warm breeding waters near the equator and the colder food-rich waters of the Arctic and Antarctic regions.\" Records are nice, but Bruce Mate, the lead author of the study, thinks the long trip might say more about the whale than just its ability to swim. During her 14,000-mile journey, Varvara visited \"three major breeding areas for eastern gray whales,\" which was a surprise to Mate, who is also the director of the Marine Mammal Institute at Oregon State University. \"For her to go to Mexico,\" Mate said, \"It\\'s pretty strong evidence that it\\'s where she\\'s from.\" Varvara was thought to be an endangered western whale, but her ability to \"navigate across open water over tremendously long distances is impressive,\" he said in the release, which could mean that some western gray whales are actually eastern grays. With only 150 western gray whales believed to be in existence, that number might be even lower. \"Past studies have indicated genetic differentiation between the species, but this suggests we may need to take a closer look,\" Mate said. Fourth baby orca born this season', 'the north pacific gray whale swam nearly 14,000 miles . varvara\\'s journey surpassed a record listed on the guinness worlds records website . during her 14,000-mile journey, varvara visited \"three major breeding areas for eastern gray whales\"'].\n",
      "Feedback function `groundedness_measure` was renamed to `groundedness_measure_with_cot_reasons`. The new functionality of `groundedness_measure` function will no longer emit reasons as a lower cost option. It may have reduced accuracy due to not using Chain of Thought reasoning in the scoring.\n"
     ]
    },
    {
     "name": "stdout",
     "output_type": "stream",
     "text": [
      "✅ added record record_hash_cf3eca48d887490df53505d9008036c9\n",
      "✅ feedback result Mean Absolute Error DONE feedback_result_hash_ca5d096d515ea1088f9859d02473c447\n"
     ]
    },
    {
     "data": {
      "application/vnd.jupyter.widget-view+json": {
       "model_id": "ea14c1911ea14f309e2ff24583b5475c",
       "version_major": 2,
       "version_minor": 0
      },
      "text/plain": [
       "Groundendess per statement in source:   0%|          | 0/4 [00:00<?, ?it/s]"
      ]
     },
     "metadata": {},
     "output_type": "display_data"
    },
    {
     "name": "stderr",
     "output_type": "stream",
     "text": [
      "Unsure what the main input string is for the call to _call with args ['(CNN)A North Pacific gray whale has earned a spot in the record books after completing the longest migration of a mammal ever recorded. The whale, named Varvara, swam nearly 14,000 miles (22,500 kilometers), according to a release from Oregon State University, whose scientists helped conduct the whale-tracking study. Varvara, which is Russian for \"Barbara,\" left her primary feeding ground off Russia\\'s Sakhalin Island to cross the  Pacific Ocean and down the West Coast of the United States to Baja, Mexico. Varvara\\'s journey surpassed a record listed on the Guinness Worlds Records website. It said the previous record was set by a humpback whale that swam a mere 10,190-mile round trip between the \"warm breeding waters near the equator and the colder food-rich waters of the Arctic and Antarctic regions.\" Records are nice, but Bruce Mate, the lead author of the study, thinks the long trip might say more about the whale than just its ability to swim. During her 14,000-mile journey, Varvara visited \"three major breeding areas for eastern gray whales,\" which was a surprise to Mate, who is also the director of the Marine Mammal Institute at Oregon State University. \"For her to go to Mexico,\" Mate said, \"It\\'s pretty strong evidence that it\\'s where she\\'s from.\" Varvara was thought to be an endangered western whale, but her ability to \"navigate across open water over tremendously long distances is impressive,\" he said in the release, which could mean that some western gray whales are actually eastern grays. With only 150 western gray whales believed to be in existence, that number might be even lower. \"Past studies have indicated genetic differentiation between the species, but this suggests we may need to take a closer look,\" Mate said. Fourth baby orca born this season', \"the whale , named varvara , swam nearly 14,000 miles -lrb- 22,500 kilometers -rrb- , according to a release from oregon state university , whose scientists helped conduct the whale-tracking study . varvara , which is russian for `` barbara , '' left her primary feeding ground off russia 's sakhalin island to cross the pacific ocean and down the west coast of the united states to baja , mexico . fourth baby orca born this season .\"].\n",
      "Feedback function `groundedness_measure` was renamed to `groundedness_measure_with_cot_reasons`. The new functionality of `groundedness_measure` function will no longer emit reasons as a lower cost option. It may have reduced accuracy due to not using Chain of Thought reasoning in the scoring.\n"
     ]
    },
    {
     "name": "stdout",
     "output_type": "stream",
     "text": [
      "✅ added record record_hash_5e6a945c0a3b99eb9f8c05846338a7f2\n",
      "✅ feedback result Mean Absolute Error DONE feedback_result_hash_7c50fab342078ad5c34e2bd84acff27c\n"
     ]
    },
    {
     "name": "stderr",
     "output_type": "stream",
     "text": [
      "Unsure what the main input string is for the call to _call with args ['(CNN)A North Pacific gray whale has earned a spot in the record books after completing the longest migration of a mammal ever recorded. The whale, named Varvara, swam nearly 14,000 miles (22,500 kilometers), according to a release from Oregon State University, whose scientists helped conduct the whale-tracking study. Varvara, which is Russian for \"Barbara,\" left her primary feeding ground off Russia\\'s Sakhalin Island to cross the  Pacific Ocean and down the West Coast of the United States to Baja, Mexico. Varvara\\'s journey surpassed a record listed on the Guinness Worlds Records website. It said the previous record was set by a humpback whale that swam a mere 10,190-mile round trip between the \"warm breeding waters near the equator and the colder food-rich waters of the Arctic and Antarctic regions.\" Records are nice, but Bruce Mate, the lead author of the study, thinks the long trip might say more about the whale than just its ability to swim. During her 14,000-mile journey, Varvara visited \"three major breeding areas for eastern gray whales,\" which was a surprise to Mate, who is also the director of the Marine Mammal Institute at Oregon State University. \"For her to go to Mexico,\" Mate said, \"It\\'s pretty strong evidence that it\\'s where she\\'s from.\" Varvara was thought to be an endangered western whale, but her ability to \"navigate across open water over tremendously long distances is impressive,\" he said in the release, which could mean that some western gray whales are actually eastern grays. With only 150 western gray whales believed to be in existence, that number might be even lower. \"Past studies have indicated genetic differentiation between the species, but this suggests we may need to take a closer look,\" Mate said. Fourth baby orca born this season', \"the whale , named varvara , swam nearly 14,000 miles -lrb- 22,500 kilometers -rrb- , according to a release from oregon state university , whose scientists helped conduct the whale-tracking study . varvara , which is russian for `` barbara , '' left her primary feeding ground off russia 's sakhalin island to cross the pacific ocean and down the west coast of the united states to baja , mexico . fourth baby orca born this season .\"].\n",
      "Feedback function `groundedness_measure` was renamed to `groundedness_measure_with_cot_reasons`. The new functionality of `groundedness_measure` function will no longer emit reasons as a lower cost option. It may have reduced accuracy due to not using Chain of Thought reasoning in the scoring.\n"
     ]
    },
    {
     "name": "stdout",
     "output_type": "stream",
     "text": [
      "✅ added record record_hash_72e22003bafd5b87aa94b24d026cb915\n",
      "✅ feedback result Mean Absolute Error DONE feedback_result_hash_2ac475f89501578860f984a9c2c9f8cc\n"
     ]
    },
    {
     "name": "stderr",
     "output_type": "stream",
     "text": [
      "Unsure what the main input string is for the call to _call with args ['(CNN)A North Pacific gray whale has earned a spot in the record books after completing the longest migration of a mammal ever recorded. The whale, named Varvara, swam nearly 14,000 miles (22,500 kilometers), according to a release from Oregon State University, whose scientists helped conduct the whale-tracking study. Varvara, which is Russian for \"Barbara,\" left her primary feeding ground off Russia\\'s Sakhalin Island to cross the  Pacific Ocean and down the West Coast of the United States to Baja, Mexico. Varvara\\'s journey surpassed a record listed on the Guinness Worlds Records website. It said the previous record was set by a humpback whale that swam a mere 10,190-mile round trip between the \"warm breeding waters near the equator and the colder food-rich waters of the Arctic and Antarctic regions.\" Records are nice, but Bruce Mate, the lead author of the study, thinks the long trip might say more about the whale than just its ability to swim. During her 14,000-mile journey, Varvara visited \"three major breeding areas for eastern gray whales,\" which was a surprise to Mate, who is also the director of the Marine Mammal Institute at Oregon State University. \"For her to go to Mexico,\" Mate said, \"It\\'s pretty strong evidence that it\\'s where she\\'s from.\" Varvara was thought to be an endangered western whale, but her ability to \"navigate across open water over tremendously long distances is impressive,\" he said in the release, which could mean that some western gray whales are actually eastern grays. With only 150 western gray whales believed to be in existence, that number might be even lower. \"Past studies have indicated genetic differentiation between the species, but this suggests we may need to take a closer look,\" Mate said. Fourth baby orca born this season', \"the whale , named varvara , swam nearly 14,000 miles -lrb- 22,500 kilometers -rrb- , according to a release from oregon state university , whose scientists helped conduct the whale-tracking study . varvara , which is russian for `` barbara , '' left her primary feeding ground off russia 's sakhalin island to cross the pacific ocean and down the west coast of the united states to baja , mexico . fourth baby orca born this season .\"].\n",
      "Feedback function `groundedness_measure` was renamed to `groundedness_measure_with_cot_reasons`. The new functionality of `groundedness_measure` function will no longer emit reasons as a lower cost option. It may have reduced accuracy due to not using Chain of Thought reasoning in the scoring.\n"
     ]
    },
    {
     "name": "stdout",
     "output_type": "stream",
     "text": [
      "✅ added record record_hash_37500c2b1f843db91533ce724d7b5ae8\n",
      "✅ feedback result Mean Absolute Error DONE feedback_result_hash_f8cd9fafd360e4dd67cdcb636aaf538e\n"
     ]
    },
    {
     "data": {
      "application/vnd.jupyter.widget-view+json": {
       "model_id": "5dd47706746d4f4dad2fbe38d737bfb1",
       "version_major": 2,
       "version_minor": 0
      },
      "text/plain": [
       "Groundendess per statement in source:   0%|          | 0/4 [00:00<?, ?it/s]"
      ]
     },
     "metadata": {},
     "output_type": "display_data"
    },
    {
     "name": "stderr",
     "output_type": "stream",
     "text": [
      "Unsure what the main input string is for the call to _call with args ['(CNN)A North Pacific gray whale has earned a spot in the record books after completing the longest migration of a mammal ever recorded. The whale, named Varvara, swam nearly 14,000 miles (22,500 kilometers), according to a release from Oregon State University, whose scientists helped conduct the whale-tracking study. Varvara, which is Russian for \"Barbara,\" left her primary feeding ground off Russia\\'s Sakhalin Island to cross the  Pacific Ocean and down the West Coast of the United States to Baja, Mexico. Varvara\\'s journey surpassed a record listed on the Guinness Worlds Records website. It said the previous record was set by a humpback whale that swam a mere 10,190-mile round trip between the \"warm breeding waters near the equator and the colder food-rich waters of the Arctic and Antarctic regions.\" Records are nice, but Bruce Mate, the lead author of the study, thinks the long trip might say more about the whale than just its ability to swim. During her 14,000-mile journey, Varvara visited \"three major breeding areas for eastern gray whales,\" which was a surprise to Mate, who is also the director of the Marine Mammal Institute at Oregon State University. \"For her to go to Mexico,\" Mate said, \"It\\'s pretty strong evidence that it\\'s where she\\'s from.\" Varvara was thought to be an endangered western whale, but her ability to \"navigate across open water over tremendously long distances is impressive,\" he said in the release, which could mean that some western gray whales are actually eastern grays. With only 150 western gray whales believed to be in existence, that number might be even lower. \"Past studies have indicated genetic differentiation between the species, but this suggests we may need to take a closer look,\" Mate said. Fourth baby orca born this season', \"-lrb- cnn -rrb- a north pacific gray whale has earned a spot in the record books after completing the longest migration of a mammal ever recorded . the whale , named varvara , swam nearly 14,000 miles -lrb- 22,500 kilometers -rrb- , according to a release from oregon state university , whose scientists helped conduct the whale-tracking study . varvara , which is russian for `` barbara , '' left her primary feeding ground off russia 's sakhalin island to cross the pacific ocean and down the west coast of the united states to baja , mexico .\"].\n",
      "Feedback function `groundedness_measure` was renamed to `groundedness_measure_with_cot_reasons`. The new functionality of `groundedness_measure` function will no longer emit reasons as a lower cost option. It may have reduced accuracy due to not using Chain of Thought reasoning in the scoring.\n"
     ]
    },
    {
     "name": "stdout",
     "output_type": "stream",
     "text": [
      "✅ added record record_hash_d1655a71315691a25bba0812349431be\n",
      "✅ feedback result Mean Absolute Error DONE feedback_result_hash_c72b211a44978150e77d7da8f37f2ad2\n"
     ]
    },
    {
     "name": "stderr",
     "output_type": "stream",
     "text": [
      "Unsure what the main input string is for the call to _call with args ['(CNN)A North Pacific gray whale has earned a spot in the record books after completing the longest migration of a mammal ever recorded. The whale, named Varvara, swam nearly 14,000 miles (22,500 kilometers), according to a release from Oregon State University, whose scientists helped conduct the whale-tracking study. Varvara, which is Russian for \"Barbara,\" left her primary feeding ground off Russia\\'s Sakhalin Island to cross the  Pacific Ocean and down the West Coast of the United States to Baja, Mexico. Varvara\\'s journey surpassed a record listed on the Guinness Worlds Records website. It said the previous record was set by a humpback whale that swam a mere 10,190-mile round trip between the \"warm breeding waters near the equator and the colder food-rich waters of the Arctic and Antarctic regions.\" Records are nice, but Bruce Mate, the lead author of the study, thinks the long trip might say more about the whale than just its ability to swim. During her 14,000-mile journey, Varvara visited \"three major breeding areas for eastern gray whales,\" which was a surprise to Mate, who is also the director of the Marine Mammal Institute at Oregon State University. \"For her to go to Mexico,\" Mate said, \"It\\'s pretty strong evidence that it\\'s where she\\'s from.\" Varvara was thought to be an endangered western whale, but her ability to \"navigate across open water over tremendously long distances is impressive,\" he said in the release, which could mean that some western gray whales are actually eastern grays. With only 150 western gray whales believed to be in existence, that number might be even lower. \"Past studies have indicated genetic differentiation between the species, but this suggests we may need to take a closer look,\" Mate said. Fourth baby orca born this season', \"-lrb- cnn -rrb- a north pacific gray whale has earned a spot in the record books after completing the longest migration of a mammal ever recorded . the whale , named varvara , swam nearly 14,000 miles -lrb- 22,500 kilometers -rrb- , according to a release from oregon state university , whose scientists helped conduct the whale-tracking study . varvara , which is russian for `` barbara , '' left her primary feeding ground off russia 's sakhalin island to cross the pacific ocean and down the west coast of the united states to baja , mexico .\"].\n",
      "Feedback function `groundedness_measure` was renamed to `groundedness_measure_with_cot_reasons`. The new functionality of `groundedness_measure` function will no longer emit reasons as a lower cost option. It may have reduced accuracy due to not using Chain of Thought reasoning in the scoring.\n"
     ]
    },
    {
     "name": "stdout",
     "output_type": "stream",
     "text": [
      "✅ added record record_hash_ca26ec6313a19ca914bceaafecfa8fbc\n",
      "✅ feedback result Mean Absolute Error DONE feedback_result_hash_20a0dd98805d19215ce3fb1574ed392d\n"
     ]
    },
    {
     "name": "stderr",
     "output_type": "stream",
     "text": [
      "Unsure what the main input string is for the call to _call with args ['(CNN)A North Pacific gray whale has earned a spot in the record books after completing the longest migration of a mammal ever recorded. The whale, named Varvara, swam nearly 14,000 miles (22,500 kilometers), according to a release from Oregon State University, whose scientists helped conduct the whale-tracking study. Varvara, which is Russian for \"Barbara,\" left her primary feeding ground off Russia\\'s Sakhalin Island to cross the  Pacific Ocean and down the West Coast of the United States to Baja, Mexico. Varvara\\'s journey surpassed a record listed on the Guinness Worlds Records website. It said the previous record was set by a humpback whale that swam a mere 10,190-mile round trip between the \"warm breeding waters near the equator and the colder food-rich waters of the Arctic and Antarctic regions.\" Records are nice, but Bruce Mate, the lead author of the study, thinks the long trip might say more about the whale than just its ability to swim. During her 14,000-mile journey, Varvara visited \"three major breeding areas for eastern gray whales,\" which was a surprise to Mate, who is also the director of the Marine Mammal Institute at Oregon State University. \"For her to go to Mexico,\" Mate said, \"It\\'s pretty strong evidence that it\\'s where she\\'s from.\" Varvara was thought to be an endangered western whale, but her ability to \"navigate across open water over tremendously long distances is impressive,\" he said in the release, which could mean that some western gray whales are actually eastern grays. With only 150 western gray whales believed to be in existence, that number might be even lower. \"Past studies have indicated genetic differentiation between the species, but this suggests we may need to take a closer look,\" Mate said. Fourth baby orca born this season', \"-lrb- cnn -rrb- a north pacific gray whale has earned a spot in the record books after completing the longest migration of a mammal ever recorded . the whale , named varvara , swam nearly 14,000 miles -lrb- 22,500 kilometers -rrb- , according to a release from oregon state university , whose scientists helped conduct the whale-tracking study . varvara , which is russian for `` barbara , '' left her primary feeding ground off russia 's sakhalin island to cross the pacific ocean and down the west coast of the united states to baja , mexico .\"].\n",
      "Feedback function `groundedness_measure` was renamed to `groundedness_measure_with_cot_reasons`. The new functionality of `groundedness_measure` function will no longer emit reasons as a lower cost option. It may have reduced accuracy due to not using Chain of Thought reasoning in the scoring.\n"
     ]
    },
    {
     "name": "stdout",
     "output_type": "stream",
     "text": [
      "✅ added record record_hash_18f8431b3c16aeb0668e4aa865e53d16\n",
      "✅ feedback result Mean Absolute Error DONE feedback_result_hash_560da374fdd8ce6b690171c78a9694cc\n"
     ]
    },
    {
     "data": {
      "application/vnd.jupyter.widget-view+json": {
       "model_id": "f85158d90a594dea834659d8c47656f5",
       "version_major": 2,
       "version_minor": 0
      },
      "text/plain": [
       "Groundendess per statement in source:   0%|          | 0/3 [00:00<?, ?it/s]"
      ]
     },
     "metadata": {},
     "output_type": "display_data"
    },
    {
     "name": "stderr",
     "output_type": "stream",
     "text": [
      "Unsure what the main input string is for the call to _call with args ['(CNN)A North Pacific gray whale has earned a spot in the record books after completing the longest migration of a mammal ever recorded. The whale, named Varvara, swam nearly 14,000 miles (22,500 kilometers), according to a release from Oregon State University, whose scientists helped conduct the whale-tracking study. Varvara, which is Russian for \"Barbara,\" left her primary feeding ground off Russia\\'s Sakhalin Island to cross the  Pacific Ocean and down the West Coast of the United States to Baja, Mexico. Varvara\\'s journey surpassed a record listed on the Guinness Worlds Records website. It said the previous record was set by a humpback whale that swam a mere 10,190-mile round trip between the \"warm breeding waters near the equator and the colder food-rich waters of the Arctic and Antarctic regions.\" Records are nice, but Bruce Mate, the lead author of the study, thinks the long trip might say more about the whale than just its ability to swim. During her 14,000-mile journey, Varvara visited \"three major breeding areas for eastern gray whales,\" which was a surprise to Mate, who is also the director of the Marine Mammal Institute at Oregon State University. \"For her to go to Mexico,\" Mate said, \"It\\'s pretty strong evidence that it\\'s where she\\'s from.\" Varvara was thought to be an endangered western whale, but her ability to \"navigate across open water over tremendously long distances is impressive,\" he said in the release, which could mean that some western gray whales are actually eastern grays. With only 150 western gray whales believed to be in existence, that number might be even lower. \"Past studies have indicated genetic differentiation between the species, but this suggests we may need to take a closer look,\" Mate said. Fourth baby orca born this season', \"A North Pacific gray whale completes the longest migration of a mammal ever recorded . The whale , named Varvara , swam nearly 14,000 miles -LRB- 22,500 kilometers -RRB- She left her primary feeding ground off Russia 's Sakhalin Island to cross the Pacific Ocean .\"].\n",
      "Feedback function `groundedness_measure` was renamed to `groundedness_measure_with_cot_reasons`. The new functionality of `groundedness_measure` function will no longer emit reasons as a lower cost option. It may have reduced accuracy due to not using Chain of Thought reasoning in the scoring.\n"
     ]
    },
    {
     "name": "stdout",
     "output_type": "stream",
     "text": [
      "✅ added record record_hash_f1c4938abfea88db9388aaf1ba8904a0\n",
      "✅ feedback result Mean Absolute Error DONE feedback_result_hash_68a439d045aaefa28745361f3152a20f\n"
     ]
    },
    {
     "name": "stderr",
     "output_type": "stream",
     "text": [
      "Unsure what the main input string is for the call to _call with args ['(CNN)A North Pacific gray whale has earned a spot in the record books after completing the longest migration of a mammal ever recorded. The whale, named Varvara, swam nearly 14,000 miles (22,500 kilometers), according to a release from Oregon State University, whose scientists helped conduct the whale-tracking study. Varvara, which is Russian for \"Barbara,\" left her primary feeding ground off Russia\\'s Sakhalin Island to cross the  Pacific Ocean and down the West Coast of the United States to Baja, Mexico. Varvara\\'s journey surpassed a record listed on the Guinness Worlds Records website. It said the previous record was set by a humpback whale that swam a mere 10,190-mile round trip between the \"warm breeding waters near the equator and the colder food-rich waters of the Arctic and Antarctic regions.\" Records are nice, but Bruce Mate, the lead author of the study, thinks the long trip might say more about the whale than just its ability to swim. During her 14,000-mile journey, Varvara visited \"three major breeding areas for eastern gray whales,\" which was a surprise to Mate, who is also the director of the Marine Mammal Institute at Oregon State University. \"For her to go to Mexico,\" Mate said, \"It\\'s pretty strong evidence that it\\'s where she\\'s from.\" Varvara was thought to be an endangered western whale, but her ability to \"navigate across open water over tremendously long distances is impressive,\" he said in the release, which could mean that some western gray whales are actually eastern grays. With only 150 western gray whales believed to be in existence, that number might be even lower. \"Past studies have indicated genetic differentiation between the species, but this suggests we may need to take a closer look,\" Mate said. Fourth baby orca born this season', \"A North Pacific gray whale completes the longest migration of a mammal ever recorded . The whale , named Varvara , swam nearly 14,000 miles -LRB- 22,500 kilometers -RRB- She left her primary feeding ground off Russia 's Sakhalin Island to cross the Pacific Ocean .\"].\n",
      "Feedback function `groundedness_measure` was renamed to `groundedness_measure_with_cot_reasons`. The new functionality of `groundedness_measure` function will no longer emit reasons as a lower cost option. It may have reduced accuracy due to not using Chain of Thought reasoning in the scoring.\n"
     ]
    },
    {
     "name": "stdout",
     "output_type": "stream",
     "text": [
      "✅ added record record_hash_fc071a7a7a706169b7c527ce19f4be0c\n",
      "✅ feedback result Mean Absolute Error DONE feedback_result_hash_b7102308ef01ceaca57c2d66aaab160c\n"
     ]
    },
    {
     "name": "stderr",
     "output_type": "stream",
     "text": [
      "Unsure what the main input string is for the call to _call with args ['(CNN)A North Pacific gray whale has earned a spot in the record books after completing the longest migration of a mammal ever recorded. The whale, named Varvara, swam nearly 14,000 miles (22,500 kilometers), according to a release from Oregon State University, whose scientists helped conduct the whale-tracking study. Varvara, which is Russian for \"Barbara,\" left her primary feeding ground off Russia\\'s Sakhalin Island to cross the  Pacific Ocean and down the West Coast of the United States to Baja, Mexico. Varvara\\'s journey surpassed a record listed on the Guinness Worlds Records website. It said the previous record was set by a humpback whale that swam a mere 10,190-mile round trip between the \"warm breeding waters near the equator and the colder food-rich waters of the Arctic and Antarctic regions.\" Records are nice, but Bruce Mate, the lead author of the study, thinks the long trip might say more about the whale than just its ability to swim. During her 14,000-mile journey, Varvara visited \"three major breeding areas for eastern gray whales,\" which was a surprise to Mate, who is also the director of the Marine Mammal Institute at Oregon State University. \"For her to go to Mexico,\" Mate said, \"It\\'s pretty strong evidence that it\\'s where she\\'s from.\" Varvara was thought to be an endangered western whale, but her ability to \"navigate across open water over tremendously long distances is impressive,\" he said in the release, which could mean that some western gray whales are actually eastern grays. With only 150 western gray whales believed to be in existence, that number might be even lower. \"Past studies have indicated genetic differentiation between the species, but this suggests we may need to take a closer look,\" Mate said. Fourth baby orca born this season', \"A North Pacific gray whale completes the longest migration of a mammal ever recorded . The whale , named Varvara , swam nearly 14,000 miles -LRB- 22,500 kilometers -RRB- She left her primary feeding ground off Russia 's Sakhalin Island to cross the Pacific Ocean .\"].\n",
      "Feedback function `groundedness_measure` was renamed to `groundedness_measure_with_cot_reasons`. The new functionality of `groundedness_measure` function will no longer emit reasons as a lower cost option. It may have reduced accuracy due to not using Chain of Thought reasoning in the scoring.\n"
     ]
    },
    {
     "name": "stdout",
     "output_type": "stream",
     "text": [
      "✅ added record record_hash_35c1b94665d0f7451aed8f2b9bf60d1d\n",
      "✅ feedback result Mean Absolute Error DONE feedback_result_hash_6a7e9b09b1ecca559512067fd57162fa\n"
     ]
    },
    {
     "data": {
      "application/vnd.jupyter.widget-view+json": {
       "model_id": "eaebe040293d45d893ec5428d4e05d3f",
       "version_major": 2,
       "version_minor": 0
      },
      "text/plain": [
       "Groundendess per statement in source:   0%|          | 0/3 [00:00<?, ?it/s]"
      ]
     },
     "metadata": {},
     "output_type": "display_data"
    },
    {
     "name": "stderr",
     "output_type": "stream",
     "text": [
      "Unsure what the main input string is for the call to _call with args ['(CNN)A North Pacific gray whale has earned a spot in the record books after completing the longest migration of a mammal ever recorded. The whale, named Varvara, swam nearly 14,000 miles (22,500 kilometers), according to a release from Oregon State University, whose scientists helped conduct the whale-tracking study. Varvara, which is Russian for \"Barbara,\" left her primary feeding ground off Russia\\'s Sakhalin Island to cross the  Pacific Ocean and down the West Coast of the United States to Baja, Mexico. Varvara\\'s journey surpassed a record listed on the Guinness Worlds Records website. It said the previous record was set by a humpback whale that swam a mere 10,190-mile round trip between the \"warm breeding waters near the equator and the colder food-rich waters of the Arctic and Antarctic regions.\" Records are nice, but Bruce Mate, the lead author of the study, thinks the long trip might say more about the whale than just its ability to swim. During her 14,000-mile journey, Varvara visited \"three major breeding areas for eastern gray whales,\" which was a surprise to Mate, who is also the director of the Marine Mammal Institute at Oregon State University. \"For her to go to Mexico,\" Mate said, \"It\\'s pretty strong evidence that it\\'s where she\\'s from.\" Varvara was thought to be an endangered western whale, but her ability to \"navigate across open water over tremendously long distances is impressive,\" he said in the release, which could mean that some western gray whales are actually eastern grays. With only 150 western gray whales believed to be in existence, that number might be even lower. \"Past studies have indicated genetic differentiation between the species, but this suggests we may need to take a closer look,\" Mate said. Fourth baby orca born this season', \"the whale , named varvara , swam nearly 14,000 miles ( 22,500 kilometers ) . it said the previous record was set by a humpback whale that swam a mere 10,190-mile round trip between the `` warm breeding waters of the arctic and antarctic regions '' .\"].\n",
      "Feedback function `groundedness_measure` was renamed to `groundedness_measure_with_cot_reasons`. The new functionality of `groundedness_measure` function will no longer emit reasons as a lower cost option. It may have reduced accuracy due to not using Chain of Thought reasoning in the scoring.\n"
     ]
    },
    {
     "name": "stdout",
     "output_type": "stream",
     "text": [
      "✅ added record record_hash_e5cd046f98eb357f6bdf29c5cf814cb3\n",
      "✅ feedback result Mean Absolute Error DONE feedback_result_hash_5fb15b3b0f3a7c76e37c6d1884a8e105\n"
     ]
    },
    {
     "name": "stderr",
     "output_type": "stream",
     "text": [
      "Unsure what the main input string is for the call to _call with args ['(CNN)A North Pacific gray whale has earned a spot in the record books after completing the longest migration of a mammal ever recorded. The whale, named Varvara, swam nearly 14,000 miles (22,500 kilometers), according to a release from Oregon State University, whose scientists helped conduct the whale-tracking study. Varvara, which is Russian for \"Barbara,\" left her primary feeding ground off Russia\\'s Sakhalin Island to cross the  Pacific Ocean and down the West Coast of the United States to Baja, Mexico. Varvara\\'s journey surpassed a record listed on the Guinness Worlds Records website. It said the previous record was set by a humpback whale that swam a mere 10,190-mile round trip between the \"warm breeding waters near the equator and the colder food-rich waters of the Arctic and Antarctic regions.\" Records are nice, but Bruce Mate, the lead author of the study, thinks the long trip might say more about the whale than just its ability to swim. During her 14,000-mile journey, Varvara visited \"three major breeding areas for eastern gray whales,\" which was a surprise to Mate, who is also the director of the Marine Mammal Institute at Oregon State University. \"For her to go to Mexico,\" Mate said, \"It\\'s pretty strong evidence that it\\'s where she\\'s from.\" Varvara was thought to be an endangered western whale, but her ability to \"navigate across open water over tremendously long distances is impressive,\" he said in the release, which could mean that some western gray whales are actually eastern grays. With only 150 western gray whales believed to be in existence, that number might be even lower. \"Past studies have indicated genetic differentiation between the species, but this suggests we may need to take a closer look,\" Mate said. Fourth baby orca born this season', \"the whale , named varvara , swam nearly 14,000 miles ( 22,500 kilometers ) . it said the previous record was set by a humpback whale that swam a mere 10,190-mile round trip between the `` warm breeding waters of the arctic and antarctic regions '' .\"].\n",
      "Feedback function `groundedness_measure` was renamed to `groundedness_measure_with_cot_reasons`. The new functionality of `groundedness_measure` function will no longer emit reasons as a lower cost option. It may have reduced accuracy due to not using Chain of Thought reasoning in the scoring.\n"
     ]
    },
    {
     "name": "stdout",
     "output_type": "stream",
     "text": [
      "✅ added record record_hash_433215204105de579bc2c3a29d1a0a7b\n",
      "✅ feedback result Mean Absolute Error DONE feedback_result_hash_e21b8ba89a168e1b15a5b56abb2a63ea\n"
     ]
    },
    {
     "name": "stderr",
     "output_type": "stream",
     "text": [
      "Unsure what the main input string is for the call to _call with args ['(CNN)A North Pacific gray whale has earned a spot in the record books after completing the longest migration of a mammal ever recorded. The whale, named Varvara, swam nearly 14,000 miles (22,500 kilometers), according to a release from Oregon State University, whose scientists helped conduct the whale-tracking study. Varvara, which is Russian for \"Barbara,\" left her primary feeding ground off Russia\\'s Sakhalin Island to cross the  Pacific Ocean and down the West Coast of the United States to Baja, Mexico. Varvara\\'s journey surpassed a record listed on the Guinness Worlds Records website. It said the previous record was set by a humpback whale that swam a mere 10,190-mile round trip between the \"warm breeding waters near the equator and the colder food-rich waters of the Arctic and Antarctic regions.\" Records are nice, but Bruce Mate, the lead author of the study, thinks the long trip might say more about the whale than just its ability to swim. During her 14,000-mile journey, Varvara visited \"three major breeding areas for eastern gray whales,\" which was a surprise to Mate, who is also the director of the Marine Mammal Institute at Oregon State University. \"For her to go to Mexico,\" Mate said, \"It\\'s pretty strong evidence that it\\'s where she\\'s from.\" Varvara was thought to be an endangered western whale, but her ability to \"navigate across open water over tremendously long distances is impressive,\" he said in the release, which could mean that some western gray whales are actually eastern grays. With only 150 western gray whales believed to be in existence, that number might be even lower. \"Past studies have indicated genetic differentiation between the species, but this suggests we may need to take a closer look,\" Mate said. Fourth baby orca born this season', \"the whale , named varvara , swam nearly 14,000 miles ( 22,500 kilometers ) . it said the previous record was set by a humpback whale that swam a mere 10,190-mile round trip between the `` warm breeding waters of the arctic and antarctic regions '' .\"].\n",
      "Feedback function `groundedness_measure` was renamed to `groundedness_measure_with_cot_reasons`. The new functionality of `groundedness_measure` function will no longer emit reasons as a lower cost option. It may have reduced accuracy due to not using Chain of Thought reasoning in the scoring.\n"
     ]
    },
    {
     "name": "stdout",
     "output_type": "stream",
     "text": [
      "✅ added record record_hash_7ff8a7310868f6c5fff2930a3147265f\n",
      "✅ feedback result Mean Absolute Error DONE feedback_result_hash_96de449a1f91ca7f652b72b5392205ef\n"
     ]
    },
    {
     "data": {
      "application/vnd.jupyter.widget-view+json": {
       "model_id": "0aae01bfdc604e3f8be173115f343039",
       "version_major": 2,
       "version_minor": 0
      },
      "text/plain": [
       "Groundendess per statement in source:   0%|          | 0/4 [00:00<?, ?it/s]"
      ]
     },
     "metadata": {},
     "output_type": "display_data"
    },
    {
     "name": "stderr",
     "output_type": "stream",
     "text": [
      "Unsure what the main input string is for the call to _call with args ['(CNN)A North Pacific gray whale has earned a spot in the record books after completing the longest migration of a mammal ever recorded. The whale, named Varvara, swam nearly 14,000 miles (22,500 kilometers), according to a release from Oregon State University, whose scientists helped conduct the whale-tracking study. Varvara, which is Russian for \"Barbara,\" left her primary feeding ground off Russia\\'s Sakhalin Island to cross the  Pacific Ocean and down the West Coast of the United States to Baja, Mexico. Varvara\\'s journey surpassed a record listed on the Guinness Worlds Records website. It said the previous record was set by a humpback whale that swam a mere 10,190-mile round trip between the \"warm breeding waters near the equator and the colder food-rich waters of the Arctic and Antarctic regions.\" Records are nice, but Bruce Mate, the lead author of the study, thinks the long trip might say more about the whale than just its ability to swim. During her 14,000-mile journey, Varvara visited \"three major breeding areas for eastern gray whales,\" which was a surprise to Mate, who is also the director of the Marine Mammal Institute at Oregon State University. \"For her to go to Mexico,\" Mate said, \"It\\'s pretty strong evidence that it\\'s where she\\'s from.\" Varvara was thought to be an endangered western whale, but her ability to \"navigate across open water over tremendously long distances is impressive,\" he said in the release, which could mean that some western gray whales are actually eastern grays. With only 150 western gray whales believed to be in existence, that number might be even lower. \"Past studies have indicated genetic differentiation between the species, but this suggests we may need to take a closer look,\" Mate said. Fourth baby orca born this season', \"a north pacific gray whale swam nearly 14,000 miles from oregon state university . varvara 's journey surpassed a record listed on the guinness worlds records . the whale is russian for `` barbara , '' which is set by a humpback whale .\"].\n",
      "Feedback function `groundedness_measure` was renamed to `groundedness_measure_with_cot_reasons`. The new functionality of `groundedness_measure` function will no longer emit reasons as a lower cost option. It may have reduced accuracy due to not using Chain of Thought reasoning in the scoring.\n"
     ]
    },
    {
     "name": "stdout",
     "output_type": "stream",
     "text": [
      "✅ added record record_hash_25e3ed35cead602557b2a4fcee963058\n",
      "✅ feedback result Mean Absolute Error DONE feedback_result_hash_12b072b2b430a0c17b043436fb55dffd\n"
     ]
    },
    {
     "name": "stderr",
     "output_type": "stream",
     "text": [
      "Unsure what the main input string is for the call to _call with args ['(CNN)A North Pacific gray whale has earned a spot in the record books after completing the longest migration of a mammal ever recorded. The whale, named Varvara, swam nearly 14,000 miles (22,500 kilometers), according to a release from Oregon State University, whose scientists helped conduct the whale-tracking study. Varvara, which is Russian for \"Barbara,\" left her primary feeding ground off Russia\\'s Sakhalin Island to cross the  Pacific Ocean and down the West Coast of the United States to Baja, Mexico. Varvara\\'s journey surpassed a record listed on the Guinness Worlds Records website. It said the previous record was set by a humpback whale that swam a mere 10,190-mile round trip between the \"warm breeding waters near the equator and the colder food-rich waters of the Arctic and Antarctic regions.\" Records are nice, but Bruce Mate, the lead author of the study, thinks the long trip might say more about the whale than just its ability to swim. During her 14,000-mile journey, Varvara visited \"three major breeding areas for eastern gray whales,\" which was a surprise to Mate, who is also the director of the Marine Mammal Institute at Oregon State University. \"For her to go to Mexico,\" Mate said, \"It\\'s pretty strong evidence that it\\'s where she\\'s from.\" Varvara was thought to be an endangered western whale, but her ability to \"navigate across open water over tremendously long distances is impressive,\" he said in the release, which could mean that some western gray whales are actually eastern grays. With only 150 western gray whales believed to be in existence, that number might be even lower. \"Past studies have indicated genetic differentiation between the species, but this suggests we may need to take a closer look,\" Mate said. Fourth baby orca born this season', \"a north pacific gray whale swam nearly 14,000 miles from oregon state university . varvara 's journey surpassed a record listed on the guinness worlds records . the whale is russian for `` barbara , '' which is set by a humpback whale .\"].\n",
      "Feedback function `groundedness_measure` was renamed to `groundedness_measure_with_cot_reasons`. The new functionality of `groundedness_measure` function will no longer emit reasons as a lower cost option. It may have reduced accuracy due to not using Chain of Thought reasoning in the scoring.\n"
     ]
    },
    {
     "name": "stdout",
     "output_type": "stream",
     "text": [
      "✅ added record record_hash_217df2b376feb532673c793bad9a9468\n",
      "✅ feedback result Mean Absolute Error DONE feedback_result_hash_b46d746cfe4a9823eaa22de727acc468\n"
     ]
    },
    {
     "name": "stderr",
     "output_type": "stream",
     "text": [
      "Unsure what the main input string is for the call to _call with args ['(CNN)A North Pacific gray whale has earned a spot in the record books after completing the longest migration of a mammal ever recorded. The whale, named Varvara, swam nearly 14,000 miles (22,500 kilometers), according to a release from Oregon State University, whose scientists helped conduct the whale-tracking study. Varvara, which is Russian for \"Barbara,\" left her primary feeding ground off Russia\\'s Sakhalin Island to cross the  Pacific Ocean and down the West Coast of the United States to Baja, Mexico. Varvara\\'s journey surpassed a record listed on the Guinness Worlds Records website. It said the previous record was set by a humpback whale that swam a mere 10,190-mile round trip between the \"warm breeding waters near the equator and the colder food-rich waters of the Arctic and Antarctic regions.\" Records are nice, but Bruce Mate, the lead author of the study, thinks the long trip might say more about the whale than just its ability to swim. During her 14,000-mile journey, Varvara visited \"three major breeding areas for eastern gray whales,\" which was a surprise to Mate, who is also the director of the Marine Mammal Institute at Oregon State University. \"For her to go to Mexico,\" Mate said, \"It\\'s pretty strong evidence that it\\'s where she\\'s from.\" Varvara was thought to be an endangered western whale, but her ability to \"navigate across open water over tremendously long distances is impressive,\" he said in the release, which could mean that some western gray whales are actually eastern grays. With only 150 western gray whales believed to be in existence, that number might be even lower. \"Past studies have indicated genetic differentiation between the species, but this suggests we may need to take a closer look,\" Mate said. Fourth baby orca born this season', \"a north pacific gray whale swam nearly 14,000 miles from oregon state university . varvara 's journey surpassed a record listed on the guinness worlds records . the whale is russian for `` barbara , '' which is set by a humpback whale .\"].\n",
      "Feedback function `groundedness_measure` was renamed to `groundedness_measure_with_cot_reasons`. The new functionality of `groundedness_measure` function will no longer emit reasons as a lower cost option. It may have reduced accuracy due to not using Chain of Thought reasoning in the scoring.\n"
     ]
    },
    {
     "name": "stdout",
     "output_type": "stream",
     "text": [
      "✅ added record record_hash_881f06a1ab62f18d01e1272cadab617e\n",
      "✅ feedback result Mean Absolute Error DONE feedback_result_hash_c1e2ccc6d1d6dd79fd4950bb3cbbfbf1\n"
     ]
    },
    {
     "data": {
      "application/vnd.jupyter.widget-view+json": {
       "model_id": "2014b1b3e557411aaf8b07f8c2bc7231",
       "version_major": 2,
       "version_minor": 0
      },
      "text/plain": [
       "Groundendess per statement in source:   0%|          | 0/4 [00:00<?, ?it/s]"
      ]
     },
     "metadata": {},
     "output_type": "display_data"
    },
    {
     "name": "stderr",
     "output_type": "stream",
     "text": [
      "Unsure what the main input string is for the call to _call with args ['(CNN)A North Pacific gray whale has earned a spot in the record books after completing the longest migration of a mammal ever recorded. The whale, named Varvara, swam nearly 14,000 miles (22,500 kilometers), according to a release from Oregon State University, whose scientists helped conduct the whale-tracking study. Varvara, which is Russian for \"Barbara,\" left her primary feeding ground off Russia\\'s Sakhalin Island to cross the  Pacific Ocean and down the West Coast of the United States to Baja, Mexico. Varvara\\'s journey surpassed a record listed on the Guinness Worlds Records website. It said the previous record was set by a humpback whale that swam a mere 10,190-mile round trip between the \"warm breeding waters near the equator and the colder food-rich waters of the Arctic and Antarctic regions.\" Records are nice, but Bruce Mate, the lead author of the study, thinks the long trip might say more about the whale than just its ability to swim. During her 14,000-mile journey, Varvara visited \"three major breeding areas for eastern gray whales,\" which was a surprise to Mate, who is also the director of the Marine Mammal Institute at Oregon State University. \"For her to go to Mexico,\" Mate said, \"It\\'s pretty strong evidence that it\\'s where she\\'s from.\" Varvara was thought to be an endangered western whale, but her ability to \"navigate across open water over tremendously long distances is impressive,\" he said in the release, which could mean that some western gray whales are actually eastern grays. With only 150 western gray whales believed to be in existence, that number might be even lower. \"Past studies have indicated genetic differentiation between the species, but this suggests we may need to take a closer look,\" Mate said. Fourth baby orca born this season', \"north pacific gray whale has earned a spot in the record books . the whale , named varvara , swam nearly 14,000 miles -lrb- 22,500 kilometers -rrb- . varvara 's journey surpassed a record listed on the guinness worlds records website . varvara visited `` three major breeding areas for eastern gray whales ''\"].\n",
      "Feedback function `groundedness_measure` was renamed to `groundedness_measure_with_cot_reasons`. The new functionality of `groundedness_measure` function will no longer emit reasons as a lower cost option. It may have reduced accuracy due to not using Chain of Thought reasoning in the scoring.\n"
     ]
    },
    {
     "name": "stdout",
     "output_type": "stream",
     "text": [
      "✅ added record record_hash_a3ca4ce51895a9714d86cbfe26cc75b6\n",
      "✅ feedback result Mean Absolute Error DONE feedback_result_hash_a585ef6842a71cc9dda69c9ef93e5e21\n"
     ]
    },
    {
     "name": "stderr",
     "output_type": "stream",
     "text": [
      "Unsure what the main input string is for the call to _call with args ['(CNN)A North Pacific gray whale has earned a spot in the record books after completing the longest migration of a mammal ever recorded. The whale, named Varvara, swam nearly 14,000 miles (22,500 kilometers), according to a release from Oregon State University, whose scientists helped conduct the whale-tracking study. Varvara, which is Russian for \"Barbara,\" left her primary feeding ground off Russia\\'s Sakhalin Island to cross the  Pacific Ocean and down the West Coast of the United States to Baja, Mexico. Varvara\\'s journey surpassed a record listed on the Guinness Worlds Records website. It said the previous record was set by a humpback whale that swam a mere 10,190-mile round trip between the \"warm breeding waters near the equator and the colder food-rich waters of the Arctic and Antarctic regions.\" Records are nice, but Bruce Mate, the lead author of the study, thinks the long trip might say more about the whale than just its ability to swim. During her 14,000-mile journey, Varvara visited \"three major breeding areas for eastern gray whales,\" which was a surprise to Mate, who is also the director of the Marine Mammal Institute at Oregon State University. \"For her to go to Mexico,\" Mate said, \"It\\'s pretty strong evidence that it\\'s where she\\'s from.\" Varvara was thought to be an endangered western whale, but her ability to \"navigate across open water over tremendously long distances is impressive,\" he said in the release, which could mean that some western gray whales are actually eastern grays. With only 150 western gray whales believed to be in existence, that number might be even lower. \"Past studies have indicated genetic differentiation between the species, but this suggests we may need to take a closer look,\" Mate said. Fourth baby orca born this season', \"north pacific gray whale has earned a spot in the record books . the whale , named varvara , swam nearly 14,000 miles -lrb- 22,500 kilometers -rrb- . varvara 's journey surpassed a record listed on the guinness worlds records website . varvara visited `` three major breeding areas for eastern gray whales ''\"].\n",
      "Feedback function `groundedness_measure` was renamed to `groundedness_measure_with_cot_reasons`. The new functionality of `groundedness_measure` function will no longer emit reasons as a lower cost option. It may have reduced accuracy due to not using Chain of Thought reasoning in the scoring.\n"
     ]
    },
    {
     "name": "stdout",
     "output_type": "stream",
     "text": [
      "✅ added record record_hash_b48a8962b466e9f5a431791f292514bc\n",
      "✅ feedback result Mean Absolute Error DONE feedback_result_hash_6df06efba66758e4a6c8132b058495bb\n"
     ]
    },
    {
     "name": "stderr",
     "output_type": "stream",
     "text": [
      "Unsure what the main input string is for the call to _call with args ['(CNN)A North Pacific gray whale has earned a spot in the record books after completing the longest migration of a mammal ever recorded. The whale, named Varvara, swam nearly 14,000 miles (22,500 kilometers), according to a release from Oregon State University, whose scientists helped conduct the whale-tracking study. Varvara, which is Russian for \"Barbara,\" left her primary feeding ground off Russia\\'s Sakhalin Island to cross the  Pacific Ocean and down the West Coast of the United States to Baja, Mexico. Varvara\\'s journey surpassed a record listed on the Guinness Worlds Records website. It said the previous record was set by a humpback whale that swam a mere 10,190-mile round trip between the \"warm breeding waters near the equator and the colder food-rich waters of the Arctic and Antarctic regions.\" Records are nice, but Bruce Mate, the lead author of the study, thinks the long trip might say more about the whale than just its ability to swim. During her 14,000-mile journey, Varvara visited \"three major breeding areas for eastern gray whales,\" which was a surprise to Mate, who is also the director of the Marine Mammal Institute at Oregon State University. \"For her to go to Mexico,\" Mate said, \"It\\'s pretty strong evidence that it\\'s where she\\'s from.\" Varvara was thought to be an endangered western whale, but her ability to \"navigate across open water over tremendously long distances is impressive,\" he said in the release, which could mean that some western gray whales are actually eastern grays. With only 150 western gray whales believed to be in existence, that number might be even lower. \"Past studies have indicated genetic differentiation between the species, but this suggests we may need to take a closer look,\" Mate said. Fourth baby orca born this season', \"north pacific gray whale has earned a spot in the record books . the whale , named varvara , swam nearly 14,000 miles -lrb- 22,500 kilometers -rrb- . varvara 's journey surpassed a record listed on the guinness worlds records website . varvara visited `` three major breeding areas for eastern gray whales ''\"].\n",
      "Feedback function `groundedness_measure` was renamed to `groundedness_measure_with_cot_reasons`. The new functionality of `groundedness_measure` function will no longer emit reasons as a lower cost option. It may have reduced accuracy due to not using Chain of Thought reasoning in the scoring.\n"
     ]
    },
    {
     "name": "stdout",
     "output_type": "stream",
     "text": [
      "✅ added record record_hash_be5d3b95f044ad5cd666b4eb2d5d4989\n",
      "✅ feedback result Mean Absolute Error DONE feedback_result_hash_3f56f096f100218296050dcd346f22ac\n"
     ]
    },
    {
     "data": {
      "application/vnd.jupyter.widget-view+json": {
       "model_id": "e4af692d0df14ef5b71f35a254149d92",
       "version_major": 2,
       "version_minor": 0
      },
      "text/plain": [
       "Groundendess per statement in source:   0%|          | 0/8 [00:00<?, ?it/s]"
      ]
     },
     "metadata": {},
     "output_type": "display_data"
    },
    {
     "name": "stderr",
     "output_type": "stream",
     "text": [
      "Unsure what the main input string is for the call to _call with args ['(CNN)After a Russian fighter jet intercepted a U.S. reconnaissance plane in an \"unsafe and unprofessional manner\" earlier this week, the United States is complaining to Moscow about the incident. On Tuesday, a U.S. RC-135U was flying over the Baltic Sea when it was intercepted by a Russian SU-27 Flanker. The Pentagon said the incident occurred in international airspace north of Poland. The U.S. crew believed the Russian pilot\\'s actions were \"unsafe and unprofessional due to the aggressive maneuvers it performed in close proximity to their aircraft and its high rate of speed,\" Pentagon spokesman Mark Wright said. Russian state news agency Sputnik reported the U.S. plane was flying toward the Russian border with its transponder switched off, according to a Defense Ministry spokesman. Maj. Gen. Igor Konashenkov said the Russian jet flew around the U.S. plane several times to identify it and get its tail number. An official with the U.S. European Command said the claim that the transponder was off was false. Wright said the Pentagon and State Department will \"file the appropriate petition through diplomatic channels\" with Russia. This is not the first time the U.S. has complained about an incident involving a RC-135U and a SU-27.  A year ago, a Russian jet flew within 100 feet of a RC-135U over the Sea of Okhotsk in the western Pacific, according to U.S. officials who called it \"one of the most dangerous close passes in decades.\" The Pentagon complained to the Russia military about that incident. Russian and U.S. aircraft often encounter each other, both in Northern Europe as well as the area between the Russian Far East and Alaska. CNN\\'s Steve Brusk and Jamie Crawford contributed to this report.', \"russian fighter jet intercepted a u.s. reconnaissance plane in an `` unsafe '' manner '' . pentagon says the incident occurred in international airspace north of poland . the russian jet flew within 100 feet of a rc-135u over the baltic sea of okhotsk in the western pacific . it was intercepted by a russian su-27 flanker . the united states is complaining about incident involving the incident .\"].\n",
      "Feedback function `groundedness_measure` was renamed to `groundedness_measure_with_cot_reasons`. The new functionality of `groundedness_measure` function will no longer emit reasons as a lower cost option. It may have reduced accuracy due to not using Chain of Thought reasoning in the scoring.\n"
     ]
    },
    {
     "name": "stdout",
     "output_type": "stream",
     "text": [
      "✅ added record record_hash_8214e288ddc4043b21ef35ac555016d7\n",
      "✅ feedback result Mean Absolute Error DONE feedback_result_hash_f003e82ed1cefeba32a6222adaac814c\n"
     ]
    },
    {
     "name": "stderr",
     "output_type": "stream",
     "text": [
      "Unsure what the main input string is for the call to _call with args ['(CNN)After a Russian fighter jet intercepted a U.S. reconnaissance plane in an \"unsafe and unprofessional manner\" earlier this week, the United States is complaining to Moscow about the incident. On Tuesday, a U.S. RC-135U was flying over the Baltic Sea when it was intercepted by a Russian SU-27 Flanker. The Pentagon said the incident occurred in international airspace north of Poland. The U.S. crew believed the Russian pilot\\'s actions were \"unsafe and unprofessional due to the aggressive maneuvers it performed in close proximity to their aircraft and its high rate of speed,\" Pentagon spokesman Mark Wright said. Russian state news agency Sputnik reported the U.S. plane was flying toward the Russian border with its transponder switched off, according to a Defense Ministry spokesman. Maj. Gen. Igor Konashenkov said the Russian jet flew around the U.S. plane several times to identify it and get its tail number. An official with the U.S. European Command said the claim that the transponder was off was false. Wright said the Pentagon and State Department will \"file the appropriate petition through diplomatic channels\" with Russia. This is not the first time the U.S. has complained about an incident involving a RC-135U and a SU-27.  A year ago, a Russian jet flew within 100 feet of a RC-135U over the Sea of Okhotsk in the western Pacific, according to U.S. officials who called it \"one of the most dangerous close passes in decades.\" The Pentagon complained to the Russia military about that incident. Russian and U.S. aircraft often encounter each other, both in Northern Europe as well as the area between the Russian Far East and Alaska. CNN\\'s Steve Brusk and Jamie Crawford contributed to this report.', \"russian fighter jet intercepted a u.s. reconnaissance plane in an `` unsafe '' manner '' . pentagon says the incident occurred in international airspace north of poland . the russian jet flew within 100 feet of a rc-135u over the baltic sea of okhotsk in the western pacific . it was intercepted by a russian su-27 flanker . the united states is complaining about incident involving the incident .\"].\n",
      "Feedback function `groundedness_measure` was renamed to `groundedness_measure_with_cot_reasons`. The new functionality of `groundedness_measure` function will no longer emit reasons as a lower cost option. It may have reduced accuracy due to not using Chain of Thought reasoning in the scoring.\n"
     ]
    },
    {
     "name": "stdout",
     "output_type": "stream",
     "text": [
      "✅ added record record_hash_0737056cfc2587b90e31268bae38f3ef\n",
      "✅ feedback result Mean Absolute Error DONE feedback_result_hash_546ca46b886040882d3d3eb545605ae1\n"
     ]
    },
    {
     "name": "stderr",
     "output_type": "stream",
     "text": [
      "Unsure what the main input string is for the call to _call with args ['(CNN)After a Russian fighter jet intercepted a U.S. reconnaissance plane in an \"unsafe and unprofessional manner\" earlier this week, the United States is complaining to Moscow about the incident. On Tuesday, a U.S. RC-135U was flying over the Baltic Sea when it was intercepted by a Russian SU-27 Flanker. The Pentagon said the incident occurred in international airspace north of Poland. The U.S. crew believed the Russian pilot\\'s actions were \"unsafe and unprofessional due to the aggressive maneuvers it performed in close proximity to their aircraft and its high rate of speed,\" Pentagon spokesman Mark Wright said. Russian state news agency Sputnik reported the U.S. plane was flying toward the Russian border with its transponder switched off, according to a Defense Ministry spokesman. Maj. Gen. Igor Konashenkov said the Russian jet flew around the U.S. plane several times to identify it and get its tail number. An official with the U.S. European Command said the claim that the transponder was off was false. Wright said the Pentagon and State Department will \"file the appropriate petition through diplomatic channels\" with Russia. This is not the first time the U.S. has complained about an incident involving a RC-135U and a SU-27.  A year ago, a Russian jet flew within 100 feet of a RC-135U over the Sea of Okhotsk in the western Pacific, according to U.S. officials who called it \"one of the most dangerous close passes in decades.\" The Pentagon complained to the Russia military about that incident. Russian and U.S. aircraft often encounter each other, both in Northern Europe as well as the area between the Russian Far East and Alaska. CNN\\'s Steve Brusk and Jamie Crawford contributed to this report.', \"russian fighter jet intercepted a u.s. reconnaissance plane in an `` unsafe '' manner '' . pentagon says the incident occurred in international airspace north of poland . the russian jet flew within 100 feet of a rc-135u over the baltic sea of okhotsk in the western pacific . it was intercepted by a russian su-27 flanker . the united states is complaining about incident involving the incident .\"].\n",
      "Feedback function `groundedness_measure` was renamed to `groundedness_measure_with_cot_reasons`. The new functionality of `groundedness_measure` function will no longer emit reasons as a lower cost option. It may have reduced accuracy due to not using Chain of Thought reasoning in the scoring.\n"
     ]
    },
    {
     "name": "stdout",
     "output_type": "stream",
     "text": [
      "✅ added record record_hash_d5e32d62635f59e0f453f36d4e7ab90a\n",
      "✅ feedback result Mean Absolute Error DONE feedback_result_hash_797f90c502e5cfa8df854dc09596ca82\n"
     ]
    },
    {
     "data": {
      "application/vnd.jupyter.widget-view+json": {
       "model_id": "d0c8a06ee7bc4948b330e0b38e7800f3",
       "version_major": 2,
       "version_minor": 0
      },
      "text/plain": [
       "Groundendess per statement in source:   0%|          | 0/9 [00:00<?, ?it/s]"
      ]
     },
     "metadata": {},
     "output_type": "display_data"
    },
    {
     "name": "stderr",
     "output_type": "stream",
     "text": [
      "Unsure what the main input string is for the call to _call with args ['(CNN)After a Russian fighter jet intercepted a U.S. reconnaissance plane in an \"unsafe and unprofessional manner\" earlier this week, the United States is complaining to Moscow about the incident. On Tuesday, a U.S. RC-135U was flying over the Baltic Sea when it was intercepted by a Russian SU-27 Flanker. The Pentagon said the incident occurred in international airspace north of Poland. The U.S. crew believed the Russian pilot\\'s actions were \"unsafe and unprofessional due to the aggressive maneuvers it performed in close proximity to their aircraft and its high rate of speed,\" Pentagon spokesman Mark Wright said. Russian state news agency Sputnik reported the U.S. plane was flying toward the Russian border with its transponder switched off, according to a Defense Ministry spokesman. Maj. Gen. Igor Konashenkov said the Russian jet flew around the U.S. plane several times to identify it and get its tail number. An official with the U.S. European Command said the claim that the transponder was off was false. Wright said the Pentagon and State Department will \"file the appropriate petition through diplomatic channels\" with Russia. This is not the first time the U.S. has complained about an incident involving a RC-135U and a SU-27.  A year ago, a Russian jet flew within 100 feet of a RC-135U over the Sea of Okhotsk in the western Pacific, according to U.S. officials who called it \"one of the most dangerous close passes in decades.\" The Pentagon complained to the Russia military about that incident. Russian and U.S. aircraft often encounter each other, both in Northern Europe as well as the area between the Russian Far East and Alaska. CNN\\'s Steve Brusk and Jamie Crawford contributed to this report.', \"russian fighter jet intercepted a u.s. reconnaissance plane in an `` unsafe and unprofessional manner '' on tuesday , a u.s. rc-135u was flying over the baltic sea when it was intercepted by a russian su-27 flanker . the u.s. crew believed the russian pilot 's actions were `` unsafe and unprofessional due to the aggressive maneuvers it performed in close proximity to their aircraft and its high rate of speed , '' pentagon spokesman says .\"].\n",
      "Feedback function `groundedness_measure` was renamed to `groundedness_measure_with_cot_reasons`. The new functionality of `groundedness_measure` function will no longer emit reasons as a lower cost option. It may have reduced accuracy due to not using Chain of Thought reasoning in the scoring.\n"
     ]
    },
    {
     "name": "stdout",
     "output_type": "stream",
     "text": [
      "✅ added record record_hash_a9d9fb4597525c11e8c0c843a6537563\n",
      "✅ feedback result Mean Absolute Error DONE feedback_result_hash_e3799af288a364acfdd13e072353b5c4\n"
     ]
    },
    {
     "name": "stderr",
     "output_type": "stream",
     "text": [
      "Unsure what the main input string is for the call to _call with args ['(CNN)After a Russian fighter jet intercepted a U.S. reconnaissance plane in an \"unsafe and unprofessional manner\" earlier this week, the United States is complaining to Moscow about the incident. On Tuesday, a U.S. RC-135U was flying over the Baltic Sea when it was intercepted by a Russian SU-27 Flanker. The Pentagon said the incident occurred in international airspace north of Poland. The U.S. crew believed the Russian pilot\\'s actions were \"unsafe and unprofessional due to the aggressive maneuvers it performed in close proximity to their aircraft and its high rate of speed,\" Pentagon spokesman Mark Wright said. Russian state news agency Sputnik reported the U.S. plane was flying toward the Russian border with its transponder switched off, according to a Defense Ministry spokesman. Maj. Gen. Igor Konashenkov said the Russian jet flew around the U.S. plane several times to identify it and get its tail number. An official with the U.S. European Command said the claim that the transponder was off was false. Wright said the Pentagon and State Department will \"file the appropriate petition through diplomatic channels\" with Russia. This is not the first time the U.S. has complained about an incident involving a RC-135U and a SU-27.  A year ago, a Russian jet flew within 100 feet of a RC-135U over the Sea of Okhotsk in the western Pacific, according to U.S. officials who called it \"one of the most dangerous close passes in decades.\" The Pentagon complained to the Russia military about that incident. Russian and U.S. aircraft often encounter each other, both in Northern Europe as well as the area between the Russian Far East and Alaska. CNN\\'s Steve Brusk and Jamie Crawford contributed to this report.', \"russian fighter jet intercepted a u.s. reconnaissance plane in an `` unsafe and unprofessional manner '' on tuesday , a u.s. rc-135u was flying over the baltic sea when it was intercepted by a russian su-27 flanker . the u.s. crew believed the russian pilot 's actions were `` unsafe and unprofessional due to the aggressive maneuvers it performed in close proximity to their aircraft and its high rate of speed , '' pentagon spokesman says .\"].\n",
      "Feedback function `groundedness_measure` was renamed to `groundedness_measure_with_cot_reasons`. The new functionality of `groundedness_measure` function will no longer emit reasons as a lower cost option. It may have reduced accuracy due to not using Chain of Thought reasoning in the scoring.\n"
     ]
    },
    {
     "name": "stdout",
     "output_type": "stream",
     "text": [
      "✅ added record record_hash_139bd6138a62794afcaf3c877300bf02\n",
      "✅ feedback result Mean Absolute Error DONE feedback_result_hash_f2e5919d63c1d952128349be84547b4d\n"
     ]
    },
    {
     "name": "stderr",
     "output_type": "stream",
     "text": [
      "Unsure what the main input string is for the call to _call with args ['(CNN)After a Russian fighter jet intercepted a U.S. reconnaissance plane in an \"unsafe and unprofessional manner\" earlier this week, the United States is complaining to Moscow about the incident. On Tuesday, a U.S. RC-135U was flying over the Baltic Sea when it was intercepted by a Russian SU-27 Flanker. The Pentagon said the incident occurred in international airspace north of Poland. The U.S. crew believed the Russian pilot\\'s actions were \"unsafe and unprofessional due to the aggressive maneuvers it performed in close proximity to their aircraft and its high rate of speed,\" Pentagon spokesman Mark Wright said. Russian state news agency Sputnik reported the U.S. plane was flying toward the Russian border with its transponder switched off, according to a Defense Ministry spokesman. Maj. Gen. Igor Konashenkov said the Russian jet flew around the U.S. plane several times to identify it and get its tail number. An official with the U.S. European Command said the claim that the transponder was off was false. Wright said the Pentagon and State Department will \"file the appropriate petition through diplomatic channels\" with Russia. This is not the first time the U.S. has complained about an incident involving a RC-135U and a SU-27.  A year ago, a Russian jet flew within 100 feet of a RC-135U over the Sea of Okhotsk in the western Pacific, according to U.S. officials who called it \"one of the most dangerous close passes in decades.\" The Pentagon complained to the Russia military about that incident. Russian and U.S. aircraft often encounter each other, both in Northern Europe as well as the area between the Russian Far East and Alaska. CNN\\'s Steve Brusk and Jamie Crawford contributed to this report.', \"russian fighter jet intercepted a u.s. reconnaissance plane in an `` unsafe and unprofessional manner '' on tuesday , a u.s. rc-135u was flying over the baltic sea when it was intercepted by a russian su-27 flanker . the u.s. crew believed the russian pilot 's actions were `` unsafe and unprofessional due to the aggressive maneuvers it performed in close proximity to their aircraft and its high rate of speed , '' pentagon spokesman says .\"].\n",
      "Feedback function `groundedness_measure` was renamed to `groundedness_measure_with_cot_reasons`. The new functionality of `groundedness_measure` function will no longer emit reasons as a lower cost option. It may have reduced accuracy due to not using Chain of Thought reasoning in the scoring.\n"
     ]
    },
    {
     "name": "stdout",
     "output_type": "stream",
     "text": [
      "✅ added record record_hash_84b2a0635eea820059fbd4d25ae7d26e\n",
      "✅ feedback result Mean Absolute Error DONE feedback_result_hash_ab6e1585dac6d299e4525427240c9807\n"
     ]
    },
    {
     "data": {
      "application/vnd.jupyter.widget-view+json": {
       "model_id": "ebaa447616434beb9c9f6d20fd084df5",
       "version_major": 2,
       "version_minor": 0
      },
      "text/plain": [
       "Groundendess per statement in source:   0%|          | 0/11 [00:00<?, ?it/s]"
      ]
     },
     "metadata": {},
     "output_type": "display_data"
    },
    {
     "name": "stderr",
     "output_type": "stream",
     "text": [
      "Unsure what the main input string is for the call to _call with args ['(CNN)After a Russian fighter jet intercepted a U.S. reconnaissance plane in an \"unsafe and unprofessional manner\" earlier this week, the United States is complaining to Moscow about the incident. On Tuesday, a U.S. RC-135U was flying over the Baltic Sea when it was intercepted by a Russian SU-27 Flanker. The Pentagon said the incident occurred in international airspace north of Poland. The U.S. crew believed the Russian pilot\\'s actions were \"unsafe and unprofessional due to the aggressive maneuvers it performed in close proximity to their aircraft and its high rate of speed,\" Pentagon spokesman Mark Wright said. Russian state news agency Sputnik reported the U.S. plane was flying toward the Russian border with its transponder switched off, according to a Defense Ministry spokesman. Maj. Gen. Igor Konashenkov said the Russian jet flew around the U.S. plane several times to identify it and get its tail number. An official with the U.S. European Command said the claim that the transponder was off was false. Wright said the Pentagon and State Department will \"file the appropriate petition through diplomatic channels\" with Russia. This is not the first time the U.S. has complained about an incident involving a RC-135U and a SU-27.  A year ago, a Russian jet flew within 100 feet of a RC-135U over the Sea of Okhotsk in the western Pacific, according to U.S. officials who called it \"one of the most dangerous close passes in decades.\" The Pentagon complained to the Russia military about that incident. Russian and U.S. aircraft often encounter each other, both in Northern Europe as well as the area between the Russian Far East and Alaska. CNN\\'s Steve Brusk and Jamie Crawford contributed to this report.', \"on tuesday , a u.s. rc-135u was flying over the baltic sea when it was intercepted by a russian su-27 flanker . the pentagon said the incident occurred in international airspace north of poland . -lrb- cnn -rrb- after a russian fighter jet intercepted a u.s. reconnaissance plane in an `` unsafe and unprofessional manner '' earlier this week , the united states is complaining to moscow about the incident . an official with the u.s. european command said the claim that the transponder was off was false .\"].\n",
      "Feedback function `groundedness_measure` was renamed to `groundedness_measure_with_cot_reasons`. The new functionality of `groundedness_measure` function will no longer emit reasons as a lower cost option. It may have reduced accuracy due to not using Chain of Thought reasoning in the scoring.\n"
     ]
    },
    {
     "name": "stdout",
     "output_type": "stream",
     "text": [
      "✅ added record record_hash_39f9aaad9d5788f1d4603dd936a73cb6\n",
      "✅ feedback result Mean Absolute Error DONE feedback_result_hash_df96b78c9ec8ced3cb391c364a685f34\n"
     ]
    },
    {
     "name": "stderr",
     "output_type": "stream",
     "text": [
      "Unsure what the main input string is for the call to _call with args ['(CNN)After a Russian fighter jet intercepted a U.S. reconnaissance plane in an \"unsafe and unprofessional manner\" earlier this week, the United States is complaining to Moscow about the incident. On Tuesday, a U.S. RC-135U was flying over the Baltic Sea when it was intercepted by a Russian SU-27 Flanker. The Pentagon said the incident occurred in international airspace north of Poland. The U.S. crew believed the Russian pilot\\'s actions were \"unsafe and unprofessional due to the aggressive maneuvers it performed in close proximity to their aircraft and its high rate of speed,\" Pentagon spokesman Mark Wright said. Russian state news agency Sputnik reported the U.S. plane was flying toward the Russian border with its transponder switched off, according to a Defense Ministry spokesman. Maj. Gen. Igor Konashenkov said the Russian jet flew around the U.S. plane several times to identify it and get its tail number. An official with the U.S. European Command said the claim that the transponder was off was false. Wright said the Pentagon and State Department will \"file the appropriate petition through diplomatic channels\" with Russia. This is not the first time the U.S. has complained about an incident involving a RC-135U and a SU-27.  A year ago, a Russian jet flew within 100 feet of a RC-135U over the Sea of Okhotsk in the western Pacific, according to U.S. officials who called it \"one of the most dangerous close passes in decades.\" The Pentagon complained to the Russia military about that incident. Russian and U.S. aircraft often encounter each other, both in Northern Europe as well as the area between the Russian Far East and Alaska. CNN\\'s Steve Brusk and Jamie Crawford contributed to this report.', \"on tuesday , a u.s. rc-135u was flying over the baltic sea when it was intercepted by a russian su-27 flanker . the pentagon said the incident occurred in international airspace north of poland . -lrb- cnn -rrb- after a russian fighter jet intercepted a u.s. reconnaissance plane in an `` unsafe and unprofessional manner '' earlier this week , the united states is complaining to moscow about the incident . an official with the u.s. european command said the claim that the transponder was off was false .\"].\n",
      "Feedback function `groundedness_measure` was renamed to `groundedness_measure_with_cot_reasons`. The new functionality of `groundedness_measure` function will no longer emit reasons as a lower cost option. It may have reduced accuracy due to not using Chain of Thought reasoning in the scoring.\n"
     ]
    },
    {
     "name": "stdout",
     "output_type": "stream",
     "text": [
      "✅ added record record_hash_b37c964f4b548a78e5ca8fe02ce3c6d7\n",
      "✅ feedback result Mean Absolute Error DONE feedback_result_hash_12a2a2ceaf99f32ddc0588a37295fd0b\n"
     ]
    },
    {
     "name": "stderr",
     "output_type": "stream",
     "text": [
      "Unsure what the main input string is for the call to _call with args ['(CNN)After a Russian fighter jet intercepted a U.S. reconnaissance plane in an \"unsafe and unprofessional manner\" earlier this week, the United States is complaining to Moscow about the incident. On Tuesday, a U.S. RC-135U was flying over the Baltic Sea when it was intercepted by a Russian SU-27 Flanker. The Pentagon said the incident occurred in international airspace north of Poland. The U.S. crew believed the Russian pilot\\'s actions were \"unsafe and unprofessional due to the aggressive maneuvers it performed in close proximity to their aircraft and its high rate of speed,\" Pentagon spokesman Mark Wright said. Russian state news agency Sputnik reported the U.S. plane was flying toward the Russian border with its transponder switched off, according to a Defense Ministry spokesman. Maj. Gen. Igor Konashenkov said the Russian jet flew around the U.S. plane several times to identify it and get its tail number. An official with the U.S. European Command said the claim that the transponder was off was false. Wright said the Pentagon and State Department will \"file the appropriate petition through diplomatic channels\" with Russia. This is not the first time the U.S. has complained about an incident involving a RC-135U and a SU-27.  A year ago, a Russian jet flew within 100 feet of a RC-135U over the Sea of Okhotsk in the western Pacific, according to U.S. officials who called it \"one of the most dangerous close passes in decades.\" The Pentagon complained to the Russia military about that incident. Russian and U.S. aircraft often encounter each other, both in Northern Europe as well as the area between the Russian Far East and Alaska. CNN\\'s Steve Brusk and Jamie Crawford contributed to this report.', \"on tuesday , a u.s. rc-135u was flying over the baltic sea when it was intercepted by a russian su-27 flanker . the pentagon said the incident occurred in international airspace north of poland . -lrb- cnn -rrb- after a russian fighter jet intercepted a u.s. reconnaissance plane in an `` unsafe and unprofessional manner '' earlier this week , the united states is complaining to moscow about the incident . an official with the u.s. european command said the claim that the transponder was off was false .\"].\n",
      "Feedback function `groundedness_measure` was renamed to `groundedness_measure_with_cot_reasons`. The new functionality of `groundedness_measure` function will no longer emit reasons as a lower cost option. It may have reduced accuracy due to not using Chain of Thought reasoning in the scoring.\n"
     ]
    },
    {
     "name": "stdout",
     "output_type": "stream",
     "text": [
      "✅ added record record_hash_20a14d669e1ecf72e685c67fe1baa5dc\n",
      "✅ feedback result Mean Absolute Error DONE feedback_result_hash_55ccee1096b6ac44bc41ec6fafa96c9f\n"
     ]
    },
    {
     "data": {
      "application/vnd.jupyter.widget-view+json": {
       "model_id": "881ba2bcaa3f4140aa03273dd083cff9",
       "version_major": 2,
       "version_minor": 0
      },
      "text/plain": [
       "Groundendess per statement in source:   0%|          | 0/8 [00:00<?, ?it/s]"
      ]
     },
     "metadata": {},
     "output_type": "display_data"
    },
    {
     "name": "stderr",
     "output_type": "stream",
     "text": [
      "Unsure what the main input string is for the call to _call with args ['(CNN)After a Russian fighter jet intercepted a U.S. reconnaissance plane in an \"unsafe and unprofessional manner\" earlier this week, the United States is complaining to Moscow about the incident. On Tuesday, a U.S. RC-135U was flying over the Baltic Sea when it was intercepted by a Russian SU-27 Flanker. The Pentagon said the incident occurred in international airspace north of Poland. The U.S. crew believed the Russian pilot\\'s actions were \"unsafe and unprofessional due to the aggressive maneuvers it performed in close proximity to their aircraft and its high rate of speed,\" Pentagon spokesman Mark Wright said. Russian state news agency Sputnik reported the U.S. plane was flying toward the Russian border with its transponder switched off, according to a Defense Ministry spokesman. Maj. Gen. Igor Konashenkov said the Russian jet flew around the U.S. plane several times to identify it and get its tail number. An official with the U.S. European Command said the claim that the transponder was off was false. Wright said the Pentagon and State Department will \"file the appropriate petition through diplomatic channels\" with Russia. This is not the first time the U.S. has complained about an incident involving a RC-135U and a SU-27.  A year ago, a Russian jet flew within 100 feet of a RC-135U over the Sea of Okhotsk in the western Pacific, according to U.S. officials who called it \"one of the most dangerous close passes in decades.\" The Pentagon complained to the Russia military about that incident. Russian and U.S. aircraft often encounter each other, both in Northern Europe as well as the area between the Russian Far East and Alaska. CNN\\'s Steve Brusk and Jamie Crawford contributed to this report.', 'a u.s. rc-135u was flying over the baltic sea when it was intercepted by a russian su-27 flanker . the incident occurred in international airspace north of poland . an official with the u.s. european command said the claim that the transponder was false .'].\n",
      "Feedback function `groundedness_measure` was renamed to `groundedness_measure_with_cot_reasons`. The new functionality of `groundedness_measure` function will no longer emit reasons as a lower cost option. It may have reduced accuracy due to not using Chain of Thought reasoning in the scoring.\n"
     ]
    },
    {
     "name": "stdout",
     "output_type": "stream",
     "text": [
      "✅ added record record_hash_1e239087282b5f0aafecea39f1928f0e\n",
      "✅ feedback result Mean Absolute Error DONE feedback_result_hash_b9e9bac7ff77d201650fc53e925be91c\n"
     ]
    },
    {
     "name": "stderr",
     "output_type": "stream",
     "text": [
      "Unsure what the main input string is for the call to _call with args ['(CNN)After a Russian fighter jet intercepted a U.S. reconnaissance plane in an \"unsafe and unprofessional manner\" earlier this week, the United States is complaining to Moscow about the incident. On Tuesday, a U.S. RC-135U was flying over the Baltic Sea when it was intercepted by a Russian SU-27 Flanker. The Pentagon said the incident occurred in international airspace north of Poland. The U.S. crew believed the Russian pilot\\'s actions were \"unsafe and unprofessional due to the aggressive maneuvers it performed in close proximity to their aircraft and its high rate of speed,\" Pentagon spokesman Mark Wright said. Russian state news agency Sputnik reported the U.S. plane was flying toward the Russian border with its transponder switched off, according to a Defense Ministry spokesman. Maj. Gen. Igor Konashenkov said the Russian jet flew around the U.S. plane several times to identify it and get its tail number. An official with the U.S. European Command said the claim that the transponder was off was false. Wright said the Pentagon and State Department will \"file the appropriate petition through diplomatic channels\" with Russia. This is not the first time the U.S. has complained about an incident involving a RC-135U and a SU-27.  A year ago, a Russian jet flew within 100 feet of a RC-135U over the Sea of Okhotsk in the western Pacific, according to U.S. officials who called it \"one of the most dangerous close passes in decades.\" The Pentagon complained to the Russia military about that incident. Russian and U.S. aircraft often encounter each other, both in Northern Europe as well as the area between the Russian Far East and Alaska. CNN\\'s Steve Brusk and Jamie Crawford contributed to this report.', 'a u.s. rc-135u was flying over the baltic sea when it was intercepted by a russian su-27 flanker . the incident occurred in international airspace north of poland . an official with the u.s. european command said the claim that the transponder was false .'].\n",
      "Feedback function `groundedness_measure` was renamed to `groundedness_measure_with_cot_reasons`. The new functionality of `groundedness_measure` function will no longer emit reasons as a lower cost option. It may have reduced accuracy due to not using Chain of Thought reasoning in the scoring.\n"
     ]
    },
    {
     "name": "stdout",
     "output_type": "stream",
     "text": [
      "✅ added record record_hash_9856bbe57a9d60e4a165cc8a779576d2\n",
      "✅ feedback result Mean Absolute Error DONE feedback_result_hash_3d0bee16622b3f8a585ed67b92c01143\n"
     ]
    },
    {
     "name": "stderr",
     "output_type": "stream",
     "text": [
      "Unsure what the main input string is for the call to _call with args ['(CNN)After a Russian fighter jet intercepted a U.S. reconnaissance plane in an \"unsafe and unprofessional manner\" earlier this week, the United States is complaining to Moscow about the incident. On Tuesday, a U.S. RC-135U was flying over the Baltic Sea when it was intercepted by a Russian SU-27 Flanker. The Pentagon said the incident occurred in international airspace north of Poland. The U.S. crew believed the Russian pilot\\'s actions were \"unsafe and unprofessional due to the aggressive maneuvers it performed in close proximity to their aircraft and its high rate of speed,\" Pentagon spokesman Mark Wright said. Russian state news agency Sputnik reported the U.S. plane was flying toward the Russian border with its transponder switched off, according to a Defense Ministry spokesman. Maj. Gen. Igor Konashenkov said the Russian jet flew around the U.S. plane several times to identify it and get its tail number. An official with the U.S. European Command said the claim that the transponder was off was false. Wright said the Pentagon and State Department will \"file the appropriate petition through diplomatic channels\" with Russia. This is not the first time the U.S. has complained about an incident involving a RC-135U and a SU-27.  A year ago, a Russian jet flew within 100 feet of a RC-135U over the Sea of Okhotsk in the western Pacific, according to U.S. officials who called it \"one of the most dangerous close passes in decades.\" The Pentagon complained to the Russia military about that incident. Russian and U.S. aircraft often encounter each other, both in Northern Europe as well as the area between the Russian Far East and Alaska. CNN\\'s Steve Brusk and Jamie Crawford contributed to this report.', 'a u.s. rc-135u was flying over the baltic sea when it was intercepted by a russian su-27 flanker . the incident occurred in international airspace north of poland . an official with the u.s. european command said the claim that the transponder was false .'].\n",
      "Feedback function `groundedness_measure` was renamed to `groundedness_measure_with_cot_reasons`. The new functionality of `groundedness_measure` function will no longer emit reasons as a lower cost option. It may have reduced accuracy due to not using Chain of Thought reasoning in the scoring.\n"
     ]
    },
    {
     "name": "stdout",
     "output_type": "stream",
     "text": [
      "✅ added record record_hash_ad58db827fd18ca9749d31b23bea9746\n",
      "✅ feedback result Mean Absolute Error DONE feedback_result_hash_e746895600d4c34ed0c2611126120a80\n"
     ]
    },
    {
     "data": {
      "application/vnd.jupyter.widget-view+json": {
       "model_id": "e7793a482fe64844952cdec6df46e02f",
       "version_major": 2,
       "version_minor": 0
      },
      "text/plain": [
       "Groundendess per statement in source:   0%|          | 0/7 [00:00<?, ?it/s]"
      ]
     },
     "metadata": {},
     "output_type": "display_data"
    },
    {
     "name": "stderr",
     "output_type": "stream",
     "text": [
      "Unsure what the main input string is for the call to _call with args ['(CNN)After a Russian fighter jet intercepted a U.S. reconnaissance plane in an \"unsafe and unprofessional manner\" earlier this week, the United States is complaining to Moscow about the incident. On Tuesday, a U.S. RC-135U was flying over the Baltic Sea when it was intercepted by a Russian SU-27 Flanker. The Pentagon said the incident occurred in international airspace north of Poland. The U.S. crew believed the Russian pilot\\'s actions were \"unsafe and unprofessional due to the aggressive maneuvers it performed in close proximity to their aircraft and its high rate of speed,\" Pentagon spokesman Mark Wright said. Russian state news agency Sputnik reported the U.S. plane was flying toward the Russian border with its transponder switched off, according to a Defense Ministry spokesman. Maj. Gen. Igor Konashenkov said the Russian jet flew around the U.S. plane several times to identify it and get its tail number. An official with the U.S. European Command said the claim that the transponder was off was false. Wright said the Pentagon and State Department will \"file the appropriate petition through diplomatic channels\" with Russia. This is not the first time the U.S. has complained about an incident involving a RC-135U and a SU-27.  A year ago, a Russian jet flew within 100 feet of a RC-135U over the Sea of Okhotsk in the western Pacific, according to U.S. officials who called it \"one of the most dangerous close passes in decades.\" The Pentagon complained to the Russia military about that incident. Russian and U.S. aircraft often encounter each other, both in Northern Europe as well as the area between the Russian Far East and Alaska. CNN\\'s Steve Brusk and Jamie Crawford contributed to this report.', \"a russian fighter jet intercepted a u.s. reconnaissance plane in an `` unsafe and unprofessional manner '' earlier this week , the united states is complaining to moscow about the incident . on tuesday , a u.s. rc-135u was flying over the baltic sea when it was intercepted by a russian su-27 flanker .\"].\n",
      "Feedback function `groundedness_measure` was renamed to `groundedness_measure_with_cot_reasons`. The new functionality of `groundedness_measure` function will no longer emit reasons as a lower cost option. It may have reduced accuracy due to not using Chain of Thought reasoning in the scoring.\n"
     ]
    },
    {
     "name": "stdout",
     "output_type": "stream",
     "text": [
      "✅ added record record_hash_8f51e69da04f0ed050e35fbb39932120\n",
      "✅ feedback result Mean Absolute Error DONE feedback_result_hash_eefb595e125509bf69e7a33dedd0f4b0\n"
     ]
    },
    {
     "name": "stderr",
     "output_type": "stream",
     "text": [
      "Unsure what the main input string is for the call to _call with args ['(CNN)After a Russian fighter jet intercepted a U.S. reconnaissance plane in an \"unsafe and unprofessional manner\" earlier this week, the United States is complaining to Moscow about the incident. On Tuesday, a U.S. RC-135U was flying over the Baltic Sea when it was intercepted by a Russian SU-27 Flanker. The Pentagon said the incident occurred in international airspace north of Poland. The U.S. crew believed the Russian pilot\\'s actions were \"unsafe and unprofessional due to the aggressive maneuvers it performed in close proximity to their aircraft and its high rate of speed,\" Pentagon spokesman Mark Wright said. Russian state news agency Sputnik reported the U.S. plane was flying toward the Russian border with its transponder switched off, according to a Defense Ministry spokesman. Maj. Gen. Igor Konashenkov said the Russian jet flew around the U.S. plane several times to identify it and get its tail number. An official with the U.S. European Command said the claim that the transponder was off was false. Wright said the Pentagon and State Department will \"file the appropriate petition through diplomatic channels\" with Russia. This is not the first time the U.S. has complained about an incident involving a RC-135U and a SU-27.  A year ago, a Russian jet flew within 100 feet of a RC-135U over the Sea of Okhotsk in the western Pacific, according to U.S. officials who called it \"one of the most dangerous close passes in decades.\" The Pentagon complained to the Russia military about that incident. Russian and U.S. aircraft often encounter each other, both in Northern Europe as well as the area between the Russian Far East and Alaska. CNN\\'s Steve Brusk and Jamie Crawford contributed to this report.', \"a russian fighter jet intercepted a u.s. reconnaissance plane in an `` unsafe and unprofessional manner '' earlier this week , the united states is complaining to moscow about the incident . on tuesday , a u.s. rc-135u was flying over the baltic sea when it was intercepted by a russian su-27 flanker .\"].\n",
      "Feedback function `groundedness_measure` was renamed to `groundedness_measure_with_cot_reasons`. The new functionality of `groundedness_measure` function will no longer emit reasons as a lower cost option. It may have reduced accuracy due to not using Chain of Thought reasoning in the scoring.\n"
     ]
    },
    {
     "name": "stdout",
     "output_type": "stream",
     "text": [
      "✅ added record record_hash_a5b06d59003a52978b30f171e5b9ed86\n",
      "✅ feedback result Mean Absolute Error DONE feedback_result_hash_7213fee196fc6f3aff47ae4e63c1afe1\n"
     ]
    },
    {
     "name": "stderr",
     "output_type": "stream",
     "text": [
      "Unsure what the main input string is for the call to _call with args ['(CNN)After a Russian fighter jet intercepted a U.S. reconnaissance plane in an \"unsafe and unprofessional manner\" earlier this week, the United States is complaining to Moscow about the incident. On Tuesday, a U.S. RC-135U was flying over the Baltic Sea when it was intercepted by a Russian SU-27 Flanker. The Pentagon said the incident occurred in international airspace north of Poland. The U.S. crew believed the Russian pilot\\'s actions were \"unsafe and unprofessional due to the aggressive maneuvers it performed in close proximity to their aircraft and its high rate of speed,\" Pentagon spokesman Mark Wright said. Russian state news agency Sputnik reported the U.S. plane was flying toward the Russian border with its transponder switched off, according to a Defense Ministry spokesman. Maj. Gen. Igor Konashenkov said the Russian jet flew around the U.S. plane several times to identify it and get its tail number. An official with the U.S. European Command said the claim that the transponder was off was false. Wright said the Pentagon and State Department will \"file the appropriate petition through diplomatic channels\" with Russia. This is not the first time the U.S. has complained about an incident involving a RC-135U and a SU-27.  A year ago, a Russian jet flew within 100 feet of a RC-135U over the Sea of Okhotsk in the western Pacific, according to U.S. officials who called it \"one of the most dangerous close passes in decades.\" The Pentagon complained to the Russia military about that incident. Russian and U.S. aircraft often encounter each other, both in Northern Europe as well as the area between the Russian Far East and Alaska. CNN\\'s Steve Brusk and Jamie Crawford contributed to this report.', \"a russian fighter jet intercepted a u.s. reconnaissance plane in an `` unsafe and unprofessional manner '' earlier this week , the united states is complaining to moscow about the incident . on tuesday , a u.s. rc-135u was flying over the baltic sea when it was intercepted by a russian su-27 flanker .\"].\n",
      "Feedback function `groundedness_measure` was renamed to `groundedness_measure_with_cot_reasons`. The new functionality of `groundedness_measure` function will no longer emit reasons as a lower cost option. It may have reduced accuracy due to not using Chain of Thought reasoning in the scoring.\n"
     ]
    },
    {
     "name": "stdout",
     "output_type": "stream",
     "text": [
      "✅ added record record_hash_9e29c3a14c5416c84d85372cff2fb627\n",
      "✅ feedback result Mean Absolute Error DONE feedback_result_hash_6e9f0f28f863c8b8211fe28d8c7c6821\n"
     ]
    },
    {
     "data": {
      "application/vnd.jupyter.widget-view+json": {
       "model_id": "c670c6353c254d428b29aa3c51b65e3f",
       "version_major": 2,
       "version_minor": 0
      },
      "text/plain": [
       "Groundendess per statement in source:   0%|          | 0/8 [00:00<?, ?it/s]"
      ]
     },
     "metadata": {},
     "output_type": "display_data"
    },
    {
     "name": "stderr",
     "output_type": "stream",
     "text": [
      "Unsure what the main input string is for the call to _call with args ['(CNN)After a Russian fighter jet intercepted a U.S. reconnaissance plane in an \"unsafe and unprofessional manner\" earlier this week, the United States is complaining to Moscow about the incident. On Tuesday, a U.S. RC-135U was flying over the Baltic Sea when it was intercepted by a Russian SU-27 Flanker. The Pentagon said the incident occurred in international airspace north of Poland. The U.S. crew believed the Russian pilot\\'s actions were \"unsafe and unprofessional due to the aggressive maneuvers it performed in close proximity to their aircraft and its high rate of speed,\" Pentagon spokesman Mark Wright said. Russian state news agency Sputnik reported the U.S. plane was flying toward the Russian border with its transponder switched off, according to a Defense Ministry spokesman. Maj. Gen. Igor Konashenkov said the Russian jet flew around the U.S. plane several times to identify it and get its tail number. An official with the U.S. European Command said the claim that the transponder was off was false. Wright said the Pentagon and State Department will \"file the appropriate petition through diplomatic channels\" with Russia. This is not the first time the U.S. has complained about an incident involving a RC-135U and a SU-27.  A year ago, a Russian jet flew within 100 feet of a RC-135U over the Sea of Okhotsk in the western Pacific, according to U.S. officials who called it \"one of the most dangerous close passes in decades.\" The Pentagon complained to the Russia military about that incident. Russian and U.S. aircraft often encounter each other, both in Northern Europe as well as the area between the Russian Far East and Alaska. CNN\\'s Steve Brusk and Jamie Crawford contributed to this report.', \"russian fighter jet intercepted a u.s. reconnaissance plane in an `` unsafe and unprofessional manner '' earlier this week , the united states is complaining to moscow about the incident . the pentagon said the incident occurred in international airspace north of poland . russian state news agency sputnik reported the u.s. plane was flying toward the russian border with its transponder switched off .\"].\n",
      "Feedback function `groundedness_measure` was renamed to `groundedness_measure_with_cot_reasons`. The new functionality of `groundedness_measure` function will no longer emit reasons as a lower cost option. It may have reduced accuracy due to not using Chain of Thought reasoning in the scoring.\n"
     ]
    },
    {
     "name": "stdout",
     "output_type": "stream",
     "text": [
      "✅ added record record_hash_55bc5e420e7cb20f38fabc9df0c35c24\n",
      "✅ feedback result Mean Absolute Error DONE feedback_result_hash_ab29e038269db024fbbe4c9ba2356f5f\n"
     ]
    },
    {
     "name": "stderr",
     "output_type": "stream",
     "text": [
      "Unsure what the main input string is for the call to _call with args ['(CNN)After a Russian fighter jet intercepted a U.S. reconnaissance plane in an \"unsafe and unprofessional manner\" earlier this week, the United States is complaining to Moscow about the incident. On Tuesday, a U.S. RC-135U was flying over the Baltic Sea when it was intercepted by a Russian SU-27 Flanker. The Pentagon said the incident occurred in international airspace north of Poland. The U.S. crew believed the Russian pilot\\'s actions were \"unsafe and unprofessional due to the aggressive maneuvers it performed in close proximity to their aircraft and its high rate of speed,\" Pentagon spokesman Mark Wright said. Russian state news agency Sputnik reported the U.S. plane was flying toward the Russian border with its transponder switched off, according to a Defense Ministry spokesman. Maj. Gen. Igor Konashenkov said the Russian jet flew around the U.S. plane several times to identify it and get its tail number. An official with the U.S. European Command said the claim that the transponder was off was false. Wright said the Pentagon and State Department will \"file the appropriate petition through diplomatic channels\" with Russia. This is not the first time the U.S. has complained about an incident involving a RC-135U and a SU-27.  A year ago, a Russian jet flew within 100 feet of a RC-135U over the Sea of Okhotsk in the western Pacific, according to U.S. officials who called it \"one of the most dangerous close passes in decades.\" The Pentagon complained to the Russia military about that incident. Russian and U.S. aircraft often encounter each other, both in Northern Europe as well as the area between the Russian Far East and Alaska. CNN\\'s Steve Brusk and Jamie Crawford contributed to this report.', \"russian fighter jet intercepted a u.s. reconnaissance plane in an `` unsafe and unprofessional manner '' earlier this week , the united states is complaining to moscow about the incident . the pentagon said the incident occurred in international airspace north of poland . russian state news agency sputnik reported the u.s. plane was flying toward the russian border with its transponder switched off .\"].\n",
      "Feedback function `groundedness_measure` was renamed to `groundedness_measure_with_cot_reasons`. The new functionality of `groundedness_measure` function will no longer emit reasons as a lower cost option. It may have reduced accuracy due to not using Chain of Thought reasoning in the scoring.\n"
     ]
    },
    {
     "name": "stdout",
     "output_type": "stream",
     "text": [
      "✅ added record record_hash_4c0dc691bf0e7cc665e5c439b0869f2e\n",
      "✅ feedback result Mean Absolute Error DONE feedback_result_hash_88be75009cfbe41cffbc16dc14c714ea\n"
     ]
    },
    {
     "name": "stderr",
     "output_type": "stream",
     "text": [
      "Unsure what the main input string is for the call to _call with args ['(CNN)After a Russian fighter jet intercepted a U.S. reconnaissance plane in an \"unsafe and unprofessional manner\" earlier this week, the United States is complaining to Moscow about the incident. On Tuesday, a U.S. RC-135U was flying over the Baltic Sea when it was intercepted by a Russian SU-27 Flanker. The Pentagon said the incident occurred in international airspace north of Poland. The U.S. crew believed the Russian pilot\\'s actions were \"unsafe and unprofessional due to the aggressive maneuvers it performed in close proximity to their aircraft and its high rate of speed,\" Pentagon spokesman Mark Wright said. Russian state news agency Sputnik reported the U.S. plane was flying toward the Russian border with its transponder switched off, according to a Defense Ministry spokesman. Maj. Gen. Igor Konashenkov said the Russian jet flew around the U.S. plane several times to identify it and get its tail number. An official with the U.S. European Command said the claim that the transponder was off was false. Wright said the Pentagon and State Department will \"file the appropriate petition through diplomatic channels\" with Russia. This is not the first time the U.S. has complained about an incident involving a RC-135U and a SU-27.  A year ago, a Russian jet flew within 100 feet of a RC-135U over the Sea of Okhotsk in the western Pacific, according to U.S. officials who called it \"one of the most dangerous close passes in decades.\" The Pentagon complained to the Russia military about that incident. Russian and U.S. aircraft often encounter each other, both in Northern Europe as well as the area between the Russian Far East and Alaska. CNN\\'s Steve Brusk and Jamie Crawford contributed to this report.', \"russian fighter jet intercepted a u.s. reconnaissance plane in an `` unsafe and unprofessional manner '' earlier this week , the united states is complaining to moscow about the incident . the pentagon said the incident occurred in international airspace north of poland . russian state news agency sputnik reported the u.s. plane was flying toward the russian border with its transponder switched off .\"].\n",
      "Feedback function `groundedness_measure` was renamed to `groundedness_measure_with_cot_reasons`. The new functionality of `groundedness_measure` function will no longer emit reasons as a lower cost option. It may have reduced accuracy due to not using Chain of Thought reasoning in the scoring.\n"
     ]
    },
    {
     "name": "stdout",
     "output_type": "stream",
     "text": [
      "✅ added record record_hash_fbcc2765b6f36fe062a8766e3c0e5da4\n",
      "✅ feedback result Mean Absolute Error DONE feedback_result_hash_6b98b4ab113ac38a4fb2f27293abd51d\n"
     ]
    },
    {
     "data": {
      "application/vnd.jupyter.widget-view+json": {
       "model_id": "a34018c7b12b406ca0bdb618cd0bee2b",
       "version_major": 2,
       "version_minor": 0
      },
      "text/plain": [
       "Groundendess per statement in source:   0%|          | 0/8 [00:00<?, ?it/s]"
      ]
     },
     "metadata": {},
     "output_type": "display_data"
    },
    {
     "name": "stderr",
     "output_type": "stream",
     "text": [
      "Unsure what the main input string is for the call to _call with args ['(CNN)After a Russian fighter jet intercepted a U.S. reconnaissance plane in an \"unsafe and unprofessional manner\" earlier this week, the United States is complaining to Moscow about the incident. On Tuesday, a U.S. RC-135U was flying over the Baltic Sea when it was intercepted by a Russian SU-27 Flanker. The Pentagon said the incident occurred in international airspace north of Poland. The U.S. crew believed the Russian pilot\\'s actions were \"unsafe and unprofessional due to the aggressive maneuvers it performed in close proximity to their aircraft and its high rate of speed,\" Pentagon spokesman Mark Wright said. Russian state news agency Sputnik reported the U.S. plane was flying toward the Russian border with its transponder switched off, according to a Defense Ministry spokesman. Maj. Gen. Igor Konashenkov said the Russian jet flew around the U.S. plane several times to identify it and get its tail number. An official with the U.S. European Command said the claim that the transponder was off was false. Wright said the Pentagon and State Department will \"file the appropriate petition through diplomatic channels\" with Russia. This is not the first time the U.S. has complained about an incident involving a RC-135U and a SU-27.  A year ago, a Russian jet flew within 100 feet of a RC-135U over the Sea of Okhotsk in the western Pacific, according to U.S. officials who called it \"one of the most dangerous close passes in decades.\" The Pentagon complained to the Russia military about that incident. Russian and U.S. aircraft often encounter each other, both in Northern Europe as well as the area between the Russian Far East and Alaska. CNN\\'s Steve Brusk and Jamie Crawford contributed to this report.', '( cnn ) after a russian fighter jet intercepted a u.s. reconnaissance plane in an \" unsafe and unprofessional manner \" earlier this week , the united states is complaining to moscow about the incident . on tuesday , a u.s. rc - 135u was flying over the baltic sea when it was intercepted by a russian su - 27 flanker . the pentagon said the incident occurred in international airspace north of poland .'].\n",
      "Feedback function `groundedness_measure` was renamed to `groundedness_measure_with_cot_reasons`. The new functionality of `groundedness_measure` function will no longer emit reasons as a lower cost option. It may have reduced accuracy due to not using Chain of Thought reasoning in the scoring.\n"
     ]
    },
    {
     "name": "stdout",
     "output_type": "stream",
     "text": [
      "✅ added record record_hash_e1f6f42e1ad64cd3f2a0db34b4a81459\n",
      "✅ feedback result Mean Absolute Error DONE feedback_result_hash_aaf20571a7f5a00b1adc8c630a53e1c0\n"
     ]
    },
    {
     "name": "stderr",
     "output_type": "stream",
     "text": [
      "Unsure what the main input string is for the call to _call with args ['(CNN)After a Russian fighter jet intercepted a U.S. reconnaissance plane in an \"unsafe and unprofessional manner\" earlier this week, the United States is complaining to Moscow about the incident. On Tuesday, a U.S. RC-135U was flying over the Baltic Sea when it was intercepted by a Russian SU-27 Flanker. The Pentagon said the incident occurred in international airspace north of Poland. The U.S. crew believed the Russian pilot\\'s actions were \"unsafe and unprofessional due to the aggressive maneuvers it performed in close proximity to their aircraft and its high rate of speed,\" Pentagon spokesman Mark Wright said. Russian state news agency Sputnik reported the U.S. plane was flying toward the Russian border with its transponder switched off, according to a Defense Ministry spokesman. Maj. Gen. Igor Konashenkov said the Russian jet flew around the U.S. plane several times to identify it and get its tail number. An official with the U.S. European Command said the claim that the transponder was off was false. Wright said the Pentagon and State Department will \"file the appropriate petition through diplomatic channels\" with Russia. This is not the first time the U.S. has complained about an incident involving a RC-135U and a SU-27.  A year ago, a Russian jet flew within 100 feet of a RC-135U over the Sea of Okhotsk in the western Pacific, according to U.S. officials who called it \"one of the most dangerous close passes in decades.\" The Pentagon complained to the Russia military about that incident. Russian and U.S. aircraft often encounter each other, both in Northern Europe as well as the area between the Russian Far East and Alaska. CNN\\'s Steve Brusk and Jamie Crawford contributed to this report.', '( cnn ) after a russian fighter jet intercepted a u.s. reconnaissance plane in an \" unsafe and unprofessional manner \" earlier this week , the united states is complaining to moscow about the incident . on tuesday , a u.s. rc - 135u was flying over the baltic sea when it was intercepted by a russian su - 27 flanker . the pentagon said the incident occurred in international airspace north of poland .'].\n",
      "Feedback function `groundedness_measure` was renamed to `groundedness_measure_with_cot_reasons`. The new functionality of `groundedness_measure` function will no longer emit reasons as a lower cost option. It may have reduced accuracy due to not using Chain of Thought reasoning in the scoring.\n"
     ]
    },
    {
     "name": "stdout",
     "output_type": "stream",
     "text": [
      "✅ added record record_hash_3898e1f22c1570edbd6dd23916fd4566\n",
      "✅ feedback result Mean Absolute Error DONE feedback_result_hash_dbc0b0740cbec07de8a0d0a9ff8d6cd8\n"
     ]
    },
    {
     "name": "stderr",
     "output_type": "stream",
     "text": [
      "Unsure what the main input string is for the call to _call with args ['(CNN)After a Russian fighter jet intercepted a U.S. reconnaissance plane in an \"unsafe and unprofessional manner\" earlier this week, the United States is complaining to Moscow about the incident. On Tuesday, a U.S. RC-135U was flying over the Baltic Sea when it was intercepted by a Russian SU-27 Flanker. The Pentagon said the incident occurred in international airspace north of Poland. The U.S. crew believed the Russian pilot\\'s actions were \"unsafe and unprofessional due to the aggressive maneuvers it performed in close proximity to their aircraft and its high rate of speed,\" Pentagon spokesman Mark Wright said. Russian state news agency Sputnik reported the U.S. plane was flying toward the Russian border with its transponder switched off, according to a Defense Ministry spokesman. Maj. Gen. Igor Konashenkov said the Russian jet flew around the U.S. plane several times to identify it and get its tail number. An official with the U.S. European Command said the claim that the transponder was off was false. Wright said the Pentagon and State Department will \"file the appropriate petition through diplomatic channels\" with Russia. This is not the first time the U.S. has complained about an incident involving a RC-135U and a SU-27.  A year ago, a Russian jet flew within 100 feet of a RC-135U over the Sea of Okhotsk in the western Pacific, according to U.S. officials who called it \"one of the most dangerous close passes in decades.\" The Pentagon complained to the Russia military about that incident. Russian and U.S. aircraft often encounter each other, both in Northern Europe as well as the area between the Russian Far East and Alaska. CNN\\'s Steve Brusk and Jamie Crawford contributed to this report.', '( cnn ) after a russian fighter jet intercepted a u.s. reconnaissance plane in an \" unsafe and unprofessional manner \" earlier this week , the united states is complaining to moscow about the incident . on tuesday , a u.s. rc - 135u was flying over the baltic sea when it was intercepted by a russian su - 27 flanker . the pentagon said the incident occurred in international airspace north of poland .'].\n",
      "Feedback function `groundedness_measure` was renamed to `groundedness_measure_with_cot_reasons`. The new functionality of `groundedness_measure` function will no longer emit reasons as a lower cost option. It may have reduced accuracy due to not using Chain of Thought reasoning in the scoring.\n"
     ]
    },
    {
     "name": "stdout",
     "output_type": "stream",
     "text": [
      "✅ added record record_hash_1c57c617294adf6df9dd2a06510c8c8a\n",
      "✅ feedback result Mean Absolute Error DONE feedback_result_hash_4cf08d46421429fb56ee46cec0151046\n"
     ]
    },
    {
     "data": {
      "application/vnd.jupyter.widget-view+json": {
       "model_id": "0c80fea50d3248f68e9f0a2b75b1d2ad",
       "version_major": 2,
       "version_minor": 0
      },
      "text/plain": [
       "Groundendess per statement in source:   0%|          | 0/7 [00:00<?, ?it/s]"
      ]
     },
     "metadata": {},
     "output_type": "display_data"
    },
    {
     "name": "stderr",
     "output_type": "stream",
     "text": [
      "Unsure what the main input string is for the call to _call with args ['(CNN)After a Russian fighter jet intercepted a U.S. reconnaissance plane in an \"unsafe and unprofessional manner\" earlier this week, the United States is complaining to Moscow about the incident. On Tuesday, a U.S. RC-135U was flying over the Baltic Sea when it was intercepted by a Russian SU-27 Flanker. The Pentagon said the incident occurred in international airspace north of Poland. The U.S. crew believed the Russian pilot\\'s actions were \"unsafe and unprofessional due to the aggressive maneuvers it performed in close proximity to their aircraft and its high rate of speed,\" Pentagon spokesman Mark Wright said. Russian state news agency Sputnik reported the U.S. plane was flying toward the Russian border with its transponder switched off, according to a Defense Ministry spokesman. Maj. Gen. Igor Konashenkov said the Russian jet flew around the U.S. plane several times to identify it and get its tail number. An official with the U.S. European Command said the claim that the transponder was off was false. Wright said the Pentagon and State Department will \"file the appropriate petition through diplomatic channels\" with Russia. This is not the first time the U.S. has complained about an incident involving a RC-135U and a SU-27.  A year ago, a Russian jet flew within 100 feet of a RC-135U over the Sea of Okhotsk in the western Pacific, according to U.S. officials who called it \"one of the most dangerous close passes in decades.\" The Pentagon complained to the Russia military about that incident. Russian and U.S. aircraft often encounter each other, both in Northern Europe as well as the area between the Russian Far East and Alaska. CNN\\'s Steve Brusk and Jamie Crawford contributed to this report.', 'a u.s. rc-135u was flying over the baltic sea when it was intercepted by a russian su-27 flanker . the u.s. crew believed the russian pilot\\'s actions were \"unsafe and unprofessional,\" the pentagon says .'].\n",
      "Feedback function `groundedness_measure` was renamed to `groundedness_measure_with_cot_reasons`. The new functionality of `groundedness_measure` function will no longer emit reasons as a lower cost option. It may have reduced accuracy due to not using Chain of Thought reasoning in the scoring.\n"
     ]
    },
    {
     "name": "stdout",
     "output_type": "stream",
     "text": [
      "✅ added record record_hash_b82473ede9644c1528ea9c02b5a0c6f9\n",
      "✅ feedback result Mean Absolute Error DONE feedback_result_hash_b36512e94d41f19eee7a3120d1cbf6e0\n"
     ]
    },
    {
     "name": "stderr",
     "output_type": "stream",
     "text": [
      "Unsure what the main input string is for the call to _call with args ['(CNN)After a Russian fighter jet intercepted a U.S. reconnaissance plane in an \"unsafe and unprofessional manner\" earlier this week, the United States is complaining to Moscow about the incident. On Tuesday, a U.S. RC-135U was flying over the Baltic Sea when it was intercepted by a Russian SU-27 Flanker. The Pentagon said the incident occurred in international airspace north of Poland. The U.S. crew believed the Russian pilot\\'s actions were \"unsafe and unprofessional due to the aggressive maneuvers it performed in close proximity to their aircraft and its high rate of speed,\" Pentagon spokesman Mark Wright said. Russian state news agency Sputnik reported the U.S. plane was flying toward the Russian border with its transponder switched off, according to a Defense Ministry spokesman. Maj. Gen. Igor Konashenkov said the Russian jet flew around the U.S. plane several times to identify it and get its tail number. An official with the U.S. European Command said the claim that the transponder was off was false. Wright said the Pentagon and State Department will \"file the appropriate petition through diplomatic channels\" with Russia. This is not the first time the U.S. has complained about an incident involving a RC-135U and a SU-27.  A year ago, a Russian jet flew within 100 feet of a RC-135U over the Sea of Okhotsk in the western Pacific, according to U.S. officials who called it \"one of the most dangerous close passes in decades.\" The Pentagon complained to the Russia military about that incident. Russian and U.S. aircraft often encounter each other, both in Northern Europe as well as the area between the Russian Far East and Alaska. CNN\\'s Steve Brusk and Jamie Crawford contributed to this report.', 'a u.s. rc-135u was flying over the baltic sea when it was intercepted by a russian su-27 flanker . the u.s. crew believed the russian pilot\\'s actions were \"unsafe and unprofessional,\" the pentagon says .'].\n",
      "Feedback function `groundedness_measure` was renamed to `groundedness_measure_with_cot_reasons`. The new functionality of `groundedness_measure` function will no longer emit reasons as a lower cost option. It may have reduced accuracy due to not using Chain of Thought reasoning in the scoring.\n"
     ]
    },
    {
     "name": "stdout",
     "output_type": "stream",
     "text": [
      "✅ added record record_hash_5eacd309d9fa2fca951e2a75915c09ff\n",
      "✅ feedback result Mean Absolute Error DONE feedback_result_hash_72b57e4d4436f03ce3b1752b78b2d69f\n"
     ]
    },
    {
     "name": "stderr",
     "output_type": "stream",
     "text": [
      "Unsure what the main input string is for the call to _call with args ['(CNN)After a Russian fighter jet intercepted a U.S. reconnaissance plane in an \"unsafe and unprofessional manner\" earlier this week, the United States is complaining to Moscow about the incident. On Tuesday, a U.S. RC-135U was flying over the Baltic Sea when it was intercepted by a Russian SU-27 Flanker. The Pentagon said the incident occurred in international airspace north of Poland. The U.S. crew believed the Russian pilot\\'s actions were \"unsafe and unprofessional due to the aggressive maneuvers it performed in close proximity to their aircraft and its high rate of speed,\" Pentagon spokesman Mark Wright said. Russian state news agency Sputnik reported the U.S. plane was flying toward the Russian border with its transponder switched off, according to a Defense Ministry spokesman. Maj. Gen. Igor Konashenkov said the Russian jet flew around the U.S. plane several times to identify it and get its tail number. An official with the U.S. European Command said the claim that the transponder was off was false. Wright said the Pentagon and State Department will \"file the appropriate petition through diplomatic channels\" with Russia. This is not the first time the U.S. has complained about an incident involving a RC-135U and a SU-27.  A year ago, a Russian jet flew within 100 feet of a RC-135U over the Sea of Okhotsk in the western Pacific, according to U.S. officials who called it \"one of the most dangerous close passes in decades.\" The Pentagon complained to the Russia military about that incident. Russian and U.S. aircraft often encounter each other, both in Northern Europe as well as the area between the Russian Far East and Alaska. CNN\\'s Steve Brusk and Jamie Crawford contributed to this report.', 'a u.s. rc-135u was flying over the baltic sea when it was intercepted by a russian su-27 flanker . the u.s. crew believed the russian pilot\\'s actions were \"unsafe and unprofessional,\" the pentagon says .'].\n",
      "Feedback function `groundedness_measure` was renamed to `groundedness_measure_with_cot_reasons`. The new functionality of `groundedness_measure` function will no longer emit reasons as a lower cost option. It may have reduced accuracy due to not using Chain of Thought reasoning in the scoring.\n"
     ]
    },
    {
     "name": "stdout",
     "output_type": "stream",
     "text": [
      "✅ added record record_hash_3a4424ad4bfccbf9a7ab9aeb21c1850c\n",
      "✅ feedback result Mean Absolute Error DONE feedback_result_hash_46c30e1da289cfefa811803914532d82\n"
     ]
    },
    {
     "data": {
      "application/vnd.jupyter.widget-view+json": {
       "model_id": "636fe96b06154cb48b264232e18e252a",
       "version_major": 2,
       "version_minor": 0
      },
      "text/plain": [
       "Groundendess per statement in source:   0%|          | 0/8 [00:00<?, ?it/s]"
      ]
     },
     "metadata": {},
     "output_type": "display_data"
    },
    {
     "name": "stderr",
     "output_type": "stream",
     "text": [
      "Unsure what the main input string is for the call to _call with args ['(CNN)After a Russian fighter jet intercepted a U.S. reconnaissance plane in an \"unsafe and unprofessional manner\" earlier this week, the United States is complaining to Moscow about the incident. On Tuesday, a U.S. RC-135U was flying over the Baltic Sea when it was intercepted by a Russian SU-27 Flanker. The Pentagon said the incident occurred in international airspace north of Poland. The U.S. crew believed the Russian pilot\\'s actions were \"unsafe and unprofessional due to the aggressive maneuvers it performed in close proximity to their aircraft and its high rate of speed,\" Pentagon spokesman Mark Wright said. Russian state news agency Sputnik reported the U.S. plane was flying toward the Russian border with its transponder switched off, according to a Defense Ministry spokesman. Maj. Gen. Igor Konashenkov said the Russian jet flew around the U.S. plane several times to identify it and get its tail number. An official with the U.S. European Command said the claim that the transponder was off was false. Wright said the Pentagon and State Department will \"file the appropriate petition through diplomatic channels\" with Russia. This is not the first time the U.S. has complained about an incident involving a RC-135U and a SU-27.  A year ago, a Russian jet flew within 100 feet of a RC-135U over the Sea of Okhotsk in the western Pacific, according to U.S. officials who called it \"one of the most dangerous close passes in decades.\" The Pentagon complained to the Russia military about that incident. Russian and U.S. aircraft often encounter each other, both in Northern Europe as well as the area between the Russian Far East and Alaska. CNN\\'s Steve Brusk and Jamie Crawford contributed to this report.', 'The U.S. RC-135U was flying over the Baltic Sea when it was intercepted by a Russian SU-27 Flanker. The Pentagon said the Russian jet flew around the U.S. plane several times to identify it and get its tail number. Read more: http://dailycaller.com/2017/10/29/the-u-s-is-complaining-about-a-russian-fighter-jet-interfering-with'].\n",
      "Feedback function `groundedness_measure` was renamed to `groundedness_measure_with_cot_reasons`. The new functionality of `groundedness_measure` function will no longer emit reasons as a lower cost option. It may have reduced accuracy due to not using Chain of Thought reasoning in the scoring.\n"
     ]
    },
    {
     "name": "stdout",
     "output_type": "stream",
     "text": [
      "✅ added record record_hash_4ff363e6be45654be24138be53869c2c\n",
      "✅ feedback result Mean Absolute Error DONE feedback_result_hash_bc1dccd3dccafa47ed25921285c283d5\n"
     ]
    },
    {
     "name": "stderr",
     "output_type": "stream",
     "text": [
      "Unsure what the main input string is for the call to _call with args ['(CNN)After a Russian fighter jet intercepted a U.S. reconnaissance plane in an \"unsafe and unprofessional manner\" earlier this week, the United States is complaining to Moscow about the incident. On Tuesday, a U.S. RC-135U was flying over the Baltic Sea when it was intercepted by a Russian SU-27 Flanker. The Pentagon said the incident occurred in international airspace north of Poland. The U.S. crew believed the Russian pilot\\'s actions were \"unsafe and unprofessional due to the aggressive maneuvers it performed in close proximity to their aircraft and its high rate of speed,\" Pentagon spokesman Mark Wright said. Russian state news agency Sputnik reported the U.S. plane was flying toward the Russian border with its transponder switched off, according to a Defense Ministry spokesman. Maj. Gen. Igor Konashenkov said the Russian jet flew around the U.S. plane several times to identify it and get its tail number. An official with the U.S. European Command said the claim that the transponder was off was false. Wright said the Pentagon and State Department will \"file the appropriate petition through diplomatic channels\" with Russia. This is not the first time the U.S. has complained about an incident involving a RC-135U and a SU-27.  A year ago, a Russian jet flew within 100 feet of a RC-135U over the Sea of Okhotsk in the western Pacific, according to U.S. officials who called it \"one of the most dangerous close passes in decades.\" The Pentagon complained to the Russia military about that incident. Russian and U.S. aircraft often encounter each other, both in Northern Europe as well as the area between the Russian Far East and Alaska. CNN\\'s Steve Brusk and Jamie Crawford contributed to this report.', 'The U.S. RC-135U was flying over the Baltic Sea when it was intercepted by a Russian SU-27 Flanker. The Pentagon said the Russian jet flew around the U.S. plane several times to identify it and get its tail number. Read more: http://dailycaller.com/2017/10/29/the-u-s-is-complaining-about-a-russian-fighter-jet-interfering-with'].\n",
      "Feedback function `groundedness_measure` was renamed to `groundedness_measure_with_cot_reasons`. The new functionality of `groundedness_measure` function will no longer emit reasons as a lower cost option. It may have reduced accuracy due to not using Chain of Thought reasoning in the scoring.\n"
     ]
    },
    {
     "name": "stdout",
     "output_type": "stream",
     "text": [
      "✅ added record record_hash_2457be359554b9085602e9f323432f32\n",
      "✅ feedback result Mean Absolute Error DONE feedback_result_hash_cd1d95e66c2c6788215a547bdfbdac3c\n"
     ]
    },
    {
     "name": "stderr",
     "output_type": "stream",
     "text": [
      "Unsure what the main input string is for the call to _call with args ['(CNN)After a Russian fighter jet intercepted a U.S. reconnaissance plane in an \"unsafe and unprofessional manner\" earlier this week, the United States is complaining to Moscow about the incident. On Tuesday, a U.S. RC-135U was flying over the Baltic Sea when it was intercepted by a Russian SU-27 Flanker. The Pentagon said the incident occurred in international airspace north of Poland. The U.S. crew believed the Russian pilot\\'s actions were \"unsafe and unprofessional due to the aggressive maneuvers it performed in close proximity to their aircraft and its high rate of speed,\" Pentagon spokesman Mark Wright said. Russian state news agency Sputnik reported the U.S. plane was flying toward the Russian border with its transponder switched off, according to a Defense Ministry spokesman. Maj. Gen. Igor Konashenkov said the Russian jet flew around the U.S. plane several times to identify it and get its tail number. An official with the U.S. European Command said the claim that the transponder was off was false. Wright said the Pentagon and State Department will \"file the appropriate petition through diplomatic channels\" with Russia. This is not the first time the U.S. has complained about an incident involving a RC-135U and a SU-27.  A year ago, a Russian jet flew within 100 feet of a RC-135U over the Sea of Okhotsk in the western Pacific, according to U.S. officials who called it \"one of the most dangerous close passes in decades.\" The Pentagon complained to the Russia military about that incident. Russian and U.S. aircraft often encounter each other, both in Northern Europe as well as the area between the Russian Far East and Alaska. CNN\\'s Steve Brusk and Jamie Crawford contributed to this report.', 'The U.S. RC-135U was flying over the Baltic Sea when it was intercepted by a Russian SU-27 Flanker. The Pentagon said the Russian jet flew around the U.S. plane several times to identify it and get its tail number. Read more: http://dailycaller.com/2017/10/29/the-u-s-is-complaining-about-a-russian-fighter-jet-interfering-with'].\n",
      "Feedback function `groundedness_measure` was renamed to `groundedness_measure_with_cot_reasons`. The new functionality of `groundedness_measure` function will no longer emit reasons as a lower cost option. It may have reduced accuracy due to not using Chain of Thought reasoning in the scoring.\n"
     ]
    },
    {
     "name": "stdout",
     "output_type": "stream",
     "text": [
      "✅ added record record_hash_20608a300ffccb1ee9c2f9e39f08073f\n",
      "✅ feedback result Mean Absolute Error DONE feedback_result_hash_02a1e51d2a05055e5eb7a58f35a658a2\n"
     ]
    },
    {
     "data": {
      "application/vnd.jupyter.widget-view+json": {
       "model_id": "b76b52d7b5764cc39f25b4a0edc7bf6d",
       "version_major": 2,
       "version_minor": 0
      },
      "text/plain": [
       "Groundendess per statement in source:   0%|          | 0/6 [00:00<?, ?it/s]"
      ]
     },
     "metadata": {},
     "output_type": "display_data"
    },
    {
     "name": "stderr",
     "output_type": "stream",
     "text": [
      "Unsure what the main input string is for the call to _call with args ['(CNN)After a Russian fighter jet intercepted a U.S. reconnaissance plane in an \"unsafe and unprofessional manner\" earlier this week, the United States is complaining to Moscow about the incident. On Tuesday, a U.S. RC-135U was flying over the Baltic Sea when it was intercepted by a Russian SU-27 Flanker. The Pentagon said the incident occurred in international airspace north of Poland. The U.S. crew believed the Russian pilot\\'s actions were \"unsafe and unprofessional due to the aggressive maneuvers it performed in close proximity to their aircraft and its high rate of speed,\" Pentagon spokesman Mark Wright said. Russian state news agency Sputnik reported the U.S. plane was flying toward the Russian border with its transponder switched off, according to a Defense Ministry spokesman. Maj. Gen. Igor Konashenkov said the Russian jet flew around the U.S. plane several times to identify it and get its tail number. An official with the U.S. European Command said the claim that the transponder was off was false. Wright said the Pentagon and State Department will \"file the appropriate petition through diplomatic channels\" with Russia. This is not the first time the U.S. has complained about an incident involving a RC-135U and a SU-27.  A year ago, a Russian jet flew within 100 feet of a RC-135U over the Sea of Okhotsk in the western Pacific, according to U.S. officials who called it \"one of the most dangerous close passes in decades.\" The Pentagon complained to the Russia military about that incident. Russian and U.S. aircraft often encounter each other, both in Northern Europe as well as the area between the Russian Far East and Alaska. CNN\\'s Steve Brusk and Jamie Crawford contributed to this report.', 'a u.s. rc-135u was flying over the baltic sea when it was intercepted by a russian su-27 . the u.s. crew believed the russian pilot\\'s actions were \"unsafe and unprofessional\"'].\n",
      "Feedback function `groundedness_measure` was renamed to `groundedness_measure_with_cot_reasons`. The new functionality of `groundedness_measure` function will no longer emit reasons as a lower cost option. It may have reduced accuracy due to not using Chain of Thought reasoning in the scoring.\n"
     ]
    },
    {
     "name": "stdout",
     "output_type": "stream",
     "text": [
      "✅ added record record_hash_7f315caae2f70e87dd28ae88ca4eea7a\n",
      "✅ feedback result Mean Absolute Error DONE feedback_result_hash_41cc21f7eaf037c248e44ffec3764417\n"
     ]
    },
    {
     "name": "stderr",
     "output_type": "stream",
     "text": [
      "Unsure what the main input string is for the call to _call with args ['(CNN)After a Russian fighter jet intercepted a U.S. reconnaissance plane in an \"unsafe and unprofessional manner\" earlier this week, the United States is complaining to Moscow about the incident. On Tuesday, a U.S. RC-135U was flying over the Baltic Sea when it was intercepted by a Russian SU-27 Flanker. The Pentagon said the incident occurred in international airspace north of Poland. The U.S. crew believed the Russian pilot\\'s actions were \"unsafe and unprofessional due to the aggressive maneuvers it performed in close proximity to their aircraft and its high rate of speed,\" Pentagon spokesman Mark Wright said. Russian state news agency Sputnik reported the U.S. plane was flying toward the Russian border with its transponder switched off, according to a Defense Ministry spokesman. Maj. Gen. Igor Konashenkov said the Russian jet flew around the U.S. plane several times to identify it and get its tail number. An official with the U.S. European Command said the claim that the transponder was off was false. Wright said the Pentagon and State Department will \"file the appropriate petition through diplomatic channels\" with Russia. This is not the first time the U.S. has complained about an incident involving a RC-135U and a SU-27.  A year ago, a Russian jet flew within 100 feet of a RC-135U over the Sea of Okhotsk in the western Pacific, according to U.S. officials who called it \"one of the most dangerous close passes in decades.\" The Pentagon complained to the Russia military about that incident. Russian and U.S. aircraft often encounter each other, both in Northern Europe as well as the area between the Russian Far East and Alaska. CNN\\'s Steve Brusk and Jamie Crawford contributed to this report.', 'a u.s. rc-135u was flying over the baltic sea when it was intercepted by a russian su-27 . the u.s. crew believed the russian pilot\\'s actions were \"unsafe and unprofessional\"'].\n",
      "Feedback function `groundedness_measure` was renamed to `groundedness_measure_with_cot_reasons`. The new functionality of `groundedness_measure` function will no longer emit reasons as a lower cost option. It may have reduced accuracy due to not using Chain of Thought reasoning in the scoring.\n"
     ]
    },
    {
     "name": "stdout",
     "output_type": "stream",
     "text": [
      "✅ added record record_hash_232c1614522aadf7d55b332b02f96863\n",
      "✅ feedback result Mean Absolute Error DONE feedback_result_hash_958253ffe3ecc4c4c471d770af71f6c9\n"
     ]
    },
    {
     "name": "stderr",
     "output_type": "stream",
     "text": [
      "Unsure what the main input string is for the call to _call with args ['(CNN)After a Russian fighter jet intercepted a U.S. reconnaissance plane in an \"unsafe and unprofessional manner\" earlier this week, the United States is complaining to Moscow about the incident. On Tuesday, a U.S. RC-135U was flying over the Baltic Sea when it was intercepted by a Russian SU-27 Flanker. The Pentagon said the incident occurred in international airspace north of Poland. The U.S. crew believed the Russian pilot\\'s actions were \"unsafe and unprofessional due to the aggressive maneuvers it performed in close proximity to their aircraft and its high rate of speed,\" Pentagon spokesman Mark Wright said. Russian state news agency Sputnik reported the U.S. plane was flying toward the Russian border with its transponder switched off, according to a Defense Ministry spokesman. Maj. Gen. Igor Konashenkov said the Russian jet flew around the U.S. plane several times to identify it and get its tail number. An official with the U.S. European Command said the claim that the transponder was off was false. Wright said the Pentagon and State Department will \"file the appropriate petition through diplomatic channels\" with Russia. This is not the first time the U.S. has complained about an incident involving a RC-135U and a SU-27.  A year ago, a Russian jet flew within 100 feet of a RC-135U over the Sea of Okhotsk in the western Pacific, according to U.S. officials who called it \"one of the most dangerous close passes in decades.\" The Pentagon complained to the Russia military about that incident. Russian and U.S. aircraft often encounter each other, both in Northern Europe as well as the area between the Russian Far East and Alaska. CNN\\'s Steve Brusk and Jamie Crawford contributed to this report.', 'a u.s. rc-135u was flying over the baltic sea when it was intercepted by a russian su-27 . the u.s. crew believed the russian pilot\\'s actions were \"unsafe and unprofessional\"'].\n",
      "Feedback function `groundedness_measure` was renamed to `groundedness_measure_with_cot_reasons`. The new functionality of `groundedness_measure` function will no longer emit reasons as a lower cost option. It may have reduced accuracy due to not using Chain of Thought reasoning in the scoring.\n"
     ]
    },
    {
     "name": "stdout",
     "output_type": "stream",
     "text": [
      "✅ added record record_hash_804c63fa1af58e1392e9d39f72feace8\n",
      "✅ feedback result Mean Absolute Error DONE feedback_result_hash_aeb74aeda12fb00f72fa30be84eb219e\n"
     ]
    },
    {
     "data": {
      "application/vnd.jupyter.widget-view+json": {
       "model_id": "92704e4c71174a4cbd4a1f2dde7d1ea1",
       "version_major": 2,
       "version_minor": 0
      },
      "text/plain": [
       "Groundendess per statement in source:   0%|          | 0/8 [00:00<?, ?it/s]"
      ]
     },
     "metadata": {},
     "output_type": "display_data"
    },
    {
     "name": "stderr",
     "output_type": "stream",
     "text": [
      "Unsure what the main input string is for the call to _call with args ['(CNN)After a Russian fighter jet intercepted a U.S. reconnaissance plane in an \"unsafe and unprofessional manner\" earlier this week, the United States is complaining to Moscow about the incident. On Tuesday, a U.S. RC-135U was flying over the Baltic Sea when it was intercepted by a Russian SU-27 Flanker. The Pentagon said the incident occurred in international airspace north of Poland. The U.S. crew believed the Russian pilot\\'s actions were \"unsafe and unprofessional due to the aggressive maneuvers it performed in close proximity to their aircraft and its high rate of speed,\" Pentagon spokesman Mark Wright said. Russian state news agency Sputnik reported the U.S. plane was flying toward the Russian border with its transponder switched off, according to a Defense Ministry spokesman. Maj. Gen. Igor Konashenkov said the Russian jet flew around the U.S. plane several times to identify it and get its tail number. An official with the U.S. European Command said the claim that the transponder was off was false. Wright said the Pentagon and State Department will \"file the appropriate petition through diplomatic channels\" with Russia. This is not the first time the U.S. has complained about an incident involving a RC-135U and a SU-27.  A year ago, a Russian jet flew within 100 feet of a RC-135U over the Sea of Okhotsk in the western Pacific, according to U.S. officials who called it \"one of the most dangerous close passes in decades.\" The Pentagon complained to the Russia military about that incident. Russian and U.S. aircraft often encounter each other, both in Northern Europe as well as the area between the Russian Far East and Alaska. CNN\\'s Steve Brusk and Jamie Crawford contributed to this report.', \"-lrb- cnn -rrb- after a russian fighter jet intercepted a u.s. reconnaissance plane in an `` unsafe and unprofessional manner '' earlier this week , the united states is complaining to moscow about the incident . on tuesday , a u.s. rc-135u was flying over the baltic sea when it was intercepted by a russian su-27 flanker . the pentagon said the incident occurred in international airspace north of poland .\"].\n",
      "Feedback function `groundedness_measure` was renamed to `groundedness_measure_with_cot_reasons`. The new functionality of `groundedness_measure` function will no longer emit reasons as a lower cost option. It may have reduced accuracy due to not using Chain of Thought reasoning in the scoring.\n"
     ]
    },
    {
     "name": "stdout",
     "output_type": "stream",
     "text": [
      "✅ added record record_hash_444dd8d8d4da10f3ac5ed4ba153c0059\n",
      "✅ feedback result Mean Absolute Error DONE feedback_result_hash_f1e3b9d9496f5a73d9ba4b39851c5832\n"
     ]
    },
    {
     "name": "stderr",
     "output_type": "stream",
     "text": [
      "Unsure what the main input string is for the call to _call with args ['(CNN)After a Russian fighter jet intercepted a U.S. reconnaissance plane in an \"unsafe and unprofessional manner\" earlier this week, the United States is complaining to Moscow about the incident. On Tuesday, a U.S. RC-135U was flying over the Baltic Sea when it was intercepted by a Russian SU-27 Flanker. The Pentagon said the incident occurred in international airspace north of Poland. The U.S. crew believed the Russian pilot\\'s actions were \"unsafe and unprofessional due to the aggressive maneuvers it performed in close proximity to their aircraft and its high rate of speed,\" Pentagon spokesman Mark Wright said. Russian state news agency Sputnik reported the U.S. plane was flying toward the Russian border with its transponder switched off, according to a Defense Ministry spokesman. Maj. Gen. Igor Konashenkov said the Russian jet flew around the U.S. plane several times to identify it and get its tail number. An official with the U.S. European Command said the claim that the transponder was off was false. Wright said the Pentagon and State Department will \"file the appropriate petition through diplomatic channels\" with Russia. This is not the first time the U.S. has complained about an incident involving a RC-135U and a SU-27.  A year ago, a Russian jet flew within 100 feet of a RC-135U over the Sea of Okhotsk in the western Pacific, according to U.S. officials who called it \"one of the most dangerous close passes in decades.\" The Pentagon complained to the Russia military about that incident. Russian and U.S. aircraft often encounter each other, both in Northern Europe as well as the area between the Russian Far East and Alaska. CNN\\'s Steve Brusk and Jamie Crawford contributed to this report.', \"-lrb- cnn -rrb- after a russian fighter jet intercepted a u.s. reconnaissance plane in an `` unsafe and unprofessional manner '' earlier this week , the united states is complaining to moscow about the incident . on tuesday , a u.s. rc-135u was flying over the baltic sea when it was intercepted by a russian su-27 flanker . the pentagon said the incident occurred in international airspace north of poland .\"].\n",
      "Feedback function `groundedness_measure` was renamed to `groundedness_measure_with_cot_reasons`. The new functionality of `groundedness_measure` function will no longer emit reasons as a lower cost option. It may have reduced accuracy due to not using Chain of Thought reasoning in the scoring.\n"
     ]
    },
    {
     "name": "stdout",
     "output_type": "stream",
     "text": [
      "✅ added record record_hash_e06933a3c1d20631043760ebdaf49c4f\n",
      "✅ feedback result Mean Absolute Error DONE feedback_result_hash_2693b55d6fb6e29070ef3a0fb28b510f\n"
     ]
    },
    {
     "name": "stderr",
     "output_type": "stream",
     "text": [
      "Unsure what the main input string is for the call to _call with args ['(CNN)After a Russian fighter jet intercepted a U.S. reconnaissance plane in an \"unsafe and unprofessional manner\" earlier this week, the United States is complaining to Moscow about the incident. On Tuesday, a U.S. RC-135U was flying over the Baltic Sea when it was intercepted by a Russian SU-27 Flanker. The Pentagon said the incident occurred in international airspace north of Poland. The U.S. crew believed the Russian pilot\\'s actions were \"unsafe and unprofessional due to the aggressive maneuvers it performed in close proximity to their aircraft and its high rate of speed,\" Pentagon spokesman Mark Wright said. Russian state news agency Sputnik reported the U.S. plane was flying toward the Russian border with its transponder switched off, according to a Defense Ministry spokesman. Maj. Gen. Igor Konashenkov said the Russian jet flew around the U.S. plane several times to identify it and get its tail number. An official with the U.S. European Command said the claim that the transponder was off was false. Wright said the Pentagon and State Department will \"file the appropriate petition through diplomatic channels\" with Russia. This is not the first time the U.S. has complained about an incident involving a RC-135U and a SU-27.  A year ago, a Russian jet flew within 100 feet of a RC-135U over the Sea of Okhotsk in the western Pacific, according to U.S. officials who called it \"one of the most dangerous close passes in decades.\" The Pentagon complained to the Russia military about that incident. Russian and U.S. aircraft often encounter each other, both in Northern Europe as well as the area between the Russian Far East and Alaska. CNN\\'s Steve Brusk and Jamie Crawford contributed to this report.', \"-lrb- cnn -rrb- after a russian fighter jet intercepted a u.s. reconnaissance plane in an `` unsafe and unprofessional manner '' earlier this week , the united states is complaining to moscow about the incident . on tuesday , a u.s. rc-135u was flying over the baltic sea when it was intercepted by a russian su-27 flanker . the pentagon said the incident occurred in international airspace north of poland .\"].\n",
      "Feedback function `groundedness_measure` was renamed to `groundedness_measure_with_cot_reasons`. The new functionality of `groundedness_measure` function will no longer emit reasons as a lower cost option. It may have reduced accuracy due to not using Chain of Thought reasoning in the scoring.\n"
     ]
    },
    {
     "name": "stdout",
     "output_type": "stream",
     "text": [
      "✅ added record record_hash_ab9169c650f65ebe4eee8c611ccac9ad\n",
      "✅ feedback result Mean Absolute Error DONE feedback_result_hash_56b4370b24b6cd8973432b54f5058496\n"
     ]
    },
    {
     "data": {
      "application/vnd.jupyter.widget-view+json": {
       "model_id": "e38e44494d424459b18087c6ea2481a5",
       "version_major": 2,
       "version_minor": 0
      },
      "text/plain": [
       "Groundendess per statement in source:   0%|          | 0/8 [00:00<?, ?it/s]"
      ]
     },
     "metadata": {},
     "output_type": "display_data"
    },
    {
     "name": "stderr",
     "output_type": "stream",
     "text": [
      "Unsure what the main input string is for the call to _call with args ['(CNN)After a Russian fighter jet intercepted a U.S. reconnaissance plane in an \"unsafe and unprofessional manner\" earlier this week, the United States is complaining to Moscow about the incident. On Tuesday, a U.S. RC-135U was flying over the Baltic Sea when it was intercepted by a Russian SU-27 Flanker. The Pentagon said the incident occurred in international airspace north of Poland. The U.S. crew believed the Russian pilot\\'s actions were \"unsafe and unprofessional due to the aggressive maneuvers it performed in close proximity to their aircraft and its high rate of speed,\" Pentagon spokesman Mark Wright said. Russian state news agency Sputnik reported the U.S. plane was flying toward the Russian border with its transponder switched off, according to a Defense Ministry spokesman. Maj. Gen. Igor Konashenkov said the Russian jet flew around the U.S. plane several times to identify it and get its tail number. An official with the U.S. European Command said the claim that the transponder was off was false. Wright said the Pentagon and State Department will \"file the appropriate petition through diplomatic channels\" with Russia. This is not the first time the U.S. has complained about an incident involving a RC-135U and a SU-27.  A year ago, a Russian jet flew within 100 feet of a RC-135U over the Sea of Okhotsk in the western Pacific, according to U.S. officials who called it \"one of the most dangerous close passes in decades.\" The Pentagon complained to the Russia military about that incident. Russian and U.S. aircraft often encounter each other, both in Northern Europe as well as the area between the Russian Far East and Alaska. CNN\\'s Steve Brusk and Jamie Crawford contributed to this report.', \"-lrb- cnn -rrb- after a russian fighter jet intercepted a u.s. reconnaissance plane in an `` unsafe and unprofessional manner '' earlier this week , the united states is complaining to moscow about the incident . on tuesday , a u.s. rc-135u was flying over the baltic sea when it was intercepted by a russian su-27 flanker . the pentagon said the incident occurred in international airspace north of poland .\"].\n",
      "Feedback function `groundedness_measure` was renamed to `groundedness_measure_with_cot_reasons`. The new functionality of `groundedness_measure` function will no longer emit reasons as a lower cost option. It may have reduced accuracy due to not using Chain of Thought reasoning in the scoring.\n"
     ]
    },
    {
     "name": "stdout",
     "output_type": "stream",
     "text": [
      "✅ added record record_hash_d5561f58e3ee89e1af64f3a08e75f283\n",
      "✅ feedback result Mean Absolute Error DONE feedback_result_hash_d5b6fed4ea77c63078a43fe089b31cdc\n"
     ]
    },
    {
     "name": "stderr",
     "output_type": "stream",
     "text": [
      "Unsure what the main input string is for the call to _call with args ['(CNN)After a Russian fighter jet intercepted a U.S. reconnaissance plane in an \"unsafe and unprofessional manner\" earlier this week, the United States is complaining to Moscow about the incident. On Tuesday, a U.S. RC-135U was flying over the Baltic Sea when it was intercepted by a Russian SU-27 Flanker. The Pentagon said the incident occurred in international airspace north of Poland. The U.S. crew believed the Russian pilot\\'s actions were \"unsafe and unprofessional due to the aggressive maneuvers it performed in close proximity to their aircraft and its high rate of speed,\" Pentagon spokesman Mark Wright said. Russian state news agency Sputnik reported the U.S. plane was flying toward the Russian border with its transponder switched off, according to a Defense Ministry spokesman. Maj. Gen. Igor Konashenkov said the Russian jet flew around the U.S. plane several times to identify it and get its tail number. An official with the U.S. European Command said the claim that the transponder was off was false. Wright said the Pentagon and State Department will \"file the appropriate petition through diplomatic channels\" with Russia. This is not the first time the U.S. has complained about an incident involving a RC-135U and a SU-27.  A year ago, a Russian jet flew within 100 feet of a RC-135U over the Sea of Okhotsk in the western Pacific, according to U.S. officials who called it \"one of the most dangerous close passes in decades.\" The Pentagon complained to the Russia military about that incident. Russian and U.S. aircraft often encounter each other, both in Northern Europe as well as the area between the Russian Far East and Alaska. CNN\\'s Steve Brusk and Jamie Crawford contributed to this report.', \"-lrb- cnn -rrb- after a russian fighter jet intercepted a u.s. reconnaissance plane in an `` unsafe and unprofessional manner '' earlier this week , the united states is complaining to moscow about the incident . on tuesday , a u.s. rc-135u was flying over the baltic sea when it was intercepted by a russian su-27 flanker . the pentagon said the incident occurred in international airspace north of poland .\"].\n",
      "Feedback function `groundedness_measure` was renamed to `groundedness_measure_with_cot_reasons`. The new functionality of `groundedness_measure` function will no longer emit reasons as a lower cost option. It may have reduced accuracy due to not using Chain of Thought reasoning in the scoring.\n"
     ]
    },
    {
     "name": "stdout",
     "output_type": "stream",
     "text": [
      "✅ added record record_hash_766005e3d18ad2d3780cf6bb2f335552\n",
      "✅ feedback result Mean Absolute Error DONE feedback_result_hash_3ca2d24cdf9e119b0295ed7e4c21b474\n"
     ]
    },
    {
     "name": "stderr",
     "output_type": "stream",
     "text": [
      "Unsure what the main input string is for the call to _call with args ['(CNN)After a Russian fighter jet intercepted a U.S. reconnaissance plane in an \"unsafe and unprofessional manner\" earlier this week, the United States is complaining to Moscow about the incident. On Tuesday, a U.S. RC-135U was flying over the Baltic Sea when it was intercepted by a Russian SU-27 Flanker. The Pentagon said the incident occurred in international airspace north of Poland. The U.S. crew believed the Russian pilot\\'s actions were \"unsafe and unprofessional due to the aggressive maneuvers it performed in close proximity to their aircraft and its high rate of speed,\" Pentagon spokesman Mark Wright said. Russian state news agency Sputnik reported the U.S. plane was flying toward the Russian border with its transponder switched off, according to a Defense Ministry spokesman. Maj. Gen. Igor Konashenkov said the Russian jet flew around the U.S. plane several times to identify it and get its tail number. An official with the U.S. European Command said the claim that the transponder was off was false. Wright said the Pentagon and State Department will \"file the appropriate petition through diplomatic channels\" with Russia. This is not the first time the U.S. has complained about an incident involving a RC-135U and a SU-27.  A year ago, a Russian jet flew within 100 feet of a RC-135U over the Sea of Okhotsk in the western Pacific, according to U.S. officials who called it \"one of the most dangerous close passes in decades.\" The Pentagon complained to the Russia military about that incident. Russian and U.S. aircraft often encounter each other, both in Northern Europe as well as the area between the Russian Far East and Alaska. CNN\\'s Steve Brusk and Jamie Crawford contributed to this report.', \"-lrb- cnn -rrb- after a russian fighter jet intercepted a u.s. reconnaissance plane in an `` unsafe and unprofessional manner '' earlier this week , the united states is complaining to moscow about the incident . on tuesday , a u.s. rc-135u was flying over the baltic sea when it was intercepted by a russian su-27 flanker . the pentagon said the incident occurred in international airspace north of poland .\"].\n",
      "Feedback function `groundedness_measure` was renamed to `groundedness_measure_with_cot_reasons`. The new functionality of `groundedness_measure` function will no longer emit reasons as a lower cost option. It may have reduced accuracy due to not using Chain of Thought reasoning in the scoring.\n"
     ]
    },
    {
     "name": "stdout",
     "output_type": "stream",
     "text": [
      "✅ added record record_hash_2ca942f5735458681f4b33aff491990f\n",
      "✅ feedback result Mean Absolute Error DONE feedback_result_hash_be6b4ebba9d6feccd3734fe4147434f3\n"
     ]
    },
    {
     "data": {
      "application/vnd.jupyter.widget-view+json": {
       "model_id": "b830e5b80e7c42dfad81027843aa9f55",
       "version_major": 2,
       "version_minor": 0
      },
      "text/plain": [
       "Groundendess per statement in source:   0%|          | 0/5 [00:00<?, ?it/s]"
      ]
     },
     "metadata": {},
     "output_type": "display_data"
    },
    {
     "name": "stderr",
     "output_type": "stream",
     "text": [
      "Unsure what the main input string is for the call to _call with args ['(CNN)After a Russian fighter jet intercepted a U.S. reconnaissance plane in an \"unsafe and unprofessional manner\" earlier this week, the United States is complaining to Moscow about the incident. On Tuesday, a U.S. RC-135U was flying over the Baltic Sea when it was intercepted by a Russian SU-27 Flanker. The Pentagon said the incident occurred in international airspace north of Poland. The U.S. crew believed the Russian pilot\\'s actions were \"unsafe and unprofessional due to the aggressive maneuvers it performed in close proximity to their aircraft and its high rate of speed,\" Pentagon spokesman Mark Wright said. Russian state news agency Sputnik reported the U.S. plane was flying toward the Russian border with its transponder switched off, according to a Defense Ministry spokesman. Maj. Gen. Igor Konashenkov said the Russian jet flew around the U.S. plane several times to identify it and get its tail number. An official with the U.S. European Command said the claim that the transponder was off was false. Wright said the Pentagon and State Department will \"file the appropriate petition through diplomatic channels\" with Russia. This is not the first time the U.S. has complained about an incident involving a RC-135U and a SU-27.  A year ago, a Russian jet flew within 100 feet of a RC-135U over the Sea of Okhotsk in the western Pacific, according to U.S. officials who called it \"one of the most dangerous close passes in decades.\" The Pentagon complained to the Russia military about that incident. Russian and U.S. aircraft often encounter each other, both in Northern Europe as well as the area between the Russian Far East and Alaska. CNN\\'s Steve Brusk and Jamie Crawford contributed to this report.', \"A U.S. RC-135U was flying over the Baltic Sea when it was intercepted by a Russian SU-27 Flanker . The Pentagon says the Russian pilot 's actions were `` unsafe and unprofessional '' A year ago , a Russian jet flew within 100 feet of a RC - 135U .\"].\n",
      "Feedback function `groundedness_measure` was renamed to `groundedness_measure_with_cot_reasons`. The new functionality of `groundedness_measure` function will no longer emit reasons as a lower cost option. It may have reduced accuracy due to not using Chain of Thought reasoning in the scoring.\n"
     ]
    },
    {
     "name": "stdout",
     "output_type": "stream",
     "text": [
      "✅ added record record_hash_0f4e021b59358fea087f0a4f632fd5c3\n",
      "✅ feedback result Mean Absolute Error DONE feedback_result_hash_305376bb9678705304a9c11ae95159d0\n"
     ]
    },
    {
     "name": "stderr",
     "output_type": "stream",
     "text": [
      "Unsure what the main input string is for the call to _call with args ['(CNN)After a Russian fighter jet intercepted a U.S. reconnaissance plane in an \"unsafe and unprofessional manner\" earlier this week, the United States is complaining to Moscow about the incident. On Tuesday, a U.S. RC-135U was flying over the Baltic Sea when it was intercepted by a Russian SU-27 Flanker. The Pentagon said the incident occurred in international airspace north of Poland. The U.S. crew believed the Russian pilot\\'s actions were \"unsafe and unprofessional due to the aggressive maneuvers it performed in close proximity to their aircraft and its high rate of speed,\" Pentagon spokesman Mark Wright said. Russian state news agency Sputnik reported the U.S. plane was flying toward the Russian border with its transponder switched off, according to a Defense Ministry spokesman. Maj. Gen. Igor Konashenkov said the Russian jet flew around the U.S. plane several times to identify it and get its tail number. An official with the U.S. European Command said the claim that the transponder was off was false. Wright said the Pentagon and State Department will \"file the appropriate petition through diplomatic channels\" with Russia. This is not the first time the U.S. has complained about an incident involving a RC-135U and a SU-27.  A year ago, a Russian jet flew within 100 feet of a RC-135U over the Sea of Okhotsk in the western Pacific, according to U.S. officials who called it \"one of the most dangerous close passes in decades.\" The Pentagon complained to the Russia military about that incident. Russian and U.S. aircraft often encounter each other, both in Northern Europe as well as the area between the Russian Far East and Alaska. CNN\\'s Steve Brusk and Jamie Crawford contributed to this report.', \"A U.S. RC-135U was flying over the Baltic Sea when it was intercepted by a Russian SU-27 Flanker . The Pentagon says the Russian pilot 's actions were `` unsafe and unprofessional '' A year ago , a Russian jet flew within 100 feet of a RC - 135U .\"].\n",
      "Feedback function `groundedness_measure` was renamed to `groundedness_measure_with_cot_reasons`. The new functionality of `groundedness_measure` function will no longer emit reasons as a lower cost option. It may have reduced accuracy due to not using Chain of Thought reasoning in the scoring.\n"
     ]
    },
    {
     "name": "stdout",
     "output_type": "stream",
     "text": [
      "✅ added record record_hash_03ee8547da28a1d649814b9142f04a91\n",
      "✅ feedback result Mean Absolute Error DONE feedback_result_hash_287a069795374fbef33f361875b78b0f\n"
     ]
    },
    {
     "name": "stderr",
     "output_type": "stream",
     "text": [
      "Unsure what the main input string is for the call to _call with args ['(CNN)After a Russian fighter jet intercepted a U.S. reconnaissance plane in an \"unsafe and unprofessional manner\" earlier this week, the United States is complaining to Moscow about the incident. On Tuesday, a U.S. RC-135U was flying over the Baltic Sea when it was intercepted by a Russian SU-27 Flanker. The Pentagon said the incident occurred in international airspace north of Poland. The U.S. crew believed the Russian pilot\\'s actions were \"unsafe and unprofessional due to the aggressive maneuvers it performed in close proximity to their aircraft and its high rate of speed,\" Pentagon spokesman Mark Wright said. Russian state news agency Sputnik reported the U.S. plane was flying toward the Russian border with its transponder switched off, according to a Defense Ministry spokesman. Maj. Gen. Igor Konashenkov said the Russian jet flew around the U.S. plane several times to identify it and get its tail number. An official with the U.S. European Command said the claim that the transponder was off was false. Wright said the Pentagon and State Department will \"file the appropriate petition through diplomatic channels\" with Russia. This is not the first time the U.S. has complained about an incident involving a RC-135U and a SU-27.  A year ago, a Russian jet flew within 100 feet of a RC-135U over the Sea of Okhotsk in the western Pacific, according to U.S. officials who called it \"one of the most dangerous close passes in decades.\" The Pentagon complained to the Russia military about that incident. Russian and U.S. aircraft often encounter each other, both in Northern Europe as well as the area between the Russian Far East and Alaska. CNN\\'s Steve Brusk and Jamie Crawford contributed to this report.', \"A U.S. RC-135U was flying over the Baltic Sea when it was intercepted by a Russian SU-27 Flanker . The Pentagon says the Russian pilot 's actions were `` unsafe and unprofessional '' A year ago , a Russian jet flew within 100 feet of a RC - 135U .\"].\n",
      "Feedback function `groundedness_measure` was renamed to `groundedness_measure_with_cot_reasons`. The new functionality of `groundedness_measure` function will no longer emit reasons as a lower cost option. It may have reduced accuracy due to not using Chain of Thought reasoning in the scoring.\n"
     ]
    },
    {
     "name": "stdout",
     "output_type": "stream",
     "text": [
      "✅ added record record_hash_29102eed4f75b856642e7276edc380cb\n",
      "✅ feedback result Mean Absolute Error DONE feedback_result_hash_a87af22930112d68094ffbc13c0123cc\n"
     ]
    },
    {
     "data": {
      "application/vnd.jupyter.widget-view+json": {
       "model_id": "f0614d792574491c93b87421515cc520",
       "version_major": 2,
       "version_minor": 0
      },
      "text/plain": [
       "Groundendess per statement in source:   0%|          | 0/5 [00:00<?, ?it/s]"
      ]
     },
     "metadata": {},
     "output_type": "display_data"
    },
    {
     "name": "stderr",
     "output_type": "stream",
     "text": [
      "Unsure what the main input string is for the call to _call with args ['(CNN)After a Russian fighter jet intercepted a U.S. reconnaissance plane in an \"unsafe and unprofessional manner\" earlier this week, the United States is complaining to Moscow about the incident. On Tuesday, a U.S. RC-135U was flying over the Baltic Sea when it was intercepted by a Russian SU-27 Flanker. The Pentagon said the incident occurred in international airspace north of Poland. The U.S. crew believed the Russian pilot\\'s actions were \"unsafe and unprofessional due to the aggressive maneuvers it performed in close proximity to their aircraft and its high rate of speed,\" Pentagon spokesman Mark Wright said. Russian state news agency Sputnik reported the U.S. plane was flying toward the Russian border with its transponder switched off, according to a Defense Ministry spokesman. Maj. Gen. Igor Konashenkov said the Russian jet flew around the U.S. plane several times to identify it and get its tail number. An official with the U.S. European Command said the claim that the transponder was off was false. Wright said the Pentagon and State Department will \"file the appropriate petition through diplomatic channels\" with Russia. This is not the first time the U.S. has complained about an incident involving a RC-135U and a SU-27.  A year ago, a Russian jet flew within 100 feet of a RC-135U over the Sea of Okhotsk in the western Pacific, according to U.S. officials who called it \"one of the most dangerous close passes in decades.\" The Pentagon complained to the Russia military about that incident. Russian and U.S. aircraft often encounter each other, both in Northern Europe as well as the area between the Russian Far East and Alaska. CNN\\'s Steve Brusk and Jamie Crawford contributed to this report.', \"the incident occurred in international airspace north of poland . the u.s. crew believed the russian pilot 's actions were `` unsafe and unprofessional due to the aggressive maneuvers it performed in close proximity to their aircraft and its high rate of speed '' .\"].\n",
      "Feedback function `groundedness_measure` was renamed to `groundedness_measure_with_cot_reasons`. The new functionality of `groundedness_measure` function will no longer emit reasons as a lower cost option. It may have reduced accuracy due to not using Chain of Thought reasoning in the scoring.\n"
     ]
    },
    {
     "name": "stdout",
     "output_type": "stream",
     "text": [
      "✅ added record record_hash_8704fc9345b6020fc49da014c267059c\n",
      "✅ feedback result Mean Absolute Error DONE feedback_result_hash_540f71ab4dba111152509153659d38e4\n"
     ]
    },
    {
     "name": "stderr",
     "output_type": "stream",
     "text": [
      "Unsure what the main input string is for the call to _call with args ['(CNN)After a Russian fighter jet intercepted a U.S. reconnaissance plane in an \"unsafe and unprofessional manner\" earlier this week, the United States is complaining to Moscow about the incident. On Tuesday, a U.S. RC-135U was flying over the Baltic Sea when it was intercepted by a Russian SU-27 Flanker. The Pentagon said the incident occurred in international airspace north of Poland. The U.S. crew believed the Russian pilot\\'s actions were \"unsafe and unprofessional due to the aggressive maneuvers it performed in close proximity to their aircraft and its high rate of speed,\" Pentagon spokesman Mark Wright said. Russian state news agency Sputnik reported the U.S. plane was flying toward the Russian border with its transponder switched off, according to a Defense Ministry spokesman. Maj. Gen. Igor Konashenkov said the Russian jet flew around the U.S. plane several times to identify it and get its tail number. An official with the U.S. European Command said the claim that the transponder was off was false. Wright said the Pentagon and State Department will \"file the appropriate petition through diplomatic channels\" with Russia. This is not the first time the U.S. has complained about an incident involving a RC-135U and a SU-27.  A year ago, a Russian jet flew within 100 feet of a RC-135U over the Sea of Okhotsk in the western Pacific, according to U.S. officials who called it \"one of the most dangerous close passes in decades.\" The Pentagon complained to the Russia military about that incident. Russian and U.S. aircraft often encounter each other, both in Northern Europe as well as the area between the Russian Far East and Alaska. CNN\\'s Steve Brusk and Jamie Crawford contributed to this report.', \"the incident occurred in international airspace north of poland . the u.s. crew believed the russian pilot 's actions were `` unsafe and unprofessional due to the aggressive maneuvers it performed in close proximity to their aircraft and its high rate of speed '' .\"].\n",
      "Feedback function `groundedness_measure` was renamed to `groundedness_measure_with_cot_reasons`. The new functionality of `groundedness_measure` function will no longer emit reasons as a lower cost option. It may have reduced accuracy due to not using Chain of Thought reasoning in the scoring.\n"
     ]
    },
    {
     "name": "stdout",
     "output_type": "stream",
     "text": [
      "✅ added record record_hash_683f0fc1fdb893e26c6e6c56f2c1000e\n",
      "✅ feedback result Mean Absolute Error DONE feedback_result_hash_d814827fa386f5881524d7ce15d72423\n"
     ]
    },
    {
     "name": "stderr",
     "output_type": "stream",
     "text": [
      "openai request failed <class 'openai.error.APIError'>=HTTP code 502 from API (<html>\n",
      "<head><title>502 Bad Gateway</title></head>\n",
      "<body>\n",
      "<center><h1>502 Bad Gateway</h1></center>\n",
      "<hr><center>cloudflare</center>\n",
      "</body>\n",
      "</html>\n",
      "). Retries remaining=3.\n",
      "Unsure what the main input string is for the call to _call with args ['(CNN)After a Russian fighter jet intercepted a U.S. reconnaissance plane in an \"unsafe and unprofessional manner\" earlier this week, the United States is complaining to Moscow about the incident. On Tuesday, a U.S. RC-135U was flying over the Baltic Sea when it was intercepted by a Russian SU-27 Flanker. The Pentagon said the incident occurred in international airspace north of Poland. The U.S. crew believed the Russian pilot\\'s actions were \"unsafe and unprofessional due to the aggressive maneuvers it performed in close proximity to their aircraft and its high rate of speed,\" Pentagon spokesman Mark Wright said. Russian state news agency Sputnik reported the U.S. plane was flying toward the Russian border with its transponder switched off, according to a Defense Ministry spokesman. Maj. Gen. Igor Konashenkov said the Russian jet flew around the U.S. plane several times to identify it and get its tail number. An official with the U.S. European Command said the claim that the transponder was off was false. Wright said the Pentagon and State Department will \"file the appropriate petition through diplomatic channels\" with Russia. This is not the first time the U.S. has complained about an incident involving a RC-135U and a SU-27.  A year ago, a Russian jet flew within 100 feet of a RC-135U over the Sea of Okhotsk in the western Pacific, according to U.S. officials who called it \"one of the most dangerous close passes in decades.\" The Pentagon complained to the Russia military about that incident. Russian and U.S. aircraft often encounter each other, both in Northern Europe as well as the area between the Russian Far East and Alaska. CNN\\'s Steve Brusk and Jamie Crawford contributed to this report.', \"the incident occurred in international airspace north of poland . the u.s. crew believed the russian pilot 's actions were `` unsafe and unprofessional due to the aggressive maneuvers it performed in close proximity to their aircraft and its high rate of speed '' .\"].\n",
      "Feedback function `groundedness_measure` was renamed to `groundedness_measure_with_cot_reasons`. The new functionality of `groundedness_measure` function will no longer emit reasons as a lower cost option. It may have reduced accuracy due to not using Chain of Thought reasoning in the scoring.\n"
     ]
    },
    {
     "name": "stdout",
     "output_type": "stream",
     "text": [
      "✅ added record record_hash_94df1c015d82ec50fb65c06bafb4311c\n",
      "✅ feedback result Mean Absolute Error DONE feedback_result_hash_16ecc2a544837b924ba868d493608dbd\n"
     ]
    },
    {
     "data": {
      "application/vnd.jupyter.widget-view+json": {
       "model_id": "adb00f865adf42309373dae832e50d8f",
       "version_major": 2,
       "version_minor": 0
      },
      "text/plain": [
       "Groundendess per statement in source:   0%|          | 0/8 [00:00<?, ?it/s]"
      ]
     },
     "metadata": {},
     "output_type": "display_data"
    },
    {
     "name": "stderr",
     "output_type": "stream",
     "text": [
      "Unsure what the main input string is for the call to _call with args ['(CNN)After a Russian fighter jet intercepted a U.S. reconnaissance plane in an \"unsafe and unprofessional manner\" earlier this week, the United States is complaining to Moscow about the incident. On Tuesday, a U.S. RC-135U was flying over the Baltic Sea when it was intercepted by a Russian SU-27 Flanker. The Pentagon said the incident occurred in international airspace north of Poland. The U.S. crew believed the Russian pilot\\'s actions were \"unsafe and unprofessional due to the aggressive maneuvers it performed in close proximity to their aircraft and its high rate of speed,\" Pentagon spokesman Mark Wright said. Russian state news agency Sputnik reported the U.S. plane was flying toward the Russian border with its transponder switched off, according to a Defense Ministry spokesman. Maj. Gen. Igor Konashenkov said the Russian jet flew around the U.S. plane several times to identify it and get its tail number. An official with the U.S. European Command said the claim that the transponder was off was false. Wright said the Pentagon and State Department will \"file the appropriate petition through diplomatic channels\" with Russia. This is not the first time the U.S. has complained about an incident involving a RC-135U and a SU-27.  A year ago, a Russian jet flew within 100 feet of a RC-135U over the Sea of Okhotsk in the western Pacific, according to U.S. officials who called it \"one of the most dangerous close passes in decades.\" The Pentagon complained to the Russia military about that incident. Russian and U.S. aircraft often encounter each other, both in Northern Europe as well as the area between the Russian Far East and Alaska. CNN\\'s Steve Brusk and Jamie Crawford contributed to this report.', \"a u.s. rc-135u was flying over the baltic sea when it was intercepted by a russian flanker . the pentagon said the incident occurred in international airspace north of poland . the u.s. crew believed the russian pilot 's actions were `` unsafe and unprofessional , '' pentagon says .\"].\n",
      "Feedback function `groundedness_measure` was renamed to `groundedness_measure_with_cot_reasons`. The new functionality of `groundedness_measure` function will no longer emit reasons as a lower cost option. It may have reduced accuracy due to not using Chain of Thought reasoning in the scoring.\n"
     ]
    },
    {
     "name": "stdout",
     "output_type": "stream",
     "text": [
      "✅ added record record_hash_a2a4d3c5373ac010c28ba4914a14ff84\n",
      "✅ feedback result Mean Absolute Error DONE feedback_result_hash_97db4e8b746a0ce8e4af59d2cb672c19\n"
     ]
    },
    {
     "name": "stderr",
     "output_type": "stream",
     "text": [
      "Unsure what the main input string is for the call to _call with args ['(CNN)After a Russian fighter jet intercepted a U.S. reconnaissance plane in an \"unsafe and unprofessional manner\" earlier this week, the United States is complaining to Moscow about the incident. On Tuesday, a U.S. RC-135U was flying over the Baltic Sea when it was intercepted by a Russian SU-27 Flanker. The Pentagon said the incident occurred in international airspace north of Poland. The U.S. crew believed the Russian pilot\\'s actions were \"unsafe and unprofessional due to the aggressive maneuvers it performed in close proximity to their aircraft and its high rate of speed,\" Pentagon spokesman Mark Wright said. Russian state news agency Sputnik reported the U.S. plane was flying toward the Russian border with its transponder switched off, according to a Defense Ministry spokesman. Maj. Gen. Igor Konashenkov said the Russian jet flew around the U.S. plane several times to identify it and get its tail number. An official with the U.S. European Command said the claim that the transponder was off was false. Wright said the Pentagon and State Department will \"file the appropriate petition through diplomatic channels\" with Russia. This is not the first time the U.S. has complained about an incident involving a RC-135U and a SU-27.  A year ago, a Russian jet flew within 100 feet of a RC-135U over the Sea of Okhotsk in the western Pacific, according to U.S. officials who called it \"one of the most dangerous close passes in decades.\" The Pentagon complained to the Russia military about that incident. Russian and U.S. aircraft often encounter each other, both in Northern Europe as well as the area between the Russian Far East and Alaska. CNN\\'s Steve Brusk and Jamie Crawford contributed to this report.', \"a u.s. rc-135u was flying over the baltic sea when it was intercepted by a russian flanker . the pentagon said the incident occurred in international airspace north of poland . the u.s. crew believed the russian pilot 's actions were `` unsafe and unprofessional , '' pentagon says .\"].\n",
      "Feedback function `groundedness_measure` was renamed to `groundedness_measure_with_cot_reasons`. The new functionality of `groundedness_measure` function will no longer emit reasons as a lower cost option. It may have reduced accuracy due to not using Chain of Thought reasoning in the scoring.\n"
     ]
    },
    {
     "name": "stdout",
     "output_type": "stream",
     "text": [
      "✅ added record record_hash_5456f3e1813c4d2b0167776c6134b99b\n",
      "✅ feedback result Mean Absolute Error DONE feedback_result_hash_b607858b090ad296934e9bf604ee0b06\n"
     ]
    },
    {
     "name": "stderr",
     "output_type": "stream",
     "text": [
      "Unsure what the main input string is for the call to _call with args ['(CNN)After a Russian fighter jet intercepted a U.S. reconnaissance plane in an \"unsafe and unprofessional manner\" earlier this week, the United States is complaining to Moscow about the incident. On Tuesday, a U.S. RC-135U was flying over the Baltic Sea when it was intercepted by a Russian SU-27 Flanker. The Pentagon said the incident occurred in international airspace north of Poland. The U.S. crew believed the Russian pilot\\'s actions were \"unsafe and unprofessional due to the aggressive maneuvers it performed in close proximity to their aircraft and its high rate of speed,\" Pentagon spokesman Mark Wright said. Russian state news agency Sputnik reported the U.S. plane was flying toward the Russian border with its transponder switched off, according to a Defense Ministry spokesman. Maj. Gen. Igor Konashenkov said the Russian jet flew around the U.S. plane several times to identify it and get its tail number. An official with the U.S. European Command said the claim that the transponder was off was false. Wright said the Pentagon and State Department will \"file the appropriate petition through diplomatic channels\" with Russia. This is not the first time the U.S. has complained about an incident involving a RC-135U and a SU-27.  A year ago, a Russian jet flew within 100 feet of a RC-135U over the Sea of Okhotsk in the western Pacific, according to U.S. officials who called it \"one of the most dangerous close passes in decades.\" The Pentagon complained to the Russia military about that incident. Russian and U.S. aircraft often encounter each other, both in Northern Europe as well as the area between the Russian Far East and Alaska. CNN\\'s Steve Brusk and Jamie Crawford contributed to this report.', \"a u.s. rc-135u was flying over the baltic sea when it was intercepted by a russian flanker . the pentagon said the incident occurred in international airspace north of poland . the u.s. crew believed the russian pilot 's actions were `` unsafe and unprofessional , '' pentagon says .\"].\n",
      "Feedback function `groundedness_measure` was renamed to `groundedness_measure_with_cot_reasons`. The new functionality of `groundedness_measure` function will no longer emit reasons as a lower cost option. It may have reduced accuracy due to not using Chain of Thought reasoning in the scoring.\n"
     ]
    },
    {
     "name": "stdout",
     "output_type": "stream",
     "text": [
      "✅ added record record_hash_746e8e63f4b10e7e01574659328ef140\n",
      "✅ feedback result Mean Absolute Error DONE feedback_result_hash_49817a234490a74a12fd99b8a5b79a40\n"
     ]
    },
    {
     "data": {
      "application/vnd.jupyter.widget-view+json": {
       "model_id": "776f058d2c454d5c841a2e5ab870eabf",
       "version_major": 2,
       "version_minor": 0
      },
      "text/plain": [
       "Groundendess per statement in source:   0%|          | 0/10 [00:00<?, ?it/s]"
      ]
     },
     "metadata": {},
     "output_type": "display_data"
    },
    {
     "name": "stderr",
     "output_type": "stream",
     "text": [
      "Waiting for {'error': 'Model MoritzLaurer/DeBERTa-v3-base-mnli-fever-docnli-ling-2c is currently loading', 'estimated_time': 20.0} (20.0) second(s).\n",
      "Unsure what the main input string is for the call to _call with args ['(CNN)After a Russian fighter jet intercepted a U.S. reconnaissance plane in an \"unsafe and unprofessional manner\" earlier this week, the United States is complaining to Moscow about the incident. On Tuesday, a U.S. RC-135U was flying over the Baltic Sea when it was intercepted by a Russian SU-27 Flanker. The Pentagon said the incident occurred in international airspace north of Poland. The U.S. crew believed the Russian pilot\\'s actions were \"unsafe and unprofessional due to the aggressive maneuvers it performed in close proximity to their aircraft and its high rate of speed,\" Pentagon spokesman Mark Wright said. Russian state news agency Sputnik reported the U.S. plane was flying toward the Russian border with its transponder switched off, according to a Defense Ministry spokesman. Maj. Gen. Igor Konashenkov said the Russian jet flew around the U.S. plane several times to identify it and get its tail number. An official with the U.S. European Command said the claim that the transponder was off was false. Wright said the Pentagon and State Department will \"file the appropriate petition through diplomatic channels\" with Russia. This is not the first time the U.S. has complained about an incident involving a RC-135U and a SU-27.  A year ago, a Russian jet flew within 100 feet of a RC-135U over the Sea of Okhotsk in the western Pacific, according to U.S. officials who called it \"one of the most dangerous close passes in decades.\" The Pentagon complained to the Russia military about that incident. Russian and U.S. aircraft often encounter each other, both in Northern Europe as well as the area between the Russian Far East and Alaska. CNN\\'s Steve Brusk and Jamie Crawford contributed to this report.', \"the united states is complaining to moscow about the incident . u.s. rc-135u was flying over baltic sea when it was intercepted by russian su-27 flanker . u.s. command says the transponder was off was false . the u.s. crew believed the pilot 's actions were `` unsafe and unprofessional due to the aggressive maneuvers ''\"].\n",
      "Feedback function `groundedness_measure` was renamed to `groundedness_measure_with_cot_reasons`. The new functionality of `groundedness_measure` function will no longer emit reasons as a lower cost option. It may have reduced accuracy due to not using Chain of Thought reasoning in the scoring.\n"
     ]
    },
    {
     "name": "stdout",
     "output_type": "stream",
     "text": [
      "✅ added record record_hash_d0d1e57bfc09980678cb60b4f84e8bd7\n",
      "✅ feedback result Mean Absolute Error DONE feedback_result_hash_e4a645ae5ecf6b79b3917db586526183\n"
     ]
    },
    {
     "name": "stderr",
     "output_type": "stream",
     "text": [
      "Unsure what the main input string is for the call to _call with args ['(CNN)After a Russian fighter jet intercepted a U.S. reconnaissance plane in an \"unsafe and unprofessional manner\" earlier this week, the United States is complaining to Moscow about the incident. On Tuesday, a U.S. RC-135U was flying over the Baltic Sea when it was intercepted by a Russian SU-27 Flanker. The Pentagon said the incident occurred in international airspace north of Poland. The U.S. crew believed the Russian pilot\\'s actions were \"unsafe and unprofessional due to the aggressive maneuvers it performed in close proximity to their aircraft and its high rate of speed,\" Pentagon spokesman Mark Wright said. Russian state news agency Sputnik reported the U.S. plane was flying toward the Russian border with its transponder switched off, according to a Defense Ministry spokesman. Maj. Gen. Igor Konashenkov said the Russian jet flew around the U.S. plane several times to identify it and get its tail number. An official with the U.S. European Command said the claim that the transponder was off was false. Wright said the Pentagon and State Department will \"file the appropriate petition through diplomatic channels\" with Russia. This is not the first time the U.S. has complained about an incident involving a RC-135U and a SU-27.  A year ago, a Russian jet flew within 100 feet of a RC-135U over the Sea of Okhotsk in the western Pacific, according to U.S. officials who called it \"one of the most dangerous close passes in decades.\" The Pentagon complained to the Russia military about that incident. Russian and U.S. aircraft often encounter each other, both in Northern Europe as well as the area between the Russian Far East and Alaska. CNN\\'s Steve Brusk and Jamie Crawford contributed to this report.', \"the united states is complaining to moscow about the incident . u.s. rc-135u was flying over baltic sea when it was intercepted by russian su-27 flanker . u.s. command says the transponder was off was false . the u.s. crew believed the pilot 's actions were `` unsafe and unprofessional due to the aggressive maneuvers ''\"].\n",
      "Feedback function `groundedness_measure` was renamed to `groundedness_measure_with_cot_reasons`. The new functionality of `groundedness_measure` function will no longer emit reasons as a lower cost option. It may have reduced accuracy due to not using Chain of Thought reasoning in the scoring.\n"
     ]
    },
    {
     "name": "stdout",
     "output_type": "stream",
     "text": [
      "✅ added record record_hash_da1135d1f523156b21bd32d8324410f8\n",
      "✅ feedback result Mean Absolute Error DONE feedback_result_hash_317ea6e4ce0e64a38eeb66eb8e62cbfd\n"
     ]
    },
    {
     "name": "stderr",
     "output_type": "stream",
     "text": [
      "Unsure what the main input string is for the call to _call with args ['(CNN)After a Russian fighter jet intercepted a U.S. reconnaissance plane in an \"unsafe and unprofessional manner\" earlier this week, the United States is complaining to Moscow about the incident. On Tuesday, a U.S. RC-135U was flying over the Baltic Sea when it was intercepted by a Russian SU-27 Flanker. The Pentagon said the incident occurred in international airspace north of Poland. The U.S. crew believed the Russian pilot\\'s actions were \"unsafe and unprofessional due to the aggressive maneuvers it performed in close proximity to their aircraft and its high rate of speed,\" Pentagon spokesman Mark Wright said. Russian state news agency Sputnik reported the U.S. plane was flying toward the Russian border with its transponder switched off, according to a Defense Ministry spokesman. Maj. Gen. Igor Konashenkov said the Russian jet flew around the U.S. plane several times to identify it and get its tail number. An official with the U.S. European Command said the claim that the transponder was off was false. Wright said the Pentagon and State Department will \"file the appropriate petition through diplomatic channels\" with Russia. This is not the first time the U.S. has complained about an incident involving a RC-135U and a SU-27.  A year ago, a Russian jet flew within 100 feet of a RC-135U over the Sea of Okhotsk in the western Pacific, according to U.S. officials who called it \"one of the most dangerous close passes in decades.\" The Pentagon complained to the Russia military about that incident. Russian and U.S. aircraft often encounter each other, both in Northern Europe as well as the area between the Russian Far East and Alaska. CNN\\'s Steve Brusk and Jamie Crawford contributed to this report.', \"the united states is complaining to moscow about the incident . u.s. rc-135u was flying over baltic sea when it was intercepted by russian su-27 flanker . u.s. command says the transponder was off was false . the u.s. crew believed the pilot 's actions were `` unsafe and unprofessional due to the aggressive maneuvers ''\"].\n",
      "Feedback function `groundedness_measure` was renamed to `groundedness_measure_with_cot_reasons`. The new functionality of `groundedness_measure` function will no longer emit reasons as a lower cost option. It may have reduced accuracy due to not using Chain of Thought reasoning in the scoring.\n"
     ]
    },
    {
     "name": "stdout",
     "output_type": "stream",
     "text": [
      "✅ added record record_hash_8e1c8f432ae189148c76b87fccca3c72\n",
      "✅ feedback result Mean Absolute Error DONE feedback_result_hash_734f26485973019493435b0a77aedeb9\n"
     ]
    },
    {
     "data": {
      "application/vnd.jupyter.widget-view+json": {
       "model_id": "3974fafc54854e4cb84b2b3a42a4ce6e",
       "version_major": 2,
       "version_minor": 0
      },
      "text/plain": [
       "Groundendess per statement in source:   0%|          | 0/6 [00:00<?, ?it/s]"
      ]
     },
     "metadata": {},
     "output_type": "display_data"
    },
    {
     "name": "stderr",
     "output_type": "stream",
     "text": [
      "Unsure what the main input string is for the call to _call with args ['(CNN)Lady Antebellum singer Hillary Scott\\'s tour bus caught fire on a Texas freeway Thursday morning, but everyone on board was safely evacuated. Michael Barnett captured dramatic video of the fire, on Interstate 30 just northeast of Dallas, and uploaded it to CNN iReport. Smoke and flames poured from the rear of the bus as traffic slowed to a crawl and Barnett slowly approached in his vehicle. As he drew closer to the bus, Barnett decided to stop filming because he didn\\'t know what to expect. \"It was shocking,\" he said. \"I didn\\'t know what I was about to see. I didn\\'t know if anyone was hurt.\" Barnett said he didn\\'t realize at the time that the bus belonged to the country band. Hillary Scott, co-lead singer for the band, posted a photo of the charred bus on Instagram and noted that she, her husband, the tour manager and the driver were all evacuated safely. \"Thanking God for our safety and the safety of all of those who helped put this fire out and keep us safe,\" she wrote. The tour manager told CNN affiliate KTVT that the bus stopped after a rear tire blew out. It burst into flames after everyone had gotten off. Scott also posted an Instagram photo and message saying that the fire destroyed everything in the bus\\'s back lounge except her Bible. The band\\'s two other members, Charles Kelley and Dave Haywood, were not traveling on the bus, KTVT reported. Lady Antebellum is set to perform at the 50th Academy of Country Music Awards on Sunday in Arlington, Texas.', \"michael barnett captured the fire on interstate 30 just northeast of dallas . the antebellum singer hillary scott , co-lead singer for the band . the band 's two other members , charles kelley and dave haywood were not traveling on the bus . the tour manager says he did n't know what he was about to see . the bus is set to perform at the 50th academy of country music awards .\"].\n",
      "Feedback function `groundedness_measure` was renamed to `groundedness_measure_with_cot_reasons`. The new functionality of `groundedness_measure` function will no longer emit reasons as a lower cost option. It may have reduced accuracy due to not using Chain of Thought reasoning in the scoring.\n"
     ]
    },
    {
     "name": "stdout",
     "output_type": "stream",
     "text": [
      "✅ added record record_hash_2ce27f6a395a6feb67526733f1512b5e\n",
      "✅ feedback result Mean Absolute Error DONE feedback_result_hash_193a33247e0db18cb3a896bf1167246a\n"
     ]
    },
    {
     "name": "stderr",
     "output_type": "stream",
     "text": [
      "Unsure what the main input string is for the call to _call with args ['(CNN)Lady Antebellum singer Hillary Scott\\'s tour bus caught fire on a Texas freeway Thursday morning, but everyone on board was safely evacuated. Michael Barnett captured dramatic video of the fire, on Interstate 30 just northeast of Dallas, and uploaded it to CNN iReport. Smoke and flames poured from the rear of the bus as traffic slowed to a crawl and Barnett slowly approached in his vehicle. As he drew closer to the bus, Barnett decided to stop filming because he didn\\'t know what to expect. \"It was shocking,\" he said. \"I didn\\'t know what I was about to see. I didn\\'t know if anyone was hurt.\" Barnett said he didn\\'t realize at the time that the bus belonged to the country band. Hillary Scott, co-lead singer for the band, posted a photo of the charred bus on Instagram and noted that she, her husband, the tour manager and the driver were all evacuated safely. \"Thanking God for our safety and the safety of all of those who helped put this fire out and keep us safe,\" she wrote. The tour manager told CNN affiliate KTVT that the bus stopped after a rear tire blew out. It burst into flames after everyone had gotten off. Scott also posted an Instagram photo and message saying that the fire destroyed everything in the bus\\'s back lounge except her Bible. The band\\'s two other members, Charles Kelley and Dave Haywood, were not traveling on the bus, KTVT reported. Lady Antebellum is set to perform at the 50th Academy of Country Music Awards on Sunday in Arlington, Texas.', \"michael barnett captured the fire on interstate 30 just northeast of dallas . the antebellum singer hillary scott , co-lead singer for the band . the band 's two other members , charles kelley and dave haywood were not traveling on the bus . the tour manager says he did n't know what he was about to see . the bus is set to perform at the 50th academy of country music awards .\"].\n",
      "Feedback function `groundedness_measure` was renamed to `groundedness_measure_with_cot_reasons`. The new functionality of `groundedness_measure` function will no longer emit reasons as a lower cost option. It may have reduced accuracy due to not using Chain of Thought reasoning in the scoring.\n"
     ]
    },
    {
     "name": "stdout",
     "output_type": "stream",
     "text": [
      "✅ added record record_hash_22073aa816fe3832ae73186ab894ab87\n",
      "✅ feedback result Mean Absolute Error DONE feedback_result_hash_c2170c777009d8f80e1f64a7a9142fe9\n"
     ]
    },
    {
     "name": "stderr",
     "output_type": "stream",
     "text": [
      "Unsure what the main input string is for the call to _call with args ['(CNN)Lady Antebellum singer Hillary Scott\\'s tour bus caught fire on a Texas freeway Thursday morning, but everyone on board was safely evacuated. Michael Barnett captured dramatic video of the fire, on Interstate 30 just northeast of Dallas, and uploaded it to CNN iReport. Smoke and flames poured from the rear of the bus as traffic slowed to a crawl and Barnett slowly approached in his vehicle. As he drew closer to the bus, Barnett decided to stop filming because he didn\\'t know what to expect. \"It was shocking,\" he said. \"I didn\\'t know what I was about to see. I didn\\'t know if anyone was hurt.\" Barnett said he didn\\'t realize at the time that the bus belonged to the country band. Hillary Scott, co-lead singer for the band, posted a photo of the charred bus on Instagram and noted that she, her husband, the tour manager and the driver were all evacuated safely. \"Thanking God for our safety and the safety of all of those who helped put this fire out and keep us safe,\" she wrote. The tour manager told CNN affiliate KTVT that the bus stopped after a rear tire blew out. It burst into flames after everyone had gotten off. Scott also posted an Instagram photo and message saying that the fire destroyed everything in the bus\\'s back lounge except her Bible. The band\\'s two other members, Charles Kelley and Dave Haywood, were not traveling on the bus, KTVT reported. Lady Antebellum is set to perform at the 50th Academy of Country Music Awards on Sunday in Arlington, Texas.', \"michael barnett captured the fire on interstate 30 just northeast of dallas . the antebellum singer hillary scott , co-lead singer for the band . the band 's two other members , charles kelley and dave haywood were not traveling on the bus . the tour manager says he did n't know what he was about to see . the bus is set to perform at the 50th academy of country music awards .\"].\n",
      "Feedback function `groundedness_measure` was renamed to `groundedness_measure_with_cot_reasons`. The new functionality of `groundedness_measure` function will no longer emit reasons as a lower cost option. It may have reduced accuracy due to not using Chain of Thought reasoning in the scoring.\n"
     ]
    },
    {
     "name": "stdout",
     "output_type": "stream",
     "text": [
      "✅ added record record_hash_d4d0f8dfefb47d49a6c292ebc52f8ca1\n",
      "✅ feedback result Mean Absolute Error DONE feedback_result_hash_a3b592dbf2809ca4619fb093df8afd7f\n"
     ]
    },
    {
     "data": {
      "application/vnd.jupyter.widget-view+json": {
       "model_id": "9536e734767646d7b16707426d32e51c",
       "version_major": 2,
       "version_minor": 0
      },
      "text/plain": [
       "Groundendess per statement in source:   0%|          | 0/4 [00:00<?, ?it/s]"
      ]
     },
     "metadata": {},
     "output_type": "display_data"
    },
    {
     "name": "stderr",
     "output_type": "stream",
     "text": [
      "Unsure what the main input string is for the call to _call with args ['(CNN)Lady Antebellum singer Hillary Scott\\'s tour bus caught fire on a Texas freeway Thursday morning, but everyone on board was safely evacuated. Michael Barnett captured dramatic video of the fire, on Interstate 30 just northeast of Dallas, and uploaded it to CNN iReport. Smoke and flames poured from the rear of the bus as traffic slowed to a crawl and Barnett slowly approached in his vehicle. As he drew closer to the bus, Barnett decided to stop filming because he didn\\'t know what to expect. \"It was shocking,\" he said. \"I didn\\'t know what I was about to see. I didn\\'t know if anyone was hurt.\" Barnett said he didn\\'t realize at the time that the bus belonged to the country band. Hillary Scott, co-lead singer for the band, posted a photo of the charred bus on Instagram and noted that she, her husband, the tour manager and the driver were all evacuated safely. \"Thanking God for our safety and the safety of all of those who helped put this fire out and keep us safe,\" she wrote. The tour manager told CNN affiliate KTVT that the bus stopped after a rear tire blew out. It burst into flames after everyone had gotten off. Scott also posted an Instagram photo and message saying that the fire destroyed everything in the bus\\'s back lounge except her Bible. The band\\'s two other members, Charles Kelley and Dave Haywood, were not traveling on the bus, KTVT reported. Lady Antebellum is set to perform at the 50th Academy of Country Music Awards on Sunday in Arlington, Texas.', \"hillary scott 's tour bus caught fire on a texas freeway thursday morning . smoke and flames poured from the rear of the bus as traffic slowed to a crawl and barnett slowly approached in his vehicle . barnett said he did n't realize at the time that the bus belonged to the country band .\"].\n",
      "Feedback function `groundedness_measure` was renamed to `groundedness_measure_with_cot_reasons`. The new functionality of `groundedness_measure` function will no longer emit reasons as a lower cost option. It may have reduced accuracy due to not using Chain of Thought reasoning in the scoring.\n"
     ]
    },
    {
     "name": "stdout",
     "output_type": "stream",
     "text": [
      "✅ added record record_hash_ca0ed84d8dccac54d096dbe43619414e\n",
      "✅ feedback result Mean Absolute Error DONE feedback_result_hash_784480e5ea97dd7a71e9e05a3215aabe\n"
     ]
    },
    {
     "name": "stderr",
     "output_type": "stream",
     "text": [
      "Unsure what the main input string is for the call to _call with args ['(CNN)Lady Antebellum singer Hillary Scott\\'s tour bus caught fire on a Texas freeway Thursday morning, but everyone on board was safely evacuated. Michael Barnett captured dramatic video of the fire, on Interstate 30 just northeast of Dallas, and uploaded it to CNN iReport. Smoke and flames poured from the rear of the bus as traffic slowed to a crawl and Barnett slowly approached in his vehicle. As he drew closer to the bus, Barnett decided to stop filming because he didn\\'t know what to expect. \"It was shocking,\" he said. \"I didn\\'t know what I was about to see. I didn\\'t know if anyone was hurt.\" Barnett said he didn\\'t realize at the time that the bus belonged to the country band. Hillary Scott, co-lead singer for the band, posted a photo of the charred bus on Instagram and noted that she, her husband, the tour manager and the driver were all evacuated safely. \"Thanking God for our safety and the safety of all of those who helped put this fire out and keep us safe,\" she wrote. The tour manager told CNN affiliate KTVT that the bus stopped after a rear tire blew out. It burst into flames after everyone had gotten off. Scott also posted an Instagram photo and message saying that the fire destroyed everything in the bus\\'s back lounge except her Bible. The band\\'s two other members, Charles Kelley and Dave Haywood, were not traveling on the bus, KTVT reported. Lady Antebellum is set to perform at the 50th Academy of Country Music Awards on Sunday in Arlington, Texas.', \"hillary scott 's tour bus caught fire on a texas freeway thursday morning . smoke and flames poured from the rear of the bus as traffic slowed to a crawl and barnett slowly approached in his vehicle . barnett said he did n't realize at the time that the bus belonged to the country band .\"].\n",
      "Feedback function `groundedness_measure` was renamed to `groundedness_measure_with_cot_reasons`. The new functionality of `groundedness_measure` function will no longer emit reasons as a lower cost option. It may have reduced accuracy due to not using Chain of Thought reasoning in the scoring.\n"
     ]
    },
    {
     "name": "stdout",
     "output_type": "stream",
     "text": [
      "✅ added record record_hash_1f22fabd29d6c43ad5c70dc3859724a3\n",
      "✅ feedback result Mean Absolute Error DONE feedback_result_hash_bef434137f08479f88f712004decc367\n"
     ]
    },
    {
     "name": "stderr",
     "output_type": "stream",
     "text": [
      "Unsure what the main input string is for the call to _call with args ['(CNN)Lady Antebellum singer Hillary Scott\\'s tour bus caught fire on a Texas freeway Thursday morning, but everyone on board was safely evacuated. Michael Barnett captured dramatic video of the fire, on Interstate 30 just northeast of Dallas, and uploaded it to CNN iReport. Smoke and flames poured from the rear of the bus as traffic slowed to a crawl and Barnett slowly approached in his vehicle. As he drew closer to the bus, Barnett decided to stop filming because he didn\\'t know what to expect. \"It was shocking,\" he said. \"I didn\\'t know what I was about to see. I didn\\'t know if anyone was hurt.\" Barnett said he didn\\'t realize at the time that the bus belonged to the country band. Hillary Scott, co-lead singer for the band, posted a photo of the charred bus on Instagram and noted that she, her husband, the tour manager and the driver were all evacuated safely. \"Thanking God for our safety and the safety of all of those who helped put this fire out and keep us safe,\" she wrote. The tour manager told CNN affiliate KTVT that the bus stopped after a rear tire blew out. It burst into flames after everyone had gotten off. Scott also posted an Instagram photo and message saying that the fire destroyed everything in the bus\\'s back lounge except her Bible. The band\\'s two other members, Charles Kelley and Dave Haywood, were not traveling on the bus, KTVT reported. Lady Antebellum is set to perform at the 50th Academy of Country Music Awards on Sunday in Arlington, Texas.', \"hillary scott 's tour bus caught fire on a texas freeway thursday morning . smoke and flames poured from the rear of the bus as traffic slowed to a crawl and barnett slowly approached in his vehicle . barnett said he did n't realize at the time that the bus belonged to the country band .\"].\n"
     ]
    },
    {
     "name": "stdout",
     "output_type": "stream",
     "text": [
      "✅ added record record_hash_6b3b058555b6d3a57a4c54b9421c75a0\n"
     ]
    }
   ],
   "source": [
    "\n",
    "\n",
    "for i in range(len(groundedness_golden_set)):\n",
    "    source = groundedness_golden_set[i][\"query\"]\n",
    "    response = groundedness_golden_set[i][\"response\"]\n",
    "    with tru_wrapped_groundedness_hug as recording:\n",
    "        tru_wrapped_groundedness_hug.app(source, response)\n",
    "    with tru_wrapped_groundedness_openai as recording:\n",
    "        tru_wrapped_groundedness_openai.app(source, response)\n",
    "    with tru_wrapped_groundedness_openai_gpt4 as recording:\n",
    "        tru_wrapped_groundedness_openai_gpt4.app(source, response)"
   ]
  },
  {
   "cell_type": "code",
   "execution_count": 9,
   "metadata": {},
   "outputs": [
    {
     "data": {
      "text/html": [
       "<div>\n",
       "<style scoped>\n",
       "    .dataframe tbody tr th:only-of-type {\n",
       "        vertical-align: middle;\n",
       "    }\n",
       "\n",
       "    .dataframe tbody tr th {\n",
       "        vertical-align: top;\n",
       "    }\n",
       "\n",
       "    .dataframe thead th {\n",
       "        text-align: right;\n",
       "    }\n",
       "</style>\n",
       "<table border=\"1\" class=\"dataframe\">\n",
       "  <thead>\n",
       "    <tr style=\"text-align: right;\">\n",
       "      <th></th>\n",
       "      <th>Mean Absolute Error</th>\n",
       "      <th>latency</th>\n",
       "      <th>total_cost</th>\n",
       "    </tr>\n",
       "    <tr>\n",
       "      <th>app_id</th>\n",
       "      <th></th>\n",
       "      <th></th>\n",
       "      <th></th>\n",
       "    </tr>\n",
       "  </thead>\n",
       "  <tbody>\n",
       "    <tr>\n",
       "      <th>groundedness huggingface</th>\n",
       "      <td>0.251471</td>\n",
       "      <td>2.4</td>\n",
       "      <td>0.000000</td>\n",
       "    </tr>\n",
       "    <tr>\n",
       "      <th>groundedness openai</th>\n",
       "      <td>2.371200</td>\n",
       "      <td>2.4</td>\n",
       "      <td>0.001344</td>\n",
       "    </tr>\n",
       "    <tr>\n",
       "      <th>groundedness openai gpt4</th>\n",
       "      <td>2.371200</td>\n",
       "      <td>2.4</td>\n",
       "      <td>0.001464</td>\n",
       "    </tr>\n",
       "  </tbody>\n",
       "</table>\n",
       "</div>"
      ],
      "text/plain": [
       "                          Mean Absolute Error  latency  total_cost\n",
       "app_id                                                            \n",
       "groundedness huggingface             0.251471      2.4    0.000000\n",
       "groundedness openai                  2.371200      2.4    0.001344\n",
       "groundedness openai gpt4             2.371200      2.4    0.001464"
      ]
     },
     "execution_count": 9,
     "metadata": {},
     "output_type": "execute_result"
    }
   ],
   "source": [
    "Tru().get_leaderboard(app_ids=[]).sort_values(by=\"Mean Absolute Error\")"
   ]
  }
 ],
 "metadata": {
  "kernelspec": {
   "display_name": "Python 3 (ipykernel)",
   "language": "python",
   "name": "python3"
  },
  "language_info": {
   "codemirror_mode": {
    "name": "ipython",
    "version": 3
   },
   "file_extension": ".py",
   "mimetype": "text/x-python",
   "name": "python",
   "nbconvert_exporter": "python",
   "pygments_lexer": "ipython3",
   "version": "3.11.5"
  }
 },
 "nbformat": 4,
 "nbformat_minor": 2
}
