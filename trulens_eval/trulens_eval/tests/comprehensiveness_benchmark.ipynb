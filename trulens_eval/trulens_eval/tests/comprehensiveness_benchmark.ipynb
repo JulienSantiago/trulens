{
 "cells": [
  {
   "cell_type": "code",
   "execution_count": 1,
   "metadata": {},
   "outputs": [],
   "source": [
    "from test_cases import generate_meetingbank_comprehensiveness_benchmark\n",
    "\n",
    "\n",
    "test_cases_gen = generate_meetingbank_comprehensiveness_benchmark(human_annotation_file_path=\"./datasets/meetingbank/human_scoring.json\", meetingbank_file_path=\"/home/daniel/MeetingBank.json\")"
   ]
  },
  {
   "cell_type": "code",
   "execution_count": 5,
   "metadata": {},
   "outputs": [
    {
     "data": {
      "text/plain": [
       "{'summarizer_model': 'dialogLM',\n",
       " 'transcripts': \"speaker 10: Is public comment next, Madam Clerk.\\nspeaker 2: And item ten is next door to. Well.\\nspeaker 10: That was pulled as well.\\nspeaker 2: Item ten Report from Parks, Recreation and Marine and Financial Management Recommendation to authorize the city manager to execute three new permits to operate Kiteboarding and stand up paddle boarding. Stand Up Paddle Boarding. Rental and instruction concessions on City of Long Beach Beaches District three.\\nspeaker 1: Can you turn this over to Councilman Price?\\nspeaker 8: Thank you. So this has been an item that we've received a lot of inquiry about over the last couple of weeks, actually, several months. But really, the the item has ramped up the discussion. So with that, I'd like to see if Parks Rec and Marine has a report to share with us that hopefully incorporate some of the\\nspeaker 8: concerns that have been raised.\\nspeaker 3: I'd like to hand this over to L.V. to Halloran, our bureau manager for our Marine Bureau in the Parks Recreation Marine Department, Alveda.\\nspeaker 2: Thank you, Councilwoman and mayor. The city has designated a kiteboarding area in Belmont Shore between Claremont and Laverne Avenue. Kitesurfing, also known as Kiteboarding, is an adventure water sport that is gaining popularity over the last few months and few years.\\nspeaker 2: A car boarder uses a harness, the power of the wind with a large, controllable kite to propel themselves across the water on a kite board that is very similar to a wakeboard or a small surfboard. The wind and surf conditions at Belmont Shore make the Claremont area an ideal site for the sport.\\nspeaker 2: In the spring of 2015, the city began the process of renewing the kite surfing concession permits. A public meeting was held on April 28th, 2015. This meeting was attended by the local residents and by the kite surfing community.\\nspeaker 2: At that meeting, everyone was given the opportunity to voice any concerns that they had or requirements that they would like to see. At that meeting, a compromise regarding the shared use of the beach was reached, and this compromise was presented to the California Coastal Commission.\\nspeaker 2: On July 29, 2015, the California Coastal Commission authorized a coastal development permit for the establishment of the designated Kiteboarding Lesson Area, a Kiteboarding Beach launch and exit area. 315 by 30 foot. Vendor areas. And the issuance of a maximum of three concession permits.\\nspeaker 2: As a result of this, an RFP was advertised in the Press Telegram on April 29th. As you all know, an RFP is a solicitation that provides for a full and open competitive bid process. At the end of the process, the city received five responses to the RFP.\\nspeaker 2: The proposals were evaluated by a committee of city staff who reviewed them against the stated criteria on the RFP and made a determination for award in the best interest of the city. The criteria for selection included several factors such as demonstrated competence, experience in the performance of comparable engagements, expertize, and the availability of key personnel and the\\nspeaker 2: overall conformance responsiveness to the terms of the RFP. The panel selected three responders. Southern California Kiteboarding Off the Hook, Kiteboarding and Captain Kirks, Inc.. Financial Management Purchasing Division sent out the notice of intent to award on June 22nd, 2015.\\nspeaker 2: Two letters of protest were received within the five day protest period. In accordance with the protest procedures, the purchasing and business services manager in the Department of Financial Management evaluated the protest and determined that there was no basis in support of either protest.\\nspeaker 2: Letters of explanation were provided to both the protesters on a moving, moving forward basis. Staff is now requesting the city council authorize us to issue the permits to the selected responders. I'd like to note an important notice here that all licenses and required documents such as a business license, insurance certificates, etc., are required to be valid at\\nspeaker 2: the time of contract issuance. In addition, as a result of a limited limitation placed upon the city by the Coastal Commission and as agreed upon by the Kitesurfing community and the residents, and in the best interest of the city of Long Beach.\\nspeaker 2: Vendors will not have the authorization to engage in the sales of equipment or sundry items as part of the authorized activity on the beach. And in addition to that, they will not be allowed to install permanent kiosk type structures.\\nspeaker 2: That is the end of my report.\\nspeaker 8: Thank you very much for that report. I just have a few follow up questions that I want to make sure that we get clarity on before we vote tonight. So the the three vendors that have been selected through this process, Southern California, Kitesurfing off the hook, Kiteboarding and Captain Kirk's, do they at this time or are they\\nspeaker 8: expected to have all necessary certifications and requirements in place before the permits are executed?\\nspeaker 2: Yes. One of the one of the Coastal Commission requirements was for these individuals to have ICAO's surf certification at the time of the submission of the RFP. The three selected vendors supplied copies of the certification.\\nspeaker 8: Okay. So during this process, it was determined through your methodology that they did have that certification? Yes, ma'am. Okay. And then in regards to those who applied for consideration but were not selected, have any requested meetings with city staff?\\nspeaker 8: And if so, could you give us an overview of efforts to accommodate them and explain the process?\\nspeaker 2: As I mentioned in my staff report to the two of the two incumbents who were not selected, submitted a protest letter through purchasing. Both were. Both were investigated by the manager of the purchasing and Business Business Services and were told that their purchase had no validation.\\nspeaker 2: In addition to that, I myself met with one of the proposers who was not selected, and we discussed at length the reasons why that particular proposal was not selected and why the other ones were selected over that over his proposal.\\nspeaker 8: Okay. Now, I understand that a resident of the city of Long Beach, in fact, of that area, was one of the ones that had applied but wasn't selected. Based on your understanding of the process. Is it is it your opinion that that that particular application either did not meet the qualifications or was not as preferable as the\\nspeaker 8: ones that were selected?\\nspeaker 2: Based on what we what was submitted, the other three incumbents that were that were selected, they ranked higher in our ranking when we went ahead and we reviewed four. Could they demonstrate that they were competent in teaching the board boarding, that they have experience in that area?\\nspeaker 2: Were they able to acquire the key personnel and that they have key personnel already in place, that they expressed financial stability and that they can form and respond to the RFP as requested so that this individual who I sat down with scored at a lower level than the other three.\\nspeaker 8: And I don't want to go into the details of it. I just want to make sure that you feel comfortable that the process was consistent, that it was fair, and that everything that folks wanted considered throughout this process was, in fact considered resulting in a a recommendation that you're comfortable with having gone through this process.\\nspeaker 2: Yes. The process by how it's set up is designed to be fair. So I feel very comfortable, as do the members of my committee, the selection committee that we selected.\\nspeaker 8: Thank you.\\nspeaker 2: Those individuals.\\nspeaker 8: Thank you. Thank you very much for your work on this.\\nspeaker 1: Vice Mayor a long theology of any comments.\\nspeaker 2: Councilman Mongeau I am thrilled that we are exploring Kiteboarding. I think that it is a fantastic sport. It teaches balance and other things young people can learn kiteboarding while standing on the shore. I think it's a great opportunity for Long Beach to get into this active and dynamic industry.\\nspeaker 2: It helps individuals who used to enjoy water skiing behind boats. Take a more environmentally friendly skiing approach, letting the wind pull them in. So I know that members of my family are active kite boarders. I think it's been a great alternative for our family in terms of not going out and polluting lakes and rivers as we've learned\\nspeaker 2: through the years. And so I've been very supportive of this item and I appreciate the great process that the team went through to ensure the fairness of the process. I think that Councilman Price did an excellent job of articulating the importance of that to this council, and I look forward to coming out and seeing many of your\\nspeaker 2: classes and engaging the community in this exciting sport.\\nspeaker 1: Okay. Thank you. A public comment on this item. Seeing nonmembers, please go ahead and cast your votes.\\nspeaker 2: Motion carries.\\nspeaker 1: Okay. Thank you. I'm going to I'm going to go ahead. And also, just because I know we have a lot of our I've been asked because we have a group of seniors here for item 11. Let's just go in here item 11.\\nspeaker 1: I'm sorry, not item 11. Item 14 for the seniors that are here. Let's go and do item 14, please.\\nspeaker 8: 15.\\n\",\n",
       " 'response': 'Recommendation to authorize city manager, or Designee, to execute three new permits to operate Kiteboarding and Stand-Up Paddle boarding, rental and instruction concessions on city of long Beach beaches, for a period of one year, with the option to renew for two additional one-year periods, at the discretion of the city manager. (district 3)',\n",
       " 'expected_score': 0.8}"
      ]
     },
     "execution_count": 5,
     "metadata": {},
     "output_type": "execute_result"
    }
   ],
   "source": [
    "next(test_cases_gen)"
   ]
  },
  {
   "cell_type": "code",
   "execution_count": null,
   "metadata": {},
   "outputs": [],
   "source": []
  }
 ],
 "metadata": {
  "kernelspec": {
   "display_name": "trulens",
   "language": "python",
   "name": "python3"
  },
  "language_info": {
   "codemirror_mode": {
    "name": "ipython",
    "version": 3
   },
   "file_extension": ".py",
   "mimetype": "text/x-python",
   "name": "python",
   "nbconvert_exporter": "python",
   "pygments_lexer": "ipython3",
   "version": "3.11.5"
  }
 },
 "nbformat": 4,
 "nbformat_minor": 2
}
