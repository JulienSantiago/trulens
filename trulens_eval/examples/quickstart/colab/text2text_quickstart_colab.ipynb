{
 "cells": [
  {
   "cell_type": "code",
   "execution_count": null,
   "id": "edb61ec8",
   "metadata": {},
   "outputs": [],
   "source": [
    "!pip install -U trulens-eval\n",
    "\n",
    "# Google Colab Dependencies\n",
    "!npm install localtunnel -q\n",
    "!pip install -q streamlit>=1.26.0"
   ]
  },
  {
   "attachments": {},
   "cell_type": "markdown",
   "id": "60804693",
   "metadata": {},
   "source": [
    "# Text to Text Quickstart\n",
    "\n",
    "In this quickstart you will create a simple text to text application and learn how to log it and get feedback.\n",
    "\n",
    "[![Open In Colab](https://colab.research.google.com/assets/colab-badge.svg)](https://colab.research.google.com/github/truera/trulens/blob/main/trulens_eval/examples/quickstart/text2text_quickstart.ipynb)"
   ]
  },
  {
   "cell_type": "code",
   "execution_count": null,
   "id": "d5a99d79",
   "metadata": {},
   "outputs": [],
   "source": [
    "# ! pip install trulens_eval==0.16.0"
   ]
  },
  {
   "attachments": {},
   "cell_type": "markdown",
   "id": "febf3f23",
   "metadata": {},
   "source": [
    "## Setup\n",
    "### Add API keys\n",
    "For this quickstart you will need Open AI and Huggingface keys"
   ]
  },
  {
   "cell_type": "code",
   "execution_count": null,
   "id": "153d0058",
   "metadata": {},
   "outputs": [],
   "source": [
    "import os\n",
    "os.environ[\"OPENAI_API_KEY\"] = \"...\"\n",
    "os.environ[\"HUGGINGFACE_API_KEY\"] = \"...\""
   ]
  },
  {
   "cell_type": "code",
   "execution_count": null,
   "id": "d372e018",
   "metadata": {},
   "outputs": [],
   "source": [
    "import openai\n",
    "openai.api_key = os.environ[\"OPENAI_API_KEY\"]"
   ]
  },
  {
   "attachments": {},
   "cell_type": "markdown",
   "id": "59c93d32",
   "metadata": {},
   "source": [
    "### Import from TruLens"
   ]
  },
  {
   "cell_type": "code",
   "execution_count": null,
   "id": "e4c5d1a0",
   "metadata": {},
   "outputs": [],
   "source": [
    "from IPython.display import JSON\n",
    "\n",
    "# Imports main tools:\n",
    "from trulens_eval import Feedback, Huggingface, Tru\n",
    "tru = Tru()"
   ]
  },
  {
   "attachments": {},
   "cell_type": "markdown",
   "id": "8b6dbd9b",
   "metadata": {},
   "source": [
    "### Create Simple Text to Text Application\n",
    "\n",
    "This example uses a bare bones OpenAI LLM, and a non-LLM just for demonstration purposes."
   ]
  },
  {
   "cell_type": "code",
   "execution_count": null,
   "id": "3cdaed07",
   "metadata": {},
   "outputs": [],
   "source": [
    "def llm_standalone(prompt):\n",
    "    return openai.ChatCompletion.create(\n",
    "    model=\"gpt-3.5-turbo\",\n",
    "    messages=[\n",
    "            {\"role\": \"system\", \"content\": \"You are a question and answer bot, and you answer super upbeat.\"},\n",
    "            {\"role\": \"user\", \"content\": prompt}\n",
    "        ]\n",
    "    )[\"choices\"][0][\"message\"][\"content\"]"
   ]
  },
  {
   "cell_type": "code",
   "execution_count": null,
   "id": "e3901036",
   "metadata": {},
   "outputs": [],
   "source": [
    "import hashlib\n",
    "def simple_hash_callable(prompt):\n",
    "    h = hashlib.shake_256(prompt.encode('utf-8'))\n",
    "    return str(h.hexdigest(20))"
   ]
  },
  {
   "attachments": {},
   "cell_type": "markdown",
   "id": "5dfcc082",
   "metadata": {},
   "source": [
    "### Send your first request"
   ]
  },
  {
   "cell_type": "code",
   "execution_count": null,
   "id": "fafd2c8c",
   "metadata": {},
   "outputs": [],
   "source": [
    "prompt_input=\"How good is language AI?\"\n",
    "prompt_output = llm_standalone(prompt_input)\n",
    "prompt_output"
   ]
  },
  {
   "cell_type": "code",
   "execution_count": null,
   "id": "65d10757",
   "metadata": {},
   "outputs": [],
   "source": [
    "simple_hash_callable(prompt_input)"
   ]
  },
  {
   "attachments": {},
   "cell_type": "markdown",
   "id": "bfe69935",
   "metadata": {},
   "source": [
    "## Initialize Feedback Function(s)"
   ]
  },
  {
   "cell_type": "code",
   "execution_count": null,
   "id": "3fcde4e7",
   "metadata": {},
   "outputs": [],
   "source": [
    "# Initialize Huggingface-based feedback function collection class:\n",
    "hugs = Huggingface()\n",
    "\n",
    "# Define a sentiment feedback function using HuggingFace.\n",
    "f_sentiment = Feedback(hugs.positive_sentiment).on_output()"
   ]
  },
  {
   "attachments": {},
   "cell_type": "markdown",
   "id": "4bb42c63",
   "metadata": {},
   "source": [
    "## Instrument the callable for logging with TruLens"
   ]
  },
  {
   "cell_type": "code",
   "execution_count": null,
   "id": "a409c841",
   "metadata": {},
   "outputs": [],
   "source": [
    "from trulens_eval import TruBasicApp\n",
    "tru_llm_standalone_recorder = TruBasicApp(llm_standalone, app_id=\"Happy Bot\", feedbacks=[f_sentiment])\n",
    "tru_simple_hash_callable_recorder = TruBasicApp(simple_hash_callable, app_id=\"Hasher\", feedbacks=[f_sentiment])"
   ]
  },
  {
   "cell_type": "code",
   "execution_count": null,
   "id": "dc2f11d3",
   "metadata": {},
   "outputs": [],
   "source": [
    "with tru_llm_standalone_recorder as recording:\n",
    "    tru_llm_standalone_recorder.app(prompt_input)"
   ]
  },
  {
   "cell_type": "code",
   "execution_count": null,
   "id": "7a631f88",
   "metadata": {},
   "outputs": [],
   "source": [
    "with tru_simple_hash_callable_recorder as recording:\n",
    "    tru_simple_hash_callable_recorder.app(prompt_input)"
   ]
  },
  {
   "attachments": {},
   "cell_type": "markdown",
   "id": "5b6c6b37",
   "metadata": {},
   "source": [
    "## Explore in a Dashboard"
   ]
  },
  {
   "cell_type": "code",
   "execution_count": null,
   "id": "e61957f1",
   "metadata": {},
   "outputs": [],
   "source": [
    "tru.run_dashboard() # open a local streamlit app to explore\n",
    "\n",
    "# tru.stop_dashboard() # stop if needed"
   ]
  },
  {
   "attachments": {},
   "cell_type": "markdown",
   "id": "d4ef772b",
   "metadata": {},
   "source": [
    "Alternatively, you can run `trulens-eval` from a command line in the same folder to start the dashboard."
   ]
  },
  {
   "attachments": {},
   "cell_type": "markdown",
   "id": "12ec9b6a",
   "metadata": {},
   "source": [
    "## Or view results directly in your notebook"
   ]
  },
  {
   "cell_type": "code",
   "execution_count": null,
   "id": "30426f99",
   "metadata": {},
   "outputs": [],
   "source": [
    "tru.get_records_and_feedback(app_ids=[])[0] # pass an empty list of app_ids to get all"
   ]
  }
 ],
 "metadata": {
  "kernelspec": {
   "display_name": "Python 3 (ipykernel)",
   "language": "python",
   "name": "python3"
  },
  "language_info": {
   "codemirror_mode": {
    "name": "ipython",
    "version": 3
   },
   "file_extension": ".py",
   "mimetype": "text/x-python",
   "name": "python",
   "nbconvert_exporter": "python",
   "pygments_lexer": "ipython3",
   "version": "3.11.3"
  }
 },
 "nbformat": 4,
 "nbformat_minor": 5
}
