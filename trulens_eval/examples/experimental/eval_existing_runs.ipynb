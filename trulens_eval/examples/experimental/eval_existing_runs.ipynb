{
 "cells": [
  {
   "cell_type": "markdown",
   "metadata": {},
   "source": [
    "## Eval existing runs\n",
    "\n",
    "This is a demonstration how to use trulens without an app but with logs of the results of some app."
   ]
  },
  {
   "cell_type": "code",
   "execution_count": null,
   "metadata": {},
   "outputs": [],
   "source": [
    "# ! pip install trulens_eval==0.20.3"
   ]
  },
  {
   "cell_type": "code",
   "execution_count": null,
   "metadata": {},
   "outputs": [],
   "source": [
    "%load_ext autoreload\n",
    "%autoreload 2\n",
    "from pathlib import Path\n",
    "import sys\n",
    "\n",
    "base = Path().cwd()\n",
    "while not (base / \"trulens_eval\").exists():\n",
    "    base = base.parent\n",
    "\n",
    "print(base)\n",
    "\n",
    "# If running from github repo, can use this:\n",
    "sys.path.append(str(base))\n",
    "\n",
    "from trulens_eval.keys import check_keys\n",
    "\n",
    "check_keys(\n",
    "    \"OPENAI_API_KEY\",\n",
    ")\n",
    "\n",
    "from trulens_eval import Tru\n",
    "tru = Tru()\n",
    "tru.reset_database()\n",
    "\n",
    "tru.run_dashboard(_dev=base, force=True)"
   ]
  },
  {
   "cell_type": "code",
   "execution_count": null,
   "metadata": {},
   "outputs": [],
   "source": [
    "# VirtualApp setup. You can store any information you would like by passing in a\n",
    "# dictionry to TruVirtual (later). This may involve an index of components or\n",
    "# versions, or anything else. You can refer to these values for evaluating feedback.\n",
    "\n",
    "app = dict(\n",
    "    retriever=dict(\n",
    "        configkey1=\"anything else you want to store about the app or its components\"\n",
    "    ),\n",
    "    some_other_component=\"can be put into the app dictionary\"\n",
    ")"
   ]
  },
  {
   "cell_type": "code",
   "execution_count": null,
   "metadata": {},
   "outputs": [],
   "source": [
    "# Data. To add data to the database, you can either create the `Record`, or use\n",
    "# `VirtualRecord` class which helps you construct records for virtual models.\n",
    "# The arguments to VirtualRecord are the same as for Record except that calls\n",
    "# are specified using selectors. In the below example, we add two records with\n",
    "# both containing the inputs and outputs to some context retrieval component.\n",
    "# You do not need to provide information that you do not wish to track or\n",
    "# evaluate on. The selectors refer to methods which can be selected for in\n",
    "# feedback which we show below.\n",
    "\n",
    "from trulens_eval.schema import Record\n",
    "from trulens_eval.schema import Select\n",
    "from trulens_eval.tru_virtual import VirtualRecord\n",
    "\n",
    "rec1 = VirtualRecord(\n",
    "    main_input=\"Where is Germany?\",\n",
    "    main_output=\"Germany is in Europe\",\n",
    "    calls=\n",
    "        {\n",
    "            Select.RecordCalls.retriever.get_context: dict(\n",
    "                args=[\"Where is Germany?\"],\n",
    "                rets=[\"Germany is a country located in Europe.\"]\n",
    "            ),\n",
    "            Select.RecordCalls.some_other_component.do_something: dict(\n",
    "                args=[\"Some other inputs.\"],\n",
    "                rets=[\"Some other output.\"]\n",
    "            )\n",
    "        }\n",
    "    )\n",
    "rec2 = VirtualRecord(\n",
    "    main_input=\"Where is Germany?\",\n",
    "    main_output=\"Poland is in Europe\",\n",
    "    calls=\n",
    "        {\n",
    "            Select.RecordCalls.retriever.get_context: dict(\n",
    "                args=[\"Where is Germany?\"],\n",
    "                rets=[\"Poland is a country located in Europe.\"]\n",
    "            )\n",
    "        }\n",
    "    )\n",
    "\n",
    "data = [rec1, rec2]"
   ]
  },
  {
   "cell_type": "code",
   "execution_count": null,
   "metadata": {},
   "outputs": [],
   "source": [
    "# The same feedback function as the langchain quickstart except the selector for\n",
    "# context is different.\n",
    "\n",
    "from trulens_eval.feedback.provider import OpenAI\n",
    "import numpy as np\n",
    "\n",
    "from trulens_eval.feedback.feedback import Feedback\n",
    "\n",
    "# Initialize provider class\n",
    "openai = OpenAI()\n",
    "\n",
    "# select context to be used in feedback. the location of context is app specific.\n",
    "from trulens_eval.app import App\n",
    "context = Select.RecordCalls.retriever.get_context.rets[:]\n",
    "\n",
    "from trulens_eval.feedback import Groundedness\n",
    "grounded = Groundedness(groundedness_provider=OpenAI())\n",
    "# Define a groundedness feedback function\n",
    "f_groundedness = (\n",
    "    Feedback(grounded.groundedness_measure_with_cot_reasons)\n",
    "    .on(context.collect()) # collect context chunks into a list\n",
    "    .on_output()\n",
    "    .aggregate(grounded.grounded_statements_aggregator)\n",
    ")\n",
    "\n",
    "# Question/answer relevance between overall question and answer.\n",
    "f_qa_relevance = Feedback(openai.relevance).on_input_output()\n",
    "\n",
    "# Question/statement relevance between question and each context chunk.\n",
    "f_context_relevance = (\n",
    "    Feedback(openai.qs_relevance)\n",
    "    .on_input()\n",
    "    .on(context)\n",
    "    .aggregate(np.mean)\n",
    "    )"
   ]
  },
  {
   "cell_type": "code",
   "execution_count": null,
   "metadata": {},
   "outputs": [],
   "source": [
    "# Create the virtual recorder and add the records.\n",
    "\n",
    "from trulens_eval.tru_virtual import TruVirtual\n",
    "\n",
    "virtual_recorder = TruVirtual(\n",
    "    app=app,\n",
    "    feedbacks=[f_groundedness, f_qa_relevance, f_context_relevance]\n",
    ")\n",
    "\n",
    "for rec in data:\n",
    "    virtual_recorder.add_record(rec)"
   ]
  },
  {
   "cell_type": "code",
   "execution_count": null,
   "metadata": {},
   "outputs": [],
   "source": []
  },
  {
   "cell_type": "markdown",
   "metadata": {},
   "source": []
  }
 ],
 "metadata": {
  "kernelspec": {
   "display_name": "trulens18_release",
   "language": "python",
   "name": "python3"
  },
  "language_info": {
   "codemirror_mode": {
    "name": "ipython",
    "version": 3
   },
   "file_extension": ".py",
   "mimetype": "text/x-python",
   "name": "python",
   "nbconvert_exporter": "python",
   "pygments_lexer": "ipython3",
   "version": "3.11.6"
  }
 },
 "nbformat": 4,
 "nbformat_minor": 2
}
