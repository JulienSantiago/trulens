{
 "cells": [
  {
   "cell_type": "code",
   "execution_count": null,
   "metadata": {},
   "outputs": [],
   "source": [
    "# ! pip uninstall -y nemo_guardrails"
   ]
  },
  {
   "cell_type": "markdown",
   "metadata": {},
   "source": [
    "# Trace Recording Example"
   ]
  },
  {
   "cell_type": "code",
   "execution_count": 1,
   "metadata": {},
   "outputs": [],
   "source": [
    "%load_ext autoreload\n",
    "%autoreload 2\n",
    "from pathlib import Path\n",
    "import sys\n",
    "\n",
    "# If running from github repo, can use this:\n",
    "sys.path.append(str(Path().cwd().parent.parent.parent.resolve()))"
   ]
  },
  {
   "cell_type": "code",
   "execution_count": 2,
   "metadata": {},
   "outputs": [
    {
     "name": "stdout",
     "output_type": "stream",
     "text": [
      "🦑 Tru initialized with db url sqlite:///default.sqlite .\n",
      "🛑 Secret keys may be written to the database. See the `database_redact_keys` option of `Tru` to prevent this.\n",
      "Force stopping dashboard ...\n",
      "Starting dashboard ...\n",
      "Config file already exists. Skipping writing process.\n",
      "Credentials file already exists. Skipping writing process.\n"
     ]
    },
    {
     "data": {
      "application/vnd.jupyter.widget-view+json": {
       "model_id": "255956b9231c4823b88d53592dc506c3",
       "version_major": 2,
       "version_minor": 0
      },
      "text/plain": [
       "Accordion(children=(VBox(children=(VBox(children=(Label(value='STDOUT'), Output())), VBox(children=(Label(valu…"
      ]
     },
     "metadata": {},
     "output_type": "display_data"
    },
    {
     "name": "stdout",
     "output_type": "stream",
     "text": [
      "Dashboard started at http://172.17.97.160:8501 .\n"
     ]
    },
    {
     "data": {
      "text/plain": [
       "<Popen: returncode: None args: ['streamlit', 'run', '--server.headless=True'...>"
      ]
     },
     "execution_count": 2,
     "metadata": {},
     "output_type": "execute_result"
    }
   ],
   "source": [
    "from concurrent.futures import as_completed\n",
    "from time import sleep\n",
    "\n",
    "from examples.expositional.end2end_apps.custom_app.custom_app import CustomApp\n",
    "from tqdm.auto import tqdm\n",
    "\n",
    "from trulens_eval import Feedback\n",
    "from trulens_eval import Tru\n",
    "from trulens_eval.feedback.provider.dummy import DummyProvider\n",
    "from trulens_eval.schema.feedback import FeedbackMode\n",
    "from trulens_eval.tru_custom_app import TruCustomApp\n",
    "from trulens_eval.utils.threading import TP\n",
    "\n",
    "tp = TP()\n",
    "\n",
    "d = DummyProvider(\n",
    "    loading_prob=0.0,\n",
    "    freeze_prob=0.0, # we expect requests to have their own timeouts so freeze should never happen\n",
    "    error_prob=0.0,\n",
    "    overloaded_prob=0.0,\n",
    "    rpm=1000,\n",
    "    alloc = 0, # how much fake data to allocate during requests\n",
    "    delay = 10.0\n",
    ")\n",
    "\n",
    "tru = Tru()\n",
    "\n",
    "tru.reset_database()\n",
    "\n",
    "tru.start_dashboard(\n",
    "    force = True,\n",
    "    _dev=Path().cwd().parent.parent.resolve()\n",
    ")"
   ]
  },
  {
   "cell_type": "code",
   "execution_count": 3,
   "metadata": {},
   "outputs": [],
   "source": [
    "# Create custom app:\n",
    "ca = CustomApp(delay=0.0, alloc=0)\n",
    "\n",
    "# Create trulens wrapper:\n",
    "ta = TruCustomApp(\n",
    "    ca,\n",
    "    app_id=\"customapp\",\n",
    ")"
   ]
  },
  {
   "cell_type": "code",
   "execution_count": 4,
   "metadata": {},
   "outputs": [
    {
     "name": "stdout",
     "output_type": "stream",
     "text": [
      "tracer SpanRecord\n",
      "tracer SpanMethodCall\n",
      "tracer SpanMethodCall\n",
      "tracer SpanMethodCall\n",
      "tracer SpanMethodCall\n",
      "tracer SpanMethodCall\n",
      "tracer SpanMethodCall\n",
      "tracer SpanMethodCall\n",
      "tracer SpanMethodCall\n",
      "tracer SpanMethodCall\n",
      "tracer SpanMethodCall\n",
      "tracer SpanMethodCall\n",
      "tracer SpanMethodCall\n",
      "tracer SpanCost\n",
      "tracer SpanMethodCall\n",
      "tracer SpanMethodCall\n",
      "finished recording, have:\n",
      "9a/4a SpanRecord\n",
      "9a/ee SpanMethodCall\n",
      "9a/2a SpanMethodCall\n",
      "9a/83 SpanMethodCall\n",
      "9a/78 SpanMethodCall\n",
      "9a/6e SpanMethodCall\n",
      "9a/f2 SpanMethodCall\n",
      "9a/19 SpanMethodCall\n",
      "9a/5d SpanMethodCall\n",
      "9a/fe SpanMethodCall\n",
      "9a/ed SpanMethodCall\n",
      "9a/e4 SpanMethodCall\n",
      "9a/f2 SpanMethodCall\n",
      "9a/82 SpanCost\n",
      "9a/a8 SpanMethodCall\n",
      "9a/1e SpanMethodCall\n"
     ]
    }
   ],
   "source": [
    "with ta as recorder:\n",
    "    res = ca.respond_to_query(f\"hello\")\n",
    "\n",
    "rec = recorder.get()\n",
    "assert rec is not None"
   ]
  },
  {
   "cell_type": "code",
   "execution_count": 5,
   "metadata": {},
   "outputs": [
    {
     "name": "stdout",
     "output_type": "stream",
     "text": [
      "None -> 9a/4a SpanRecord\n",
      "9a/4a -> 9a/ee SpanMethodCall\t app respond_to_query\n",
      "\t None\n",
      "9a/ee -> 9a/2a SpanMethodCall\t app.agents[0] invoke\n",
      "\t None\n",
      "9a/ee -> 9a/83 SpanMethodCall\t app.agents[1] invoke\n",
      "\t None\n",
      "9a/ee -> 9a/78 SpanMethodCall\t app get_context\n",
      "\t None\n",
      "9a/78 -> 9a/6e SpanMethodCall\t app.retriever retrieve_chunks\n",
      "\t None\n",
      "9a/78 -> 9a/f2 SpanMethodCall\t app.reranker rerank\n",
      "\t None\n",
      "9a/78 -> 9a/19 SpanMethodCall\t app process_chunk_by_random_tool\n",
      "\t None\n",
      "9a/19 -> 9a/5d SpanMethodCall\t app.tools[1] invoke\n",
      "\t None\n",
      "9a/78 -> 9a/fe SpanMethodCall\t app process_chunk_by_random_tool\n",
      "\t None\n",
      "9a/fe -> 9a/ed SpanMethodCall\t app.tools[0] invoke\n",
      "\t None\n",
      "9a/ee -> 9a/e4 SpanMethodCall\t app.memory remember\n",
      "\t None\n",
      "9a/ee -> 9a/f2 SpanMethodCall\t app.llm generate\n",
      "\t None\n",
      "9a/f2 -> 9a/82 SpanCost\t n_requests=1 n_successful_requests=1 n_classes=0 n_tokens=14 n_stream_chunks=0 n_prompt_tokens=5 n_completion_tokens=9 cost=0.0159\n",
      "9a/ee -> 9a/a8 SpanMethodCall\t app.template fill\n",
      "\t None\n",
      "9a/ee -> 9a/1e SpanMethodCall\t app.memory remember\n",
      "\t None\n"
     ]
    }
   ],
   "source": [
    "for context, span in recorder.tracer[1].spans.items():\n",
    "    print(span.parent, \"->\", context, type(span).__name__, end=\"\")\n",
    "    if hasattr(span, \"call\"):\n",
    "        print(\"\\t\", span.call.top().path, span.call.top().method.name)\n",
    "        print(\"\\t\", span.error)\n",
    "    elif hasattr(span, \"cost\"):\n",
    "        print(\"\\t\", span.cost)\n",
    "    else:\n",
    "        print()"
   ]
  },
  {
   "cell_type": "code",
   "execution_count": null,
   "metadata": {},
   "outputs": [],
   "source": [
    "from typing import Self, Type, Iterator, Generator, AsyncGenerator, Awaitable, AsyncIterator\n",
    "import asyncio\n",
    "import time\n",
    "\n",
    "from opentelemetry import trace\n",
    "from opentelemetry.sdk.trace import TracerProvider\n",
    "from opentelemetry.sdk.trace.export import (\n",
    "    BatchSpanProcessor,\n",
    "    ConsoleSpanExporter,\n",
    ")\n",
    "\n",
    "trace.set_tracer_provider(TracerProvider())\n",
    "trace.get_tracer_provider().add_span_processor(\n",
    "    BatchSpanProcessor(ConsoleSpanExporter())\n",
    ")\n",
    "\n",
    "tracer = trace.get_tracer(__name__)"
   ]
  },
  {
   "cell_type": "code",
   "execution_count": null,
   "metadata": {},
   "outputs": [],
   "source": [
    "import functools\n",
    "\n",
    "def instrument(func):\n",
    "    @functools.wraps(func)\n",
    "    def wrapper(*args, **kwargs):\n",
    "        with tracer.start_as_current_span(func.__name__) as span:\n",
    "            span.set_attribute(\"args\", str(args))\n",
    "            span.set_attribute(\"kwargs\", str(kwargs))\n",
    "\n",
    "            ret = func(*args, **kwargs)\n",
    "\n",
    "            span.set_attribute(\"ret\", str(ret))\n",
    "\n",
    "            return ret\n",
    "\n",
    "    return wrapper\n",
    "\n",
    "from opentelemetry import trace\n",
    "tracer = trace.get_tracer(__name__)\n",
    "print(tracer)\n",
    "\n",
    "@tracer.start_as_current_span(\"innerfunction\")\n",
    "def innerfunction(a: int) -> int:\n",
    "\n",
    "    current_span = trace.get_current_span()\n",
    "    current_span.set_attribute(\"input_a\", a)\n",
    "\n",
    "    ret = a + 1\n",
    "\n",
    "    current_span.set_attribute(\"ret\", ret)\n",
    "\n",
    "    return ret\n",
    "\n",
    "\n",
    "@tracer.start_as_current_span(\"outerfunction\")\n",
    "def outerfunction(a: int) -> int:\n",
    "\n",
    "    current_span = trace.get_current_span()\n",
    "    current_span.set_attribute(\"input_a\", a)\n",
    "\n",
    "    ret = innerfunction(a) * 2\n",
    "\n",
    "    current_span.set_attribute(\"ret\", ret)\n",
    "\n",
    "    return ret\n",
    "\n",
    "# Cannot use decorator while establishing parent-child relationship to the inner\n",
    "# spans.\n",
    "def somegenfunction(a: int) -> Iterator[int]:\n",
    "    with tracer.start_as_current_span(\"somegenfunction\") as current_span:\n",
    "        current_span.set_attribute(\"input_a\", a)\n",
    "\n",
    "        for i in range(a):\n",
    "            with tracer.start_as_current_span(\"somegenfunction_iterations\") as iter_span:\n",
    "\n",
    "                iter_span = trace.get_current_span()\n",
    "                iter_span.set_attribute(\"iteration\", i)\n",
    "\n",
    "                time.sleep(1)\n",
    "                \n",
    "                yield i\n",
    "        \n",
    "@tracer.start_as_current_span(\"someasyncfunction\")\n",
    "async def someasyncfunction(a: int) -> int:\n",
    "    current_span = trace.get_current_span()\n",
    "    current_span.set_attribute(\"input_a\", a)\n",
    "    await asyncio.sleep(1)\n",
    "\n",
    "    ret = a + 1\n",
    "\n",
    "    current_span.set_attribute(\"ret\", ret)\n",
    "\n",
    "    return ret\n",
    "\n",
    "# Same decorator problem.\n",
    "async def someasyncgenfunction(a: int) -> AsyncIterator[int]:\n",
    "\n",
    "    with tracer.start_as_current_span(\"someasyncgenfunction\") as current_span:\n",
    "        current_span.set_attribute(\"input_a\", a)\n",
    "\n",
    "        for i in range(a):\n",
    "            with tracer.start_as_current_span(\"someasyncgenfunction_iterations\") as iter_span:\n",
    "                iter_span = trace.get_current_span()\n",
    "                iter_span.set_attribute(\"iteration\", i)\n",
    "\n",
    "                await asyncio.sleep(1)\n",
    "\n",
    "                yield i\n",
    "\n",
    "class SomeClass(object):\n",
    "    # @tracer.start_as_current_span(\"somemethod\")\n",
    "    @instrument\n",
    "    def somemethod(self, a: int) -> int:\n",
    "        # current_span = trace.get_current_span()\n",
    "        # current_span.set_attribute(\"input_a\", a)\n",
    "\n",
    "        return a + 2\n",
    "    \n",
    "    #@tracer.start_as_current_span(\"somestaticmethod\")\n",
    "    @instrument\n",
    "    @staticmethod\n",
    "    def somestaticmethod(a: int) -> int:\n",
    "\n",
    "        #current_span = trace.get_current_span()\n",
    "        #current_span.set_attribute(\"input_a\", a)\n",
    "\n",
    "        return a + 3\n",
    "    \n",
    "    # @tracer.start_as_current_span(\"someclassmethod\")\n",
    "    @instrument\n",
    "    @classmethod\n",
    "    def someclassmethod(cls: Type[Self], a: int) -> int:\n",
    "\n",
    "        current_span = trace.get_current_span()\n",
    "        current_span.set_attribute(\"input_a\", a)\n",
    "\n",
    "        return a + 4\n",
    "\n",
    "#with tracer.start_as_current_span(\"root\") as span_root:\n",
    "#    span_root.set_attribute(\"root_someattr\", 42)\n",
    "#    print(\"root hello\")\n",
    "#    with tracer.start_as_current_span(\"level1\") as span_level1:\n",
    "#        span_level1.set_attribute(\"level1_someattr\", 100)\n",
    "#        print(\"level1 hello\")"
   ]
  },
  {
   "cell_type": "code",
   "execution_count": null,
   "metadata": {},
   "outputs": [],
   "source": [
    "dir(tracer)"
   ]
  },
  {
   "cell_type": "code",
   "execution_count": null,
   "metadata": {},
   "outputs": [],
   "source": [
    "with tracer.start_as_current_span(\"root\") as span:\n",
    "    innerfunction(1)\n",
    "    innerfunction(1)\n",
    "#outerfunction(4)\n",
    "\n",
    "# await someasyncfunction(4)\n",
    "\n",
    "# for a in somegenfunction(3):\n",
    "#    print(a)\n",
    "\n",
    "# await someasyncfunction(2)\n",
    "# async for a in someasyncgenfunction(4):\n",
    "#     print(a)"
   ]
  },
  {
   "cell_type": "code",
   "execution_count": null,
   "metadata": {},
   "outputs": [],
   "source": [
    "dir(tracer)"
   ]
  },
  {
   "cell_type": "code",
   "execution_count": null,
   "metadata": {},
   "outputs": [],
   "source": [
    "from trulens_eval.trace import Tracer, TracerProvider, tracer_provider\n",
    "tp = tracer_provider\n",
    "\n",
    "with tp.trace() as tracer:\n",
    "    with tracer.method() as span1:\n",
    "        print(type(span1), span1)\n",
    "\n",
    "    with tp.trace() as inner_tracer:\n",
    "\n",
    "        with tracer.method() as span2:\n",
    "            print(type(span2), span2)\n",
    "            raise Exception(\"test outer tracer error\")\n",
    "\n",
    "        with inner_tracer.method() as span3:\n",
    "            print(type(span3), span3)\n",
    "            raise Exception(\"test inner tracer error\")"
   ]
  },
  {
   "cell_type": "code",
   "execution_count": null,
   "metadata": {},
   "outputs": [],
   "source": [
    "from trulens_eval.trace import Tracer, TracerProvider, tracer_provider, get_tracer\n",
    "\n",
    "tracer = get_tracer()\n",
    "inner_tracer = get_tracer()\n",
    "\n",
    "with tracer.method() as span1:\n",
    "    print(type(span1), span1)\n",
    "\n",
    "    with tracer.method() as span2:\n",
    "        print(type(span2), span2)\n",
    "\n",
    "    with inner_tracer.method() as span3:\n",
    "        print(type(span3), span3)"
   ]
  }
 ],
 "metadata": {
  "kernelspec": {
   "display_name": "py38_trulens",
   "language": "python",
   "name": "python3"
  },
  "language_info": {
   "codemirror_mode": {
    "name": "ipython",
    "version": 3
   },
   "file_extension": ".py",
   "mimetype": "text/x-python",
   "name": "python",
   "nbconvert_exporter": "python",
   "pygments_lexer": "ipython3",
   "version": "3.12.0"
  },
  "orig_nbformat": 4
 },
 "nbformat": 4,
 "nbformat_minor": 2
}
