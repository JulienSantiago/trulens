{
 "cells": [
  {
   "cell_type": "markdown",
   "metadata": {},
   "source": [
    "# Trace Exporting Example"
   ]
  },
  {
   "cell_type": "code",
   "execution_count": 1,
   "metadata": {},
   "outputs": [],
   "source": [
    "%load_ext autoreload\n",
    "%autoreload 2\n",
    "from pathlib import Path\n",
    "import sys\n",
    "\n",
    "# If running from github repo, can use this:\n",
    "sys.path.append(str(Path().cwd().parent.parent.parent.resolve()))"
   ]
  },
  {
   "cell_type": "code",
   "execution_count": 2,
   "metadata": {},
   "outputs": [],
   "source": [
    "# Install zipkin python package:\n",
    "# ! pip install opentelemetry-exporter-zipkin-proto-http\n",
    "\n",
    "# Start the zipkin docker container:\n",
    "# ! docker run --rm -d -p 9411:9411 --name zipkin openzipkin/zipkin\n",
    "\n",
    "# Stop the zipkin docker container:\n",
    "# ! docker stop $(docker ps -a -q --filter ancestor=openzipkin/zipkin)"
   ]
  },
  {
   "cell_type": "code",
   "execution_count": 3,
   "metadata": {},
   "outputs": [
    {
     "name": "stdout",
     "output_type": "stream",
     "text": [
      "✅ OpenTelemetry exporter set: ZipkinExporter\n",
      "🦑 Tru initialized with db url sqlite:///default.sqlite .\n",
      "🛑 Secret keys may be written to the database. See the `database_redact_keys` option of `Tru` to prevent this.\n",
      "Force stopping dashboard ...\n",
      "killing psutil.Process(pid=40465, name='python3.12', status='running', started='18:46:21')\n",
      "Starting dashboard ...\n",
      "Config file already exists. Skipping writing process.\n",
      "Credentials file already exists. Skipping writing process.\n"
     ]
    },
    {
     "data": {
      "application/vnd.jupyter.widget-view+json": {
       "model_id": "f25d863657ef4bae8b177df49208d748",
       "version_major": 2,
       "version_minor": 0
      },
      "text/plain": [
       "Accordion(children=(VBox(children=(VBox(children=(Label(value='STDOUT'), Output())), VBox(children=(Label(valu…"
      ]
     },
     "metadata": {},
     "output_type": "display_data"
    },
    {
     "name": "stdout",
     "output_type": "stream",
     "text": [
      "Dashboard started at http://192.168.1.130:8501 .\n"
     ]
    },
    {
     "data": {
      "text/plain": [
       "<Popen: returncode: None args: ['streamlit', 'run', '--server.headless=True'...>"
      ]
     },
     "execution_count": 3,
     "metadata": {},
     "output_type": "execute_result"
    }
   ],
   "source": [
    "from examples.expositional.end2end_apps.custom_app.custom_app import CustomApp\n",
    "from trulens_eval import Tru\n",
    "from trulens_eval.tru_custom_app import TruCustomApp\n",
    "\n",
    "# Need to create dummy endpont for the instrumentation of the DummyAPI to\n",
    "# happen.\n",
    "from trulens_eval.feedback.provider.endpoint.dummy import DummyEndpoint\n",
    "DummyEndpoint()\n",
    "\n",
    "from opentelemetry.exporter.zipkin.proto.http import ZipkinExporter\n",
    "\n",
    "tru = Tru(\n",
    "    otel_exporter=ZipkinExporter(endpoint=\"http://localhost:9411/api/v2/spans\")\n",
    ")\n",
    "\n",
    "tru.reset_database()\n",
    "\n",
    "tru.start_dashboard(\n",
    "    force=True, _dev=Path().cwd().parent.parent.parent.resolve()\n",
    ")"
   ]
  },
  {
   "cell_type": "code",
   "execution_count": 4,
   "metadata": {},
   "outputs": [],
   "source": [
    "# Create custom app:\n",
    "ca = CustomApp()\n",
    "\n",
    "# Create trulens wrapper:\n",
    "ta = TruCustomApp(\n",
    "    ca,\n",
    "    app_id=\"customapp\",\n",
    ")"
   ]
  },
  {
   "cell_type": "code",
   "execution_count": 5,
   "metadata": {},
   "outputs": [
    {
     "name": "stdout",
     "output_type": "stream",
     "text": [
      "✅ Exporting 1 spans to ZipkinExporter.\n",
      "✅ Exporting 15 spans to ZipkinExporter.\n",
      "✅ Exporting 2 spans to ZipkinExporter.\n",
      "✅ Exporting 1 spans to ZipkinExporter.\n",
      "✅ Exporting 15 spans to ZipkinExporter.\n"
     ]
    }
   ],
   "source": [
    "# Nested context managers.\n",
    "with ta as recorder1:\n",
    "    ca.llm.generate(\"this is the outer memory remember\")\n",
    "    with ta as recorder2:\n",
    "        ca.memory.remember(\"this is the inner memory remember\")\n",
    "        ca.respond_to_query(f\"hello\")"
   ]
  },
  {
   "cell_type": "code",
   "execution_count": null,
   "metadata": {},
   "outputs": [],
   "source": []
  }
 ],
 "metadata": {
  "kernelspec": {
   "display_name": "py312",
   "language": "python",
   "name": "python3"
  },
  "language_info": {
   "codemirror_mode": {
    "name": "ipython",
    "version": 3
   },
   "file_extension": ".py",
   "mimetype": "text/x-python",
   "name": "python",
   "nbconvert_exporter": "python",
   "pygments_lexer": "ipython3",
   "version": "3.12.0"
  }
 },
 "nbformat": 4,
 "nbformat_minor": 2
}
