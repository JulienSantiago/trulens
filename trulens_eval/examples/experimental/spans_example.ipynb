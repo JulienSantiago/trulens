{
 "cells": [
  {
   "cell_type": "markdown",
   "metadata": {},
   "source": [
    "# Working with Spans"
   ]
  },
  {
   "cell_type": "code",
   "execution_count": 1,
   "metadata": {},
   "outputs": [],
   "source": [
    "%load_ext autoreload\n",
    "%autoreload 2\n",
    "from pathlib import Path\n",
    "import sys\n",
    "\n",
    "# If running from github repo, can use this:\n",
    "repo = Path().cwd().parent.parent.resolve()\n",
    "sys.path.append(str(repo))"
   ]
  },
  {
   "cell_type": "code",
   "execution_count": 2,
   "metadata": {},
   "outputs": [],
   "source": [
    "from pprint import pformat\n",
    "from pprint import pprint\n",
    "\n",
    "from examples.expositional.end2end_apps.custom_app.custom_app import CustomApp\n",
    "import pandas as pd\n",
    "\n",
    "from trulens_eval import instruments\n",
    "from trulens_eval.trace.category import Categorizer\n",
    "from trulens_eval.tru_custom_app import TruCustomApp"
   ]
  },
  {
   "cell_type": "code",
   "execution_count": 3,
   "metadata": {},
   "outputs": [
    {
     "name": "stdout",
     "output_type": "stream",
     "text": [
      "🦑 Tru initialized with db url sqlite:///default.sqlite .\n",
      "🛑 Secret keys may be written to the database. See the `database_redact_keys` option of Tru` to prevent this.\n"
     ]
    }
   ],
   "source": [
    "# Create custom app:\n",
    "ca = CustomApp(delay=0.0, alloc=0)\n",
    "\n",
    "# Create trulens wrapper:\n",
    "ta = TruCustomApp(\n",
    "    ca,\n",
    "    app_id=\"customapp\",\n",
    ")"
   ]
  },
  {
   "cell_type": "code",
   "execution_count": 4,
   "metadata": {},
   "outputs": [
    {
     "name": "stdout",
     "output_type": "stream",
     "text": [
      "Module examples.expositional.end2end_apps.custom_app.custom_app*\n",
      "  Class examples.expositional.end2end_apps.custom_app.custom_app.CustomApp\n",
      "    Method retrieve_chunks: (self, data)\n",
      "    Method respond_to_query: (self, input)\n",
      "    Method arespond_to_query: (self, input)\n",
      "  Class examples.expositional.end2end_apps.custom_app.custom_app.CustomTemplate\n",
      "    Method fill: (self, question, answer)\n",
      "\n",
      "Module examples.expositional.end2end_apps.custom_app.custom_llm*\n",
      "  Class examples.expositional.end2end_apps.custom_app.custom_llm.CustomLLM\n",
      "    Method generate: (self, prompt: str)\n",
      "\n",
      "Module examples.expositional.end2end_apps.custom_app.custom_memory*\n",
      "  Class examples.expositional.end2end_apps.custom_app.custom_memory.CustomMemory\n",
      "    Method remember: (self, data: str)\n",
      "\n",
      "Module examples.expositional.end2end_apps.custom_app.custom_retriever*\n",
      "  Class examples.expositional.end2end_apps.custom_app.custom_retriever.CustomRetriever\n",
      "    Method retrieve_chunks: (self, data)\n",
      "      Span type: SpanType.RETRIEVER\n",
      "\n",
      "Module trulens_eval.*\n",
      "  Class trulens_eval.feedback.feedback.Feedback\n",
      "    Method __call__: (self, *args, **kwargs) -> 'Any'\n",
      "\n"
     ]
    }
   ],
   "source": [
    "instruments.Instrument().print_instrumentation()"
   ]
  },
  {
   "cell_type": "code",
   "execution_count": 5,
   "metadata": {},
   "outputs": [],
   "source": [
    "with ta as recorder:\n",
    "    res = ca.respond_to_query(f\"hello\")\n",
    "\n",
    "rec = recorder.get()"
   ]
  },
  {
   "cell_type": "code",
   "execution_count": 7,
   "metadata": {},
   "outputs": [
    {
     "data": {
      "text/html": [
       "<div>\n",
       "<style scoped>\n",
       "    .dataframe tbody tr th:only-of-type {\n",
       "        vertical-align: middle;\n",
       "    }\n",
       "\n",
       "    .dataframe tbody tr th {\n",
       "        vertical-align: top;\n",
       "    }\n",
       "\n",
       "    .dataframe thead th {\n",
       "        text-align: right;\n",
       "    }\n",
       "</style>\n",
       "<table border=\"1\" class=\"dataframe\">\n",
       "  <thead>\n",
       "    <tr style=\"text-align: right;\">\n",
       "      <th></th>\n",
       "      <th>0</th>\n",
       "      <th>1</th>\n",
       "      <th>2</th>\n",
       "      <th>3</th>\n",
       "      <th>4</th>\n",
       "    </tr>\n",
       "  </thead>\n",
       "  <tbody>\n",
       "    <tr>\n",
       "      <th>0</th>\n",
       "      <td>root</td>\n",
       "      <td>SpanType.ROOT</td>\n",
       "      <td>12515400569902585719</td>\n",
       "      <td>NaN</td>\n",
       "      <td>{'trulens_eval@span_type': 'SpanRoot'}</td>\n",
       "    </tr>\n",
       "    <tr>\n",
       "      <th>1</th>\n",
       "      <td>retrieve_chunks</td>\n",
       "      <td>SpanType.RETRIEVER</td>\n",
       "      <td>10098215340056937626</td>\n",
       "      <td>1.251540e+19</td>\n",
       "      <td>{'trulens_eval@span_type': 'SpanRetriever', 't...</td>\n",
       "    </tr>\n",
       "    <tr>\n",
       "      <th>2</th>\n",
       "      <td>retrieve_chunks</td>\n",
       "      <td>SpanType.OTHER</td>\n",
       "      <td>2922204723152669435</td>\n",
       "      <td>1.251540e+19</td>\n",
       "      <td>{'trulens_eval@span_type': 'SpanOther'}</td>\n",
       "    </tr>\n",
       "    <tr>\n",
       "      <th>3</th>\n",
       "      <td>remember</td>\n",
       "      <td>SpanType.OTHER</td>\n",
       "      <td>14392575192796042941</td>\n",
       "      <td>1.251540e+19</td>\n",
       "      <td>{'trulens_eval@span_type': 'SpanOther'}</td>\n",
       "    </tr>\n",
       "    <tr>\n",
       "      <th>4</th>\n",
       "      <td>generate</td>\n",
       "      <td>SpanType.OTHER</td>\n",
       "      <td>4309257820743789116</td>\n",
       "      <td>1.251540e+19</td>\n",
       "      <td>{'trulens_eval@span_type': 'SpanOther'}</td>\n",
       "    </tr>\n",
       "    <tr>\n",
       "      <th>5</th>\n",
       "      <td>fill</td>\n",
       "      <td>SpanType.OTHER</td>\n",
       "      <td>13201551325662865226</td>\n",
       "      <td>1.251540e+19</td>\n",
       "      <td>{'trulens_eval@span_type': 'SpanOther'}</td>\n",
       "    </tr>\n",
       "    <tr>\n",
       "      <th>6</th>\n",
       "      <td>remember</td>\n",
       "      <td>SpanType.OTHER</td>\n",
       "      <td>4305599740194858846</td>\n",
       "      <td>1.251540e+19</td>\n",
       "      <td>{'trulens_eval@span_type': 'SpanOther'}</td>\n",
       "    </tr>\n",
       "    <tr>\n",
       "      <th>7</th>\n",
       "      <td>respond_to_query</td>\n",
       "      <td>SpanType.OTHER</td>\n",
       "      <td>5226642946292543104</td>\n",
       "      <td>1.251540e+19</td>\n",
       "      <td>{'trulens_eval@span_type': 'SpanOther'}</td>\n",
       "    </tr>\n",
       "  </tbody>\n",
       "</table>\n",
       "</div>"
      ],
      "text/plain": [
       "                  0                   1                     2             3  \\\n",
       "0              root       SpanType.ROOT  12515400569902585719           NaN   \n",
       "1   retrieve_chunks  SpanType.RETRIEVER  10098215340056937626  1.251540e+19   \n",
       "2   retrieve_chunks      SpanType.OTHER   2922204723152669435  1.251540e+19   \n",
       "3          remember      SpanType.OTHER  14392575192796042941  1.251540e+19   \n",
       "4          generate      SpanType.OTHER   4309257820743789116  1.251540e+19   \n",
       "5              fill      SpanType.OTHER  13201551325662865226  1.251540e+19   \n",
       "6          remember      SpanType.OTHER   4305599740194858846  1.251540e+19   \n",
       "7  respond_to_query      SpanType.OTHER   5226642946292543104  1.251540e+19   \n",
       "\n",
       "                                                   4  \n",
       "0             {'trulens_eval@span_type': 'SpanRoot'}  \n",
       "1  {'trulens_eval@span_type': 'SpanRetriever', 't...  \n",
       "2            {'trulens_eval@span_type': 'SpanOther'}  \n",
       "3            {'trulens_eval@span_type': 'SpanOther'}  \n",
       "4            {'trulens_eval@span_type': 'SpanOther'}  \n",
       "5            {'trulens_eval@span_type': 'SpanOther'}  \n",
       "6            {'trulens_eval@span_type': 'SpanOther'}  \n",
       "7            {'trulens_eval@span_type': 'SpanOther'}  "
      ]
     },
     "execution_count": 7,
     "metadata": {},
     "output_type": "execute_result"
    }
   ],
   "source": [
    "spans = Categorizer.spans_of_record(rec)\n",
    "\n",
    "pd.DataFrame([(s.name, s.span_type, s.span_id, s.parent_span_id, s.attributes) for s in spans])\n"
   ]
  },
  {
   "cell_type": "code",
   "execution_count": null,
   "metadata": {},
   "outputs": [],
   "source": []
  }
 ],
 "metadata": {
  "kernelspec": {
   "display_name": "py38_trulens",
   "language": "python",
   "name": "python3"
  },
  "language_info": {
   "codemirror_mode": {
    "name": "ipython",
    "version": 3
   },
   "file_extension": ".py",
   "mimetype": "text/x-python",
   "name": "python",
   "nbconvert_exporter": "python",
   "pygments_lexer": "ipython3",
   "version": "3.11.6"
  },
  "orig_nbformat": 4
 },
 "nbformat": 4,
 "nbformat_minor": 2
}
