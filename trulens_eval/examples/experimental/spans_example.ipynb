{
 "cells": [
  {
   "cell_type": "code",
   "execution_count": null,
   "metadata": {},
   "outputs": [],
   "source": [
    "def lense_json(\n",
    "    val: TPyJSON, lens: Lens = None\n",
    ") -> Dict[Lens, ot_types.AttributeValue]:\n",
    "    \"\"\"Convert a json structure to an OpenTelemetry attributes dict.\n",
    "\n",
    "    OT dicts have limited types in their values so a single JSON may need to be\n",
    "    converted to multiple OT key/value pairs. The approach is to store\n",
    "    paths/lenses into basic JSON elements, serialized into strings, as keys and\n",
    "    those basic elements as values.\n",
    "    \"\"\"\n",
    "\n",
    "    if lens is None:\n",
    "        lens = Lens()\n",
    "\n",
    "    if isinstance(val, TPyJSONBase):\n",
    "        return {lens: val}\n",
    "\n",
    "    if isinstance(val, Dict):\n",
    "        ret = {}\n",
    "        for k, v in val.items():\n",
    "            sublens = lens[k]\n",
    "            ret.update(lense_json(v, sublens))\n",
    "        return ret\n",
    "\n",
    "    elif isinstance(val, Sequence):\n",
    "        if len(val) == 0:\n",
    "                return {lens: val}\n",
    "        typ = type(val[0])\n",
    "\n",
    "        if isinstance(val[0], TPyJSON) and all(isinstance(x, typ) for x in val):\n",
    "            return {lens: val}\n",
    "        \n",
    "        ret = {}\n",
    "        for i in range(len(val)):\n",
    "            sublens = lens[i]\n",
    "            subval = val[i]\n",
    "            ret.update(lense_json(subval, sublens))\n",
    "\n",
    "        return ret\n",
    "\n",
    "    else:\n",
    "        raise ValueError(f\"Unexpected type: {type(val)}\")\n",
    "\n",
    "lense_json({\"hello\": 1, \"true\": 2})"
   ]
  },
  {
   "cell_type": "code",
   "execution_count": null,
   "metadata": {},
   "outputs": [],
   "source": [
    "from typing import Union, Dict, List, Mapping, Sequence, TypeVar, Generic, Optional\n",
    "\n",
    "TPyJSONBase = Union[str, int, float, bool]\n",
    "\n",
    "TPyJSON = Union[TPyJSONBase, Mapping[str, 'TPyJSON'], Sequence['TPyJSON']]\n",
    "from opentelemetry.util import types as ot_types\n",
    "\n",
    "\"\"\"\n",
    "AttributeValue = Union[\n",
    "    str,\n",
    "    bool,\n",
    "    int,\n",
    "    float,\n",
    "    Sequence[str],\n",
    "    Sequence[bool],\n",
    "    Sequence[int],\n",
    "    Sequence[float],\n",
    "]\n",
    "\"\"\"\n",
    "\n",
    "from trulens_eval.utils.serial import Lens\n",
    "\n",
    "T = TypeVar(\"T\")\n",
    "\n",
    "class LensMappedDict(Generic[T], Dict[str, T]):\n",
    "    def __init__(self, store: Optional[dict] = None, lens: Lens = None):\n",
    "        if store is None:\n",
    "            store = {}\n",
    "        self.store = store\n",
    "\n",
    "        if lens is None:\n",
    "            lens = Lens() \n",
    "        self.lens = lens\n",
    "\n",
    "        self.relative_store = {}\n",
    "\n",
    "    def __repr__(self):\n",
    "        return repr(self.relative_store)\n",
    "\n",
    "    def __str__(self):\n",
    "        return str(self.relative_store)\n",
    "\n",
    "    def unmap_value(self, value: Union[T, 'LensMappedDict[T]']) -> T:\n",
    "        if isinstance(value, LensMappedDict):\n",
    "            ret = {}\n",
    "            for k, v in value.relative_store.items():\n",
    "                ret[k] = value.unmap_value(v)\n",
    "\n",
    "            return ret\n",
    "            \n",
    "        elif isinstance(value, TPyJSONBase):\n",
    "            return value\n",
    "\n",
    "        elif value is None:\n",
    "            return value\n",
    "\n",
    "        else:\n",
    "            raise ValueError(f\"Unexpected type: {type(value)}\")\n",
    "\n",
    "    def map_value(self, lens: Lens, value: T) -> Union[T, 'LensMappedDict[T]']:\n",
    "        if isinstance(value, TPyJSONBase):\n",
    "            return value\n",
    "\n",
    "        elif isinstance(value, Dict):\n",
    "            temp = LensMappedDict(store=self.store, lens=lens)\n",
    "            for k, v in value.items():\n",
    "                temp[k] = v\n",
    "            return temp\n",
    "\n",
    "        elif isinstance(value, Sequence):\n",
    "            if len(value) == 0:\n",
    "                return value\n",
    "            typ = type(value[0])\n",
    "\n",
    "            if isinstance(value[0], TPyJSON) and all(isinstance(x, typ) for x in value):\n",
    "                return value\n",
    "\n",
    "            temp = LensMappedDict(store=self.store, lens=lens)\n",
    "            for i in range(len(value)):\n",
    "                temp[i] = value[i]\n",
    "\n",
    "            return temp\n",
    "\n",
    "        else:\n",
    "            raise ValueError(f\"Unexpected type: {type(value)}\")\n",
    "\n",
    "    def __getitem__(self, key: str, default: Optional[T] = None) -> T:\n",
    "        return self.relative_store.get(key, default)\n",
    "\n",
    "    def __setitem__(self, key: str, value: T) -> None:\n",
    "        lens = self.lens[key]\n",
    "        mapped_val = self.map_value(lens, value)\n",
    "\n",
    "        if key in self.relative_store:\n",
    "            # Need to delete as there might be multiple store lenses associated\n",
    "            # with this key.\n",
    "            del self[key]\n",
    "        \n",
    "        self.store[lens] = mapped_val\n",
    "        self.relative_store[key] = mapped_val\n",
    "\n",
    "    def __delitem__(self, key: str) -> None:\n",
    "        lens = self.lens[key]\n",
    "        val = self.relative_store[key]\n",
    "\n",
    "        if isinstance(val, LensMappedDict):\n",
    "            del val\n",
    "\n",
    "        del self.store[lens]\n",
    "        del self.relative_store[key]\n",
    "\n",
    "    def __del__(self):\n",
    "        for k, v in list(self.relative_store.items()):\n",
    "            sublens = self.lens[k]\n",
    "\n",
    "            if hasattr(v, \"__del__\"):\n",
    "                del v\n",
    "\n",
    "            del self.relative_store[k]\n",
    "            del self.store[sublens]\n",
    "\n"
   ]
  },
  {
   "cell_type": "code",
   "execution_count": null,
   "metadata": {},
   "outputs": [],
   "source": [
    "temp = LensMappedDict()"
   ]
  },
  {
   "cell_type": "code",
   "execution_count": null,
   "metadata": {},
   "outputs": [],
   "source": [
    "temp['something'] = {'a': 1, 'b': 2, 'sub': {'c': 3, 'd': 4}}\n",
    "temp.store"
   ]
  },
  {
   "cell_type": "code",
   "execution_count": null,
   "metadata": {},
   "outputs": [],
   "source": [
    "temp['something']['sub'] = 42\n",
    "temp.store"
   ]
  },
  {
   "cell_type": "code",
   "execution_count": null,
   "metadata": {},
   "outputs": [],
   "source": [
    "type(temp.relative_store['something'])"
   ]
  },
  {
   "cell_type": "markdown",
   "metadata": {},
   "source": [
    "# Working with Spans"
   ]
  },
  {
   "cell_type": "code",
   "execution_count": null,
   "metadata": {},
   "outputs": [],
   "source": [
    "%load_ext autoreload\n",
    "%autoreload 2\n",
    "from pathlib import Path\n",
    "import sys\n",
    "\n",
    "# If running from github repo, can use this:\n",
    "repo = Path().cwd().parent.parent.resolve()\n",
    "sys.path.append(str(repo))"
   ]
  },
  {
   "cell_type": "code",
   "execution_count": null,
   "metadata": {},
   "outputs": [],
   "source": [
    "from pprint import pformat\n",
    "from pprint import pprint\n",
    "\n",
    "from examples.expositional.end2end_apps.custom_app.custom_app import CustomApp\n",
    "from examples.expositional.end2end_apps.custom_app.custom_retriever import CustomRetriever\n",
    "import pandas as pd\n",
    "\n",
    "from trulens_eval import instruments\n",
    "from trulens_eval.trace.category import Categorizer\n",
    "from trulens_eval.tru_custom_app import TruCustomApp"
   ]
  },
  {
   "cell_type": "code",
   "execution_count": null,
   "metadata": {},
   "outputs": [],
   "source": [
    "from trulens_eval import Tru\n",
    "Tru().reset_database()\n",
    "Tru().start_dashboard(_dev=repo, force=True)"
   ]
  },
  {
   "cell_type": "code",
   "execution_count": null,
   "metadata": {},
   "outputs": [],
   "source": [
    "# Create custom app:\n",
    "ca = CustomApp(delay=0.0, alloc=0)\n",
    "\n",
    "# Create trulens wrapper:\n",
    "ta = TruCustomApp(\n",
    "    ca,\n",
    "    app_id=\"customapp\",\n",
    ")"
   ]
  },
  {
   "cell_type": "code",
   "execution_count": null,
   "metadata": {},
   "outputs": [],
   "source": [
    "instruments.Instrument().print_instrumentation()"
   ]
  },
  {
   "cell_type": "code",
   "execution_count": null,
   "metadata": {},
   "outputs": [],
   "source": [
    "ta.print_instrumented()"
   ]
  },
  {
   "cell_type": "code",
   "execution_count": null,
   "metadata": {},
   "outputs": [],
   "source": [
    "with ta as recorder:\n",
    "    res = ca.respond_to_query(f\"hello\")\n",
    "\n",
    "rec = recorder.get()"
   ]
  },
  {
   "cell_type": "code",
   "execution_count": null,
   "metadata": {},
   "outputs": [],
   "source": [
    "rec.calls[0].model_dump()"
   ]
  },
  {
   "cell_type": "code",
   "execution_count": null,
   "metadata": {},
   "outputs": [],
   "source": [
    "spans = Categorizer.spans_of_record(rec)\n",
    "\n",
    "pd.DataFrame(\n",
    "    [(\n",
    "        s.trace_id & 0xff,\n",
    "        s.name,\n",
    "        type(s),\n",
    "        s.span_type,\n",
    "        s.span_id & 0xff,\n",
    "        s.parent_span_id & 0xff if s.parent_span_id else 0,\n",
    "        s.attributes\n",
    "    ) for s in spans],\n",
    "    columns=[\n",
    "        \"trace_id\",\n",
    "        \"name\",\n",
    "        \"type\",\n",
    "        \"span_type\",\n",
    "        \"span_id\",\n",
    "        \"parent_span_id\",\n",
    "        \"attributes\"\n",
    "    ],\n",
    ")\n"
   ]
  },
  {
   "cell_type": "code",
   "execution_count": null,
   "metadata": {},
   "outputs": [],
   "source": [
    "for span in spans:\n",
    "    pprint(span)\n",
    "    pprint(span.model_dump())\n",
    "    print()"
   ]
  }
 ],
 "metadata": {
  "kernelspec": {
   "display_name": "py38_trulens",
   "language": "python",
   "name": "python3"
  },
  "language_info": {
   "codemirror_mode": {
    "name": "ipython",
    "version": 3
   },
   "file_extension": ".py",
   "mimetype": "text/x-python",
   "name": "python",
   "nbconvert_exporter": "python",
   "pygments_lexer": "ipython3",
   "version": "3.11.6"
  },
  "orig_nbformat": 4
 },
 "nbformat": 4,
 "nbformat_minor": 2
}
