{
 "cells": [
  {
   "cell_type": "markdown",
   "metadata": {},
   "source": [
    "from opentelemetry import trace\n",
    "from opentelemetry.exporter.otlp.proto.grpc.trace_exporter import OTLPSpanExporter\n",
    "from opentelemetry.sdk.resources import Resource\n",
    "from opentelemetry.sdk.trace import TracerProvider\n",
    "from opentelemetry.sdk.trace.export import BatchSpanProcessor\n",
    "\n",
    "# Resource can be required for some backends, e.g. Jaeger\n",
    "# If resource wouldn't be set - traces wouldn't appears in Jaeger\n",
    "resource = Resource(attributes={\n",
    "    \"service.name\": \"service\"\n",
    "})\n",
    "\n",
    "trace.set_tracer_provider(TracerProvider(resource=resource))\n",
    "tracer = trace.get_tracer(__name__)\n",
    "\n",
    "otlp_exporter = OTLPSpanExporter(endpoint=\"http://localhost:4317\", insecure=True)\n",
    "\n",
    "span_processor = BatchSpanProcessor(otlp_exporter)\n",
    "\n",
    "trace.get_tracer_provider().add_span_processor(span_processor)\n",
    "\n",
    "with tracer.start_as_current_span(\"foo\"):\n",
    "    print(\"Hello world!\")"
   ]
  },
  {
   "cell_type": "markdown",
   "metadata": {},
   "source": [
    "# Working with Spans"
   ]
  },
  {
   "cell_type": "code",
   "execution_count": null,
   "metadata": {},
   "outputs": [],
   "source": [
    "%load_ext autoreload\n",
    "%autoreload 2\n",
    "from pathlib import Path\n",
    "import sys\n",
    "\n",
    "# If running from github repo, can use this:\n",
    "repo = Path().cwd().parent.parent.resolve()\n",
    "sys.path.append(str(repo))"
   ]
  },
  {
   "cell_type": "code",
   "execution_count": null,
   "metadata": {},
   "outputs": [],
   "source": [
    "from pprint import pformat\n",
    "from pprint import pprint\n",
    "\n",
    "from examples.expositional.end2end_apps.custom_app.custom_app import CustomApp\n",
    "from examples.expositional.end2end_apps.custom_app.custom_retriever import CustomRetriever\n",
    "import pandas as pd\n",
    "\n",
    "from trulens_eval import instruments\n",
    "from trulens_eval.trace.category import Categorizer\n",
    "from trulens_eval.tru_custom_app import TruCustomApp"
   ]
  },
  {
   "cell_type": "code",
   "execution_count": null,
   "metadata": {},
   "outputs": [],
   "source": [
    "from trulens_eval import Tru\n",
    "Tru().reset_database()\n",
    "Tru().start_dashboard(_dev=repo, force=True)"
   ]
  },
  {
   "cell_type": "code",
   "execution_count": null,
   "metadata": {},
   "outputs": [],
   "source": [
    "# Create custom app:\n",
    "custom_app = CustomApp(delay=0.0, alloc=0)\n",
    "\n",
    "# Create trulens wrapper:\n",
    "tru_custom_app = TruCustomApp(\n",
    "    custom_app,\n",
    "    app_id=\"customapp\",\n",
    ")\n",
    "\n",
    "custom_agent = custom_app.agents[0]\n",
    "\n",
    "tru_custom_agent = TruCustomApp(\n",
    "     custom_agent,\n",
    "     app_id=\"customapp_agent\"\n",
    ")"
   ]
  },
  {
   "cell_type": "code",
   "execution_count": null,
   "metadata": {},
   "outputs": [],
   "source": [
    "custom_app.respond_to_query(\"testing\")"
   ]
  },
  {
   "cell_type": "code",
   "execution_count": null,
   "metadata": {},
   "outputs": [],
   "source": [
    "instruments.Instrument().print_instrumentation()"
   ]
  },
  {
   "cell_type": "code",
   "execution_count": null,
   "metadata": {},
   "outputs": [],
   "source": [
    "tru_custom_app.print_instrumented()"
   ]
  },
  {
   "cell_type": "code",
   "execution_count": null,
   "metadata": {},
   "outputs": [],
   "source": [
    "tru_custom_agent.print_instrumented()"
   ]
  },
  {
   "cell_type": "code",
   "execution_count": null,
   "metadata": {},
   "outputs": [],
   "source": [
    "# Create custom app:\n",
    "custom_app1 = CustomApp(delay=0.0, alloc=0)\n",
    "\n",
    "# Create trulens wrapper:\n",
    "tru_custom_app1 = TruCustomApp(\n",
    "    custom_app1,\n",
    "    app_id=\"customapp1\",\n",
    ")\n",
    "\n",
    "# Create another custom app:\n",
    "custom_app2 = CustomApp(delay=0.0, alloc=0)\n",
    "\n",
    "# Create another trulens wrapper:\n",
    "tru_custom_app2 = TruCustomApp(\n",
    "    custom_app2,\n",
    "    app_id=\"customapp2\",\n",
    ")\n",
    "\n",
    "# Sequential contexts.\n",
    "with tru_custom_app1 as recorder_app1:\n",
    "    res_app1 = custom_app1.respond_to_query(\"hello 1\")\n",
    "\n",
    "with tru_custom_app2 as recorder_app2:\n",
    "    res_app2 = custom_app2.respond_to_query(\"hello 2\")\n",
    "\n",
    "# Nested sequential contexts.\n",
    "with tru_custom_app1 as recorder_app1:\n",
    "    res_app1 = custom_app1.respond_to_query(\"hello 1\")\n",
    "\n",
    "    with tru_custom_app2 as recorder_app2:\n",
    "        res_app2 = custom_app2.respond_to_query(\"hello 2\")"
   ]
  },
  {
   "cell_type": "code",
   "execution_count": null,
   "metadata": {},
   "outputs": [],
   "source": [
    "res_app1"
   ]
  },
  {
   "cell_type": "code",
   "execution_count": null,
   "metadata": {},
   "outputs": [],
   "source": [
    "res_app2"
   ]
  },
  {
   "cell_type": "code",
   "execution_count": null,
   "metadata": {},
   "outputs": [],
   "source": [
    "# Create custom app:\n",
    "custom_app = CustomApp(delay=0.0, alloc=0)\n",
    "\n",
    "# Create trulens wrapper:\n",
    "tru_custom_app = TruCustomApp(\n",
    "    custom_app,\n",
    "    app_id=\"customapp\",\n",
    ")\n",
    "\n",
    "# A component of the custom app:\n",
    "custom_agent = custom_app.agents[0]\n",
    "\n",
    "# A recorder of the component:\n",
    "tru_custom_agent = TruCustomApp(\n",
    "     custom_agent,\n",
    "     app_id=\"customapp_agent\"\n",
    ")\n",
    "\n",
    "with tru_custom_app as recorder_app:\n",
    "    res_app = custom_app.respond_to_query(f\"hello\")\n",
    "\n",
    "    with tru_custom_agent as recorder_agent:\n",
    "        res_agent = custom_agent.invoke(\"hello\")\n",
    "\n",
    "rec_app = recorder_app.records # 2 records\n",
    "\n",
    "rec_agent = recorder_agent.get() # Just the agent"
   ]
  },
  {
   "cell_type": "code",
   "execution_count": null,
   "metadata": {},
   "outputs": [],
   "source": [
    "rec_app"
   ]
  },
  {
   "cell_type": "code",
   "execution_count": null,
   "metadata": {},
   "outputs": [],
   "source": [
    "spans = Categorizer.spans_of_record(rec_agent)\n",
    "\n",
    "pd.DataFrame(\n",
    "    [(\n",
    "        s.trace_id & 0xff,\n",
    "        s.name,\n",
    "        type(s).__name__,\n",
    "        s.span_type,\n",
    "        s.span_id & 0xff,\n",
    "        s.parent_span_id & 0xff if s.parent_span_id else -1,\n",
    "        s.attributes\n",
    "    ) for s in spans],\n",
    "    columns=[\n",
    "        \"trace_id\",\n",
    "        \"name\",\n",
    "        \"type\",\n",
    "        \"span_type\",\n",
    "        \"span_id\",\n",
    "        \"parent_span_id\",\n",
    "        \"attributes\"\n",
    "    ],\n",
    ")"
   ]
  },
  {
   "cell_type": "code",
   "execution_count": null,
   "metadata": {},
   "outputs": [],
   "source": [
    "for span in spans:\n",
    "    pprint(span)\n",
    "    # pprint(span.model_dump())\n",
    "    print()"
   ]
  },
  {
   "cell_type": "code",
   "execution_count": null,
   "metadata": {},
   "outputs": [],
   "source": [
    "frozen = spans[1].freeze()"
   ]
  },
  {
   "cell_type": "code",
   "execution_count": null,
   "metadata": {},
   "outputs": [],
   "source": [
    "frozen.attributes"
   ]
  },
  {
   "cell_type": "code",
   "execution_count": null,
   "metadata": {},
   "outputs": [],
   "source": [
    "from trulens_eval.trace.span import Span\n",
    "\n",
    "Span.thaw(frozen).model_dump()"
   ]
  },
  {
   "cell_type": "code",
   "execution_count": null,
   "metadata": {},
   "outputs": [],
   "source": [
    "from examples.expositional.end2end_apps.custom_app.custom_tool import CustomStackTool\n",
    "# setattr(CustomStackTool, \"invoke\", None)\n",
    "getattr(CustomStackTool.invoke, \"__tru_apps\")"
   ]
  },
  {
   "cell_type": "code",
   "execution_count": null,
   "metadata": {},
   "outputs": [],
   "source": []
  },
  {
   "cell_type": "code",
   "execution_count": null,
   "metadata": {},
   "outputs": [],
   "source": [
    "dir(CustomStackTool.last_stack[0])"
   ]
  },
  {
   "cell_type": "code",
   "execution_count": null,
   "metadata": {},
   "outputs": [],
   "source": [
    "import dis\n",
    "for field in [\"f_lasti\", \"f_lineno\", \"f_trace_lines\", \"f_trace_opcodes\"]:#, \"f_code\", ]:\n",
    "    print(CustomStackTool.last_stack[0].f_globals['__name__'])\n",
    "    print(f\"{field}: {getattr(CustomStackTool.last_stack[0], field)}\")\n",
    "    continue\n",
    "    for cfield in [\n",
    "        'co_argcount',\n",
    "        'co_cellvars',\n",
    "        'co_code',\n",
    "        'co_consts',\n",
    "        'co_exceptiontable',\n",
    "        'co_filename',\n",
    "        'co_firstlineno',\n",
    "        'co_flags',\n",
    "        'co_freevars',\n",
    "        'co_kwonlyargcount',\n",
    "        'co_lines',\n",
    "        'co_linetable',\n",
    "        'co_lnotab',\n",
    "        'co_name',\n",
    "        'co_names',\n",
    "        'co_nlocals',\n",
    "        'co_positions',\n",
    "        'co_posonlyargcount',\n",
    "        'co_qualname',\n",
    "        'co_stacksize',\n",
    "        'co_varnames'\n",
    "    ]:\n",
    "        if cfield == \"co_code\":\n",
    "            print(f\"  {cfield}: {dis.Bytecode(CustomStackTool.last_stack[0].f_code).dis()}\")\n",
    "        else:\n",
    "            print(f\"  {cfield}: {getattr(CustomStackTool.last_stack[0].f_code, cfield)}\")\n",
    "\n",
    "    "
   ]
  },
  {
   "cell_type": "code",
   "execution_count": null,
   "metadata": {},
   "outputs": [],
   "source": [
    "b = dis.Bytecode(CustomStackTool.last_stack[0].f_code)"
   ]
  },
  {
   "cell_type": "code",
   "execution_count": null,
   "metadata": {},
   "outputs": [],
   "source": [
    "import inspect\n",
    "inspect.getmodule(CustomStackTool.last_stack[0].f_code).__name__"
   ]
  },
  {
   "cell_type": "code",
   "execution_count": null,
   "metadata": {},
   "outputs": [],
   "source": [
    "\n"
   ]
  },
  {
   "cell_type": "code",
   "execution_count": null,
   "metadata": {},
   "outputs": [],
   "source": [
    "for line in CustomStackTool.last_stack[0].f_code.co_lines():\n",
    "    print(line)"
   ]
  },
  {
   "cell_type": "code",
   "execution_count": null,
   "metadata": {},
   "outputs": [],
   "source": []
  }
 ],
 "metadata": {
  "kernelspec": {
   "display_name": "py38_trulens",
   "language": "python",
   "name": "python3"
  },
  "language_info": {
   "codemirror_mode": {
    "name": "ipython",
    "version": 3
   },
   "file_extension": ".py",
   "mimetype": "text/x-python",
   "name": "python",
   "nbconvert_exporter": "python",
   "pygments_lexer": "ipython3",
   "version": "3.12.0"
  },
  "orig_nbformat": 4
 },
 "nbformat": 4,
 "nbformat_minor": 2
}
