{
 "cells": [
  {
   "cell_type": "markdown",
   "metadata": {},
   "source": [
    "from opentelemetry import trace\n",
    "from opentelemetry.exporter.otlp.proto.grpc.trace_exporter import OTLPSpanExporter\n",
    "from opentelemetry.sdk.resources import Resource\n",
    "from opentelemetry.sdk.trace import TracerProvider\n",
    "from opentelemetry.sdk.trace.export import BatchSpanProcessor\n",
    "\n",
    "# Resource can be required for some backends, e.g. Jaeger\n",
    "# If resource wouldn't be set - traces wouldn't appears in Jaeger\n",
    "resource = Resource(attributes={\n",
    "    \"service.name\": \"service\"\n",
    "})\n",
    "\n",
    "trace.set_tracer_provider(TracerProvider(resource=resource))\n",
    "tracer = trace.get_tracer(__name__)\n",
    "\n",
    "otlp_exporter = OTLPSpanExporter(endpoint=\"http://localhost:4317\", insecure=True)\n",
    "\n",
    "span_processor = BatchSpanProcessor(otlp_exporter)\n",
    "\n",
    "trace.get_tracer_provider().add_span_processor(span_processor)\n",
    "\n",
    "with tracer.start_as_current_span(\"foo\"):\n",
    "    print(\"Hello world!\")"
   ]
  },
  {
   "cell_type": "markdown",
   "metadata": {},
   "source": [
    "# Working with Spans"
   ]
  },
  {
   "cell_type": "code",
   "execution_count": 1,
   "metadata": {},
   "outputs": [],
   "source": [
    "%load_ext autoreload\n",
    "%autoreload 2\n",
    "from pathlib import Path\n",
    "import sys\n",
    "\n",
    "# If running from github repo, can use this:\n",
    "repo = Path().cwd().parent.parent.resolve()\n",
    "sys.path.append(str(repo))"
   ]
  },
  {
   "cell_type": "code",
   "execution_count": 2,
   "metadata": {},
   "outputs": [],
   "source": [
    "from pprint import pformat\n",
    "from pprint import pprint\n",
    "\n",
    "from examples.expositional.end2end_apps.custom_app.custom_app import CustomApp\n",
    "from examples.expositional.end2end_apps.custom_app.custom_retriever import CustomRetriever\n",
    "import pandas as pd\n",
    "\n",
    "from trulens_eval import instruments\n",
    "from trulens_eval.trace.category import Categorizer\n",
    "from trulens_eval.tru_custom_app import TruCustomApp"
   ]
  },
  {
   "cell_type": "code",
   "execution_count": 3,
   "metadata": {},
   "outputs": [
    {
     "name": "stdout",
     "output_type": "stream",
     "text": [
      "🦑 Tru initialized with db url sqlite:///default.sqlite .\n",
      "🛑 Secret keys may be written to the database. See the `database_redact_keys` option of Tru` to prevent this.\n",
      "Force stopping dashboard ...\n",
      "killing psutil.Process(pid=70518, name='python3.12', status='running', started='21:13:15')\n",
      "Starting dashboard ...\n",
      "Config file already exists. Skipping writing process.\n",
      "Credentials file already exists. Skipping writing process.\n"
     ]
    },
    {
     "data": {
      "application/vnd.jupyter.widget-view+json": {
       "model_id": "e4b50f4bec6c469086f070ad616f2f42",
       "version_major": 2,
       "version_minor": 0
      },
      "text/plain": [
       "Accordion(children=(VBox(children=(VBox(children=(Label(value='STDOUT'), Output())), VBox(children=(Label(valu…"
      ]
     },
     "metadata": {},
     "output_type": "display_data"
    },
    {
     "name": "stdout",
     "output_type": "stream",
     "text": [
      "Dashboard started at http://10.0.0.25:8501 .\n"
     ]
    },
    {
     "data": {
      "text/plain": [
       "<Popen: returncode: None args: ['streamlit', 'run', '--server.headless=True'...>"
      ]
     },
     "execution_count": 3,
     "metadata": {},
     "output_type": "execute_result"
    }
   ],
   "source": [
    "from trulens_eval import Tru\n",
    "Tru().reset_database()\n",
    "Tru().start_dashboard(_dev=repo, force=True)"
   ]
  },
  {
   "cell_type": "code",
   "execution_count": null,
   "metadata": {},
   "outputs": [],
   "source": [
    "# Create custom app:\n",
    "custom_app = CustomApp(delay=0.0, alloc=0)\n",
    "\n",
    "# Create trulens wrapper:\n",
    "tru_custom_app = TruCustomApp(\n",
    "    custom_app,\n",
    "    app_id=\"customapp\",\n",
    ")\n",
    "\n",
    "custom_agent = custom_app.agents[0]\n",
    "\n",
    "tru_custom_agent = TruCustomApp(\n",
    "     custom_agent,\n",
    "     app_id=\"customapp_agent\"\n",
    ")"
   ]
  },
  {
   "cell_type": "code",
   "execution_count": null,
   "metadata": {},
   "outputs": [],
   "source": [
    "custom_app.respond_to_query(\"testing\")"
   ]
  },
  {
   "cell_type": "code",
   "execution_count": null,
   "metadata": {},
   "outputs": [],
   "source": [
    "instruments.Instrument().print_instrumentation()"
   ]
  },
  {
   "cell_type": "code",
   "execution_count": null,
   "metadata": {},
   "outputs": [],
   "source": [
    "tru_custom_app.print_instrumented()"
   ]
  },
  {
   "cell_type": "code",
   "execution_count": null,
   "metadata": {},
   "outputs": [],
   "source": [
    "tru_custom_agent.print_instrumented()"
   ]
  },
  {
   "cell_type": "code",
   "execution_count": 4,
   "metadata": {},
   "outputs": [
    {
     "name": "stdout",
     "output_type": "stream",
     "text": [
      "app.memory: instrumenting remember=<function CustomMemory.remember at 0x17cb85440>\n",
      "app.retriever: instrumenting retrieve_chunks=<function CustomRetriever.retrieve_chunks at 0x17cb85b20>\n",
      "app.llm: instrumenting generate=<function CustomLLM.generate at 0x17cb85120>\n",
      "app.template: instrumenting fill=<function CustomTemplate.fill at 0x17cb849a0>\n",
      "app.reranker: instrumenting rerank=<function CustomReranker.rerank at 0x17cb85760>\n",
      "app: instrumenting process_chunk_by_random_tool=<function CustomApp.process_chunk_by_random_tool at 0x17cb86160>\n",
      "app: instrumenting get_context=<function CustomApp.get_context at 0x17cb86200>\n",
      "app: instrumenting respond_to_query=<function CustomApp.respond_to_query at 0x17cb862a0>\n",
      "app: instrumenting arespond_to_query=<function CustomApp.arespond_to_query at 0x17cb86340>\n",
      "app.tools[0]: instrumenting invoke=<function CustomTool.invoke at 0x17cb85da0>\n",
      "app.tools[1]: instrumenting invoke=<function CustomTool.invoke at 0x17cf58400>\n",
      "adding app ensamble agent 0 to apps for app.tools[1]\n",
      "app.tools[2]: instrumenting invoke=<function CustomTool.invoke at 0x17cf58400>\n",
      "adding app ensamble agent 0 to apps for app.tools[2]\n",
      "app.tools[3]: instrumenting invoke=<function CustomStackTool.invoke at 0x17cb84900>\n",
      "app.tools[3]: instrumenting invoke=<function CustomTool.invoke at 0x17cf58400>\n",
      "adding app ensamble agent 0 to apps for app.tools[3]\n",
      "app.memory: instrumenting remember=<function CustomMemory.remember at 0x17cdab100>\n",
      "adding app ensamble agent 1 to apps for app.memory\n",
      "app.retriever: instrumenting retrieve_chunks=<function CustomRetriever.retrieve_chunks at 0x17cda9da0>\n",
      "adding app ensamble agent 1 to apps for app.retriever\n",
      "app.llm: instrumenting generate=<function CustomLLM.generate at 0x17cdab4c0>\n",
      "adding app ensamble agent 1 to apps for app.llm\n",
      "app.template: instrumenting fill=<function CustomTemplate.fill at 0x17cdab740>\n",
      "adding app ensamble agent 1 to apps for app.template\n",
      "app.reranker: instrumenting rerank=<function CustomReranker.rerank at 0x17cdab9c0>\n",
      "adding app ensamble agent 1 to apps for app.reranker\n",
      "app: instrumenting process_chunk_by_random_tool=<function CustomApp.process_chunk_by_random_tool at 0x17cdabba0>\n",
      "adding app ensamble agent 1 to apps for app\n",
      "app: instrumenting get_context=<function CustomApp.get_context at 0x17cdabd80>\n",
      "adding app ensamble agent 1 to apps for app\n",
      "app: instrumenting respond_to_query=<function CustomApp.respond_to_query at 0x17cdabec0>\n",
      "adding app ensamble agent 1 to apps for app\n",
      "app: instrumenting arespond_to_query=<function CustomApp.arespond_to_query at 0x17cf58180>\n",
      "adding app ensamble agent 1 to apps for app\n",
      "app.tools[0]: instrumenting invoke=<function CustomTool.invoke at 0x17cf58400>\n",
      "adding app ensamble agent 1 to apps for app.tools[0]\n",
      "app.tools[1]: instrumenting invoke=<function CustomTool.invoke at 0x17cf58400>\n",
      "adding app ensamble agent 1 to apps for app.tools[1]\n",
      "app.tools[2]: instrumenting invoke=<function CustomTool.invoke at 0x17cf58400>\n",
      "adding app ensamble agent 1 to apps for app.tools[2]\n",
      "app.tools[3]: instrumenting invoke=<function CustomStackTool.invoke at 0x17cf587c0>\n",
      "adding app ensamble agent 1 to apps for app.tools[3]\n",
      "app.tools[3]: instrumenting invoke=<function CustomTool.invoke at 0x17cf58400>\n",
      "adding app ensamble agent 1 to apps for app.tools[3]\n",
      "app.memory: instrumenting remember=<function CustomMemory.remember at 0x17cdab100>\n",
      "adding app customapp to apps for app.memory\n",
      "app.retriever: instrumenting retrieve_chunks=<function CustomRetriever.retrieve_chunks at 0x17cda9da0>\n",
      "adding app customapp to apps for app.retriever\n",
      "app.llm: instrumenting generate=<function CustomLLM.generate at 0x17cdab4c0>\n",
      "adding app customapp to apps for app.llm\n",
      "app.template: instrumenting fill=<function CustomTemplate.fill at 0x17cdab740>\n",
      "adding app customapp to apps for app.template\n",
      "app.reranker: instrumenting rerank=<function CustomReranker.rerank at 0x17cdab9c0>\n",
      "adding app customapp to apps for app.reranker\n",
      "app: instrumenting process_chunk_by_random_tool=<function CustomApp.process_chunk_by_random_tool at 0x17cdabba0>\n",
      "adding app customapp to apps for app\n",
      "app: instrumenting get_context=<function CustomApp.get_context at 0x17cdabd80>\n",
      "adding app customapp to apps for app\n",
      "app: instrumenting respond_to_query=<function CustomApp.respond_to_query at 0x17cdabec0>\n",
      "adding app customapp to apps for app\n",
      "app: instrumenting arespond_to_query=<function CustomApp.arespond_to_query at 0x17cf58180>\n",
      "adding app customapp to apps for app\n",
      "app.agents[0].app.memory: instrumenting remember=<function CustomMemory.remember at 0x17cdab100>\n",
      "adding app customapp to apps for app.agents[0].app.memory\n",
      "app.agents[0].app.retriever: instrumenting retrieve_chunks=<function CustomRetriever.retrieve_chunks at 0x17cda9da0>\n",
      "adding app customapp to apps for app.agents[0].app.retriever\n",
      "app.agents[0].app.llm: instrumenting generate=<function CustomLLM.generate at 0x17cdab4c0>\n",
      "adding app customapp to apps for app.agents[0].app.llm\n",
      "app.agents[0].app.template: instrumenting fill=<function CustomTemplate.fill at 0x17cdab740>\n",
      "adding app customapp to apps for app.agents[0].app.template\n",
      "app.agents[0].app.reranker: instrumenting rerank=<function CustomReranker.rerank at 0x17cdab9c0>\n",
      "adding app customapp to apps for app.agents[0].app.reranker\n",
      "app.agents[0].app: instrumenting process_chunk_by_random_tool=<function CustomApp.process_chunk_by_random_tool at 0x17cdabba0>\n",
      "adding app customapp to apps for app.agents[0].app\n",
      "app.agents[0].app: instrumenting get_context=<function CustomApp.get_context at 0x17cdabd80>\n",
      "adding app customapp to apps for app.agents[0].app\n",
      "app.agents[0].app: instrumenting respond_to_query=<function CustomApp.respond_to_query at 0x17cdabec0>\n",
      "adding app customapp to apps for app.agents[0].app\n",
      "app.agents[0].app: instrumenting arespond_to_query=<function CustomApp.arespond_to_query at 0x17cf58180>\n",
      "adding app customapp to apps for app.agents[0].app\n",
      "app.agents[0].app.tools[0]: instrumenting invoke=<function CustomTool.invoke at 0x17cf58400>\n",
      "adding app customapp to apps for app.agents[0].app.tools[0]\n",
      "app.agents[0].app.tools[1]: instrumenting invoke=<function CustomTool.invoke at 0x17cf58400>\n",
      "adding app customapp to apps for app.agents[0].app.tools[1]\n",
      "app.agents[0].app.tools[2]: instrumenting invoke=<function CustomTool.invoke at 0x17cf58400>\n",
      "adding app customapp to apps for app.agents[0].app.tools[2]\n",
      "app.agents[0].app.tools[3]: instrumenting invoke=<function CustomStackTool.invoke at 0x17cf587c0>\n",
      "adding app customapp to apps for app.agents[0].app.tools[3]\n",
      "app.agents[0].app.tools[3]: instrumenting invoke=<function CustomTool.invoke at 0x17cf58400>\n",
      "adding app customapp to apps for app.agents[0].app.tools[3]\n",
      "app.agents[0]: instrumenting invoke=<function CustomAgent.invoke at 0x1055ba5c0>\n",
      "app.agents[1].app.memory: instrumenting remember=<function CustomMemory.remember at 0x17cdab100>\n",
      "adding app customapp to apps for app.agents[1].app.memory\n",
      "app.agents[1].app.retriever: instrumenting retrieve_chunks=<function CustomRetriever.retrieve_chunks at 0x17cda9da0>\n",
      "adding app customapp to apps for app.agents[1].app.retriever\n",
      "app.agents[1].app.llm: instrumenting generate=<function CustomLLM.generate at 0x17cdab4c0>\n",
      "adding app customapp to apps for app.agents[1].app.llm\n",
      "app.agents[1].app.template: instrumenting fill=<function CustomTemplate.fill at 0x17cdab740>\n",
      "adding app customapp to apps for app.agents[1].app.template\n",
      "app.agents[1].app.reranker: instrumenting rerank=<function CustomReranker.rerank at 0x17cdab9c0>\n",
      "adding app customapp to apps for app.agents[1].app.reranker\n",
      "app.agents[1].app: instrumenting process_chunk_by_random_tool=<function CustomApp.process_chunk_by_random_tool at 0x17cdabba0>\n",
      "adding app customapp to apps for app.agents[1].app\n",
      "app.agents[1].app: instrumenting get_context=<function CustomApp.get_context at 0x17cdabd80>\n",
      "adding app customapp to apps for app.agents[1].app\n",
      "app.agents[1].app: instrumenting respond_to_query=<function CustomApp.respond_to_query at 0x17cdabec0>\n",
      "adding app customapp to apps for app.agents[1].app\n",
      "app.agents[1].app: instrumenting arespond_to_query=<function CustomApp.arespond_to_query at 0x17cf58180>\n",
      "adding app customapp to apps for app.agents[1].app\n",
      "app.agents[1].app.tools[0]: instrumenting invoke=<function CustomTool.invoke at 0x17cf58400>\n",
      "adding app customapp to apps for app.agents[1].app.tools[0]\n",
      "app.agents[1].app.tools[1]: instrumenting invoke=<function CustomTool.invoke at 0x17cf58400>\n",
      "adding app customapp to apps for app.agents[1].app.tools[1]\n",
      "app.agents[1].app.tools[2]: instrumenting invoke=<function CustomTool.invoke at 0x17cf58400>\n",
      "adding app customapp to apps for app.agents[1].app.tools[2]\n",
      "app.agents[1].app.tools[3]: instrumenting invoke=<function CustomStackTool.invoke at 0x17cf587c0>\n",
      "adding app customapp to apps for app.agents[1].app.tools[3]\n",
      "app.agents[1].app.tools[3]: instrumenting invoke=<function CustomTool.invoke at 0x17cf58400>\n",
      "adding app customapp to apps for app.agents[1].app.tools[3]\n",
      "app.agents[1]: instrumenting invoke=<function CustomAgent.invoke at 0x17cfdfa60>\n",
      "adding app customapp to apps for app.agents[1]\n",
      "app.tools[0]: instrumenting invoke=<function CustomTool.invoke at 0x17cf58400>\n",
      "adding app customapp to apps for app.tools[0]\n",
      "app.tools[1]: instrumenting invoke=<function CustomTool.invoke at 0x17cf58400>\n",
      "adding app customapp to apps for app.tools[1]\n",
      "app.tools[2]: instrumenting invoke=<function CustomTool.invoke at 0x17cf58400>\n",
      "adding app customapp to apps for app.tools[2]\n",
      "app.tools[3]: instrumenting invoke=<function CustomStackTool.invoke at 0x17cf587c0>\n",
      "adding app customapp to apps for app.tools[3]\n",
      "app.tools[3]: instrumenting invoke=<function CustomTool.invoke at 0x17cf58400>\n",
      "adding app customapp to apps for app.tools[3]\n",
      "app.app.memory: instrumenting remember=<function CustomMemory.remember at 0x17cdab100>\n",
      "adding app customapp_agent to apps for app.app.memory\n",
      "app.app.retriever: instrumenting retrieve_chunks=<function CustomRetriever.retrieve_chunks at 0x17cda9da0>\n",
      "adding app customapp_agent to apps for app.app.retriever\n",
      "app.app.llm: instrumenting generate=<function CustomLLM.generate at 0x17cdab4c0>\n",
      "adding app customapp_agent to apps for app.app.llm\n",
      "app.app.template: instrumenting fill=<function CustomTemplate.fill at 0x17cdab740>\n",
      "adding app customapp_agent to apps for app.app.template\n",
      "app.app.reranker: instrumenting rerank=<function CustomReranker.rerank at 0x17cdab9c0>\n",
      "adding app customapp_agent to apps for app.app.reranker\n",
      "app.app: instrumenting process_chunk_by_random_tool=<function CustomApp.process_chunk_by_random_tool at 0x17cdabba0>\n",
      "adding app customapp_agent to apps for app.app\n",
      "app.app: instrumenting get_context=<function CustomApp.get_context at 0x17cdabd80>\n",
      "adding app customapp_agent to apps for app.app\n",
      "app.app: instrumenting respond_to_query=<function CustomApp.respond_to_query at 0x17cdabec0>\n",
      "adding app customapp_agent to apps for app.app\n",
      "app.app: instrumenting arespond_to_query=<function CustomApp.arespond_to_query at 0x17cf58180>\n",
      "adding app customapp_agent to apps for app.app\n",
      "app.app.tools[0]: instrumenting invoke=<function CustomTool.invoke at 0x17cf58400>\n",
      "adding app customapp_agent to apps for app.app.tools[0]\n",
      "app.app.tools[1]: instrumenting invoke=<function CustomTool.invoke at 0x17cf58400>\n",
      "adding app customapp_agent to apps for app.app.tools[1]\n",
      "app.app.tools[2]: instrumenting invoke=<function CustomTool.invoke at 0x17cf58400>\n",
      "adding app customapp_agent to apps for app.app.tools[2]\n",
      "app.app.tools[3]: instrumenting invoke=<function CustomStackTool.invoke at 0x17cf587c0>\n",
      "adding app customapp_agent to apps for app.app.tools[3]\n",
      "app.app.tools[3]: instrumenting invoke=<function CustomTool.invoke at 0x17cf58400>\n",
      "adding app customapp_agent to apps for app.app.tools[3]\n",
      "app: instrumenting invoke=<function CustomAgent.invoke at 0x17cfdfa60>\n",
      "adding app customapp_agent to apps for app\n",
      "got 4 apps for app.respond_to_query\n",
      "consider app ensamble agent 0 for app.respond_to_query\n",
      "consider app customapp for app.respond_to_query\n",
      "  adding ctx <trulens_eval.app.RecordingContext object at 0x17cfcfd10>\n",
      "consider app ensamble agent 1 for app.respond_to_query\n",
      "consider app customapp_agent for app.respond_to_query\n",
      "got 2 apps for app.agents[0].invoke\n",
      "consider app customapp for app.agents[0].invoke\n",
      "  adding ctx <trulens_eval.app.RecordingContext object at 0x17cfcfd10>\n",
      "consider app customapp_agent for app.agents[0].invoke\n",
      "got 4 apps for app.respond_to_query\n",
      "consider app ensamble agent 0 for app.respond_to_query\n",
      "  adding ctx <trulens_eval.app.RecordingContext object at 0x1759c8e60>\n",
      "consider app customapp for app.respond_to_query\n",
      "  adding ctx <trulens_eval.app.RecordingContext object at 0x17cfcfd10>\n",
      "consider app ensamble agent 1 for app.respond_to_query\n",
      "consider app customapp_agent for app.respond_to_query\n",
      "got 4 apps for app.get_context\n",
      "consider app ensamble agent 0 for app.get_context\n",
      "  adding ctx <trulens_eval.app.RecordingContext object at 0x1759c8e60>\n",
      "consider app customapp for app.get_context\n",
      "  adding ctx <trulens_eval.app.RecordingContext object at 0x17cfcfd10>\n",
      "consider app ensamble agent 1 for app.get_context\n",
      "consider app customapp_agent for app.get_context\n",
      "got 4 apps for app.retriever.retrieve_chunks\n",
      "consider app ensamble agent 0 for app.retriever.retrieve_chunks\n",
      "  adding ctx <trulens_eval.app.RecordingContext object at 0x1759c8e60>\n",
      "consider app customapp for app.retriever.retrieve_chunks\n",
      "  adding ctx <trulens_eval.app.RecordingContext object at 0x17cfcfd10>\n",
      "consider app ensamble agent 1 for app.retriever.retrieve_chunks\n",
      "consider app customapp_agent for app.retriever.retrieve_chunks\n",
      "got 4 apps for app.reranker.rerank\n",
      "consider app ensamble agent 0 for app.reranker.rerank\n",
      "  adding ctx <trulens_eval.app.RecordingContext object at 0x1759c8e60>\n",
      "consider app customapp for app.reranker.rerank\n",
      "  adding ctx <trulens_eval.app.RecordingContext object at 0x17cfcfd10>\n",
      "consider app ensamble agent 1 for app.reranker.rerank\n",
      "consider app customapp_agent for app.reranker.rerank\n",
      "got 4 apps for app.process_chunk_by_random_tool\n",
      "consider app ensamble agent 0 for app.process_chunk_by_random_tool\n",
      "  adding ctx <trulens_eval.app.RecordingContext object at 0x1759c8e60>\n",
      "consider app customapp for app.process_chunk_by_random_tool\n",
      "  adding ctx <trulens_eval.app.RecordingContext object at 0x17cfcfd10>\n",
      "consider app ensamble agent 1 for app.process_chunk_by_random_tool\n",
      "consider app customapp_agent for app.process_chunk_by_random_tool\n",
      "got 4 apps for app.tools[3].invoke\n",
      "consider app ensamble agent 0 for app.tools[3].invoke\n",
      "  adding ctx <trulens_eval.app.RecordingContext object at 0x1759c8e60>\n",
      "consider app customapp for app.tools[3].invoke\n",
      "  adding ctx <trulens_eval.app.RecordingContext object at 0x17cfcfd10>\n",
      "consider app ensamble agent 1 for app.tools[3].invoke\n",
      "consider app customapp_agent for app.tools[3].invoke\n",
      "got 4 apps for app.process_chunk_by_random_tool\n",
      "consider app ensamble agent 0 for app.process_chunk_by_random_tool\n",
      "  adding ctx <trulens_eval.app.RecordingContext object at 0x1759c8e60>\n",
      "consider app customapp for app.process_chunk_by_random_tool\n",
      "  adding ctx <trulens_eval.app.RecordingContext object at 0x17cfcfd10>\n",
      "consider app ensamble agent 1 for app.process_chunk_by_random_tool\n",
      "consider app customapp_agent for app.process_chunk_by_random_tool\n",
      "got 4 apps for app.tools[0].invoke\n",
      "consider app ensamble agent 0 for app.tools[0].invoke\n",
      "  adding ctx <trulens_eval.app.RecordingContext object at 0x1759c8e60>\n",
      "consider app customapp for app.tools[0].invoke\n",
      "  adding ctx <trulens_eval.app.RecordingContext object at 0x17cfcfd10>\n",
      "consider app ensamble agent 1 for app.tools[0].invoke\n",
      "consider app customapp_agent for app.tools[0].invoke\n",
      "got 4 apps for app.memory.remember\n",
      "consider app ensamble agent 0 for app.memory.remember\n",
      "  adding ctx <trulens_eval.app.RecordingContext object at 0x1759c8e60>\n",
      "consider app customapp for app.memory.remember\n",
      "  adding ctx <trulens_eval.app.RecordingContext object at 0x17cfcfd10>\n",
      "consider app ensamble agent 1 for app.memory.remember\n",
      "consider app customapp_agent for app.memory.remember\n",
      "got 4 apps for app.llm.generate\n",
      "consider app ensamble agent 0 for app.llm.generate\n",
      "  adding ctx <trulens_eval.app.RecordingContext object at 0x1759c8e60>\n",
      "consider app customapp for app.llm.generate\n",
      "  adding ctx <trulens_eval.app.RecordingContext object at 0x17cfcfd10>\n",
      "consider app ensamble agent 1 for app.llm.generate\n",
      "consider app customapp_agent for app.llm.generate\n",
      "got 4 apps for app.template.fill\n",
      "consider app ensamble agent 0 for app.template.fill\n",
      "  adding ctx <trulens_eval.app.RecordingContext object at 0x1759c8e60>\n",
      "consider app customapp for app.template.fill\n",
      "  adding ctx <trulens_eval.app.RecordingContext object at 0x17cfcfd10>\n",
      "consider app ensamble agent 1 for app.template.fill\n",
      "consider app customapp_agent for app.template.fill\n",
      "got 4 apps for app.memory.remember\n",
      "consider app ensamble agent 0 for app.memory.remember\n",
      "  adding ctx <trulens_eval.app.RecordingContext object at 0x1759c8e60>\n",
      "consider app customapp for app.memory.remember\n",
      "  adding ctx <trulens_eval.app.RecordingContext object at 0x17cfcfd10>\n",
      "consider app ensamble agent 1 for app.memory.remember\n",
      "consider app customapp_agent for app.memory.remember\n",
      "got 2 apps for app.agents[0].invoke\n",
      "consider app customapp for app.agents[0].invoke\n",
      "  adding ctx <trulens_eval.app.RecordingContext object at 0x17cfcfd10>\n",
      "consider app customapp_agent for app.agents[0].invoke\n"
     ]
    },
    {
     "ename": "RuntimeError",
     "evalue": "App of type TruCustomApp no longer knows about object 0x17cdc0680 method invoke. Something might be going wrong.",
     "output_type": "error",
     "traceback": [
      "\u001b[0;31m---------------------------------------------------------------------------\u001b[0m",
      "\u001b[0;31mRuntimeError\u001b[0m                              Traceback (most recent call last)",
      "Cell \u001b[0;32mIn[4], line 17\u001b[0m\n\u001b[1;32m     10\u001b[0m custom_agent \u001b[38;5;241m=\u001b[39m custom_app\u001b[38;5;241m.\u001b[39magents[\u001b[38;5;241m0\u001b[39m]\n\u001b[1;32m     12\u001b[0m tru_custom_agent \u001b[38;5;241m=\u001b[39m TruCustomApp(\n\u001b[1;32m     13\u001b[0m      custom_agent,\n\u001b[1;32m     14\u001b[0m      app_id\u001b[38;5;241m=\u001b[39m\u001b[38;5;124m\"\u001b[39m\u001b[38;5;124mcustomapp_agent\u001b[39m\u001b[38;5;124m\"\u001b[39m\n\u001b[1;32m     15\u001b[0m )\n\u001b[0;32m---> 17\u001b[0m \u001b[38;5;28;43;01mwith\u001b[39;49;00m\u001b[43m \u001b[49m\u001b[43mtru_custom_app\u001b[49m\u001b[43m \u001b[49m\u001b[38;5;28;43;01mas\u001b[39;49;00m\u001b[43m \u001b[49m\u001b[43mrecorder_app\u001b[49m\u001b[43m:\u001b[49m\n\u001b[1;32m     18\u001b[0m \u001b[43m    \u001b[49m\u001b[43mres_app\u001b[49m\u001b[43m \u001b[49m\u001b[38;5;241;43m=\u001b[39;49m\u001b[43m \u001b[49m\u001b[43mcustom_app\u001b[49m\u001b[38;5;241;43m.\u001b[39;49m\u001b[43mrespond_to_query\u001b[49m\u001b[43m(\u001b[49m\u001b[38;5;124;43mf\u001b[39;49m\u001b[38;5;124;43m\"\u001b[39;49m\u001b[38;5;124;43mhello\u001b[39;49m\u001b[38;5;124;43m\"\u001b[39;49m\u001b[43m)\u001b[49m\n\u001b[1;32m     20\u001b[0m \u001b[43m    \u001b[49m\u001b[38;5;28;43;01mwith\u001b[39;49;00m\u001b[43m \u001b[49m\u001b[43mtru_custom_agent\u001b[49m\u001b[43m \u001b[49m\u001b[38;5;28;43;01mas\u001b[39;49;00m\u001b[43m \u001b[49m\u001b[43mrecorder_agent\u001b[49m\u001b[43m:\u001b[49m\n",
      "File \u001b[0;32m/Volumes/dev_new/Dropbox/repos/truera/trulens/trulens_eval/trulens_eval/app.py:1034\u001b[0m, in \u001b[0;36mApp.__exit__\u001b[0;34m(self, exc_type, exc_value, exc_tb)\u001b[0m\n\u001b[1;32m   1031\u001b[0m \u001b[38;5;28mself\u001b[39m\u001b[38;5;241m.\u001b[39mrecording_contexts\u001b[38;5;241m.\u001b[39mreset(ctx\u001b[38;5;241m.\u001b[39mtoken)\n\u001b[1;32m   1033\u001b[0m \u001b[38;5;28;01mif\u001b[39;00m exc_type \u001b[38;5;129;01mis\u001b[39;00m \u001b[38;5;129;01mnot\u001b[39;00m \u001b[38;5;28;01mNone\u001b[39;00m:\n\u001b[0;32m-> 1034\u001b[0m     \u001b[38;5;28;01mraise\u001b[39;00m exc_value\n\u001b[1;32m   1036\u001b[0m \u001b[38;5;28;01mreturn\u001b[39;00m\n",
      "Cell \u001b[0;32mIn[4], line 18\u001b[0m\n\u001b[1;32m     12\u001b[0m tru_custom_agent \u001b[38;5;241m=\u001b[39m TruCustomApp(\n\u001b[1;32m     13\u001b[0m      custom_agent,\n\u001b[1;32m     14\u001b[0m      app_id\u001b[38;5;241m=\u001b[39m\u001b[38;5;124m\"\u001b[39m\u001b[38;5;124mcustomapp_agent\u001b[39m\u001b[38;5;124m\"\u001b[39m\n\u001b[1;32m     15\u001b[0m )\n\u001b[1;32m     17\u001b[0m \u001b[38;5;28;01mwith\u001b[39;00m tru_custom_app \u001b[38;5;28;01mas\u001b[39;00m recorder_app:\n\u001b[0;32m---> 18\u001b[0m     res_app \u001b[38;5;241m=\u001b[39m \u001b[43mcustom_app\u001b[49m\u001b[38;5;241;43m.\u001b[39;49m\u001b[43mrespond_to_query\u001b[49m\u001b[43m(\u001b[49m\u001b[38;5;124;43mf\u001b[39;49m\u001b[38;5;124;43m\"\u001b[39;49m\u001b[38;5;124;43mhello\u001b[39;49m\u001b[38;5;124;43m\"\u001b[39;49m\u001b[43m)\u001b[49m\n\u001b[1;32m     20\u001b[0m     \u001b[38;5;28;01mwith\u001b[39;00m tru_custom_agent \u001b[38;5;28;01mas\u001b[39;00m recorder_agent:\n\u001b[1;32m     21\u001b[0m         res_agent \u001b[38;5;241m=\u001b[39m custom_agent\u001b[38;5;241m.\u001b[39minvoke(\u001b[38;5;124m\"\u001b[39m\u001b[38;5;124mhello\u001b[39m\u001b[38;5;124m\"\u001b[39m)\n",
      "File \u001b[0;32m/Volumes/dev_new/Dropbox/repos/truera/trulens/trulens_eval/trulens_eval/instruments.py:665\u001b[0m, in \u001b[0;36mInstrument.tracked_method_wrapper.<locals>.tru_wrapper\u001b[0;34m(*args, **kwargs)\u001b[0m\n\u001b[1;32m    660\u001b[0m     \u001b[38;5;66;03m# TODO(piotrm): need to track costs of awaiting the ret in the\u001b[39;00m\n\u001b[1;32m    661\u001b[0m     \u001b[38;5;66;03m# below.\u001b[39;00m\n\u001b[1;32m    663\u001b[0m     \u001b[38;5;28;01mreturn\u001b[39;00m wrap_awaitable(rets, on_done\u001b[38;5;241m=\u001b[39mhandle_done)\n\u001b[0;32m--> 665\u001b[0m \u001b[43mhandle_done\u001b[49m\u001b[43m(\u001b[49m\u001b[43mrets\u001b[49m\u001b[38;5;241;43m=\u001b[39;49m\u001b[43mrets\u001b[49m\u001b[43m)\u001b[49m\n\u001b[1;32m    666\u001b[0m \u001b[38;5;28;01mreturn\u001b[39;00m rets\n",
      "File \u001b[0;32m/Volumes/dev_new/Dropbox/repos/truera/trulens/trulens_eval/trulens_eval/instruments.py:619\u001b[0m, in \u001b[0;36mInstrument.tracked_method_wrapper.<locals>.tru_wrapper.<locals>.handle_done\u001b[0;34m(rets)\u001b[0m\n\u001b[1;32m    613\u001b[0m     \u001b[38;5;66;03m# If stack has only 1 thing on it, we are looking at a \"root\u001b[39;00m\n\u001b[1;32m    614\u001b[0m     \u001b[38;5;66;03m# call\". Create a record of the result and notify the app:\u001b[39;00m\n\u001b[1;32m    616\u001b[0m     \u001b[38;5;28;01mif\u001b[39;00m \u001b[38;5;28mlen\u001b[39m(stack) \u001b[38;5;241m==\u001b[39m \u001b[38;5;241m1\u001b[39m:\n\u001b[1;32m    617\u001b[0m         \u001b[38;5;66;03m# If this is a root call, notify app to add the completed record\u001b[39;00m\n\u001b[1;32m    618\u001b[0m         \u001b[38;5;66;03m# into its containers:\u001b[39;00m\n\u001b[0;32m--> 619\u001b[0m         records[ctx] \u001b[38;5;241m=\u001b[39m \u001b[43mctx\u001b[49m\u001b[38;5;241;43m.\u001b[39;49m\u001b[43mapp\u001b[49m\u001b[38;5;241;43m.\u001b[39;49m\u001b[43mon_add_record\u001b[49m\u001b[43m(\u001b[49m\n\u001b[1;32m    620\u001b[0m \u001b[43m            \u001b[49m\u001b[43mctx\u001b[49m\u001b[38;5;241;43m=\u001b[39;49m\u001b[43mctx\u001b[49m\u001b[43m,\u001b[49m\n\u001b[1;32m    621\u001b[0m \u001b[43m            \u001b[49m\u001b[43mfunc\u001b[49m\u001b[38;5;241;43m=\u001b[39;49m\u001b[43mfunc\u001b[49m\u001b[43m,\u001b[49m\n\u001b[1;32m    622\u001b[0m \u001b[43m            \u001b[49m\u001b[43msig\u001b[49m\u001b[38;5;241;43m=\u001b[39;49m\u001b[43msig\u001b[49m\u001b[43m,\u001b[49m\n\u001b[1;32m    623\u001b[0m \u001b[43m            \u001b[49m\u001b[43mbindings\u001b[49m\u001b[38;5;241;43m=\u001b[39;49m\u001b[43mbindings\u001b[49m\u001b[43m,\u001b[49m\n\u001b[1;32m    624\u001b[0m \u001b[43m            \u001b[49m\u001b[43mret\u001b[49m\u001b[38;5;241;43m=\u001b[39;49m\u001b[43mrets\u001b[49m\u001b[43m,\u001b[49m\n\u001b[1;32m    625\u001b[0m \u001b[43m            \u001b[49m\u001b[43merror\u001b[49m\u001b[38;5;241;43m=\u001b[39;49m\u001b[43merror\u001b[49m\u001b[43m,\u001b[49m\n\u001b[1;32m    626\u001b[0m \u001b[43m            \u001b[49m\u001b[43mperf\u001b[49m\u001b[38;5;241;43m=\u001b[39;49m\u001b[43mmod_base_schema\u001b[49m\u001b[38;5;241;43m.\u001b[39;49m\u001b[43mPerf\u001b[49m\u001b[43m(\u001b[49m\n\u001b[1;32m    627\u001b[0m \u001b[43m                \u001b[49m\u001b[43mstart_time\u001b[49m\u001b[38;5;241;43m=\u001b[39;49m\u001b[43mstart_time\u001b[49m\u001b[43m,\u001b[49m\u001b[43m \u001b[49m\u001b[43mend_time\u001b[49m\u001b[38;5;241;43m=\u001b[39;49m\u001b[43mend_time\u001b[49m\n\u001b[1;32m    628\u001b[0m \u001b[43m            \u001b[49m\u001b[43m)\u001b[49m\u001b[43m,\u001b[49m\n\u001b[1;32m    629\u001b[0m \u001b[43m            \u001b[49m\u001b[43mcost\u001b[49m\u001b[38;5;241;43m=\u001b[39;49m\u001b[43mcost\u001b[49m\u001b[43m,\u001b[49m\n\u001b[1;32m    630\u001b[0m \u001b[43m            \u001b[49m\u001b[43mexisting_record\u001b[49m\u001b[38;5;241;43m=\u001b[39;49m\u001b[43mrecords\u001b[49m\u001b[38;5;241;43m.\u001b[39;49m\u001b[43mget\u001b[49m\u001b[43m(\u001b[49m\u001b[43mctx\u001b[49m\u001b[43m)\u001b[49m\n\u001b[1;32m    631\u001b[0m \u001b[43m        \u001b[49m\u001b[43m)\u001b[49m\n\u001b[1;32m    633\u001b[0m \u001b[38;5;28;01mif\u001b[39;00m error \u001b[38;5;129;01mis\u001b[39;00m \u001b[38;5;129;01mnot\u001b[39;00m \u001b[38;5;28;01mNone\u001b[39;00m:\n\u001b[1;32m    634\u001b[0m     \u001b[38;5;28;01mraise\u001b[39;00m error\n",
      "File \u001b[0;32m/Volumes/dev_new/Dropbox/repos/truera/trulens/trulens_eval/trulens_eval/app.py:1108\u001b[0m, in \u001b[0;36mApp.on_add_record\u001b[0;34m(self, ctx, func, sig, bindings, ret, error, perf, cost, existing_record)\u001b[0m\n\u001b[1;32m   1105\u001b[0m \u001b[38;5;28;01mif\u001b[39;00m error \u001b[38;5;129;01mis\u001b[39;00m \u001b[38;5;129;01mnot\u001b[39;00m \u001b[38;5;28;01mNone\u001b[39;00m:\n\u001b[1;32m   1106\u001b[0m     \u001b[38;5;66;03m# May block on DB.\u001b[39;00m\n\u001b[1;32m   1107\u001b[0m     \u001b[38;5;28mself\u001b[39m\u001b[38;5;241m.\u001b[39m_handle_error(record\u001b[38;5;241m=\u001b[39mrecord, error\u001b[38;5;241m=\u001b[39merror)\n\u001b[0;32m-> 1108\u001b[0m     \u001b[38;5;28;01mraise\u001b[39;00m error\n\u001b[1;32m   1110\u001b[0m \u001b[38;5;66;03m# Will block on DB, but not on feedback evaluation, depending on\u001b[39;00m\n\u001b[1;32m   1111\u001b[0m \u001b[38;5;66;03m# FeedbackMode:\u001b[39;00m\n\u001b[1;32m   1112\u001b[0m record\u001b[38;5;241m.\u001b[39mfeedback_and_future_results \u001b[38;5;241m=\u001b[39m \u001b[38;5;28mself\u001b[39m\u001b[38;5;241m.\u001b[39m_handle_record(record\u001b[38;5;241m=\u001b[39mrecord)\n",
      "File \u001b[0;32m/Volumes/dev_new/Dropbox/repos/truera/trulens/trulens_eval/trulens_eval/instruments.py:563\u001b[0m, in \u001b[0;36mInstrument.tracked_method_wrapper.<locals>.tru_wrapper\u001b[0;34m(*args, **kwargs)\u001b[0m\n\u001b[1;32m    558\u001b[0m \u001b[38;5;28;01mtry\u001b[39;00m:\n\u001b[1;32m    559\u001b[0m     \u001b[38;5;66;03m# Using sig bind here so we can produce a list of key-value\u001b[39;00m\n\u001b[1;32m    560\u001b[0m     \u001b[38;5;66;03m# pairs even if positional arguments were provided.\u001b[39;00m\n\u001b[1;32m    561\u001b[0m     bindings: BoundArguments \u001b[38;5;241m=\u001b[39m sig\u001b[38;5;241m.\u001b[39mbind(\u001b[38;5;241m*\u001b[39margs, \u001b[38;5;241m*\u001b[39m\u001b[38;5;241m*\u001b[39mkwargs)\n\u001b[0;32m--> 563\u001b[0m     rets, cost \u001b[38;5;241m=\u001b[39m \u001b[43mmod_endpoint\u001b[49m\u001b[38;5;241;43m.\u001b[39;49m\u001b[43mEndpoint\u001b[49m\u001b[38;5;241;43m.\u001b[39;49m\u001b[43mtrack_all_costs_tally\u001b[49m\u001b[43m(\u001b[49m\n\u001b[1;32m    564\u001b[0m \u001b[43m        \u001b[49m\u001b[43mfunc\u001b[49m\u001b[43m,\u001b[49m\u001b[43m \u001b[49m\u001b[38;5;241;43m*\u001b[39;49m\u001b[43margs\u001b[49m\u001b[43m,\u001b[49m\u001b[43m \u001b[49m\u001b[38;5;241;43m*\u001b[39;49m\u001b[38;5;241;43m*\u001b[39;49m\u001b[43mkwargs\u001b[49m\n\u001b[1;32m    565\u001b[0m \u001b[43m    \u001b[49m\u001b[43m)\u001b[49m\n\u001b[1;32m    567\u001b[0m \u001b[38;5;28;01mexcept\u001b[39;00m \u001b[38;5;167;01mBaseException\u001b[39;00m \u001b[38;5;28;01mas\u001b[39;00m e:\n\u001b[1;32m    568\u001b[0m     error \u001b[38;5;241m=\u001b[39m e\n",
      "File \u001b[0;32m/Volumes/dev_new/Dropbox/repos/truera/trulens/trulens_eval/trulens_eval/feedback/provider/endpoint/base.py:496\u001b[0m, in \u001b[0;36mEndpoint.track_all_costs_tally\u001b[0;34m(_Endpoint__func, with_openai, with_hugs, with_litellm, with_bedrock, *args, **kwargs)\u001b[0m\n\u001b[1;32m    481\u001b[0m \u001b[38;5;129m@staticmethod\u001b[39m\n\u001b[1;32m    482\u001b[0m \u001b[38;5;28;01mdef\u001b[39;00m \u001b[38;5;21mtrack_all_costs_tally\u001b[39m(\n\u001b[1;32m    483\u001b[0m     __func: mod_asynchro_utils\u001b[38;5;241m.\u001b[39mCallableMaybeAwaitable[A, T],\n\u001b[0;32m   (...)\u001b[0m\n\u001b[1;32m    489\u001b[0m     \u001b[38;5;241m*\u001b[39m\u001b[38;5;241m*\u001b[39mkwargs\n\u001b[1;32m    490\u001b[0m ) \u001b[38;5;241m-\u001b[39m\u001b[38;5;241m>\u001b[39m Tuple[T, mod_base_schema\u001b[38;5;241m.\u001b[39mCost]:\n\u001b[1;32m    491\u001b[0m \u001b[38;5;250m    \u001b[39m\u001b[38;5;124;03m\"\"\"\u001b[39;00m\n\u001b[1;32m    492\u001b[0m \u001b[38;5;124;03m    Track costs of all of the apis we can currently track, over the\u001b[39;00m\n\u001b[1;32m    493\u001b[0m \u001b[38;5;124;03m    execution of thunk.\u001b[39;00m\n\u001b[1;32m    494\u001b[0m \u001b[38;5;124;03m    \"\"\"\u001b[39;00m\n\u001b[0;32m--> 496\u001b[0m     result, cbs \u001b[38;5;241m=\u001b[39m \u001b[43mEndpoint\u001b[49m\u001b[38;5;241;43m.\u001b[39;49m\u001b[43mtrack_all_costs\u001b[49m\u001b[43m(\u001b[49m\n\u001b[1;32m    497\u001b[0m \u001b[43m        \u001b[49m\u001b[43m__func\u001b[49m\u001b[43m,\u001b[49m\n\u001b[1;32m    498\u001b[0m \u001b[43m        \u001b[49m\u001b[38;5;241;43m*\u001b[39;49m\u001b[43margs\u001b[49m\u001b[43m,\u001b[49m\n\u001b[1;32m    499\u001b[0m \u001b[43m        \u001b[49m\u001b[43mwith_openai\u001b[49m\u001b[38;5;241;43m=\u001b[39;49m\u001b[43mwith_openai\u001b[49m\u001b[43m,\u001b[49m\n\u001b[1;32m    500\u001b[0m \u001b[43m        \u001b[49m\u001b[43mwith_hugs\u001b[49m\u001b[38;5;241;43m=\u001b[39;49m\u001b[43mwith_hugs\u001b[49m\u001b[43m,\u001b[49m\n\u001b[1;32m    501\u001b[0m \u001b[43m        \u001b[49m\u001b[43mwith_litellm\u001b[49m\u001b[38;5;241;43m=\u001b[39;49m\u001b[43mwith_litellm\u001b[49m\u001b[43m,\u001b[49m\n\u001b[1;32m    502\u001b[0m \u001b[43m        \u001b[49m\u001b[43mwith_bedrock\u001b[49m\u001b[38;5;241;43m=\u001b[39;49m\u001b[43mwith_bedrock\u001b[49m\u001b[43m,\u001b[49m\n\u001b[1;32m    503\u001b[0m \u001b[43m        \u001b[49m\u001b[38;5;241;43m*\u001b[39;49m\u001b[38;5;241;43m*\u001b[39;49m\u001b[43mkwargs\u001b[49m\n\u001b[1;32m    504\u001b[0m \u001b[43m    \u001b[49m\u001b[43m)\u001b[49m\n\u001b[1;32m    506\u001b[0m     \u001b[38;5;28;01mif\u001b[39;00m \u001b[38;5;28mlen\u001b[39m(cbs) \u001b[38;5;241m==\u001b[39m \u001b[38;5;241m0\u001b[39m:\n\u001b[1;32m    507\u001b[0m         \u001b[38;5;66;03m# Otherwise sum returns \"0\" below.\u001b[39;00m\n\u001b[1;32m    508\u001b[0m         costs \u001b[38;5;241m=\u001b[39m mod_base_schema\u001b[38;5;241m.\u001b[39mCost()\n",
      "File \u001b[0;32m/Volumes/dev_new/Dropbox/repos/truera/trulens/trulens_eval/trulens_eval/feedback/provider/endpoint/base.py:477\u001b[0m, in \u001b[0;36mEndpoint.track_all_costs\u001b[0;34m(_Endpoint__func, with_openai, with_hugs, with_litellm, with_bedrock, *args, **kwargs)\u001b[0m\n\u001b[1;32m    468\u001b[0m         \u001b[38;5;28;01mexcept\u001b[39;00m \u001b[38;5;167;01mException\u001b[39;00m \u001b[38;5;28;01mas\u001b[39;00m e:\n\u001b[1;32m    469\u001b[0m             logger\u001b[38;5;241m.\u001b[39mdebug(\n\u001b[1;32m    470\u001b[0m                 \u001b[38;5;124m\"\u001b[39m\u001b[38;5;124mCould not initialize endpoint \u001b[39m\u001b[38;5;132;01m%s\u001b[39;00m\u001b[38;5;124m. \u001b[39m\u001b[38;5;124m\"\u001b[39m\n\u001b[1;32m    471\u001b[0m                 \u001b[38;5;124m\"\u001b[39m\u001b[38;5;124mPossibly missing key(s). \u001b[39m\u001b[38;5;124m\"\u001b[39m\n\u001b[0;32m   (...)\u001b[0m\n\u001b[1;32m    474\u001b[0m                 e,\n\u001b[1;32m    475\u001b[0m             )\n\u001b[0;32m--> 477\u001b[0m \u001b[38;5;28;01mreturn\u001b[39;00m \u001b[43mEndpoint\u001b[49m\u001b[38;5;241;43m.\u001b[39;49m\u001b[43m_track_costs\u001b[49m\u001b[43m(\u001b[49m\n\u001b[1;32m    478\u001b[0m \u001b[43m    \u001b[49m\u001b[43m__func\u001b[49m\u001b[43m,\u001b[49m\u001b[43m \u001b[49m\u001b[38;5;241;43m*\u001b[39;49m\u001b[43margs\u001b[49m\u001b[43m,\u001b[49m\u001b[43m \u001b[49m\u001b[43mwith_endpoints\u001b[49m\u001b[38;5;241;43m=\u001b[39;49m\u001b[43mendpoints\u001b[49m\u001b[43m,\u001b[49m\u001b[43m \u001b[49m\u001b[38;5;241;43m*\u001b[39;49m\u001b[38;5;241;43m*\u001b[39;49m\u001b[43mkwargs\u001b[49m\n\u001b[1;32m    479\u001b[0m \u001b[43m\u001b[49m\u001b[43m)\u001b[49m\n",
      "File \u001b[0;32m/Volumes/dev_new/Dropbox/repos/truera/trulens/trulens_eval/trulens_eval/feedback/provider/endpoint/base.py:574\u001b[0m, in \u001b[0;36mEndpoint._track_costs\u001b[0;34m(_Endpoint__func, with_endpoints, *args, **kwargs)\u001b[0m\n\u001b[1;32m    571\u001b[0m     callbacks\u001b[38;5;241m.\u001b[39mappend(callback)\n\u001b[1;32m    573\u001b[0m \u001b[38;5;66;03m# Call the function.\u001b[39;00m\n\u001b[0;32m--> 574\u001b[0m result: T \u001b[38;5;241m=\u001b[39m \u001b[43m__func\u001b[49m\u001b[43m(\u001b[49m\u001b[38;5;241;43m*\u001b[39;49m\u001b[43margs\u001b[49m\u001b[43m,\u001b[49m\u001b[43m \u001b[49m\u001b[38;5;241;43m*\u001b[39;49m\u001b[38;5;241;43m*\u001b[39;49m\u001b[43mkwargs\u001b[49m\u001b[43m)\u001b[49m\n\u001b[1;32m    576\u001b[0m \u001b[38;5;66;03m# Return result and only the callbacks created here. Outer thunks might\u001b[39;00m\n\u001b[1;32m    577\u001b[0m \u001b[38;5;66;03m# return others.\u001b[39;00m\n\u001b[1;32m    578\u001b[0m \u001b[38;5;28;01mreturn\u001b[39;00m result, callbacks\n",
      "File \u001b[0;32m/Volumes/dev_new/Dropbox/repos/truera/trulens/trulens_eval/examples/expositional/end2end_apps/custom_app/custom_app.py:138\u001b[0m, in \u001b[0;36mCustomApp.respond_to_query\u001b[0;34m(self, query)\u001b[0m\n\u001b[1;32m    136\u001b[0m \u001b[38;5;66;03m# Run the agents on the same input. These perform the same steps as this app.\u001b[39;00m\n\u001b[1;32m    137\u001b[0m \u001b[38;5;28;01mfor\u001b[39;00m agent \u001b[38;5;129;01min\u001b[39;00m \u001b[38;5;28mself\u001b[39m\u001b[38;5;241m.\u001b[39magents:\n\u001b[0;32m--> 138\u001b[0m     \u001b[43magent\u001b[49m\u001b[38;5;241;43m.\u001b[39;49m\u001b[43minvoke\u001b[49m\u001b[43m(\u001b[49m\u001b[43mquery\u001b[49m\u001b[43m)\u001b[49m\n\u001b[1;32m    140\u001b[0m \u001b[38;5;66;03m# Get rerankined, process chunks.\u001b[39;00m\n\u001b[1;32m    141\u001b[0m chunks \u001b[38;5;241m=\u001b[39m \u001b[38;5;28mself\u001b[39m\u001b[38;5;241m.\u001b[39mget_context(query)\n",
      "File \u001b[0;32m/Volumes/dev_new/Dropbox/repos/truera/trulens/trulens_eval/trulens_eval/instruments.py:527\u001b[0m, in \u001b[0;36mInstrument.tracked_method_wrapper.<locals>.tru_wrapper\u001b[0;34m(*args, **kwargs)\u001b[0m\n\u001b[1;32m    520\u001b[0m \u001b[38;5;28;01mif\u001b[39;00m path \u001b[38;5;129;01mis\u001b[39;00m \u001b[38;5;28;01mNone\u001b[39;00m:\n\u001b[1;32m    521\u001b[0m     logger\u001b[38;5;241m.\u001b[39mwarning(\n\u001b[1;32m    522\u001b[0m         \u001b[38;5;124m\"\u001b[39m\u001b[38;5;124mApp of type \u001b[39m\u001b[38;5;132;01m%s\u001b[39;00m\u001b[38;5;124m no longer knows about object \u001b[39m\u001b[38;5;132;01m%s\u001b[39;00m\u001b[38;5;124m method \u001b[39m\u001b[38;5;132;01m%s\u001b[39;00m\u001b[38;5;124m. \u001b[39m\u001b[38;5;124m\"\u001b[39m\n\u001b[1;32m    523\u001b[0m         \u001b[38;5;124m\"\u001b[39m\u001b[38;5;124mSomething might be going wrong.\u001b[39m\u001b[38;5;124m\"\u001b[39m,\n\u001b[1;32m    524\u001b[0m         class_name(\u001b[38;5;28mtype\u001b[39m(app)), id_str(args[\u001b[38;5;241m0\u001b[39m]),\n\u001b[1;32m    525\u001b[0m         callable_name(func)\n\u001b[1;32m    526\u001b[0m     )\n\u001b[0;32m--> 527\u001b[0m     \u001b[38;5;28;01mraise\u001b[39;00m \u001b[38;5;167;01mRuntimeError\u001b[39;00m(\n\u001b[1;32m    528\u001b[0m         (\u001b[38;5;124m\"\u001b[39m\u001b[38;5;124mApp of type \u001b[39m\u001b[38;5;132;01m%s\u001b[39;00m\u001b[38;5;124m no longer knows about object \u001b[39m\u001b[38;5;132;01m%s\u001b[39;00m\u001b[38;5;124m method \u001b[39m\u001b[38;5;132;01m%s\u001b[39;00m\u001b[38;5;124m. \u001b[39m\u001b[38;5;124m\"\u001b[39m\n\u001b[1;32m    529\u001b[0m         \u001b[38;5;124m\"\u001b[39m\u001b[38;5;124mSomething might be going wrong.\u001b[39m\u001b[38;5;124m\"\u001b[39m) \u001b[38;5;241m%\u001b[39m (\n\u001b[1;32m    530\u001b[0m         class_name(\u001b[38;5;28mtype\u001b[39m(app)), id_str(args[\u001b[38;5;241m0\u001b[39m]),\n\u001b[1;32m    531\u001b[0m         callable_name(func))\n\u001b[1;32m    532\u001b[0m     )\n\u001b[1;32m    533\u001b[0m     \u001b[38;5;28;01mcontinue\u001b[39;00m\n\u001b[1;32m    535\u001b[0m \u001b[38;5;28;01mif\u001b[39;00m ctx \u001b[38;5;129;01mnot\u001b[39;00m \u001b[38;5;129;01min\u001b[39;00m ctx_stacks:\n\u001b[1;32m    536\u001b[0m     \u001b[38;5;66;03m# If we are the first instrumented method in the chain\u001b[39;00m\n\u001b[1;32m    537\u001b[0m     \u001b[38;5;66;03m# stack, make a new stack tuple for subsequent deeper calls\u001b[39;00m\n\u001b[1;32m    538\u001b[0m     \u001b[38;5;66;03m# (if any) to look up.\u001b[39;00m\n",
      "\u001b[0;31mRuntimeError\u001b[0m: App of type TruCustomApp no longer knows about object 0x17cdc0680 method invoke. Something might be going wrong."
     ]
    }
   ],
   "source": [
    "# Create custom app:\n",
    "custom_app = CustomApp(delay=0.0, alloc=0)\n",
    "\n",
    "# Create trulens wrapper:\n",
    "tru_custom_app = TruCustomApp(\n",
    "    custom_app,\n",
    "    app_id=\"customapp\",\n",
    ")\n",
    "\n",
    "# A component of the custom app:\n",
    "custom_agent = custom_app.agents[0]\n",
    "\n",
    "# A recorder of the component:\n",
    "tru_custom_agent = TruCustomApp(\n",
    "     custom_agent,\n",
    "     app_id=\"customapp_agent\"\n",
    ")\n",
    "\n",
    "with tru_custom_app as recorder_app:\n",
    "    res_app = custom_app.respond_to_query(f\"hello\")\n",
    "\n",
    "    with tru_custom_agent as recorder_agent:\n",
    "        res_agent = custom_agent.invoke(\"hello\")\n",
    "\n",
    "rec_app = recorder_app.get() # Everything\n",
    "\n",
    "rec_agent = recorder_agent.get() # Just the agent"
   ]
  },
  {
   "cell_type": "code",
   "execution_count": null,
   "metadata": {},
   "outputs": [],
   "source": [
    "rec.calls[0].model_dump()"
   ]
  },
  {
   "cell_type": "code",
   "execution_count": null,
   "metadata": {},
   "outputs": [],
   "source": [
    "spans = Categorizer.spans_of_record(rec)\n",
    "\n",
    "pd.DataFrame(\n",
    "    [(\n",
    "        s.trace_id & 0xff,\n",
    "        s.name,\n",
    "        type(s).__name__,\n",
    "        s.span_type,\n",
    "        s.span_id & 0xff,\n",
    "        s.parent_span_id & 0xff if s.parent_span_id else -1,\n",
    "        s.attributes\n",
    "    ) for s in spans],\n",
    "    columns=[\n",
    "        \"trace_id\",\n",
    "        \"name\",\n",
    "        \"type\",\n",
    "        \"span_type\",\n",
    "        \"span_id\",\n",
    "        \"parent_span_id\",\n",
    "        \"attributes\"\n",
    "    ],\n",
    ")"
   ]
  },
  {
   "cell_type": "code",
   "execution_count": null,
   "metadata": {},
   "outputs": [],
   "source": [
    "for span in spans:\n",
    "    pprint(span)\n",
    "    # pprint(span.model_dump())\n",
    "    print()"
   ]
  },
  {
   "cell_type": "code",
   "execution_count": null,
   "metadata": {},
   "outputs": [],
   "source": [
    "frozen = spans[1].freeze()"
   ]
  },
  {
   "cell_type": "code",
   "execution_count": null,
   "metadata": {},
   "outputs": [],
   "source": [
    "frozen.attributes"
   ]
  },
  {
   "cell_type": "code",
   "execution_count": null,
   "metadata": {},
   "outputs": [],
   "source": [
    "from trulens_eval.trace.span import Span\n",
    "\n",
    "Span.thaw(frozen).model_dump()"
   ]
  },
  {
   "cell_type": "code",
   "execution_count": null,
   "metadata": {},
   "outputs": [],
   "source": [
    "from examples.expositional.end2end_apps.custom_app.custom_tool import CustomStackTool\n",
    "# setattr(CustomStackTool, \"invoke\", None)\n",
    "getattr(CustomStackTool.invoke, \"__tru_apps\")"
   ]
  },
  {
   "cell_type": "code",
   "execution_count": null,
   "metadata": {},
   "outputs": [],
   "source": []
  },
  {
   "cell_type": "code",
   "execution_count": null,
   "metadata": {},
   "outputs": [],
   "source": [
    "dir(CustomStackTool.last_stack[0])"
   ]
  },
  {
   "cell_type": "code",
   "execution_count": null,
   "metadata": {},
   "outputs": [],
   "source": [
    "import dis\n",
    "for field in [\"f_lasti\", \"f_lineno\", \"f_trace_lines\", \"f_trace_opcodes\"]:#, \"f_code\", ]:\n",
    "    print(CustomStackTool.last_stack[0].f_globals['__name__'])\n",
    "    print(f\"{field}: {getattr(CustomStackTool.last_stack[0], field)}\")\n",
    "    continue\n",
    "    for cfield in [\n",
    "        'co_argcount',\n",
    "        'co_cellvars',\n",
    "        'co_code',\n",
    "        'co_consts',\n",
    "        'co_exceptiontable',\n",
    "        'co_filename',\n",
    "        'co_firstlineno',\n",
    "        'co_flags',\n",
    "        'co_freevars',\n",
    "        'co_kwonlyargcount',\n",
    "        'co_lines',\n",
    "        'co_linetable',\n",
    "        'co_lnotab',\n",
    "        'co_name',\n",
    "        'co_names',\n",
    "        'co_nlocals',\n",
    "        'co_positions',\n",
    "        'co_posonlyargcount',\n",
    "        'co_qualname',\n",
    "        'co_stacksize',\n",
    "        'co_varnames'\n",
    "    ]:\n",
    "        if cfield == \"co_code\":\n",
    "            print(f\"  {cfield}: {dis.Bytecode(CustomStackTool.last_stack[0].f_code).dis()}\")\n",
    "        else:\n",
    "            print(f\"  {cfield}: {getattr(CustomStackTool.last_stack[0].f_code, cfield)}\")\n",
    "\n",
    "    "
   ]
  },
  {
   "cell_type": "code",
   "execution_count": null,
   "metadata": {},
   "outputs": [],
   "source": [
    "b = dis.Bytecode(CustomStackTool.last_stack[0].f_code)"
   ]
  },
  {
   "cell_type": "code",
   "execution_count": null,
   "metadata": {},
   "outputs": [],
   "source": [
    "import inspect\n",
    "inspect.getmodule(CustomStackTool.last_stack[0].f_code).__name__"
   ]
  },
  {
   "cell_type": "code",
   "execution_count": null,
   "metadata": {},
   "outputs": [],
   "source": [
    "\n"
   ]
  },
  {
   "cell_type": "code",
   "execution_count": null,
   "metadata": {},
   "outputs": [],
   "source": [
    "for line in CustomStackTool.last_stack[0].f_code.co_lines():\n",
    "    print(line)"
   ]
  },
  {
   "cell_type": "code",
   "execution_count": null,
   "metadata": {},
   "outputs": [],
   "source": []
  }
 ],
 "metadata": {
  "kernelspec": {
   "display_name": "py38_trulens",
   "language": "python",
   "name": "python3"
  },
  "language_info": {
   "codemirror_mode": {
    "name": "ipython",
    "version": 3
   },
   "file_extension": ".py",
   "mimetype": "text/x-python",
   "name": "python",
   "nbconvert_exporter": "python",
   "pygments_lexer": "ipython3",
   "version": "3.12.0"
  },
  "orig_nbformat": 4
 },
 "nbformat": 4,
 "nbformat_minor": 2
}
