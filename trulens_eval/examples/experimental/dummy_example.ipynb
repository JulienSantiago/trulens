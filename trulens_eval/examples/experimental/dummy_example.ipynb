{
 "cells": [
  {
   "cell_type": "markdown",
   "metadata": {},
   "source": [
    "# Dummy Provider Example and High Volume Robustness Testing\n",
    "\n",
    "This notebook has two purposes: \n",
    "\n",
    "- Demostrate the dummy feedback function provider which behaves like the\n",
    "  huggingface provider except it does not actually perform any network calls and\n",
    "  just produces constant results. It can be used to prototype feedback function\n",
    "  wiring for your apps before invoking potentially slow (to run/to load)\n",
    "  feedback functions.\n",
    "\n",
    "- Test out high-volume record and feedback computation. To this end, we use the\n",
    "  custom app which is dummy in a sense that it produces useless answers without\n",
    "  making any API calls but otherwise behaves similarly to real apps, and the\n",
    "  dummy feedback function provider."
   ]
  },
  {
   "cell_type": "code",
   "execution_count": 1,
   "metadata": {},
   "outputs": [],
   "source": [
    "%load_ext autoreload\n",
    "%autoreload 2\n",
    "from pathlib import Path\n",
    "import sys\n",
    "\n",
    "# If running from github repo, can use this:\n",
    "sys.path.append(str(Path().cwd().parent.parent.resolve()))\n"
   ]
  },
  {
   "cell_type": "code",
   "execution_count": 2,
   "metadata": {},
   "outputs": [
    {
     "name": "stdout",
     "output_type": "stream",
     "text": [
      "🦑 Tru initialized with db url sqlite:///default.sqlite .\n",
      "🛑 Secret keys may be written to the database. See the `database_redact_keys` option of Tru` to prevent this.\n",
      "Force stopping dashboard ...\n",
      "Starting dashboard ...\n",
      "Config file already exists. Skipping writing process.\n",
      "Credentials file already exists. Skipping writing process.\n"
     ]
    },
    {
     "data": {
      "application/vnd.jupyter.widget-view+json": {
       "model_id": "df4c9cc2d0c54e459296e444be7d7dc1",
       "version_major": 2,
       "version_minor": 0
      },
      "text/plain": [
       "Accordion(children=(VBox(children=(VBox(children=(Label(value='STDOUT'), Output())), VBox(children=(Label(valu…"
      ]
     },
     "metadata": {},
     "output_type": "display_data"
    },
    {
     "name": "stdout",
     "output_type": "stream",
     "text": [
      "Dashboard started at http://192.168.5.95:8501 .\n"
     ]
    },
    {
     "data": {
      "text/plain": [
       "<Popen: returncode: None args: ['streamlit', 'run', '--server.headless=True'...>"
      ]
     },
     "execution_count": 2,
     "metadata": {},
     "output_type": "execute_result"
    }
   ],
   "source": [
    "from concurrent.futures import as_completed\n",
    "from time import sleep\n",
    "\n",
    "from examples.expositional.end2end_apps.custom_app.custom_app import CustomApp\n",
    "from tqdm.auto import tqdm\n",
    "\n",
    "from trulens_eval import Feedback\n",
    "from trulens_eval import Tru\n",
    "from trulens_eval.feedback.provider.hugs import Dummy\n",
    "from trulens_eval.schema.feedback import FeedbackMode\n",
    "from trulens_eval.tru_custom_app import TruCustomApp\n",
    "from trulens_eval.utils.threading import TP\n",
    "\n",
    "tp = TP()\n",
    "\n",
    "d = Dummy(\n",
    "    loading_prob=0.0,\n",
    "    freeze_prob=0.0, # we expect requests to have their own timeouts so freeze should never happen\n",
    "    error_prob=0.0,\n",
    "    overloaded_prob=0.0,\n",
    "    rpm=1000,\n",
    "    alloc = 0, # how much fake data to allocate during requests\n",
    "    delay = 10.0\n",
    ")\n",
    "\n",
    "tru = Tru()\n",
    "\n",
    "#tru.reset_database()\n",
    "\n",
    "tru.start_dashboard(\n",
    "    force = True,\n",
    "    _dev=Path().cwd().parent.parent.resolve()\n",
    ")"
   ]
  },
  {
   "cell_type": "code",
   "execution_count": 4,
   "metadata": {},
   "outputs": [
    {
     "name": "stdout",
     "output_type": "stream",
     "text": [
      "✅ In language_match, input text1 will be set to __record__.main_input or `Select.RecordInput` .\n",
      "✅ In language_match, input text2 will be set to __record__.main_output or `Select.RecordOutput` .\n",
      "✅ In output sentiment, input text will be set to __record__.main_output or `Select.RecordOutput` .\n",
      "✅ In input sentiment, input text will be set to __record__.main_input or `Select.RecordInput` .\n"
     ]
    }
   ],
   "source": [
    "f_dummy1 = Feedback(\n",
    "    d.language_match\n",
    ").on_input_output()\n",
    "\n",
    "f_dummy2 = Feedback(\n",
    "    d.positive_sentiment, name=\"output sentiment\"\n",
    ").on_output()\n",
    "\n",
    "f_dummy3 = Feedback(\n",
    "    d.positive_sentiment, name=\"input sentiment\"\n",
    ").on_input()\n",
    "\n",
    "\n",
    "# Create custom app:\n",
    "ca = CustomApp(delay=0.0, alloc=0)\n",
    "\n",
    "# Create trulens wrapper:\n",
    "ta = TruCustomApp(\n",
    "    ca,\n",
    "    app_id=\"customapp\",\n",
    "    # feedbacks=[f_dummy1, f_dummy2, f_dummy3],\n",
    "    feedback_mode=FeedbackMode.DEFERRED\n",
    ")"
   ]
  },
  {
   "cell_type": "code",
   "execution_count": 5,
   "metadata": {},
   "outputs": [
    {
     "data": {
      "application/vnd.jupyter.widget-view+json": {
       "model_id": "28aff914ef214c98aff48f2637d2ef19",
       "version_major": 2,
       "version_minor": 0
      },
      "text/plain": [
       "invoking app:   0%|          | 0/16 [00:00<?, ?it/s]"
      ]
     },
     "metadata": {},
     "output_type": "display_data"
    }
   ],
   "source": [
    "# Sequential app invocation.\n",
    "\n",
    "if True:\n",
    "    for i in tqdm(range(4), desc=\"invoking app\"):\n",
    "        with ta as recorder:\n",
    "            res = ca.respond_to_query(f\"hello {i}\")\n",
    "\n",
    "        rec = recorder.get()\n",
    "        assert rec is not None"
   ]
  },
  {
   "cell_type": "code",
   "execution_count": 9,
   "metadata": {},
   "outputs": [
    {
     "data": {
      "text/plain": [
       "{HashableSpanContext(trace_id=0x34f535b304cb9f0113dfb4e80485a0ee, span_id=0x338fd9fecd07153c, trace_flags=0x00, trace_state=[], is_remote=False): SpanRoot(name='root', kind=<SpanKind.INTERNAL: 0>, status=<StatusCode.UNSET: 0>, status_description=None, start_timestamp=1714009336925237000, end_timestamp=None, context=HashableSpanContext(trace_id=0x34f535b304cb9f0113dfb4e80485a0ee, span_id=0x338fd9fecd07153c, trace_flags=0x00, trace_state=[], is_remote=False), events=[], links={}, attributes={'trulens_eval@span_type': 'SpanRoot'}, attributes_metadata={}),\n",
       " HashableSpanContext(trace_id=0x34f535b304cb9f0113dfb4e80485a0ee, span_id=0x3ee70ce6eed8c9aa, trace_flags=0x00, trace_state=[], is_remote=False): SpanUntyped(name='retrieve_chunks', kind=<SpanKind.INTERNAL: 0>, status=<StatusCode.UNSET: 0>, status_description=None, start_timestamp=1714009336925276000, end_timestamp=None, context=HashableSpanContext(trace_id=0x34f535b304cb9f0113dfb4e80485a0ee, span_id=0x3ee70ce6eed8c9aa, trace_flags=0x00, trace_state=[], is_remote=False), events=[], links={HashableSpanContext(trace_id=0x34f535b304cb9f0113dfb4e80485a0ee, span_id=0x338fd9fecd07153c, trace_flags=0x00, trace_state=[], is_remote=False): {'trulens_eval@relationship': 'parent'}}, attributes={'trulens_eval@span_type': 'SpanUntyped'}, attributes_metadata={}),\n",
       " HashableSpanContext(trace_id=0x34f535b304cb9f0113dfb4e80485a0ee, span_id=0xcb4bafe9d4c6bfbb, trace_flags=0x00, trace_state=[], is_remote=False): SpanUntyped(name='retrieve_chunks', kind=<SpanKind.INTERNAL: 0>, status=<StatusCode.UNSET: 0>, status_description=None, start_timestamp=1714009336925297000, end_timestamp=None, context=HashableSpanContext(trace_id=0x34f535b304cb9f0113dfb4e80485a0ee, span_id=0xcb4bafe9d4c6bfbb, trace_flags=0x00, trace_state=[], is_remote=False), events=[], links={HashableSpanContext(trace_id=0x34f535b304cb9f0113dfb4e80485a0ee, span_id=0x338fd9fecd07153c, trace_flags=0x00, trace_state=[], is_remote=False): {'trulens_eval@relationship': 'parent'}}, attributes={'trulens_eval@span_type': 'SpanUntyped'}, attributes_metadata={}),\n",
       " HashableSpanContext(trace_id=0x34f535b304cb9f0113dfb4e80485a0ee, span_id=0x2300904dc185506d, trace_flags=0x00, trace_state=[], is_remote=False): SpanUntyped(name='remember', kind=<SpanKind.INTERNAL: 0>, status=<StatusCode.UNSET: 0>, status_description=None, start_timestamp=1714009336925309000, end_timestamp=None, context=HashableSpanContext(trace_id=0x34f535b304cb9f0113dfb4e80485a0ee, span_id=0x2300904dc185506d, trace_flags=0x00, trace_state=[], is_remote=False), events=[], links={HashableSpanContext(trace_id=0x34f535b304cb9f0113dfb4e80485a0ee, span_id=0x338fd9fecd07153c, trace_flags=0x00, trace_state=[], is_remote=False): {'trulens_eval@relationship': 'parent'}}, attributes={'trulens_eval@span_type': 'SpanUntyped'}, attributes_metadata={}),\n",
       " HashableSpanContext(trace_id=0x34f535b304cb9f0113dfb4e80485a0ee, span_id=0x164743a0a4ca2ee3, trace_flags=0x00, trace_state=[], is_remote=False): SpanUntyped(name='generate', kind=<SpanKind.INTERNAL: 0>, status=<StatusCode.UNSET: 0>, status_description=None, start_timestamp=1714009336925320000, end_timestamp=None, context=HashableSpanContext(trace_id=0x34f535b304cb9f0113dfb4e80485a0ee, span_id=0x164743a0a4ca2ee3, trace_flags=0x00, trace_state=[], is_remote=False), events=[], links={HashableSpanContext(trace_id=0x34f535b304cb9f0113dfb4e80485a0ee, span_id=0x338fd9fecd07153c, trace_flags=0x00, trace_state=[], is_remote=False): {'trulens_eval@relationship': 'parent'}}, attributes={'trulens_eval@span_type': 'SpanUntyped'}, attributes_metadata={}),\n",
       " HashableSpanContext(trace_id=0x34f535b304cb9f0113dfb4e80485a0ee, span_id=0xaf6726422ede1e1e, trace_flags=0x00, trace_state=[], is_remote=False): SpanUntyped(name='fill', kind=<SpanKind.INTERNAL: 0>, status=<StatusCode.UNSET: 0>, status_description=None, start_timestamp=1714009336925330000, end_timestamp=None, context=HashableSpanContext(trace_id=0x34f535b304cb9f0113dfb4e80485a0ee, span_id=0xaf6726422ede1e1e, trace_flags=0x00, trace_state=[], is_remote=False), events=[], links={HashableSpanContext(trace_id=0x34f535b304cb9f0113dfb4e80485a0ee, span_id=0x338fd9fecd07153c, trace_flags=0x00, trace_state=[], is_remote=False): {'trulens_eval@relationship': 'parent'}}, attributes={'trulens_eval@span_type': 'SpanUntyped'}, attributes_metadata={}),\n",
       " HashableSpanContext(trace_id=0x34f535b304cb9f0113dfb4e80485a0ee, span_id=0x5435c56c3478c576, trace_flags=0x00, trace_state=[], is_remote=False): SpanUntyped(name='remember', kind=<SpanKind.INTERNAL: 0>, status=<StatusCode.UNSET: 0>, status_description=None, start_timestamp=1714009336925339000, end_timestamp=None, context=HashableSpanContext(trace_id=0x34f535b304cb9f0113dfb4e80485a0ee, span_id=0x5435c56c3478c576, trace_flags=0x00, trace_state=[], is_remote=False), events=[], links={HashableSpanContext(trace_id=0x34f535b304cb9f0113dfb4e80485a0ee, span_id=0x338fd9fecd07153c, trace_flags=0x00, trace_state=[], is_remote=False): {'trulens_eval@relationship': 'parent'}}, attributes={'trulens_eval@span_type': 'SpanUntyped'}, attributes_metadata={}),\n",
       " HashableSpanContext(trace_id=0x34f535b304cb9f0113dfb4e80485a0ee, span_id=0xe08e367a6d21d3df, trace_flags=0x00, trace_state=[], is_remote=False): SpanUntyped(name='respond_to_query', kind=<SpanKind.INTERNAL: 0>, status=<StatusCode.UNSET: 0>, status_description=None, start_timestamp=1714009336925349000, end_timestamp=None, context=HashableSpanContext(trace_id=0x34f535b304cb9f0113dfb4e80485a0ee, span_id=0xe08e367a6d21d3df, trace_flags=0x00, trace_state=[], is_remote=False), events=[], links={HashableSpanContext(trace_id=0x34f535b304cb9f0113dfb4e80485a0ee, span_id=0x338fd9fecd07153c, trace_flags=0x00, trace_state=[], is_remote=False): {'trulens_eval@relationship': 'parent'}}, attributes={'trulens_eval@span_type': 'SpanUntyped'}, attributes_metadata={})}"
      ]
     },
     "execution_count": 9,
     "metadata": {},
     "output_type": "execute_result"
    }
   ],
   "source": [
    "rec.as_tracer().spans"
   ]
  },
  {
   "cell_type": "code",
   "execution_count": null,
   "metadata": {},
   "outputs": [],
   "source": [
    "# ta.wait_for_feedback_results()"
   ]
  },
  {
   "cell_type": "code",
   "execution_count": null,
   "metadata": {},
   "outputs": [],
   "source": [
    "# Control retries in deferred evaluator.\n",
    "# tru.RETRY_FAILED_SECONDS = 60\n",
    "# tru.RETRY_RUNNING_SECONDS = 5\n",
    "tru.start_evaluator(restart=True)"
   ]
  },
  {
   "cell_type": "code",
   "execution_count": null,
   "metadata": {},
   "outputs": [],
   "source": [
    "# Parallel feedback evaluation.\n",
    "\n",
    "futures = []\n",
    "num_tests = 10000\n",
    "good = 0\n",
    "bad = 0\n",
    "\n",
    "def test_feedback(msg):\n",
    "    return msg, d.positive_sentiment(msg)\n",
    "\n",
    "for i in tqdm(range(num_tests), desc=\"starting feedback task\"):\n",
    "    futures.append(tp.submit(test_feedback, msg=f\"good\"))\n",
    "\n",
    "prog = tqdm(as_completed(futures), total=num_tests)\n",
    "\n",
    "for f in prog:\n",
    "    try:\n",
    "        res = f.result()\n",
    "        good += 1\n",
    "\n",
    "        assert res[0] == \"good\"\n",
    "\n",
    "        prog.set_description_str(f\"{good} / {bad}\")\n",
    "    except Exception as e:\n",
    "        bad += 1\n",
    "        prog.set_description_str(f\"{good} / {bad}\")"
   ]
  },
  {
   "cell_type": "code",
   "execution_count": null,
   "metadata": {},
   "outputs": [],
   "source": [
    "# Parallel app invocation.\n",
    "\n",
    "def run_query(q):\n",
    "\n",
    "    with ta as recorder:\n",
    "        res = ca.respond_to_query(q)\n",
    "\n",
    "    rec = recorder.get()\n",
    "    assert rec is not None\n",
    "\n",
    "    return f\"run_query {q} result\"\n",
    "\n",
    "for i in tqdm(range(100), desc=\"starting app task\"):\n",
    "    print(\n",
    "        tp.completed_tasks, \n",
    "        end=\"\\r\"\n",
    "    )\n",
    "    tp.submit(run_query, q=f\"hello {i}\")"
   ]
  },
  {
   "cell_type": "code",
   "execution_count": null,
   "metadata": {},
   "outputs": [],
   "source": []
  }
 ],
 "metadata": {
  "kernelspec": {
   "display_name": "py38_trulens",
   "language": "python",
   "name": "python3"
  },
  "language_info": {
   "codemirror_mode": {
    "name": "ipython",
    "version": 3
   },
   "file_extension": ".py",
   "mimetype": "text/x-python",
   "name": "python",
   "nbconvert_exporter": "python",
   "pygments_lexer": "ipython3",
   "version": "3.11.6"
  },
  "orig_nbformat": 4
 },
 "nbformat": 4,
 "nbformat_minor": 2
}
