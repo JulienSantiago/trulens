{
 "cells": [
  {
   "cell_type": "markdown",
   "metadata": {},
   "source": [
    "# Example uses of context managers for recording traces.\n",
    "\n",
    "Examples are also useful for debugging the recording process under various\n",
    "conditions."
   ]
  },
  {
   "cell_type": "code",
   "execution_count": null,
   "metadata": {},
   "outputs": [],
   "source": [
    "%load_ext autoreload\n",
    "%autoreload 2\n",
    "from pathlib import Path\n",
    "import sys\n",
    "\n",
    "# If running from github repo, can use this:\n",
    "repo = Path().cwd().parent.parent.resolve()\n",
    "sys.path.append(str(repo))"
   ]
  },
  {
   "cell_type": "code",
   "execution_count": null,
   "metadata": {},
   "outputs": [],
   "source": [
    "from examples.expositional.end2end_apps.custom_app.custom_app import CustomApp\n",
    "\n",
    "from trulens_eval.tru_custom_app import TruCustomApp"
   ]
  },
  {
   "cell_type": "code",
   "execution_count": null,
   "metadata": {},
   "outputs": [],
   "source": [
    "# from trulens_eval import Tru\n",
    "# Tru().reset_database()\n",
    "# Tru().start_dashboard(_dev=repo, force=True)"
   ]
  },
  {
   "cell_type": "code",
   "execution_count": null,
   "metadata": {},
   "outputs": [],
   "source": [
    "# Create custom app:\n",
    "custom_app = CustomApp(delay=0.0, alloc=0)\n",
    "\n",
    "# Create trulens wrapper:\n",
    "tru_custom_app = TruCustomApp(\n",
    "    custom_app,\n",
    "    app_id=\"customapp\",\n",
    ")\n",
    "\n",
    "custom_agent = custom_app.agents[0]\n",
    "\n",
    "tru_custom_agent = TruCustomApp(\n",
    "     custom_agent,\n",
    "     app_id=\"customapp_agent\"\n",
    ")"
   ]
  },
  {
   "cell_type": "code",
   "execution_count": null,
   "metadata": {},
   "outputs": [],
   "source": [
    "# Create custom app:\n",
    "custom_app1 = CustomApp(delay=0.0, alloc=0)\n",
    "\n",
    "# Create trulens wrapper:\n",
    "tru_custom_app1 = TruCustomApp(\n",
    "    custom_app1,\n",
    "    app_id=\"customapp1\",\n",
    ")\n",
    "\n",
    "# Create another custom app:\n",
    "custom_app2 = CustomApp(delay=0.0, alloc=0)\n",
    "\n",
    "# Create another trulens wrapper:\n",
    "tru_custom_app2 = TruCustomApp(\n",
    "    custom_app2,\n",
    "    app_id=\"customapp2\",\n",
    ")\n",
    "\n",
    "# Sequential contexts.\n",
    "with tru_custom_app1 as recorder_app1:\n",
    "    res_app1 = custom_app1.respond_to_query(\"hello 1\")\n",
    "\n",
    "with tru_custom_app2 as recorder_app2:\n",
    "    res_app2 = custom_app2.respond_to_query(\"hello 2\")\n",
    "\n",
    "# Nested sequential contexts.\n",
    "with tru_custom_app1 as recorder_app1:\n",
    "    res_app1 = custom_app1.respond_to_query(\"hello 1\")\n",
    "\n",
    "    with tru_custom_app2 as recorder_app2:\n",
    "        res_app2 = custom_app2.respond_to_query(\"hello 2\")"
   ]
  },
  {
   "cell_type": "code",
   "execution_count": null,
   "metadata": {},
   "outputs": [],
   "source": [
    "# Create custom app:\n",
    "custom_app = CustomApp(delay=0.0, alloc=0)\n",
    "\n",
    "# Create trulens wrapper:\n",
    "tru_custom_app = TruCustomApp(\n",
    "    custom_app,\n",
    "    app_id=\"customapp\",\n",
    ")\n",
    "\n",
    "# A component of the custom app:\n",
    "custom_agent = custom_app.agents[0]\n",
    "\n",
    "# A recorder of the component:\n",
    "tru_custom_agent = TruCustomApp(\n",
    "     custom_agent,\n",
    "     app_id=\"customapp_agent\"\n",
    ")\n",
    "\n",
    "with tru_custom_app as recorder_app:\n",
    "    res_app = custom_app.respond_to_query(f\"hello\")\n",
    "\n",
    "    with tru_custom_agent as recorder_agent:\n",
    "        res_agent = custom_agent.invoke(\"hello\")\n",
    "\n",
    "rec_app = recorder_app.records # 2 records\n",
    "\n",
    "rec_agent = recorder_agent.get() # Just the agent"
   ]
  },
  {
   "cell_type": "code",
   "execution_count": null,
   "metadata": {},
   "outputs": [],
   "source": [
    "from examples.expositional.end2end_apps.custom_app.custom_tool import CustomStackTool\n",
    "# setattr(CustomStackTool, \"invoke\", None)\n",
    "getattr(CustomStackTool.invoke, \"__tru_apps\")"
   ]
  },
  {
   "cell_type": "code",
   "execution_count": null,
   "metadata": {},
   "outputs": [],
   "source": [
    "dir(CustomStackTool.last_stack[0])"
   ]
  },
  {
   "cell_type": "code",
   "execution_count": null,
   "metadata": {},
   "outputs": [],
   "source": [
    "import dis\n",
    "for field in [\"f_lasti\", \"f_lineno\", \"f_trace_lines\", \"f_trace_opcodes\"]:#, \"f_code\", ]:\n",
    "    print(CustomStackTool.last_stack[0].f_globals['__name__'])\n",
    "    print(f\"{field}: {getattr(CustomStackTool.last_stack[0], field)}\")\n",
    "    continue\n",
    "    for cfield in [\n",
    "        'co_argcount',\n",
    "        'co_cellvars',\n",
    "        'co_code',\n",
    "        'co_consts',\n",
    "        'co_exceptiontable',\n",
    "        'co_filename',\n",
    "        'co_firstlineno',\n",
    "        'co_flags',\n",
    "        'co_freevars',\n",
    "        'co_kwonlyargcount',\n",
    "        'co_lines',\n",
    "        'co_linetable',\n",
    "        'co_lnotab',\n",
    "        'co_name',\n",
    "        'co_names',\n",
    "        'co_nlocals',\n",
    "        'co_positions',\n",
    "        'co_posonlyargcount',\n",
    "        'co_qualname',\n",
    "        'co_stacksize',\n",
    "        'co_varnames'\n",
    "    ]:\n",
    "        if cfield == \"co_code\":\n",
    "            print(f\"  {cfield}: {dis.Bytecode(CustomStackTool.last_stack[0].f_code).dis()}\")\n",
    "        else:\n",
    "            print(f\"  {cfield}: {getattr(CustomStackTool.last_stack[0].f_code, cfield)}\")\n",
    "\n",
    "    "
   ]
  }
 ],
 "metadata": {
  "language_info": {
   "name": "python"
  }
 },
 "nbformat": 4,
 "nbformat_minor": 2
}
