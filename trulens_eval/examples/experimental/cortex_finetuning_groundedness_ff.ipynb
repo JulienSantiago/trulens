{
 "cells": [
  {
   "cell_type": "code",
   "execution_count": 3,
   "metadata": {},
   "outputs": [],
   "source": [
    "from trulens_eval.tests.test_cases import generate_summeval_groundedness_golden_set\n",
    "\n",
    "\n",
    "# generator for groundedness golden set\n",
    "test_cases_gen = generate_summeval_groundedness_golden_set(\"../../trulens_eval/tests/datasets/summeval/summeval_test_100.json\")"
   ]
  },
  {
   "cell_type": "code",
   "execution_count": 4,
   "metadata": {},
   "outputs": [],
   "source": [
    "test_split, train_split, val_split = [], [] ,[]\n",
    "\n",
    "\n",
    "for i in range(500):\n",
    "    test_split.append(next(test_cases_gen))\n",
    "    \n",
    "for i in range(500, 1300):\n",
    "    train_split.append(next(test_cases_gen))\n",
    "\n",
    "for i in range(1300, 1600):\n",
    "    val_split.append(next(test_cases_gen))"
   ]
  },
  {
   "cell_type": "code",
   "execution_count": 5,
   "metadata": {},
   "outputs": [
    {
     "data": {
      "text/plain": [
       "[{'query': \"Esteban Cambiasso has won all the major European competitions a player can during his illustrious career but revealed that keeping Leicester City in the Premier League would be up there with the best. The Foxes are currently seven points adrift at the bottom of the table, with only eight games remaining, knowing that time is running out to save themselves. Cambiasso refuses to give up and admits that keeping Leicester up will feel like winning a trophy. Esteban Cambiasso says that helping keep Leicester in the Premier League will feel like winning a trophy 'For me, it's like another cup,' he told BBC East Midlands Today. 'When you start another season you have an objective, and this is the objective for us. 'For me, winning a cup or winning the league with another team is the same now as having the possibility to save Leicester in the Premier League.' The Argentinian midfielder poses with the trophy after his team won the 2010 FIFA Club World Cup Cambiasso had an illustrious career at Inter Milan, winning an impressive 15 trophies during his stint River Plate (2001-2002) Argentine Primera Division Real Madrid (2002-2004) La Liga Super Cup Supercopa de Espana Inter Milan (2004-2014) Champions League Serie A (5) Coppa Italia (4) Supercoppa (4) FIFA Club World Cup Having not won a game since January, Nigel Pearson's men face West Ham United on Saturday and Cambiasso is still convinced they can avoid the drop. 'I understood when I signed for Leicester it's not an easy job to stay in the Premier League,' he said. 'It's a difficult situation but I think we have our chances to win matches. There's a quarter of the Premier League left to finish. 'I think some people think for Leicester all is finished. But I'm sure, because I watch my team-mates every day, we can save Leicester and stay in the Premier League.' The former Inter Milan star signed for the Foxes in the summer, leaving Italy after ten years and embarking on a new challenge in England. After agreeing to a one-year-deal, Cambiasso has quickly established himself as a key player but it remains to be seen if he'll still be in the East Midlands at the start of next season. The former Real Madrid man was also successful during his short spell in Spain for Real Madrid Cambiasso played during Real's 'Galatico' era, with Luis Figo, Zinedine Zidane, Ronaldo and David Beckham 'Leicester always wanted me,' he added. 'After these nine months or eight months, I'm very happy because my family is OK, and I'm good. 'I want a few more points, but all the rest is perfect.' Cambiasso is happy in the East Midlands and could stay beyond his current one-year-deal\",\n",
       "  'response': 'leicester city are seven points adrift at the bottom of the table . the foxes are currently seven points adrift at the bottom of the table . esteban cambiasso refuses to give up and admits that keeping leicester up will feel like winning a trophy .',\n",
       "  'expected_score': 1.0,\n",
       "  'human_score': 5.0},\n",
       " {'query': \"Esteban Cambiasso has won all the major European competitions a player can during his illustrious career but revealed that keeping Leicester City in the Premier League would be up there with the best. The Foxes are currently seven points adrift at the bottom of the table, with only eight games remaining, knowing that time is running out to save themselves. Cambiasso refuses to give up and admits that keeping Leicester up will feel like winning a trophy. Esteban Cambiasso says that helping keep Leicester in the Premier League will feel like winning a trophy 'For me, it's like another cup,' he told BBC East Midlands Today. 'When you start another season you have an objective, and this is the objective for us. 'For me, winning a cup or winning the league with another team is the same now as having the possibility to save Leicester in the Premier League.' The Argentinian midfielder poses with the trophy after his team won the 2010 FIFA Club World Cup Cambiasso had an illustrious career at Inter Milan, winning an impressive 15 trophies during his stint River Plate (2001-2002) Argentine Primera Division Real Madrid (2002-2004) La Liga Super Cup Supercopa de Espana Inter Milan (2004-2014) Champions League Serie A (5) Coppa Italia (4) Supercoppa (4) FIFA Club World Cup Having not won a game since January, Nigel Pearson's men face West Ham United on Saturday and Cambiasso is still convinced they can avoid the drop. 'I understood when I signed for Leicester it's not an easy job to stay in the Premier League,' he said. 'It's a difficult situation but I think we have our chances to win matches. There's a quarter of the Premier League left to finish. 'I think some people think for Leicester all is finished. But I'm sure, because I watch my team-mates every day, we can save Leicester and stay in the Premier League.' The former Inter Milan star signed for the Foxes in the summer, leaving Italy after ten years and embarking on a new challenge in England. After agreeing to a one-year-deal, Cambiasso has quickly established himself as a key player but it remains to be seen if he'll still be in the East Midlands at the start of next season. The former Real Madrid man was also successful during his short spell in Spain for Real Madrid Cambiasso played during Real's 'Galatico' era, with Luis Figo, Zinedine Zidane, Ronaldo and David Beckham 'Leicester always wanted me,' he added. 'After these nine months or eight months, I'm very happy because my family is OK, and I'm good. 'I want a few more points, but all the rest is perfect.' Cambiasso is happy in the East Midlands and could stay beyond his current one-year-deal\",\n",
       "  'response': 'esteban cambiasso has won all the major european competitions a player can during his illustrious career but revealed that keeping leicester city in the premier league would be up there with the best . the foxes are currently seven points adrift at the bottom of the table , with only eight games remaining . cambiasso says that helping keep leicester in the premier league will feel like winning a trophy .',\n",
       "  'expected_score': 1.0,\n",
       "  'human_score': 5.0},\n",
       " {'query': \"Esteban Cambiasso has won all the major European competitions a player can during his illustrious career but revealed that keeping Leicester City in the Premier League would be up there with the best. The Foxes are currently seven points adrift at the bottom of the table, with only eight games remaining, knowing that time is running out to save themselves. Cambiasso refuses to give up and admits that keeping Leicester up will feel like winning a trophy. Esteban Cambiasso says that helping keep Leicester in the Premier League will feel like winning a trophy 'For me, it's like another cup,' he told BBC East Midlands Today. 'When you start another season you have an objective, and this is the objective for us. 'For me, winning a cup or winning the league with another team is the same now as having the possibility to save Leicester in the Premier League.' The Argentinian midfielder poses with the trophy after his team won the 2010 FIFA Club World Cup Cambiasso had an illustrious career at Inter Milan, winning an impressive 15 trophies during his stint River Plate (2001-2002) Argentine Primera Division Real Madrid (2002-2004) La Liga Super Cup Supercopa de Espana Inter Milan (2004-2014) Champions League Serie A (5) Coppa Italia (4) Supercoppa (4) FIFA Club World Cup Having not won a game since January, Nigel Pearson's men face West Ham United on Saturday and Cambiasso is still convinced they can avoid the drop. 'I understood when I signed for Leicester it's not an easy job to stay in the Premier League,' he said. 'It's a difficult situation but I think we have our chances to win matches. There's a quarter of the Premier League left to finish. 'I think some people think for Leicester all is finished. But I'm sure, because I watch my team-mates every day, we can save Leicester and stay in the Premier League.' The former Inter Milan star signed for the Foxes in the summer, leaving Italy after ten years and embarking on a new challenge in England. After agreeing to a one-year-deal, Cambiasso has quickly established himself as a key player but it remains to be seen if he'll still be in the East Midlands at the start of next season. The former Real Madrid man was also successful during his short spell in Spain for Real Madrid Cambiasso played during Real's 'Galatico' era, with Luis Figo, Zinedine Zidane, Ronaldo and David Beckham 'Leicester always wanted me,' he added. 'After these nine months or eight months, I'm very happy because my family is OK, and I'm good. 'I want a few more points, but all the rest is perfect.' Cambiasso is happy in the East Midlands and could stay beyond his current one-year-deal\",\n",
       "  'response': 'the foxes are currently seven points adrift at the bottom of the table , with only eight games remaining , knowing that time is running out to save themselves . cambiasso refuses to give up and admits that keeping leicester up will feel like winning a trophy . esteban cambiasso says that helping keep leicester in the premier league will feel like winning a trophy',\n",
       "  'expected_score': 1.0,\n",
       "  'human_score': 5.0}]"
      ]
     },
     "execution_count": 5,
     "metadata": {},
     "output_type": "execute_result"
    }
   ],
   "source": [
    "train_split[:3]"
   ]
  },
  {
   "cell_type": "code",
   "execution_count": 28,
   "metadata": {},
   "outputs": [],
   "source": [
    "import os\n",
    "os.environ[\"SNOWFLAKE_ACCOUNT\"] = \"xxx-xxx\"\n",
    "os.environ[\"SNOWFLAKE_USER\"] = \"...\"\n",
    "os.environ[\"SNOWFLAKE_USER_PASSWORD\"] = \"...\"\n",
    "os.environ[\"OPENAI_API_KEY\"] = \"sk-...\"\n",
    "os.environ[\"SNOWFLAKE_DATABASE\"] = \"...\"\n",
    "os.environ[\"SNOWFLAKE_SCHEMA\"] = \"...\""
   ]
  },
  {
   "cell_type": "markdown",
   "metadata": {},
   "source": [
    "# Extract current prompts we use for groundedness without COT for supervised fine-tuning datasets\n"
   ]
  },
  {
   "cell_type": "code",
   "execution_count": 6,
   "metadata": {},
   "outputs": [],
   "source": [
    "from trulens_eval.feedback import prompts\n",
    "\n",
    "system_prompt: str = prompts.LLM_GROUNDEDNESS_SYSTEM\n"
   ]
  },
  {
   "cell_type": "code",
   "execution_count": 7,
   "metadata": {},
   "outputs": [],
   "source": [
    "preprocessed_train_data, preprocessed_val_data = [], []\n",
    "for row in train_split:\n",
    "    source, hypothesis = row['query'], row['response']\n",
    "    user_prompt: str = \"\"\"\n",
    "        SOURCE: {source}\n",
    "        \n",
    "        Hypothesis: {hypothesis}\n",
    "        Please answer with just the score. nothing else.\n",
    "        \"\"\".format(\n",
    "                source=f\"{source}\", hypothesis=f\"{hypothesis}\"\n",
    "        )\n",
    "    llm_messages = [{\"role\": \"system\", \"content\": system_prompt}, {\"role\": \"user\", \"content\": user_prompt}]\n",
    "\n",
    "    full_prompt = str(llm_messages)\n",
    "    \n",
    "    human_score_scale_on_5 = row['human_score']\n",
    "    human_score_scale_on_10 = 10 * ((human_score_scale_on_5 - 1) / 4)\n",
    "    \n",
    "    preprocessed_train_data.append({'prompt': full_prompt, 'completion': str(human_score_scale_on_10)})\n",
    "    \n",
    "for row in val_split:\n",
    "    source, hypothesis = row['query'], row['response']\n",
    "    user_prompt: str = \"\"\"\n",
    "        SOURCE: {source}\n",
    "        \n",
    "        Hypothesis: {hypothesis}\n",
    "        Please answer with just the score. nothing else.\n",
    "        \"\"\".format(\n",
    "                source=f\"{source}\", hypothesis=f\"{hypothesis}\"\n",
    "        )\n",
    "    llm_messages = [{\"role\": \"system\", \"content\": system_prompt}, {\"role\": \"user\", \"content\": user_prompt}]\n",
    "\n",
    "    full_prompt = str(llm_messages)\n",
    "    \n",
    "    human_score_scale_on_5 = row['human_score']\n",
    "    human_score_scale_on_10 = 10 * ((human_score_scale_on_5 - 1) / 4)\n",
    "    \n",
    "    preprocessed_val_data.append({'prompt': full_prompt, 'completion': str(human_score_scale_on_10)})\n",
    "\n",
    "assert(len(preprocessed_train_data) == len(train_split))\n",
    "assert(len(preprocessed_val_data) == len(val_split))\n",
    "    "
   ]
  },
  {
   "cell_type": "code",
   "execution_count": 8,
   "metadata": {},
   "outputs": [
    {
     "data": {
      "text/plain": [
       "[{'prompt': '[{\\'role\\': \\'system\\', \\'content\\': \\'You are a INFORMATION OVERLAP classifier; providing the overlap of information between the source and statement.\\\\n        Respond only as a number from 0 to 10 where 0 is no information overlap and 10 is all information is overlapping.\\\\n        Never elaborate.\\'}, {\\'role\\': \\'user\\', \\'content\\': \"\\\\n        SOURCE: Esteban Cambiasso has won all the major European competitions a player can during his illustrious career but revealed that keeping Leicester City in the Premier League would be up there with the best. The Foxes are currently seven points adrift at the bottom of the table, with only eight games remaining, knowing that time is running out to save themselves. Cambiasso refuses to give up and admits that keeping Leicester up will feel like winning a trophy. Esteban Cambiasso says that helping keep Leicester in the Premier League will feel like winning a trophy \\'For me, it\\'s like another cup,\\' he told BBC East Midlands Today. \\'When you start another season you have an objective, and this is the objective for us. \\'For me, winning a cup or winning the league with another team is the same now as having the possibility to save Leicester in the Premier League.\\' The Argentinian midfielder poses with the trophy after his team won the 2010 FIFA Club World Cup Cambiasso had an illustrious career at Inter Milan, winning an impressive 15 trophies during his stint River Plate (2001-2002) Argentine Primera Division Real Madrid (2002-2004) La Liga Super Cup Supercopa de Espana Inter Milan (2004-2014) Champions League Serie A (5) Coppa Italia (4) Supercoppa (4) FIFA Club World Cup Having not won a game since January, Nigel Pearson\\'s men face West Ham United on Saturday and Cambiasso is still convinced they can avoid the drop. \\'I understood when I signed for Leicester it\\'s not an easy job to stay in the Premier League,\\' he said. \\'It\\'s a difficult situation but I think we have our chances to win matches. There\\'s a quarter of the Premier League left to finish. \\'I think some people think for Leicester all is finished. But I\\'m sure, because I watch my team-mates every day, we can save Leicester and stay in the Premier League.\\' The former Inter Milan star signed for the Foxes in the summer, leaving Italy after ten years and embarking on a new challenge in England. After agreeing to a one-year-deal, Cambiasso has quickly established himself as a key player but it remains to be seen if he\\'ll still be in the East Midlands at the start of next season. The former Real Madrid man was also successful during his short spell in Spain for Real Madrid Cambiasso played during Real\\'s \\'Galatico\\' era, with Luis Figo, Zinedine Zidane, Ronaldo and David Beckham \\'Leicester always wanted me,\\' he added. \\'After these nine months or eight months, I\\'m very happy because my family is OK, and I\\'m good. \\'I want a few more points, but all the rest is perfect.\\' Cambiasso is happy in the East Midlands and could stay beyond his current one-year-deal\\\\n        \\\\n        Hypothesis: leicester city are seven points adrift at the bottom of the table . the foxes are currently seven points adrift at the bottom of the table . esteban cambiasso refuses to give up and admits that keeping leicester up will feel like winning a trophy .\\\\n        Please answer with just the score. nothing else.\\\\n        \"}]',\n",
       "  'completion': '10.0'},\n",
       " {'prompt': '[{\\'role\\': \\'system\\', \\'content\\': \\'You are a INFORMATION OVERLAP classifier; providing the overlap of information between the source and statement.\\\\n        Respond only as a number from 0 to 10 where 0 is no information overlap and 10 is all information is overlapping.\\\\n        Never elaborate.\\'}, {\\'role\\': \\'user\\', \\'content\\': \"\\\\n        SOURCE: Esteban Cambiasso has won all the major European competitions a player can during his illustrious career but revealed that keeping Leicester City in the Premier League would be up there with the best. The Foxes are currently seven points adrift at the bottom of the table, with only eight games remaining, knowing that time is running out to save themselves. Cambiasso refuses to give up and admits that keeping Leicester up will feel like winning a trophy. Esteban Cambiasso says that helping keep Leicester in the Premier League will feel like winning a trophy \\'For me, it\\'s like another cup,\\' he told BBC East Midlands Today. \\'When you start another season you have an objective, and this is the objective for us. \\'For me, winning a cup or winning the league with another team is the same now as having the possibility to save Leicester in the Premier League.\\' The Argentinian midfielder poses with the trophy after his team won the 2010 FIFA Club World Cup Cambiasso had an illustrious career at Inter Milan, winning an impressive 15 trophies during his stint River Plate (2001-2002) Argentine Primera Division Real Madrid (2002-2004) La Liga Super Cup Supercopa de Espana Inter Milan (2004-2014) Champions League Serie A (5) Coppa Italia (4) Supercoppa (4) FIFA Club World Cup Having not won a game since January, Nigel Pearson\\'s men face West Ham United on Saturday and Cambiasso is still convinced they can avoid the drop. \\'I understood when I signed for Leicester it\\'s not an easy job to stay in the Premier League,\\' he said. \\'It\\'s a difficult situation but I think we have our chances to win matches. There\\'s a quarter of the Premier League left to finish. \\'I think some people think for Leicester all is finished. But I\\'m sure, because I watch my team-mates every day, we can save Leicester and stay in the Premier League.\\' The former Inter Milan star signed for the Foxes in the summer, leaving Italy after ten years and embarking on a new challenge in England. After agreeing to a one-year-deal, Cambiasso has quickly established himself as a key player but it remains to be seen if he\\'ll still be in the East Midlands at the start of next season. The former Real Madrid man was also successful during his short spell in Spain for Real Madrid Cambiasso played during Real\\'s \\'Galatico\\' era, with Luis Figo, Zinedine Zidane, Ronaldo and David Beckham \\'Leicester always wanted me,\\' he added. \\'After these nine months or eight months, I\\'m very happy because my family is OK, and I\\'m good. \\'I want a few more points, but all the rest is perfect.\\' Cambiasso is happy in the East Midlands and could stay beyond his current one-year-deal\\\\n        \\\\n        Hypothesis: esteban cambiasso has won all the major european competitions a player can during his illustrious career but revealed that keeping leicester city in the premier league would be up there with the best . the foxes are currently seven points adrift at the bottom of the table , with only eight games remaining . cambiasso says that helping keep leicester in the premier league will feel like winning a trophy .\\\\n        Please answer with just the score. nothing else.\\\\n        \"}]',\n",
       "  'completion': '10.0'},\n",
       " {'prompt': '[{\\'role\\': \\'system\\', \\'content\\': \\'You are a INFORMATION OVERLAP classifier; providing the overlap of information between the source and statement.\\\\n        Respond only as a number from 0 to 10 where 0 is no information overlap and 10 is all information is overlapping.\\\\n        Never elaborate.\\'}, {\\'role\\': \\'user\\', \\'content\\': \"\\\\n        SOURCE: Esteban Cambiasso has won all the major European competitions a player can during his illustrious career but revealed that keeping Leicester City in the Premier League would be up there with the best. The Foxes are currently seven points adrift at the bottom of the table, with only eight games remaining, knowing that time is running out to save themselves. Cambiasso refuses to give up and admits that keeping Leicester up will feel like winning a trophy. Esteban Cambiasso says that helping keep Leicester in the Premier League will feel like winning a trophy \\'For me, it\\'s like another cup,\\' he told BBC East Midlands Today. \\'When you start another season you have an objective, and this is the objective for us. \\'For me, winning a cup or winning the league with another team is the same now as having the possibility to save Leicester in the Premier League.\\' The Argentinian midfielder poses with the trophy after his team won the 2010 FIFA Club World Cup Cambiasso had an illustrious career at Inter Milan, winning an impressive 15 trophies during his stint River Plate (2001-2002) Argentine Primera Division Real Madrid (2002-2004) La Liga Super Cup Supercopa de Espana Inter Milan (2004-2014) Champions League Serie A (5) Coppa Italia (4) Supercoppa (4) FIFA Club World Cup Having not won a game since January, Nigel Pearson\\'s men face West Ham United on Saturday and Cambiasso is still convinced they can avoid the drop. \\'I understood when I signed for Leicester it\\'s not an easy job to stay in the Premier League,\\' he said. \\'It\\'s a difficult situation but I think we have our chances to win matches. There\\'s a quarter of the Premier League left to finish. \\'I think some people think for Leicester all is finished. But I\\'m sure, because I watch my team-mates every day, we can save Leicester and stay in the Premier League.\\' The former Inter Milan star signed for the Foxes in the summer, leaving Italy after ten years and embarking on a new challenge in England. After agreeing to a one-year-deal, Cambiasso has quickly established himself as a key player but it remains to be seen if he\\'ll still be in the East Midlands at the start of next season. The former Real Madrid man was also successful during his short spell in Spain for Real Madrid Cambiasso played during Real\\'s \\'Galatico\\' era, with Luis Figo, Zinedine Zidane, Ronaldo and David Beckham \\'Leicester always wanted me,\\' he added. \\'After these nine months or eight months, I\\'m very happy because my family is OK, and I\\'m good. \\'I want a few more points, but all the rest is perfect.\\' Cambiasso is happy in the East Midlands and could stay beyond his current one-year-deal\\\\n        \\\\n        Hypothesis: the foxes are currently seven points adrift at the bottom of the table , with only eight games remaining , knowing that time is running out to save themselves . cambiasso refuses to give up and admits that keeping leicester up will feel like winning a trophy . esteban cambiasso says that helping keep leicester in the premier league will feel like winning a trophy\\\\n        Please answer with just the score. nothing else.\\\\n        \"}]',\n",
       "  'completion': '10.0'}]"
      ]
     },
     "execution_count": 8,
     "metadata": {},
     "output_type": "execute_result"
    }
   ],
   "source": [
    "preprocessed_train_data[:3]\n"
   ]
  },
  {
   "cell_type": "markdown",
   "metadata": {},
   "source": [
    "# Preparing dataset for Snowflake table - only 2 column names are `prompt` and `completion` are accepted by Cortex Finetuning function"
   ]
  },
  {
   "cell_type": "code",
   "execution_count": null,
   "metadata": {},
   "outputs": [],
   "source": [
    "import snowflake.connector\n",
    "\n",
    "# Connect to Snowflake\n",
    "conn = snowflake.connector.connect(\n",
    "    user=os.environ[\"SNOWFLAKE_USER\"],\n",
    "    password=os.environ[\"SNOWFLAKE_USER_PASSWORD\"],\n",
    "    account=os.environ[\"SNOWFLAKE_ACCOUNT\"]\n",
    ")\n",
    "\n",
    "# Create a cursor object\n",
    "cur = conn.cursor()\n",
    "\n",
    "cur.execute(\"USE DATABASE DHUANG_LLM\")\n",
    "# SQL command to create the table\n",
    "create_table_sql_train = \"\"\"\n",
    "CREATE TABLE IF NOT EXISTS summeval_train_data (\n",
    "    prompt STRING,\n",
    "    completion STRING\n",
    ");\n",
    "\"\"\"\n",
    "create_table_sql_val = \"\"\"\n",
    "CREATE TABLE IF NOT EXISTS summeval_val_data (\n",
    "    prompt STRING,\n",
    "    completion STRING\n",
    ");\n",
    "\"\"\"\n",
    "# Execute the SQL command to create the table\n",
    "cur.execute(create_table_sql_train)\n",
    "cur.execute(create_table_sql_val)\n",
    "\n",
    "# Data to be inserted\n",
    "\n",
    "# Insert data into the table\n",
    "insert_sql_train = \"INSERT INTO summeval_train_data (prompt, completion) VALUES (%s, %s)\"\n",
    "for row in preprocessed_train_data:\n",
    "    cur.execute(insert_sql_train, (row['prompt'], row['completion']))\n",
    "    \n",
    "insert_sql_val = \"INSERT INTO summeval_val_data (prompt, completion) VALUES (%s, %s)\"\n",
    "for row in preprocessed_val_data:\n",
    "    cur.execute(insert_sql_val, (row['prompt'], row['completion']))\n",
    "    \n",
    "# Commit the transaction\n",
    "conn.commit()\n",
    "\n",
    "# Close the cursor and connection\n",
    "cur.close()\n",
    "conn.close()\n"
   ]
  },
  {
   "cell_type": "markdown",
   "metadata": {},
   "source": [
    "# Kick off Cortex FineTune Job in your Snowflake account to fine-tune `Mixtral-8x7b` (as a feedback function provider)"
   ]
  },
  {
   "cell_type": "code",
   "execution_count": null,
   "metadata": {},
   "outputs": [],
   "source": [
    "import snowflake.connector\n",
    "\n",
    "# Connect to Snowflake\n",
    "conn = snowflake.connector.connect(\n",
    "    user=os.environ[\"SNOWFLAKE_USER\"],\n",
    "    password=os.environ[\"SNOWFLAKE_USER_PASSWORD\"],\n",
    "    account=os.environ[\"SNOWFLAKE_ACCOUNT\"],\n",
    ")\n",
    "\n",
    "# Create a cursor object\n",
    "cur = conn.cursor()\n",
    "\n",
    "cur.execute(\"USE DATABASE DHUANG_LLM\")\n",
    "\n",
    "finetune_sql = \"\"\"\n",
    "\n",
    "SELECT SNOWFLAKE.CORTEX.FINETUNE(\n",
    "  'CREATE',\n",
    "  'ft_mixtral_8x7b_06152024',\n",
    "  'mixtral-8x7b',\n",
    "  'SELECT prompt, completion FROM summeval_train_data',\n",
    "  'SELECT prompt, completion FROM summeval_val_data'\n",
    ");\n",
    "\"\"\"\n",
    "\n",
    "cur.execute(finetune_sql)\n",
    "\n",
    "\n",
    "# Commit the transaction\n",
    "conn.commit()\n",
    "\n",
    "# Close the cursor and connection\n",
    "cur.close()\n",
    "conn.close()"
   ]
  },
  {
   "cell_type": "markdown",
   "metadata": {},
   "source": [
    "# Evaluate the base models to establish baseline performance"
   ]
  },
  {
   "cell_type": "code",
   "execution_count": 9,
   "metadata": {},
   "outputs": [
    {
     "data": {
      "text/plain": [
       "[{'query': '(CNN)Donald Sterling\\'s racist remarks cost him an NBA team last year. But now it\\'s his former female companion who has lost big. A Los Angeles judge has ordered V. Stiviano to pay back more than $2.6 million in gifts after Sterling\\'s wife sued her. In the lawsuit, Rochelle \"Shelly\" Sterling accused Stiviano of targeting extremely wealthy older men. She claimed Donald Sterling used the couple\\'s money to buy Stiviano a Ferrari, two Bentleys and a Range Rover, and that he helped her get a $1.8 million duplex. Who is V. Stiviano? Stiviano countered that there was nothing wrong with Donald Sterling giving her gifts and that she never took advantage of the former Los Angeles Clippers owner, who made much of his fortune in real estate. Shelly Sterling was thrilled with the court decision Tuesday, her lawyer told CNN affiliate KABC. \"This is a victory for the Sterling family in recovering the $2,630,000 that Donald lavished on a conniving mistress,\" attorney Pierce O\\'Donnell said in a statement. \"It also sets a precedent that the injured spouse can recover damages from the recipient of these ill-begotten gifts.\" Stiviano\\'s gifts from Donald Sterling didn\\'t just include uber-expensive items like luxury cars. According to the Los Angeles Times, the list also includes a $391 Easter bunny costume, a $299 two-speed blender and a $12 lace thong. Donald Sterling\\'s downfall came after an audio recording surfaced of the octogenarian arguing with Stiviano. In the tape, Sterling chastises Stiviano for posting pictures on social media of her posing with African-Americans, including basketball legend Magic Johnson. \"In your lousy f**ing Instagrams, you don\\'t have to have yourself with -- walking with black people,\" Sterling said in the audio first posted by TMZ. He also tells Stiviano not to bring Johnson to Clippers games and not to post photos with the Hall of Famer so Sterling\\'s friends can see. \"Admire him, bring him here, feed him, f**k him, but don\\'t put (Magic) on an Instagram for the world to have to see so they have to call me,\" Sterling said. NBA Commissioner Adam Silver banned Sterling from the league, fined him $2.5 million and pushed through a charge to terminate all of his ownership rights in the franchise. Fact check: Donald Sterling\\'s claims vs. reality CNN\\'s Dottie Evans contributed to this report.',\n",
       "  'response': \"donald sterling , nba team last year . sterling 's wife sued for $ 2.6 million in gifts . sterling says he is the former female companion who has lost the . sterling has ordered v. stiviano to pay back $ 2.6 m in gifts after his wife sued . sterling also includes a $ 391 easter bunny costume , $ 299 and a $ 299 .\",\n",
       "  'expected_score': 0.0,\n",
       "  'human_score': 1.0},\n",
       " {'query': '(CNN)Donald Sterling\\'s racist remarks cost him an NBA team last year. But now it\\'s his former female companion who has lost big. A Los Angeles judge has ordered V. Stiviano to pay back more than $2.6 million in gifts after Sterling\\'s wife sued her. In the lawsuit, Rochelle \"Shelly\" Sterling accused Stiviano of targeting extremely wealthy older men. She claimed Donald Sterling used the couple\\'s money to buy Stiviano a Ferrari, two Bentleys and a Range Rover, and that he helped her get a $1.8 million duplex. Who is V. Stiviano? Stiviano countered that there was nothing wrong with Donald Sterling giving her gifts and that she never took advantage of the former Los Angeles Clippers owner, who made much of his fortune in real estate. Shelly Sterling was thrilled with the court decision Tuesday, her lawyer told CNN affiliate KABC. \"This is a victory for the Sterling family in recovering the $2,630,000 that Donald lavished on a conniving mistress,\" attorney Pierce O\\'Donnell said in a statement. \"It also sets a precedent that the injured spouse can recover damages from the recipient of these ill-begotten gifts.\" Stiviano\\'s gifts from Donald Sterling didn\\'t just include uber-expensive items like luxury cars. According to the Los Angeles Times, the list also includes a $391 Easter bunny costume, a $299 two-speed blender and a $12 lace thong. Donald Sterling\\'s downfall came after an audio recording surfaced of the octogenarian arguing with Stiviano. In the tape, Sterling chastises Stiviano for posting pictures on social media of her posing with African-Americans, including basketball legend Magic Johnson. \"In your lousy f**ing Instagrams, you don\\'t have to have yourself with -- walking with black people,\" Sterling said in the audio first posted by TMZ. He also tells Stiviano not to bring Johnson to Clippers games and not to post photos with the Hall of Famer so Sterling\\'s friends can see. \"Admire him, bring him here, feed him, f**k him, but don\\'t put (Magic) on an Instagram for the world to have to see so they have to call me,\" Sterling said. NBA Commissioner Adam Silver banned Sterling from the league, fined him $2.5 million and pushed through a charge to terminate all of his ownership rights in the franchise. Fact check: Donald Sterling\\'s claims vs. reality CNN\\'s Dottie Evans contributed to this report.',\n",
       "  'response': \"donald sterling accused stiviano of targeting extremely wealthy older men . she claimed donald sterling used the couple 's money to buy stiviano a ferrari , two bentleys and a range rover . stiviano countered that there was nothing wrong with donald sterling giving her gifts .\",\n",
       "  'expected_score': 0.33,\n",
       "  'human_score': 2.3333333333333335},\n",
       " {'query': '(CNN)Donald Sterling\\'s racist remarks cost him an NBA team last year. But now it\\'s his former female companion who has lost big. A Los Angeles judge has ordered V. Stiviano to pay back more than $2.6 million in gifts after Sterling\\'s wife sued her. In the lawsuit, Rochelle \"Shelly\" Sterling accused Stiviano of targeting extremely wealthy older men. She claimed Donald Sterling used the couple\\'s money to buy Stiviano a Ferrari, two Bentleys and a Range Rover, and that he helped her get a $1.8 million duplex. Who is V. Stiviano? Stiviano countered that there was nothing wrong with Donald Sterling giving her gifts and that she never took advantage of the former Los Angeles Clippers owner, who made much of his fortune in real estate. Shelly Sterling was thrilled with the court decision Tuesday, her lawyer told CNN affiliate KABC. \"This is a victory for the Sterling family in recovering the $2,630,000 that Donald lavished on a conniving mistress,\" attorney Pierce O\\'Donnell said in a statement. \"It also sets a precedent that the injured spouse can recover damages from the recipient of these ill-begotten gifts.\" Stiviano\\'s gifts from Donald Sterling didn\\'t just include uber-expensive items like luxury cars. According to the Los Angeles Times, the list also includes a $391 Easter bunny costume, a $299 two-speed blender and a $12 lace thong. Donald Sterling\\'s downfall came after an audio recording surfaced of the octogenarian arguing with Stiviano. In the tape, Sterling chastises Stiviano for posting pictures on social media of her posing with African-Americans, including basketball legend Magic Johnson. \"In your lousy f**ing Instagrams, you don\\'t have to have yourself with -- walking with black people,\" Sterling said in the audio first posted by TMZ. He also tells Stiviano not to bring Johnson to Clippers games and not to post photos with the Hall of Famer so Sterling\\'s friends can see. \"Admire him, bring him here, feed him, f**k him, but don\\'t put (Magic) on an Instagram for the world to have to see so they have to call me,\" Sterling said. NBA Commissioner Adam Silver banned Sterling from the league, fined him $2.5 million and pushed through a charge to terminate all of his ownership rights in the franchise. Fact check: Donald Sterling\\'s claims vs. reality CNN\\'s Dottie Evans contributed to this report.',\n",
       "  'response': \"a los angeles judge has ordered v. stiviano to pay back more than $ 2.6 million in gifts after sterling 's wife sued her . -lrb- cnn -rrb- donald sterling 's racist remarks cost him an nba team last year . but now it 's his former female companion who has lost big . who is v. stiviano ? .\",\n",
       "  'expected_score': 0.92,\n",
       "  'human_score': 4.666666666666667}]"
      ]
     },
     "execution_count": 9,
     "metadata": {},
     "output_type": "execute_result"
    }
   ],
   "source": [
    "test_split[:3]"
   ]
  },
  {
   "cell_type": "code",
   "execution_count": 10,
   "metadata": {},
   "outputs": [],
   "source": [
    "from trulens_eval import Feedback\n",
    "from trulens_eval.feedback.provider import Cortex\n",
    "from trulens_eval import TruBasicApp, Feedback, Tru, Select\n",
    "\n",
    "from trulens_eval.feedback import GroundTruthAgreement\n",
    "\n",
    "tru = Tru()\n",
    "tru.reset_database()"
   ]
  },
  {
   "cell_type": "code",
   "execution_count": null,
   "metadata": {},
   "outputs": [],
   "source": [
    "\n",
    "\n",
    "cortex_provider_mixtral = Cortex(model_engine=\"mixtral-8x7b\")\n",
    "\n",
    "f_groundedness_mixtral = Feedback(cortex_provider_mixtral.groundedness_measure_with_cot_reasons, name='groundedness Mixtral')\n",
    "\n",
    "def wrapped_groundedness_mixtral(input, output) -> float:\n",
    "    score = f_groundedness_mixtral(input, output)[0]   \n",
    "    return score\n",
    "ground_truth = GroundTruthAgreement(test_split)\n",
    "# Call the numeric_difference method with app and record and aggregate to get the mean absolute error\n",
    "f_mae = Feedback(ground_truth.mae, name = \"Mean Absolute Error\").on(Select.Record.calls[0].args.args[0]).on(Select.Record.calls[0].args.args[1]).on_output()\n",
    "\n",
    "\n",
    "tru_wrapped_groundedness_mixtral = TruBasicApp(wrapped_groundedness_mixtral, app_id = \"groundedness Mixtral-8x7b baseline\", feedbacks=[f_mae])\n",
    "\n",
    "for i in range(len(test_split)):\n",
    "    source = test_split[i][\"query\"]\n",
    "    response = test_split[i][\"response\"]\n",
    "   \n",
    "    with tru_wrapped_groundedness_mixtral as recording:\n",
    "        try:\n",
    "            tru_wrapped_groundedness_mixtral.app(source, response)\n",
    "        except Exception as e:\n",
    "            print(e)"
   ]
  },
  {
   "cell_type": "code",
   "execution_count": null,
   "metadata": {},
   "outputs": [],
   "source": [
    "\n",
    "\n",
    "cortex_provider_mistral_7b = Cortex(model_engine=\"mistral-7b\")\n",
    "\n",
    "f_groundedness_mistral_7b = Feedback(cortex_provider_mistral_7b.groundedness_measure_with_cot_reasons, name='groundedness Mistral-7b')\n",
    "\n",
    "def wrapped_groundedness_mistral_7b(input, output) -> float:\n",
    "    score = f_groundedness_mistral_7b(input, output)[0]   \n",
    "    return score\n",
    "ground_truth = GroundTruthAgreement(test_split)\n",
    "# Call the numeric_difference method with app and record and aggregate to get the mean absolute error\n",
    "f_mae = Feedback(ground_truth.mae, name = \"Mean Absolute Error\").on(Select.Record.calls[0].args.args[0]).on(Select.Record.calls[0].args.args[1]).on_output()\n",
    "\n",
    "\n",
    "tru_wrapped_groundedness_mistral_7b = TruBasicApp(wrapped_groundedness_mistral_7b, app_id = \"groundedness Mistral-7b baseline\", feedbacks=[f_mae])\n",
    "\n",
    "for i in range(len(test_split)):\n",
    "    source = test_split[i][\"query\"]\n",
    "    response = test_split[i][\"response\"]\n",
    "   \n",
    "    with tru_wrapped_groundedness_mistral_7b as recording:\n",
    "        try:\n",
    "            tru_wrapped_groundedness_mistral_7b.app(source, response)\n",
    "        except Exception as e:\n",
    "            print(e)"
   ]
  },
  {
   "cell_type": "markdown",
   "metadata": {},
   "source": [
    "# Finetune `Mistral 7b`, in additional to `Mixtral-8x7b` for side-by-side comparison"
   ]
  },
  {
   "cell_type": "code",
   "execution_count": 22,
   "metadata": {},
   "outputs": [],
   "source": [
    "import snowflake.connector\n",
    "\n",
    "# Connect to Snowflake\n",
    "conn = snowflake.connector.connect(\n",
    "    user=os.environ[\"SNOWFLAKE_USER\"],\n",
    "    password=os.environ[\"SNOWFLAKE_USER_PASSWORD\"],\n",
    "    account=os.environ[\"SNOWFLAKE_ACCOUNT\"],\n",
    ")\n",
    "\n",
    "# Create a cursor object\n",
    "cur = conn.cursor()\n",
    "\n",
    "cur.execute(\"USE DATABASE DHUANG_LLM\")\n",
    "\n",
    "finetune_sql = \"\"\"\n",
    "SELECT SNOWFLAKE.CORTEX.FINETUNE(\n",
    "  'CREATE',\n",
    "  'ft_mistral_7b_06182024',\n",
    "  'mistral-7b',\n",
    "  'SELECT prompt, completion FROM summeval_train_data',\n",
    "  'SELECT prompt, completion FROM summeval_val_data'\n",
    ");\n",
    "\"\"\"\n",
    "\n",
    "cur.execute(finetune_sql)\n",
    "\n",
    "\n",
    "# Commit the transaction\n",
    "conn.commit()\n",
    "\n",
    "# Close the cursor and connection\n",
    "cur.close()\n",
    "conn.close()"
   ]
  },
  {
   "cell_type": "code",
   "execution_count": 11,
   "metadata": {},
   "outputs": [
    {
     "name": "stdout",
     "output_type": "stream",
     "text": [
      "✅ In Mean Absolute Error, input prompt will be set to __record__.calls[0].args.args[0] .\n",
      "✅ In Mean Absolute Error, input response will be set to __record__.calls[0].args.args[1] .\n",
      "✅ In Mean Absolute Error, input score will be set to __record__.main_output or `Select.RecordOutput` .\n"
     ]
    }
   ],
   "source": [
    "ground_truth = GroundTruthAgreement(test_split)\n",
    "# Call the numeric_difference method with app and record and aggregate to get the mean absolute error\n",
    "f_mae = Feedback(ground_truth.mae, name = \"Mean Absolute Error\").on(Select.Record.calls[0].args.args[0]).on(Select.Record.calls[0].args.args[1]).on_output()\n"
   ]
  },
  {
   "cell_type": "markdown",
   "metadata": {},
   "source": [
    "# Evaluate Groundedness performance after finetuning for both `Mixtral-8x7b` and `Mistral-7b`"
   ]
  },
  {
   "cell_type": "code",
   "execution_count": null,
   "metadata": {},
   "outputs": [],
   "source": [
    "cortex_provider_mixtral_ft = Cortex(model_engine=\"ft_mixtral_8x7b_06152024\")\n",
    "\n",
    "f_groundedness_mixtral_ft = Feedback(cortex_provider_mixtral_ft.groundedness_measure_with_cot_reasons, name='groundedness Mixtral finetuned')\n",
    "\n",
    "def wrapped_groundedness_mixtral_finetuned(input, output) -> float:\n",
    "    score = f_groundedness_mixtral_ft(input, output)[0]   \n",
    "    return score\n",
    "\n",
    "\n",
    "\n",
    "tru_wrapped_groundedness_mixtral_ft = TruBasicApp(wrapped_groundedness_mixtral_finetuned, app_id = \"groundedness Mixtral-8x7b finetuned\", feedbacks=[f_mae])\n",
    "\n",
    "for i in range(len(test_split)):\n",
    "    source = test_split[i][\"query\"]\n",
    "    response = test_split[i][\"response\"]\n",
    "   \n",
    "    with tru_wrapped_groundedness_mixtral_ft as recording:\n",
    "        try:\n",
    "            tru_wrapped_groundedness_mixtral_ft.app(source, response)\n",
    "        except Exception as e:\n",
    "            print(e)"
   ]
  },
  {
   "cell_type": "code",
   "execution_count": null,
   "metadata": {},
   "outputs": [],
   "source": [
    "cortex_provider_mistral_7b_ft = Cortex(model_engine=\"ft_mistral_7b_06182024\")\n",
    "\n",
    "f_groundedness_mistral_7b = Feedback(cortex_provider_mistral_7b_ft.groundedness_measure_with_cot_reasons, name='groundedness Mistral-7b finetuned')\n",
    "\n",
    "def wrapped_groundedness_mistral_7b_finetuned(input, output) -> float:\n",
    "    score = f_groundedness_mistral_7b(input, output)[0]   \n",
    "    return score\n",
    "\n",
    "\n",
    "\n",
    "tru_wrapped_groundedness_mistral_7b_ft = TruBasicApp(wrapped_groundedness_mistral_7b_finetuned, app_id = \"groundedness Mistral-7b finetuned\", feedbacks=[f_mae])\n",
    "\n",
    "for i in range(len(test_split)):\n",
    "    source = test_split[i][\"query\"]\n",
    "    response = test_split[i][\"response\"]\n",
    "   \n",
    "    with tru_wrapped_groundedness_mistral_7b_ft as recording:\n",
    "        try:\n",
    "            tru_wrapped_groundedness_mistral_7b_ft.app(source, response)\n",
    "        except Exception as e:\n",
    "            print(e)"
   ]
  },
  {
   "cell_type": "code",
   "execution_count": 24,
   "metadata": {},
   "outputs": [
    {
     "data": {
      "text/html": [
       "<div>\n",
       "<style scoped>\n",
       "    .dataframe tbody tr th:only-of-type {\n",
       "        vertical-align: middle;\n",
       "    }\n",
       "\n",
       "    .dataframe tbody tr th {\n",
       "        vertical-align: top;\n",
       "    }\n",
       "\n",
       "    .dataframe thead th {\n",
       "        text-align: right;\n",
       "    }\n",
       "</style>\n",
       "<table border=\"1\" class=\"dataframe\">\n",
       "  <thead>\n",
       "    <tr style=\"text-align: right;\">\n",
       "      <th></th>\n",
       "      <th>Mean Absolute Error</th>\n",
       "      <th>latency</th>\n",
       "      <th>total_cost</th>\n",
       "    </tr>\n",
       "    <tr>\n",
       "      <th>app_id</th>\n",
       "      <th></th>\n",
       "      <th></th>\n",
       "      <th></th>\n",
       "    </tr>\n",
       "  </thead>\n",
       "  <tbody>\n",
       "    <tr>\n",
       "      <th>groundedness Mistral-7b finetuned</th>\n",
       "      <td>0.205348</td>\n",
       "      <td>17.739040</td>\n",
       "      <td>0.0</td>\n",
       "    </tr>\n",
       "    <tr>\n",
       "      <th>groundedness Mistral-7b baseline</th>\n",
       "      <td>0.115529</td>\n",
       "      <td>17.752033</td>\n",
       "      <td>0.0</td>\n",
       "    </tr>\n",
       "    <tr>\n",
       "      <th>groundedness Mixtral-8x7b baseline</th>\n",
       "      <td>0.090823</td>\n",
       "      <td>17.756250</td>\n",
       "      <td>0.0</td>\n",
       "    </tr>\n",
       "    <tr>\n",
       "      <th>groundedness Mixtral-8x7b finetuned</th>\n",
       "      <td>0.079025</td>\n",
       "      <td>17.770661</td>\n",
       "      <td>0.0</td>\n",
       "    </tr>\n",
       "  </tbody>\n",
       "</table>\n",
       "</div>"
      ],
      "text/plain": [
       "                                     Mean Absolute Error    latency  \\\n",
       "app_id                                                                \n",
       "groundedness Mistral-7b finetuned               0.205348  17.739040   \n",
       "groundedness Mistral-7b baseline                0.115529  17.752033   \n",
       "groundedness Mixtral-8x7b baseline              0.090823  17.756250   \n",
       "groundedness Mixtral-8x7b finetuned             0.079025  17.770661   \n",
       "\n",
       "                                     total_cost  \n",
       "app_id                                           \n",
       "groundedness Mistral-7b finetuned           0.0  \n",
       "groundedness Mistral-7b baseline            0.0  \n",
       "groundedness Mixtral-8x7b baseline          0.0  \n",
       "groundedness Mixtral-8x7b finetuned         0.0  "
      ]
     },
     "execution_count": 24,
     "metadata": {},
     "output_type": "execute_result"
    }
   ],
   "source": [
    "tru.get_leaderboard(app_ids=[])"
   ]
  },
  {
   "cell_type": "markdown",
   "metadata": {},
   "source": [
    "### Preliminary analysis:\n",
    "\n",
    "\n",
    "We observe a slight improvements over baseline with Mixtral-8x7b model as our feedback provider. \n",
    "\n",
    "Notice in the Mistral-7b case, finetuning on a limited set of training data (800 input-output pairs) actually results in worse performance. This could be attributed to the model overfitting the train set and thus failing to generalize well on the test set. \n",
    "\n",
    "In another test run (not shown in this notebook), we also see potentially under-training on Llama3-8B, as the train loss recorded was about 20x of the loss values we got here for Mixtral-7b.\n",
    "\n",
    "Both of the above scenarios are expected with the current beta (private preview) version of Cortex Fine-Tuning API, and we believe better results can be achieved in the near releases.  \n",
    "\n"
   ]
  },
  {
   "cell_type": "markdown",
   "metadata": {},
   "source": [
    "### Sanity check: some Statistical Exploration of the SummEval dataset"
   ]
  },
  {
   "cell_type": "code",
   "execution_count": 70,
   "metadata": {},
   "outputs": [
    {
     "name": "stdout",
     "output_type": "stream",
     "text": [
      "2300.6666666666665\n",
      "1430.0\n",
      "3725.9999999999986\n",
      "4.657499999999998 4.601333333333333 4.766666666666667\n"
     ]
    }
   ],
   "source": [
    "avg_score_test, avg_score_val, avg_score_train = 0, 0, 0\n",
    "test_human_scores, val_human_scores, train_human_scores = [], [], []\n",
    "for row in test_split:\n",
    "    avg_score_test += row['human_score']\n",
    "    test_human_scores.append(row['human_score'])\n",
    "print(avg_score_test)\n",
    "avg_score_test = avg_score_test / len(test_split)\n",
    "\n",
    "for row in val_split:\n",
    "    avg_score_val += row['human_score']\n",
    "    val_human_scores.append(row['human_score'])\n",
    "\n",
    "print(avg_score_val)\n",
    "\n",
    "avg_score_val = avg_score_val / len(val_split)\n",
    "\n",
    "for row in train_split:\n",
    "    avg_score_train += row['human_score']\n",
    "    train_human_scores.append(row['human_score'])\n",
    "\n",
    "print(avg_score_train)\n",
    "avg_score_train = avg_score_train / len(train_split)\n",
    "\n",
    "\n",
    "print(avg_score_train, avg_score_test, avg_score_val)"
   ]
  },
  {
   "cell_type": "code",
   "execution_count": 71,
   "metadata": {},
   "outputs": [
    {
     "data": {
      "image/png": "[encoded data removed]",
      "text/plain": [
       "<Figure size 1200x600 with 1 Axes>"
      ]
     },
     "metadata": {},
     "output_type": "display_data"
    }
   ],
   "source": [
    "import matplotlib.pyplot as plt\n",
    "\n",
    "\n",
    "\n",
    "plt.figure(figsize=(12, 6))\n",
    "\n",
    "plt.hist(train_human_scores, bins=5, alpha=0.5, label='Train', color='b')\n",
    "plt.hist(val_human_scores, bins=5, alpha=0.5, label='Validation', color='g')\n",
    "plt.hist(test_human_scores, bins=5, alpha=0.5, label='Test', color='r')\n",
    "\n",
    "plt.xlabel('Scores')\n",
    "plt.ylabel('Frequency')\n",
    "plt.title('Distribution of Human Scores')\n",
    "plt.legend(loc='upper right')\n",
    "plt.grid(True)\n",
    "plt.show()\n"
   ]
  },
  {
   "cell_type": "code",
   "execution_count": 73,
   "metadata": {},
   "outputs": [
    {
     "data": {
      "image/png": "[encoded data removed]",
      "text/plain": [
       "<Figure size 1200x600 with 1 Axes>"
      ]
     },
     "metadata": {},
     "output_type": "display_data"
    }
   ],
   "source": [
    "import matplotlib.pyplot as plt\n",
    "import numpy as np\n",
    "\n",
    "# Sample data\n",
    "train_human_scores = [1, 2, 3, 4, 5, 4, 3, 2, 1, 5, 5, 5]\n",
    "val_human_scores = [2, 3, 4, 2, 3, 4, 5, 1, 1, 2]\n",
    "test_human_scores = [3, 4, 5, 3, 2, 1, 4, 5, 5, 4]\n",
    "\n",
    "# Data for boxplot\n",
    "data = [train_human_scores, val_human_scores, test_human_scores]\n",
    "labels = ['Train', 'Validation', 'Test']\n",
    "\n",
    "plt.figure(figsize=(12, 6))\n",
    "\n",
    "# Create boxplot\n",
    "box = plt.boxplot(data, labels=labels, patch_artist=True, showmeans=True, notch=True)\n",
    "\n",
    "# Customize boxplot\n",
    "colors = ['skyblue', 'lightgreen', 'lightcoral']\n",
    "for patch, color in zip(box['boxes'], colors):\n",
    "    patch.set_facecolor(color)\n",
    "\n",
    "# Add grid\n",
    "plt.grid(True, linestyle='--', alpha=0.7)\n",
    "\n",
    "# Add jittered points for better visualization of distributions\n",
    "for i in range(len(data)):\n",
    "    y = data[i]\n",
    "    x = np.random.normal(i + 1, 0.04, size=len(y))\n",
    "    plt.plot(x, y, 'r.', alpha=0.6)\n",
    "\n",
    "# Axis labels and title\n",
    "plt.xlabel('Dataset')\n",
    "plt.ylabel('Scores')\n",
    "plt.title('Box Plot of Human Scores (1 to 5)')\n",
    "\n",
    "# Display the plot\n",
    "plt.show()\n"
   ]
  },
  {
   "cell_type": "code",
   "execution_count": null,
   "metadata": {},
   "outputs": [],
   "source": []
  }
 ],
 "metadata": {
  "kernelspec": {
   "display_name": "trulens",
   "language": "python",
   "name": "python3"
  },
  "language_info": {
   "codemirror_mode": {
    "name": "ipython",
    "version": 3
   },
   "file_extension": ".py",
   "mimetype": "text/x-python",
   "name": "python",
   "nbconvert_exporter": "python",
   "pygments_lexer": "ipython3",
   "version": "3.11.9"
  }
 },
 "nbformat": 4,
 "nbformat_minor": 2
}
