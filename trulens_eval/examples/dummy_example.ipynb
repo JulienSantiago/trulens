{
 "cells": [
  {
   "cell_type": "markdown",
   "metadata": {},
   "source": [
    "# Dummy Example\n",
    "\n",
    "This notebook shows the use of the dummy feedback function provider which\n",
    "behaves like the huggingface provider except it does not actually perform any\n",
    "network calls and just produces constant results. It can be used to prototype\n",
    "feedback function wiring for your apps before invoking potentially slow (to\n",
    "run/to load) feedback functions."
   ]
  },
  {
   "cell_type": "code",
   "execution_count": 1,
   "metadata": {},
   "outputs": [],
   "source": [
    "%load_ext autoreload\n",
    "%autoreload 2\n",
    "from pathlib import Path\n",
    "import sys\n",
    "\n",
    "# If running from github repo, can use this:\n",
    "sys.path.append(str(Path().cwd().parent.resolve()))"
   ]
  },
  {
   "cell_type": "code",
   "execution_count": 2,
   "metadata": {},
   "outputs": [
    {
     "name": "stdout",
     "output_type": "stream",
     "text": [
      "🦑 Tru initialized with db url sqlite:///default.sqlite .\n",
      "🛑 Secret keys may be written to the database. See the `database_redact_keys` option of `Tru` to prevent this.\n",
      "Deleted 10 rows.\n",
      "Force stopping dashboard ...\n",
      "killing psutil.Process(pid=97214, name='python3.8', status='running', started='11:36:46')\n",
      "Starting dashboard ...\n"
     ]
    },
    {
     "data": {
      "application/vnd.jupyter.widget-view+json": {
       "model_id": "792068ad9f2a49e8b726d83a462212ab",
       "version_major": 2,
       "version_minor": 0
      },
      "text/plain": [
       "Accordion(children=(VBox(children=(VBox(children=(Label(value='STDOUT'), Output())), VBox(children=(Label(valu…"
      ]
     },
     "metadata": {},
     "output_type": "display_data"
    },
    {
     "name": "stdout",
     "output_type": "stream",
     "text": [
      "Dashboard started at http://192.168.86.103:8501 .\n"
     ]
    },
    {
     "data": {
      "text/plain": [
       "<subprocess.Popen at 0x144949970>"
      ]
     },
     "execution_count": 2,
     "metadata": {},
     "output_type": "execute_result"
    }
   ],
   "source": [
    "import threading\n",
    "\n",
    "from examples.frameworks.custom.custom_app import CustomApp\n",
    "\n",
    "from trulens_eval import Feedback\n",
    "from trulens_eval import FeedbackMode\n",
    "from trulens_eval import Tru\n",
    "from trulens_eval.feedback.provider.hugs import Dummy\n",
    "from trulens_eval.feedback.provider.hugs import Huggingface\n",
    "from trulens_eval.tru_custom_app import TruCustomApp\n",
    "from trulens_eval.utils.threading import TP\n",
    "\n",
    "tru = Tru()\n",
    "\n",
    "tru.reset_database()\n",
    "\n",
    "tru.start_dashboard(\n",
    "    force = True,\n",
    "    _dev=Path().cwd().parent.resolve()\n",
    ")"
   ]
  },
  {
   "cell_type": "code",
   "execution_count": 3,
   "metadata": {},
   "outputs": [
    {
     "name": "stdout",
     "output_type": "stream",
     "text": [
      "✅ In positive_sentiment, input text will be set to *.__record__.main_output or `Select.RecordOutput` .\n"
     ]
    }
   ],
   "source": [
    "# hugs = Huggingface()\n",
    "hugs = Dummy()\n",
    "\n",
    "f_positive_sentiment = Feedback(hugs.positive_sentiment).on_output()"
   ]
  },
  {
   "cell_type": "code",
   "execution_count": 4,
   "metadata": {},
   "outputs": [],
   "source": [
    "# Create custom app:\n",
    "ca = CustomApp()\n",
    "\n",
    "# Create trulens wrapper:\n",
    "ta = TruCustomApp(\n",
    "    ca,\n",
    "    app_id=\"customapp\",\n",
    "    # feedback_mode=FeedbackMode.WITH_APP\n",
    "    feedbacks=[f_positive_sentiment]\n",
    ")"
   ]
  },
  {
   "cell_type": "code",
   "execution_count": 5,
   "metadata": {},
   "outputs": [
    {
     "data": {
      "text/plain": [
       "'\\nwith ta:\\n    for i, q in enumerate([\"hello there\"] * 100):\\n        print(f\"\\rrequest {i} \", end=\"\")\\n        print(f\"thread count={threading.active_count()}, promises={TP().promises.qsize()}\", end=\"\")\\n\\n        res = ca.respond_to_query(input=q)\\n'"
      ]
     },
     "execution_count": 5,
     "metadata": {},
     "output_type": "execute_result"
    }
   ],
   "source": [
    "# Test of a sequence of records:\n",
    "\"\"\"\n",
    "with ta:\n",
    "    for i, q in enumerate([\"hello there\"] * 100):\n",
    "        print(f\"\\rrequest {i} \", end=\"\")\n",
    "        print(f\"thread count={threading.active_count()}, promises={TP().promises.qsize()}\", end=\"\")\n",
    "\n",
    "        res = ca.respond_to_query(input=q)\n",
    "\"\"\""
   ]
  },
  {
   "cell_type": "code",
   "execution_count": 6,
   "metadata": {},
   "outputs": [],
   "source": [
    "from ipywidgets import interact\n",
    "from ipywidgets import widgets\n",
    "from IPython.display import JSON\n",
    "from trulens_eval.utils.serial import JSONPath\n",
    "from typing import Any, Callable\n",
    "from traitlets import Unicode, Bool, validate, TraitError, HasTraits\n",
    "import traitlets\n",
    "from ipywidgets import DOMWidget, register\n",
    "\n",
    "cstyle = dict(border=\"1px solid black\", padding=\"5px\")\n",
    "\n",
    "class Selector(HasTraits):\n",
    "    select = Unicode()\n",
    "    jpath = traitlets.Any()\n",
    "\n",
    "    def __init__(self, select: str, make_on_delete: Callable):\n",
    "        self.select = select\n",
    "        self.jpath = JSONPath.of_string(select)\n",
    "\n",
    "        self.w_edit = widgets.Text(value=select)\n",
    "        self.w_delete = widgets.Button(description=\"x\", layout=dict(width=\"30px\"))\n",
    "\n",
    "        self.on_delete = make_on_delete(self)\n",
    "        self.w_delete.on_click(self.on_delete)\n",
    "\n",
    "        traitlets.link((self.w_edit, \"value\"), (self, \"select\"))\n",
    "\n",
    "        def on_update_select(ev):\n",
    "            jpath = JSONPath.of_string(ev.new)\n",
    "            self.jpath = jpath\n",
    "        self.observe(on_update_select, [\"select\"])\n",
    "\n",
    "        self.w = widgets.HBox([self.w_delete, self.w_edit])\n",
    "\n",
    "    \n",
    "class SelectorValue(HasTraits):\n",
    "    selector = traitlets.Any()\n",
    "    obj = traitlets.Any()\n",
    "\n",
    "    def __init__(self, selector: Selector):\n",
    "        self.selector = selector\n",
    "        self.obj = None\n",
    "\n",
    "        self.w_listing = widgets.HTML()\n",
    "        self.w = widgets.VBox([self.selector.w, self.w_listing])\n",
    "\n",
    "        def update_selector(ev):\n",
    "            v = ev.new\n",
    "            # self.\n",
    "            pass\n",
    "\n",
    "        self.selector.w_edit.observe(update_selector, \"value\")\n",
    "\n",
    "    def set_obj(self, obj):\n",
    "        self.obj = obj\n",
    "\n",
    "        if obj is None:\n",
    "            v = \"no listing yet\"\n",
    "        else:\n",
    "            try:\n",
    "                v = str(next(iter(self.selector.jpath(obj.dict()))))[0:16]\n",
    "            except Exception as e:\n",
    "                v = str(e)\n",
    "\n",
    "        self.w_listing.value = f\"<div>{v}</div>\"\n",
    "\n",
    "\n",
    "class RecordWiget():\n",
    "    def __init__(self, record_selections, record=None, human_or_input=None):\n",
    "        self.record = record\n",
    "        self.record_selections = record_selections\n",
    "        self.record_values = dict()\n",
    "\n",
    "        self.human_or_input = widgets.HBox([human_or_input])\n",
    "        self.w_human = widgets.HBox([widgets.HTML(\"<b>human:</b>\"), self.human_or_input])\n",
    "        self.d_comp = widgets.HTML(layout=cstyle)\n",
    "        self.d_extras = widgets.VBox(layout=cstyle)\n",
    "        self.d = None\n",
    "\n",
    "        self.human = \"\"\n",
    "        self.comp = \"\"\n",
    "\n",
    "        self.draw_main()\n",
    "\n",
    "    def update_selections(self):\n",
    "        for s in self.record_selections:\n",
    "            if s not in self.record_values:\n",
    "                sv = SelectorValue(selector=s)\n",
    "                self.record_values[s] = sv\n",
    "                self.d_extras.children += (sv.w, )\n",
    "\n",
    "            self.record_values[s].set_obj(obj=self.record)\n",
    "\n",
    "    def remove_selector(self, selector: Selector):\n",
    "        item = self.record_values[selector]\n",
    "        del self.record_values[selector]\n",
    "        new_children = list(self.d_extras.children)\n",
    "        new_children.remove(item.w)\n",
    "        self.d_extras.children = tuple(new_children)\n",
    "\n",
    "\n",
    "    def set_human(self, human: str):\n",
    "        self.human = human\n",
    "        self.human_or_input.children = (widgets.HTML(f\"<div>{human}</div>\"), )\n",
    "\n",
    "    def set_comp(self, comp: str):\n",
    "        self.comp = comp\n",
    "        self.d_comp.value = f\"<div><b>computer:</b> {comp}</div>\"\n",
    "\n",
    "    def draw_main(self):\n",
    "        self.d = widgets.VBox([self.w_human, self.d_comp, self.d_extras], layout=cstyle)\n",
    "        "
   ]
  },
  {
   "cell_type": "code",
   "execution_count": 7,
   "metadata": {},
   "outputs": [
    {
     "data": {
      "application/vnd.jupyter.widget-view+json": {
       "model_id": "415c6eb9a7a347d8b392d156a017739b",
       "version_major": 2,
       "version_minor": 0
      },
      "text/plain": [
       "HBox(children=(VBox(children=(Output(layout=Layout(border='1px solid black', padding='5px')), VBox(children=(H…"
      ]
     },
     "metadata": {},
     "output_type": "display_data"
    },
    {
     "name": "stderr",
     "output_type": "stream",
     "text": [
      "Waiting for {'estimated_time': 1.2345} (1.2345) second(s).\n"
     ]
    },
    {
     "name": "stdout",
     "output_type": "stream",
     "text": [
      "delete record selector *.cost\n"
     ]
    }
   ],
   "source": [
    "main_input = widgets.Text(continuous_update=False, layout=cstyle)\n",
    "app_selector = widgets.Text(continuous_update=False, layout=cstyle)\n",
    "record_selector = widgets.Text(continuous_update=False, layout=cstyle)\n",
    "\n",
    "display_top = widgets.Output(layout=cstyle)\n",
    "display_side = widgets.VBox([], layout=cstyle)\n",
    "display_middle = widgets.Output(layout=cstyle)\n",
    "\n",
    "display_records = []\n",
    "\n",
    "app_selections = {}\n",
    "record_selections = []\n",
    "\n",
    "current_record = RecordWiget(record_selections=record_selections, human_or_input=main_input)\n",
    "current_record_record = None\n",
    "\n",
    "records = [current_record]\n",
    "\n",
    "def make_on_delete_record_selector(selector):\n",
    "    def on_delete(ev):\n",
    "        print(\"delete record selector\", str(selector.jpath))\n",
    "\n",
    "        record_selections.remove(selector)\n",
    "\n",
    "        for r in records:\n",
    "            r.remove_selector(selector)\n",
    "\n",
    "    return on_delete\n",
    "\n",
    "def make_on_delete_app_selector(selector):\n",
    "    def on_delete(ev):\n",
    "        print(\"delete app selector\", str(selector.jpath))\n",
    "\n",
    "        sw = app_selections[selector]\n",
    "        del app_selections[selector]\n",
    "\n",
    "        new_children = list(display_side.children)\n",
    "        new_children.remove(sw.w)\n",
    "\n",
    "        display_side.children = tuple(new_children)\n",
    "\n",
    "    return on_delete\n",
    "\n",
    "\n",
    "def update_app_selections():\n",
    "    for s, sw in app_selections.items():\n",
    "        sw.set_obj(ta)\n",
    "\n",
    "\n",
    "def add_app_selection(ev):\n",
    "    s = ev.new\n",
    "\n",
    "    if len(s) == 0:\n",
    "        return\n",
    "\n",
    "    sel = Selector(select=s, make_on_delete=make_on_delete_app_selector)\n",
    "\n",
    "    sw = SelectorValue(selector=sel)\n",
    "    app_selections[sel] = sw\n",
    "    sw.set_obj(ta)\n",
    "\n",
    "    display_side.children += (sw.w, )\n",
    "\n",
    "def add_record_selection(ev):\n",
    "    s = ev.new\n",
    "\n",
    "    if len(s) == 0:\n",
    "        return\n",
    "    \n",
    "    sel = Selector(select=s, make_on_delete=make_on_delete_record_selector)\n",
    "    record_selections.append(sel)\n",
    "\n",
    "    for r in records:\n",
    "        r.update_selections()\n",
    "\n",
    "def runit(ev):\n",
    "    global current_record\n",
    "    global current_record_record\n",
    "\n",
    "    human = ev.new\n",
    "\n",
    "    current_record.set_human(human)\n",
    "\n",
    "    with ta as recording:\n",
    "        comp = ca.respond_to_query(input=human)\n",
    "\n",
    "    current_record.set_comp(comp)\n",
    "    current_record_record = recording.get()\n",
    "    current_record.record = current_record_record\n",
    "    current_record.update_selections()\n",
    "\n",
    "    update_app_selections()\n",
    "\n",
    "    current_record = RecordWiget(record_selections=record_selections, human_or_input=main_input)\n",
    "    records.append(current_record)\n",
    "\n",
    "    update_app_selections()\n",
    "\n",
    "    with display_top:\n",
    "        display(current_record.d)\n",
    "\n",
    "main_input.observe(runit, [\"value\"])\n",
    "app_selector.observe(add_app_selection, [\"value\"])\n",
    "record_selector.observe(add_record_selection, [\"value\"])\n",
    "\n",
    "display_bottom = widgets.VBox([\n",
    "    widgets.HBox([widgets.Label(\"main_input:\", layout=cstyle), main_input], layout=cstyle),\n",
    "    widgets.HBox([widgets.Label(\"app select:\", layout=cstyle), app_selector], layout=cstyle),\n",
    "    widgets.HBox([widgets.Label(\"rec select:\", layout=cstyle), record_selector], layout=cstyle)],\n",
    "    layout=cstyle\n",
    ")\n",
    "\n",
    "display(\n",
    "    widgets.HBox([\n",
    "        widgets.VBox([\n",
    "            display_top,\n",
    "            display_bottom\n",
    "        ], layout=cstyle),\n",
    "        display_middle,\n",
    "        display_side], layout=cstyle)\n",
    "    )\n",
    "\n",
    "with display_top:\n",
    "    display(current_record.d)\n"
   ]
  },
  {
   "cell_type": "code",
   "execution_count": null,
   "metadata": {},
   "outputs": [],
   "source": []
  }
 ],
 "metadata": {
  "kernelspec": {
   "display_name": "py38_trulens",
   "language": "python",
   "name": "python3"
  },
  "language_info": {
   "codemirror_mode": {
    "name": "ipython",
    "version": 3
   },
   "file_extension": ".py",
   "mimetype": "text/x-python",
   "name": "python",
   "nbconvert_exporter": "python",
   "pygments_lexer": "ipython3",
   "version": "3.8.16"
  },
  "orig_nbformat": 4
 },
 "nbformat": 4,
 "nbformat_minor": 2
}
