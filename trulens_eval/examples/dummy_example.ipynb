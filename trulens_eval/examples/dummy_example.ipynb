{
 "cells": [
  {
   "cell_type": "markdown",
   "metadata": {},
   "source": [
    "# Dummy Example\n",
    "\n",
    "This notebook shows the use of the dummy feedback function provider which\n",
    "behaves like the huggingface provider except it does not actually perform any\n",
    "network calls and just produces constant results. It can be used to prototype\n",
    "feedback function wiring for your apps before invoking potentially slow (to\n",
    "run/to load) feedback functions."
   ]
  },
  {
   "cell_type": "code",
   "execution_count": 1,
   "metadata": {},
   "outputs": [],
   "source": [
    "%load_ext autoreload\n",
    "%autoreload 2\n",
    "from pathlib import Path\n",
    "import sys\n",
    "\n",
    "# If running from github repo, can use this:\n",
    "sys.path.append(str(Path().cwd().parent.resolve()))"
   ]
  },
  {
   "cell_type": "code",
   "execution_count": 2,
   "metadata": {},
   "outputs": [
    {
     "name": "stdout",
     "output_type": "stream",
     "text": [
      "🦑 Tru initialized with db url sqlite:///default.sqlite .\n",
      "🛑 Secret keys may be written to the database. See the `database_redact_keys` option of `Tru` to prevent this.\n",
      "Deleted 2 rows.\n",
      "Force stopping dashboard ...\n",
      "Starting dashboard ...\n"
     ]
    },
    {
     "data": {
      "application/vnd.jupyter.widget-view+json": {
       "model_id": "2623a2f7076e44c984371155dac5b8eb",
       "version_major": 2,
       "version_minor": 0
      },
      "text/plain": [
       "Accordion(children=(VBox(children=(VBox(children=(Label(value='STDOUT'), Output())), VBox(children=(Label(valu…"
      ]
     },
     "metadata": {},
     "output_type": "display_data"
    },
    {
     "name": "stdout",
     "output_type": "stream",
     "text": [
      "Dashboard started at http://172.16.101.32:8501 .\n"
     ]
    },
    {
     "data": {
      "text/plain": [
       "<subprocess.Popen at 0x291fd0bb0>"
      ]
     },
     "execution_count": 2,
     "metadata": {},
     "output_type": "execute_result"
    }
   ],
   "source": [
    "import threading\n",
    "\n",
    "from examples.frameworks.custom.custom_app import CustomApp\n",
    "\n",
    "from trulens_eval import Feedback\n",
    "from trulens_eval import FeedbackMode\n",
    "from trulens_eval import Tru\n",
    "from trulens_eval.feedback.provider.hugs import Dummy\n",
    "from trulens_eval.feedback.provider.hugs import Huggingface\n",
    "from trulens_eval.tru_custom_app import TruCustomApp\n",
    "from trulens_eval.utils.threading import TP\n",
    "\n",
    "tru = Tru()\n",
    "\n",
    "tru.reset_database()\n",
    "\n",
    "tru.start_dashboard(\n",
    "    force = True,\n",
    "    _dev=Path().cwd().parent.resolve()\n",
    ")"
   ]
  },
  {
   "cell_type": "code",
   "execution_count": 3,
   "metadata": {},
   "outputs": [
    {
     "name": "stdout",
     "output_type": "stream",
     "text": [
      "✅ In positive_sentiment, input text will be set to *.__record__.main_output or `Select.RecordOutput` .\n"
     ]
    }
   ],
   "source": [
    "# hugs = Huggingface()\n",
    "hugs = Dummy()\n",
    "\n",
    "f_positive_sentiment = Feedback(hugs.positive_sentiment).on_output()"
   ]
  },
  {
   "cell_type": "code",
   "execution_count": 4,
   "metadata": {},
   "outputs": [],
   "source": [
    "# Create custom app:\n",
    "ca = CustomApp()\n",
    "\n",
    "# Create trulens wrapper:\n",
    "ta = TruCustomApp(\n",
    "    ca,\n",
    "    app_id=\"customapp\",\n",
    "    # feedback_mode=FeedbackMode.WITH_APP\n",
    "    feedbacks=[f_positive_sentiment]\n",
    ")"
   ]
  },
  {
   "cell_type": "code",
   "execution_count": 5,
   "metadata": {},
   "outputs": [
    {
     "data": {
      "text/plain": [
       "'\\nwith ta:\\n    for i, q in enumerate([\"hello there\"] * 100):\\n        print(f\"\\rrequest {i} \", end=\"\")\\n        print(f\"thread count={threading.active_count()}, promises={TP().promises.qsize()}\", end=\"\")\\n\\n        res = ca.respond_to_query(input=q)\\n'"
      ]
     },
     "execution_count": 5,
     "metadata": {},
     "output_type": "execute_result"
    }
   ],
   "source": [
    "# Test of a sequence of records:\n",
    "\"\"\"\n",
    "with ta:\n",
    "    for i, q in enumerate([\"hello there\"] * 100):\n",
    "        print(f\"\\rrequest {i} \", end=\"\")\n",
    "        print(f\"thread count={threading.active_count()}, promises={TP().promises.qsize()}\", end=\"\")\n",
    "\n",
    "        res = ca.respond_to_query(input=q)\n",
    "\"\"\""
   ]
  },
  {
   "cell_type": "code",
   "execution_count": 6,
   "metadata": {},
   "outputs": [],
   "source": [
    "from ipywidgets import interact\n",
    "from ipywidgets import widgets\n",
    "from IPython.display import JSON"
   ]
  },
  {
   "cell_type": "code",
   "execution_count": 20,
   "metadata": {},
   "outputs": [
    {
     "data": {
      "application/vnd.jupyter.widget-view+json": {
       "model_id": "220068673d9e4e72b8a7c84674dbe9af",
       "version_major": 2,
       "version_minor": 0
      },
      "text/plain": [
       "HBox(children=(VBox(children=(Output(), HBox(children=(Label(value='main_input'), Output())))), Output(), Outp…"
      ]
     },
     "metadata": {},
     "output_type": "display_data"
    },
    {
     "data": {
      "application/vnd.jupyter.widget-view+json": {
       "model_id": "0910be9e907e498fa43aba5ffb7bc580",
       "version_major": 2,
       "version_minor": 0
      },
      "text/plain": [
       "Output()"
      ]
     },
     "metadata": {},
     "output_type": "display_data"
    },
    {
     "data": {
      "application/vnd.jupyter.widget-view+json": {
       "model_id": "7334e90fde244d28856b16bd438fd0ee",
       "version_major": 2,
       "version_minor": 0
      },
      "text/plain": [
       "Output()"
      ]
     },
     "metadata": {},
     "output_type": "display_data"
    },
    {
     "data": {
      "application/vnd.jupyter.widget-view+json": {
       "model_id": "8d493bff1e064e8697d8cfccb0d490df",
       "version_major": 2,
       "version_minor": 0
      },
      "text/plain": [
       "Output()"
      ]
     },
     "metadata": {},
     "output_type": "display_data"
    }
   ],
   "source": [
    "from trulens_eval.utils.serial import JSONPath\n",
    "\n",
    "\n",
    "main_input = widgets.Text(continuous_update=False)\n",
    "\n",
    "app_selector = widgets.Text(continuous_update=False)\n",
    "record_selector = widgets.Text(continuous_update=False)\n",
    "\n",
    "display_bottom = widgets.Output()\n",
    "display_top = widgets.Output()\n",
    "display_side = widgets.Output()\n",
    "display_middle = widgets.Output()\n",
    "\n",
    "display_records = []\n",
    "\n",
    "with display_bottom:\n",
    "    display(main_input)\n",
    "    display(app_selector)\n",
    "    display(record_selector)\n",
    "\n",
    "#with display_side:   \n",
    "#with display_middle:\n",
    "\n",
    "records = []\n",
    "\n",
    "app_selections = []\n",
    "record_selections = []\n",
    "\n",
    "def update_record(i):\n",
    "    d = display_records[i]\n",
    "    record = records[i]\n",
    "\n",
    "    d.clear_output(wait=True)\n",
    "\n",
    "    with d:\n",
    "        display(\n",
    "            widgets.HTML(f\"<div><b>human:</b> {record.main_input}</div>\")\n",
    "        )\n",
    "\n",
    "    with d:\n",
    "        display(\n",
    "            widgets.HTML(f\"<div><b>computer:</b> {record.main_output}</div>\")\n",
    "        )\n",
    "        # add feedbacks here as they come in\n",
    "\n",
    "    for s in record_selections:\n",
    "        q = JSONPath.of_string(s)\n",
    "        try:\n",
    "            v = str(next(iter(q(record.dict()))))[0:16]\n",
    "        except Exception as e:\n",
    "            v = str(e)\n",
    "\n",
    "        with d:\n",
    "            display(widgets.HTML(f\"<div><b>{q}</b>: {v}</div>\"))\n",
    "\n",
    "def update_record_selections():\n",
    "    for i in range(len(records)):\n",
    "        update_record(i)\n",
    "\n",
    "def update_app_selections():\n",
    "    display_side.clear_output(wait=True)\n",
    "\n",
    "    for s in app_selections:\n",
    "        q = JSONPath.of_string(s)\n",
    "\n",
    "        try:\n",
    "            v = str(next(iter(q(ta.dict()))))[0:16]\n",
    "        except Exception as e:\n",
    "            v = str(e)\n",
    "\n",
    "        with display_side:\n",
    "            display(widgets.HTML(f\"<div><b>{q}</b><br>{v}</div>\"))\n",
    "\n",
    "\n",
    "def add_app_selection(ev):\n",
    "    s = ev.new\n",
    "\n",
    "    if s not in app_selections:\n",
    "        app_selections.append(s)\n",
    "\n",
    "    update_app_selections()\n",
    "\n",
    "def add_record_selection(ev):\n",
    "    s = ev.new\n",
    "\n",
    "    if s not in record_selections:\n",
    "        record_selections.append(s)\n",
    "\n",
    "    update_record_selections()\n",
    "\n",
    "def runit(ev):\n",
    "    human = ev.new\n",
    "\n",
    "    d = widgets.Output()\n",
    "    display_records.append(d)\n",
    "\n",
    "    with display_top:\n",
    "        display(d)\n",
    "\n",
    "    with ta as recording:\n",
    "        comp = ca.respond_to_query(input=human)\n",
    "\n",
    "    records.append(recording.get())\n",
    "    update_record(len(records)-1)\n",
    "\n",
    "    update_app_selections()\n",
    "\n",
    "\n",
    "main_input.observe(runit, [\"value\"])\n",
    "app_selector.observe(add_app_selection, [\"value\"])\n",
    "record_selector.observe(add_record_selection, [\"value\"])\n",
    "\n",
    "\n",
    "display(\n",
    "    widgets.HBox([\n",
    "        widgets.VBox([\n",
    "            display_top,\n",
    "            widgets.HBox([\n",
    "              widgets.Label(\"main_input\"),\n",
    "              display_bottom\n",
    "            ])\n",
    "        ]),\n",
    "        display_middle,\n",
    "        display_side])\n",
    "    )\n"
   ]
  },
  {
   "cell_type": "code",
   "execution_count": null,
   "metadata": {},
   "outputs": [],
   "source": []
  }
 ],
 "metadata": {
  "kernelspec": {
   "display_name": "py38_trulens",
   "language": "python",
   "name": "python3"
  },
  "language_info": {
   "codemirror_mode": {
    "name": "ipython",
    "version": 3
   },
   "file_extension": ".py",
   "mimetype": "text/x-python",
   "name": "python",
   "nbconvert_exporter": "python",
   "pygments_lexer": "ipython3",
   "version": "3.8.16"
  },
  "orig_nbformat": 4
 },
 "nbformat": 4,
 "nbformat_minor": 2
}
