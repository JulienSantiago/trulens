{
 "cells": [
  {
   "attachments": {},
   "cell_type": "markdown",
   "metadata": {},
   "source": [
    "# 📓 _TruLens-Eval_ Internals Overview"
   ]
  },
  {
   "attachments": {},
   "cell_type": "markdown",
   "metadata": {},
   "source": [
    "## Setup"
   ]
  },
  {
   "cell_type": "code",
   "execution_count": 1,
   "metadata": {},
   "outputs": [
    {
     "name": "stdout",
     "output_type": "stream",
     "text": [
      "/Volumes/dev_new/trulens/trulens_eval\n",
      "✅ Key OPENAI_API_KEY set from environment (same value found in .env file at /Volumes/dev_new/.env).\n",
      "✅ Key HUGGINGFACE_API_KEY set from environment (same value found in .env file at /Volumes/dev_new/.env).\n",
      "🦑 Tru initialized with db url sqlite:///default.sqlite .\n",
      "🛑 Secret keys may be written to the database. See the `database_redact_keys` option of Tru` to prevent this.\n"
     ]
    }
   ],
   "source": [
    "# pip uninstall -y trulens_eval\n",
    "# pip install git+https://github.com/truera/trulens@piotrm/azure_bugfixes#subdirectory=trulens_eval\n",
    "\n",
    "%load_ext autoreload\n",
    "%autoreload 2\n",
    "from pathlib import Path\n",
    "import sys\n",
    "\n",
    "base = Path().cwd()\n",
    "while not (base / \"trulens_eval\" / \"trulens_eval\").exists():\n",
    "    base = base.parent\n",
    "\n",
    "if (base / \"trulens_eval\" / \"trulens_eval\").exists():\n",
    "    base = base / \"trulens_eval\"\n",
    "\n",
    "print(base)\n",
    "\n",
    "# If running from github repo, can use this:\n",
    "sys.path.append(str(base))\n",
    "\n",
    "from trulens_eval.keys import check_keys\n",
    "\n",
    "check_keys(\n",
    "    \"OPENAI_API_KEY\",\n",
    "    \"HUGGINGFACE_API_KEY\"\n",
    ")\n",
    "\n",
    "from trulens_eval import Tru\n",
    "tru = Tru()\n",
    "tru.reset_database()\n",
    "# tru.run_dashboard(_dev=base, force=True)"
   ]
  },
  {
   "cell_type": "code",
   "execution_count": 2,
   "metadata": {},
   "outputs": [],
   "source": [
    "from examples.expositional.end2end_apps.custom_app.custom_app import CustomApp\n",
    "from examples.expositional.end2end_apps.custom_app.custom_tool import CustomStackTool\n",
    "\n",
    "from trulens_eval.tru_custom_app import TruCustomApp"
   ]
  },
  {
   "cell_type": "code",
   "execution_count": 3,
   "metadata": {},
   "outputs": [],
   "source": [
    "custom_app = CustomApp()\n",
    "tru_custom_app = TruCustomApp(custom_app)"
   ]
  },
  {
   "cell_type": "code",
   "execution_count": 10,
   "metadata": {},
   "outputs": [
    {
     "data": {
      "text/plain": [
       "'The answer to hello is probably Generating from \"RELEVANT CHUNK: HELLO,<frame at 0x2caa26340, file \\'/Volumes/dev_new/trulens/trulens_eval/examples/expositional/end2end_apps/custom_app/custom_tool.py\\', line 79, code invoke>\\\\n<frame at 0x2c7f42790, file \\'/Volumes/dev_new/trulens/trulens_eval/trulens_eval/instruments.py\\', line 456, code tru_wrapper>\\\\n<frame at 0x2c280c040, file \\'/Volumes/dev_new/trulens/trulens_eval/examples/expositional/end2end_apps/custom_app/custom_app.py\\', line 81, code process_chunk_by_random_tool>\\\\n<frame at 0x2c7f42ea0, file \\'/Volumes/dev_new/trulens/trulens_eval/trulens_eval/instruments.py\\', line 456, code tru_wrapper>\\\\n<frame at 0x2caa3a7a0, file \\'/Volumes/dev_new/trulens/trulens_eval/trulens_eval/utils/python.py\\', line 475, code _future_target_wrapper>\\\\n<frame at 0x2caa3a5c0, file \\'/Volumes/dev_new/trulens/trulens_eval/.conda/py-opt-3.10/lib/python3.10/concurrent/futures/thread.py\\', line 58, code run>\\\\n<frame at 0x2caa40be0, file \\'/Volumes/dev_new/trulens/trulens_eval/.conda/py-opt-3.10/lib/python3.10/concurrent/futures/thread.py\\', line 83, code _worker>\\\\n<frame at 0x2caa3a3e0, file \\'/Volumes/dev_new/trulens/trulens_eval/trulens_eval/utils/python.py\\', line 475, code _future_target_wrapper>\\\\n<frame at 0x2caa26180, file \\'/Volumes/dev_new/trulens/trulens_eval/.conda/py-opt-3.10/lib/python3.10/threading.py\\', line 953, code run>\\\\n<frame at 0x2c2007240, file \\'/Volumes/dev_new/trulens/trulens_eval/.conda/py-opt-3.10/lib/python3.10/site-packages/ipykernel/ipkernel.py\\', line 761, code run_closure>\\\\n<frame at 0x2caa40040, file \\'/Volumes/dev_new/trulens/trulens_eval/.conda/py-opt-3.10/lib/python3.10/threading.py\\', line 1016, code _bootstrap_inner>\\\\n<frame at 0x2caa29630, file \\'/Volumes/dev_new/trulens/trulens_eval/.conda/py-opt-3.10/lib/python3.10/threading.py\\', line 973, code _bootstrap>\\\\n<frame at 0x2caa3a020, file \\'/Volumes/dev_new/trulens/trulens_eval/trulens_eval/utils/threading.py\\', line 78, code submit>\\\\n<frame at 0x2caa25c40, file \\'/Volumes/dev_new/trulens/trulens_eval/examples/expositional/end2end_apps/custom_app/custom_app.py\\', line 99, code <genexpr>>\\\\n<frame at 0x2c22f2f20, file \\'/Volumes/dev_new/trulens/trulens_eval/examples/expositional/end2end_apps/custom_app/custom_app.py\\', line 104, code get_context>\\\\n<frame at 0x2c22f45d0, file \\'/Volumes/dev_new/trulens/trulens_eval/trulens_eval/instruments.py\\', line 456, code tru_wrapper>\\\\n<frame at 0x2c1519660, file \\'/Volumes/dev_new/trulens/trulens_eval/examples/expositional/end2end_apps/custom_app/custom_app.py\\', line 114, code respond_to_query>\\\\n<frame at 0x2c7670880, file \\'/Volumes/dev_new/trulens/trulens_eval/trulens_eval/instruments.py\\', line 456, code tru_wrapper>\\\\n<frame at 0x2c22f1bb0, file \\'/var/folders/2j/xg0_cv993gl37s_8qs5qrdxm0000gn/T/ipykernel_29282/4214098704.py\\', line 2, code <module>>\\\\n<frame at 0x2c151fc40, file \\'/Volumes/dev_new/trulens/trulens_eval/.conda/py-opt-3.10/lib/python3.10/site-packages/IPython/core/interactiveshell.py\\', line 3577, code run_code>\\\\n<frame at 0x2c1d81bb0, file \\'/Volumes/dev_new/trulens/trulens_eval/.conda/py-opt-3.10/lib/python3.10/site-packages/IPython/core/interactiveshell.py\\', line 3517, code run_ast_nodes>\\\\n<frame at 0x2c7f3f920, file \\'/Volumes/dev_new/trulens/trulens_eval/.conda/py-opt-3.10/lib/python3.10/site-packages/IPython/core/interactiveshell.py\\', line 3334, code run_cell_async>\\\\n<frame at 0x2c1d803f0, file \\'/Volumes/dev_new/trulens/trulens_eval/.conda/py-opt-3.10/lib/python3.10/site-packages/IPython/core/async_helpers.py\\', line 129, code _pseudo_sync_runner>\\\\n<frame at 0x2c1d81490, file \\'/Volumes/dev_new/trulens/trulens_eval/.conda/py-opt-3.10/lib/python3.10/site-packages/IPython/core/interactiveshell.py\\', line 3130, code _run_cell>\\\\n<frame at 0x2c1d7ff30, file \\'/Volumes/dev_new/trulens/trulens_eval/.conda/py-opt-3.10/lib/python3.10/site-packages/IPython/core/interactiveshell.py\\', line 3075, code run_cell>\\\\n<frame at 0x2c15175b0, file \\'/Volumes/dev_new/trulens/trulens_eval/.conda/py-opt-3.10/lib/python3.10/site-packages/ipykernel/zmqshell.py\\', line 549, code run_cell>\\\\n<frame at 0x2c7f3f430, file \\'/Volumes/dev_new/trulens/trulens_eval/.conda/py-opt-3.10/lib/python3.10/site-packages/ipykernel/ipkernel.py\\', line 446, code do_execute>\\\\n<frame at 0x2c29c5430, file \\'/Volumes/dev_new/trulens/trulens_eval/.conda/py-opt-3.10/lib/python3.10/site-packages/ipykernel/kernelbase.py\\', line 778, code execute_request>\\\\n<frame at 0x2c1518d70, file \\'/Volumes/dev_new/trulens/trulens_eval/.conda/py-opt-3.10/lib/python3.10/site-packages/ipykernel/ipkernel.py\\', line 359, code execute_request>\\\\n<frame at 0x2c12f9de0, file \\'/Volumes/dev_new/trulens/trulens_eval/.conda/py-opt-3.10/lib/python3.10/site-packages/ipykernel/kernelbase.py\\', line 437, code dispatch_shell>\\\\n<frame at 0x2c20a5970, file \\'/Volumes/dev_new/trulens/trulens_eval/.conda/py-opt-3.10/lib/python3.10/site-packages/ipykernel/kernelbase.py\\', line 534, code process_one>\\\\n<frame at 0x107b24040, file \\'/Volumes/dev_new/trulens/trulens_eval/.conda/py-opt-3.10/lib/python3.10/site-packages/ipykernel/kernelbase.py\\', line 545, code dispatch_queue>\\\\n<frame at 0x2b533d4c0, file \\'/Volumes/dev_new/trulens/trulens_eval/.conda/py-opt-3.10/lib/python3.10/asyncio/events.py\\', line 80, code _run>\\\\n<frame at 0x2c12fb9f0, file \\'/Volumes/dev_new/trulens/trulens_eval/.conda/py-opt-3.10/lib/python3.10/site-packages/nest_asyncio.py\\', line 133, code _run_once>\\\\n<frame at 0x1079ae9f0, file \\'/Volumes/dev_new/trulens/trulens_eval/.conda/py-opt-3.10/lib/python3.10/asyncio/base_events.py\\', line 603, code run_forever>\\\\n<frame at 0x1079a68e0, file \\'/Volumes/dev_new/trulens/trulens_eval/.conda/py-opt-3.10/lib/python3.10/site-packages/tornado/platform/asyncio.py\\', line 205, code start>\\\\n<frame at 0x106fa0800, file \\'/Volumes/dev_new/trulens/trulens_eval/.conda/py-opt-3.10/lib/python3.10/site-packages/ipykernel/kernelapp.py\\', line 739, code start>\\\\n<frame at 0x107e91bc0, file \\'/Volumes/dev_new/trulens/trulens_eval/.conda/py-opt-3.10/lib/python3.10/site-packages/traitlets/config/application.py\\', line 1075, code launch_instance>\\\\n<frame at 0x104715cf0, file \\'/Volumes/dev_new/trulens/trulens_eval/.conda/py-opt-3.10/lib/python3.10/site-packages/ipykernel_launcher.py\\', line 18, code <module>>\\\\n<frame at 0x117e19ff0, file \\'/Volumes/dev_new/trulens/trulens_eval/.conda/py-opt-3.10/lib/python3.10/runpy.py\\', line 86, code _run_code>\\\\n<frame at 0x1046f9a40, file \\'/Volumes/dev_new/trulens/trulens_eval/.conda/py-opt-3.10/lib/python3.10/runpy.py\\', line 196, code _run_module_as_main>\\\\n<frame at 0x2c22f4890, file \\'/Volumes/dev_new/trulens/trulens_eval/trulens_eval/utils/threading.py\\', line 48, code __init__>\\\\n<frame at 0x2caa3a200, file \\'/Volumes/dev_new/trulens/trulens_eval/.conda/py-opt-3.10/lib/python3.10/concurrent/futures/thread.py\\', line 201, code _adjust_thread_count>\\\\n<frame at 0x2caa2d240, file \\'/Volumes/dev_new/trulens/trulens_eval/.conda/py-opt-3.10/lib/python3.10/concurrent/futures/thread.py\\', line 162, code submit>\\\\n<frame at 0x2caa3a020, file \\'/Volumes/dev_new/trulens/trulens_eval/trulens_eval/utils/threading.py\\', line 78, code submit>\\\\n<frame at 0x2caa25c40, file \\'/Volumes/dev_new/trulens/trulens_eval/examples/expositional/end2end_apps/custom_app/custom_app.py\\', line 99, code <genexpr>>\\\\n<frame at 0x2c22f2f20, file \\'/Volumes/dev_new/trulens/trulens_eval/examples/expositional/end2end_apps/custom_app/custom_app.py\\', line 104, code get_context>\\\\n<frame at 0x2c22f45d0, file \\'/Volumes/dev_new/trulens/trulens_eval/trulens_eval/instruments.py\\', line 456, code tru_wrapper>\\\\n<frame at 0x2c1519660, file \\'/Volumes/dev_new/trulens/trulens_eval/examples/expositional/end2end_apps/custom_app/custom_app.py\\', line 114, code respond_to_query>\\\\n<frame at 0x2c7670880, file \\'/Volumes/dev_new/trulens/trulens_eval/trulens_eval/instruments.py\\', line 456, code tru_wrapper>\\\\n<frame at 0x2c22f1bb0, file \\'/var/folders/2j/xg0_cv993gl37s_8qs5qrdxm0000gn/T/ipykernel_29282/4214098704.py\\', line 2, code <module>>\\\\n<frame at 0x2c151fc40, file \\'/Volumes/dev_new/trulens/trulens_eval/.conda/py-opt-3.10/lib/python3.10/site-packages/IPython/core/interactiveshell.py\\', line 3577, code run_code>\\\\n<frame at 0x2c1d81bb0, file \\'/Volumes/dev_new/trulens/trulens_eval/.conda/py-opt-3.10/lib/python3.10/site-packages/IPython/core/interactiveshell.py\\', line 3517, code run_ast_nodes>\\\\n<frame at 0x2c7f3f920, file \\'/Volumes/dev_new/trulens/trulens_eval/.conda/py-opt-3.10/lib/python3.10/site-packages/IPython/core/interactiveshell.py\\', line 3334, code run_cell_async>\\\\n<frame at 0x2c1d803f0, file \\'/Volumes/dev_new/trulens/trulens_eval/.conda/py-opt-3.10/lib/python3.10/site-packages/IPython/core/async_helpers.py\\', line 129, code _pseudo_sync_runner>\\\\n<frame at 0x2c1d81490, file \\'/Volumes/dev_new/trulens/trulens_eval/.conda/py-opt-3.10/lib/python3.10/site-packages/IPython/core/interactiveshell.py\\', line 3130, code _run_cell>\\\\n<frame at 0x2c1d7ff30, file \\'/Volumes/dev_new/trulens/trulens_eval/.conda/py-opt-3.10/lib/python3.10/site-packages/IPython/core/interactiveshell.py\\', line 3075, code run_cell>\\\\n<frame at 0x2c15175b0, file \\'/Volumes/dev_new/trulens/trulens_eval/.conda/py-opt-3.10/lib/python3.10/site-packages/ipykernel/zmqshell.py\\', line 549, code run_cell>\\\\n<frame at 0x2c7f3f430, file \\'/Volumes/dev_new/trulens/trulens_eval/.conda/py-opt-3.10/lib/python3.10/site-packages/ipykernel/ipkernel.py\\', line 446, code do_execute>\\\\n<frame at 0x2c29c5430, file \\'/Volumes/dev_new/trulens/trulens_eval/.conda/py-opt-3.10/lib/python3.10/site-packages/ipykernel/kernelbase.py\\', line 778, code execute_request>\\\\n<frame at 0x2c1518d70, file \\'/Volumes/dev_new/trulens/trulens_eval/.conda/py-opt-3.10/lib/python3.10/site-packages/ipykernel/ipkernel.py\\', line 359, code execute_request>\\\\n<frame at 0x2c12f9de0, file \\'/Volumes/dev_new/trulens/trulens_eval/.conda/py-opt-3.10/lib/python3.10/site-packages/ipykernel/kernelbase.py\\', line 437, code dispatch_shell>\\\\n<frame at 0x2c20a5970, file \\'/Volumes/dev_new/trulens/trulens_eval/.conda/py-opt-3.10/lib/python3.10/site-packages/ipykernel/kernelbase.py\\', line 534, code process_one>\\\\n<frame at 0x107b24040, file \\'/Volumes/dev_new/trulens/trulens_eval/.conda/py-opt-3.10/lib/python3.10/site-packages/ipykernel/kernelbase.py\\', line 545, code dispatch_queue>\\\\n<frame at 0x2b533d4c0, file \\'/Volumes/dev_new/trulens/trulens_eval/.conda/py-opt-3.10/lib/python3.10/asyncio/events.py\\', line 80, code _run>\\\\n<frame at 0x2c12fb9f0, file \\'/Volumes/dev_new/trulens/trulens_eval/.conda/py-opt-3.10/lib/python3.10/site-packages/nest_asyncio.py\\', line 133, code _run_once>\\\\n<frame at 0x1079ae9f0, file \\'/Volumes/dev_new/trulens/trulens_eval/.conda/py-opt-3.10/lib/python3.10/asyncio/base_events.py\\', line 603, code run_forever>\\\\n<frame at 0x1079a68e0, file \\'/Volumes/dev_new/trulens/trulens_eval/.conda/py-opt-3.10/lib/python3.10/site-packages/tornado/platform/asyncio.py\\', line 205, code start>\\\\n<frame at 0x106fa0800, file \\'/Volumes/dev_new/trulens/trulens_eval/.conda/py-opt-3.10/lib/python3.10/site-packages/ipykernel/kernelapp.py\\', line 739, code start>\\\\n<frame at 0x107e91bc0, file \\'/Volumes/dev_new/trulens/trulens_eval/.conda/py-opt-3.10/lib/python3.10/site-packages/traitlets/config/application.py\\', line 1075, code launch_instance>\\\\n<frame at 0x104715cf0, file \\'/Volumes/dev_new/trulens/trulens_eval/.conda/py-opt-3.10/lib/python3.10/site-packages/ipykernel_launcher.py\\', line 18, code <module>>\\\\n<frame at 0x117e19ff0, file \\'/Volumes/dev_new/trulens/trulens_eval/.conda/py-opt-3.10/lib/python3.10/runpy.py\\', line 86, code _run_code>\\\\n<frame at 0x1046f9a40, file \\'/Volumes/dev_new/trulens/trulens_eval/.conda/py-opt-3.10/lib/python3.10/runpy.py\\', line 196, code _run_module_as_main>\\\\n\" and 8248 bytes with temperature 0.5 or something ...'"
      ]
     },
     "execution_count": 10,
     "metadata": {},
     "output_type": "execute_result"
    }
   ],
   "source": [
    "#with tru_custom_app as recorder:\n",
    "custom_app.respond_to_query(\"hello\")"
   ]
  },
  {
   "cell_type": "code",
   "execution_count": 11,
   "metadata": {},
   "outputs": [],
   "source": [
    "import pandas as pd\n",
    "from ipydatagrid import DataGrid\n",
    "from pprint import pformat\n",
    "\n",
    "def crop_end(s, n=32):\n",
    "    s = str(s)\n",
    "    if len(s) <= n:\n",
    "        return s\n",
    "    else:\n",
    "        return \"...\" + str(s)[-n:]\n",
    "\n",
    "rows = []\n",
    "for f in CustomStackTool.last_stack:\n",
    "    rows.append(map(crop_end, [f.f_code.co_filename, list(f.f_locals.keys()), f.f_code.co_name]))"
   ]
  },
  {
   "cell_type": "code",
   "execution_count": 12,
   "metadata": {},
   "outputs": [],
   "source": [
    "df = pd.DataFrame(rows, columns=['f_code', 'f_locals', 'f_code.co_name'])"
   ]
  },
  {
   "cell_type": "code",
   "execution_count": 13,
   "metadata": {},
   "outputs": [
    {
     "data": {
      "application/vnd.jupyter.widget-view+json": {
       "model_id": "fa2b741d2e754bb3816ccbbcb98b916f",
       "version_major": 2,
       "version_minor": 0
      },
      "text/plain": [
       "DataGrid(auto_fit_params={'area': 'all', 'padding': 30, 'numCols': None}, corner_renderer=None, default_render…"
      ]
     },
     "execution_count": 13,
     "metadata": {},
     "output_type": "execute_result"
    }
   ],
   "source": [
    "DataGrid(df)"
   ]
  },
  {
   "attachments": {},
   "cell_type": "markdown",
   "metadata": {},
   "source": [
    "## Initialize Feedback Function(s)"
   ]
  },
  {
   "cell_type": "code",
   "execution_count": null,
   "metadata": {},
   "outputs": [],
   "source": [
    "from trulens_eval.feedback.provider import OpenAI\n",
    "from trulens_eval import Feedback\n",
    "import numpy as np\n",
    "\n",
    "# Initialize provider class\n",
    "provider = OpenAI()\n",
    "\n",
    "# select context to be used in feedback. the location of context is app specific.\n",
    "from trulens_eval.app import App\n",
    "context = App.select_context(rag_chain)\n",
    "\n",
    "from trulens_eval.feedback import Groundedness\n",
    "grounded = Groundedness(groundedness_provider=OpenAI())\n",
    "# Define a groundedness feedback function\n",
    "f_groundedness = (\n",
    "    Feedback(grounded.groundedness_measure_with_cot_reasons)\n",
    "    .on(context.collect()) # collect context chunks into a list\n",
    "    .on_output()\n",
    "    .aggregate(grounded.grounded_statements_aggregator)\n",
    ")\n",
    "\n",
    "# Question/answer relevance between overall question and answer.\n",
    "f_answer_relevance = (\n",
    "    Feedback(provider.relevance)\n",
    "    .on_input_output()\n",
    ")\n",
    "# Question/statement relevance between question and each context chunk.\n",
    "f_context_relevance = (\n",
    "    Feedback(provider.context_relevance_with_cot_reasons)\n",
    "    .on_input()\n",
    "    .on(context)\n",
    "    .aggregate(np.mean)\n",
    ")"
   ]
  },
  {
   "attachments": {},
   "cell_type": "markdown",
   "metadata": {},
   "source": [
    "## Instrument chain for logging with TruLens"
   ]
  },
  {
   "cell_type": "code",
   "execution_count": null,
   "metadata": {},
   "outputs": [],
   "source": [
    "tru_recorder = TruChain(rag_chain,\n",
    "    app_id='Chain1_ChatApplication',\n",
    "    feedbacks=[f_answer_relevance, f_context_relevance, f_groundedness])"
   ]
  },
  {
   "cell_type": "code",
   "execution_count": null,
   "metadata": {},
   "outputs": [],
   "source": [
    "response, tru_record = tru_recorder.with_record(rag_chain.invoke, \"What is Task Decomposition?\")"
   ]
  },
  {
   "cell_type": "code",
   "execution_count": null,
   "metadata": {},
   "outputs": [],
   "source": [
    "json_like = tru_record.layout_calls_as_app()"
   ]
  },
  {
   "cell_type": "code",
   "execution_count": null,
   "metadata": {},
   "outputs": [],
   "source": [
    "json_like"
   ]
  },
  {
   "cell_type": "code",
   "execution_count": null,
   "metadata": {},
   "outputs": [],
   "source": [
    "from ipytree import Tree, Node\n",
    "\n",
    "def display_call_stack(data):\n",
    "    tree = Tree()\n",
    "    tree.add_node(Node('Record ID: {}'.format(data['record_id'])))\n",
    "    tree.add_node(Node('App ID: {}'.format(data['app_id'])))\n",
    "    tree.add_node(Node('Cost: {}'.format(data['cost'])))\n",
    "    tree.add_node(Node('Performance: {}'.format(data['perf'])))\n",
    "    tree.add_node(Node('Timestamp: {}'.format(data['ts'])))\n",
    "    tree.add_node(Node('Tags: {}'.format(data['tags'])))\n",
    "    tree.add_node(Node('Main Input: {}'.format(data['main_input'])))\n",
    "    tree.add_node(Node('Main Output: {}'.format(data['main_output'])))\n",
    "    tree.add_node(Node('Main Error: {}'.format(data['main_error'])))\n",
    "    \n",
    "    calls_node = Node('Calls')\n",
    "    tree.add_node(calls_node)\n",
    "    \n",
    "    for call in data['calls']:\n",
    "        call_node = Node('Call')\n",
    "        calls_node.add_node(call_node)\n",
    "        \n",
    "        for step in call['stack']:\n",
    "            step_node = Node('Step: {}'.format(step['path']))\n",
    "            call_node.add_node(step_node)\n",
    "            if 'expanded' in step:\n",
    "                expanded_node = Node('Expanded')\n",
    "                step_node.add_node(expanded_node)\n",
    "                for expanded_step in step['expanded']:\n",
    "                    expanded_step_node = Node('Step: {}'.format(expanded_step['path']))\n",
    "                    expanded_node.add_node(expanded_step_node)\n",
    "    \n",
    "    return tree\n",
    "\n",
    "# Usage\n",
    "tree = display_call_stack(json_like)\n",
    "tree"
   ]
  },
  {
   "cell_type": "code",
   "execution_count": null,
   "metadata": {},
   "outputs": [],
   "source": [
    "tree"
   ]
  },
  {
   "cell_type": "code",
   "execution_count": null,
   "metadata": {},
   "outputs": [],
   "source": [
    "with tru_recorder as recording:\n",
    "    llm_response = rag_chain.invoke(\"What is Task Decomposition?\")\n",
    "\n",
    "display(llm_response)"
   ]
  },
  {
   "cell_type": "markdown",
   "metadata": {},
   "source": [
    "## Retrieve records and feedback"
   ]
  },
  {
   "cell_type": "code",
   "execution_count": null,
   "metadata": {},
   "outputs": [],
   "source": [
    "# The record of the app invocation can be retrieved from the `recording`:\n",
    "\n",
    "rec = recording.get() # use .get if only one record\n",
    "# recs = recording.records # use .records if multiple\n",
    "\n",
    "display(rec)"
   ]
  },
  {
   "cell_type": "code",
   "execution_count": null,
   "metadata": {},
   "outputs": [],
   "source": [
    "# The results of the feedback functions can be rertireved from\n",
    "# `Record.feedback_results` or using the `wait_for_feedback_result` method. The\n",
    "# results if retrieved directly are `Future` instances (see\n",
    "# `concurrent.futures`). You can use `as_completed` to wait until they have\n",
    "# finished evaluating or use the utility method:\n",
    "\n",
    "for feedback, feedback_result in rec.wait_for_feedback_results().items():\n",
    "    print(feedback.name, feedback_result.result)\n",
    "\n",
    "# See more about wait_for_feedback_results:\n",
    "# help(rec.wait_for_feedback_results)"
   ]
  },
  {
   "cell_type": "code",
   "execution_count": null,
   "metadata": {},
   "outputs": [],
   "source": [
    "records, feedback = tru.get_records_and_feedback(app_ids=[\"Chain1_ChatApplication\"])\n",
    "\n",
    "records.head()"
   ]
  },
  {
   "cell_type": "code",
   "execution_count": null,
   "metadata": {},
   "outputs": [],
   "source": [
    "tru.get_leaderboard(app_ids=[\"Chain1_ChatApplication\"])"
   ]
  },
  {
   "attachments": {},
   "cell_type": "markdown",
   "metadata": {},
   "source": [
    "## Explore in a Dashboard"
   ]
  },
  {
   "cell_type": "code",
   "execution_count": null,
   "metadata": {},
   "outputs": [],
   "source": [
    "tru.run_dashboard() # open a local streamlit app to explore\n",
    "\n",
    "# tru.stop_dashboard() # stop if needed"
   ]
  },
  {
   "attachments": {},
   "cell_type": "markdown",
   "metadata": {},
   "source": [
    "Alternatively, you can run `trulens-eval` from a command line in the same folder to start the dashboard."
   ]
  },
  {
   "attachments": {},
   "cell_type": "markdown",
   "metadata": {},
   "source": [
    "Note: Feedback functions evaluated in the deferred manner can be seen in the \"Progress\" page of the TruLens dashboard."
   ]
  }
 ],
 "metadata": {
  "kernelspec": {
   "display_name": "Python 3 (ipykernel)",
   "language": "python",
   "name": "python3"
  },
  "language_info": {
   "codemirror_mode": {
    "name": "ipython",
    "version": 3
   },
   "file_extension": ".py",
   "mimetype": "text/x-python",
   "name": "python",
   "nbconvert_exporter": "python",
   "pygments_lexer": "ipython3",
   "version": "3.10.14"
  },
  "vscode": {
   "interpreter": {
    "hash": "d5737f6101ac92451320b0e41890107145710b89f85909f3780d702e7818f973"
   }
  }
 },
 "nbformat": 4,
 "nbformat_minor": 2
}
