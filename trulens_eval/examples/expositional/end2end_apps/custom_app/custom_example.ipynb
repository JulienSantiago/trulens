{
 "cells": [
  {
   "cell_type": "markdown",
   "metadata": {},
   "source": [
    "# 📓 Custom App using DummyAPI\n",
    "\n",
    "The files in this folder code a custom app that resembles an LLM app with\n",
    "seperate classes for common app components. None of these components make\n",
    "network calls but pretend to otherwise operate like real components.\n",
    "\n",
    "__WARNING__: This example must be run from the git repository as it imports\n",
    "files that are not included in a PIP distribution."
   ]
  },
  {
   "cell_type": "code",
   "execution_count": null,
   "metadata": {},
   "outputs": [],
   "source": [
    "from pathlib import Path\n",
    "import sys\n",
    "\n",
    "# If using trulens from the repository, add the parent directory to the path:\n",
    "sys.path.append(str(Path().cwd().parent.parent.parent.parent.resolve()))"
   ]
  },
  {
   "cell_type": "code",
   "execution_count": null,
   "metadata": {},
   "outputs": [],
   "source": [
    "from examples.expositional.end2end_apps.custom_app.custom_app import CustomApp\n",
    "\n",
    "from trulens_eval import Tru\n",
    "from trulens_eval.tru_custom_app import TruCustomApp\n",
    "\n",
    "tru = Tru()\n",
    "tru.reset_database()"
   ]
  },
  {
   "cell_type": "code",
   "execution_count": null,
   "metadata": {},
   "outputs": [],
   "source": [
    "# Create custom app:\n",
    "ca = CustomApp()\n",
    "\n",
    "# Create trulens wrapper:\n",
    "ta = TruCustomApp(\n",
    "    ca,\n",
    "    app_id=\"customapp\",\n",
    ")"
   ]
  },
  {
   "cell_type": "code",
   "execution_count": null,
   "metadata": {},
   "outputs": [],
   "source": [
    "# Show instrumented components and methods.\n",
    "\n",
    "ta.print_instrumented()"
   ]
  },
  {
   "cell_type": "code",
   "execution_count": null,
   "metadata": {},
   "outputs": [],
   "source": [
    "# Normal usage (without tracing):\n",
    "ca.respond_to_query(query=\"What is the capital of Indonesia?\")\n",
    "\n",
    "# Instrumented usage:\n",
    "with ta as recorder:\n",
    "    response = ca.respond_to_query(query=\"What is the capital of Indonesia?\")\n",
    "\n",
    "record = recorder.get()"
   ]
  },
  {
   "cell_type": "code",
   "execution_count": null,
   "metadata": {},
   "outputs": [],
   "source": [
    "# Show the app output:\n",
    "\n",
    "# response"
   ]
  },
  {
   "cell_type": "code",
   "execution_count": null,
   "metadata": {},
   "outputs": [],
   "source": [
    "# Show the instrumentation record.\n",
    "\n",
    "# record.model_dump()"
   ]
  },
  {
   "cell_type": "code",
   "execution_count": null,
   "metadata": {},
   "outputs": [],
   "source": [
    "# Start the dasshboard. If you running from github repo, include the _dev arg below:\n",
    "tru.start_dashboard(\n",
    "    _dev=Path().cwd().parent.parent.parent.parent.resolve(),\n",
    "    force=True\n",
    ")"
   ]
  },
  {
   "cell_type": "markdown",
   "metadata": {},
   "source": [
    "# Custom App options\n",
    "\n",
    "The custom app used above has some configuration options or call variants with\n",
    "differing behaviours:\n",
    "\n",
    "- Simulated delay and memory usage controlled by `Dummy` class `delay` and\n",
    "  `alloc` attributes. All other components subtype `Dummy` hence also implement\n",
    "  simulated delays and allocations.\n",
    "\n",
    "- Non-determinism control via the `Dummy` class `seed` attribute. Randomness in\n",
    "  some components can be somewhat controlled by this attribute. The control is\n",
    "  presently incomplete as threading and async usage (described below) is not\n",
    "  controlled by `seed`.\n",
    "\n",
    "- Async methods. These begin with the letter \"a\" followed by the sync method\n",
    "  name.\n",
    "\n",
    "- Use of parallelism for processing retrieved chunks. This uses either threads\n",
    "  or async depending on which method variant is called. This is controlled by\n",
    "  the `CustomApp` `use_parallel` flag.\n",
    "\n",
    "- Nested use of custom app inside a custom app component. This is controlled by\n",
    "  the `CustomAgent` `use_app` flag.\n",
    "\n",
    "- Use of trulens_eval to record the invocation of the above nested model. This\n",
    "  is controlled by the `CustomAgent` `use_recorder` flag.\n",
    "\n"
   ]
  },
  {
   "cell_type": "markdown",
   "metadata": {},
   "source": []
  },
  {
   "cell_type": "code",
   "execution_count": null,
   "metadata": {},
   "outputs": [],
   "source": [
    "# Normal usage (without tracing):\n",
    "await ca.arespond_to_query(query=\"What is the capital of Indonesia?\")\n",
    "\n",
    "# Instrumented usage:\n",
    "with ta as recorder:\n",
    "    response = await ca.arespond_to_query(query=\"What is the capital of Indonesia?\")\n",
    "\n",
    "record = recorder.get()"
   ]
  },
  {
   "cell_type": "markdown",
   "metadata": {},
   "source": []
  }
 ],
 "metadata": {
  "kernelspec": {
   "display_name": "py38_trulens",
   "language": "python",
   "name": "python3"
  },
  "language_info": {
   "codemirror_mode": {
    "name": "ipython",
    "version": 3
   },
   "file_extension": ".py",
   "mimetype": "text/x-python",
   "name": "python",
   "nbconvert_exporter": "python",
   "pygments_lexer": "ipython3",
   "version": "3.12.0"
  },
  "orig_nbformat": 4
 },
 "nbformat": 4,
 "nbformat_minor": 2
}
