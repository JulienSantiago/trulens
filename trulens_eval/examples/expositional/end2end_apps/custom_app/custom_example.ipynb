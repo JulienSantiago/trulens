{
 "cells": [
  {
   "cell_type": "markdown",
   "metadata": {},
   "source": [
    "# Custom Class Example\n",
    "\n",
    "This example uses several other python files in the same folder."
   ]
  },
  {
   "cell_type": "code",
   "execution_count": 1,
   "metadata": {},
   "outputs": [
    {
     "ename": "ModuleNotFoundError",
     "evalue": "No module named 'examples'",
     "output_type": "error",
     "traceback": [
      "\u001b[0;31m---------------------------------------------------------------------------\u001b[0m",
      "\u001b[0;31mModuleNotFoundError\u001b[0m                       Traceback (most recent call last)",
      "\u001b[1;32m/Users/piotrm/Dropbox/repos/github/trulens/trulens_eval/examples/expositional/end2end_apps/custom_app/custom_example.ipynb Cell 2\u001b[0m line \u001b[0;36m<cell line: 1>\u001b[0;34m()\u001b[0m\n\u001b[0;32m----> <a href='vscode-notebook-cell:/Users/piotrm/Dropbox/repos/github/trulens/trulens_eval/examples/expositional/end2end_apps/custom_app/custom_example.ipynb#W1sZmlsZQ%3D%3D?line=0'>1</a>\u001b[0m \u001b[39mfrom\u001b[39;00m \u001b[39mexamples\u001b[39;00m\u001b[39m.\u001b[39;00m\u001b[39mexpositional\u001b[39;00m\u001b[39m.\u001b[39;00m\u001b[39mend2end_apps\u001b[39;00m\u001b[39m.\u001b[39;00m\u001b[39mcustom_app\u001b[39;00m\u001b[39m.\u001b[39;00m\u001b[39mcustom_app\u001b[39;00m \u001b[39mimport\u001b[39;00m CustomApp \u001b[39m# our custom app\u001b[39;00m\n\u001b[1;32m      <a href='vscode-notebook-cell:/Users/piotrm/Dropbox/repos/github/trulens/trulens_eval/examples/expositional/end2end_apps/custom_app/custom_example.ipynb#W1sZmlsZQ%3D%3D?line=2'>3</a>\u001b[0m \u001b[39mfrom\u001b[39;00m \u001b[39mtrulens_eval\u001b[39;00m\u001b[39m.\u001b[39;00m\u001b[39mtru_custom_app\u001b[39;00m \u001b[39mimport\u001b[39;00m TruCustomApp\n\u001b[1;32m      <a href='vscode-notebook-cell:/Users/piotrm/Dropbox/repos/github/trulens/trulens_eval/examples/expositional/end2end_apps/custom_app/custom_example.ipynb#W1sZmlsZQ%3D%3D?line=4'>5</a>\u001b[0m \u001b[39mfrom\u001b[39;00m \u001b[39mtrulens_eval\u001b[39;00m \u001b[39mimport\u001b[39;00m Tru\n",
      "\u001b[0;31mModuleNotFoundError\u001b[0m: No module named 'examples'"
     ]
    }
   ],
   "source": [
    "from examples.expositional.end2end_apps.custom_app.custom_app import CustomApp # our custom app\n",
    "\n",
    "from trulens_eval.tru_custom_app import TruCustomApp\n",
    "\n",
    "from trulens_eval import Tru\n",
    "# Tru object manages the database of apps, records, and feedbacks; and the\n",
    "# dashboard to display these.\n",
    "tru = Tru()\n",
    "\n",
    "tru.reset_database()"
   ]
  },
  {
   "cell_type": "code",
   "execution_count": null,
   "metadata": {},
   "outputs": [],
   "source": [
    "# Create custom app:\n",
    "ca = CustomApp()\n",
    "\n",
    "# Create trulens wrapper:\n",
    "ta = TruCustomApp(\n",
    "    ca,\n",
    "    app_id=\"customapp\",\n",
    "    # Optional alternative to decorators:\n",
    "    #methods_to_instrument={\n",
    "    #    ca.respond_to_query: Select.Query(), # paths relative to \"app\"\n",
    "    #    ca.retrieve_chunks: Select.Query(),\n",
    "    #    ca.retriever.retrieve_chunks: Select.Query().retriever\n",
    "    #},\n",
    "    ## Add extra data to show up as app serialization. See tru_custom_app.py documentation.\n",
    "    #app_extra_json=dict(\n",
    "    #    name=\"This is my custom app. Anything provided to app_extra_json will be merged into the serialization of app\",\n",
    "    #)\n",
    ")\n"
   ]
  },
  {
   "cell_type": "code",
   "execution_count": null,
   "metadata": {},
   "outputs": [],
   "source": [
    "# Show instrumented components and methods.\n",
    "\n",
    "ta.print_instrumented()"
   ]
  },
  {
   "cell_type": "code",
   "execution_count": null,
   "metadata": {},
   "outputs": [],
   "source": [
    "# Normal usage:\n",
    "# ca.respond_to_query(\"What is the capital of Indonesia?\")\n",
    "\n",
    "# Instrumented usage:\n",
    "response, record = ta.with_record(\n",
    "    ca.respond_to_query, input=\"What is the capital of Indonesia?\"\n",
    ")\n"
   ]
  },
  {
   "cell_type": "code",
   "execution_count": null,
   "metadata": {},
   "outputs": [],
   "source": [
    "# Show the app output:\n",
    "\n",
    "response"
   ]
  },
  {
   "cell_type": "code",
   "execution_count": null,
   "metadata": {},
   "outputs": [],
   "source": [
    "# Show the instrumentation record.\n",
    "\n",
    "record.dict()"
   ]
  },
  {
   "cell_type": "code",
   "execution_count": null,
   "metadata": {},
   "outputs": [],
   "source": [
    "# Start the dasshboard. If you running from github repo, you will need to adjust\n",
    "# the path the dashboard streamlit app starts in by providing the _dev argument.\n",
    "tru.start_dashboard()"
   ]
  },
  {
   "cell_type": "code",
   "execution_count": null,
   "metadata": {},
   "outputs": [],
   "source": []
  }
 ],
 "metadata": {
  "kernelspec": {
   "display_name": "py38_trulens",
   "language": "python",
   "name": "python3"
  },
  "language_info": {
   "codemirror_mode": {
    "name": "ipython",
    "version": 3
   },
   "file_extension": ".py",
   "mimetype": "text/x-python",
   "name": "python",
   "nbconvert_exporter": "python",
   "pygments_lexer": "ipython3",
   "version": "3.8.16"
  },
  "orig_nbformat": 4
 },
 "nbformat": 4,
 "nbformat_minor": 2
}
