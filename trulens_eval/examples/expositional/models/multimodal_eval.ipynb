{
 "cells": [
  {
   "attachments": {},
   "cell_type": "markdown",
   "metadata": {},
   "source": [
    "# Model Comparison\n",
    "\n",
    "In this example you will learn how to compare different models with TruLens.\n",
    "\n",
    "[![Open In Colab](https://colab.research.google.com/assets/colab-badge.svg)](https://colab.research.google.com/github/truera/trulens/blob/main/trulens_eval/examples/expositional/models/multimodal_eval.ipynb)"
   ]
  },
  {
   "attachments": {},
   "cell_type": "markdown",
   "metadata": {},
   "source": [
    "## Setup\n",
    "### Add API keys\n",
    "For this quickstart you will need Open AI and Huggingface keys"
   ]
  },
  {
   "cell_type": "code",
   "execution_count": null,
   "metadata": {},
   "outputs": [],
   "source": [
    "from IPython.display import Image\n",
    "import io\n",
    "import requests\n",
    "\n",
    "import os\n",
    "os.environ[\"REPLICATE_API_TOKEN\"] = \"...\""
   ]
  },
  {
   "cell_type": "code",
   "execution_count": null,
   "metadata": {},
   "outputs": [],
   "source": [
    "import replicate\n",
    "\n",
    "def image_generator(prompt):\n",
    "    output = replicate.run(\n",
    "  \"stability-ai/stable-diffusion:27b93a2413e7f36cd83da926f3656280b2931564ff050bf9575f1fdf9bcd7478\",\n",
    "  input={\"prompt\": prompt}\n",
    ")\n",
    "    return output[0]"
   ]
  },
  {
   "cell_type": "code",
   "execution_count": null,
   "metadata": {},
   "outputs": [],
   "source": [
    "image = image_generator(\"An iguana on the beach, pointilism\")"
   ]
  },
  {
   "cell_type": "code",
   "execution_count": null,
   "metadata": {},
   "outputs": [],
   "source": [
    "Image(image)"
   ]
  },
  {
   "cell_type": "code",
   "execution_count": null,
   "metadata": {},
   "outputs": [],
   "source": [
    "from trulens_eval import Replicate\n",
    "from pydantic import BaseModel, Field\n",
    "\n",
    "import json"
   ]
  },
  {
   "cell_type": "code",
   "execution_count": null,
   "metadata": {},
   "outputs": [],
   "source": [
    "class Multimodal(Replicate):\n",
    "    model_engine: str = \"yorickvp/llava-13b:2facb4a474a0462c15041b78b1ad70952ea46b5ec6ad29583c0b29dbd4249591\"\n",
    "\n",
    "    def __init__(self, model_engine: str = model_engine):\n",
    "        super().__init__()\n",
    "        self.model_engine = model_engine\n",
    "\n",
    "    def _handle_streaming(self, output) -> str:\n",
    "        full_output = []\n",
    "        for item in output:\n",
    "            print(item, end=\"\")\n",
    "            full_output.append(item)\n",
    "        # Join the list of strings into a single string\n",
    "        output_str = ''.join(full_output)\n",
    "        # Replace single quotes with double quotes\n",
    "        output_str = output_str.replace(\"'\", '\"')\n",
    "        return output_str  # Add this line\n",
    "\n",
    "    def _eval_image(self, image_url: str, eval_prompt: str) -> dict:\n",
    "        response = requests.get(image_url)\n",
    "        file_bytes = response.content\n",
    "\n",
    "        file_like_object = io.BytesIO(file_bytes)\n",
    "\n",
    "        output = replicate.run(\n",
    "            self.model_engine,\n",
    "            input={\"image\": file_like_object, \"prompt\" : eval_prompt}\n",
    "        )\n",
    "        output_str = self._handle_streaming(output)\n",
    "        \n",
    "        return json.loads(output_str)\n",
    "\n",
    "    def iguana_score(self, image_url: str) -> float:\n",
    "        eval_prompt = eval_prompt = \"Is the image of an iguana? Rate from 0 to 10 and respond only with the rating as a float.\"\n",
    "        score = self._eval_image(image_url = image_url, eval_prompt = eval_prompt)\n",
    "        return float(score)\n",
    "\n",
    "    def pointilism_score(self, image_url: str) -> float:\n",
    "        eval_prompt = \"Is the image in pointilism style? Rate from 0 to 10 and respond only with the rating as a float.\"\n",
    "        score = self._eval_image(image_url = image_url, eval_prompt = eval_prompt)\n",
    "        return float(score)"
   ]
  },
  {
   "cell_type": "code",
   "execution_count": null,
   "metadata": {},
   "outputs": [],
   "source": [
    "Tru().reset_database()"
   ]
  },
  {
   "cell_type": "code",
   "execution_count": null,
   "metadata": {},
   "outputs": [],
   "source": [
    "lmm = Multimodal()"
   ]
  },
  {
   "cell_type": "code",
   "execution_count": null,
   "metadata": {},
   "outputs": [],
   "source": [
    "from trulens_eval import Feedback\n",
    "f_iguana_score = Feedback(lmm.iguana_score).on_output()\n",
    "f_pointilism_score = Feedback(lmm.pointilism_score).on_output()\n",
    "\n",
    "feedbacks = [f_iguana_score, f_pointilism_score]"
   ]
  },
  {
   "cell_type": "code",
   "execution_count": null,
   "metadata": {},
   "outputs": [],
   "source": [
    "from trulens_eval import TruBasicApp\n",
    "\n",
    "tru_multimodal_recorder = TruBasicApp(image_generator, app_id=\"Image Generator\", feedbacks=feedbacks)"
   ]
  },
  {
   "cell_type": "code",
   "execution_count": null,
   "metadata": {},
   "outputs": [],
   "source": [
    "with tru_multimodal_recorder as recording:\n",
    "    tru_multimodal_recorder.app(\"An iguana on the beach, pointilism\")"
   ]
  },
  {
   "cell_type": "code",
   "execution_count": null,
   "metadata": {},
   "outputs": [],
   "source": [
    "from trulens_eval import Tru\n",
    "\n",
    "Tru().run_dashboard()"
   ]
  }
 ],
 "metadata": {
  "kernelspec": {
   "display_name": "milvus",
   "language": "python",
   "name": "python3"
  },
  "language_info": {
   "codemirror_mode": {
    "name": "ipython",
    "version": 3
   },
   "file_extension": ".py",
   "mimetype": "text/x-python",
   "name": "python",
   "nbconvert_exporter": "python",
   "pygments_lexer": "ipython3",
   "version": "3.11.5"
  }
 },
 "nbformat": 4,
 "nbformat_minor": 2
}
