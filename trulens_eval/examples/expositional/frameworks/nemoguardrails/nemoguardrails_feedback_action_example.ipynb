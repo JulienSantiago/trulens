{
 "cells": [
  {
   "cell_type": "markdown",
   "metadata": {},
   "source": [
    "# Feedback functions in NEMO Guardrails apps\n",
    "\n",
    "TODO: This notebook is in an experimental state."
   ]
  },
  {
   "cell_type": "code",
   "execution_count": null,
   "metadata": {},
   "outputs": [],
   "source": [
    "# pip uninstall -y trulens_eval\n",
    "# pip install git+https://github.com/truera/trulens@piotrm/azure_bugfixes#subdirectory=trulens_eval\n",
    "\n",
    "%load_ext autoreload\n",
    "%autoreload 2\n",
    "from pathlib import Path\n",
    "import sys\n",
    "\n",
    "base = Path().cwd()\n",
    "while not (base / \"trulens_eval\").exists():\n",
    "    base = base.parent\n",
    "\n",
    "print(base)\n",
    "\n",
    "# If running from github repo, can use this:\n",
    "sys.path.append(str(base))\n",
    "\n",
    "# TODO: presently we use some features of a modified version of NeMo-Guardrails.\n",
    "# Either point path to it or install from branch.\n",
    "sys.path.append(\"/Volumes/dev_new/NeMo-Guardrails\")\n",
    "\n",
    "\n",
    "from trulens_eval.keys import check_keys\n",
    "check_keys(\n",
    "    \"OPENAI_API_KEY\",\n",
    "    \"HUGGINGFACE_API_KEY\"\n",
    ")\n",
    "\n",
    "from trulens_eval import Tru\n",
    "tru = Tru()\n",
    "tru.reset_database()\n",
    "\n",
    "tru.run_dashboard(_dev=base, force=True)"
   ]
  },
  {
   "cell_type": "markdown",
   "metadata": {},
   "source": [
    "## Feedback function definition and registration\n",
    "\n",
    "To make feedback functions available to rails apps, we need to first register them the `FeedbackActions` class. Note that these feedback functions do not come with selectors. The selectors are specified from within the rail app in the action execution."
   ]
  },
  {
   "cell_type": "code",
   "execution_count": null,
   "metadata": {},
   "outputs": [],
   "source": [
    "import logging\n",
    "\n",
    "from pprint import PrettyPrinter\n",
    "pp = PrettyPrinter()\n",
    "log = logging.getLogger(__name__)\n",
    "\n",
    "from trulens_eval import OpenAI, Huggingface, Feedback\n",
    "from trulens_eval.tru_rails import TruRails, FeedbackActions\n",
    "from trulens_eval.feedback.feedback import RAG_triad\n",
    "\n",
    "# Initialize provider class\n",
    "openai = OpenAI()\n",
    "\n",
    "f_language_match = Feedback(Huggingface().language_match)\n",
    "\n",
    "fs_triad = RAG_triad(provider=openai)\n",
    "\n",
    "FeedbackActions.register_feedback_functions(**fs_triad)\n",
    "FeedbackActions.register_feedback_functions(f_language_match)"
   ]
  },
  {
   "cell_type": "markdown",
   "metadata": {},
   "source": [
    "## Rails app setup\n",
    "\n",
    "The files created below define a configuration of a rails app adapted from\n",
    "various examples in the NeMo-Guardrails repository."
   ]
  },
  {
   "cell_type": "code",
   "execution_count": null,
   "metadata": {},
   "outputs": [],
   "source": [
    "# Small utility to help us create various config files for rails.\n",
    "from IPython.core.magic import register_line_cell_magic\n",
    "\n",
    "@register_line_cell_magic\n",
    "def writefileinterpolated(line, cell):\n",
    "    with open(line, 'w') as f:\n",
    "        f.write(cell.format(**globals()))"
   ]
  },
  {
   "cell_type": "markdown",
   "metadata": {},
   "source": [
    "Note that new additions to output rail flows in the configuration below. These are setup to run our feedback functions but their definition will come in following colang file."
   ]
  },
  {
   "cell_type": "code",
   "execution_count": null,
   "metadata": {},
   "outputs": [],
   "source": [
    "%%writefileinterpolated config.yaml\n",
    "# Adapted from NeMo-Guardrails/nemoguardrails/examples/bots/abc/config.yml\n",
    "instructions:\n",
    "  - type: general\n",
    "    content: |\n",
    "      Below is a conversation between a user and a bot called the trulens Bot.\n",
    "      The bot is designed to answer questions about the trulens_eval python library.\n",
    "      The bot is knowledgeable about python.\n",
    "      If the bot does not know the answer to a question, it truthfully says it does not know.\n",
    "\n",
    "sample_conversation: |\n",
    "  user \"Hi there. Can you help me with some questions I have about trulens?\"\n",
    "    express greeting and ask for assistance\n",
    "  bot express greeting and confirm and offer assistance\n",
    "    \"Hi there! I'm here to help answer any questions you may have about the trulens. What would you like to know?\"\n",
    "\n",
    "models:\n",
    "  - type: main\n",
    "    engine: openai\n",
    "    model: gpt-3.5-turbo-instruct\n",
    "\n",
    "rails:\n",
    "  output:\n",
    "    flows:\n",
    "      - check language match\n",
    "      # triad defined seperately so hopefully they can be executed in parallel\n",
    "      - check rag triad groundedness\n",
    "      - check rag triad relevance\n",
    "      - check rag triad qs_relevance\n",
    "\n",
    "#knowledge_base: # no longer works with openai >= 1.0\n",
    "#  embedding_search_provider:\n",
    "#    name: default\n",
    "#    parameters:\n",
    "#      embedding_engine: openai\n",
    "#      embedding_model: text-embedding-ada-002"
   ]
  },
  {
   "cell_type": "markdown",
   "metadata": {},
   "source": [
    "### Output flows with feedback\n",
    "\n",
    "Next we define output flows that include checks using all 4 feedback functions we registered above."
   ]
  },
  {
   "cell_type": "code",
   "execution_count": null,
   "metadata": {},
   "outputs": [],
   "source": [
    "from trulens_eval.tru_rails import RailsActionSelect\n",
    "\n",
    "# Will need to refer to these selectors/lenses to define triade checks. We can\n",
    "# use these shorthands to make things a bit easier. If you are writing\n",
    "# non-temporary config files, you can print these lenses to help with the\n",
    "# selectors:\n",
    "\n",
    "question_lens = RailsActionSelect.LastUserMessage\n",
    "answer_lens = RailsActionSelect.BotMessage # not LastBotMessage as the flow is evaluated before LastBotMessage is available\n",
    "contexts_lens = RailsActionSelect.RetrievalContexts\n",
    "\n",
    "print(list(map(str, [question_lens, answer_lens, contexts_lens])))"
   ]
  },
  {
   "cell_type": "code",
   "execution_count": null,
   "metadata": {},
   "outputs": [],
   "source": [
    "%%writefileinterpolated config.co\n",
    "# Adapted from NeMo-Guardrails/tests/test_configs/with_kb_openai_embeddings/config.co\n",
    "define user ask capabilities\n",
    "  \"What can you do?\"\n",
    "  \"What can you help me with?\"\n",
    "  \"tell me what you can do\"\n",
    "  \"tell me about you\"\n",
    "\n",
    "define bot inform language mismatch\n",
    "  \"I may not be able to answer in your language.\"\n",
    "\n",
    "define bot inform triad failure\n",
    "  \"I may may have made a mistake interpreting your question or my knowledge base.\"\n",
    "\n",
    "define flow\n",
    "  user ask trulens\n",
    "  bot inform trulens\n",
    "\n",
    "define parallel subflow check language match\n",
    "  $result = execute feedback(\\\n",
    "    function=\"language_match\",\\\n",
    "    selectors={{\\\n",
    "      \"text1\":\"{question_lens}\",\\\n",
    "      \"text2\":\"{answer_lens}\"\\\n",
    "    }},\\\n",
    "    verbose=True\\\n",
    "  )\n",
    "  if $result < 0.8\n",
    "    bot inform language mismatch\n",
    "    stop\n",
    "\n",
    "define parallel subflow check rag triad groundedness\n",
    "  $result = execute feedback(\\\n",
    "    function=\"groundedness_measure_with_cot_reasons\",\\\n",
    "    selectors={{\\\n",
    "      \"statement\":\"{answer_lens}\",\\\n",
    "      \"source\":\"{contexts_lens}\"\\\n",
    "    }},\\\n",
    "    verbose=True\\\n",
    "  )\n",
    "  if $result < 0.7\n",
    "    bot inform triad failure\n",
    "    stop\n",
    "\n",
    "define parallel subflow check rag triad relevance\n",
    "  $result = execute feedback(\\\n",
    "    function=\"relevance\",\\\n",
    "    selectors={{\\\n",
    "      \"prompt\":\"{question_lens}\",\\\n",
    "      \"response\":\"{contexts_lens}\"\\\n",
    "    }},\\\n",
    "    verbose=True\\\n",
    "  )\n",
    "  if $result < 0.7\n",
    "    bot inform triad failure\n",
    "    stop\n",
    "\n",
    "define parallel subflow check rag triad qs_relevance\n",
    "  $result = execute feedback(\\\n",
    "    function=\"qs_relevance\",\\\n",
    "    selectors={{\\\n",
    "      \"question\":\"{question_lens}\",\\\n",
    "      \"statement\":\"{answer_lens}\"\\\n",
    "    }},\\\n",
    "    verbose=True\\\n",
    "  )\n",
    "  if $result < 0.7\n",
    "    bot inform triad failure\n",
    "    stop\n"
   ]
  },
  {
   "cell_type": "markdown",
   "metadata": {},
   "source": [
    "## Rails app instantiation"
   ]
  },
  {
   "cell_type": "code",
   "execution_count": null,
   "metadata": {},
   "outputs": [],
   "source": [
    "from nemoguardrails import LLMRails, RailsConfig\n",
    "\n",
    "config = RailsConfig.from_path(\".\")\n",
    "rails = LLMRails(config)"
   ]
  },
  {
   "cell_type": "markdown",
   "metadata": {},
   "source": [
    "### Feedback action registration\n",
    "\n",
    "We need to register the method `FeedbackActions.feedback` as an action to be able to make use of it inside the flows we defined above."
   ]
  },
  {
   "cell_type": "code",
   "execution_count": null,
   "metadata": {},
   "outputs": [],
   "source": [
    "rails.register_action(FeedbackActions.feedback)"
   ]
  },
  {
   "cell_type": "markdown",
   "metadata": {},
   "source": [
    "## Optional `TruRails` recorder instantiation\n",
    "\n",
    "Though not required, we can also use a trulens_eval recorder to monitor our app."
   ]
  },
  {
   "cell_type": "code",
   "execution_count": null,
   "metadata": {},
   "outputs": [],
   "source": [
    "tru_rails = TruRails(rails)"
   ]
  },
  {
   "cell_type": "markdown",
   "metadata": {},
   "source": [
    "## Language match test invocation\n",
    "\n",
    "Lets try to make the app respond in a different language than the question to try to get the language match flow to abort the output."
   ]
  },
  {
   "cell_type": "code",
   "execution_count": null,
   "metadata": {},
   "outputs": [],
   "source": [
    "# This may fail the language match:\n",
    "with tru_rails as recorder:\n",
    "    response = await rails.generate_async(messages=[{\n",
    "        \"role\": \"user\",\n",
    "        \"content\": \"Please answer in Spanish: what does trulens_eval do?\"\n",
    "    }])\n",
    "    \n",
    "print(response['content'])"
   ]
  },
  {
   "cell_type": "code",
   "execution_count": null,
   "metadata": {},
   "outputs": [],
   "source": [
    "# Note that the feedbacks involved in the flow are not record feedbacks hence\n",
    "# not available in the usual place:\n",
    "\n",
    "record = recorder.get()\n",
    "print(record.feedback_results)"
   ]
  },
  {
   "cell_type": "code",
   "execution_count": null,
   "metadata": {},
   "outputs": [],
   "source": [
    "# This should be ok though sometimes answers in English and the RAG triad may\n",
    "# fail after language match passes.\n",
    "\n",
    "with tru_rails as recorder:\n",
    "    response = await rails.generate_async(messages=[{\n",
    "        \"role\": \"user\",\n",
    "        \"content\": \"Por favor responda en español: ¿qué hace trulens_eval?\"\n",
    "    }])\n",
    "    \n",
    "print(response['content'])"
   ]
  },
  {
   "cell_type": "markdown",
   "metadata": {},
   "source": [
    "## RAG triad Test\n",
    "\n",
    "Lets check to make sure all 3 RAG feedback functions will run and hopefully\n",
    "pass. Note that the \"stop\" in their flow definitions means that if any one of\n",
    "them fails, no subsequent ones will be tested."
   ]
  },
  {
   "cell_type": "code",
   "execution_count": null,
   "metadata": {},
   "outputs": [],
   "source": [
    "# Should invoke retrieval:\n",
    "\n",
    "with tru_rails as recorder:\n",
    "    response = await rails.generate_async(messages=[{\n",
    "        \"role\": \"user\",\n",
    "        \"content\": \"Does trulens support AzureOpenAI as a provider?\"\n",
    "    }])\n",
    "    \n",
    "print(response['content'])"
   ]
  },
  {
   "cell_type": "code",
   "execution_count": null,
   "metadata": {},
   "outputs": [],
   "source": []
  }
 ],
 "metadata": {
  "kernelspec": {
   "display_name": "py311_trulens",
   "language": "python",
   "name": "python3"
  },
  "language_info": {
   "codemirror_mode": {
    "name": "ipython",
    "version": 3
   },
   "file_extension": ".py",
   "mimetype": "text/x-python",
   "name": "python",
   "nbconvert_exporter": "python",
   "pygments_lexer": "ipython3",
   "version": "3.11.6"
  }
 },
 "nbformat": 4,
 "nbformat_minor": 2
}
