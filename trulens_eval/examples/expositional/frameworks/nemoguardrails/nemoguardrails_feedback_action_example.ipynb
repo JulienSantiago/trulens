{
 "cells": [
  {
   "cell_type": "markdown",
   "metadata": {},
   "source": [
    "# Feedback functions in NeMo Guardrails apps\n",
    "\n",
    "This notebook demonstrates how to use feedback functions from within rails apps. The integration in the other direction, monitoring rails apps using trulens, is shown in the other notebook in this folder.\n",
    "\n",
    "**NOTE**: This notebook is in an experimental state. It also depends on changes to\n",
    "nemoguardrails and to trulens_eval that are not in their home repos. To run this\n",
    "notebook in the present form, you will have to run with versions located in\n",
    "specific branches. "
   ]
  },
  {
   "cell_type": "markdown",
   "metadata": {},
   "source": [
    "## Install requirements\n",
    "\n",
    "You need to run this notebook from within its location in the github repo, in the branch: `piotrm/trurails` found here: https://github.com/truera/trulens/tree/piotrm/trurails ."
   ]
  },
  {
   "cell_type": "code",
   "execution_count": null,
   "metadata": {},
   "outputs": [],
   "source": [
    "# Assuming you are viewing this notebook from there, lets find the root repo\n",
    "# path and add it to python paths:\n",
    "\n",
    "from pathlib import Path\n",
    "import sys\n",
    "\n",
    "base = Path().cwd()\n",
    "while not (base / \"trulens_eval\").exists():\n",
    "    if base == base.parent:\n",
    "        raise RuntimeError(\n",
    "            \"Could not find root directory of trulens_eval. \"\n",
    "            \"Are you running this from the repo folder?\"\n",
    "        )\n",
    "\n",
    "    base = base.parent\n",
    "    \n",
    "print(\"Found trulens here\", base)\n",
    "sys.path.append(str(base))\n",
    "\n",
    "# Check that we are in a branch that has TruRails implemented.\n",
    "import trulens_eval\n",
    "assert hasattr(trulens_eval, \"TruRails\"), \"You are not in the right branch.\""
   ]
  },
  {
   "cell_type": "code",
   "execution_count": null,
   "metadata": {},
   "outputs": [],
   "source": [
    "# If you have trulens_eval installed, you will need to uninstall it to make sure\n",
    "# it does not interfere with the imports from path set above.\n",
    "# ! pip uninstall -y trulens_eval\n",
    "\n",
    "# If you did not have trulens_eval installed in your current environment before,\n",
    "# you need to install its requirements:\n",
    "# ! pip install -r {base / \"trulens_eval\" / \"requirements.txt\"}\n",
    "\n",
    "# Examples require some small modifications to guardrails available in this branch:\n",
    "# ! pip install git+https://github.com/piotrm0/NeMo-Guardrails@piotrm/follow_symlinks_still\n",
    "\n",
    "# Finally, the nemo installation will downgrade pydantic which needs to reupgraded again:\n",
    "# ! pip install \"pydantic>=2\""
   ]
  },
  {
   "cell_type": "markdown",
   "metadata": {},
   "source": [
    "### Setup keys and trulens_eval"
   ]
  },
  {
   "cell_type": "code",
   "execution_count": null,
   "metadata": {},
   "outputs": [],
   "source": [
    "# This notebook uses openai and huggingface providers which need some keys set.\n",
    "# You can set them here:\n",
    "\n",
    "from trulens_eval.keys import check_or_set_keys\n",
    "check_or_set_keys(\n",
    "    OPENAI_API_KEY=\"to fill in\",\n",
    "    HUGGINGFACE_API_KEY=\"to fill in\"\n",
    ")\n",
    "\n",
    "# Load trulens, reset the database:\n",
    "from trulens_eval import Tru\n",
    "tru = Tru()\n",
    "tru.reset_database()"
   ]
  },
  {
   "cell_type": "markdown",
   "metadata": {},
   "source": [
    "## Feedback functions setup\n",
    "\n",
    "Lets consider some feedback functions. We will define two types: a simple\n",
    "language match that checks whether output of the app is in the same language as\n",
    "the input. The second is a set of three for evaluating context retrieval. The\n",
    "setup for these is similar to that for other app types such as langchain except\n",
    "we provide a utility `RAG_triad` to create the three context retrieval functions\n",
    "for you instead of having to create them seperately."
   ]
  },
  {
   "cell_type": "code",
   "execution_count": null,
   "metadata": {},
   "outputs": [],
   "source": [
    "from pprint import pprint\n",
    "\n",
    "from trulens_eval import Feedback\n",
    "from trulens_eval import Huggingface\n",
    "from trulens_eval import OpenAI\n",
    "from trulens_eval.feedback.feedback import rag_triad\n",
    "\n",
    "# Initialize provider classes\n",
    "openai = OpenAI()\n",
    "hugs = Huggingface()\n",
    "\n",
    "# Note that we do not specify the selectors (where the inputs to the feedback\n",
    "# functions come from):\n",
    "f_language_match = Feedback(hugs.language_match)\n",
    "\n",
    "fs_triad = rag_triad(provider=openai)\n",
    "\n",
    "# Overview of the 4 feedback functions defined.\n",
    "pprint(f_language_match)\n",
    "pprint(fs_triad)"
   ]
  },
  {
   "cell_type": "markdown",
   "metadata": {},
   "source": [
    "### Feedback functions registration\n",
    "\n",
    "To make feedback functions available to rails apps, we need to first register them the `FeedbackActions` class."
   ]
  },
  {
   "cell_type": "code",
   "execution_count": null,
   "metadata": {},
   "outputs": [],
   "source": [
    "from trulens_eval.tru_rails import FeedbackActions\n",
    "\n",
    "FeedbackActions.register_feedback_functions(**fs_triad)\n",
    "FeedbackActions.register_feedback_functions(f_language_match)"
   ]
  },
  {
   "cell_type": "markdown",
   "metadata": {},
   "source": [
    "## Rails app setup\n",
    "\n",
    "The files created below define a configuration of a rails app adapted from\n",
    "various examples in the NeMo-Guardrails repository. There is nothing unusual\n",
    "about the app beyond the knowledge base here being the trulens_eval\n",
    "documentation. This means you should be able to ask the resulting bot questions\n",
    "regarding trulens instead of the fictional company handbook as was the case in\n",
    "the originating example."
   ]
  },
  {
   "cell_type": "markdown",
   "metadata": {},
   "source": [
    "Note that new additions to output rail flows in the configuration below. These are setup to run our feedback functions but their definition will come in following colang file."
   ]
  },
  {
   "cell_type": "code",
   "execution_count": null,
   "metadata": {},
   "outputs": [],
   "source": [
    "from trulens_eval.utils.notebook_utils import writefileinterpolated"
   ]
  },
  {
   "cell_type": "code",
   "execution_count": null,
   "metadata": {},
   "outputs": [],
   "source": [
    "%%writefileinterpolated config.yaml\n",
    "# Adapted from NeMo-Guardrails/nemoguardrails/examples/bots/abc/config.yml\n",
    "instructions:\n",
    "  - type: general\n",
    "    content: |\n",
    "      Below is a conversation between a user and a bot called the trulens Bot.\n",
    "      The bot is designed to answer questions about the trulens_eval python library.\n",
    "      The bot is knowledgeable about python.\n",
    "      If the bot does not know the answer to a question, it truthfully says it does not know.\n",
    "\n",
    "sample_conversation: |\n",
    "  user \"Hi there. Can you help me with some questions I have about trulens?\"\n",
    "    express greeting and ask for assistance\n",
    "  bot express greeting and confirm and offer assistance\n",
    "    \"Hi there! I'm here to help answer any questions you may have about the trulens. What would you like to know?\"\n",
    "\n",
    "models:\n",
    "  - type: main\n",
    "    engine: openai\n",
    "    model: gpt-3.5-turbo-instruct\n",
    "\n",
    "rails:\n",
    "  output:\n",
    "    flows:\n",
    "      - check language match\n",
    "      # triad defined seperately so hopefully they can be executed in parallel\n",
    "      - check rag triad groundedness\n",
    "      - check rag triad relevance\n",
    "      - check rag triad qs_relevance"
   ]
  },
  {
   "cell_type": "markdown",
   "metadata": {},
   "source": [
    "### Output flows with feedback\n",
    "\n",
    "Next we define output flows that include checks using all 4 feedback functions we registered above. We will need to specify to the Feedback action the sources of feedback function arguments. The selectors for those can be specified manually or by way of utility container `RailsActionSelect`. The data structure from which selectors pick our feedback inputs contains all of the arguments of NeMo GuardRails custom action methods:\n",
    "\n",
    "```python\n",
    "    async def feedback(\n",
    "        events: Optional[List[Dict]] = None, \n",
    "        context: Optional[Dict] = None,\n",
    "        llm: Optional[BaseLanguageModel] = None,\n",
    "        config: Optional[RailsConfig] = None,\n",
    "        ...\n",
    "    )\n",
    "        ...\n",
    "        source_data = dict(\n",
    "            action=dict(\n",
    "                events=events,\n",
    "                context=context,\n",
    "                llm=llm,\n",
    "                config=config\n",
    "            )\n",
    "        )\n",
    "```"
   ]
  },
  {
   "cell_type": "code",
   "execution_count": null,
   "metadata": {},
   "outputs": [],
   "source": [
    "from trulens_eval.tru_rails import RailsActionSelect\n",
    "\n",
    "# Will need to refer to these selectors/lenses to define triade checks. We can\n",
    "# use these shorthands to make things a bit easier. If you are writing\n",
    "# non-temporary config files, you can print these lenses to help with the\n",
    "# selectors:\n",
    "\n",
    "question_lens = RailsActionSelect.LastUserMessage\n",
    "answer_lens = RailsActionSelect.BotMessage # not LastBotMessage as the flow is evaluated before LastBotMessage is available\n",
    "contexts_lens = RailsActionSelect.RetrievalContexts\n",
    "\n",
    "# Inspect the values of the shorthands:\n",
    "print(list(map(str, [question_lens, answer_lens, contexts_lens])))"
   ]
  },
  {
   "cell_type": "markdown",
   "metadata": {},
   "source": [
    "#### Action invocation\n",
    "\n",
    "We can now define output flows that evaluate feedback functions. These are the four \"subflow\"s in the colang below."
   ]
  },
  {
   "cell_type": "code",
   "execution_count": null,
   "metadata": {},
   "outputs": [],
   "source": [
    "%%writefileinterpolated config.co\n",
    "# Adapted from NeMo-Guardrails/tests/test_configs/with_kb_openai_embeddings/config.co\n",
    "define user ask capabilities\n",
    "  \"What can you do?\"\n",
    "  \"What can you help me with?\"\n",
    "  \"tell me what you can do\"\n",
    "  \"tell me about you\"\n",
    "\n",
    "define bot inform language mismatch\n",
    "  \"I may not be able to answer in your language.\"\n",
    "\n",
    "define bot inform triad failure\n",
    "  \"I may may have made a mistake interpreting your question or my knowledge base.\"\n",
    "\n",
    "define flow\n",
    "  user ask trulens\n",
    "  bot inform trulens\n",
    "\n",
    "define parallel subflow check language match\n",
    "  $result = execute feedback(\\\n",
    "    function=\"language_match\",\\\n",
    "    selectors={{\\\n",
    "      \"text1\":\"{question_lens}\",\\\n",
    "      \"text2\":\"{answer_lens}\"\\\n",
    "    }},\\\n",
    "    verbose=True\\\n",
    "  )\n",
    "  if $result < 0.8\n",
    "    bot inform language mismatch\n",
    "    stop\n",
    "\n",
    "define parallel subflow check rag triad groundedness\n",
    "  $result = execute feedback(\\\n",
    "    function=\"groundedness_measure_with_cot_reasons\",\\\n",
    "    selectors={{\\\n",
    "      \"statement\":\"{answer_lens}\",\\\n",
    "      \"source\":\"{contexts_lens}\"\\\n",
    "    }},\\\n",
    "    verbose=True\\\n",
    "  )\n",
    "  if $result < 0.7\n",
    "    bot inform triad failure\n",
    "    stop\n",
    "\n",
    "define parallel subflow check rag triad relevance\n",
    "  $result = execute feedback(\\\n",
    "    function=\"relevance\",\\\n",
    "    selectors={{\\\n",
    "      \"prompt\":\"{question_lens}\",\\\n",
    "      \"response\":\"{contexts_lens}\"\\\n",
    "    }},\\\n",
    "    verbose=True\\\n",
    "  )\n",
    "  if $result < 0.7\n",
    "    bot inform triad failure\n",
    "    stop\n",
    "\n",
    "define parallel subflow check rag triad qs_relevance\n",
    "  $result = execute feedback(\\\n",
    "    function=\"qs_relevance\",\\\n",
    "    selectors={{\\\n",
    "      \"question\":\"{question_lens}\",\\\n",
    "      \"statement\":\"{answer_lens}\"\\\n",
    "    }},\\\n",
    "    verbose=True\\\n",
    "  )\n",
    "  if $result < 0.7\n",
    "    bot inform triad failure\n",
    "    stop\n"
   ]
  },
  {
   "cell_type": "markdown",
   "metadata": {},
   "source": [
    "## Rails app instantiation\n",
    "\n",
    "The instantiation of the app does not differ from the steps presented in NeMo."
   ]
  },
  {
   "cell_type": "code",
   "execution_count": null,
   "metadata": {},
   "outputs": [],
   "source": [
    "from nemoguardrails import LLMRails, RailsConfig\n",
    "\n",
    "config = RailsConfig.from_path(\".\")\n",
    "rails = LLMRails(config)"
   ]
  },
  {
   "cell_type": "markdown",
   "metadata": {},
   "source": [
    "### Feedback action registration\n",
    "\n",
    "We need to register the method `FeedbackActions.feedback` as an action to be able to make use of it inside the flows we defined above."
   ]
  },
  {
   "cell_type": "code",
   "execution_count": null,
   "metadata": {},
   "outputs": [],
   "source": [
    "rails.register_action(FeedbackActions.feedback)"
   ]
  },
  {
   "cell_type": "markdown",
   "metadata": {},
   "source": [
    "## Optional `TruRails` recorder instantiation\n",
    "\n",
    "Though not required, we can also use a trulens_eval recorder to monitor our app."
   ]
  },
  {
   "cell_type": "code",
   "execution_count": null,
   "metadata": {},
   "outputs": [],
   "source": [
    "from trulens_eval import TruRails\n",
    "\n",
    "tru_rails = TruRails(rails)"
   ]
  },
  {
   "cell_type": "markdown",
   "metadata": {},
   "source": [
    "## Language match test invocation\n",
    "\n",
    "Lets try to make the app respond in a different language than the question to\n",
    "try to get the language match flow to abort the output. Note that the verbose\n",
    "flag in the feedback action we setup in the colang above makes it print out the\n",
    "inputs and output of the function."
   ]
  },
  {
   "cell_type": "code",
   "execution_count": null,
   "metadata": {},
   "outputs": [],
   "source": [
    "# This may fail the language match:\n",
    "with tru_rails as recorder:\n",
    "    response = await rails.generate_async(messages=[{\n",
    "        \"role\": \"user\",\n",
    "        \"content\": \"Please answer in Spanish: what does trulens_eval do?\"\n",
    "    }])\n",
    "    \n",
    "print(response['content'])"
   ]
  },
  {
   "cell_type": "code",
   "execution_count": null,
   "metadata": {},
   "outputs": [],
   "source": [
    "# Note that the feedbacks involved in the flow are NOT record feedbacks hence\n",
    "# not available in the usual place:\n",
    "\n",
    "record = recorder.get()\n",
    "print(record.feedback_results)"
   ]
  },
  {
   "cell_type": "code",
   "execution_count": null,
   "metadata": {},
   "outputs": [],
   "source": [
    "# This should be ok though sometimes answers in English and the RAG triad may\n",
    "# fail after language match passes.\n",
    "\n",
    "with tru_rails as recorder:\n",
    "    response = rails.generate(messages=[{\n",
    "        \"role\": \"user\",\n",
    "        \"content\": \"Por favor responda en español: ¿qué hace trulens_eval?\"\n",
    "    }])\n",
    "    \n",
    "print(response['content'])"
   ]
  },
  {
   "cell_type": "markdown",
   "metadata": {},
   "source": [
    "## RAG triad Test\n",
    "\n",
    "Lets check to make sure all 3 RAG feedback functions will run and hopefully\n",
    "pass. Note that the \"stop\" in their flow definitions means that if any one of\n",
    "them fails, no subsequent ones will be tested."
   ]
  },
  {
   "cell_type": "code",
   "execution_count": null,
   "metadata": {},
   "outputs": [],
   "source": [
    "# Should invoke retrieval:\n",
    "\n",
    "with tru_rails as recorder:\n",
    "    response = rails.generate(messages=[{\n",
    "        \"role\": \"user\",\n",
    "        \"content\": \"Does trulens support AzureOpenAI as a provider?\"\n",
    "    }])\n",
    "    \n",
    "print(response['content'])"
   ]
  }
 ],
 "metadata": {
  "kernelspec": {
   "display_name": "py311_trulens",
   "language": "python",
   "name": "python3"
  },
  "language_info": {
   "codemirror_mode": {
    "name": "ipython",
    "version": 3
   },
   "file_extension": ".py",
   "mimetype": "text/x-python",
   "name": "python",
   "nbconvert_exporter": "python",
   "pygments_lexer": "ipython3",
   "version": "3.11.6"
  }
 },
 "nbformat": 4,
 "nbformat_minor": 2
}
