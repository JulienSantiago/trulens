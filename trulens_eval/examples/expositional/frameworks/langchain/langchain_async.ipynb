{
 "cells": [
  {
   "attachments": {},
   "cell_type": "markdown",
   "metadata": {},
   "source": [
    "# Langchain Async\n",
    "\n",
    "One of the biggest pain-points developers discuss when trying to build useful LLM applications is latency; these applications often make multiple calls to LLM APIs, each one taking a few seconds. It can be quite a frustrating user experience to stare at a loading spinner for more than a couple seconds. Streaming helps reduce this perceived latency by returning the output of the LLM token by token, instead of all at once.\n",
    "\n",
    "This notebook demonstrates how to monitor a LangChain streaming app with TruLens.\n",
    "\n",
    "[![Open In Colab](https://colab.research.google.com/assets/colab-badge.svg)](https://colab.research.google.com/github/truera/trulens/blob/main/trulens_eval/examples/quickstart/langchain_async.ipynb)"
   ]
  },
  {
   "attachments": {},
   "cell_type": "markdown",
   "metadata": {},
   "source": [
    "### Import from LangChain and TruLens"
   ]
  },
  {
   "cell_type": "code",
   "execution_count": 1,
   "metadata": {},
   "outputs": [],
   "source": [
    "# ! pip install trulens_eval==0.18.1 langchain>=0.0.342"
   ]
  },
  {
   "cell_type": "code",
   "execution_count": 2,
   "metadata": {},
   "outputs": [],
   "source": [
    "import asyncio\n",
    "\n",
    "from langchain import LLMChain\n",
    "from langchain.prompts import PromptTemplate\n",
    "from langchain.callbacks import AsyncIteratorCallbackHandler\n",
    "from langchain.chains import LLMChain\n",
    "from langchain.chat_models.openai import ChatOpenAI\n",
    "from langchain.llms.openai import OpenAI\n",
    "from langchain.memory import ConversationSummaryBufferMemory\n",
    "\n",
    "from trulens_eval import Feedback\n",
    "from trulens_eval import feedback\n",
    "from trulens_eval import Tru\n",
    "import trulens_eval.utils.python  # makes sure asyncio gets instrumented"
   ]
  },
  {
   "attachments": {},
   "cell_type": "markdown",
   "metadata": {},
   "source": [
    "## Setup\n",
    "### Add API keys\n",
    "For this example you will need Huggingface and OpenAI keys"
   ]
  },
  {
   "cell_type": "code",
   "execution_count": 3,
   "metadata": {},
   "outputs": [],
   "source": [
    "import os\n",
    "os.environ[\"HUGGINGFACE_API_KEY\"] = \"hf_...\"\n",
    "os.environ[\"OPENAI_API_KEY\"] = \"sk-...\""
   ]
  },
  {
   "attachments": {},
   "cell_type": "markdown",
   "metadata": {},
   "source": [
    "### Create Async Application"
   ]
  },
  {
   "cell_type": "code",
   "execution_count": 4,
   "metadata": {},
   "outputs": [],
   "source": [
    "# Set up an async callback.\n",
    "callback = AsyncIteratorCallbackHandler()\n",
    "\n",
    "chatllm = ChatOpenAI(\n",
    "    temperature=0.0,\n",
    "    streaming=True # important\n",
    ")\n",
    "llm = OpenAI(\n",
    "    temperature=0.0,\n",
    ")\n",
    "\n",
    "memory = ConversationSummaryBufferMemory(\n",
    "    memory_key=\"chat_history\",\n",
    "    input_key=\"human_input\",\n",
    "    llm=llm,\n",
    "    max_token_limit=50\n",
    ")\n",
    "\n",
    "# Setup a simple question/answer chain with streaming ChatOpenAI.\n",
    "prompt = PromptTemplate(\n",
    "    input_variables=[\"human_input\", \"chat_history\"],\n",
    "    template='''\n",
    "    You are having a conversation with a person. Make small talk.\n",
    "    {chat_history}\n",
    "        Human: {human_input}\n",
    "        AI:'''\n",
    ")\n",
    "\n",
    "chain = LLMChain(llm=chatllm, prompt=prompt, memory=memory)"
   ]
  },
  {
   "attachments": {},
   "cell_type": "markdown",
   "metadata": {},
   "source": [
    "### Set up a language match feedback function."
   ]
  },
  {
   "cell_type": "code",
   "execution_count": 5,
   "metadata": {},
   "outputs": [
    {
     "name": "stdout",
     "output_type": "stream",
     "text": [
      "🦑 Tru initialized with db url sqlite:///default.sqlite .\n",
      "🛑 Secret keys may be written to the database. See the `database_redact_keys` option of `Tru` to prevent this.\n",
      "✅ In language_match, input text1 will be set to __record__.main_input or `Select.RecordInput` .\n",
      "✅ In language_match, input text2 will be set to __record__.main_output or `Select.RecordOutput` .\n"
     ]
    }
   ],
   "source": [
    "tru = Tru()\n",
    "hugs = feedback.Huggingface()\n",
    "f_lang_match = Feedback(hugs.language_match).on_input_output()"
   ]
  },
  {
   "attachments": {},
   "cell_type": "markdown",
   "metadata": {},
   "source": [
    "### Set up evaluation and tracking with TruLens"
   ]
  },
  {
   "cell_type": "code",
   "execution_count": 6,
   "metadata": {},
   "outputs": [],
   "source": [
    "# Example of how to also get filled-in prompt templates in timeline:\n",
    "from trulens_eval.instruments import instrument\n",
    "instrument.method(PromptTemplate, \"format\")\n",
    "\n",
    "tc = tru.Chain(\n",
    "    chain,\n",
    "    feedbacks=[f_lang_match],\n",
    "    app_id=\"chat_with_memory\"\n",
    ")"
   ]
  },
  {
   "cell_type": "code",
   "execution_count": 7,
   "metadata": {},
   "outputs": [
    {
     "name": "stdout",
     "output_type": "stream",
     "text": [
      "Components:\n",
      "\tTruChain (Other) at 0x142d7b310 with path __app__\n",
      "\tLLMChain (Other) at 0x132d31860 with path __app__.app\n",
      "\tConversationSummaryBufferMemory (Other) at 0x142f342d0 with path __app__.app.memory\n",
      "\tOpenAI (Other) at 0x13274a490 with path __app__.app.memory.llm\n",
      "\tPromptTemplate (Custom) at 0x132d33ca0 with path __app__.app.memory.prompt\n",
      "\tChatMessageHistory (Other) at 0x142f34150 with path __app__.app.memory.chat_memory\n",
      "\tPromptTemplate (Custom) at 0x142eb3160 with path __app__.app.prompt\n",
      "\tChatOpenAI (Other) at 0x142eb2120 with path __app__.app.llm\n",
      "\n",
      "Methods:\n",
      "Object at 0x132d31860:\n",
      "\t<function Chain.__call__ at 0x118a17600> with path __app__.app\n",
      "\t<function LLMChain._call at 0x118a45bc0> with path __app__.app\n",
      "\t<function LLMChain._acall at 0x118a46160> with path __app__.app\n",
      "\t<function Chain.acall at 0x118a176a0> with path __app__.app\n",
      "\t<function Chain._call at 0x118a174c0> with path __app__.app\n",
      "\t<function Chain._acall at 0x118a17560> with path __app__.app\n",
      "Object at 0x142f342d0:\n",
      "\t<function ConversationSummaryBufferMemory.save_context at 0x132267600> with path __app__.app.memory\n",
      "\t<function ConversationSummaryBufferMemory.clear at 0x1322676a0> with path __app__.app.memory\n",
      "\t<function BaseChatMemory.save_context at 0x1321f9300> with path __app__.app.memory\n",
      "\t<function BaseChatMemory.clear at 0x1321f93a0> with path __app__.app.memory\n",
      "Object at 0x132d33ca0:\n",
      "\t<function PromptTemplate.format at 0x11408f4c0> with path __app__.app.memory.prompt\n",
      "Object at 0x142eb3160:\n",
      "\t<function PromptTemplate.format at 0x11408f4c0> with path __app__.app.prompt\n"
     ]
    }
   ],
   "source": [
    "tc.print_instrumented()"
   ]
  },
  {
   "attachments": {},
   "cell_type": "markdown",
   "metadata": {},
   "source": [
    "### Start the TruLens dashboard"
   ]
  },
  {
   "cell_type": "code",
   "execution_count": 8,
   "metadata": {},
   "outputs": [
    {
     "name": "stdout",
     "output_type": "stream",
     "text": [
      "Starting dashboard ...\n"
     ]
    },
    {
     "data": {
      "application/vnd.jupyter.widget-view+json": {
       "model_id": "a4cdbaa9aa9641e9a2c2c515772cbcb8",
       "version_major": 2,
       "version_minor": 0
      },
      "text/plain": [
       "Accordion(children=(VBox(children=(VBox(children=(Label(value='STDOUT'), Output())), VBox(children=(Label(valu…"
      ]
     },
     "metadata": {},
     "output_type": "display_data"
    },
    {
     "name": "stdout",
     "output_type": "stream",
     "text": [
      "Dashboard started at http://192.168.4.23:8501 .\n"
     ]
    },
    {
     "data": {
      "text/plain": [
       "<Popen: returncode: None args: ['streamlit', 'run', '--server.headless=True'...>"
      ]
     },
     "execution_count": 8,
     "metadata": {},
     "output_type": "execute_result"
    }
   ],
   "source": [
    "tru.run_dashboard()"
   ]
  },
  {
   "attachments": {},
   "cell_type": "markdown",
   "metadata": {},
   "source": [
    "### Use the application"
   ]
  },
  {
   "cell_type": "code",
   "execution_count": 9,
   "metadata": {},
   "outputs": [
    {
     "name": "stdout",
     "output_type": "stream",
     "text": [
      "Hello! I'm an AI, so I don't have feelings, but I'm here to chat with you. How can I assist you today?"
     ]
    }
   ],
   "source": [
    "message = \"Hi. How are you?\"\n",
    "\n",
    "with tc as recording:\n",
    "    task = asyncio.create_task(\n",
    "        chain.acall(\n",
    "            inputs=dict(human_input=message, chat_history=[]),\n",
    "            callbacks=[callback]\n",
    "        )\n",
    "    )\n",
    "\n",
    "# Note, you either need to process all of the callback iterations or await task\n",
    "# for record to be available.\n",
    "\n",
    "async for token in callback.aiter():\n",
    "    print(token, end=\"\")\n",
    "\n",
    "# Make sure task was completed:\n",
    "await task\n",
    "record = recording.get()"
   ]
  }
 ],
 "metadata": {
  "kernelspec": {
   "display_name": "Python 3.11.4 ('agents')",
   "language": "python",
   "name": "python3"
  },
  "language_info": {
   "codemirror_mode": {
    "name": "ipython",
    "version": 3
   },
   "file_extension": ".py",
   "mimetype": "text/x-python",
   "name": "python",
   "nbconvert_exporter": "python",
   "pygments_lexer": "ipython3",
   "version": "3.11.5"
  },
  "orig_nbformat": 4,
  "vscode": {
   "interpreter": {
    "hash": "7d153714b979d5e6d08dd8ec90712dd93bff2c9b6c1f0c118169738af3430cd4"
   }
  }
 },
 "nbformat": 4,
 "nbformat_minor": 2
}
