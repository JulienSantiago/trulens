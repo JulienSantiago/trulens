{
 "cells": [
  {
   "cell_type": "markdown",
   "metadata": {},
   "source": [
    "# Selectors\n",
    "\n",
    "This notebook goes over \"selectors\", the specifiers of inputs to feedback functions. We go over what they are, how to define them, how to use them, and how to find the appropriate selector to look up the intended data from your app or record."
   ]
  },
  {
   "cell_type": "markdown",
   "metadata": {},
   "source": [
    "## Lenses\n",
    "\n",
    "Under the hood, selectors are \"lenses\", a construct to aid in accessing and modifying data structures without needing to know anything about the layout of those data structures.\n",
    "\n",
    "We begin with the conceptual introduction to lenses.\n",
    "\n",
    "Lenses are typically composed of a `getter` and `setter`, methods for retrieving the data named or pointed to by the lens, and for setting it."
   ]
  },
  {
   "cell_type": "code",
   "execution_count": 24,
   "metadata": {},
   "outputs": [],
   "source": [
    "from typing import Generic, TypeVar, Callable, Dict\n",
    "\n",
    "A = TypeVar(\"A\")\n",
    "B = TypeVar(\"B\")\n",
    "C = TypeVar(\"C\")\n",
    "\n",
    "from dataclasses import dataclass\n",
    "\n",
    "@dataclass\n",
    "class Lens(Generic[A, B]):\n",
    "    # Given a container of type A, get a value of type B from within it.\n",
    "    getter: Callable[[A], B]\n",
    "\n",
    "    # Given a container of type A and a value of type B, set the value of type B\n",
    "    # within the container. Return the new container. This should not modify the\n",
    "    # original.\n",
    "    setter: Callable[[A, B], A]"
   ]
  },
  {
   "cell_type": "code",
   "execution_count": 22,
   "metadata": {},
   "outputs": [
    {
     "name": "stdout",
     "output_type": "stream",
     "text": [
      "42\n",
      "{'key1': 43, 'key2': 100}\n"
     ]
    }
   ],
   "source": [
    "# A lens for accessing and modifying \"key1\" in a dictionary.\n",
    "\n",
    "key1: Lens[Dict, B] = Lens(\n",
    "    getter=lambda d: d[\"key1\"],\n",
    "    setter=lambda d, v: {**d, \"key1\": v}\n",
    ")\n",
    "\n",
    "some_dict = dict(key1=42, key2=100)\n",
    "\n",
    "# Use getter to get the value at \"key1\".\n",
    "print(key1.getter(some_dict))\n",
    "\n",
    "# Use the setter to modify/produce a new dict with a different value at \"key1\".\n",
    "print(key1.setter(some_dict, 43))"
   ]
  },
  {
   "cell_type": "code",
   "execution_count": 28,
   "metadata": {},
   "outputs": [
    {
     "name": "stdout",
     "output_type": "stream",
     "text": [
      "42\n",
      "{'key1': {'key1': 43}, 'key2': 100}\n"
     ]
    }
   ],
   "source": [
    "# Lenses can be used to devlve deeper into structures using composition. With\n",
    "# two lenses, we can chain them together:\n",
    "def compose(l1: Lens[A, B], l2: Lens[B, C]) -> Lens[A, C]:\n",
    "    return Lens(\n",
    "        getter=lambda a: l2.getter(l1.getter(a)),\n",
    "        setter=lambda a, b: l1.setter(a, l2.setter(l1.getter(a), b))\n",
    "    )\n",
    "\n",
    "key1_within_key1 = compose(key1, key1)\n",
    "\n",
    "some_nested_dict = dict(key1=dict(key1=42), key2=100)\n",
    "\n",
    "print(key1_within_key1.getter(some_nested_dict))\n",
    "print(key1_within_key1.setter(some_nested_dict, 43))"
   ]
  },
  {
   "cell_type": "markdown",
   "metadata": {},
   "source": [
    "## Lenses in trulens_eval"
   ]
  },
  {
   "cell_type": "markdown",
   "metadata": {},
   "source": [
    "### Iteration\n",
    "\n",
    "Lenses in trulens can pick out more than one item in a structure.\n",
    "\n",
    "The getter, named `get` in trulens_eval lenses produces an iterator instead of a single item. `get_sole_item` can be used instead if it is expected that the lens picks out only one item."
   ]
  },
  {
   "cell_type": "markdown",
   "metadata": {},
   "source": [
    "### Construction\n",
    "\n",
    "Lenses in trulens can be constructed by using the `Lens` object as if it was the object the lens is to be looking into. This produces lenses for the component named."
   ]
  },
  {
   "cell_type": "code",
   "execution_count": 43,
   "metadata": {},
   "outputs": [
    {
     "name": "stdout",
     "output_type": "stream",
     "text": [
      "42\n",
      "4\n",
      "<function <lambda> at 0x107129b20>\n"
     ]
    }
   ],
   "source": [
    "from trulens_eval.utils.serial import Lens\n",
    "\n",
    "lens_key1 = Lens()['key1'] # lens to get value at `key1` in a dictionary.\n",
    "\n",
    "# (We will explain `get_sole_item` vs `getter` or `get` later.)\n",
    "print(lens_key1.get_sole_item(some_dict))\n",
    "\n",
    "lens_3 = Lens()[3] # lens to get value at index 42 in a list.\n",
    "print(lens_3.get_sole_item([1, 2, 3, 4, 5]))\n",
    "\n",
    "lens_class = Lens().getter # lens to get value of attribute `getter` in an object.\n",
    "print(lens_class.get_sole_item(key1)) # key1 is a lens from earlier in this notebook\n"
   ]
  },
  {
   "cell_type": "markdown",
   "metadata": {},
   "source": [
    "### Attributes and keys\n",
    "\n",
    "You may have noticed that the lens `Lens()['key1']` is printed as `Lens().key1`.\n",
    "This is because lenses in trulens allow for attribute lookups to operate on\n",
    "dictionaries as if they were key lookups. The key-based lens constructor is thus\n",
    "made equal to the attribute one. This means you use the more convenient\n",
    "attribute notation to define lens for dictionary keys."
   ]
  },
  {
   "cell_type": "code",
   "execution_count": 44,
   "metadata": {},
   "outputs": [
    {
     "data": {
      "text/plain": [
       "True"
      ]
     },
     "execution_count": 44,
     "metadata": {},
     "output_type": "execute_result"
    }
   ],
   "source": [
    "Lens()['key1'] == Lens().key1"
   ]
  },
  {
   "cell_type": "markdown",
   "metadata": {},
   "source": [
    "### What is being selected from in trulens eval?"
   ]
  },
  {
   "cell_type": "code",
   "execution_count": 29,
   "metadata": {},
   "outputs": [],
   "source": [
    "from trulens_eval.schema import Select"
   ]
  },
  {
   "cell_type": "code",
   "execution_count": 51,
   "metadata": {},
   "outputs": [
    {
     "name": "stdout",
     "output_type": "stream",
     "text": [
      "__record__\n",
      "__app__\n",
      "__record__.app\n",
      "__record__.calls[-1]\n"
     ]
    }
   ],
   "source": [
    "# The record and app are put into a dictionary for lenses to select from:\n",
    "source_data = dict(\n",
    "    __record__ = ...,  # the Record object is placed here\n",
    "    __app__ = ... # The App object is placed here\n",
    ")\n",
    "\n",
    "# Utilities for select components.\n",
    "print(Select.Record)\n",
    "print(Select.App)\n",
    "\n",
    "# User's app is located inside trulens App class under `app`.\n",
    "\n",
    "# Calls made by app components are laid out in a record using\n",
    "# `Record.layout_calls_as_app` accessible here:\n",
    "print(Select.RecordCalls)\n",
    "\n",
    "# The main call (which is added to the call list last hence the -1):\n",
    "print(Select.RecordCall)"
   ]
  },
  {
   "cell_type": "markdown",
   "metadata": {},
   "source": []
  }
 ],
 "metadata": {
  "kernelspec": {
   "display_name": "py311_trulens",
   "language": "python",
   "name": "python3"
  },
  "language_info": {
   "codemirror_mode": {
    "name": "ipython",
    "version": 3
   },
   "file_extension": ".py",
   "mimetype": "text/x-python",
   "name": "python",
   "nbconvert_exporter": "python",
   "pygments_lexer": "ipython3",
   "version": "3.11.6"
  }
 },
 "nbformat": 4,
 "nbformat_minor": 2
}
