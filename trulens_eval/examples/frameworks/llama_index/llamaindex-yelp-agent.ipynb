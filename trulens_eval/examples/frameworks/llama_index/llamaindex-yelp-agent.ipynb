{
 "cells": [
  {
   "cell_type": "markdown",
   "metadata": {},
   "source": [
    "## Llama-Index Agents + Custom Evaluations"
   ]
  },
  {
   "cell_type": "code",
   "execution_count": 1,
   "metadata": {},
   "outputs": [],
   "source": [
    "# Setup OpenAI Agent\n",
    "from llama_index.agent import OpenAIAgent\n",
    "import openai\n",
    "openai.api_key = '...'"
   ]
  },
  {
   "cell_type": "code",
   "execution_count": 2,
   "metadata": {},
   "outputs": [],
   "source": [
    "import os\n",
    "os.environ[\"OPENAI_API_KEY\"] = \"...\"\n",
    "os.environ[\"HUGGINGFACE_API_KEY\"] = \"...\""
   ]
  },
  {
   "cell_type": "code",
   "execution_count": 3,
   "metadata": {},
   "outputs": [],
   "source": [
    "# Import and initialize our tool spec\n",
    "from llama_hub.tools.yelp.base import YelpToolSpec\n",
    "from llama_index.tools.tool_spec.load_and_search.base import LoadAndSearchToolSpec\n",
    "\n",
    "tool_spec = YelpToolSpec(api_key='...', client_id='...')"
   ]
  },
  {
   "cell_type": "code",
   "execution_count": 4,
   "metadata": {},
   "outputs": [],
   "source": [
    "def llm_standalone(prompt):\n",
    "    return openai.ChatCompletion.create(\n",
    "    model=\"gpt-3.5-turbo\",\n",
    "    messages=[\n",
    "            {\"role\": \"system\", \"content\": \"You are a question and answer bot, and you answer concisely.\"},\n",
    "            {\"role\": \"user\", \"content\": prompt}\n",
    "        ]\n",
    "    )[\"choices\"][0][\"message\"][\"content\"]"
   ]
  },
  {
   "cell_type": "code",
   "execution_count": 5,
   "metadata": {},
   "outputs": [
    {
     "data": {
      "text/plain": [
       "'Some popular restaurants in Toronto include Canoe, Richmond Station, Alo, Pai, Buca, and Nora Gray.'"
      ]
     },
     "execution_count": 5,
     "metadata": {},
     "output_type": "execute_result"
    }
   ],
   "source": [
    "llm_standalone(\"what are good restaurants in toronto?\")"
   ]
  },
  {
   "cell_type": "code",
   "execution_count": 6,
   "metadata": {},
   "outputs": [],
   "source": [
    "# Create the Agent with our tools\n",
    "tools = tool_spec.to_tool_list()\n",
    "agent = OpenAIAgent.from_tools(\n",
    "    [\n",
    "        *LoadAndSearchToolSpec.from_defaults(tools[0]).to_tool_list(),\n",
    "        *LoadAndSearchToolSpec.from_defaults(tools[1]).to_tool_list()\n",
    "    ],\n",
    "    verbose=True\n",
    ")"
   ]
  },
  {
   "cell_type": "code",
   "execution_count": 7,
   "metadata": {},
   "outputs": [
    {
     "name": "stdout",
     "output_type": "stream",
     "text": [
      "=== Calling Function ===\n",
      "Calling function: business_search with args: {\n",
      "  \"location\": \"Toronto\",\n",
      "  \"term\": \"restaurants\"\n",
      "}\n",
      "Got output: Content loaded! You can now search the information using read_business_search\n",
      "========================\n",
      "=== Calling Function ===\n",
      "Calling function: read_business_search with args: {\n",
      "  \"query\": \"good restaurants in Toronto\"\n",
      "}\n",
      "Got output: \n",
      "Mira, Pai Northern Thai Kitchen, Richmond Station, Rasa, Katsuya\n",
      "========================\n"
     ]
    },
    {
     "data": {
      "text/plain": [
       "AgentChatResponse(response='Here are some good restaurants in Toronto:\\n\\n1. Mira\\n2. Pai Northern Thai Kitchen\\n3. Richmond Station\\n4. Rasa\\n5. Katsuya\\n\\nThese restaurants offer a variety of cuisines and have received positive reviews. Enjoy your dining experience in Toronto!', sources=[ToolOutput(content='Content loaded! You can now search the information using read_business_search', tool_name='business_search', raw_input={'args': (), 'kwargs': {'location': 'Toronto', 'term': 'restaurants'}}, raw_output='Content loaded! You can now search the information using read_business_search'), ToolOutput(content='\\nMira, Pai Northern Thai Kitchen, Richmond Station, Rasa, Katsuya', tool_name='read_business_search', raw_input={'args': (), 'kwargs': {'query': 'good restaurants in Toronto'}}, raw_output='\\nMira, Pai Northern Thai Kitchen, Richmond Station, Rasa, Katsuya')])"
      ]
     },
     "execution_count": 7,
     "metadata": {},
     "output_type": "execute_result"
    }
   ],
   "source": [
    "agent.chat(\"what are good restaurants in toronto\")"
   ]
  },
  {
   "cell_type": "code",
   "execution_count": 8,
   "metadata": {},
   "outputs": [
    {
     "name": "stdout",
     "output_type": "stream",
     "text": [
      "✅ In definitive, input response will be set to *.__record__.main_output or `Select.RecordOutput` .\n"
     ]
    }
   ],
   "source": [
    "from trulens_eval import Feedback, OpenAI, Tru, TruBasicApp, TruLlama\n",
    "\n",
    "tru = Tru()\n",
    "\n",
    "class OpenAI_custom(OpenAI):\n",
    "    def definitive(self, response: str) -> float:\n",
    "\n",
    "        return float(openai.ChatCompletion.create(\n",
    "    model=\"gpt-3.5-turbo\",\n",
    "    messages=[\n",
    "            {\"role\": \"system\", \"content\": \"Your job is to rate how definitive the following text is on a scale of 1 to 10. Respond with the number only.\"},\n",
    "            {\"role\": \"user\", \"content\": response}\n",
    "        ]\n",
    "    )[\"choices\"][0][\"message\"][\"content\"]) / 10\n",
    "\n",
    "custom = OpenAI_custom()\n",
    "definitive = Feedback(custom.definitive).on_output()"
   ]
  },
  {
   "cell_type": "code",
   "execution_count": 9,
   "metadata": {},
   "outputs": [
    {
     "name": "stdout",
     "output_type": "stream",
     "text": [
      "Starting dashboard ...\n"
     ]
    },
    {
     "data": {
      "application/vnd.jupyter.widget-view+json": {
       "model_id": "789bccf2cb1149faba461dd2b7148ff2",
       "version_major": 2,
       "version_minor": 0
      },
      "text/plain": [
       "Accordion(children=(VBox(children=(VBox(children=(Label(value='STDOUT'), Output())), VBox(children=(Label(valu…"
      ]
     },
     "metadata": {},
     "output_type": "display_data"
    },
    {
     "name": "stdout",
     "output_type": "stream",
     "text": [
      "Dashboard started at http://192.168.4.23:8502 .\n"
     ]
    },
    {
     "data": {
      "text/plain": [
       "<Popen: returncode: None args: ['streamlit', 'run', '--server.headless=True'...>"
      ]
     },
     "execution_count": 9,
     "metadata": {},
     "output_type": "execute_result"
    }
   ],
   "source": [
    "tru.run_dashboard()"
   ]
  },
  {
   "cell_type": "code",
   "execution_count": 10,
   "metadata": {},
   "outputs": [
    {
     "name": "stdout",
     "output_type": "stream",
     "text": [
      "✅ app OpenAIChatCompletion -> default.sqlite\n",
      "✅ feedback def. feedback_definition_hash_67c1be2d40f9350281a8eae3a1fed572 -> default.sqlite\n"
     ]
    }
   ],
   "source": [
    "standalone_app = TruBasicApp(llm_standalone, app_id=\"OpenAIChatCompletion\", feedbacks=[definitive])"
   ]
  },
  {
   "cell_type": "code",
   "execution_count": 11,
   "metadata": {},
   "outputs": [
    {
     "name": "stdout",
     "output_type": "stream",
     "text": [
      "✅ app YelpAgent -> default.sqlite\n",
      "✅ feedback def. feedback_definition_hash_67c1be2d40f9350281a8eae3a1fed572 -> default.sqlite\n"
     ]
    }
   ],
   "source": [
    "yelp_app = TruLlama(agent,\n",
    "    app_id='YelpAgent',\n",
    "    feedbacks=[definitive])"
   ]
  },
  {
   "cell_type": "code",
   "execution_count": 23,
   "metadata": {},
   "outputs": [
    {
     "data": {
      "text/plain": [
       "(\"No, Orphan Andy's does not serve breakfast.\",\n",
       " Record(record_id='record_hash_56cd2d7fb4ee92766460c2c811d60a81', app_id='OpenAIChatCompletion', cost=Cost(n_requests=1, n_successful_requests=1, n_classes=0, n_tokens=45, n_prompt_tokens=34, n_completion_tokens=11, cost=7.300000000000001e-05), perf=Perf(start_time=datetime.datetime(2023, 7, 21, 8, 16, 9, 961327), end_time=datetime.datetime(2023, 7, 21, 8, 16, 10, 989521)), ts=datetime.datetime(2023, 7, 21, 8, 16, 10, 989549), tags='-', main_input=\"Does orphan andy's serve breakfast?\", main_output=\"No, Orphan Andy's does not serve breakfast.\", main_error='None', calls=[RecordAppCall(stack=(RecordAppCallMethod(path=JSONPath().app, method=Method(obj=Obj(cls=trulens_eval.tru_basic_app.TruWrapperApp, id=5389436560), name='<lambda>')),), args={'args': [\"Does orphan andy's serve breakfast?\"]}, rets=\"No, Orphan Andy's does not serve breakfast.\", error=None, perf=Perf(start_time=datetime.datetime(2023, 7, 21, 8, 16, 9, 997289), end_time=datetime.datetime(2023, 7, 21, 8, 16, 10, 989365)), pid=48483, tid=446073)]))"
      ]
     },
     "execution_count": 23,
     "metadata": {},
     "output_type": "execute_result"
    }
   ],
   "source": [
    "standalone_app.call_with_record(\"Does orphan andy's serve breakfast?\")"
   ]
  },
  {
   "cell_type": "code",
   "execution_count": 24,
   "metadata": {},
   "outputs": [
    {
     "name": "stdout",
     "output_type": "stream",
     "text": [
      "✅ record record_hash_56cd2d7fb4ee92766460c2c811d60a81 from OpenAIChatCompletion -> default.sqlite\n",
      "✅ feedback feedback_result_hash_d95e787617fa4d8b1d3c2afa4e688022 on record_hash_56cd2d7fb4ee92766460c2c811d60a81 -> default.sqlite\n",
      "=== Calling Function ===\n",
      "Calling function: business_search with args: {\n",
      "  \"location\": \"Orphan Andy's\",\n",
      "  \"term\": \"breakfast\"\n",
      "}\n",
      "Got output: Content loaded! You can now search the information using read_business_search\n",
      "========================\n",
      "=== Calling Function ===\n",
      "Calling function: read_business_search with args: {\n",
      "  \"query\": \"Does Orphan Andy's serve breakfast?\"\n",
      "}\n",
      "Got output: \n",
      "Yes, Orphan Andy's serves breakfast. This is indicated by the 'categories' field, which includes 'Breakfast & Brunch'.\n",
      "========================\n"
     ]
    },
    {
     "data": {
      "text/plain": [
       "Response(response=\"Yes, Orphan Andy's serves breakfast. They offer a variety of breakfast options as part of their menu.\", source_nodes=[], metadata=None)"
      ]
     },
     "execution_count": 24,
     "metadata": {},
     "output_type": "execute_result"
    },
    {
     "name": "stdout",
     "output_type": "stream",
     "text": [
      "✅ record record_hash_3801a3851a89fff93e0d9f6071c98e7c from YelpAgent -> default.sqlite\n",
      "✅ feedback feedback_result_hash_01ce04ac05a0afe053d9f85dc346eda9 on record_hash_3801a3851a89fff93e0d9f6071c98e7c -> default.sqlite\n"
     ]
    }
   ],
   "source": [
    "yelp_app.query(\"Does orphan andy's serve breakfast?\")"
   ]
  }
 ],
 "metadata": {
  "kernelspec": {
   "display_name": "Python 3.11.4 ('agent_example')",
   "language": "python",
   "name": "python3"
  },
  "language_info": {
   "codemirror_mode": {
    "name": "ipython",
    "version": 3
   },
   "file_extension": ".py",
   "mimetype": "text/x-python",
   "name": "python",
   "nbconvert_exporter": "python",
   "pygments_lexer": "ipython3",
   "version": "3.11.4"
  },
  "orig_nbformat": 4,
  "vscode": {
   "interpreter": {
    "hash": "9404565ab2271c01f32a5ebf202ce74a5a811d6909f1828a5ff1298ed34c2b97"
   }
  }
 },
 "nbformat": 4,
 "nbformat_minor": 2
}
