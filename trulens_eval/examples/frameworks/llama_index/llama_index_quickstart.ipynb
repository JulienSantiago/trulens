{
 "cells": [
  {
   "cell_type": "code",
   "execution_count": 1,
   "metadata": {},
   "outputs": [],
   "source": [
    "%load_ext autoreload\n",
    "%autoreload 2\n",
    "from pathlib import Path\n",
    "import sys\n",
    "\n",
    "sys.path.append(str(Path().cwd().parent.parent.parent.resolve()))"
   ]
  },
  {
   "attachments": {},
   "cell_type": "markdown",
   "metadata": {},
   "source": [
    "# Quickstart\n",
    "\n",
    "In this quickstart you will create a simple Llama Index App and learn how to log it and get feedback on an LLM response."
   ]
  },
  {
   "attachments": {},
   "cell_type": "markdown",
   "metadata": {},
   "source": [
    "## Setup\n",
    "\n",
    "### Install dependencies\n",
    "Let's install some of the dependencies for this notebook if we don't have them already"
   ]
  },
  {
   "cell_type": "code",
   "execution_count": 12,
   "metadata": {},
   "outputs": [
    {
     "name": "stdout",
     "output_type": "stream",
     "text": [
      "Package                       Version\n",
      "----------------------------- -----------\n",
      "accelerate                    0.19.0\n",
      "aiohttp                       3.8.4\n",
      "aiosignal                     1.3.1\n",
      "altair                        5.0.1\n",
      "anyio                         3.7.0\n",
      "appnope                       0.1.3\n",
      "argilla                       1.8.0\n",
      "argon2-cffi                   21.3.0\n",
      "argon2-cffi-bindings          21.2.0\n",
      "arrow                         1.2.3\n",
      "asttokens                     2.2.1\n",
      "async-timeout                 4.0.2\n",
      "attrs                         23.1.0\n",
      "backcall                      0.2.0\n",
      "backoff                       2.2.1\n",
      "backports.functools-lru-cache 1.6.4\n",
      "backports.zoneinfo            0.2.1\n",
      "beautifulsoup4                4.12.2\n",
      "bitarray                      2.7.5\n",
      "bleach                        6.0.0\n",
      "blinker                       1.6.2\n",
      "cachetools                    5.3.1\n",
      "certifi                       2023.5.7\n",
      "cffi                          1.15.1\n",
      "chardet                       5.1.0\n",
      "charset-normalizer            3.1.0\n",
      "click                         8.1.3\n",
      "cohere                        4.7.0\n",
      "comm                          0.1.3\n",
      "commonmark                    0.9.1\n",
      "contourpy                     1.0.7\n",
      "cryptography                  41.0.1\n",
      "cycler                        0.11.0\n",
      "dataclasses-json              0.5.7\n",
      "datasets                      2.12.0\n",
      "debugpy                       1.6.7\n",
      "decorator                     5.1.1\n",
      "defusedxml                    0.7.1\n",
      "Deprecated                    1.2.14\n",
      "dill                          0.3.6\n",
      "dnspython                     2.3.0\n",
      "docarray                      0.32.1\n",
      "et-xmlfile                    1.1.0\n",
      "exceptiongroup                1.1.1\n",
      "executing                     1.2.0\n",
      "fairscale                     0.4.13\n",
      "Faker                         18.10.1\n",
      "fastjsonschema                2.17.1\n",
      "favicon                       0.7.0\n",
      "filelock                      3.12.0\n",
      "fire                          0.5.0\n",
      "fonttools                     4.39.4\n",
      "fqdn                          1.5.1\n",
      "frozendict                    2.3.8\n",
      "frozenlist                    1.3.3\n",
      "fsspec                        2023.5.0\n",
      "gitdb                         4.0.10\n",
      "GitPython                     3.1.31\n",
      "h11                           0.14.0\n",
      "hiq-python                    1.1.12\n",
      "hnswlib                       0.7.0\n",
      "htbuilder                     0.6.1\n",
      "httpcore                      0.16.3\n",
      "httpx                         0.23.3\n",
      "huggingface-hub               0.15.1\n",
      "humanize                      4.6.0\n",
      "idna                          3.4\n",
      "importlib-metadata            6.6.0\n",
      "importlib-resources           5.12.0\n",
      "intercepts                    0.4.0\n",
      "ipykernel                     6.23.1\n",
      "ipython                       8.4.0\n",
      "ipython-genutils              0.2.0\n",
      "ipywidgets                    8.0.6\n",
      "isoduration                   20.11.0\n",
      "jedi                          0.18.2\n",
      "Jinja2                        3.1.2\n",
      "joblib                        1.2.0\n",
      "jsonpointer                   2.3\n",
      "jsonschema                    4.17.3\n",
      "jupyter                       1.0.0\n",
      "jupyter_client                8.2.0\n",
      "jupyter-console               6.6.3\n",
      "jupyter_core                  5.3.0\n",
      "jupyter-events                0.6.3\n",
      "jupyter_server                2.6.0\n",
      "jupyter_server_terminals      0.4.4\n",
      "jupyterlab-pygments           0.2.2\n",
      "jupyterlab-widgets            3.0.7\n",
      "kaggle                        1.5.13\n",
      "kiwisolver                    1.4.4\n",
      "langchain                     0.0.230\n",
      "langchainplus-sdk             0.0.20\n",
      "llama-index                   0.7.0\n",
      "loguru                        0.7.0\n",
      "lxml                          4.9.2\n",
      "Markdown                      3.4.3\n",
      "markdown-it-py                2.2.0\n",
      "markdownlit                   0.0.7\n",
      "MarkupSafe                    2.1.2\n",
      "marshmallow                   3.19.0\n",
      "marshmallow-enum              1.5.1\n",
      "matplotlib                    3.7.1\n",
      "matplotlib-inline             0.1.6\n",
      "mdurl                         0.1.2\n",
      "merkle-json                   1.0.0\n",
      "millify                       0.1.1\n",
      "mistune                       2.0.5\n",
      "monotonic                     1.6\n",
      "more-itertools                9.1.0\n",
      "mpmath                        1.3.0\n",
      "msg-parser                    1.2.0\n",
      "multidict                     6.0.4\n",
      "multiprocess                  0.70.14\n",
      "munch                         3.0.0\n",
      "mypy-extensions               1.0.0\n",
      "nbclassic                     1.0.0\n",
      "nbclient                      0.8.0\n",
      "nbconvert                     7.4.0\n",
      "nbformat                      5.9.0\n",
      "nbmerge                       0.0.4\n",
      "nest-asyncio                  1.5.6\n",
      "networkx                      3.1\n",
      "nltk                          3.8.1\n",
      "notebook                      6.5.4\n",
      "notebook_shim                 0.2.3\n",
      "numexpr                       2.8.4\n",
      "numpy                         1.23.5\n",
      "olefile                       0.46\n",
      "openai                        0.27.7\n",
      "openapi-schema-pydantic       1.2.4\n",
      "openpyxl                      3.1.2\n",
      "orjson                        3.9.0\n",
      "overrides                     7.3.1\n",
      "packaging                     23.1\n",
      "pandas                        1.5.3\n",
      "pandocfilters                 1.5.0\n",
      "parso                         0.8.3\n",
      "pdfminer.six                  20221105\n",
      "pdfreader                     0.1.12\n",
      "pexpect                       4.8.0\n",
      "pickleshare                   0.7.5\n",
      "Pillow                        9.5.0\n",
      "pinecone-client               2.2.1\n",
      "pip                           23.1.2\n",
      "pkgutil_resolve_name          1.3.10\n",
      "platformdirs                  3.5.1\n",
      "prometheus-client             0.17.0\n",
      "prompt-toolkit                3.0.38\n",
      "protobuf                      4.23.2\n",
      "psutil                        5.9.5\n",
      "ptyprocess                    0.7.0\n",
      "pure-eval                     0.2.2\n",
      "py-itree                      0.0.19\n",
      "pyarrow                       12.0.0\n",
      "pycparser                     2.21\n",
      "pycryptodome                  3.18.0\n",
      "pydantic                      1.10.8\n",
      "pydeck                        0.8.1b0\n",
      "Pygments                      2.15.1\n",
      "pyllama                       0.0.9\n",
      "pymdown-extensions            10.0.1\n",
      "Pympler                       1.0.1\n",
      "pypandoc                      1.11\n",
      "pyparsing                     3.0.9\n",
      "pypdf                         3.9.0\n",
      "pyrsistent                    0.19.3\n",
      "python-dateutil               2.8.2\n",
      "python-decouple               3.8\n",
      "python-docx                   0.8.11\n",
      "python-dotenv                 1.0.0\n",
      "python-json-logger            2.0.7\n",
      "python-magic                  0.4.27\n",
      "python-pptx                   0.6.21\n",
      "python-slugify                8.0.1\n",
      "pytz                          2023.3\n",
      "pytz-deprecation-shim         0.1.0.post0\n",
      "PyYAML                        6.0\n",
      "pyzmq                         25.1.0\n",
      "qtconsole                     5.4.3\n",
      "QtPy                          2.3.1\n",
      "regex                         2023.5.5\n",
      "requests                      2.31.0\n",
      "responses                     0.18.0\n",
      "rfc3339-validator             0.1.4\n",
      "rfc3986                       1.5.0\n",
      "rfc3986-validator             0.1.1\n",
      "rich                          13.4.1\n",
      "Send2Trash                    1.8.2\n",
      "sentencepiece                 0.1.97\n",
      "setuptools                    67.7.2\n",
      "six                           1.16.0\n",
      "slack-bolt                    1.18.0\n",
      "slack-sdk                     3.21.3\n",
      "smmap                         5.0.0\n",
      "sniffio                       1.3.0\n",
      "soupsieve                     2.4.1\n",
      "SQLAlchemy                    2.0.15\n",
      "st-annotated-text             4.0.0\n",
      "stack-data                    0.6.2\n",
      "streamlit                     1.23.1\n",
      "streamlit-aggrid              0.3.4.post3\n",
      "streamlit-camera-input-live   0.2.0\n",
      "streamlit-card                0.0.4\n",
      "streamlit-embedcode           0.1.2\n",
      "streamlit-extras              0.2.7\n",
      "streamlit-faker               0.0.2\n",
      "streamlit-image-coordinates   0.1.3\n",
      "streamlit-javascript          0.1.5\n",
      "streamlit-keyup               0.2.0\n",
      "streamlit-toggle-switch       1.0.2\n",
      "streamlit-vertical-slider     1.0.2\n",
      "sympy                         1.12\n",
      "tabulate                      0.9.0\n",
      "tenacity                      8.2.2\n",
      "termcolor                     2.3.0\n",
      "terminado                     0.17.1\n",
      "text-unidecode                1.3\n",
      "tiktoken                      0.4.0\n",
      "tinycss2                      1.2.1\n",
      "tinydb                        4.7.1\n",
      "tokenizers                    0.13.3\n",
      "toml                          0.10.2\n",
      "toolz                         0.12.0\n",
      "torch                         2.0.1\n",
      "tornado                       6.3.2\n",
      "tqdm                          4.65.0\n",
      "traitlets                     5.9.0\n",
      "transformers                  4.29.2\n",
      "typer                         0.9.0\n",
      "types-requests                2.31.0.1\n",
      "types-urllib3                 1.26.25.13\n",
      "typing_extensions             4.5.0\n",
      "typing-inspect                0.8.0\n",
      "tzdata                        2023.3\n",
      "tzlocal                       4.3\n",
      "unstructured                  0.7.1\n",
      "uri-template                  1.2.0\n",
      "url-normalize                 1.4.3\n",
      "urllib3                       1.26.16\n",
      "validators                    0.20.0\n",
      "watchdog                      3.0.0\n",
      "wcwidth                       0.2.6\n",
      "webcolors                     1.13\n",
      "webencodings                  0.5.1\n",
      "websocket-client              1.5.3\n",
      "wheel                         0.40.0\n",
      "widgetsnbextension            4.0.7\n",
      "wrapt                         1.14.1\n",
      "xlrd                          2.0.1\n",
      "XlsxWriter                    3.1.2\n",
      "xxhash                        3.2.0\n",
      "yarl                          1.9.2\n",
      "zipp                          3.15.0\n"
     ]
    }
   ],
   "source": [
    "! pip list"
   ]
  },
  {
   "cell_type": "code",
   "execution_count": 2,
   "metadata": {},
   "outputs": [],
   "source": [
    "# !pip install trulens-eval\n",
    "# !pip install llama_index==0.7.0"
   ]
  },
  {
   "attachments": {},
   "cell_type": "markdown",
   "metadata": {},
   "source": [
    "### Add API keys\n",
    "For this quickstart, you will need Open AI and Huggingface keys"
   ]
  },
  {
   "cell_type": "code",
   "execution_count": 3,
   "metadata": {},
   "outputs": [
    {
     "name": "stdout",
     "output_type": "stream",
     "text": [
      "✅ Key OPENAI_API_KEY set from environment (same value found in .env file at /Users/piotrm/Dropbox/repos/github/trulens/.env).\n",
      "✅ Key HUGGINGFACE_API_KEY set from environment (same value found in .env file at /Users/piotrm/Dropbox/repos/github/trulens/.env).\n",
      "✅ Key PINECONE_API_KEY set from environment (same value found in .env file at /Users/piotrm/Dropbox/repos/github/trulens/.env).\n",
      "✅ Key PINECONE_ENV set from environment (same value found in .env file at /Users/piotrm/Dropbox/repos/github/trulens/.env).\n"
     ]
    }
   ],
   "source": [
    "# import os\n",
    "# os.environ[\"OPENAI_API_KEY\"] = \"...\"\n",
    "# os.environ[\"HUGGINGFACE_API_KEY\"] = \"...\"\n",
    "from trulens_eval.keys import check_or_set_keys\n",
    "\n",
    "check_or_set_keys(\n",
    "    OPENAI_API_KEY=\"to fill in\",\n",
    "    HUGGINGFACE_API_KEY=\"to fill in\",\n",
    "    PINECONE_API_KEY=\"to fill in\",\n",
    "    PINECONE_ENV=\"to fill in\"\n",
    ")"
   ]
  },
  {
   "attachments": {},
   "cell_type": "markdown",
   "metadata": {},
   "source": [
    "### Import from LlamaIndex and TruLens"
   ]
  },
  {
   "cell_type": "code",
   "execution_count": 4,
   "metadata": {},
   "outputs": [],
   "source": [
    "# Imports main tools:\n",
    "from trulens_eval import TruLlama, Feedback, Tru, feedback\n",
    "tru = Tru()"
   ]
  },
  {
   "attachments": {},
   "cell_type": "markdown",
   "metadata": {},
   "source": [
    "### Create Simple LLM Application\n",
    "\n",
    "This example uses LlamaIndex which internally uses an OpenAI LLM."
   ]
  },
  {
   "cell_type": "code",
   "execution_count": 5,
   "metadata": {},
   "outputs": [],
   "source": [
    "# LLama Index starter example from: https://gpt-index.readthedocs.io/en/latest/getting_started/starter_example.html\n",
    "# In order to run this, download into data/ Paul Graham's Essay 'What I Worked On' from https://github.com/jerryjliu/llama_index/blob/main/examples/paul_graham_essay/data/paul_graham_essay.txt \n",
    "\n",
    "from llama_index import VectorStoreIndex, SimpleDirectoryReader\n",
    "\n",
    "documents = SimpleDirectoryReader('data').load_data()\n",
    "index = VectorStoreIndex.from_documents(documents)\n",
    "\n",
    "query_engine = index.as_query_engine()"
   ]
  },
  {
   "attachments": {},
   "cell_type": "markdown",
   "metadata": {},
   "source": [
    "### Send your first request"
   ]
  },
  {
   "cell_type": "code",
   "execution_count": 6,
   "metadata": {},
   "outputs": [
    {
     "name": "stdout",
     "output_type": "stream",
     "text": [
      "\n",
      "Growing up, the author wrote short stories, experimented with programming on an IBM 1401, nagged his father to buy a TRS-80, wrote simple games, a program to predict how high his model rockets would fly, and a word processor. He also studied philosophy in college, but switched to AI after finding it boring. He worked on building the infrastructure of the web, wrote essays, and did some painting. He also had dinners for a group of friends every Thursday night and bought a building in Cambridge.\n"
     ]
    }
   ],
   "source": [
    "response = query_engine.query(\"What did the author do growing up?\")\n",
    "print(response)"
   ]
  },
  {
   "attachments": {},
   "cell_type": "markdown",
   "metadata": {},
   "source": [
    "## Initialize Feedback Function(s)"
   ]
  },
  {
   "cell_type": "code",
   "execution_count": 7,
   "metadata": {},
   "outputs": [
    {
     "name": "stdout",
     "output_type": "stream",
     "text": [
      "✅ In language_match, input text1 will be set to *.__record__.main_input or `Select.RecordInput` .\n",
      "✅ In language_match, input text2 will be set to *.__record__.main_output or `Select.RecordOutput` .\n",
      "✅ In relevance, input prompt will be set to *.__record__.main_input or `Select.RecordInput` .\n",
      "✅ In relevance, input response will be set to *.__record__.main_output or `Select.RecordOutput` .\n",
      "✅ In qs_relevance, input question will be set to *.__record__.main_input or `Select.RecordInput` .\n",
      "✅ In qs_relevance, input statement will be set to *.__record__.app.query.rets.source_nodes[:].node.text .\n"
     ]
    }
   ],
   "source": [
    "import numpy as np\n",
    "\n",
    "# Initialize Huggingface-based feedback function collection class:\n",
    "hugs = feedback.Huggingface()\n",
    "openai = feedback.OpenAI()\n",
    "\n",
    "# Define a language match feedback function using HuggingFace.\n",
    "f_lang_match = Feedback(hugs.language_match).on_input_output()\n",
    "# By default this will check language match on the main app input and main app\n",
    "# output.\n",
    "\n",
    "# Question/answer relevance between overall question and answer.\n",
    "f_qa_relevance = Feedback(openai.relevance).on_input_output()\n",
    "\n",
    "# Question/statement relevance between question and each context chunk.\n",
    "f_qs_relevance = Feedback(openai.qs_relevance).on_input().on(\n",
    "    TruLlama.select_source_nodes().node.text\n",
    ").aggregate(np.min)"
   ]
  },
  {
   "attachments": {},
   "cell_type": "markdown",
   "metadata": {},
   "source": [
    "## Instrument chain for logging with TruLens"
   ]
  },
  {
   "cell_type": "code",
   "execution_count": 8,
   "metadata": {},
   "outputs": [
    {
     "name": "stdout",
     "output_type": "stream",
     "text": [
      "✅ app LlamaIndex_App1 -> default.sqlite\n",
      "✅ feedback def. feedback_definition_hash_a2972a1d61f07ca7f4fb930ffa1dfd18 -> default.sqlite\n",
      "✅ feedback def. feedback_definition_hash_8912d6418f3eef2ab79dfd62645b00d9 -> default.sqlite\n",
      "✅ feedback def. feedback_definition_hash_2bf9e5ee101927596a827f3b4909789c -> default.sqlite\n"
     ]
    }
   ],
   "source": [
    "tru_query_engine = TruLlama(query_engine,\n",
    "    app_id='LlamaIndex_App1',\n",
    "    feedbacks=[f_lang_match, f_qa_relevance, f_qs_relevance])"
   ]
  },
  {
   "cell_type": "code",
   "execution_count": 9,
   "metadata": {},
   "outputs": [
    {
     "name": "stdout",
     "output_type": "stream",
     "text": [
      "\n",
      "Growing up, the author wrote short stories, experimented with programming on an IBM 1401, nagged his father to buy a TRS-80 computer, wrote simple games, a program to predict how high his model rockets would fly, and a word processor. He also studied philosophy in college, switched to AI, and worked on building the infrastructure of the web. He wrote essays and published them online, had dinners for a group of friends every Thursday night, painted, and bought a building in Cambridge.\n",
      "✅ record record_hash_089fa363b280a3c2f811147c5ca9cc06 from LlamaIndex_App1 -> default.sqlite"
     ]
    }
   ],
   "source": [
    "# Instrumented query engine can operate like the original:\n",
    "llm_response = tru_query_engine.query(\"What did the author do growing up?\")\n",
    "\n",
    "print(llm_response)"
   ]
  },
  {
   "attachments": {},
   "cell_type": "markdown",
   "metadata": {},
   "source": [
    "## Explore in a Dashboard"
   ]
  },
  {
   "cell_type": "code",
   "execution_count": 11,
   "metadata": {},
   "outputs": [
    {
     "name": "stdout",
     "output_type": "stream",
     "text": [
      "Starting dashboard ...\n"
     ]
    },
    {
     "data": {
      "application/vnd.jupyter.widget-view+json": {
       "model_id": "d5bd9dfbba8e4575ae03b00ae8955f92",
       "version_major": 2,
       "version_minor": 0
      },
      "text/plain": [
       "Accordion(children=(VBox(children=(VBox(children=(Label(value='STDOUT'), Output())), VBox(children=(Label(valu…"
      ]
     },
     "metadata": {},
     "output_type": "display_data"
    },
    {
     "name": "stdout",
     "output_type": "stream",
     "text": [
      "Dashboard started at http://192.168.1.251:8502 .\n"
     ]
    },
    {
     "data": {
      "text/plain": [
       "<subprocess.Popen at 0x16e280af0>"
      ]
     },
     "execution_count": 11,
     "metadata": {},
     "output_type": "execute_result"
    }
   ],
   "source": [
    "tru.run_dashboard(force=True, _dev=Path().cwd().parent.parent.parent.resolve()) # open a local streamlit app to explore\n",
    "\n",
    "# tru.stop_dashboard() # stop if needed"
   ]
  },
  {
   "attachments": {},
   "cell_type": "markdown",
   "metadata": {},
   "source": [
    "Alternatively, you can run `trulens-eval` from a command line in the same folder to start the dashboard."
   ]
  },
  {
   "attachments": {},
   "cell_type": "markdown",
   "metadata": {},
   "source": [
    "### Leaderboard\n",
    "\n",
    "Understand how your LLM application is performing at a glance. Once you've set up logging and evaluation in your application, you can view key performance statistics including cost and average feedback value across all of your LLM apps using the chain leaderboard. As you iterate new versions of your LLM application, you can compare their performance across all of the different quality metrics you've set up.\n",
    "\n",
    "Note: Average feedback values are returned and displayed in a range from 0 (worst) to 1 (best).\n",
    "\n",
    "![Chain Leaderboard](https://www.trulens.org/Assets/image/Leaderboard.png)\n",
    "\n",
    "To dive deeper on a particular chain, click \"Select Chain\".\n",
    "\n",
    "### Understand chain performance with Evaluations\n",
    " \n",
    "To learn more about the performance of a particular chain or LLM model, we can select it to view its evaluations at the record level. LLM quality is assessed through the use of feedback functions. Feedback functions are extensible methods for determining the quality of LLM responses and can be applied to any downstream LLM task. Out of the box we provide a number of feedback functions for assessing model agreement, sentiment, relevance and more.\n",
    "\n",
    "The evaluations tab provides record-level metadata and feedback on the quality of your LLM application.\n",
    "\n",
    "![Evaluations](https://www.trulens.org/Assets/image/Leaderboard.png)\n",
    "\n",
    "### Deep dive into full chain metadata\n",
    "\n",
    "Click on a record to dive deep into all of the details of your chain stack and underlying LLM, captured by tru_chain.\n",
    "\n",
    "![Explore a Chain](https://www.trulens.org/Assets/image/Chain_Explore.png)\n",
    "\n",
    "If you prefer the raw format, you can quickly get it using the \"Display full chain json\" or \"Display full record json\" buttons at the bottom of the page."
   ]
  },
  {
   "attachments": {},
   "cell_type": "markdown",
   "metadata": {},
   "source": [
    "Note: Feedback functions evaluated in the deferred manner can be seen in the \"Progress\" page of the TruLens dashboard."
   ]
  },
  {
   "attachments": {},
   "cell_type": "markdown",
   "metadata": {},
   "source": [
    "## Or view results directly in your notebook"
   ]
  },
  {
   "cell_type": "code",
   "execution_count": null,
   "metadata": {},
   "outputs": [],
   "source": [
    "tru.get_records_and_feedback(app_ids=[])[0] # pass an empty list of app_ids to get all"
   ]
  }
 ],
 "metadata": {
  "kernelspec": {
   "display_name": "Python 3 (ipykernel)",
   "language": "python",
   "name": "python3"
  },
  "language_info": {
   "codemirror_mode": {
    "name": "ipython",
    "version": 3
   },
   "file_extension": ".py",
   "mimetype": "text/x-python",
   "name": "python",
   "nbconvert_exporter": "python",
   "pygments_lexer": "ipython3",
   "version": "3.8.16"
  },
  "vscode": {
   "interpreter": {
    "hash": "d5737f6101ac92451320b0e41890107145710b89f85909f3780d702e7818f973"
   }
  }
 },
 "nbformat": 4,
 "nbformat_minor": 2
}
