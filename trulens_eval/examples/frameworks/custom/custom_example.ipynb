{
 "cells": [
  {
   "cell_type": "code",
   "execution_count": 1,
   "metadata": {},
   "outputs": [
    {
     "data": {
      "text/plain": [
       "\"\\nimport logging\\nroot = logging.getLogger()\\nroot.setLevel(logging.DEBUG)\\n\\nhandler = logging.StreamHandler(sys.stdout)\\nhandler.setLevel(logging.DEBUG)\\nformatter = logging.Formatter('%(asctime)s - %(name)s - %(levelname)s - %(message)s')\\nhandler.setFormatter(formatter)\\nroot.addHandler(handler)\\n\""
      ]
     },
     "execution_count": 1,
     "metadata": {},
     "output_type": "execute_result"
    }
   ],
   "source": [
    "%load_ext autoreload\n",
    "%autoreload 2\n",
    "from pathlib import Path\n",
    "import sys\n",
    "\n",
    "# If running from github repo, can use this:\n",
    "sys.path.append(str(Path().cwd().parent.parent.parent.resolve()))\n",
    "\n",
    "\"\"\"\n",
    "import logging\n",
    "root = logging.getLogger()\n",
    "root.setLevel(logging.DEBUG)\n",
    "\n",
    "handler = logging.StreamHandler(sys.stdout)\n",
    "handler.setLevel(logging.DEBUG)\n",
    "formatter = logging.Formatter('%(asctime)s - %(name)s - %(levelname)s - %(message)s')\n",
    "handler.setFormatter(formatter)\n",
    "root.addHandler(handler)\n",
    "\"\"\""
   ]
  },
  {
   "cell_type": "code",
   "execution_count": 2,
   "metadata": {},
   "outputs": [],
   "source": [
    "from custom_app import CustomApp\n",
    "from trulens_eval.tru_custom_app import TruCustomApp\n",
    "from trulens_eval import Select\n",
    "\n",
    "from trulens_eval import Tru\n",
    "# Tru object manages the database of apps, records, and feedbacks; and the\n",
    "# dashboard to display these.\n",
    "tru = Tru()\n",
    "\n",
    "tru.reset_database()"
   ]
  },
  {
   "cell_type": "code",
   "execution_count": 3,
   "metadata": {},
   "outputs": [
    {
     "ename": "AttributeError",
     "evalue": "'function' object has no attribute '__self__'",
     "output_type": "error",
     "traceback": [
      "\u001b[0;31m---------------------------------------------------------------------------\u001b[0m",
      "\u001b[0;31mAttributeError\u001b[0m                            Traceback (most recent call last)",
      "\u001b[1;32m/Users/piotrm/Dropbox/repos/github/trulens/trulens_eval/examples/frameworks/custom/custom_example.ipynb Cell 3\u001b[0m in \u001b[0;36m<cell line: 2>\u001b[0;34m()\u001b[0m\n\u001b[1;32m      <a href='vscode-notebook-cell:/Users/piotrm/Dropbox/repos/github/trulens/trulens_eval/examples/frameworks/custom/custom_example.ipynb#X16sZmlsZQ%3D%3D?line=0'>1</a>\u001b[0m ca \u001b[39m=\u001b[39m CustomApp()\n\u001b[0;32m----> <a href='vscode-notebook-cell:/Users/piotrm/Dropbox/repos/github/trulens/trulens_eval/examples/frameworks/custom/custom_example.ipynb#X16sZmlsZQ%3D%3D?line=1'>2</a>\u001b[0m ta \u001b[39m=\u001b[39m TruCustomApp(\n\u001b[1;32m      <a href='vscode-notebook-cell:/Users/piotrm/Dropbox/repos/github/trulens/trulens_eval/examples/frameworks/custom/custom_example.ipynb#X16sZmlsZQ%3D%3D?line=2'>3</a>\u001b[0m     ca,\n\u001b[1;32m      <a href='vscode-notebook-cell:/Users/piotrm/Dropbox/repos/github/trulens/trulens_eval/examples/frameworks/custom/custom_example.ipynb#X16sZmlsZQ%3D%3D?line=3'>4</a>\u001b[0m     app_id\u001b[39m=\u001b[39;49m\u001b[39m\"\u001b[39;49m\u001b[39mcustomapp\u001b[39;49m\u001b[39m\"\u001b[39;49m,\n\u001b[1;32m      <a href='vscode-notebook-cell:/Users/piotrm/Dropbox/repos/github/trulens/trulens_eval/examples/frameworks/custom/custom_example.ipynb#X16sZmlsZQ%3D%3D?line=4'>5</a>\u001b[0m     \u001b[39m# feedbacks=[],\u001b[39;49;00m\n\u001b[1;32m      <a href='vscode-notebook-cell:/Users/piotrm/Dropbox/repos/github/trulens/trulens_eval/examples/frameworks/custom/custom_example.ipynb#X16sZmlsZQ%3D%3D?line=5'>6</a>\u001b[0m     \u001b[39m#methods_to_instrument={\u001b[39;49;00m\n\u001b[1;32m      <a href='vscode-notebook-cell:/Users/piotrm/Dropbox/repos/github/trulens/trulens_eval/examples/frameworks/custom/custom_example.ipynb#X16sZmlsZQ%3D%3D?line=6'>7</a>\u001b[0m     \u001b[39m#    ca.respond_to_query: Select.Query(), # paths relative to \"app\"\u001b[39;49;00m\n\u001b[1;32m      <a href='vscode-notebook-cell:/Users/piotrm/Dropbox/repos/github/trulens/trulens_eval/examples/frameworks/custom/custom_example.ipynb#X16sZmlsZQ%3D%3D?line=7'>8</a>\u001b[0m     \u001b[39m#    ca.retrieve_chunks: Select.Query(),\u001b[39;49;00m\n\u001b[1;32m      <a href='vscode-notebook-cell:/Users/piotrm/Dropbox/repos/github/trulens/trulens_eval/examples/frameworks/custom/custom_example.ipynb#X16sZmlsZQ%3D%3D?line=8'>9</a>\u001b[0m     \u001b[39m#    ca.retriever.retrieve_chunks: Select.Query().retriever\u001b[39;49;00m\n\u001b[1;32m     <a href='vscode-notebook-cell:/Users/piotrm/Dropbox/repos/github/trulens/trulens_eval/examples/frameworks/custom/custom_example.ipynb#X16sZmlsZQ%3D%3D?line=9'>10</a>\u001b[0m     \u001b[39m#},\u001b[39;49;00m\n\u001b[1;32m     <a href='vscode-notebook-cell:/Users/piotrm/Dropbox/repos/github/trulens/trulens_eval/examples/frameworks/custom/custom_example.ipynb#X16sZmlsZQ%3D%3D?line=10'>11</a>\u001b[0m     \u001b[39m#app_extra_json=dict(\u001b[39;49;00m\n\u001b[1;32m     <a href='vscode-notebook-cell:/Users/piotrm/Dropbox/repos/github/trulens/trulens_eval/examples/frameworks/custom/custom_example.ipynb#X16sZmlsZQ%3D%3D?line=11'>12</a>\u001b[0m     \u001b[39m#    name=\"This is my custom app. Anything provided to app_extra_json will be merged into the serialization of app\",\u001b[39;49;00m\n\u001b[1;32m     <a href='vscode-notebook-cell:/Users/piotrm/Dropbox/repos/github/trulens/trulens_eval/examples/frameworks/custom/custom_example.ipynb#X16sZmlsZQ%3D%3D?line=12'>13</a>\u001b[0m     \u001b[39m#)\u001b[39;49;00m\n\u001b[1;32m     <a href='vscode-notebook-cell:/Users/piotrm/Dropbox/repos/github/trulens/trulens_eval/examples/frameworks/custom/custom_example.ipynb#X16sZmlsZQ%3D%3D?line=13'>14</a>\u001b[0m )\n",
      "File \u001b[0;32m~/Dropbox/repos/github/trulens/trulens_eval/trulens_eval/tru_custom_app.py:314\u001b[0m, in \u001b[0;36mTruCustomApp.__init__\u001b[0;34m(self, app, methods_to_instrument, **kwargs)\u001b[0m\n\u001b[1;32m    311\u001b[0m \u001b[39m# Check that any methods marked with `TruCustomApp.instrument` has been\u001b[39;00m\n\u001b[1;32m    312\u001b[0m \u001b[39m# instrumented.\u001b[39;00m\n\u001b[1;32m    313\u001b[0m \u001b[39mfor\u001b[39;00m m \u001b[39min\u001b[39;00m TruCustomApp\u001b[39m.\u001b[39mmethods_to_instrument:\n\u001b[0;32m--> 314\u001b[0m     \u001b[39mif\u001b[39;00m (\u001b[39mid\u001b[39m(m\u001b[39m.\u001b[39;49m\u001b[39m__self__\u001b[39;49m), m) \u001b[39mnot\u001b[39;00m \u001b[39min\u001b[39;00m \u001b[39mself\u001b[39m\u001b[39m.\u001b[39minstrumented_methods:\n\u001b[1;32m    315\u001b[0m         logger\u001b[39m.\u001b[39mwarning(\n\u001b[1;32m    316\u001b[0m             \u001b[39mf\u001b[39m\u001b[39m\"\u001b[39m\u001b[39mMethod \u001b[39m\u001b[39m{\u001b[39;00mm\u001b[39m}\u001b[39;00m\u001b[39m was not found during instrumentation walk. \u001b[39m\u001b[39m\"\u001b[39m\n\u001b[1;32m    317\u001b[0m             \u001b[39mf\u001b[39m\u001b[39m\"\u001b[39m\u001b[39mMake sure it is accessible by traversing app \u001b[39m\u001b[39m{\u001b[39;00mapp\u001b[39m}\u001b[39;00m\u001b[39m \u001b[39m\u001b[39m\"\u001b[39m\n\u001b[1;32m    318\u001b[0m             \u001b[39mf\u001b[39m\u001b[39m\"\u001b[39m\u001b[39mor provide it to TruCustomApp constructor in the `methods_to_instrument`.\u001b[39m\u001b[39m\"\u001b[39m\n\u001b[1;32m    319\u001b[0m         )\n\u001b[1;32m    320\u001b[0m     \u001b[39melse\u001b[39;00m:\n",
      "\u001b[0;31mAttributeError\u001b[0m: 'function' object has no attribute '__self__'"
     ]
    }
   ],
   "source": [
    "ca = CustomApp()\n",
    "ta = TruCustomApp(\n",
    "    ca,\n",
    "    app_id=\"customapp\",\n",
    "    # feedbacks=[],\n",
    "    #methods_to_instrument={\n",
    "    #    ca.respond_to_query: Select.Query(), # paths relative to \"app\"\n",
    "    #    ca.retrieve_chunks: Select.Query(),\n",
    "    #    ca.retriever.retrieve_chunks: Select.Query().retriever\n",
    "    #},\n",
    "    #app_extra_json=dict(\n",
    "    #    name=\"This is my custom app. Anything provided to app_extra_json will be merged into the serialization of app\",\n",
    "    #)\n",
    ")\n"
   ]
  },
  {
   "cell_type": "code",
   "execution_count": null,
   "metadata": {},
   "outputs": [],
   "source": [
    "ta.print_instrumented()"
   ]
  },
  {
   "cell_type": "code",
   "execution_count": null,
   "metadata": {},
   "outputs": [],
   "source": [
    "# ca.respond_to_query(\"What is the capital of Indonesia?\")\n",
    "\n",
    "response, record = ta.with_record(\n",
    "    ca.respond_to_query, input=\"What is the capital of Indonesia?\"\n",
    ")\n"
   ]
  },
  {
   "cell_type": "code",
   "execution_count": null,
   "metadata": {},
   "outputs": [],
   "source": [
    "response"
   ]
  },
  {
   "cell_type": "code",
   "execution_count": null,
   "metadata": {},
   "outputs": [],
   "source": [
    "record"
   ]
  },
  {
   "cell_type": "code",
   "execution_count": null,
   "metadata": {},
   "outputs": [],
   "source": [
    "record.dict()"
   ]
  },
  {
   "cell_type": "code",
   "execution_count": null,
   "metadata": {},
   "outputs": [],
   "source": [
    "# Start the dasshboard. If you running from github repo, you will need to adjust\n",
    "# the path the dashboard streamlit app starts in by providing the _dev argument.\n",
    "tru.start_dashboard(\n",
    "    force=True, _dev=Path().cwd().parent.parent.parent.resolve()\n",
    ")"
   ]
  },
  {
   "cell_type": "code",
   "execution_count": null,
   "metadata": {},
   "outputs": [],
   "source": []
  }
 ],
 "metadata": {
  "kernelspec": {
   "display_name": "py38_trulens",
   "language": "python",
   "name": "python3"
  },
  "language_info": {
   "codemirror_mode": {
    "name": "ipython",
    "version": 3
   },
   "file_extension": ".py",
   "mimetype": "text/x-python",
   "name": "python",
   "nbconvert_exporter": "python",
   "pygments_lexer": "ipython3",
   "version": "3.8.16"
  },
  "orig_nbformat": 4
 },
 "nbformat": 4,
 "nbformat_minor": 2
}
