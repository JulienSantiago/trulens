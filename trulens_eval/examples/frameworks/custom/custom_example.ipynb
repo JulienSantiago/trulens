{
 "cells": [
  {
   "cell_type": "markdown",
   "metadata": {},
   "source": [
    "# Custom Class Example\n",
    "\n",
    "This example uses several other python files in the same folder."
   ]
  },
  {
   "cell_type": "code",
   "execution_count": 1,
   "metadata": {},
   "outputs": [],
   "source": [
    "%load_ext autoreload\n",
    "%autoreload 2\n",
    "from pathlib import Path\n",
    "import sys\n",
    "\n",
    "# If running from github repo, can use this:\n",
    "sys.path.append(str(Path().cwd().parent.parent.parent.resolve()))"
   ]
  },
  {
   "cell_type": "code",
   "execution_count": 2,
   "metadata": {},
   "outputs": [
    {
     "name": "stdout",
     "output_type": "stream",
     "text": [
      "🦑 Tru initialized with db url sqlite:///default.sqlite .\n",
      "Deleted 2 rows.\n"
     ]
    }
   ],
   "source": [
    "from custom_app import CustomApp # our custom app\n",
    "\n",
    "from trulens_eval.tru_custom_app import TruCustomApp\n",
    "\n",
    "from trulens_eval import Tru\n",
    "# Tru object manages the database of apps, records, and feedbacks; and the\n",
    "# dashboard to display these.\n",
    "tru = Tru()\n",
    "\n",
    "tru.reset_database()"
   ]
  },
  {
   "cell_type": "code",
   "execution_count": 3,
   "metadata": {},
   "outputs": [],
   "source": [
    "# Create custom app:\n",
    "ca = CustomApp()\n",
    "\n",
    "# Create trulens wrapper:\n",
    "ta = TruCustomApp(\n",
    "    ca,\n",
    "    app_id=\"customapp\",\n",
    "    # Optional alternative to decorators:\n",
    "    #methods_to_instrument={\n",
    "    #    ca.respond_to_query: Select.Query(), # paths relative to \"app\"\n",
    "    #    ca.retrieve_chunks: Select.Query(),\n",
    "    #    ca.retriever.retrieve_chunks: Select.Query().retriever\n",
    "    #},\n",
    "    ## Add extra data to show up as app serialization. See tru_custom_app.py documentation.\n",
    "    #app_extra_json=dict(\n",
    "    #    name=\"This is my custom app. Anything provided to app_extra_json will be merged into the serialization of app\",\n",
    "    #)\n",
    ")\n"
   ]
  },
  {
   "cell_type": "code",
   "execution_count": 4,
   "metadata": {},
   "outputs": [
    {
     "name": "stdout",
     "output_type": "stream",
     "text": [
      "Components:\n",
      "Custom of trulens_eval.app component: *.__app__.app\n",
      "Custom of trulens_eval.app component: *.__app__.app.llm\n",
      "Custom of trulens_eval.app component: *.__app__.app.retriever\n",
      "Custom of trulens_eval.app component: *.__app__.app.template\n",
      "\n",
      "Methods:\n",
      "Object at 0x176f76280:\n",
      "\t<function CustomApp.retrieve_chunks at 0x176f18550> with path *.__app__.app\n",
      "\t<function CustomApp.respond_to_query at 0x176f185e0> with path *.__app__.app\n",
      "Object at 0x176fc49d0:\n",
      "\t<function CustomLLM.generate at 0x176efcaf0> with path *.__app__.app.llm\n",
      "Object at 0x176f765b0:\n",
      "\t<function CustomRetriever.retrieve_chunks at 0x176f18160> with path *.__app__.app.retriever\n",
      "Object at 0x176fc47f0:\n",
      "\t<function CustomTemplate.fill at 0x176f18310> with path *.__app__.app.template\n"
     ]
    }
   ],
   "source": [
    "# Show instrumented components and methods.\n",
    "\n",
    "ta.print_instrumented()"
   ]
  },
  {
   "cell_type": "code",
   "execution_count": 5,
   "metadata": {},
   "outputs": [
    {
     "name": "stdout",
     "output_type": "stream",
     "text": [
      "creating new recording context\n",
      "hello <function CustomApp.respond_to_query at 0x176f185e0>\n",
      "hello <function CustomApp.retrieve_chunks at 0x176f18550>\n",
      "hello <function CustomRetriever.retrieve_chunks at 0x176f18160>\n"
     ]
    },
    {
     "name": "stderr",
     "output_type": "stream",
     "text": [
      "Unsure what the main output string is for the call to retrieve_chunks.\n"
     ]
    },
    {
     "name": "stdout",
     "output_type": "stream",
     "text": [
      "_on_add_record, bindings=<BoundArguments (self=<custom_retriever.CustomRetriever object at 0x176f765b0>, data='What is the capital of Indonesia?')>\n",
      "adding a record\n",
      "_on_add_record, bindings=<BoundArguments (self=<custom_app.CustomApp object at 0x176f76280>, data='What is the capital of Indonesia?')>\n",
      "hello <function CustomLLM.generate at 0x176efcaf0>\n",
      "_on_add_record, bindings=<BoundArguments (self=<custom_llm.CustomLLM object at 0x176fc49d0>, prompt='Relevant chunk: WHAT IS THE CAPITAL OF INDONESIA?,Relevant chunk: ?aisenodnI fo latipac eht si tahW')>\n",
      "hello <function CustomTemplate.fill at 0x176f18310>\n",
      "_on_add_record, bindings=<BoundArguments (self=<custom_app.CustomTemplate object at 0x176fc47f0>, question='What is the capital of Indonesia?', answer='herp What is the capital of Indonesia? :knuhc tnaveleR,?AISENODNI FO LATIPAC EHT SI TAHW :knuhc tnaveleR derp')>\n",
      "_on_add_record, bindings=<BoundArguments (self=<custom_app.CustomApp object at 0x176f76280>, input='What is the capital of Indonesia?')>\n",
      "finishing context with 1 records.\n"
     ]
    }
   ],
   "source": [
    "# Normal usage:\n",
    "# ca.respond_to_query(\"What is the capital of Indonesia?\")\n",
    "\n",
    "# Instrumented usage:\n",
    "response, record = ta.with_record(\n",
    "    ca.respond_to_query, input=\"What is the capital of Indonesia?\"\n",
    ")\n"
   ]
  },
  {
   "cell_type": "code",
   "execution_count": 6,
   "metadata": {},
   "outputs": [
    {
     "data": {
      "text/plain": [
       "'The answer to What is the capital of Indonesia? is probably herp What is the capital of Indonesia? :knuhc tnaveleR,?AISENODNI FO LATIPAC EHT SI TAHW :knuhc tnaveleR derp or something ...'"
      ]
     },
     "execution_count": 6,
     "metadata": {},
     "output_type": "execute_result"
    }
   ],
   "source": [
    "# Show the app output:\n",
    "\n",
    "response"
   ]
  },
  {
   "cell_type": "code",
   "execution_count": 7,
   "metadata": {},
   "outputs": [
    {
     "data": {
      "text/plain": [
       "{'record_id': 'record_hash_527bcbcd8c15d46946feeb93e35d9222',\n",
       " 'app_id': 'customapp',\n",
       " 'cost': {'n_requests': 0,\n",
       "  'n_successful_requests': 0,\n",
       "  'n_classes': 0,\n",
       "  'n_tokens': 0,\n",
       "  'n_stream_chunks': 0,\n",
       "  'n_prompt_tokens': 0,\n",
       "  'n_completion_tokens': 0,\n",
       "  'cost': 0.0},\n",
       " 'perf': {'start_time': datetime.datetime(2023, 8, 22, 16, 1, 22, 446457),\n",
       "  'end_time': datetime.datetime(2023, 8, 22, 16, 1, 22, 956331)},\n",
       " 'ts': datetime.datetime(2023, 8, 22, 16, 1, 22, 957106),\n",
       " 'tags': '-',\n",
       " 'main_input': 'What is the capital of Indonesia?',\n",
       " 'main_output': 'Relevant chunk: WHAT IS THE CAPITAL OF INDONESIA?',\n",
       " 'main_error': None,\n",
       " 'calls': [{'stack': ({'path': {'path': ({'item_or_attribute': 'app'},\n",
       "       {'item_or_attribute': 'retriever'})},\n",
       "     'method': {'obj': {'cls': {'name': 'CustomRetriever',\n",
       "        'module': {'package_name': '', 'module_name': 'custom_retriever'},\n",
       "        'bases': None},\n",
       "       'id': 6290892208},\n",
       "      'name': 'retrieve_chunks'}},),\n",
       "   'args': {'data': 'What is the capital of Indonesia?'},\n",
       "   'rets': ['Relevant chunk: WHAT IS THE CAPITAL OF INDONESIA?',\n",
       "    'Relevant chunk: ?aisenodnI fo latipac eht si tahW'],\n",
       "   'error': None,\n",
       "   'perf': {'start_time': datetime.datetime(2023, 8, 22, 16, 1, 22, 446457),\n",
       "    'end_time': datetime.datetime(2023, 8, 22, 16, 1, 22, 956331)},\n",
       "   'pid': 24143,\n",
       "   'tid': 954614}]}"
      ]
     },
     "execution_count": 7,
     "metadata": {},
     "output_type": "execute_result"
    }
   ],
   "source": [
    "# Show the instrumentation record.\n",
    "\n",
    "record.dict()"
   ]
  },
  {
   "cell_type": "code",
   "execution_count": 8,
   "metadata": {},
   "outputs": [
    {
     "name": "stdout",
     "output_type": "stream",
     "text": [
      "Force stopping dashboard ...\n",
      "Starting dashboard ...\n"
     ]
    },
    {
     "data": {
      "application/vnd.jupyter.widget-view+json": {
       "model_id": "c06abd5ad28043608714a9cfd5fa173a",
       "version_major": 2,
       "version_minor": 0
      },
      "text/plain": [
       "Accordion(children=(VBox(children=(VBox(children=(Label(value='STDOUT'), Output())), VBox(children=(Label(valu…"
      ]
     },
     "metadata": {},
     "output_type": "display_data"
    },
    {
     "name": "stdout",
     "output_type": "stream",
     "text": [
      "Dashboard started at http://192.168.86.40:8501 .\n"
     ]
    },
    {
     "data": {
      "text/plain": [
       "<subprocess.Popen at 0x177499e20>"
      ]
     },
     "execution_count": 8,
     "metadata": {},
     "output_type": "execute_result"
    }
   ],
   "source": [
    "# Start the dasshboard. If you running from github repo, you will need to adjust\n",
    "# the path the dashboard streamlit app starts in by providing the _dev argument.\n",
    "tru.start_dashboard(\n",
    "    force=True, _dev=Path().cwd().parent.parent.parent.resolve()\n",
    ")"
   ]
  }
 ],
 "metadata": {
  "kernelspec": {
   "display_name": "py38_trulens",
   "language": "python",
   "name": "python3"
  },
  "language_info": {
   "codemirror_mode": {
    "name": "ipython",
    "version": 3
   },
   "file_extension": ".py",
   "mimetype": "text/x-python",
   "name": "python",
   "nbconvert_exporter": "python",
   "pygments_lexer": "ipython3",
   "version": "3.8.16"
  },
  "orig_nbformat": 4
 },
 "nbformat": 4,
 "nbformat_minor": 2
}
