{
 "cells": [
  {
   "cell_type": "code",
   "execution_count": 1,
   "metadata": {},
   "outputs": [],
   "source": [
    "%load_ext autoreload\n",
    "%autoreload 2\n",
    "from pathlib import Path\n",
    "import sys\n",
    "\n",
    "# If running from github repo, can use this:\n",
    "sys.path.append(str(Path().cwd().parent.parent.parent.resolve()))"
   ]
  },
  {
   "cell_type": "code",
   "execution_count": 4,
   "metadata": {},
   "outputs": [
    {
     "ename": "ImportError",
     "evalue": "cannot import name 'TruApp' from 'trulens_eval' (/Users/piotrm/Dropbox/repos/github/trulens/trulens_eval/trulens_eval/__init__.py)",
     "output_type": "error",
     "traceback": [
      "\u001b[0;31m---------------------------------------------------------------------------\u001b[0m",
      "\u001b[0;31mImportError\u001b[0m                               Traceback (most recent call last)",
      "\u001b[1;32m/Users/piotrm/Dropbox/repos/github/trulens/trulens_eval/examples/frameworks/custom/custom_example.ipynb Cell 2\u001b[0m in \u001b[0;36m<cell line: 1>\u001b[0;34m()\u001b[0m\n\u001b[0;32m----> <a href='vscode-notebook-cell:/Users/piotrm/Dropbox/repos/github/trulens/trulens_eval/examples/frameworks/custom/custom_example.ipynb#W0sZmlsZQ%3D%3D?line=0'>1</a>\u001b[0m \u001b[39mfrom\u001b[39;00m \u001b[39mcustom_app\u001b[39;00m \u001b[39mimport\u001b[39;00m CustomApp\n\u001b[1;32m      <a href='vscode-notebook-cell:/Users/piotrm/Dropbox/repos/github/trulens/trulens_eval/examples/frameworks/custom/custom_example.ipynb#W0sZmlsZQ%3D%3D?line=1'>2</a>\u001b[0m \u001b[39mfrom\u001b[39;00m \u001b[39mtrulens_eval\u001b[39;00m \u001b[39mimport\u001b[39;00m TruApp\n\u001b[1;32m      <a href='vscode-notebook-cell:/Users/piotrm/Dropbox/repos/github/trulens/trulens_eval/examples/frameworks/custom/custom_example.ipynb#W0sZmlsZQ%3D%3D?line=3'>4</a>\u001b[0m ca \u001b[39m=\u001b[39m CustomApp()\n",
      "File \u001b[0;32m~/Dropbox/repos/github/trulens/trulens_eval/examples/frameworks/custom/custom_app.py:1\u001b[0m, in \u001b[0;36m<module>\u001b[0;34m\u001b[0m\n\u001b[0;32m----> 1\u001b[0m \u001b[39mfrom\u001b[39;00m \u001b[39mtrulens_eval\u001b[39;00m \u001b[39mimport\u001b[39;00m TruApp\n\u001b[1;32m      2\u001b[0m \u001b[39mfrom\u001b[39;00m \u001b[39mcustom_retriever\u001b[39;00m \u001b[39mimport\u001b[39;00m CustomRetriever \n\u001b[1;32m      5\u001b[0m \u001b[39mclass\u001b[39;00m \u001b[39mCustomApp\u001b[39;00m:\n",
      "\u001b[0;31mImportError\u001b[0m: cannot import name 'TruApp' from 'trulens_eval' (/Users/piotrm/Dropbox/repos/github/trulens/trulens_eval/trulens_eval/__init__.py)"
     ]
    }
   ],
   "source": [
    "from custom_app import CustomApp\n",
    "from trulens_eval import TruApp\n",
    "\n",
    "ca = CustomApp()\n",
    "ta = TruApp(ca, \n",
    "            feedbacks=[],\n",
    "            instrument_langchain=False)\n",
    "\n",
    "ta.respond_to_query(\"What is the capital of Indonesia?\")\n",
    "response, record = ta.respond_to_query_with_record(\"What is the capital of Indonesia?\")"
   ]
  },
  {
   "cell_type": "code",
   "execution_count": null,
   "metadata": {},
   "outputs": [],
   "source": []
  }
 ],
 "metadata": {
  "kernelspec": {
   "display_name": "py38_trulens",
   "language": "python",
   "name": "python3"
  },
  "language_info": {
   "codemirror_mode": {
    "name": "ipython",
    "version": 3
   },
   "file_extension": ".py",
   "mimetype": "text/x-python",
   "name": "python",
   "nbconvert_exporter": "python",
   "pygments_lexer": "ipython3",
   "version": "3.8.16"
  },
  "orig_nbformat": 4
 },
 "nbformat": 4,
 "nbformat_minor": 2
}
