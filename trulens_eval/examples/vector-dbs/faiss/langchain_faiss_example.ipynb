{
 "cells": [
  {
   "cell_type": "markdown",
   "metadata": {},
   "source": [
    "# lang_chain with FAISS vector db\n",
    "Example by Joselin James."
   ]
  },
  {
   "cell_type": "code",
   "execution_count": null,
   "metadata": {},
   "outputs": [],
   "source": [
    "%load_ext autoreload\n",
    "%autoreload 2\n",
    "from pathlib import Path\n",
    "import sys\n",
    "\n",
    "# If running from github repo, can use this:\n",
    "sys.path.append(str(Path().cwd().parent.parent.parent.resolve()))\n",
    "\n",
    "# Uncomment for more debugging printouts.\n",
    "\"\"\"\n",
    "import logging\n",
    "root = logging.getLogger()\n",
    "root.setLevel(logging.DEBUG)\n",
    "\n",
    "handler = logging.StreamHandler(sys.stdout)\n",
    "handler.setLevel(logging.DEBUG)\n",
    "formatter = logging.Formatter('%(asctime)s - %(name)s - %(levelname)s - %(message)s')\n",
    "handler.setFormatter(formatter)\n",
    "root.addHandler(handler)\n",
    "\"\"\"\n",
    "None"
   ]
  },
  {
   "cell_type": "code",
   "execution_count": null,
   "metadata": {},
   "outputs": [],
   "source": [
    "# ! pip install faiss-cpu"
   ]
  },
  {
   "cell_type": "code",
   "execution_count": null,
   "metadata": {},
   "outputs": [],
   "source": [
    "from trulens_eval.keys import check_keys\n",
    "check_keys(\"OPENAI_API_KEY\")"
   ]
  },
  {
   "cell_type": "code",
   "execution_count": null,
   "metadata": {},
   "outputs": [],
   "source": [
    "# Create a local FAISS db:\n",
    "\n",
    "from langchain.embeddings.openai import OpenAIEmbeddings\n",
    "from langchain.text_splitter import CharacterTextSplitter\n",
    "from langchain.vectorstores import FAISS\n",
    "from langchain.document_loaders import TextLoader\n",
    "from langchain.document_loaders import UnstructuredMarkdownLoader\n",
    "\n",
    "loader = UnstructuredMarkdownLoader(\"../../../README.md\")\n",
    "documents = loader.load()\n",
    "text_splitter = CharacterTextSplitter(chunk_size=1000, chunk_overlap=0)\n",
    "docs = text_splitter.split_documents(documents)\n",
    "\n",
    "embeddings = OpenAIEmbeddings()\n",
    "\n",
    "db = FAISS.from_documents(docs, embeddings)\n",
    "db.save_local(\"faiss_index\")"
   ]
  },
  {
   "cell_type": "code",
   "execution_count": null,
   "metadata": {},
   "outputs": [],
   "source": [
    "# Example from Joselin James\n",
    "\n",
    "from langchain.vectorstores.base import VectorStoreRetriever\n",
    "from langchain.callbacks.manager import CallbackManagerForRetrieverRun\n",
    "from langchain.schema import Document\n",
    "from langchain.vectorstores import FAISS\n",
    "from langchain.embeddings import OpenAIEmbeddings\n",
    "from langchain.chat_models import ChatOpenAI\n",
    "from langchain.chains import ConversationalRetrievalChain\n",
    "from trulens_eval import Tru, TruChain\n",
    "from trulens_eval import feedback, Feedback\n",
    "\n",
    "from typing import List\n",
    "import numpy as np\n",
    "\n",
    "from trulens_eval import Select\n",
    "\n",
    "class VectorStoreRetrieverWithScore(VectorStoreRetriever):\n",
    "\n",
    "    def _get_relevant_documents(\n",
    "        self, query: str, *, run_manager: CallbackManagerForRetrieverRun\n",
    "    ) -> List[Document]:\n",
    "        if self.search_type == \"similarity\":\n",
    "            docs_and_scores = self.vectorstore.similarity_search_with_relevance_scores(\n",
    "                query, **self.search_kwargs\n",
    "            )\n",
    "\n",
    "            print(\"From relevant doc in vec store\")\n",
    "            docs = []\n",
    "            for doc, score in docs_and_scores:\n",
    "                if score > 0.6:\n",
    "                    doc.metadata[\"score\"] = score\n",
    "                    docs.append(doc)\n",
    "        elif self.search_type == \"mmr\":\n",
    "            docs = self.vectorstore.max_marginal_relevance_search(\n",
    "                query, **self.search_kwargs\n",
    "            )\n",
    "        else:\n",
    "            raise ValueError(f\"search_type of {self.search_type} not allowed.\")\n",
    "        return docs\n",
    "\n",
    "\n",
    "class FAISSWithScore(FAISS):\n",
    "\n",
    "    def as_retriever(self) -> VectorStoreRetrieverWithScore:\n",
    "        return VectorStoreRetrieverWithScore(\n",
    "            vectorstore=self,\n",
    "            search_type=\"similarity\",\n",
    "            search_kwargs={\"k\": 4},\n",
    "        )\n",
    "\n",
    "\n",
    "class FAISSStore:\n",
    "\n",
    "    @staticmethod\n",
    "    def load_vector_store():\n",
    "        embeddings = OpenAIEmbeddings()\n",
    "        faiss_store = FAISSWithScore.load_local(\"faiss_index\", embeddings)\n",
    "        print(\"Faiss vector DB loaded\")\n",
    "        return faiss_store\n",
    "\n",
    "\n",
    "openai = feedback.OpenAI()\n",
    "\n",
    "f_qs_relevance = Feedback(openai.qs_relevance).on_input().on(\n",
    "    Select.Record.app.combine_docs_chain._call.args.inputs.input_documents[:].page_content\n",
    ").aggregate(np.min)\n",
    "\n",
    "\n",
    "def load_conversational_chain(vector_store):\n",
    "    llm = ChatOpenAI(\n",
    "        temperature=0,\n",
    "        model_name=\"gpt-4\",\n",
    "    )\n",
    "    retriever = vector_store.as_retriever()\n",
    "    chain = ConversationalRetrievalChain.from_llm(\n",
    "        llm, retriever, return_source_documents=True\n",
    "    )\n",
    "    \n",
    "    tru = Tru()\n",
    "\n",
    "    truchain = tru.Chain(\n",
    "        chain,\n",
    "        feedbacks=[f_qs_relevance],\n",
    "        with_hugs=False\n",
    "    )\n",
    "\n",
    "    return truchain"
   ]
  },
  {
   "cell_type": "code",
   "execution_count": null,
   "metadata": {},
   "outputs": [],
   "source": [
    "vector_store = FAISSStore.load_vector_store()\n",
    "chain = load_conversational_chain(vector_store)\n",
    "ret, record = chain.call_with_record({\"question\": \"What is trulens?\", \"chat_history\":\"\"})"
   ]
  },
  {
   "cell_type": "code",
   "execution_count": null,
   "metadata": {},
   "outputs": [],
   "source": [
    "ret"
   ]
  },
  {
   "cell_type": "code",
   "execution_count": null,
   "metadata": {},
   "outputs": [],
   "source": [
    "record.dict()"
   ]
  },
  {
   "cell_type": "code",
   "execution_count": null,
   "metadata": {},
   "outputs": [],
   "source": [
    "chain.print_instrumented()"
   ]
  },
  {
   "cell_type": "code",
   "execution_count": null,
   "metadata": {},
   "outputs": [],
   "source": [
    "proc = Tru().start_dashboard(force=True, _dev=Path.cwd().parent.parent.parent)"
   ]
  },
  {
   "cell_type": "code",
   "execution_count": null,
   "metadata": {},
   "outputs": [],
   "source": []
  }
 ],
 "metadata": {
  "kernelspec": {
   "display_name": "py38_trulens",
   "language": "python",
   "name": "python3"
  },
  "language_info": {
   "codemirror_mode": {
    "name": "ipython",
    "version": 3
   },
   "file_extension": ".py",
   "mimetype": "text/x-python",
   "name": "python",
   "nbconvert_exporter": "python",
   "pygments_lexer": "ipython3",
   "version": "3.8.16"
  },
  "orig_nbformat": 4
 },
 "nbformat": 4,
 "nbformat_minor": 2
}
