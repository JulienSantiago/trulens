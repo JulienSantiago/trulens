{
 "cells": [
  {
   "attachments": {},
   "cell_type": "markdown",
   "metadata": {},
   "source": [
    "# TruBot testing\n",
    "\n",
    "This notebook tests a conversation bot with vector-store context of TruEra website. "
   ]
  },
  {
   "cell_type": "code",
   "execution_count": 1,
   "metadata": {},
   "outputs": [],
   "source": [
    "%load_ext autoreload\n",
    "%autoreload 2\n",
    "from pathlib import Path\n",
    "import sys\n",
    "\n",
    "sys.path.append(str(Path().cwd().parent.parent.resolve()))\n",
    "\n",
    "# Uncomment to get more debugging printouts:\n",
    "\"\"\"\n",
    "import logging\n",
    "\n",
    "root = logging.getLogger()\n",
    "root.setLevel(logging.DEBUG)\n",
    "\n",
    "handler = logging.StreamHandler(sys.stdout)\n",
    "handler.setLevel(logging.DEBUG)\n",
    "formatter = logging.Formatter('%(asctime)s - %(name)s - %(levelname)s - %(message)s')\n",
    "handler.setFormatter(formatter)\n",
    "root.addHandler(handler)\n",
    "\"\"\"\n",
    "None"
   ]
  },
  {
   "cell_type": "code",
   "execution_count": 2,
   "metadata": {},
   "outputs": [
    {
     "name": "stdout",
     "output_type": "stream",
     "text": [
      "✅ Key OPENAI_API_KEY set from environment (same value found in .env file at /Users/piotrm/Dropbox/repos/github/trulens/.env).\n",
      "✅ Key HUGGINGFACE_API_KEY set from environment (same value found in .env file at /Users/piotrm/Dropbox/repos/github/trulens/.env).\n",
      "✅ Key PINECONE_API_KEY set from environment (same value found in .env file at /Users/piotrm/Dropbox/repos/github/trulens/.env).\n",
      "✅ Key PINECONE_ENV set from environment (same value found in .env file at /Users/piotrm/Dropbox/repos/github/trulens/.env).\n"
     ]
    }
   ],
   "source": [
    "from trulens_eval.keys import check_or_set_keys\n",
    "\n",
    "check_or_set_keys(\n",
    "    OPENAI_API_KEY=\"to fill in\",\n",
    "    HUGGINGFACE_API_KEY=\"to fill in\",\n",
    "    PINECONE_API_KEY=\"to fill in\",\n",
    "    PINECONE_ENV=\"to fill in\"\n",
    ")"
   ]
  },
  {
   "cell_type": "code",
   "execution_count": 3,
   "metadata": {},
   "outputs": [
    {
     "name": "stderr",
     "output_type": "stream",
     "text": [
      "/opt/homebrew/Caskroom/miniconda/base/envs/py38_trulens/lib/python3.8/site-packages/pinecone/index.py:4: TqdmExperimentalWarning: Using `tqdm.autonotebook.tqdm` in notebook mode. Use `tqdm.tqdm` instead to force console mode (e.g. in jupyter console)\n",
      "  from tqdm.autonotebook import tqdm\n"
     ]
    },
    {
     "name": "stdout",
     "output_type": "stream",
     "text": [
      "✅ Key OPENAI_API_KEY set from environment (same value found in .env file at /Users/piotrm/Dropbox/repos/github/trulens/.env).\n",
      "✅ Key HUGGINGFACE_API_KEY set from environment (same value found in .env file at /Users/piotrm/Dropbox/repos/github/trulens/.env).\n",
      "✅ Key PINECONE_API_KEY set from environment (same value found in .env file at /Users/piotrm/Dropbox/repos/github/trulens/.env).\n",
      "✅ Key PINECONE_ENV set from environment (same value found in .env file at /Users/piotrm/Dropbox/repos/github/trulens/.env).\n",
      "✅ In language_match, input text1 will be set to *.__record__.main_input or `Select.RecordInput` .\n",
      "✅ In language_match, input text2 will be set to *.__record__.main_output or `Select.RecordOutput` .\n",
      "✅ In relevance, input prompt will be set to *.__record__.main_input or `Select.RecordInput` .\n",
      "✅ In relevance, input response will be set to *.__record__.main_output or `Select.RecordOutput` .\n",
      "✅ In qs_relevance, input question will be set to *.__record__.main_input or `Select.RecordInput` .\n",
      "✅ In qs_relevance, input statement will be set to *.__record__.app.combine_docs_chain._call.args.inputs.input_documents[:].page_content .\n"
     ]
    }
   ],
   "source": [
    "from examples.trubot.trubot import get_or_make_app, get_answer, f_lang_match, f_qs_relevance\n",
    "from trulens_eval.util import TP\n",
    "from trulens_eval import Tru\n",
    "\n",
    "from pprint import PrettyPrinter\n",
    "pp = PrettyPrinter()\n",
    "\n",
    "# Reset the database if needed:\n",
    "Tru().reset_database()"
   ]
  },
  {
   "cell_type": "code",
   "execution_count": 4,
   "metadata": {},
   "outputs": [
    {
     "name": "stdout",
     "output_type": "stream",
     "text": [
      "'Starting a new conversation with 0/default.'\n",
      "✅ app 0/default -> default.sqlite\n",
      "✅ feedback def. feedback_definition_hash_50314fb5e5d356862c0b6912e84da7e1 -> default.sqlite\n",
      "✅ feedback def. feedback_definition_hash_ec57f5e222529176ad4cac958aa75277 -> default.sqlite\n",
      "✅ feedback def. feedback_definition_hash_1e9bee9dde8f2ffd726b9412ea7a72d7 -> default.sqlite\n"
     ]
    }
   ],
   "source": [
    "app = get_or_make_app(cid=None)"
   ]
  },
  {
   "cell_type": "code",
   "execution_count": 5,
   "metadata": {},
   "outputs": [
    {
     "name": "stdout",
     "output_type": "stream",
     "text": [
      "Other of trulens_eval.utils.langchain component: *.__app__.app\n",
      "Other of trulens_eval.utils.langchain component: *.__app__.app.memory\n",
      "LLM of trulens_eval.utils.langchain component: *.__app__.app.memory.llm\n",
      "Prompt of trulens_eval.utils.langchain component: *.__app__.app.memory.prompt\n",
      "Other of trulens_eval.utils.langchain component: *.__app__.app.memory.chat_memory\n",
      "Other of trulens_eval.utils.langchain component: *.__app__.app.combine_docs_chain\n",
      "Other of trulens_eval.utils.langchain component: *.__app__.app.combine_docs_chain.llm_chain\n",
      "Prompt of trulens_eval.utils.langchain component: *.__app__.app.combine_docs_chain.llm_chain.prompt\n",
      "LLM of trulens_eval.utils.langchain component: *.__app__.app.combine_docs_chain.llm_chain.llm\n",
      "Prompt of trulens_eval.utils.langchain component: *.__app__.app.combine_docs_chain.document_prompt\n",
      "Other of trulens_eval.utils.langchain component: *.__app__.app.question_generator\n",
      "Prompt of trulens_eval.utils.langchain component: *.__app__.app.question_generator.prompt\n",
      "LLM of trulens_eval.utils.langchain component: *.__app__.app.question_generator.llm\n",
      "Other of trulens_eval.utils.langchain component: *.__app__.app.retriever\n"
     ]
    }
   ],
   "source": [
    "# List the app components that got instrumented along with their categories.\n",
    "\n",
    "app.print_instrumented()"
   ]
  },
  {
   "cell_type": "code",
   "execution_count": 6,
   "metadata": {},
   "outputs": [
    {
     "name": "stdout",
     "output_type": "stream",
     "text": [
      "Force stopping dashboard ...\n",
      "killing psutil.Process(pid=8619, name='python3.8', status='running', started='18:12:58')\n",
      "Starting dashboard ...\n"
     ]
    },
    {
     "data": {
      "application/vnd.jupyter.widget-view+json": {
       "model_id": "de255cf34b2e4ea3bcebf64b7fe0cbcc",
       "version_major": 2,
       "version_minor": 0
      },
      "text/plain": [
       "Accordion(children=(VBox(children=(VBox(children=(Label(value='STDOUT'), Output())), VBox(children=(Label(valu…"
      ]
     },
     "metadata": {},
     "output_type": "display_data"
    },
    {
     "name": "stdout",
     "output_type": "stream",
     "text": [
      "Dashboard started at http://10.1.10.102:8501 .\n"
     ]
    }
   ],
   "source": [
    "proc = Tru().start_dashboard(force=True, _dev=Path.cwd().parent.parent)"
   ]
  },
  {
   "cell_type": "code",
   "execution_count": 7,
   "metadata": {},
   "outputs": [
    {
     "name": "stdout",
     "output_type": "stream",
     "text": [
      "3 Kim jest Shayak?\n",
      "'Starting a new conversation with 3/filtered_context.'\n",
      "✅ app 3/filtered_context -> default.sqlite\n",
      "✅ feedback def. feedback_definition_hash_50314fb5e5d356862c0b6912e84da7e1 -> default.sqlite\n",
      "✅ feedback def. feedback_definition_hash_ec57f5e222529176ad4cac958aa75277 -> default.sqlite\n",
      "✅ feedback def. feedback_definition_hash_1e9bee9dde8f2ffd726b9412ea7a72d7 -> default.sqlite\n"
     ]
    },
    {
     "name": "stderr",
     "output_type": "stream",
     "text": [
      "/Users/piotrm/Dropbox/repos/github/trulens/trulens_eval/trulens_eval/tru_chain.py:168: RuntimeWarning: coroutine 'wait_for' was never awaited\n",
      "  asyncio.wait_for(\n",
      "RuntimeWarning: Enable tracemalloc to get the object allocation traceback\n",
      "/Users/piotrm/Dropbox/repos/github/trulens/trulens_eval/trulens_eval/tru_chain.py:168: RuntimeWarning: coroutine 'TruChain.__async_root' was never awaited\n",
      "  asyncio.wait_for(\n",
      "RuntimeWarning: Enable tracemalloc to get the object allocation traceback\n"
     ]
    },
    {
     "ename": "AttributeError",
     "evalue": "'coroutine' object has no attribute '__next__'",
     "output_type": "error",
     "traceback": [
      "\u001b[0;31m---------------------------------------------------------------------------\u001b[0m",
      "\u001b[0;31mAttributeError\u001b[0m                            Traceback (most recent call last)",
      "\u001b[1;32m/Users/piotrm/Dropbox/repos/github/trulens/trulens_eval/examples/trubot/trubot_tests.ipynb Cell 8\u001b[0m in \u001b[0;36m<cell line: 15>\u001b[0;34m()\u001b[0m\n\u001b[1;32m     <a href='vscode-notebook-cell:/Users/piotrm/Dropbox/repos/github/trulens/trulens_eval/examples/trubot/trubot_tests.ipynb#X21sZmlsZQ%3D%3D?line=14'>15</a>\u001b[0m \u001b[39mfor\u001b[39;00m s \u001b[39min\u001b[39;00m selectors:\n\u001b[1;32m     <a href='vscode-notebook-cell:/Users/piotrm/Dropbox/repos/github/trulens/trulens_eval/examples/trubot/trubot_tests.ipynb#X21sZmlsZQ%3D%3D?line=15'>16</a>\u001b[0m     \u001b[39mfor\u001b[39;00m m \u001b[39min\u001b[39;00m messages:\n\u001b[1;32m     <a href='vscode-notebook-cell:/Users/piotrm/Dropbox/repos/github/trulens/trulens_eval/examples/trubot/trubot_tests.ipynb#X21sZmlsZQ%3D%3D?line=16'>17</a>\u001b[0m         \u001b[39m# results.append(TP().promise(test_bot, selector=s, question=m))\u001b[39;00m\n\u001b[0;32m---> <a href='vscode-notebook-cell:/Users/piotrm/Dropbox/repos/github/trulens/trulens_eval/examples/trubot/trubot_tests.ipynb#X21sZmlsZQ%3D%3D?line=17'>18</a>\u001b[0m         results\u001b[39m.\u001b[39mappend(test_bot(selector\u001b[39m=\u001b[39;49ms, question\u001b[39m=\u001b[39;49mm))\n",
      "\u001b[1;32m/Users/piotrm/Dropbox/repos/github/trulens/trulens_eval/examples/trubot/trubot_tests.ipynb Cell 8\u001b[0m in \u001b[0;36mtest_bot\u001b[0;34m(selector, question)\u001b[0m\n\u001b[1;32m      <a href='vscode-notebook-cell:/Users/piotrm/Dropbox/repos/github/trulens/trulens_eval/examples/trubot/trubot_tests.ipynb#X21sZmlsZQ%3D%3D?line=7'>8</a>\u001b[0m \u001b[39mprint\u001b[39m(selector, question)\n\u001b[1;32m      <a href='vscode-notebook-cell:/Users/piotrm/Dropbox/repos/github/trulens/trulens_eval/examples/trubot/trubot_tests.ipynb#X21sZmlsZQ%3D%3D?line=8'>9</a>\u001b[0m app \u001b[39m=\u001b[39m get_or_make_app(cid\u001b[39m=\u001b[39mquestion \u001b[39m+\u001b[39m \u001b[39mstr\u001b[39m(selector), selector\u001b[39m=\u001b[39mselector)\n\u001b[0;32m---> <a href='vscode-notebook-cell:/Users/piotrm/Dropbox/repos/github/trulens/trulens_eval/examples/trubot/trubot_tests.ipynb#X21sZmlsZQ%3D%3D?line=9'>10</a>\u001b[0m answer \u001b[39m=\u001b[39m get_answer(app\u001b[39m=\u001b[39;49mapp, question\u001b[39m=\u001b[39;49mquestion)\n\u001b[1;32m     <a href='vscode-notebook-cell:/Users/piotrm/Dropbox/repos/github/trulens/trulens_eval/examples/trubot/trubot_tests.ipynb#X21sZmlsZQ%3D%3D?line=10'>11</a>\u001b[0m \u001b[39mreturn\u001b[39;00m answer\n",
      "File \u001b[0;32m~/Dropbox/repos/github/trulens/trulens_eval/examples/trubot/trubot.py:209\u001b[0m, in \u001b[0;36mget_answer\u001b[0;34m(app, question)\u001b[0m\n\u001b[1;32m    203\u001b[0m \u001b[39mdef\u001b[39;00m \u001b[39mget_answer\u001b[39m(app: TruChain, question: \u001b[39mstr\u001b[39m) \u001b[39m-\u001b[39m\u001b[39m>\u001b[39m Tuple[\u001b[39mstr\u001b[39m, \u001b[39mstr\u001b[39m]:\n\u001b[1;32m    204\u001b[0m \u001b[39m    \u001b[39m\u001b[39m\"\"\"\u001b[39;00m\n\u001b[1;32m    205\u001b[0m \u001b[39m    Use the given `app` to respond to `question`. Return the answer text and\u001b[39;00m\n\u001b[1;32m    206\u001b[0m \u001b[39m    sources elaboration text.\u001b[39;00m\n\u001b[1;32m    207\u001b[0m \u001b[39m    \"\"\"\u001b[39;00m\n\u001b[0;32m--> 209\u001b[0m     outs \u001b[39m=\u001b[39m app(\u001b[39mdict\u001b[39;49m(question\u001b[39m=\u001b[39;49mquestion))\n\u001b[1;32m    211\u001b[0m     result \u001b[39m=\u001b[39m outs[\u001b[39m'\u001b[39m\u001b[39manswer\u001b[39m\u001b[39m'\u001b[39m]\n\u001b[1;32m    212\u001b[0m     sources \u001b[39m=\u001b[39m outs[\u001b[39m'\u001b[39m\u001b[39msource_documents\u001b[39m\u001b[39m'\u001b[39m]\n",
      "File \u001b[0;32m~/Dropbox/repos/github/trulens/trulens_eval/trulens_eval/tru_chain.py:248\u001b[0m, in \u001b[0;36mTruChain.__call__\u001b[0;34m(self, *args, **kwargs)\u001b[0m\n\u001b[1;32m    242\u001b[0m \u001b[39mdef\u001b[39;00m \u001b[39m__call__\u001b[39m(\u001b[39mself\u001b[39m, \u001b[39m*\u001b[39margs, \u001b[39m*\u001b[39m\u001b[39m*\u001b[39mkwargs) \u001b[39m-\u001b[39m\u001b[39m>\u001b[39m Dict[\u001b[39mstr\u001b[39m, Any]:\n\u001b[1;32m    243\u001b[0m \u001b[39m    \u001b[39m\u001b[39m\"\"\"\u001b[39;00m\n\u001b[1;32m    244\u001b[0m \u001b[39m    Wrapped call to self.app.__call__ with instrumentation. If you need to\u001b[39;00m\n\u001b[1;32m    245\u001b[0m \u001b[39m    get the record, use `call_with_record` instead. \u001b[39;00m\n\u001b[1;32m    246\u001b[0m \u001b[39m    \"\"\"\u001b[39;00m\n\u001b[0;32m--> 248\u001b[0m     \u001b[39mreturn\u001b[39;00m \u001b[39mself\u001b[39;49m\u001b[39m.\u001b[39;49m_call(\u001b[39m*\u001b[39;49margs, \u001b[39m*\u001b[39;49m\u001b[39m*\u001b[39;49mkwargs)\n",
      "File \u001b[0;32m~/Dropbox/repos/github/trulens/trulens_eval/trulens_eval/tru_chain.py:260\u001b[0m, in \u001b[0;36mTruChain._call\u001b[0;34m(self, *args, **kwargs)\u001b[0m\n\u001b[1;32m    251\u001b[0m \u001b[39mdef\u001b[39;00m \u001b[39m_call\u001b[39m(\u001b[39mself\u001b[39m, \u001b[39m*\u001b[39margs, \u001b[39m*\u001b[39m\u001b[39m*\u001b[39mkwargs) \u001b[39m-\u001b[39m\u001b[39m>\u001b[39m Any:\n\u001b[1;32m    252\u001b[0m     \u001b[39m# TODO(piotrm): figure out whether the combination of _call and __call__ is\u001b[39;00m\n\u001b[1;32m    253\u001b[0m     \u001b[39m# working right.\u001b[39;00m\n\u001b[0;32m   (...)\u001b[0m\n\u001b[1;32m    258\u001b[0m \n\u001b[1;32m    259\u001b[0m     \u001b[39m# TODO: Why not recording here?\u001b[39;00m\n\u001b[0;32m--> 260\u001b[0m     ret, _ \u001b[39m=\u001b[39m \u001b[39mself\u001b[39;49m\u001b[39m.\u001b[39;49mcall_with_record(\u001b[39m*\u001b[39;49margs, \u001b[39m*\u001b[39;49m\u001b[39m*\u001b[39;49mkwargs)\n\u001b[1;32m    262\u001b[0m     \u001b[39mreturn\u001b[39;00m ret\n",
      "File \u001b[0;32m~/Dropbox/repos/github/trulens/trulens_eval/trulens_eval/tru_chain.py:237\u001b[0m, in \u001b[0;36mTruChain.call_with_record\u001b[0;34m(self, inputs, **kwargs)\u001b[0m\n\u001b[1;32m    236\u001b[0m \u001b[39mdef\u001b[39;00m \u001b[39mcall_with_record\u001b[39m(\u001b[39mself\u001b[39m, inputs: Union[Dict[\u001b[39mstr\u001b[39m, Any], Any], \u001b[39m*\u001b[39m\u001b[39m*\u001b[39mkwargs) \u001b[39m-\u001b[39m\u001b[39m>\u001b[39m Tuple[Any, Record]:\n\u001b[0;32m--> 237\u001b[0m     \u001b[39mreturn\u001b[39;00m \u001b[39mself\u001b[39;49m\u001b[39m.\u001b[39;49m__root(\u001b[39mself\u001b[39;49m\u001b[39m.\u001b[39;49mapp\u001b[39m.\u001b[39;49m_call, inputs, \u001b[39m*\u001b[39;49m\u001b[39m*\u001b[39;49mkwargs)\n",
      "File \u001b[0;32m~/Dropbox/repos/github/trulens/trulens_eval/trulens_eval/tru_chain.py:168\u001b[0m, in \u001b[0;36mTruChain.__root\u001b[0;34m(self, func, *args, **kwargs)\u001b[0m\n\u001b[1;32m    164\u001b[0m \u001b[39masync\u001b[39;00m \u001b[39mdef\u001b[39;00m \u001b[39mfunc_async\u001b[39m(\u001b[39m*\u001b[39margs, \u001b[39m*\u001b[39m\u001b[39m*\u001b[39mkwargs):\n\u001b[1;32m    165\u001b[0m     \u001b[39mreturn\u001b[39;00m func(\u001b[39m*\u001b[39margs, \u001b[39m*\u001b[39m\u001b[39m*\u001b[39mkwargs)\n\u001b[0;32m--> 168\u001b[0m asyncio\u001b[39m.\u001b[39;49mwait_for(\n\u001b[1;32m    169\u001b[0m     \u001b[39mself\u001b[39;49m\u001b[39m.\u001b[39;49m__async_root(func_async, \u001b[39m*\u001b[39;49margs, \u001b[39m*\u001b[39;49m\u001b[39m*\u001b[39;49mkwargs),\n\u001b[1;32m    170\u001b[0m     timeout\u001b[39m=\u001b[39;49m\u001b[39mNone\u001b[39;49;00m\n\u001b[1;32m    171\u001b[0m )\u001b[39m.\u001b[39;49m\u001b[39m__next__\u001b[39;49m()\n",
      "\u001b[0;31mAttributeError\u001b[0m: 'coroutine' object has no attribute '__next__'"
     ]
    }
   ],
   "source": [
    "selectors = [0,1,3,4]\n",
    "messages = [\"Who is Shayak?\", \"Wer ist Shayak?\", \"Kim jest Shayak?\", \"¿Quién es Shayak?\", \"Was ist QII?\", \"Co jest QII?\"]\n",
    "\n",
    "selectors = selectors[2:3]\n",
    "messages = messages[2:3]\n",
    "\n",
    "def test_bot(selector, question):\n",
    "    print(selector, question)\n",
    "    app = get_or_make_app(cid=question + str(selector), selector=selector)\n",
    "    answer = get_answer(app=app, question=question)\n",
    "    return answer\n",
    "\n",
    "results = []\n",
    "\n",
    "for s in selectors:\n",
    "    for m in messages:\n",
    "        # results.append(TP().promise(test_bot, selector=s, question=m))\n",
    "        results.append(test_bot(selector=s, question=m))"
   ]
  },
  {
   "cell_type": "code",
   "execution_count": null,
   "metadata": {},
   "outputs": [],
   "source": [
    "thread = Tru().start_evaluator(restart=True)"
   ]
  },
  {
   "cell_type": "code",
   "execution_count": null,
   "metadata": {},
   "outputs": [],
   "source": []
  }
 ],
 "metadata": {
  "kernelspec": {
   "display_name": "demo3",
   "language": "python",
   "name": "python3"
  },
  "language_info": {
   "codemirror_mode": {
    "name": "ipython",
    "version": 3
   },
   "file_extension": ".py",
   "mimetype": "text/x-python",
   "name": "python",
   "nbconvert_exporter": "python",
   "pygments_lexer": "ipython3",
   "version": "3.8.16"
  },
  "orig_nbformat": 4
 },
 "nbformat": 4,
 "nbformat_minor": 2
}
